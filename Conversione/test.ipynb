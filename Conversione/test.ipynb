{
 "cells": [
  {
   "cell_type": "code",
   "execution_count": 1,
   "metadata": {},
   "outputs": [],
   "source": [
    "import pandas as pd\n",
    "from conversione import conversione as cnv"
   ]
  },
  {
   "cell_type": "code",
   "execution_count": 273,
   "metadata": {},
   "outputs": [],
   "source": [
    "Test = pd.read_csv('https://raw.githubusercontent.com/enzoschitini/Adige/main/Italia/Lezioni.csv')"
   ]
  },
  {
   "cell_type": "code",
   "execution_count": 274,
   "metadata": {},
   "outputs": [],
   "source": [
    "cnv = cnv(data_frame=Test, colonna='Professoressa', valore='Federica')"
   ]
  },
  {
   "cell_type": "code",
   "execution_count": 275,
   "metadata": {},
   "outputs": [
    {
     "data": {
      "image/png": "[encoded data removed]",
      "text/plain": [
       "<Figure size 640x480 with 1 Axes>"
      ]
     },
     "metadata": {},
     "output_type": "display_data"
    }
   ],
   "source": [
    "cnv.grafico('Mese')"
   ]
  },
  {
   "cell_type": "code",
   "execution_count": 276,
   "metadata": {},
   "outputs": [],
   "source": [
    "professoresse = cnv.metriche('Professoressa')[0]\n",
    "livello = cnv.metriche('Professoressa')[1]"
   ]
  },
  {
   "cell_type": "code",
   "execution_count": 277,
   "metadata": {},
   "outputs": [],
   "source": [
    "df = Test"
   ]
  },
  {
   "cell_type": "code",
   "execution_count": 278,
   "metadata": {},
   "outputs": [
    {
     "data": {
      "text/plain": [
       "Mese\n",
       "Agosto       17.0\n",
       "Dicembre      6.0\n",
       "Giugno       17.0\n",
       "Luglio       13.0\n",
       "Maggio        8.0\n",
       "Novembre     10.0\n",
       "Ottobre      16.0\n",
       "Settembre    13.0\n",
       "Name: Index, dtype: float64"
      ]
     },
     "execution_count": 278,
     "metadata": {},
     "output_type": "execute_result"
    }
   ],
   "source": [
    "(df.groupby('Mese')['Index'].count() / df['Index'].count() * 100).round()"
   ]
  },
  {
   "cell_type": "code",
   "execution_count": 279,
   "metadata": {},
   "outputs": [],
   "source": [
    "p=(df.groupby('Mese')['Index'].count() / df['Index'].count() * 100).sort_values(ascending=False)"
   ]
  },
  {
   "cell_type": "code",
   "execution_count": 280,
   "metadata": {},
   "outputs": [
    {
     "data": {
      "text/html": [
       "<div>\n",
       "<style scoped>\n",
       "    .dataframe tbody tr th:only-of-type {\n",
       "        vertical-align: middle;\n",
       "    }\n",
       "\n",
       "    .dataframe tbody tr th {\n",
       "        vertical-align: top;\n",
       "    }\n",
       "\n",
       "    .dataframe thead th {\n",
       "        text-align: right;\n",
       "    }\n",
       "</style>\n",
       "<table border=\"1\" class=\"dataframe\">\n",
       "  <thead>\n",
       "    <tr style=\"text-align: right;\">\n",
       "      <th></th>\n",
       "      <th>Index</th>\n",
       "    </tr>\n",
       "    <tr>\n",
       "      <th>Mese</th>\n",
       "      <th></th>\n",
       "    </tr>\n",
       "  </thead>\n",
       "  <tbody>\n",
       "    <tr>\n",
       "      <th>Agosto</th>\n",
       "      <td>17.460317</td>\n",
       "    </tr>\n",
       "    <tr>\n",
       "      <th>Giugno</th>\n",
       "      <td>16.931217</td>\n",
       "    </tr>\n",
       "    <tr>\n",
       "      <th>Ottobre</th>\n",
       "      <td>15.873016</td>\n",
       "    </tr>\n",
       "    <tr>\n",
       "      <th>Luglio</th>\n",
       "      <td>12.698413</td>\n",
       "    </tr>\n",
       "    <tr>\n",
       "      <th>Settembre</th>\n",
       "      <td>12.698413</td>\n",
       "    </tr>\n",
       "    <tr>\n",
       "      <th>Novembre</th>\n",
       "      <td>10.052910</td>\n",
       "    </tr>\n",
       "    <tr>\n",
       "      <th>Maggio</th>\n",
       "      <td>8.465608</td>\n",
       "    </tr>\n",
       "    <tr>\n",
       "      <th>Dicembre</th>\n",
       "      <td>5.820106</td>\n",
       "    </tr>\n",
       "  </tbody>\n",
       "</table>\n",
       "</div>"
      ],
      "text/plain": [
       "               Index\n",
       "Mese                \n",
       "Agosto     17.460317\n",
       "Giugno     16.931217\n",
       "Ottobre    15.873016\n",
       "Luglio     12.698413\n",
       "Settembre  12.698413\n",
       "Novembre   10.052910\n",
       "Maggio      8.465608\n",
       "Dicembre    5.820106"
      ]
     },
     "execution_count": 280,
     "metadata": {},
     "output_type": "execute_result"
    }
   ],
   "source": [
    "d = pd.DataFrame(p)\n",
    "d"
   ]
  },
  {
   "cell_type": "code",
   "execution_count": 281,
   "metadata": {},
   "outputs": [
    {
     "name": "stdout",
     "output_type": "stream",
     "text": [
      "        Mese      Index\n",
      "6     Maggio   8.465608\n",
      "1     Giugno  16.931217\n",
      "3     Luglio  12.698413\n",
      "0     Agosto  17.460317\n",
      "4  Settembre  12.698413\n",
      "2    Ottobre  15.873016\n",
      "5   Novembre  10.052910\n",
      "7   Dicembre   5.820106\n"
     ]
    }
   ],
   "source": [
    "import pandas as pd\n",
    "\n",
    "# Creazione del DataFrame\n",
    "df = pd.DataFrame({'Mese': ['Agosto', 'Giugno', 'Ottobre', 'Luglio', 'Settembre', 'Novembre', 'Maggio', 'Dicembre'],\n",
    "                   'Index': [17.460317, 16.931217, 15.873016, 12.698413, 12.698413, 10.052910, 8.465608, 5.820106]})\n",
    "\n",
    "# Conversione della colonna Mese in una categoria con l'ordine corretto dei mesi\n",
    "mesi_ordinati = ['Gennaio', 'Febbraio', 'Marzo', 'Aprile', 'Maggio','Giugno','Luglio','Agosto','Settembre','Ottobre','Novembre','Dicembre']\n",
    "df['Mese'] = pd.Categorical(df['Mese'], categories=mesi_ordinati, ordered=True)\n",
    "\n",
    "# Ordinamento del DataFrame in base alla colonna Mese\n",
    "df = df.sort_values('Mese')\n",
    "\n",
    "print(df)\n"
   ]
  }
 ],
 "metadata": {
  "kernelspec": {
   "display_name": "Python 3",
   "language": "python",
   "name": "python3"
  },
  "language_info": {
   "codemirror_mode": {
    "name": "ipython",
    "version": 3
   },
   "file_extension": ".py",
   "mimetype": "text/x-python",
   "name": "python",
   "nbconvert_exporter": "python",
   "pygments_lexer": "ipython3",
   "version": "3.11.5"
  }
 },
 "nbformat": 4,
 "nbformat_minor": 2
}

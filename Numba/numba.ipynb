{
 "cells": [
  {
   "cell_type": "code",
   "execution_count": null,
   "metadata": {},
   "outputs": [],
   "source": [
    "# Calcoli delle prestazioni\n",
    "import time\n",
    "from numba import jit, njit\n",
    "import random\n",
    "import numpy as np\n",
    "\n",
    "def add_csv(add:list):\n",
    "    with open(file='./numba.csv', mode='a', encoding='utf-8') as fp:\n",
    "        fp.write(str(add) + '\\n')\n",
    "\n",
    "# Un miliardo\n",
    "for x in range(10):\n",
    "    def valore_con_tassa(qtt):\n",
    "        for i in range(qtt):\n",
    "            nuovo_valore = qtt * 1.1\n",
    "    avvio = time.time()\n",
    "    valore_con_tassa(1000000000)\n",
    "    fine = time.time()\n",
    "    tempo = round(fine - avvio, 2)\n",
    "    string = 'Miliardo' + ',' + str(tempo) + ',' + 'N'\n",
    "    add_csv(string)\n",
    "\n",
    "for x in range(10):\n",
    "    @njit\n",
    "    def valore_con_tassa(qtt):\n",
    "        for i in range(qtt):\n",
    "            nuovo_valore = qtt * 1.1\n",
    "    avvio = time.time()\n",
    "    valore_con_tassa(1000000000)\n",
    "    fine = time.time()\n",
    "    tempo = round(fine - avvio, 2)\n",
    "    string = 'Miliardo' + ',' + str(tempo) + ',' + 'S'\n",
    "    add_csv(string)\n",
    "\n",
    "# Array Numpy\n",
    "array = np.random.randint(1000, 10000, 10000000)\n",
    "\n",
    "for x in range(10):\n",
    "    def valore_con_tassa(lista):\n",
    "        aumento_totale = 0\n",
    "        for x in lista:\n",
    "            if x > 5000:\n",
    "                valore = x * 1.1\n",
    "            else:\n",
    "                valore = x\n",
    "            aumento_totale += valore - x\n",
    "        return aumento_totale\n",
    "    avvio = time.time()\n",
    "    valore_con_tassa(array)\n",
    "    fine = time.time()\n",
    "    tempo = round(fine - avvio, 2)\n",
    "    string = 'Array' + ',' + str(tempo) + ',' + 'N'\n",
    "    add_csv(string)\n",
    "\n",
    "array = np.random.randint(1000, 10000, 10000000)\n",
    "\n",
    "for x in range(10):\n",
    "    @njit\n",
    "    def valore_con_tassa(lista):\n",
    "        aumento_totale = 0\n",
    "        for x in lista:\n",
    "            if x > 5000:\n",
    "                valore = x * 1.1\n",
    "            else:\n",
    "                valore = x\n",
    "            aumento_totale += valore - x\n",
    "        return aumento_totale\n",
    "    avvio = time.time()\n",
    "    valore_con_tassa(array)\n",
    "    fine = time.time()\n",
    "    tempo = round(fine - avvio, 2)\n",
    "    string = 'Array' + ',' + str(tempo) + ',' + 'S'\n",
    "    add_csv(string)\n",
    "\n",
    "# Tempo di eseguimento 8m 45.9s"
   ]
  },
  {
   "cell_type": "markdown",
   "metadata": {},
   "source": [
    "### `Analisi Esplorativa`"
   ]
  },
  {
   "cell_type": "code",
   "execution_count": null,
   "metadata": {},
   "outputs": [],
   "source": [
    "csv_base = './numba.csv'"
   ]
  },
  {
   "cell_type": "code",
   "execution_count": null,
   "metadata": {},
   "outputs": [],
   "source": [
    "def valore_abbreviato(valore:str) -> str:\n",
    "    alg_valore = list(valore)\n",
    "    num_punt = sum(map(lambda x: x == '.', valore))\n",
    "    for x in range(num_punt):\n",
    "     alg_valore.remove('.')\n",
    "    numero = int(\"\".join(alg_valore))\n",
    "    numero_format = \"{:,}\".format(numero).replace(\",\", \".\")\n",
    "    return numero_format"
   ]
  },
  {
   "cell_type": "code",
   "execution_count": null,
   "metadata": {},
   "outputs": [],
   "source": [
    "import pandas as pd\n",
    "df = pd.read_csv(csv_base, na_values='na')\n",
    "\n",
    "struttura = df.shape\n",
    "struttura = str(struttura).replace('(', '').replace(')', '')\n",
    "struttura = str(struttura).strip().split(sep=',')\n",
    "print(f'Inormazioni dei dati: {valore_abbreviato(struttura[0])} righe e {valore_abbreviato(struttura[1])} colonne.')"
   ]
  },
  {
   "cell_type": "code",
   "execution_count": null,
   "metadata": {},
   "outputs": [],
   "source": [
    "df.dtypes"
   ]
  },
  {
   "cell_type": "code",
   "execution_count": null,
   "metadata": {},
   "outputs": [],
   "source": [
    "df.select_dtypes('object').describe().transpose() # freq / count = %"
   ]
  },
  {
   "cell_type": "code",
   "execution_count": null,
   "metadata": {},
   "outputs": [],
   "source": [
    "df.isna().any()"
   ]
  },
  {
   "cell_type": "code",
   "execution_count": null,
   "metadata": {},
   "outputs": [],
   "source": [
    "print(df[df['operazione'] == 'Miliardo'].shape)\n",
    "print(df[df['operazione'] == 'Array'].shape)"
   ]
  },
  {
   "cell_type": "code",
   "execution_count": null,
   "metadata": {},
   "outputs": [],
   "source": [
    "qtd_totale, _ = df.shape\n",
    "qtd_elemento, _ = df[df['operazione'] == 'Miliardo'].shape\n",
    "print(f'Totale: {valore_abbreviato(str(qtd_totale))} e elemento cercato: {valore_abbreviato(str(qtd_elemento))}')\n",
    "print(f\"La proporzione dell'elemento cercato è: {round(100 * qtd_elemento / qtd_totale, 2)}%\")"
   ]
  },
  {
   "cell_type": "markdown",
   "metadata": {},
   "source": [
    "### `Grafici e numeri`"
   ]
  },
  {
   "cell_type": "code",
   "execution_count": 12,
   "metadata": {},
   "outputs": [
    {
     "name": "stdout",
     "output_type": "stream",
     "text": [
      "Inormazioni dei dati: 40 righe e 3 colonne.\n",
      "dati prelevati in circa: 8.71 Minuti\n",
      "------------------------------------- \n",
      "\n",
      "La media di Miliardo N è: 42.24 secondi\n",
      "La media di Miliardo S è: 0.04 secondi\n",
      "99.91% \n",
      "\n",
      "La media di Array N è: 9.89 secondi\n",
      "La media di Array S è: 0.1 secondi\n",
      "98.99% \n",
      "\n"
     ]
    },
    {
     "data": {
      "image/png": "[encoded data removed]",
      "text/plain": [
       "<Figure size 640x480 with 1 Axes>"
      ]
     },
     "metadata": {},
     "output_type": "display_data"
    },
    {
     "name": "stdout",
     "output_type": "stream",
     "text": [
      "\n",
      "\n",
      "-------------------------------------\n",
      "Durata: 0.2 secondi\n"
     ]
    }
   ],
   "source": [
    "# Prestazioni di Numba\n",
    "###------------------------------------------------------####\n",
    "\n",
    "from functools import reduce\n",
    "import matplotlib.pyplot as plt\n",
    "import pandas as pd\n",
    "import time\n",
    "\n",
    "from adige import ArquivoCSV\n",
    "\n",
    "avvio = time.time()\n",
    "csv_base = './numba.csv'\n",
    "\n",
    "# Analisi esplorativa\n",
    "###------------------------------------------------------####\n",
    "\n",
    "df = pd.read_csv(csv_base, na_values='na')\n",
    "\n",
    "def valore_abbreviato(valore:str) -> str:\n",
    "    alg_valore = list(valore)\n",
    "    num_punt = sum(map(lambda x: x == '.', valore))\n",
    "    for x in range(num_punt):\n",
    "     alg_valore.remove('.')\n",
    "    numero = int(\"\".join(alg_valore))\n",
    "    numero_format = \"{:,}\".format(numero).replace(\",\", \".\")\n",
    "    return numero_format\n",
    "\n",
    "struttura = df.shape\n",
    "struttura = str(struttura).replace('(', '').replace(')', '')\n",
    "struttura = str(struttura).strip().split(sep=',')\n",
    "print(f'Inormazioni dei dati: {valore_abbreviato(struttura[0])} righe e {valore_abbreviato(struttura[1])} colonne.')\n",
    "\n",
    "csv = ArquivoCSV(csv_base)\n",
    "durata_prelevati = csv.extrair_coluna(1)\n",
    "durata_prelevati = list(map(float, durata_prelevati))\n",
    "durata_prelevati = reduce(lambda x, y: x + y, durata_prelevati) / 60.0\n",
    "print(f'dati prelevati in circa: {round(durata_prelevati, 2)} Minuti')\n",
    "print(\"------------------------------------- \\n\")\n",
    "\n",
    "# Numeri\n",
    "###------------------------------------------------------####\n",
    "\n",
    "def media(op:str, numba:str):\n",
    "    valori = []\n",
    "    with open(file=csv_base, mode='r', encoding='utf-8') as fp:\n",
    "        line = fp.readline()\n",
    "        line = fp.readline()\n",
    "        while line:\n",
    "            line = line.strip().split(sep=',')\n",
    "            if (line[0] == op) & (line[2] == numba):\n",
    "                valori.append(float(line[1]))\n",
    "                line = fp.readline()\n",
    "            else:\n",
    "                line = fp.readline()\n",
    "\n",
    "    somma = reduce(lambda x, y: x + y, valori)\n",
    "    media_totale = somma / len(valori)\n",
    "    lista = valori\n",
    "\n",
    "    return round(float(media_totale), 2), lista\n",
    "\n",
    "miliardo = media(op='Miliardo', numba='N')[0]\n",
    "print(f'La media di Miliardo N è: {miliardo} secondi')\n",
    "num1 = miliardo\n",
    "miliardo = media(op='Miliardo', numba='S')[0]\n",
    "print(f'La media di Miliardo S è: {miliardo} secondi')\n",
    "num2 = miliardo\n",
    "differenza = num1 - num2\n",
    "percentuale = (differenza / num1) * 100\n",
    "print(f'{round(percentuale, 2)}% \\n')\n",
    "\n",
    "array = media(op='Array', numba='N')[0]\n",
    "print(f'La media di Array N è: {array} secondi')\n",
    "num1 = array\n",
    "array = media(op='Array', numba='S')[0]\n",
    "print(f'La media di Array S è: {array} secondi')\n",
    "num2 = array\n",
    "differenza = num1 - num2\n",
    "percentuale = (differenza / num1) * 100\n",
    "print(f'{round(percentuale, 2)}% \\n')\n",
    "\n",
    "# Grafici\n",
    "###------------------------------------------------------####\n",
    "\n",
    "def grafici():\n",
    "\n",
    "  x = []\n",
    "  y1 = media(op='Miliardo', numba='N')[1]\n",
    "  y2 = media(op='Miliardo', numba='S')[1]\n",
    "  y3 = media(op='Array', numba='N')[1]\n",
    "\n",
    "  totale = len(media(op='Miliardo', numba='N')[1])\n",
    "  ordine = -1\n",
    "  for i in range(totale):\n",
    "      ordine += 1\n",
    "      x.append(ordine)\n",
    "  \n",
    "  plt.plot(x,y1,color='blue',label='Miliardo Not Numba')\n",
    "  plt.plot(x,y2,color='green',label='Miliardo Numba')\n",
    "  plt.plot(x,y3,color='blue',label='Array Not Numba')\n",
    "  plt.legend()\n",
    "  plt.title('Numba metrics')\n",
    "  plt.xlabel('programs')\n",
    "  plt.ylabel('seconds')\n",
    "  plt.grid()\n",
    "  plt.savefig('Numba metrics')\n",
    "  plt.show()\n",
    "\n",
    "grafici()\n",
    "\n",
    "###------------------------------------------------------####\n",
    "fine = time.time()\n",
    "print('\\n')\n",
    "print(\"-------------------------------------\")\n",
    "print(f'Durata: {round((fine - avvio), 2)} secondi')"
   ]
  },
  {
   "cell_type": "markdown",
   "metadata": {},
   "source": [
    "Developed by Enzo Schitini 😉"
   ]
  }
 ],
 "metadata": {
  "kernelspec": {
   "display_name": "Python 3",
   "language": "python",
   "name": "python3"
  },
  "language_info": {
   "codemirror_mode": {
    "name": "ipython",
    "version": 3
   },
   "file_extension": ".py",
   "mimetype": "text/x-python",
   "name": "python",
   "nbconvert_exporter": "python",
   "pygments_lexer": "ipython3",
   "version": "3.11.5"
  }
 },
 "nbformat": 4,
 "nbformat_minor": 2
}

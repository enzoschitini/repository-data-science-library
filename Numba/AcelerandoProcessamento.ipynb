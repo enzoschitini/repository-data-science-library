{
 "cells": [
  {
   "cell_type": "markdown",
   "id": "f0822cb8",
   "metadata": {},
   "source": [
    "## Acelerando o processamento dos seus calculos em Python"
   ]
  },
  {
   "cell_type": "code",
   "execution_count": 1,
   "id": "0d2e7996",
   "metadata": {},
   "outputs": [],
   "source": [
    "import time"
   ]
  },
  {
   "cell_type": "code",
   "execution_count": 2,
   "id": "75ca165c",
   "metadata": {},
   "outputs": [],
   "source": [
    "# Função sendo criada normalmente\n",
    "def valor_com_reajuste(qtde):\n",
    "    for i in range(qtde):\n",
    "        novo_valor = qtde * 1.2"
   ]
  },
  {
   "cell_type": "code",
   "execution_count": 3,
   "id": "d6ffbf8e",
   "metadata": {},
   "outputs": [
    {
     "name": "stdout",
     "output_type": "stream",
     "text": [
      "Tempo de processamento sem o Numba 95.00561833381653\n"
     ]
    }
   ],
   "source": [
    "# Execução da função em seu tempo normal de processamento\n",
    "inicio = time.time()\n",
    "valor_com_reajuste(1000000000)\n",
    "fim = time.time()\n",
    "print('Tempo de processamento sem o Numba', fim - inicio)"
   ]
  },
  {
   "cell_type": "code",
   "execution_count": null,
   "id": "7fb45498",
   "metadata": {},
   "outputs": [],
   "source": []
  },
  {
   "cell_type": "code",
   "execution_count": null,
   "id": "d5eb597d",
   "metadata": {},
   "outputs": [],
   "source": []
  },
  {
   "cell_type": "code",
   "execution_count": null,
   "id": "a28c15d7",
   "metadata": {},
   "outputs": [],
   "source": []
  },
  {
   "cell_type": "code",
   "execution_count": null,
   "id": "15bd73be",
   "metadata": {},
   "outputs": [],
   "source": []
  },
  {
   "cell_type": "code",
   "execution_count": null,
   "id": "b7c560b7",
   "metadata": {},
   "outputs": [],
   "source": []
  },
  {
   "cell_type": "code",
   "execution_count": 4,
   "id": "088422fd",
   "metadata": {},
   "outputs": [],
   "source": [
    "# Utilizando o NUMBA\n",
    "# https://numba.readthedocs.io/en/stable/user/5minguide.html\n",
    "# !pip install numba\n",
    "from numba import jit, njit"
   ]
  },
  {
   "cell_type": "code",
   "execution_count": 5,
   "id": "30461fed",
   "metadata": {},
   "outputs": [],
   "source": [
    "@njit\n",
    "def valor_com_reajuste(qtde):\n",
    "    for i in range(qtde):\n",
    "        novo_valor = qtde * 1.2"
   ]
  },
  {
   "cell_type": "code",
   "execution_count": 6,
   "id": "9c630c10",
   "metadata": {},
   "outputs": [
    {
     "name": "stdout",
     "output_type": "stream",
     "text": [
      "Tempo de processamento sem o Numba 1.7044034004211426\n"
     ]
    }
   ],
   "source": [
    "# Executando a função com o NUMBA\n",
    "inicio = time.time()\n",
    "valor_com_reajuste(1000000000)\n",
    "fim = time.time()\n",
    "print('Tempo de processamento sem o Numba', fim - inicio)"
   ]
  },
  {
   "cell_type": "code",
   "execution_count": null,
   "id": "32703c2b",
   "metadata": {},
   "outputs": [],
   "source": []
  },
  {
   "cell_type": "code",
   "execution_count": null,
   "id": "70720aef",
   "metadata": {},
   "outputs": [],
   "source": []
  },
  {
   "cell_type": "code",
   "execution_count": null,
   "id": "e8b205cf",
   "metadata": {},
   "outputs": [],
   "source": []
  },
  {
   "cell_type": "code",
   "execution_count": null,
   "id": "efefc79a",
   "metadata": {},
   "outputs": [],
   "source": []
  },
  {
   "cell_type": "code",
   "execution_count": null,
   "id": "ae4b8b6b",
   "metadata": {},
   "outputs": [],
   "source": []
  },
  {
   "cell_type": "code",
   "execution_count": null,
   "id": "77f00a8c",
   "metadata": {},
   "outputs": [],
   "source": []
  },
  {
   "cell_type": "code",
   "execution_count": 7,
   "id": "d43a3b16",
   "metadata": {},
   "outputs": [],
   "source": [
    "import numpy as np"
   ]
  },
  {
   "cell_type": "code",
   "execution_count": 8,
   "id": "ab526ff4",
   "metadata": {},
   "outputs": [
    {
     "name": "stdout",
     "output_type": "stream",
     "text": [
      "[1337 2674 6710 ... 1644 1791 8704]\n"
     ]
    }
   ],
   "source": [
    "# Gerando valores aleatorios começando em 1.000, indo até 10.000 e gerando 100 milhoes de registros\n",
    "valores = np.random.randint(1000,10000,100000000)\n",
    "print(valores)"
   ]
  },
  {
   "cell_type": "code",
   "execution_count": 9,
   "id": "6f35e174",
   "metadata": {},
   "outputs": [],
   "source": [
    "# Declarando a função em o NUMBA\n",
    "def valor_com_reajuste(valores):\n",
    "    aumento_total = 0\n",
    "    for item in valores:\n",
    "        if item > 5000:\n",
    "            valor = item * 1.1\n",
    "        else:\n",
    "            valor = item\n",
    "        aumento_total += valor - item\n",
    "    return aumento_total       "
   ]
  },
  {
   "cell_type": "code",
   "execution_count": 10,
   "id": "fca71564",
   "metadata": {},
   "outputs": [
    {
     "name": "stdout",
     "output_type": "stream",
     "text": [
      "Tempo de processamento sem o Numba 280.58976459503174\n"
     ]
    }
   ],
   "source": [
    "# Executando a função sem o NUMBA\n",
    "inicio = time.time()\n",
    "valor_com_reajuste(valores)\n",
    "fim = time.time()\n",
    "print('Tempo de processamento sem o Numba', fim - inicio)"
   ]
  },
  {
   "cell_type": "code",
   "execution_count": null,
   "id": "9eb18e50",
   "metadata": {},
   "outputs": [],
   "source": []
  },
  {
   "cell_type": "code",
   "execution_count": null,
   "id": "1cfac625",
   "metadata": {},
   "outputs": [],
   "source": []
  },
  {
   "cell_type": "code",
   "execution_count": 11,
   "id": "f9f1c34f",
   "metadata": {},
   "outputs": [],
   "source": [
    "# Declarando a função com o NUMBA\n",
    "@njit\n",
    "def valor_com_reajuste(valores):\n",
    "    aumento_total = 0\n",
    "    for item in valores:\n",
    "        if item > 5000:\n",
    "            valor = item * 1.1\n",
    "        else:\n",
    "            valor = item\n",
    "        aumento_total += valor - item\n",
    "    return aumento_total       "
   ]
  },
  {
   "cell_type": "code",
   "execution_count": 12,
   "id": "2fb7cfa0",
   "metadata": {},
   "outputs": [
    {
     "name": "stdout",
     "output_type": "stream",
     "text": [
      "Tempo de processamento sem o Numba 0.99855637550354\n"
     ]
    }
   ],
   "source": [
    "# Executando a função com o NUMBA\n",
    "inicio = time.time()\n",
    "valor_com_reajuste(valores)\n",
    "fim = time.time()\n",
    "print('Tempo de processamento sem o Numba', fim - inicio)"
   ]
  },
  {
   "cell_type": "code",
   "execution_count": null,
   "id": "2035850e",
   "metadata": {},
   "outputs": [],
   "source": []
  }
 ],
 "metadata": {
  "kernelspec": {
   "display_name": "Python 3 (ipykernel)",
   "language": "python",
   "name": "python3"
  },
  "language_info": {
   "codemirror_mode": {
    "name": "ipython",
    "version": 3
   },
   "file_extension": ".py",
   "mimetype": "text/x-python",
   "name": "python",
   "nbconvert_exporter": "python",
   "pygments_lexer": "ipython3",
   "version": "3.10.9"
  }
 },
 "nbformat": 4,
 "nbformat_minor": 5
}

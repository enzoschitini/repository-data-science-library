{
 "cells": [
  {
   "cell_type": "markdown",
   "metadata": {},
   "source": [
    "# Como Tratar Dados Ausentes com Pandas\n",
    "\n",
    "Uma das maiores dificuldades da etapa exploratória dos dados em um projeto de Data Science é limpar os dados, o que envolve lidar com dados faltantes.\n",
    "\n",
    "Durante a fase em que estamos aprendendo, lendo livros e seguindo tutoriais, não temos tanto esse tipo de trabalho, pois os dados já vêm mais \"redondinhos\".\n",
    "\n",
    "Entretanto, essa não é a realidade do mundo real, onde a gente vai se deparar com uma infinidade de problemas e *missing data*.\n",
    "\n",
    "Excluir, completar ou ignorar?! Qual a melhor abordagem?\n",
    "\n",
    "Hoje nós vamos falar sobre as principais técnicas para lidar com dados ausentes e entender o *trade-off* entre elas."
   ]
  },
  {
   "cell_type": "markdown",
   "metadata": {},
   "source": [
    "## Identificando dados ausentes\n",
    "\n",
    "Algoritmos de *Machine Learning* não são capazes de lidar com valores ausentes (*missing data*). Se você já tentou rodar, viu que a mensagem de erro é bem clara em relação a isso.\n",
    "\n",
    "Um valor ausente é facilmente identificado nos campos da sua estrutura de dados como ```NaN```. Para seu modelo rodar sem problemas, você tem que limpar os dados (*data cleaning*) em uma etapa anterior. É aí que surge a dúvida: o que eu faço com eles?\n",
    "\n",
    "Não existe uma resposta 100% correta, pois cada abordagem tem suas vantagens e desvantagens, mas vamos dar uma olhada naquelas que são mais usadas.\n",
    "\n",
    "Para isso, vamos importar um conjunto de dados do [Kaggle](https://www.kaggle.com/c/house-prices-advanced-regression-techniques/data) para usar de exemplo.\n",
    "\n",
    "### Importando os dados\n",
    "\n",
    "Vou usar o conjunto de dados [House Prices: Advanced Regression Techniques](https://www.kaggle.com/c/house-prices-advanced-regression-techniques/data) neste exemplo, pois ele apresenta várias colunas com valores inexistentes.\n",
    "\n",
    "Nesse *dataset*, temos 80 variáveis (colunas) e 1460 entradas (linhas) no arquivo **train.csv**. Eu vou baixar apenas esse arquivo, e vou usar a (Kaggle API)(https://www.kaggle.com/docs/api), uma vez que ela me permite baixar o arquivo diretamente do Terminal.\n",
    "\n",
    "Se você não conhece a API, (olhe a documentação no Github)[https://github.com/Kaggle/kaggle-api]. Aprender a usar essa API vai te ajudar muito, não apenas pela facilidade, mas porque deixa seu *notebook* replicável para quem clonar ele."
   ]
  },
  {
   "cell_type": "code",
   "execution_count": 1,
   "metadata": {},
   "outputs": [
    {
     "name": "stdout",
     "output_type": "stream",
     "text": [
      "train.csv: Skipping, found more recently modified local copy (use --force to force download)\r\n"
     ]
    }
   ],
   "source": [
    "!mkdir -p data\n",
    "!kaggle competitions download -c house-prices-advanced-regression-techniques -f train.csv -p data"
   ]
  },
  {
   "cell_type": "code",
   "execution_count": 7,
   "metadata": {},
   "outputs": [
    {
     "data": {
      "text/html": [
       "<div>\n",
       "<style scoped>\n",
       "    .dataframe tbody tr th:only-of-type {\n",
       "        vertical-align: middle;\n",
       "    }\n",
       "\n",
       "    .dataframe tbody tr th {\n",
       "        vertical-align: top;\n",
       "    }\n",
       "\n",
       "    .dataframe thead th {\n",
       "        text-align: right;\n",
       "    }\n",
       "</style>\n",
       "<table border=\"1\" class=\"dataframe\">\n",
       "  <thead>\n",
       "    <tr style=\"text-align: right;\">\n",
       "      <th></th>\n",
       "      <th>Id</th>\n",
       "      <th>MSSubClass</th>\n",
       "      <th>MSZoning</th>\n",
       "      <th>LotFrontage</th>\n",
       "      <th>LotArea</th>\n",
       "      <th>Street</th>\n",
       "      <th>Alley</th>\n",
       "      <th>LotShape</th>\n",
       "      <th>LandContour</th>\n",
       "      <th>Utilities</th>\n",
       "      <th>...</th>\n",
       "      <th>PoolArea</th>\n",
       "      <th>PoolQC</th>\n",
       "      <th>Fence</th>\n",
       "      <th>MiscFeature</th>\n",
       "      <th>MiscVal</th>\n",
       "      <th>MoSold</th>\n",
       "      <th>YrSold</th>\n",
       "      <th>SaleType</th>\n",
       "      <th>SaleCondition</th>\n",
       "      <th>SalePrice</th>\n",
       "    </tr>\n",
       "  </thead>\n",
       "  <tbody>\n",
       "    <tr>\n",
       "      <th>0</th>\n",
       "      <td>1</td>\n",
       "      <td>60</td>\n",
       "      <td>RL</td>\n",
       "      <td>65.0</td>\n",
       "      <td>8450</td>\n",
       "      <td>Pave</td>\n",
       "      <td>NaN</td>\n",
       "      <td>Reg</td>\n",
       "      <td>Lvl</td>\n",
       "      <td>AllPub</td>\n",
       "      <td>...</td>\n",
       "      <td>0</td>\n",
       "      <td>NaN</td>\n",
       "      <td>NaN</td>\n",
       "      <td>NaN</td>\n",
       "      <td>0</td>\n",
       "      <td>2</td>\n",
       "      <td>2008</td>\n",
       "      <td>WD</td>\n",
       "      <td>Normal</td>\n",
       "      <td>208500</td>\n",
       "    </tr>\n",
       "    <tr>\n",
       "      <th>1</th>\n",
       "      <td>2</td>\n",
       "      <td>20</td>\n",
       "      <td>RL</td>\n",
       "      <td>80.0</td>\n",
       "      <td>9600</td>\n",
       "      <td>Pave</td>\n",
       "      <td>NaN</td>\n",
       "      <td>Reg</td>\n",
       "      <td>Lvl</td>\n",
       "      <td>AllPub</td>\n",
       "      <td>...</td>\n",
       "      <td>0</td>\n",
       "      <td>NaN</td>\n",
       "      <td>NaN</td>\n",
       "      <td>NaN</td>\n",
       "      <td>0</td>\n",
       "      <td>5</td>\n",
       "      <td>2007</td>\n",
       "      <td>WD</td>\n",
       "      <td>Normal</td>\n",
       "      <td>181500</td>\n",
       "    </tr>\n",
       "    <tr>\n",
       "      <th>2</th>\n",
       "      <td>3</td>\n",
       "      <td>60</td>\n",
       "      <td>RL</td>\n",
       "      <td>68.0</td>\n",
       "      <td>11250</td>\n",
       "      <td>Pave</td>\n",
       "      <td>NaN</td>\n",
       "      <td>IR1</td>\n",
       "      <td>Lvl</td>\n",
       "      <td>AllPub</td>\n",
       "      <td>...</td>\n",
       "      <td>0</td>\n",
       "      <td>NaN</td>\n",
       "      <td>NaN</td>\n",
       "      <td>NaN</td>\n",
       "      <td>0</td>\n",
       "      <td>9</td>\n",
       "      <td>2008</td>\n",
       "      <td>WD</td>\n",
       "      <td>Normal</td>\n",
       "      <td>223500</td>\n",
       "    </tr>\n",
       "    <tr>\n",
       "      <th>3</th>\n",
       "      <td>4</td>\n",
       "      <td>70</td>\n",
       "      <td>RL</td>\n",
       "      <td>60.0</td>\n",
       "      <td>9550</td>\n",
       "      <td>Pave</td>\n",
       "      <td>NaN</td>\n",
       "      <td>IR1</td>\n",
       "      <td>Lvl</td>\n",
       "      <td>AllPub</td>\n",
       "      <td>...</td>\n",
       "      <td>0</td>\n",
       "      <td>NaN</td>\n",
       "      <td>NaN</td>\n",
       "      <td>NaN</td>\n",
       "      <td>0</td>\n",
       "      <td>2</td>\n",
       "      <td>2006</td>\n",
       "      <td>WD</td>\n",
       "      <td>Abnorml</td>\n",
       "      <td>140000</td>\n",
       "    </tr>\n",
       "    <tr>\n",
       "      <th>4</th>\n",
       "      <td>5</td>\n",
       "      <td>60</td>\n",
       "      <td>RL</td>\n",
       "      <td>84.0</td>\n",
       "      <td>14260</td>\n",
       "      <td>Pave</td>\n",
       "      <td>NaN</td>\n",
       "      <td>IR1</td>\n",
       "      <td>Lvl</td>\n",
       "      <td>AllPub</td>\n",
       "      <td>...</td>\n",
       "      <td>0</td>\n",
       "      <td>NaN</td>\n",
       "      <td>NaN</td>\n",
       "      <td>NaN</td>\n",
       "      <td>0</td>\n",
       "      <td>12</td>\n",
       "      <td>2008</td>\n",
       "      <td>WD</td>\n",
       "      <td>Normal</td>\n",
       "      <td>250000</td>\n",
       "    </tr>\n",
       "  </tbody>\n",
       "</table>\n",
       "<p>5 rows × 81 columns</p>\n",
       "</div>"
      ],
      "text/plain": [
       "   Id  MSSubClass MSZoning  LotFrontage  LotArea Street Alley LotShape  \\\n",
       "0   1          60       RL         65.0     8450   Pave   NaN      Reg   \n",
       "1   2          20       RL         80.0     9600   Pave   NaN      Reg   \n",
       "2   3          60       RL         68.0    11250   Pave   NaN      IR1   \n",
       "3   4          70       RL         60.0     9550   Pave   NaN      IR1   \n",
       "4   5          60       RL         84.0    14260   Pave   NaN      IR1   \n",
       "\n",
       "  LandContour Utilities  ... PoolArea PoolQC Fence MiscFeature MiscVal MoSold  \\\n",
       "0         Lvl    AllPub  ...        0    NaN   NaN         NaN       0      2   \n",
       "1         Lvl    AllPub  ...        0    NaN   NaN         NaN       0      5   \n",
       "2         Lvl    AllPub  ...        0    NaN   NaN         NaN       0      9   \n",
       "3         Lvl    AllPub  ...        0    NaN   NaN         NaN       0      2   \n",
       "4         Lvl    AllPub  ...        0    NaN   NaN         NaN       0     12   \n",
       "\n",
       "  YrSold  SaleType  SaleCondition  SalePrice  \n",
       "0   2008        WD         Normal     208500  \n",
       "1   2007        WD         Normal     181500  \n",
       "2   2008        WD         Normal     223500  \n",
       "3   2006        WD        Abnorml     140000  \n",
       "4   2008        WD         Normal     250000  \n",
       "\n",
       "[5 rows x 81 columns]"
      ]
     },
     "execution_count": 7,
     "metadata": {},
     "output_type": "execute_result"
    }
   ],
   "source": [
    "# importar o Pandas\n",
    "import pandas as pd\n",
    "\n",
    "# importar train.csv em DataFrame\n",
    "df = pd.read_csv('data/train.csv')\n",
    "\n",
    "# visualizar as 5 primeiras entradas\n",
    "df.head()"
   ]
  },
  {
   "cell_type": "markdown",
   "metadata": {},
   "source": [
    "### Identificando dados ausentes\n",
    "\n",
    "A primeira coisa que você tem que saber quando lida com um conjunto de dados novos, é a quantidade e proporção dos *missing values*.\n",
    "\n",
    "Para identificar valores ausentes, por colunas, você pode usar:\n",
    "\n",
    "* ```df.describe()``` para retornar um resumo estatístico das variáveis numéricas\n",
    "* ```df.info()``` para dar um resumo de valores não-nulos encontrados\n",
    "* ```df.isnull().sum()``` para retornar a soma dos valores nulos encontrados\n",
    "\n",
    "Usando essa última opção, vamos ver as 10 colunas com mais valores ausentes para esse *dataset*."
   ]
  },
  {
   "cell_type": "code",
   "execution_count": 3,
   "metadata": {
    "scrolled": true
   },
   "outputs": [
    {
     "data": {
      "text/plain": [
       "PoolQC          1453\n",
       "MiscFeature     1406\n",
       "Alley           1369\n",
       "Fence           1179\n",
       "FireplaceQu      690\n",
       "LotFrontage      259\n",
       "GarageCond        81\n",
       "GarageType        81\n",
       "GarageYrBlt       81\n",
       "GarageFinish      81\n",
       "dtype: int64"
      ]
     },
     "execution_count": 3,
     "metadata": {},
     "output_type": "execute_result"
    }
   ],
   "source": [
    "df.isnull().sum().sort_values(ascending=False)[:10]"
   ]
  },
  {
   "cell_type": "markdown",
   "metadata": {},
   "source": [
    "## Lidando com dados ausentes"
   ]
  },
  {
   "cell_type": "markdown",
   "metadata": {},
   "source": [
    "Como eu falei lá em cima, não existe uma resposta 100% correta ou 100% errada sobre como você deve tratar os valores ausentes do seu conjunto de dados.\n",
    "\n",
    "Toda escolha tem uma renúncia. Você tem que estar ciente disso e testar o que vai se adequar melhor àquela situação.\n",
    "\n",
    "Vou passar aqui alguns dos métodos mais frequentementes usados por cientistas de dados, e como você poderia aplicar esses métodos nos dados que acabamos de importar.\n",
    "\n",
    "### Excluir valores ausentes\n",
    "\n",
    "Esta é uma decisão mais radical, e deve ser feita apenas em casos onde não haverá impacto significativo no modelo. Ao eliminar uma linha inteira você joga fora um monte de informação que poderia ser extremamente importante.\n",
    "\n",
    "Eu uso essa opção apenas quando meu *dataset* é consideravelmente grande e a quantidade de valores ausentes é relativamente insignificante.\n",
    "\n",
    "Para fazer isso, você vai usar o método ```df.dropna()```. Esse método é direto, e remove os valores ```NaN``` encontrados no *DataFrame*.\n",
    "\n",
    "Por padrão, se você não informar o eixo, serão eliminadas todas as linhas relativas à celula contendo o valor ausente (```df.dropna(axis=0)```). \n",
    "\n",
    "Caso você deseje eliminar uma coluna inteira onde existam ```NaN```, você deve informar explicitamente com ```df.dropna(axis=1)``` \n",
    "\n",
    "No exemplo abaixo, todos os valores ```NaN``` da coluna **GarageFinish** serão eliminados. Compare o *shape* antes e depois."
   ]
  },
  {
   "cell_type": "code",
   "execution_count": 4,
   "metadata": {},
   "outputs": [
    {
     "name": "stdout",
     "output_type": "stream",
     "text": [
      "Antes:\t (1460, 81)\n",
      "Depois:\t (1379, 81)\n"
     ]
    }
   ],
   "source": [
    "# ver o shape antes\n",
    "shape_antes = df.shape\n",
    "print(\"Antes:\\t\", shape_antes)\n",
    "\n",
    "df.dropna(subset=['GarageCond'], inplace=True)\n",
    "\n",
    "# ver o shape depois\n",
    "shape_depois = df.shape\n",
    "print(\"Depois:\\t\", shape_depois)"
   ]
  },
  {
   "cell_type": "markdown",
   "metadata": {},
   "source": [
    "### Preencher valores ausentes\n",
    "\n",
    "Esta abordagem é a mais utilizada, pois você não joga fora informação útil. Aqui, a dúvida que você vai ter é em relação a qual valor usar para preencher os dados faltantes.\n",
    "\n",
    "Existem técnicas avançadas que são combinadas com o preenchimento de valores, como por exemplo analisar correlações ou mesmo construir um modelo preditivo para *missing values*.\n",
    "\n",
    "Entretanto, uma abordagem direta e simples consiste em substituir os ```NaN``` pela mediana da coluna. Isso é feito mediante o método ```df.fillna()```, informando o valor desejado como argumento.\n",
    "\n",
    "Vamos extrair a mediana da coluna **LotFrontage** e preencher os valores faltantes com ela."
   ]
  },
  {
   "cell_type": "code",
   "execution_count": 5,
   "metadata": {},
   "outputs": [
    {
     "data": {
      "text/plain": [
       "0"
      ]
     },
     "execution_count": 5,
     "metadata": {},
     "output_type": "execute_result"
    }
   ],
   "source": [
    "# extrair a mediana de LotFrontage\n",
    "lotFrontage_mediana = df.LotFrontage.median()\n",
    "\n",
    "# preencher a coluna LotFrontage com a mediana\n",
    "df.fillna(lotFrontage_mediana, inplace=True)\n",
    "\n",
    "# checar se há valor ausente\n",
    "df.LotFrontage.isnull().sum()"
   ]
  },
  {
   "cell_type": "markdown",
   "metadata": {},
   "source": [
    "### Usar valor mais frequente\n",
    "\n",
    "Para preencher *missing values* no último exemplo, usamos a mediana da coluna. Entretanto, caso a variável fosse categórica (e não numérica), poderíamos verificar qual o valor mais frequente e usar ele no preenchimento.\n",
    "\n",
    "Para identificar o valor mais frequente, basta usar o método ```value_counts()```, extrair o maior valor e informar ele como argumento de ```fillna()```."
   ]
  },
  {
   "cell_type": "code",
   "execution_count": 6,
   "metadata": {},
   "outputs": [
    {
     "name": "stdout",
     "output_type": "stream",
     "text": [
      "TA    1326\n",
      "Fa      35\n",
      "Gd       9\n",
      "Po       7\n",
      "Ex       2\n",
      "Name: GarageCond, dtype: int64\n"
     ]
    },
    {
     "data": {
      "text/plain": [
       "0"
      ]
     },
     "execution_count": 6,
     "metadata": {},
     "output_type": "execute_result"
    }
   ],
   "source": [
    "# identificar o valor mais frequente\n",
    "print(df.GarageCond.value_counts())\n",
    "garageCond_freq = df.GarageCond.value_counts()[0]\n",
    "\n",
    "# preencher missing values com o valor acima\n",
    "df.GarageCond.fillna(garageCond_freq, inplace=True)\n",
    "\n",
    "# verificar se há valor ausente\n",
    "df.GarageCond.isnull().sum()"
   ]
  },
  {
   "cell_type": "markdown",
   "metadata": {},
   "source": [
    "## Como você pode aplicar esses métodos e melhorar suas análises de *Data Science*?\n",
    "\n",
    "[Eu vivo falando no meu Instagram](http://instagram.com/carlos_melo.py) sobre a importância da fase de análise de dados em um projeto de *Data Science*.\n",
    "\n",
    "Aquilo que diferencia um cientista de dados é a sua capacidade de entender, explorar e tratar os dados da melhor maneira possível.\n",
    "\n",
    "Em *datasets* reais, não tenha dúvida que você vai se deparar com muita inconsistência, lançamentos errados, bases diferentes e muitos valores ausentes.\n",
    "\n",
    "Saber o que fazer com esses valores vai aumentar muito o desempenho do seu algoritmo de *Machine Learning* e nos seus resultados.\n",
    "\n",
    "Aproveite para começar a aplicar os métodos que você viu aqui nos seus projetos. Deixe nos comentários abaixo as dicas ou técnicas que você usa nos seus tratamentos."
   ]
  }
 ],
 "metadata": {
  "kernelspec": {
   "display_name": "Python 3",
   "language": "python",
   "name": "python3"
  },
  "language_info": {
   "codemirror_mode": {
    "name": "ipython",
    "version": 3
   },
   "file_extension": ".py",
   "mimetype": "text/x-python",
   "name": "python",
   "nbconvert_exporter": "python",
   "pygments_lexer": "ipython3",
   "version": "3.7.3"
  }
 },
 "nbformat": 4,
 "nbformat_minor": 2
}

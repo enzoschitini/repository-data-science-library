{
  "cells": [
    {
      "cell_type": "markdown",
      "metadata": {
        "id": "KJqp9AANOCtf"
      },
      "source": [
        "<img src=\"https://raw.githubusercontent.com/andre-marcos-perez/ebac-course-utils/main/media/logo/newebac_logo_black_half.png\" alt=\"ebac-logo\">\n",
        "\n",
        "---\n",
        "\n",
        "# **Módulo 02** | Python: Estruturas de Dados\n",
        "Caderno de **Exercícios**<br> \n",
        "Professor [André Perez](https://www.linkedin.com/in/andremarcosperez/)\n",
        "\n",
        "---"
      ]
    },
    {
      "cell_type": "markdown",
      "metadata": {
        "id": "d9jDtUbDOE1-"
      },
      "source": [
        "# **Tópicos**\n",
        "\n",
        "<ol type=\"1\">\n",
        "  <li>Listas;</li>\n",
        "  <li>Conjuntos;</li>\n",
        "  <li>Dicionários.</li>\n",
        "</ol>"
      ]
    },
    {
      "cell_type": "markdown",
      "metadata": {
        "id": "SmoHgt-lwkpD"
      },
      "source": [
        "---"
      ]
    },
    {
      "cell_type": "markdown",
      "metadata": {
        "id": "GABI6OW8OfQ2"
      },
      "source": [
        "# **Exercícios**"
      ]
    },
    {
      "cell_type": "markdown",
      "metadata": {
        "id": "muD1vxozykSC"
      },
      "source": [
        "## 1\\. Listas"
      ]
    },
    {
      "cell_type": "markdown",
      "metadata": {
        "id": "ahrFfCuBxJKs"
      },
      "source": [
        "Criei uma lista chamada `filmes` com o nome dos 10 primeiros filmes mais bem avaliados no site no [IMDB](https://www.imdb.com/chart/top/). Imprima o resultado."
      ]
    },
    {
      "cell_type": "code",
      "execution_count": 1,
      "metadata": {
        "id": "OgL6Hv3bzOHI"
      },
      "outputs": [
        {
          "name": "stdout",
          "output_type": "stream",
          "text": [
            "['1. As asas da liberdade', '2. O Poderoso Chefão', '3. O Cavaleiro das Trevas', '4. O Poderoso Chefão - Parte II', '5. A palavra aos jurados', '6. Lista de Schindler', '7. O Senhor dos Anéis - O Retorno do Rei', '8. Pulp Fiction', '9. O Senhor dos Anéis - A Sociedade do Anel', '10. O bom, o mau, o mau']\n"
          ]
        }
      ],
      "source": [
        "fiulmes = ['1. As asas da liberdade','2. O Poderoso Chefão','3. O Cavaleiro das Trevas','4. O Poderoso Chefão - Parte II','5. A palavra aos jurados','6. Lista de Schindler','7. O Senhor dos Anéis - O Retorno do Rei','8. Pulp Fiction','9. O Senhor dos Anéis - A Sociedade do Anel','10. O bom, o mau, o mau']\n",
        "\n",
        "print(fiulmes)"
      ]
    },
    {
      "cell_type": "markdown",
      "metadata": {
        "id": "KI9zQRT2xa7m"
      },
      "source": [
        "Simule a movimentação do *ranking*. Utilize os métodos `insert` e `pop` para trocar a posição do primeiro e do segundo filme da lista. Imprima o resultado.\n",
        "\n"
      ]
    },
    {
      "cell_type": "code",
      "execution_count": 2,
      "metadata": {
        "id": "zX3mA3_GzrXH"
      },
      "outputs": [
        {
          "name": "stdout",
          "output_type": "stream",
          "text": [
            "---------------------------------------\n",
            "### Lista original:\n",
            "['1. As asas da liberdade', '2. O Poderoso Chefão', '3. O Cavaleiro das Trevas', '4. O Poderoso Chefão - Parte II', '5. A palavra aos jurados', '6. Lista de Schindler', '7. O Senhor dos Anéis - O Retorno do Rei', '8. Pulp Fiction', '9. O Senhor dos Anéis - A Sociedade do Anel', '10. O bom, o mau, o mau']\n",
            "---------------------------------------\n",
            "### Lista modificada:\n",
            "['1. A vida é bela', '1. As asas da liberdade', '2. O Poderoso Chefão', '3. O Cavaleiro das Trevas', '4. O Poderoso Chefão - Parte II', '5. A palavra aos jurados', '6. Lista de Schindler', '7. O Senhor dos Anéis - O Retorno do Rei', '8. Pulp Fiction', '9. O Senhor dos Anéis - A Sociedade do Anel', '10. O bom, o mau, o mau']\n",
            "---------------------------------------\n",
            "### Final:\n",
            "['1. A vida é bela', '2. O Poderoso Chefão', '3. O Cavaleiro das Trevas', '4. O Poderoso Chefão - Parte II', '5. A palavra aos jurados', '6. Lista de Schindler', '7. O Senhor dos Anéis - O Retorno do Rei', '8. Pulp Fiction', '9. O Senhor dos Anéis - A Sociedade do Anel', '10. O bom, o mau, o mau']\n"
          ]
        }
      ],
      "source": [
        "# Lista de filmes\n",
        "print('---------------------------------------')\n",
        "filmes = ['1. As asas da liberdade', '2. O Poderoso Chefão', '3. O Cavaleiro das Trevas', '4. O Poderoso Chefão - Parte II', '5. A palavra aos jurados', '6. Lista de Schindler', '7. O Senhor dos Anéis - O Retorno do Rei', '8. Pulp Fiction', '9. O Senhor dos Anéis - A Sociedade do Anel', '10. O bom, o mau, o mau']\n",
        "print(\"### Lista original:\")\n",
        "print(filmes)\n",
        "\n",
        "# Métodos\n",
        "print('---------------------------------------')\n",
        "\n",
        "# Insira um filme no início da lista\n",
        "filmes.insert(0, '1. A vida é bela')\n",
        "print(\"### Lista modificada:\")\n",
        "print(filmes)\n",
        "\n",
        "print('---------------------------------------')\n",
        "\n",
        "# Remova o segundo filme da lista e imprima-o\n",
        "filmes_update = filmes.pop(1)\n",
        "\n",
        "# Substitua o filme removido por '' na lista\n",
        "filmes[1] = filmes[1].replace(filmes_update, '')\n",
        "print(\"### Final:\")\n",
        "print(filmes)"
      ]
    },
    {
      "cell_type": "markdown",
      "metadata": {
        "id": "zMN1Q3jdwoJm"
      },
      "source": [
        "---"
      ]
    },
    {
      "cell_type": "markdown",
      "metadata": {
        "id": "lxa5L6uF0ZJE"
      },
      "source": [
        "## 2\\. Conjuntos"
      ]
    },
    {
      "cell_type": "markdown",
      "metadata": {
        "id": "9JahS2Kj0d5u"
      },
      "source": [
        "Aconteceu um erro no seu *ranking*. Simule a duplicação dos três últimos filmes da lista. Imprima o resultado."
      ]
    },
    {
      "cell_type": "code",
      "execution_count": 3,
      "metadata": {
        "id": "BnjnLBNC6PGe"
      },
      "outputs": [
        {
          "name": "stdout",
          "output_type": "stream",
          "text": [
            "---------------------------------------\n",
            "### Lista duplicada:\n",
            "['1. As asas da liberdade', '2. O Poderoso Chefão', '3. O Cavaleiro das Trevas', '4. O Poderoso Chefão - Parte II', '5. A palavra aos jurados', '6. Lista de Schindler', '7. O Senhor dos Anéis - O Retorno do Rei', '8. Pulp Fiction', '9. O Senhor dos Anéis - A Sociedade do Anel', '10. O bom, o mau, o mau', '8. Pulp Fiction', '9. O Senhor dos Anéis - A Sociedade do Anel', '10. O bom, o mau, o mau']\n"
          ]
        }
      ],
      "source": [
        "# Lista com a duplicação dos três últimos filmes\n",
        "print('---------------------------------------')\n",
        "filmes = ['1. As asas da liberdade', '2. O Poderoso Chefão', '3. O Cavaleiro das Trevas', '4. O Poderoso Chefão - Parte II', '5. A palavra aos jurados', '6. Lista de Schindler', '7. O Senhor dos Anéis - O Retorno do Rei', '8. Pulp Fiction', '9. O Senhor dos Anéis - A Sociedade do Anel', '10. O bom, o mau, o mau', '8. Pulp Fiction', '9. O Senhor dos Anéis - A Sociedade do Anel', '10. O bom, o mau, o mau']\n",
        "print(\"### Lista duplicada:\")\n",
        "print(filmes)"
      ]
    },
    {
      "cell_type": "markdown",
      "metadata": {
        "id": "suxTfCJB6ZiX"
      },
      "source": [
        "Utiliza a conversão `set` e `list` para remover os valores duplicados. Imprima o resultado. "
      ]
    },
    {
      "cell_type": "code",
      "execution_count": 4,
      "metadata": {
        "id": "ZvUGN-0n6joM"
      },
      "outputs": [
        {
          "name": "stdout",
          "output_type": "stream",
          "text": [
            "---------------------------------------\n",
            "### Lista original:\n",
            "['1. As asas da liberdade', '2. O Poderoso Chefão', '3. O Cavaleiro das Trevas', '4. O Poderoso Chefão - Parte II', '5. A palavra aos jurados', '6. Lista de Schindler', '7. O Senhor dos Anéis - O Retorno do Rei', '8. Pulp Fiction', '9. O Senhor dos Anéis - A Sociedade do Anel', '10. O bom, o mau, o mau']\n",
            "---------------------------------------\n",
            "### Lista duplicada:\n",
            "['1. As asas da liberdade', '2. O Poderoso Chefão', '3. O Cavaleiro das Trevas', '4. O Poderoso Chefão - Parte II', '5. A palavra aos jurados', '6. Lista de Schindler', '7. O Senhor dos Anéis - O Retorno do Rei', '8. Pulp Fiction', '9. O Senhor dos Anéis - A Sociedade do Anel', '10. O bom, o mau, o mau', '8. Pulp Fiction', '9. O Senhor dos Anéis - A Sociedade do Anel', '10. O bom, o mau, o mau']\n",
            "---------------------------------------\n",
            "['1. As asas da liberdade', '3. O Cavaleiro das Trevas', '5. A palavra aos jurados', '10. O bom, o mau, o mau', '2. O Poderoso Chefão', '8. Pulp Fiction', '6. Lista de Schindler', '7. O Senhor dos Anéis - O Retorno do Rei', '4. O Poderoso Chefão - Parte II', '9. O Senhor dos Anéis - A Sociedade do Anel']\n"
          ]
        }
      ],
      "source": [
        "# Lista de filmes\n",
        "print('---------------------------------------')\n",
        "filmes = ['1. As asas da liberdade', '2. O Poderoso Chefão', '3. O Cavaleiro das Trevas', '4. O Poderoso Chefão - Parte II', '5. A palavra aos jurados', '6. Lista de Schindler', '7. O Senhor dos Anéis - O Retorno do Rei', '8. Pulp Fiction', '9. O Senhor dos Anéis - A Sociedade do Anel', '10. O bom, o mau, o mau']\n",
        "print(\"### Lista original:\")\n",
        "print(filmes)\n",
        "\n",
        "# Lista com a duplicação dos três últimos filmes\n",
        "print('---------------------------------------')\n",
        "filmes = ['1. As asas da liberdade', '2. O Poderoso Chefão', '3. O Cavaleiro das Trevas', '4. O Poderoso Chefão - Parte II', '5. A palavra aos jurados', '6. Lista de Schindler', '7. O Senhor dos Anéis - O Retorno do Rei', '8. Pulp Fiction', '9. O Senhor dos Anéis - A Sociedade do Anel', '10. O bom, o mau, o mau', '8. Pulp Fiction', '9. O Senhor dos Anéis - A Sociedade do Anel', '10. O bom, o mau, o mau']\n",
        "print(\"### Lista duplicada:\")\n",
        "print(filmes)\n",
        "\n",
        "# Remoção dos valores duplicados\n",
        "print('---------------------------------------')\n",
        "filtro = list(set(filmes))\n",
        "print(filtro)\n",
        "\n",
        "# Tenho uma dúvida. Usando os métodos podemos remover os elementos duplicados, mas eles não vêm em ordem. Existe alguma maneira de remediar isso?\n",
        "# Obrigado!"
      ]
    },
    {
      "cell_type": "markdown",
      "metadata": {
        "id": "ShkK35eQ6pAM"
      },
      "source": [
        "---"
      ]
    },
    {
      "cell_type": "markdown",
      "metadata": {
        "id": "EL_FzmxL6rTv"
      },
      "source": [
        "## 3\\. Dicionários"
      ]
    },
    {
      "cell_type": "markdown",
      "metadata": {
        "id": "i8l0gFqRCpfT"
      },
      "source": [
        "Repita os exercícios da parte 1 (listas). Os elementos da lista `filmes` devem ser dicionários no seguinte formato: `{'nome': <nome-do-filme>, 'ano': <ano do filme>}, 'sinopse': <sinopse do filme>}`. "
      ]
    },
    {
      "cell_type": "code",
      "execution_count": 5,
      "metadata": {},
      "outputs": [
        {
          "name": "stdout",
          "output_type": "stream",
          "text": [
            "{'nome': 'A vida é bela', 'ano': '1997', 'sinopse': 'Um garçom judeu e seu filho estão internados em um campo de concentração nazista. Para proteger o filho dos horrores do Holocausto, ele terá que recorrer ao seu senso de humor e imaginação.'}\n"
          ]
        }
      ],
      "source": [
        "filme = {\n",
        "    'nome': 'A vida é bela',\n",
        "    'ano': '1997',\n",
        "    'sinopse':'Um garçom judeu e seu filho estão internados em um campo de concentração nazista. Para proteger o filho dos horrores do Holocausto, ele terá que recorrer ao seu senso de humor e imaginação.'\n",
        "}\n",
        "\n",
        "print(filme)"
      ]
    }
  ],
  "metadata": {
    "colab": {
      "collapsed_sections": [],
      "name": "module_2_exercise.ipynb",
      "provenance": [],
      "toc_visible": true
    },
    "kernelspec": {
      "display_name": "Python 3",
      "name": "python3"
    },
    "language_info": {
      "codemirror_mode": {
        "name": "ipython",
        "version": 3
      },
      "file_extension": ".py",
      "mimetype": "text/x-python",
      "name": "python",
      "nbconvert_exporter": "python",
      "pygments_lexer": "ipython3",
      "version": "3.11.5"
    }
  },
  "nbformat": 4,
  "nbformat_minor": 0
}

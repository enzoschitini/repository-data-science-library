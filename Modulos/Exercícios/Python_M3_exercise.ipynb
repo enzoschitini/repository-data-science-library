{
 "cells": [
  {
   "cell_type": "markdown",
   "metadata": {
    "id": "KJqp9AANOCtf"
   },
   "source": [
    "<img src=\"https://raw.githubusercontent.com/andre-marcos-perez/ebac-course-utils/main/media/logo/newebac_logo_black_half.png\" alt=\"ebac-logo\">\n",
    "\n",
    "---\n",
    "\n",
    "# **Módulo** | Python: Fluxo Condicional & Repetição\n",
    "Caderno de **Exercícios**<br> \n",
    "Professor [André Perez](https://www.linkedin.com/in/andremarcosperez/)\n",
    "\n",
    "---"
   ]
  },
  {
   "cell_type": "markdown",
   "metadata": {
    "id": "d9jDtUbDOE1-"
   },
   "source": [
    "# **Tópicos**\n",
    "\n",
    "<ol type=\"1\">\n",
    "  <li>Estrutura condicional if / else / elif;</li>\n",
    "  <li>Estrutura condicional try / catch / finally;</li>\n",
    "  <li>Estrutura de repetição for / in.</li>\n",
    "</ol>"
   ]
  },
  {
   "cell_type": "markdown",
   "metadata": {
    "id": "SmoHgt-lwkpD"
   },
   "source": [
    "---"
   ]
  },
  {
   "cell_type": "markdown",
   "metadata": {
    "id": "GABI6OW8OfQ2"
   },
   "source": [
    "# **Exercícios**"
   ]
  },
  {
   "cell_type": "markdown",
   "metadata": {},
   "source": [
    "## 1\\. Estrutura condicional for / in"
   ]
  },
  {
   "cell_type": "markdown",
   "metadata": {},
   "source": [
    "Na lista `propaganda_online` abaixo, estão presente os dados de usuários que acessaram um determinado site e se o mesmo clicou em uma propaganda."
   ]
  },
  {
   "cell_type": "code",
   "execution_count": 1,
   "metadata": {},
   "outputs": [],
   "source": [
    "propaganda_online = [\n",
    "  {'tempo_gasto_site': 68.95, 'idade': 35, 'renda_area': 61833.90, 'tempo_gasto_internet': 256.09, 'cidade': 'Wrightburgh', 'pais': 'Tunisia', 'clicou_no_ad': 0},\n",
    "  {'tempo_gasto_site': 80.23, 'idade': 31, 'renda_area': 68441.85, 'tempo_gasto_internet': 193.77, 'cidade': 'West Jodi', 'pais': 'Nauru', 'clicou_no_ad': 0},\n",
    "  {'tempo_gasto_site': 69.47, 'idade': 26, 'renda_area': 59785.94, 'tempo_gasto_internet': 236.50, 'cidade': 'Davidton', 'pais': 'San Marino', 'clicou_no_ad': 0},\n",
    "  {'tempo_gasto_site': 68.37, 'idade': 35, 'renda_area': 73889.99, 'tempo_gasto_internet': 225.58, 'cidade': 'South Manuel', 'pais': 'Iceland', 'clicou_no_ad': 0},\n",
    "  {'tempo_gasto_site': 88.91, 'idade': 33, 'renda_area': 53852.85, 'tempo_gasto_internet': 208.36, 'cidade': 'Brandonstad', 'pais': 'Myanmar', 'clicou_no_ad': 0},\n",
    "  {'tempo_gasto_site': None, 'idade': 48, 'renda_area': 24593.33, 'tempo_gasto_internet': 131.76, 'cidade': 'Port Jefferybury', 'pais': 'Australia', 'clicou_no_ad': 1},\n",
    "  {'tempo_gasto_site': 74.53, 'idade': 30, 'renda_area': 68862.00, 'tempo_gasto_internet': 221.51, 'cidade': 'West Colin', 'pais': 'Grenada'},\n",
    "  {'tempo_gasto_site': 69.88, 'idade': 20, 'renda_area': 55642.32, 'tempo_gasto_internet': 183.82, 'cidade': 'Ramirezton', 'pais': 'Ghana', 'clicou_no_ad': 0}\n",
    "]"
   ]
  },
  {
   "cell_type": "code",
   "execution_count": 2,
   "metadata": {
    "id": "cyMWqs_t8pWA"
   },
   "outputs": [
    {
     "name": "stdout",
     "output_type": "stream",
     "text": [
      "{'tempo_gasto_site': 68.95, 'idade': 35, 'renda_area': 61833.9, 'tempo_gasto_internet': 256.09, 'cidade': 'Wrightburgh', 'pais': 'Tunisia', 'clicou_no_ad': 0}\n",
      "{'tempo_gasto_site': 80.23, 'idade': 31, 'renda_area': 68441.85, 'tempo_gasto_internet': 193.77, 'cidade': 'West Jodi', 'pais': 'Nauru', 'clicou_no_ad': 0}\n",
      "{'tempo_gasto_site': 69.47, 'idade': 26, 'renda_area': 59785.94, 'tempo_gasto_internet': 236.5, 'cidade': 'Davidton', 'pais': 'San Marino', 'clicou_no_ad': 0}\n",
      "{'tempo_gasto_site': 68.37, 'idade': 35, 'renda_area': 73889.99, 'tempo_gasto_internet': 225.58, 'cidade': 'South Manuel', 'pais': 'Iceland', 'clicou_no_ad': 0}\n",
      "{'tempo_gasto_site': 88.91, 'idade': 33, 'renda_area': 53852.85, 'tempo_gasto_internet': 208.36, 'cidade': 'Brandonstad', 'pais': 'Myanmar', 'clicou_no_ad': 0}\n",
      "{'tempo_gasto_site': None, 'idade': 48, 'renda_area': 24593.33, 'tempo_gasto_internet': 131.76, 'cidade': 'Port Jefferybury', 'pais': 'Australia', 'clicou_no_ad': 1}\n",
      "{'tempo_gasto_site': 74.53, 'idade': 30, 'renda_area': 68862.0, 'tempo_gasto_internet': 221.51, 'cidade': 'West Colin', 'pais': 'Grenada'}\n",
      "{'tempo_gasto_site': 69.88, 'idade': 20, 'renda_area': 55642.32, 'tempo_gasto_internet': 183.82, 'cidade': 'Ramirezton', 'pais': 'Ghana', 'clicou_no_ad': 0}\n"
     ]
    }
   ],
   "source": [
    "for dado_de_usuario in propaganda_online:\n",
    "  print(dado_de_usuario)"
   ]
  },
  {
   "cell_type": "markdown",
   "metadata": {},
   "source": [
    "1.1. Imprime os seguintes valores da lista:\n",
    "`tempo_gasto_site` e `idade`\n",
    "\n",
    "Dica: Utilize os conceitos de chave e valor de elementos de uma lista para selecionar os valores de uma chave (lista[chave]), conforme exemplo abaixo, na qual imprime somente os dados da chave `cidade`:"
   ]
  },
  {
   "cell_type": "code",
   "execution_count": 3,
   "metadata": {},
   "outputs": [
    {
     "name": "stdout",
     "output_type": "stream",
     "text": [
      "Wrightburgh\n",
      "West Jodi\n",
      "Davidton\n",
      "South Manuel\n",
      "Brandonstad\n",
      "Port Jefferybury\n",
      "West Colin\n",
      "Ramirezton\n"
     ]
    }
   ],
   "source": [
    "for dado_de_usuario in propaganda_online:\n",
    "    print(dado_de_usuario['cidade'])"
   ]
  },
  {
   "cell_type": "markdown",
   "metadata": {},
   "source": [
    "Extrair os valores da chave tempo_gasto_site"
   ]
  },
  {
   "cell_type": "code",
   "execution_count": 4,
   "metadata": {},
   "outputs": [
    {
     "name": "stdout",
     "output_type": "stream",
     "text": [
      "---------------------------------------\n",
      "68.95\n",
      "80.23\n",
      "69.47\n",
      "68.37\n",
      "88.91\n",
      "None\n",
      "74.53\n",
      "69.88\n"
     ]
    }
   ],
   "source": [
    "print('---------------------------------------')\n",
    "# Estruturas condicionais\n",
    "\n",
    "for dado_de_usuario in propaganda_online:\n",
    "    print(dado_de_usuario['tempo_gasto_site'])"
   ]
  },
  {
   "cell_type": "markdown",
   "metadata": {},
   "source": [
    "Extrair os valores da chave idade"
   ]
  },
  {
   "cell_type": "code",
   "execution_count": 5,
   "metadata": {},
   "outputs": [
    {
     "name": "stdout",
     "output_type": "stream",
     "text": [
      "---------------------------------------\n",
      "35\n",
      "31\n",
      "26\n",
      "35\n",
      "33\n",
      "48\n",
      "30\n",
      "20\n"
     ]
    }
   ],
   "source": [
    "print('---------------------------------------')\n",
    "# Estruturas condicionais\n",
    "\n",
    "for dado_de_usuario in propaganda_online:\n",
    "    print(dado_de_usuario['idade'])"
   ]
  },
  {
   "cell_type": "markdown",
   "metadata": {},
   "source": [
    "## 2\\. Estrutura condicional if / else"
   ]
  },
  {
   "cell_type": "markdown",
   "metadata": {},
   "source": [
    "2.1. Utilize a estrutura if/else para imprimir a cidade dos usuários que gastaram mais de 100 horas de tempo na internet\n",
    "\n",
    "Dica: Após a iteração dos elementos da lista (Através da estrutura condicional FOR),  utilize a estrutura if/else para criar a condição dos valores da chave `tempo_gasto_internet`"
   ]
  },
  {
   "cell_type": "code",
   "execution_count": 6,
   "metadata": {},
   "outputs": [
    {
     "name": "stdout",
     "output_type": "stream",
     "text": [
      "---------------------------------------\n",
      "Wrightburgh\n",
      "West Jodi\n",
      "Davidton\n",
      "South Manuel\n",
      "Brandonstad\n",
      "Port Jefferybury\n",
      "West Colin\n",
      "Ramirezton\n"
     ]
    }
   ],
   "source": [
    "print('---------------------------------------')\n",
    "# Estruturas condicionais\n",
    "\n",
    "for dado_de_usuario in propaganda_online:\n",
    "  if dado_de_usuario['tempo_gasto_internet'] >= 100:\n",
    "    print(dado_de_usuario['cidade'])"
   ]
  },
  {
   "cell_type": "markdown",
   "metadata": {},
   "source": [
    "## 3\\. Estrutura condicional try / except"
   ]
  },
  {
   "cell_type": "markdown",
   "metadata": {},
   "source": [
    "3.1. Utilize a estrutura try/except para imprimir as cidades dos usuários que passaram mais de 70 segundos no site. \n",
    "\n",
    "Dica: Realize o tratamento de exceções dentro da execução da iteração dos elementos da lista"
   ]
  },
  {
   "cell_type": "code",
   "execution_count": 7,
   "metadata": {},
   "outputs": [
    {
     "name": "stdout",
     "output_type": "stream",
     "text": [
      "\n",
      "\n",
      "-----------------------------------------------------------------\n",
      "1  Wrightburgh - 68.95 Segundos\n",
      "-----------------------------------------------------------------\n",
      "2  West Jodi - 80.23 Segundos\n",
      "-----------------------------------------------------------------\n",
      "3  Davidton - 69.47 Segundos\n",
      "-----------------------------------------------------------------\n",
      "4  South Manuel - 68.37 Segundos\n",
      "-----------------------------------------------------------------\n",
      "5  Brandonstad - 88.91 Segundos\n",
      "-----------------------------------------------------------------\n",
      "6  ATENÇÃO:  Esse usuário passou menos de 70 segundos no site\n",
      "-----------------------------------------------------------------\n",
      "7  West Colin - 74.53 Segundos\n",
      "-----------------------------------------------------------------\n",
      "8  Ramirezton - 69.88 Segundos\n",
      "-----------------------------------------------------------------\n"
     ]
    }
   ],
   "source": [
    "print('\\n')\n",
    "print('-----------------------------------------------------------------')\n",
    "ordem = 1\n",
    "\n",
    "# Tratamento de exceções\n",
    "\n",
    "for dado_de_usuario in propaganda_online:\n",
    "  try:\n",
    "    dado_de_usuario['tempo_gasto_site'] >= 70\n",
    "    print(ordem, \"\", dado_de_usuario['cidade'], \"-\", dado_de_usuario['tempo_gasto_site'], \"Segundos\")\n",
    "    print('-----------------------------------------------------------------')\n",
    "    ordem = ordem + 1\n",
    "  except:\n",
    "    print(ordem, \"\", \"ATENÇÃO:  Esse usuário passou menos de 70 segundos no site\")\n",
    "    print('-----------------------------------------------------------------')\n",
    "    ordem = ordem + 1"
   ]
  },
  {
   "cell_type": "markdown",
   "metadata": {},
   "source": [
    "# Exercício bônus"
   ]
  },
  {
   "cell_type": "markdown",
   "metadata": {
    "id": "muD1vxozykSC"
   },
   "source": [
    "## 1\\. Dados de interação de usuários com propagandas online"
   ]
  },
  {
   "cell_type": "markdown",
   "metadata": {
    "id": "KI9zQRT2xa7m"
   },
   "source": [
    "1.1. Crie uma lista chamada `paises` com o pais dos usuários com mais de 30 anos. \n",
    "\n",
    "Dica: Para armazenar os países dos usuários na lista `paises` utilize o método append()."
   ]
  },
  {
   "cell_type": "code",
   "execution_count": 8,
   "metadata": {
    "id": "fvYOUhoN-dxd"
   },
   "outputs": [
    {
     "name": "stdout",
     "output_type": "stream",
     "text": [
      "-------------------------------------------------------------------\n",
      "Lista dos paises com usuários com mais de 30 anos.\n",
      "\n",
      "\n",
      "['Tunisia', 'Nauru', 'Iceland', 'Myanmar', 'Australia', 'Grenada']\n",
      "\n",
      "\n"
     ]
    }
   ],
   "source": [
    "print('-------------------------------------------------------------------')\n",
    "print(\"Lista dos paises com usuários com mais de 30 anos.\")\n",
    "print('\\n')\n",
    "\n",
    "paises = []\n",
    "for dado_de_usuario in propaganda_online:\n",
    "  if dado_de_usuario['idade'] >= 30:\n",
    "    paises.append(dado_de_usuario['pais'])\n",
    "\n",
    "print(paises)\n",
    "print('\\n')"
   ]
  },
  {
   "cell_type": "markdown",
   "metadata": {
    "id": "zMN1Q3jdwoJm"
   },
   "source": [
    "---"
   ]
  },
  {
   "cell_type": "markdown",
   "metadata": {
    "id": "LU_VIEdD_PrZ"
   },
   "source": [
    "1.2. Crie uma lista chamada `leads` com a renda dos usuários que clicaram na propaganda. \n",
    "\n",
    "Dica: Para armazenar a renda dos usuários na lista `leads` utilize o método append()."
   ]
  },
  {
   "cell_type": "code",
   "execution_count": 9,
   "metadata": {
    "id": "3mTbsme4_Pr0"
   },
   "outputs": [
    {
     "name": "stdout",
     "output_type": "stream",
     "text": [
      "-------------------------------------------------------------------\n",
      "Lista dos usuários que clicaram na propaganda.\n",
      "\n",
      "\n"
     ]
    },
    {
     "ename": "KeyError",
     "evalue": "'clicou_no_ad'",
     "output_type": "error",
     "traceback": [
      "\u001b[1;31m---------------------------------------------------------------------------\u001b[0m",
      "\u001b[1;31mKeyError\u001b[0m                                  Traceback (most recent call last)",
      "\u001b[1;32mc:\\Users\\Intel i5\\Downloads\\Python\\Modulos\\Exercícios\\Python_M3_exercise.ipynb Cella 27\u001b[0m line \u001b[0;36m1\n\u001b[0;32m     <a href='vscode-notebook-cell:/c%3A/Users/Intel%20i5/Downloads/Python/Modulos/Exerc%C3%ADcios/Python_M3_exercise.ipynb#X35sZmlsZQ%3D%3D?line=10'>11</a>\u001b[0m \u001b[39m# Busca \u001b[39;00m\n\u001b[0;32m     <a href='vscode-notebook-cell:/c%3A/Users/Intel%20i5/Downloads/Python/Modulos/Exerc%C3%ADcios/Python_M3_exercise.ipynb#X35sZmlsZQ%3D%3D?line=12'>13</a>\u001b[0m \u001b[39mfor\u001b[39;00m dado_de_usuario \u001b[39min\u001b[39;00m propaganda_online:\n\u001b[1;32m---> <a href='vscode-notebook-cell:/c%3A/Users/Intel%20i5/Downloads/Python/Modulos/Exerc%C3%ADcios/Python_M3_exercise.ipynb#X35sZmlsZQ%3D%3D?line=13'>14</a>\u001b[0m   \u001b[39mif\u001b[39;00m dado_de_usuario[\u001b[39m'\u001b[39;49m\u001b[39mclicou_no_ad\u001b[39;49m\u001b[39m'\u001b[39;49m] \u001b[39m==\u001b[39m \u001b[39m1\u001b[39m:\n\u001b[0;32m     <a href='vscode-notebook-cell:/c%3A/Users/Intel%20i5/Downloads/Python/Modulos/Exerc%C3%ADcios/Python_M3_exercise.ipynb#X35sZmlsZQ%3D%3D?line=14'>15</a>\u001b[0m     leads\u001b[39m.\u001b[39mappend(dado_de_usuario[\u001b[39m'\u001b[39m\u001b[39mrenda_area\u001b[39m\u001b[39m'\u001b[39m])\n\u001b[0;32m     <a href='vscode-notebook-cell:/c%3A/Users/Intel%20i5/Downloads/Python/Modulos/Exerc%C3%ADcios/Python_M3_exercise.ipynb#X35sZmlsZQ%3D%3D?line=15'>16</a>\u001b[0m     media_parcial \u001b[39m=\u001b[39m media_parcial \u001b[39m+\u001b[39m dado_de_usuario[\u001b[39m'\u001b[39m\u001b[39mrenda_area\u001b[39m\u001b[39m'\u001b[39m]\n",
      "\u001b[1;31mKeyError\u001b[0m: 'clicou_no_ad'"
     ]
    }
   ],
   "source": [
    "print('-------------------------------------------------------------------')\n",
    "print(\"Lista dos usuários que clicaram na propaganda.\")\n",
    "print('\\n')\n",
    "\n",
    "# Estrutura de dados\n",
    "leads = []\n",
    "media_parcial = 0\n",
    "total = 0\n",
    "media = 0\n",
    "\n",
    "# Busca \n",
    "\n",
    "for dado_de_usuario in propaganda_online:\n",
    "  if dado_de_usuario['clicou_no_ad'] == 1:\n",
    "    leads.append(dado_de_usuario['renda_area'])\n",
    "    media_parcial = media_parcial + dado_de_usuario['renda_area']\n",
    "    total = total + 1\n",
    "\n",
    "print(leads)\n",
    "\n",
    "# Média salarial\n",
    "\n",
    "if total > 1:\n",
    "  media = media_parcial / total\n",
    "  print(\"Média salarial:\", int(media))\n",
    "\n",
    "print('\\n')"
   ]
  },
  {
   "cell_type": "markdown",
   "metadata": {
    "id": "4_L-WULHAesN"
   },
   "source": [
    "---"
   ]
  }
 ],
 "metadata": {
  "colab": {
   "authorship_tag": "ABX9TyORtI3H85s7oTF2DHOZGNZo",
   "collapsed_sections": [],
   "name": "module_3_exercise.ipynb",
   "provenance": [],
   "toc_visible": true
  },
  "kernelspec": {
   "display_name": "Python 3 (ipykernel)",
   "language": "python",
   "name": "python3"
  },
  "language_info": {
   "codemirror_mode": {
    "name": "ipython",
    "version": 3
   },
   "file_extension": ".py",
   "mimetype": "text/x-python",
   "name": "python",
   "nbconvert_exporter": "python",
   "pygments_lexer": "ipython3",
   "version": "3.11.5"
  }
 },
 "nbformat": 4,
 "nbformat_minor": 1
}

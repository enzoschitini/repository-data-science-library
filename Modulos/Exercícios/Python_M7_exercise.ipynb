{
  "cells": [
    {
      "cell_type": "markdown",
      "metadata": {
        "id": "KJqp9AANOCtf"
      },
      "source": [
        "<img src=\"https://raw.githubusercontent.com/andre-marcos-perez/ebac-course-utils/main/media/logo/newebac_logo_black_half.png\" alt=\"ebac-logo\">\n",
        "\n",
        "---\n",
        "\n",
        "# **Módulo 07** | Python: Programação Orientada a Objetos\n",
        "Caderno de **Exercícios**<br> \n",
        "Professor [André Perez](https://www.linkedin.com/in/andremarcosperez/)\n",
        "\n",
        "---"
      ]
    },
    {
      "cell_type": "markdown",
      "metadata": {
        "id": "d9jDtUbDOE1-"
      },
      "source": [
        "# **Tópicos**\n",
        "\n",
        "<ol type=\"1\">\n",
        "  <li>from / import / as;</li>\n",
        "  <li>Módulo;</li>\n",
        "  <li>Pacote;</li>\n",
        "  <li>Baixando pacotes.</li>\n",
        "</ol>"
      ]
    },
    {
      "cell_type": "markdown",
      "metadata": {
        "id": "SmoHgt-lwkpD"
      },
      "source": [
        "---"
      ]
    },
    {
      "cell_type": "markdown",
      "metadata": {
        "id": "GABI6OW8OfQ2"
      },
      "source": [
        "# **Exercícios**"
      ]
    },
    {
      "cell_type": "markdown",
      "metadata": {
        "id": "muD1vxozykSC"
      },
      "source": [
        "## 0\\. Preparação do ambiente"
      ]
    },
    {
      "cell_type": "markdown",
      "metadata": {
        "id": "ahrFfCuBxJKs"
      },
      "source": [
        "Neste exercício vamos utilizar a base de dados de ações da bolsa de valores dos EUA, a Dow Jones. Os dados estão disponíveis para *download* neste [link](https://archive.ics.uci.edu/ml/datasets/Dow+Jones+Index). Vamos utilizar o pacote `wget` para fazer o *download* dos dados."
      ]
    },
    {
      "cell_type": "code",
      "execution_count": null,
      "metadata": {},
      "outputs": [],
      "source": []
    },
    {
      "cell_type": "markdown",
      "metadata": {
        "id": "AtPc2994meNR"
      },
      "source": [
        " - Instalando o pacote `wget` na versão 3.2."
      ]
    },
    {
      "cell_type": "code",
      "execution_count": 19,
      "metadata": {
        "id": "DzM3--8Gk_mU"
      },
      "outputs": [
        {
          "name": "stdout",
          "output_type": "stream",
          "text": [
            "Requirement already satisfied: wget==3.2 in c:\\users\\soldado\\appdata\\local\\programs\\python\\python311\\lib\\site-packages (3.2)Note: you may need to restart the kernel to use updated packages.\n",
            "\n"
          ]
        },
        {
          "name": "stderr",
          "output_type": "stream",
          "text": [
            "\n",
            "[notice] A new release of pip is available: 23.2.1 -> 23.3.1\n",
            "[notice] To update, run: python.exe -m pip install --upgrade pip\n"
          ]
        }
      ],
      "source": [
        "pip install wget==3.2"
      ]
    },
    {
      "cell_type": "markdown",
      "metadata": {
        "id": "tVc1aUTmmkIU"
      },
      "source": [
        " - Fazendo o download dos dados no arquivo compactado `dados.zip`."
      ]
    },
    {
      "cell_type": "code",
      "execution_count": 20,
      "metadata": {
        "id": "SZWlsi2blOOt"
      },
      "outputs": [
        {
          "data": {
            "text/plain": [
              "'./dados.zip'"
            ]
          },
          "execution_count": 20,
          "metadata": {},
          "output_type": "execute_result"
        }
      ],
      "source": [
        "import wget\n",
        "\n",
        "wget.download(url='https://archive.ics.uci.edu/ml/machine-learning-databases/00312/dow_jones_index.zip', out='./dados.zip')"
      ]
    },
    {
      "cell_type": "markdown",
      "metadata": {
        "id": "339oiie2mvCP"
      },
      "source": [
        " - Descompactando os `dados` na pasta dados com o pacote nativo `zipfile`."
      ]
    },
    {
      "cell_type": "code",
      "execution_count": 21,
      "metadata": {
        "id": "6tFPV081loK4"
      },
      "outputs": [],
      "source": [
        "import zipfile\n",
        "\n",
        "with zipfile.ZipFile('./dados.zip', 'r') as fp:\n",
        "  fp.extractall('./dados')"
      ]
    },
    {
      "cell_type": "markdown",
      "metadata": {
        "id": "KI9zQRT2xa7m"
      },
      "source": [
        "Verifique a pasta dados criada, ela deve conter dois arquivos:\n",
        "\n",
        " - **dow_jones_index.data**: um arquivo com os dados;\n",
        " - **dow_jones_index.names**: um arquivo com a descrição completa dos dados.\n",
        "\n",
        "É possível observar que o arquivo de dados é um arquivo separado por virgulas, o famoso `csv`. Vamos renomear o arquivo de dados para que ele tenha a extensão `csv` com o pacote nativo `os`."
      ]
    },
    {
      "cell_type": "markdown",
      "metadata": {
        "id": "5k7LLQU5n8aY"
      },
      "source": [
        "- Renomeando o arquivo com o pacote nativo `os`."
      ]
    },
    {
      "cell_type": "code",
      "execution_count": 22,
      "metadata": {
        "id": "PyZ2zqwcn5CU"
      },
      "outputs": [],
      "source": [
        "import os\n",
        "\n",
        "os.rename('./dados/dow_jones_index.data', './dados/dow_jones_index.csv')"
      ]
    },
    {
      "cell_type": "markdown",
      "metadata": {
        "id": "2Zf74P1yoeYc"
      },
      "source": [
        "Pronto! Abra o arquivo e o Google Colab irá apresentar uma visualização bem legal dos dados."
      ]
    },
    {
      "cell_type": "markdown",
      "metadata": {
        "id": "zMN1Q3jdwoJm"
      },
      "source": [
        "---"
      ]
    },
    {
      "cell_type": "markdown",
      "metadata": {
        "id": "FwqgmwxakNh6"
      },
      "source": [
        "## 1\\. Pandas"
      ]
    },
    {
      "cell_type": "markdown",
      "metadata": {
        "id": "It_mfyHzkRJ8"
      },
      "source": [
        "Para processar os dados, vamos utilizar o pacote `pandas` na versão `1.1.5`. A documentação completa por ser encontrada neste [link](https://pandas.pydata.org/docs/)"
      ]
    },
    {
      "cell_type": "markdown",
      "metadata": {},
      "source": [
        "!pip install pandas==1.1.5"
      ]
    },
    {
      "cell_type": "markdown",
      "metadata": {
        "id": "CqVcTZE-wyBt"
      },
      "source": [
        "Vamos importar o pacote com o apelido (alias) `pd`."
      ]
    },
    {
      "cell_type": "code",
      "execution_count": 23,
      "metadata": {
        "id": "qjA_H6WapxK3"
      },
      "outputs": [],
      "source": [
        "import pandas as pd"
      ]
    },
    {
      "cell_type": "markdown",
      "metadata": {
        "id": "KFQ77on-w0Fo"
      },
      "source": [
        "Estamos prontos para ler o arquivo."
      ]
    },
    {
      "cell_type": "code",
      "execution_count": 61,
      "metadata": {
        "id": "-1yL07iwqWk3"
      },
      "outputs": [
        {
          "name": "stdout",
          "output_type": "stream",
          "text": [
            "[1, 'AA', '1/7/2011', '$15.82', '$16.72', '$15.78', '$16.42', 239655616, 3.79267, nan, nan, '$16.71', '$15.97', -4.42849, 26, 0.182704]\n",
            "AA\n"
          ]
        }
      ],
      "source": [
        "df = pd.read_csv('./dados/dow_jones_index.csv')"
      ]
    },
    {
      "cell_type": "markdown",
      "metadata": {
        "id": "mnLvLSWCxGt_"
      },
      "source": [
        "O pandas trabalha com o conceito de dataframe, uma estrutura de dados com muitos métodos e atributos que aceleram o processamento de dados. Alguns exemplos:"
      ]
    },
    {
      "cell_type": "markdown",
      "metadata": {
        "id": "rf6pevg7xIuQ"
      },
      "source": [
        " - Visualizando as `n` primeiras linhas:"
      ]
    },
    {
      "cell_type": "code",
      "execution_count": 25,
      "metadata": {
        "id": "fqF7AQvRqn69"
      },
      "outputs": [
        {
          "data": {
            "text/html": [
              "<div>\n",
              "<style scoped>\n",
              "    .dataframe tbody tr th:only-of-type {\n",
              "        vertical-align: middle;\n",
              "    }\n",
              "\n",
              "    .dataframe tbody tr th {\n",
              "        vertical-align: top;\n",
              "    }\n",
              "\n",
              "    .dataframe thead th {\n",
              "        text-align: right;\n",
              "    }\n",
              "</style>\n",
              "<table border=\"1\" class=\"dataframe\">\n",
              "  <thead>\n",
              "    <tr style=\"text-align: right;\">\n",
              "      <th></th>\n",
              "      <th>quarter</th>\n",
              "      <th>stock</th>\n",
              "      <th>date</th>\n",
              "      <th>open</th>\n",
              "      <th>high</th>\n",
              "      <th>low</th>\n",
              "      <th>close</th>\n",
              "      <th>volume</th>\n",
              "      <th>percent_change_price</th>\n",
              "      <th>percent_change_volume_over_last_wk</th>\n",
              "      <th>previous_weeks_volume</th>\n",
              "      <th>next_weeks_open</th>\n",
              "      <th>next_weeks_close</th>\n",
              "      <th>percent_change_next_weeks_price</th>\n",
              "      <th>days_to_next_dividend</th>\n",
              "      <th>percent_return_next_dividend</th>\n",
              "    </tr>\n",
              "  </thead>\n",
              "  <tbody>\n",
              "    <tr>\n",
              "      <th>0</th>\n",
              "      <td>1</td>\n",
              "      <td>AA</td>\n",
              "      <td>1/7/2011</td>\n",
              "      <td>$15.82</td>\n",
              "      <td>$16.72</td>\n",
              "      <td>$15.78</td>\n",
              "      <td>$16.42</td>\n",
              "      <td>239655616</td>\n",
              "      <td>3.792670</td>\n",
              "      <td>NaN</td>\n",
              "      <td>NaN</td>\n",
              "      <td>$16.71</td>\n",
              "      <td>$15.97</td>\n",
              "      <td>-4.428490</td>\n",
              "      <td>26</td>\n",
              "      <td>0.182704</td>\n",
              "    </tr>\n",
              "    <tr>\n",
              "      <th>1</th>\n",
              "      <td>1</td>\n",
              "      <td>AA</td>\n",
              "      <td>1/14/2011</td>\n",
              "      <td>$16.71</td>\n",
              "      <td>$16.71</td>\n",
              "      <td>$15.64</td>\n",
              "      <td>$15.97</td>\n",
              "      <td>242963398</td>\n",
              "      <td>-4.428490</td>\n",
              "      <td>1.380223</td>\n",
              "      <td>239655616.0</td>\n",
              "      <td>$16.19</td>\n",
              "      <td>$15.79</td>\n",
              "      <td>-2.470660</td>\n",
              "      <td>19</td>\n",
              "      <td>0.187852</td>\n",
              "    </tr>\n",
              "    <tr>\n",
              "      <th>2</th>\n",
              "      <td>1</td>\n",
              "      <td>AA</td>\n",
              "      <td>1/21/2011</td>\n",
              "      <td>$16.19</td>\n",
              "      <td>$16.38</td>\n",
              "      <td>$15.60</td>\n",
              "      <td>$15.79</td>\n",
              "      <td>138428495</td>\n",
              "      <td>-2.470660</td>\n",
              "      <td>-43.024959</td>\n",
              "      <td>242963398.0</td>\n",
              "      <td>$15.87</td>\n",
              "      <td>$16.13</td>\n",
              "      <td>1.638310</td>\n",
              "      <td>12</td>\n",
              "      <td>0.189994</td>\n",
              "    </tr>\n",
              "    <tr>\n",
              "      <th>3</th>\n",
              "      <td>1</td>\n",
              "      <td>AA</td>\n",
              "      <td>1/28/2011</td>\n",
              "      <td>$15.87</td>\n",
              "      <td>$16.63</td>\n",
              "      <td>$15.82</td>\n",
              "      <td>$16.13</td>\n",
              "      <td>151379173</td>\n",
              "      <td>1.638310</td>\n",
              "      <td>9.355500</td>\n",
              "      <td>138428495.0</td>\n",
              "      <td>$16.18</td>\n",
              "      <td>$17.14</td>\n",
              "      <td>5.933250</td>\n",
              "      <td>5</td>\n",
              "      <td>0.185989</td>\n",
              "    </tr>\n",
              "    <tr>\n",
              "      <th>4</th>\n",
              "      <td>1</td>\n",
              "      <td>AA</td>\n",
              "      <td>2/4/2011</td>\n",
              "      <td>$16.18</td>\n",
              "      <td>$17.39</td>\n",
              "      <td>$16.18</td>\n",
              "      <td>$17.14</td>\n",
              "      <td>154387761</td>\n",
              "      <td>5.933250</td>\n",
              "      <td>1.987452</td>\n",
              "      <td>151379173.0</td>\n",
              "      <td>$17.33</td>\n",
              "      <td>$17.37</td>\n",
              "      <td>0.230814</td>\n",
              "      <td>97</td>\n",
              "      <td>0.175029</td>\n",
              "    </tr>\n",
              "    <tr>\n",
              "      <th>5</th>\n",
              "      <td>1</td>\n",
              "      <td>AA</td>\n",
              "      <td>2/11/2011</td>\n",
              "      <td>$17.33</td>\n",
              "      <td>$17.48</td>\n",
              "      <td>$16.97</td>\n",
              "      <td>$17.37</td>\n",
              "      <td>114691279</td>\n",
              "      <td>0.230814</td>\n",
              "      <td>-25.712195</td>\n",
              "      <td>154387761.0</td>\n",
              "      <td>$17.39</td>\n",
              "      <td>$17.28</td>\n",
              "      <td>-0.632547</td>\n",
              "      <td>90</td>\n",
              "      <td>0.172712</td>\n",
              "    </tr>\n",
              "    <tr>\n",
              "      <th>6</th>\n",
              "      <td>1</td>\n",
              "      <td>AA</td>\n",
              "      <td>2/18/2011</td>\n",
              "      <td>$17.39</td>\n",
              "      <td>$17.68</td>\n",
              "      <td>$17.28</td>\n",
              "      <td>$17.28</td>\n",
              "      <td>80023895</td>\n",
              "      <td>-0.632547</td>\n",
              "      <td>-30.226696</td>\n",
              "      <td>114691279.0</td>\n",
              "      <td>$16.98</td>\n",
              "      <td>$16.68</td>\n",
              "      <td>-1.766780</td>\n",
              "      <td>83</td>\n",
              "      <td>0.173611</td>\n",
              "    </tr>\n",
              "    <tr>\n",
              "      <th>7</th>\n",
              "      <td>1</td>\n",
              "      <td>AA</td>\n",
              "      <td>2/25/2011</td>\n",
              "      <td>$16.98</td>\n",
              "      <td>$17.15</td>\n",
              "      <td>$15.96</td>\n",
              "      <td>$16.68</td>\n",
              "      <td>132981863</td>\n",
              "      <td>-1.766780</td>\n",
              "      <td>66.177694</td>\n",
              "      <td>80023895.0</td>\n",
              "      <td>$16.81</td>\n",
              "      <td>$16.58</td>\n",
              "      <td>-1.368230</td>\n",
              "      <td>76</td>\n",
              "      <td>0.179856</td>\n",
              "    </tr>\n",
              "    <tr>\n",
              "      <th>8</th>\n",
              "      <td>1</td>\n",
              "      <td>AA</td>\n",
              "      <td>3/4/2011</td>\n",
              "      <td>$16.81</td>\n",
              "      <td>$16.94</td>\n",
              "      <td>$16.13</td>\n",
              "      <td>$16.58</td>\n",
              "      <td>109493077</td>\n",
              "      <td>-1.368230</td>\n",
              "      <td>-17.663150</td>\n",
              "      <td>132981863.0</td>\n",
              "      <td>$16.58</td>\n",
              "      <td>$16.03</td>\n",
              "      <td>-3.317250</td>\n",
              "      <td>69</td>\n",
              "      <td>0.180941</td>\n",
              "    </tr>\n",
              "    <tr>\n",
              "      <th>9</th>\n",
              "      <td>1</td>\n",
              "      <td>AA</td>\n",
              "      <td>3/11/2011</td>\n",
              "      <td>$16.58</td>\n",
              "      <td>$16.75</td>\n",
              "      <td>$15.42</td>\n",
              "      <td>$16.03</td>\n",
              "      <td>114332562</td>\n",
              "      <td>-3.317250</td>\n",
              "      <td>4.419900</td>\n",
              "      <td>109493077.0</td>\n",
              "      <td>$15.95</td>\n",
              "      <td>$16.11</td>\n",
              "      <td>1.003130</td>\n",
              "      <td>62</td>\n",
              "      <td>0.187149</td>\n",
              "    </tr>\n",
              "  </tbody>\n",
              "</table>\n",
              "</div>"
            ],
            "text/plain": [
              "   quarter stock       date    open    high     low   close     volume  \\\n",
              "0        1    AA   1/7/2011  $15.82  $16.72  $15.78  $16.42  239655616   \n",
              "1        1    AA  1/14/2011  $16.71  $16.71  $15.64  $15.97  242963398   \n",
              "2        1    AA  1/21/2011  $16.19  $16.38  $15.60  $15.79  138428495   \n",
              "3        1    AA  1/28/2011  $15.87  $16.63  $15.82  $16.13  151379173   \n",
              "4        1    AA   2/4/2011  $16.18  $17.39  $16.18  $17.14  154387761   \n",
              "5        1    AA  2/11/2011  $17.33  $17.48  $16.97  $17.37  114691279   \n",
              "6        1    AA  2/18/2011  $17.39  $17.68  $17.28  $17.28   80023895   \n",
              "7        1    AA  2/25/2011  $16.98  $17.15  $15.96  $16.68  132981863   \n",
              "8        1    AA   3/4/2011  $16.81  $16.94  $16.13  $16.58  109493077   \n",
              "9        1    AA  3/11/2011  $16.58  $16.75  $15.42  $16.03  114332562   \n",
              "\n",
              "   percent_change_price  percent_change_volume_over_last_wk  \\\n",
              "0              3.792670                                 NaN   \n",
              "1             -4.428490                            1.380223   \n",
              "2             -2.470660                          -43.024959   \n",
              "3              1.638310                            9.355500   \n",
              "4              5.933250                            1.987452   \n",
              "5              0.230814                          -25.712195   \n",
              "6             -0.632547                          -30.226696   \n",
              "7             -1.766780                           66.177694   \n",
              "8             -1.368230                          -17.663150   \n",
              "9             -3.317250                            4.419900   \n",
              "\n",
              "   previous_weeks_volume next_weeks_open next_weeks_close  \\\n",
              "0                    NaN          $16.71           $15.97   \n",
              "1            239655616.0          $16.19           $15.79   \n",
              "2            242963398.0          $15.87           $16.13   \n",
              "3            138428495.0          $16.18           $17.14   \n",
              "4            151379173.0          $17.33           $17.37   \n",
              "5            154387761.0          $17.39           $17.28   \n",
              "6            114691279.0          $16.98           $16.68   \n",
              "7             80023895.0          $16.81           $16.58   \n",
              "8            132981863.0          $16.58           $16.03   \n",
              "9            109493077.0          $15.95           $16.11   \n",
              "\n",
              "   percent_change_next_weeks_price  days_to_next_dividend  \\\n",
              "0                        -4.428490                     26   \n",
              "1                        -2.470660                     19   \n",
              "2                         1.638310                     12   \n",
              "3                         5.933250                      5   \n",
              "4                         0.230814                     97   \n",
              "5                        -0.632547                     90   \n",
              "6                        -1.766780                     83   \n",
              "7                        -1.368230                     76   \n",
              "8                        -3.317250                     69   \n",
              "9                         1.003130                     62   \n",
              "\n",
              "   percent_return_next_dividend  \n",
              "0                      0.182704  \n",
              "1                      0.187852  \n",
              "2                      0.189994  \n",
              "3                      0.185989  \n",
              "4                      0.175029  \n",
              "5                      0.172712  \n",
              "6                      0.173611  \n",
              "7                      0.179856  \n",
              "8                      0.180941  \n",
              "9                      0.187149  "
            ]
          },
          "execution_count": 25,
          "metadata": {},
          "output_type": "execute_result"
        }
      ],
      "source": [
        "df.head(n=10)"
      ]
    },
    {
      "cell_type": "markdown",
      "metadata": {
        "id": "Jna7T1eqxRmH"
      },
      "source": [
        " - Visualizando o nome das colunas:"
      ]
    },
    {
      "cell_type": "code",
      "execution_count": 26,
      "metadata": {
        "id": "bX_7C45pxU8Q"
      },
      "outputs": [
        {
          "data": {
            "text/plain": [
              "['quarter',\n",
              " 'stock',\n",
              " 'date',\n",
              " 'open',\n",
              " 'high',\n",
              " 'low',\n",
              " 'close',\n",
              " 'volume',\n",
              " 'percent_change_price',\n",
              " 'percent_change_volume_over_last_wk',\n",
              " 'previous_weeks_volume',\n",
              " 'next_weeks_open',\n",
              " 'next_weeks_close',\n",
              " 'percent_change_next_weeks_price',\n",
              " 'days_to_next_dividend',\n",
              " 'percent_return_next_dividend']"
            ]
          },
          "execution_count": 26,
          "metadata": {},
          "output_type": "execute_result"
        }
      ],
      "source": [
        "df.columns.to_list()"
      ]
    },
    {
      "cell_type": "markdown",
      "metadata": {
        "id": "sqLB9abQxbE-"
      },
      "source": [
        " - Verificando o número de linhas e colunas."
      ]
    },
    {
      "cell_type": "code",
      "execution_count": 27,
      "metadata": {
        "id": "sBrOUuUVxe7A"
      },
      "outputs": [
        {
          "name": "stdout",
          "output_type": "stream",
          "text": [
            "Número de linhas: 750\n",
            "Número de colunas: 16\n"
          ]
        }
      ],
      "source": [
        "linhas, colunas = df.shape\n",
        "print(f'Número de linhas: {linhas}')\n",
        "print(f'Número de colunas: {colunas}')"
      ]
    },
    {
      "cell_type": "markdown",
      "metadata": {
        "id": "bSN4zYEKyC7L"
      },
      "source": [
        "Vamos selecionar os valores de abertura, fechamento, máximo e mínimo das ações do McDonalds, listado na Dow Jones como MCD:"
      ]
    },
    {
      "cell_type": "markdown",
      "metadata": {
        "id": "CyTuPJmgzbZd"
      },
      "source": [
        " - Selecionando as linha do dataframe original `df` em que a coluna `stock` é igual a `MCD`."
      ]
    },
    {
      "cell_type": "code",
      "execution_count": 56,
      "metadata": {
        "id": "25XUDMPqqwgH"
      },
      "outputs": [
        {
          "name": "stdout",
          "output_type": "stream",
          "text": [
            "Collecting pandas==1.1.5\n",
            "  Using cached pandas-1.1.5.tar.gz (5.2 MB)\n",
            "  Installing build dependencies: started\n",
            "  Installing build dependencies: finished with status 'done'\n",
            "  Getting requirements to build wheel: started\n",
            "  Getting requirements to build wheel: still running...\n",
            "  Getting requirements to build wheel: finished with status 'done'\n",
            "  Preparing metadata (pyproject.toml): started\n",
            "  Preparing metadata (pyproject.toml): finished with status 'done'\n",
            "Requirement already satisfied: python-dateutil>=2.7.3 in c:\\users\\soldado\\appdata\\roaming\\python\\python311\\site-packages (from pandas==1.1.5) (2.8.2)\n",
            "Requirement already satisfied: pytz>=2017.2 in c:\\users\\soldado\\appdata\\local\\programs\\python\\python311\\lib\\site-packages (from pandas==1.1.5) (2023.3.post1)\n",
            "Requirement already satisfied: numpy>=1.15.4 in c:\\users\\soldado\\appdata\\local\\programs\\python\\python311\\lib\\site-packages (from pandas==1.1.5) (1.25.2)\n",
            "Requirement already satisfied: six>=1.5 in c:\\users\\soldado\\appdata\\roaming\\python\\python311\\site-packages (from python-dateutil>=2.7.3->pandas==1.1.5) (1.16.0)\n",
            "Building wheels for collected packages: pandas\n",
            "  Building wheel for pandas (pyproject.toml): started\n",
            "  Building wheel for pandas (pyproject.toml): finished with status 'error'\n",
            "Failed to build pandas\n"
          ]
        },
        {
          "name": "stderr",
          "output_type": "stream",
          "text": [
            "  error: subprocess-exited-with-error\n",
            "  \n",
            "  × Building wheel for pandas (pyproject.toml) did not run successfully.\n",
            "  │ exit code: 1\n",
            "  ╰─> [1449 lines of output]\n",
            "      <string>:19: DeprecationWarning: pkg_resources is deprecated as an API. See https://setuptools.pypa.io/en/latest/pkg_resources.html\n",
            "      <string>:45: DeprecationWarning: distutils Version classes are deprecated. Use packaging.version instead.\n",
            "      running bdist_wheel\n",
            "      running build\n",
            "      running build_py\n",
            "      creating build\n",
            "      creating build\\lib.win-amd64-cpython-311\n",
            "      creating build\\lib.win-amd64-cpython-311\\pandas\n",
            "      copying pandas\\conftest.py -> build\\lib.win-amd64-cpython-311\\pandas\n",
            "      copying pandas\\testing.py -> build\\lib.win-amd64-cpython-311\\pandas\n",
            "      copying pandas\\_testing.py -> build\\lib.win-amd64-cpython-311\\pandas\n",
            "      copying pandas\\_typing.py -> build\\lib.win-amd64-cpython-311\\pandas\n",
            "      copying pandas\\_version.py -> build\\lib.win-amd64-cpython-311\\pandas\n",
            "      copying pandas\\__init__.py -> build\\lib.win-amd64-cpython-311\\pandas\n",
            "      creating build\\lib.win-amd64-cpython-311\\pandas\\api\n",
            "      copying pandas\\api\\__init__.py -> build\\lib.win-amd64-cpython-311\\pandas\\api\n",
            "      creating build\\lib.win-amd64-cpython-311\\pandas\\arrays\n",
            "      copying pandas\\arrays\\__init__.py -> build\\lib.win-amd64-cpython-311\\pandas\\arrays\n",
            "      creating build\\lib.win-amd64-cpython-311\\pandas\\compat\n",
            "      copying pandas\\compat\\chainmap.py -> build\\lib.win-amd64-cpython-311\\pandas\\compat\n",
            "      copying pandas\\compat\\pickle_compat.py -> build\\lib.win-amd64-cpython-311\\pandas\\compat\n",
            "      copying pandas\\compat\\_optional.py -> build\\lib.win-amd64-cpython-311\\pandas\\compat\n",
            "      copying pandas\\compat\\__init__.py -> build\\lib.win-amd64-cpython-311\\pandas\\compat\n",
            "      creating build\\lib.win-amd64-cpython-311\\pandas\\core\n",
            "      copying pandas\\core\\accessor.py -> build\\lib.win-amd64-cpython-311\\pandas\\core\n",
            "      copying pandas\\core\\aggregation.py -> build\\lib.win-amd64-cpython-311\\pandas\\core\n",
            "      copying pandas\\core\\algorithms.py -> build\\lib.win-amd64-cpython-311\\pandas\\core\n",
            "      copying pandas\\core\\api.py -> build\\lib.win-amd64-cpython-311\\pandas\\core\n",
            "      copying pandas\\core\\apply.py -> build\\lib.win-amd64-cpython-311\\pandas\\core\n",
            "      copying pandas\\core\\base.py -> build\\lib.win-amd64-cpython-311\\pandas\\core\n",
            "      copying pandas\\core\\common.py -> build\\lib.win-amd64-cpython-311\\pandas\\core\n",
            "      copying pandas\\core\\config_init.py -> build\\lib.win-amd64-cpython-311\\pandas\\core\n",
            "      copying pandas\\core\\construction.py -> build\\lib.win-amd64-cpython-311\\pandas\\core\n",
            "      copying pandas\\core\\frame.py -> build\\lib.win-amd64-cpython-311\\pandas\\core\n",
            "      copying pandas\\core\\generic.py -> build\\lib.win-amd64-cpython-311\\pandas\\core\n",
            "      copying pandas\\core\\index.py -> build\\lib.win-amd64-cpython-311\\pandas\\core\n",
            "      copying pandas\\core\\indexers.py -> build\\lib.win-amd64-cpython-311\\pandas\\core\n",
            "      copying pandas\\core\\indexing.py -> build\\lib.win-amd64-cpython-311\\pandas\\core\n",
            "      copying pandas\\core\\missing.py -> build\\lib.win-amd64-cpython-311\\pandas\\core\n",
            "      copying pandas\\core\\nanops.py -> build\\lib.win-amd64-cpython-311\\pandas\\core\n",
            "      copying pandas\\core\\resample.py -> build\\lib.win-amd64-cpython-311\\pandas\\core\n",
            "      copying pandas\\core\\series.py -> build\\lib.win-amd64-cpython-311\\pandas\\core\n",
            "      copying pandas\\core\\shared_docs.py -> build\\lib.win-amd64-cpython-311\\pandas\\core\n",
            "      copying pandas\\core\\sorting.py -> build\\lib.win-amd64-cpython-311\\pandas\\core\n",
            "      copying pandas\\core\\strings.py -> build\\lib.win-amd64-cpython-311\\pandas\\core\n",
            "      copying pandas\\core\\__init__.py -> build\\lib.win-amd64-cpython-311\\pandas\\core\n",
            "      creating build\\lib.win-amd64-cpython-311\\pandas\\errors\n",
            "      copying pandas\\errors\\__init__.py -> build\\lib.win-amd64-cpython-311\\pandas\\errors\n",
            "      creating build\\lib.win-amd64-cpython-311\\pandas\\io\n",
            "      copying pandas\\io\\api.py -> build\\lib.win-amd64-cpython-311\\pandas\\io\n",
            "      copying pandas\\io\\clipboards.py -> build\\lib.win-amd64-cpython-311\\pandas\\io\n",
            "      copying pandas\\io\\common.py -> build\\lib.win-amd64-cpython-311\\pandas\\io\n",
            "      copying pandas\\io\\date_converters.py -> build\\lib.win-amd64-cpython-311\\pandas\\io\n",
            "      copying pandas\\io\\feather_format.py -> build\\lib.win-amd64-cpython-311\\pandas\\io\n",
            "      copying pandas\\io\\gbq.py -> build\\lib.win-amd64-cpython-311\\pandas\\io\n",
            "      copying pandas\\io\\html.py -> build\\lib.win-amd64-cpython-311\\pandas\\io\n",
            "      copying pandas\\io\\orc.py -> build\\lib.win-amd64-cpython-311\\pandas\\io\n",
            "      copying pandas\\io\\parquet.py -> build\\lib.win-amd64-cpython-311\\pandas\\io\n",
            "      copying pandas\\io\\parsers.py -> build\\lib.win-amd64-cpython-311\\pandas\\io\n",
            "      copying pandas\\io\\pickle.py -> build\\lib.win-amd64-cpython-311\\pandas\\io\n",
            "      copying pandas\\io\\pytables.py -> build\\lib.win-amd64-cpython-311\\pandas\\io\n",
            "      copying pandas\\io\\spss.py -> build\\lib.win-amd64-cpython-311\\pandas\\io\n",
            "      copying pandas\\io\\sql.py -> build\\lib.win-amd64-cpython-311\\pandas\\io\n",
            "      copying pandas\\io\\stata.py -> build\\lib.win-amd64-cpython-311\\pandas\\io\n",
            "      copying pandas\\io\\__init__.py -> build\\lib.win-amd64-cpython-311\\pandas\\io\n",
            "      creating build\\lib.win-amd64-cpython-311\\pandas\\plotting\n",
            "      copying pandas\\plotting\\_core.py -> build\\lib.win-amd64-cpython-311\\pandas\\plotting\n",
            "      copying pandas\\plotting\\_misc.py -> build\\lib.win-amd64-cpython-311\\pandas\\plotting\n",
            "      copying pandas\\plotting\\__init__.py -> build\\lib.win-amd64-cpython-311\\pandas\\plotting\n",
            "      creating build\\lib.win-amd64-cpython-311\\pandas\\tests\n",
            "      copying pandas\\tests\\test_aggregation.py -> build\\lib.win-amd64-cpython-311\\pandas\\tests\n",
            "      copying pandas\\tests\\test_algos.py -> build\\lib.win-amd64-cpython-311\\pandas\\tests\n",
            "      copying pandas\\tests\\test_common.py -> build\\lib.win-amd64-cpython-311\\pandas\\tests\n",
            "      copying pandas\\tests\\test_downstream.py -> build\\lib.win-amd64-cpython-311\\pandas\\tests\n",
            "      copying pandas\\tests\\test_errors.py -> build\\lib.win-amd64-cpython-311\\pandas\\tests\n",
            "      copying pandas\\tests\\test_expressions.py -> build\\lib.win-amd64-cpython-311\\pandas\\tests\n",
            "      copying pandas\\tests\\test_join.py -> build\\lib.win-amd64-cpython-311\\pandas\\tests\n",
            "      copying pandas\\tests\\test_lib.py -> build\\lib.win-amd64-cpython-311\\pandas\\tests\n",
            "      copying pandas\\tests\\test_multilevel.py -> build\\lib.win-amd64-cpython-311\\pandas\\tests\n",
            "      copying pandas\\tests\\test_nanops.py -> build\\lib.win-amd64-cpython-311\\pandas\\tests\n",
            "      copying pandas\\tests\\test_optional_dependency.py -> build\\lib.win-amd64-cpython-311\\pandas\\tests\n",
            "      copying pandas\\tests\\test_register_accessor.py -> build\\lib.win-amd64-cpython-311\\pandas\\tests\n",
            "      copying pandas\\tests\\test_sorting.py -> build\\lib.win-amd64-cpython-311\\pandas\\tests\n",
            "      copying pandas\\tests\\test_strings.py -> build\\lib.win-amd64-cpython-311\\pandas\\tests\n",
            "      copying pandas\\tests\\test_take.py -> build\\lib.win-amd64-cpython-311\\pandas\\tests\n",
            "      copying pandas\\tests\\__init__.py -> build\\lib.win-amd64-cpython-311\\pandas\\tests\n",
            "      creating build\\lib.win-amd64-cpython-311\\pandas\\tseries\n",
            "      copying pandas\\tseries\\api.py -> build\\lib.win-amd64-cpython-311\\pandas\\tseries\n",
            "      copying pandas\\tseries\\frequencies.py -> build\\lib.win-amd64-cpython-311\\pandas\\tseries\n",
            "      copying pandas\\tseries\\holiday.py -> build\\lib.win-amd64-cpython-311\\pandas\\tseries\n",
            "      copying pandas\\tseries\\offsets.py -> build\\lib.win-amd64-cpython-311\\pandas\\tseries\n",
            "      copying pandas\\tseries\\__init__.py -> build\\lib.win-amd64-cpython-311\\pandas\\tseries\n",
            "      creating build\\lib.win-amd64-cpython-311\\pandas\\util\n",
            "      copying pandas\\util\\testing.py -> build\\lib.win-amd64-cpython-311\\pandas\\util\n",
            "      copying pandas\\util\\_decorators.py -> build\\lib.win-amd64-cpython-311\\pandas\\util\n",
            "      copying pandas\\util\\_depr_module.py -> build\\lib.win-amd64-cpython-311\\pandas\\util\n",
            "      copying pandas\\util\\_doctools.py -> build\\lib.win-amd64-cpython-311\\pandas\\util\n",
            "      copying pandas\\util\\_exceptions.py -> build\\lib.win-amd64-cpython-311\\pandas\\util\n",
            "      copying pandas\\util\\_print_versions.py -> build\\lib.win-amd64-cpython-311\\pandas\\util\n",
            "      copying pandas\\util\\_tester.py -> build\\lib.win-amd64-cpython-311\\pandas\\util\n",
            "      copying pandas\\util\\_test_decorators.py -> build\\lib.win-amd64-cpython-311\\pandas\\util\n",
            "      copying pandas\\util\\_validators.py -> build\\lib.win-amd64-cpython-311\\pandas\\util\n",
            "      copying pandas\\util\\__init__.py -> build\\lib.win-amd64-cpython-311\\pandas\\util\n",
            "      creating build\\lib.win-amd64-cpython-311\\pandas\\_config\n",
            "      copying pandas\\_config\\config.py -> build\\lib.win-amd64-cpython-311\\pandas\\_config\n",
            "      copying pandas\\_config\\dates.py -> build\\lib.win-amd64-cpython-311\\pandas\\_config\n",
            "      copying pandas\\_config\\display.py -> build\\lib.win-amd64-cpython-311\\pandas\\_config\n",
            "      copying pandas\\_config\\localization.py -> build\\lib.win-amd64-cpython-311\\pandas\\_config\n",
            "      copying pandas\\_config\\__init__.py -> build\\lib.win-amd64-cpython-311\\pandas\\_config\n",
            "      creating build\\lib.win-amd64-cpython-311\\pandas\\_libs\n",
            "      copying pandas\\_libs\\__init__.py -> build\\lib.win-amd64-cpython-311\\pandas\\_libs\n",
            "      creating build\\lib.win-amd64-cpython-311\\pandas\\api\\extensions\n",
            "      copying pandas\\api\\extensions\\__init__.py -> build\\lib.win-amd64-cpython-311\\pandas\\api\\extensions\n",
            "      creating build\\lib.win-amd64-cpython-311\\pandas\\api\\indexers\n",
            "      copying pandas\\api\\indexers\\__init__.py -> build\\lib.win-amd64-cpython-311\\pandas\\api\\indexers\n",
            "      creating build\\lib.win-amd64-cpython-311\\pandas\\api\\types\n",
            "      copying pandas\\api\\types\\__init__.py -> build\\lib.win-amd64-cpython-311\\pandas\\api\\types\n",
            "      creating build\\lib.win-amd64-cpython-311\\pandas\\compat\\numpy\n",
            "      copying pandas\\compat\\numpy\\function.py -> build\\lib.win-amd64-cpython-311\\pandas\\compat\\numpy\n",
            "      copying pandas\\compat\\numpy\\__init__.py -> build\\lib.win-amd64-cpython-311\\pandas\\compat\\numpy\n",
            "      creating build\\lib.win-amd64-cpython-311\\pandas\\core\\arrays\n",
            "      copying pandas\\core\\arrays\\base.py -> build\\lib.win-amd64-cpython-311\\pandas\\core\\arrays\n",
            "      copying pandas\\core\\arrays\\boolean.py -> build\\lib.win-amd64-cpython-311\\pandas\\core\\arrays\n",
            "      copying pandas\\core\\arrays\\categorical.py -> build\\lib.win-amd64-cpython-311\\pandas\\core\\arrays\n",
            "      copying pandas\\core\\arrays\\datetimelike.py -> build\\lib.win-amd64-cpython-311\\pandas\\core\\arrays\n",
            "      copying pandas\\core\\arrays\\datetimes.py -> build\\lib.win-amd64-cpython-311\\pandas\\core\\arrays\n",
            "      copying pandas\\core\\arrays\\integer.py -> build\\lib.win-amd64-cpython-311\\pandas\\core\\arrays\n",
            "      copying pandas\\core\\arrays\\interval.py -> build\\lib.win-amd64-cpython-311\\pandas\\core\\arrays\n",
            "      copying pandas\\core\\arrays\\masked.py -> build\\lib.win-amd64-cpython-311\\pandas\\core\\arrays\n",
            "      copying pandas\\core\\arrays\\numpy_.py -> build\\lib.win-amd64-cpython-311\\pandas\\core\\arrays\n",
            "      copying pandas\\core\\arrays\\period.py -> build\\lib.win-amd64-cpython-311\\pandas\\core\\arrays\n",
            "      copying pandas\\core\\arrays\\string_.py -> build\\lib.win-amd64-cpython-311\\pandas\\core\\arrays\n",
            "      copying pandas\\core\\arrays\\timedeltas.py -> build\\lib.win-amd64-cpython-311\\pandas\\core\\arrays\n",
            "      copying pandas\\core\\arrays\\_arrow_utils.py -> build\\lib.win-amd64-cpython-311\\pandas\\core\\arrays\n",
            "      copying pandas\\core\\arrays\\_mixins.py -> build\\lib.win-amd64-cpython-311\\pandas\\core\\arrays\n",
            "      copying pandas\\core\\arrays\\_ranges.py -> build\\lib.win-amd64-cpython-311\\pandas\\core\\arrays\n",
            "      copying pandas\\core\\arrays\\__init__.py -> build\\lib.win-amd64-cpython-311\\pandas\\core\\arrays\n",
            "      creating build\\lib.win-amd64-cpython-311\\pandas\\core\\array_algos\n",
            "      copying pandas\\core\\array_algos\\masked_reductions.py -> build\\lib.win-amd64-cpython-311\\pandas\\core\\array_algos\n",
            "      copying pandas\\core\\array_algos\\transforms.py -> build\\lib.win-amd64-cpython-311\\pandas\\core\\array_algos\n",
            "      copying pandas\\core\\array_algos\\__init__.py -> build\\lib.win-amd64-cpython-311\\pandas\\core\\array_algos\n",
            "      creating build\\lib.win-amd64-cpython-311\\pandas\\core\\computation\n",
            "      copying pandas\\core\\computation\\align.py -> build\\lib.win-amd64-cpython-311\\pandas\\core\\computation\n",
            "      copying pandas\\core\\computation\\api.py -> build\\lib.win-amd64-cpython-311\\pandas\\core\\computation\n",
            "      copying pandas\\core\\computation\\check.py -> build\\lib.win-amd64-cpython-311\\pandas\\core\\computation\n",
            "      copying pandas\\core\\computation\\common.py -> build\\lib.win-amd64-cpython-311\\pandas\\core\\computation\n",
            "      copying pandas\\core\\computation\\engines.py -> build\\lib.win-amd64-cpython-311\\pandas\\core\\computation\n",
            "      copying pandas\\core\\computation\\eval.py -> build\\lib.win-amd64-cpython-311\\pandas\\core\\computation\n",
            "      copying pandas\\core\\computation\\expr.py -> build\\lib.win-amd64-cpython-311\\pandas\\core\\computation\n",
            "      copying pandas\\core\\computation\\expressions.py -> build\\lib.win-amd64-cpython-311\\pandas\\core\\computation\n",
            "      copying pandas\\core\\computation\\ops.py -> build\\lib.win-amd64-cpython-311\\pandas\\core\\computation\n",
            "      copying pandas\\core\\computation\\parsing.py -> build\\lib.win-amd64-cpython-311\\pandas\\core\\computation\n",
            "      copying pandas\\core\\computation\\pytables.py -> build\\lib.win-amd64-cpython-311\\pandas\\core\\computation\n",
            "      copying pandas\\core\\computation\\scope.py -> build\\lib.win-amd64-cpython-311\\pandas\\core\\computation\n",
            "      copying pandas\\core\\computation\\__init__.py -> build\\lib.win-amd64-cpython-311\\pandas\\core\\computation\n",
            "      creating build\\lib.win-amd64-cpython-311\\pandas\\core\\dtypes\n",
            "      copying pandas\\core\\dtypes\\api.py -> build\\lib.win-amd64-cpython-311\\pandas\\core\\dtypes\n",
            "      copying pandas\\core\\dtypes\\base.py -> build\\lib.win-amd64-cpython-311\\pandas\\core\\dtypes\n",
            "      copying pandas\\core\\dtypes\\cast.py -> build\\lib.win-amd64-cpython-311\\pandas\\core\\dtypes\n",
            "      copying pandas\\core\\dtypes\\common.py -> build\\lib.win-amd64-cpython-311\\pandas\\core\\dtypes\n",
            "      copying pandas\\core\\dtypes\\concat.py -> build\\lib.win-amd64-cpython-311\\pandas\\core\\dtypes\n",
            "      copying pandas\\core\\dtypes\\dtypes.py -> build\\lib.win-amd64-cpython-311\\pandas\\core\\dtypes\n",
            "      copying pandas\\core\\dtypes\\generic.py -> build\\lib.win-amd64-cpython-311\\pandas\\core\\dtypes\n",
            "      copying pandas\\core\\dtypes\\inference.py -> build\\lib.win-amd64-cpython-311\\pandas\\core\\dtypes\n",
            "      copying pandas\\core\\dtypes\\missing.py -> build\\lib.win-amd64-cpython-311\\pandas\\core\\dtypes\n",
            "      copying pandas\\core\\dtypes\\__init__.py -> build\\lib.win-amd64-cpython-311\\pandas\\core\\dtypes\n",
            "      creating build\\lib.win-amd64-cpython-311\\pandas\\core\\groupby\n",
            "      copying pandas\\core\\groupby\\base.py -> build\\lib.win-amd64-cpython-311\\pandas\\core\\groupby\n",
            "      copying pandas\\core\\groupby\\categorical.py -> build\\lib.win-amd64-cpython-311\\pandas\\core\\groupby\n",
            "      copying pandas\\core\\groupby\\generic.py -> build\\lib.win-amd64-cpython-311\\pandas\\core\\groupby\n",
            "      copying pandas\\core\\groupby\\groupby.py -> build\\lib.win-amd64-cpython-311\\pandas\\core\\groupby\n",
            "      copying pandas\\core\\groupby\\grouper.py -> build\\lib.win-amd64-cpython-311\\pandas\\core\\groupby\n",
            "      copying pandas\\core\\groupby\\ops.py -> build\\lib.win-amd64-cpython-311\\pandas\\core\\groupby\n",
            "      copying pandas\\core\\groupby\\__init__.py -> build\\lib.win-amd64-cpython-311\\pandas\\core\\groupby\n",
            "      creating build\\lib.win-amd64-cpython-311\\pandas\\core\\indexes\n",
            "      copying pandas\\core\\indexes\\accessors.py -> build\\lib.win-amd64-cpython-311\\pandas\\core\\indexes\n",
            "      copying pandas\\core\\indexes\\api.py -> build\\lib.win-amd64-cpython-311\\pandas\\core\\indexes\n",
            "      copying pandas\\core\\indexes\\base.py -> build\\lib.win-amd64-cpython-311\\pandas\\core\\indexes\n",
            "      copying pandas\\core\\indexes\\category.py -> build\\lib.win-amd64-cpython-311\\pandas\\core\\indexes\n",
            "      copying pandas\\core\\indexes\\datetimelike.py -> build\\lib.win-amd64-cpython-311\\pandas\\core\\indexes\n",
            "      copying pandas\\core\\indexes\\datetimes.py -> build\\lib.win-amd64-cpython-311\\pandas\\core\\indexes\n",
            "      copying pandas\\core\\indexes\\extension.py -> build\\lib.win-amd64-cpython-311\\pandas\\core\\indexes\n",
            "      copying pandas\\core\\indexes\\frozen.py -> build\\lib.win-amd64-cpython-311\\pandas\\core\\indexes\n",
            "      copying pandas\\core\\indexes\\interval.py -> build\\lib.win-amd64-cpython-311\\pandas\\core\\indexes\n",
            "      copying pandas\\core\\indexes\\multi.py -> build\\lib.win-amd64-cpython-311\\pandas\\core\\indexes\n",
            "      copying pandas\\core\\indexes\\numeric.py -> build\\lib.win-amd64-cpython-311\\pandas\\core\\indexes\n",
            "      copying pandas\\core\\indexes\\period.py -> build\\lib.win-amd64-cpython-311\\pandas\\core\\indexes\n",
            "      copying pandas\\core\\indexes\\range.py -> build\\lib.win-amd64-cpython-311\\pandas\\core\\indexes\n",
            "      copying pandas\\core\\indexes\\timedeltas.py -> build\\lib.win-amd64-cpython-311\\pandas\\core\\indexes\n",
            "      copying pandas\\core\\indexes\\__init__.py -> build\\lib.win-amd64-cpython-311\\pandas\\core\\indexes\n",
            "      creating build\\lib.win-amd64-cpython-311\\pandas\\core\\internals\n",
            "      copying pandas\\core\\internals\\blocks.py -> build\\lib.win-amd64-cpython-311\\pandas\\core\\internals\n",
            "      copying pandas\\core\\internals\\concat.py -> build\\lib.win-amd64-cpython-311\\pandas\\core\\internals\n",
            "      copying pandas\\core\\internals\\construction.py -> build\\lib.win-amd64-cpython-311\\pandas\\core\\internals\n",
            "      copying pandas\\core\\internals\\managers.py -> build\\lib.win-amd64-cpython-311\\pandas\\core\\internals\n",
            "      copying pandas\\core\\internals\\ops.py -> build\\lib.win-amd64-cpython-311\\pandas\\core\\internals\n",
            "      copying pandas\\core\\internals\\__init__.py -> build\\lib.win-amd64-cpython-311\\pandas\\core\\internals\n",
            "      creating build\\lib.win-amd64-cpython-311\\pandas\\core\\ops\n",
            "      copying pandas\\core\\ops\\array_ops.py -> build\\lib.win-amd64-cpython-311\\pandas\\core\\ops\n",
            "      copying pandas\\core\\ops\\common.py -> build\\lib.win-amd64-cpython-311\\pandas\\core\\ops\n",
            "      copying pandas\\core\\ops\\dispatch.py -> build\\lib.win-amd64-cpython-311\\pandas\\core\\ops\n",
            "      copying pandas\\core\\ops\\docstrings.py -> build\\lib.win-amd64-cpython-311\\pandas\\core\\ops\n",
            "      copying pandas\\core\\ops\\invalid.py -> build\\lib.win-amd64-cpython-311\\pandas\\core\\ops\n",
            "      copying pandas\\core\\ops\\mask_ops.py -> build\\lib.win-amd64-cpython-311\\pandas\\core\\ops\n",
            "      copying pandas\\core\\ops\\methods.py -> build\\lib.win-amd64-cpython-311\\pandas\\core\\ops\n",
            "      copying pandas\\core\\ops\\missing.py -> build\\lib.win-amd64-cpython-311\\pandas\\core\\ops\n",
            "      copying pandas\\core\\ops\\roperator.py -> build\\lib.win-amd64-cpython-311\\pandas\\core\\ops\n",
            "      copying pandas\\core\\ops\\__init__.py -> build\\lib.win-amd64-cpython-311\\pandas\\core\\ops\n",
            "      creating build\\lib.win-amd64-cpython-311\\pandas\\core\\reshape\n",
            "      copying pandas\\core\\reshape\\api.py -> build\\lib.win-amd64-cpython-311\\pandas\\core\\reshape\n",
            "      copying pandas\\core\\reshape\\concat.py -> build\\lib.win-amd64-cpython-311\\pandas\\core\\reshape\n",
            "      copying pandas\\core\\reshape\\melt.py -> build\\lib.win-amd64-cpython-311\\pandas\\core\\reshape\n",
            "      copying pandas\\core\\reshape\\merge.py -> build\\lib.win-amd64-cpython-311\\pandas\\core\\reshape\n",
            "      copying pandas\\core\\reshape\\pivot.py -> build\\lib.win-amd64-cpython-311\\pandas\\core\\reshape\n",
            "      copying pandas\\core\\reshape\\reshape.py -> build\\lib.win-amd64-cpython-311\\pandas\\core\\reshape\n",
            "      copying pandas\\core\\reshape\\tile.py -> build\\lib.win-amd64-cpython-311\\pandas\\core\\reshape\n",
            "      copying pandas\\core\\reshape\\util.py -> build\\lib.win-amd64-cpython-311\\pandas\\core\\reshape\n",
            "      copying pandas\\core\\reshape\\__init__.py -> build\\lib.win-amd64-cpython-311\\pandas\\core\\reshape\n",
            "      creating build\\lib.win-amd64-cpython-311\\pandas\\core\\sparse\n",
            "      copying pandas\\core\\sparse\\api.py -> build\\lib.win-amd64-cpython-311\\pandas\\core\\sparse\n",
            "      copying pandas\\core\\sparse\\__init__.py -> build\\lib.win-amd64-cpython-311\\pandas\\core\\sparse\n",
            "      creating build\\lib.win-amd64-cpython-311\\pandas\\core\\tools\n",
            "      copying pandas\\core\\tools\\datetimes.py -> build\\lib.win-amd64-cpython-311\\pandas\\core\\tools\n",
            "      copying pandas\\core\\tools\\numeric.py -> build\\lib.win-amd64-cpython-311\\pandas\\core\\tools\n",
            "      copying pandas\\core\\tools\\timedeltas.py -> build\\lib.win-amd64-cpython-311\\pandas\\core\\tools\n",
            "      copying pandas\\core\\tools\\times.py -> build\\lib.win-amd64-cpython-311\\pandas\\core\\tools\n",
            "      copying pandas\\core\\tools\\__init__.py -> build\\lib.win-amd64-cpython-311\\pandas\\core\\tools\n",
            "      creating build\\lib.win-amd64-cpython-311\\pandas\\core\\util\n",
            "      copying pandas\\core\\util\\hashing.py -> build\\lib.win-amd64-cpython-311\\pandas\\core\\util\n",
            "      copying pandas\\core\\util\\numba_.py -> build\\lib.win-amd64-cpython-311\\pandas\\core\\util\n",
            "      copying pandas\\core\\util\\__init__.py -> build\\lib.win-amd64-cpython-311\\pandas\\core\\util\n",
            "      creating build\\lib.win-amd64-cpython-311\\pandas\\core\\window\n",
            "      copying pandas\\core\\window\\common.py -> build\\lib.win-amd64-cpython-311\\pandas\\core\\window\n",
            "      copying pandas\\core\\window\\ewm.py -> build\\lib.win-amd64-cpython-311\\pandas\\core\\window\n",
            "      copying pandas\\core\\window\\expanding.py -> build\\lib.win-amd64-cpython-311\\pandas\\core\\window\n",
            "      copying pandas\\core\\window\\indexers.py -> build\\lib.win-amd64-cpython-311\\pandas\\core\\window\n",
            "      copying pandas\\core\\window\\numba_.py -> build\\lib.win-amd64-cpython-311\\pandas\\core\\window\n",
            "      copying pandas\\core\\window\\rolling.py -> build\\lib.win-amd64-cpython-311\\pandas\\core\\window\n",
            "      copying pandas\\core\\window\\__init__.py -> build\\lib.win-amd64-cpython-311\\pandas\\core\\window\n",
            "      creating build\\lib.win-amd64-cpython-311\\pandas\\core\\arrays\\sparse\n",
            "      copying pandas\\core\\arrays\\sparse\\accessor.py -> build\\lib.win-amd64-cpython-311\\pandas\\core\\arrays\\sparse\n",
            "      copying pandas\\core\\arrays\\sparse\\array.py -> build\\lib.win-amd64-cpython-311\\pandas\\core\\arrays\\sparse\n",
            "      copying pandas\\core\\arrays\\sparse\\dtype.py -> build\\lib.win-amd64-cpython-311\\pandas\\core\\arrays\\sparse\n",
            "      copying pandas\\core\\arrays\\sparse\\scipy_sparse.py -> build\\lib.win-amd64-cpython-311\\pandas\\core\\arrays\\sparse\n",
            "      copying pandas\\core\\arrays\\sparse\\__init__.py -> build\\lib.win-amd64-cpython-311\\pandas\\core\\arrays\\sparse\n",
            "      creating build\\lib.win-amd64-cpython-311\\pandas\\io\\clipboard\n",
            "      copying pandas\\io\\clipboard\\__init__.py -> build\\lib.win-amd64-cpython-311\\pandas\\io\\clipboard\n",
            "      creating build\\lib.win-amd64-cpython-311\\pandas\\io\\excel\n",
            "      copying pandas\\io\\excel\\_base.py -> build\\lib.win-amd64-cpython-311\\pandas\\io\\excel\n",
            "      copying pandas\\io\\excel\\_odfreader.py -> build\\lib.win-amd64-cpython-311\\pandas\\io\\excel\n",
            "      copying pandas\\io\\excel\\_odswriter.py -> build\\lib.win-amd64-cpython-311\\pandas\\io\\excel\n",
            "      copying pandas\\io\\excel\\_openpyxl.py -> build\\lib.win-amd64-cpython-311\\pandas\\io\\excel\n",
            "      copying pandas\\io\\excel\\_pyxlsb.py -> build\\lib.win-amd64-cpython-311\\pandas\\io\\excel\n",
            "      copying pandas\\io\\excel\\_util.py -> build\\lib.win-amd64-cpython-311\\pandas\\io\\excel\n",
            "      copying pandas\\io\\excel\\_xlrd.py -> build\\lib.win-amd64-cpython-311\\pandas\\io\\excel\n",
            "      copying pandas\\io\\excel\\_xlsxwriter.py -> build\\lib.win-amd64-cpython-311\\pandas\\io\\excel\n",
            "      copying pandas\\io\\excel\\_xlwt.py -> build\\lib.win-amd64-cpython-311\\pandas\\io\\excel\n",
            "      copying pandas\\io\\excel\\__init__.py -> build\\lib.win-amd64-cpython-311\\pandas\\io\\excel\n",
            "      creating build\\lib.win-amd64-cpython-311\\pandas\\io\\formats\n",
            "      copying pandas\\io\\formats\\console.py -> build\\lib.win-amd64-cpython-311\\pandas\\io\\formats\n",
            "      copying pandas\\io\\formats\\css.py -> build\\lib.win-amd64-cpython-311\\pandas\\io\\formats\n",
            "      copying pandas\\io\\formats\\csvs.py -> build\\lib.win-amd64-cpython-311\\pandas\\io\\formats\n",
            "      copying pandas\\io\\formats\\excel.py -> build\\lib.win-amd64-cpython-311\\pandas\\io\\formats\n",
            "      copying pandas\\io\\formats\\format.py -> build\\lib.win-amd64-cpython-311\\pandas\\io\\formats\n",
            "      copying pandas\\io\\formats\\html.py -> build\\lib.win-amd64-cpython-311\\pandas\\io\\formats\n",
            "      copying pandas\\io\\formats\\info.py -> build\\lib.win-amd64-cpython-311\\pandas\\io\\formats\n",
            "      copying pandas\\io\\formats\\latex.py -> build\\lib.win-amd64-cpython-311\\pandas\\io\\formats\n",
            "      copying pandas\\io\\formats\\printing.py -> build\\lib.win-amd64-cpython-311\\pandas\\io\\formats\n",
            "      copying pandas\\io\\formats\\style.py -> build\\lib.win-amd64-cpython-311\\pandas\\io\\formats\n",
            "      copying pandas\\io\\formats\\__init__.py -> build\\lib.win-amd64-cpython-311\\pandas\\io\\formats\n",
            "      creating build\\lib.win-amd64-cpython-311\\pandas\\io\\json\n",
            "      copying pandas\\io\\json\\_json.py -> build\\lib.win-amd64-cpython-311\\pandas\\io\\json\n",
            "      copying pandas\\io\\json\\_normalize.py -> build\\lib.win-amd64-cpython-311\\pandas\\io\\json\n",
            "      copying pandas\\io\\json\\_table_schema.py -> build\\lib.win-amd64-cpython-311\\pandas\\io\\json\n",
            "      copying pandas\\io\\json\\__init__.py -> build\\lib.win-amd64-cpython-311\\pandas\\io\\json\n",
            "      creating build\\lib.win-amd64-cpython-311\\pandas\\io\\sas\n",
            "      copying pandas\\io\\sas\\sas7bdat.py -> build\\lib.win-amd64-cpython-311\\pandas\\io\\sas\n",
            "      copying pandas\\io\\sas\\sasreader.py -> build\\lib.win-amd64-cpython-311\\pandas\\io\\sas\n",
            "      copying pandas\\io\\sas\\sas_constants.py -> build\\lib.win-amd64-cpython-311\\pandas\\io\\sas\n",
            "      copying pandas\\io\\sas\\sas_xport.py -> build\\lib.win-amd64-cpython-311\\pandas\\io\\sas\n",
            "      copying pandas\\io\\sas\\__init__.py -> build\\lib.win-amd64-cpython-311\\pandas\\io\\sas\n",
            "      creating build\\lib.win-amd64-cpython-311\\pandas\\plotting\\_matplotlib\n",
            "      copying pandas\\plotting\\_matplotlib\\boxplot.py -> build\\lib.win-amd64-cpython-311\\pandas\\plotting\\_matplotlib\n",
            "      copying pandas\\plotting\\_matplotlib\\compat.py -> build\\lib.win-amd64-cpython-311\\pandas\\plotting\\_matplotlib\n",
            "      copying pandas\\plotting\\_matplotlib\\converter.py -> build\\lib.win-amd64-cpython-311\\pandas\\plotting\\_matplotlib\n",
            "      copying pandas\\plotting\\_matplotlib\\core.py -> build\\lib.win-amd64-cpython-311\\pandas\\plotting\\_matplotlib\n",
            "      copying pandas\\plotting\\_matplotlib\\hist.py -> build\\lib.win-amd64-cpython-311\\pandas\\plotting\\_matplotlib\n",
            "      copying pandas\\plotting\\_matplotlib\\misc.py -> build\\lib.win-amd64-cpython-311\\pandas\\plotting\\_matplotlib\n",
            "      copying pandas\\plotting\\_matplotlib\\style.py -> build\\lib.win-amd64-cpython-311\\pandas\\plotting\\_matplotlib\n",
            "      copying pandas\\plotting\\_matplotlib\\timeseries.py -> build\\lib.win-amd64-cpython-311\\pandas\\plotting\\_matplotlib\n",
            "      copying pandas\\plotting\\_matplotlib\\tools.py -> build\\lib.win-amd64-cpython-311\\pandas\\plotting\\_matplotlib\n",
            "      copying pandas\\plotting\\_matplotlib\\__init__.py -> build\\lib.win-amd64-cpython-311\\pandas\\plotting\\_matplotlib\n",
            "      creating build\\lib.win-amd64-cpython-311\\pandas\\tests\\api\n",
            "      copying pandas\\tests\\api\\test_api.py -> build\\lib.win-amd64-cpython-311\\pandas\\tests\\api\n",
            "      copying pandas\\tests\\api\\test_types.py -> build\\lib.win-amd64-cpython-311\\pandas\\tests\\api\n",
            "      copying pandas\\tests\\api\\__init__.py -> build\\lib.win-amd64-cpython-311\\pandas\\tests\\api\n",
            "      creating build\\lib.win-amd64-cpython-311\\pandas\\tests\\arithmetic\n",
            "      copying pandas\\tests\\arithmetic\\common.py -> build\\lib.win-amd64-cpython-311\\pandas\\tests\\arithmetic\n",
            "      copying pandas\\tests\\arithmetic\\conftest.py -> build\\lib.win-amd64-cpython-311\\pandas\\tests\\arithmetic\n",
            "      copying pandas\\tests\\arithmetic\\test_array_ops.py -> build\\lib.win-amd64-cpython-311\\pandas\\tests\\arithmetic\n",
            "      copying pandas\\tests\\arithmetic\\test_datetime64.py -> build\\lib.win-amd64-cpython-311\\pandas\\tests\\arithmetic\n",
            "      copying pandas\\tests\\arithmetic\\test_interval.py -> build\\lib.win-amd64-cpython-311\\pandas\\tests\\arithmetic\n",
            "      copying pandas\\tests\\arithmetic\\test_numeric.py -> build\\lib.win-amd64-cpython-311\\pandas\\tests\\arithmetic\n",
            "      copying pandas\\tests\\arithmetic\\test_object.py -> build\\lib.win-amd64-cpython-311\\pandas\\tests\\arithmetic\n",
            "      copying pandas\\tests\\arithmetic\\test_period.py -> build\\lib.win-amd64-cpython-311\\pandas\\tests\\arithmetic\n",
            "      copying pandas\\tests\\arithmetic\\test_timedelta64.py -> build\\lib.win-amd64-cpython-311\\pandas\\tests\\arithmetic\n",
            "      copying pandas\\tests\\arithmetic\\__init__.py -> build\\lib.win-amd64-cpython-311\\pandas\\tests\\arithmetic\n",
            "      creating build\\lib.win-amd64-cpython-311\\pandas\\tests\\arrays\n",
            "      copying pandas\\tests\\arrays\\test_array.py -> build\\lib.win-amd64-cpython-311\\pandas\\tests\\arrays\n",
            "      copying pandas\\tests\\arrays\\test_datetimelike.py -> build\\lib.win-amd64-cpython-311\\pandas\\tests\\arrays\n",
            "      copying pandas\\tests\\arrays\\test_datetimes.py -> build\\lib.win-amd64-cpython-311\\pandas\\tests\\arrays\n",
            "      copying pandas\\tests\\arrays\\test_numpy.py -> build\\lib.win-amd64-cpython-311\\pandas\\tests\\arrays\n",
            "      copying pandas\\tests\\arrays\\test_period.py -> build\\lib.win-amd64-cpython-311\\pandas\\tests\\arrays\n",
            "      copying pandas\\tests\\arrays\\test_timedeltas.py -> build\\lib.win-amd64-cpython-311\\pandas\\tests\\arrays\n",
            "      copying pandas\\tests\\arrays\\__init__.py -> build\\lib.win-amd64-cpython-311\\pandas\\tests\\arrays\n",
            "      creating build\\lib.win-amd64-cpython-311\\pandas\\tests\\base\n",
            "      copying pandas\\tests\\base\\common.py -> build\\lib.win-amd64-cpython-311\\pandas\\tests\\base\n",
            "      copying pandas\\tests\\base\\test_constructors.py -> build\\lib.win-amd64-cpython-311\\pandas\\tests\\base\n",
            "      copying pandas\\tests\\base\\test_conversion.py -> build\\lib.win-amd64-cpython-311\\pandas\\tests\\base\n",
            "      copying pandas\\tests\\base\\test_drop_duplicates.py -> build\\lib.win-amd64-cpython-311\\pandas\\tests\\base\n",
            "      copying pandas\\tests\\base\\test_factorize.py -> build\\lib.win-amd64-cpython-311\\pandas\\tests\\base\n",
            "      copying pandas\\tests\\base\\test_fillna.py -> build\\lib.win-amd64-cpython-311\\pandas\\tests\\base\n",
            "      copying pandas\\tests\\base\\test_misc.py -> build\\lib.win-amd64-cpython-311\\pandas\\tests\\base\n",
            "      copying pandas\\tests\\base\\test_transpose.py -> build\\lib.win-amd64-cpython-311\\pandas\\tests\\base\n",
            "      copying pandas\\tests\\base\\test_unique.py -> build\\lib.win-amd64-cpython-311\\pandas\\tests\\base\n",
            "      copying pandas\\tests\\base\\test_value_counts.py -> build\\lib.win-amd64-cpython-311\\pandas\\tests\\base\n",
            "      copying pandas\\tests\\base\\__init__.py -> build\\lib.win-amd64-cpython-311\\pandas\\tests\\base\n",
            "      creating build\\lib.win-amd64-cpython-311\\pandas\\tests\\computation\n",
            "      copying pandas\\tests\\computation\\test_compat.py -> build\\lib.win-amd64-cpython-311\\pandas\\tests\\computation\n",
            "      copying pandas\\tests\\computation\\test_eval.py -> build\\lib.win-amd64-cpython-311\\pandas\\tests\\computation\n",
            "      copying pandas\\tests\\computation\\__init__.py -> build\\lib.win-amd64-cpython-311\\pandas\\tests\\computation\n",
            "      creating build\\lib.win-amd64-cpython-311\\pandas\\tests\\config\n",
            "      copying pandas\\tests\\config\\test_config.py -> build\\lib.win-amd64-cpython-311\\pandas\\tests\\config\n",
            "      copying pandas\\tests\\config\\test_localization.py -> build\\lib.win-amd64-cpython-311\\pandas\\tests\\config\n",
            "      copying pandas\\tests\\config\\__init__.py -> build\\lib.win-amd64-cpython-311\\pandas\\tests\\config\n",
            "      creating build\\lib.win-amd64-cpython-311\\pandas\\tests\\dtypes\n",
            "      copying pandas\\tests\\dtypes\\test_common.py -> build\\lib.win-amd64-cpython-311\\pandas\\tests\\dtypes\n",
            "      copying pandas\\tests\\dtypes\\test_concat.py -> build\\lib.win-amd64-cpython-311\\pandas\\tests\\dtypes\n",
            "      copying pandas\\tests\\dtypes\\test_dtypes.py -> build\\lib.win-amd64-cpython-311\\pandas\\tests\\dtypes\n",
            "      copying pandas\\tests\\dtypes\\test_generic.py -> build\\lib.win-amd64-cpython-311\\pandas\\tests\\dtypes\n",
            "      copying pandas\\tests\\dtypes\\test_inference.py -> build\\lib.win-amd64-cpython-311\\pandas\\tests\\dtypes\n",
            "      copying pandas\\tests\\dtypes\\test_missing.py -> build\\lib.win-amd64-cpython-311\\pandas\\tests\\dtypes\n",
            "      copying pandas\\tests\\dtypes\\__init__.py -> build\\lib.win-amd64-cpython-311\\pandas\\tests\\dtypes\n",
            "      creating build\\lib.win-amd64-cpython-311\\pandas\\tests\\extension\n",
            "      copying pandas\\tests\\extension\\conftest.py -> build\\lib.win-amd64-cpython-311\\pandas\\tests\\extension\n",
            "      copying pandas\\tests\\extension\\test_boolean.py -> build\\lib.win-amd64-cpython-311\\pandas\\tests\\extension\n",
            "      copying pandas\\tests\\extension\\test_categorical.py -> build\\lib.win-amd64-cpython-311\\pandas\\tests\\extension\n",
            "      copying pandas\\tests\\extension\\test_common.py -> build\\lib.win-amd64-cpython-311\\pandas\\tests\\extension\n",
            "      copying pandas\\tests\\extension\\test_datetime.py -> build\\lib.win-amd64-cpython-311\\pandas\\tests\\extension\n",
            "      copying pandas\\tests\\extension\\test_external_block.py -> build\\lib.win-amd64-cpython-311\\pandas\\tests\\extension\n",
            "      copying pandas\\tests\\extension\\test_integer.py -> build\\lib.win-amd64-cpython-311\\pandas\\tests\\extension\n",
            "      copying pandas\\tests\\extension\\test_interval.py -> build\\lib.win-amd64-cpython-311\\pandas\\tests\\extension\n",
            "      copying pandas\\tests\\extension\\test_numpy.py -> build\\lib.win-amd64-cpython-311\\pandas\\tests\\extension\n",
            "      copying pandas\\tests\\extension\\test_period.py -> build\\lib.win-amd64-cpython-311\\pandas\\tests\\extension\n",
            "      copying pandas\\tests\\extension\\test_sparse.py -> build\\lib.win-amd64-cpython-311\\pandas\\tests\\extension\n",
            "      copying pandas\\tests\\extension\\test_string.py -> build\\lib.win-amd64-cpython-311\\pandas\\tests\\extension\n",
            "      copying pandas\\tests\\extension\\__init__.py -> build\\lib.win-amd64-cpython-311\\pandas\\tests\\extension\n",
            "      creating build\\lib.win-amd64-cpython-311\\pandas\\tests\\frame\n",
            "      copying pandas\\tests\\frame\\common.py -> build\\lib.win-amd64-cpython-311\\pandas\\tests\\frame\n",
            "      copying pandas\\tests\\frame\\conftest.py -> build\\lib.win-amd64-cpython-311\\pandas\\tests\\frame\n",
            "      copying pandas\\tests\\frame\\test_alter_axes.py -> build\\lib.win-amd64-cpython-311\\pandas\\tests\\frame\n",
            "      copying pandas\\tests\\frame\\test_analytics.py -> build\\lib.win-amd64-cpython-311\\pandas\\tests\\frame\n",
            "      copying pandas\\tests\\frame\\test_api.py -> build\\lib.win-amd64-cpython-311\\pandas\\tests\\frame\n",
            "      copying pandas\\tests\\frame\\test_arithmetic.py -> build\\lib.win-amd64-cpython-311\\pandas\\tests\\frame\n",
            "      copying pandas\\tests\\frame\\test_axis_select_reindex.py -> build\\lib.win-amd64-cpython-311\\pandas\\tests\\frame\n",
            "      copying pandas\\tests\\frame\\test_block_internals.py -> build\\lib.win-amd64-cpython-311\\pandas\\tests\\frame\n",
            "      copying pandas\\tests\\frame\\test_combine_concat.py -> build\\lib.win-amd64-cpython-311\\pandas\\tests\\frame\n",
            "      copying pandas\\tests\\frame\\test_constructors.py -> build\\lib.win-amd64-cpython-311\\pandas\\tests\\frame\n",
            "      copying pandas\\tests\\frame\\test_cumulative.py -> build\\lib.win-amd64-cpython-311\\pandas\\tests\\frame\n",
            "      copying pandas\\tests\\frame\\test_dtypes.py -> build\\lib.win-amd64-cpython-311\\pandas\\tests\\frame\n",
            "      copying pandas\\tests\\frame\\test_join.py -> build\\lib.win-amd64-cpython-311\\pandas\\tests\\frame\n",
            "      copying pandas\\tests\\frame\\test_missing.py -> build\\lib.win-amd64-cpython-311\\pandas\\tests\\frame\n",
            "      copying pandas\\tests\\frame\\test_nonunique_indexes.py -> build\\lib.win-amd64-cpython-311\\pandas\\tests\\frame\n",
            "      copying pandas\\tests\\frame\\test_operators.py -> build\\lib.win-amd64-cpython-311\\pandas\\tests\\frame\n",
            "      copying pandas\\tests\\frame\\test_period.py -> build\\lib.win-amd64-cpython-311\\pandas\\tests\\frame\n",
            "      copying pandas\\tests\\frame\\test_query_eval.py -> build\\lib.win-amd64-cpython-311\\pandas\\tests\\frame\n",
            "      copying pandas\\tests\\frame\\test_repr_info.py -> build\\lib.win-amd64-cpython-311\\pandas\\tests\\frame\n",
            "      copying pandas\\tests\\frame\\test_reshape.py -> build\\lib.win-amd64-cpython-311\\pandas\\tests\\frame\n",
            "      copying pandas\\tests\\frame\\test_sort_values_level_as_str.py -> build\\lib.win-amd64-cpython-311\\pandas\\tests\\frame\n",
            "      copying pandas\\tests\\frame\\test_subclass.py -> build\\lib.win-amd64-cpython-311\\pandas\\tests\\frame\n",
            "      copying pandas\\tests\\frame\\test_timeseries.py -> build\\lib.win-amd64-cpython-311\\pandas\\tests\\frame\n",
            "      copying pandas\\tests\\frame\\test_timezones.py -> build\\lib.win-amd64-cpython-311\\pandas\\tests\\frame\n",
            "      copying pandas\\tests\\frame\\test_to_csv.py -> build\\lib.win-amd64-cpython-311\\pandas\\tests\\frame\n",
            "      copying pandas\\tests\\frame\\test_validate.py -> build\\lib.win-amd64-cpython-311\\pandas\\tests\\frame\n",
            "      copying pandas\\tests\\frame\\__init__.py -> build\\lib.win-amd64-cpython-311\\pandas\\tests\\frame\n",
            "      creating build\\lib.win-amd64-cpython-311\\pandas\\tests\\generic\n",
            "      copying pandas\\tests\\generic\\test_finalize.py -> build\\lib.win-amd64-cpython-311\\pandas\\tests\\generic\n",
            "      copying pandas\\tests\\generic\\test_frame.py -> build\\lib.win-amd64-cpython-311\\pandas\\tests\\generic\n",
            "      copying pandas\\tests\\generic\\test_generic.py -> build\\lib.win-amd64-cpython-311\\pandas\\tests\\generic\n",
            "      copying pandas\\tests\\generic\\test_label_or_level_utils.py -> build\\lib.win-amd64-cpython-311\\pandas\\tests\\generic\n",
            "      copying pandas\\tests\\generic\\test_series.py -> build\\lib.win-amd64-cpython-311\\pandas\\tests\\generic\n",
            "      copying pandas\\tests\\generic\\test_to_xarray.py -> build\\lib.win-amd64-cpython-311\\pandas\\tests\\generic\n",
            "      copying pandas\\tests\\generic\\__init__.py -> build\\lib.win-amd64-cpython-311\\pandas\\tests\\generic\n",
            "      creating build\\lib.win-amd64-cpython-311\\pandas\\tests\\groupby\n",
            "      copying pandas\\tests\\groupby\\conftest.py -> build\\lib.win-amd64-cpython-311\\pandas\\tests\\groupby\n",
            "      copying pandas\\tests\\groupby\\test_allowlist.py -> build\\lib.win-amd64-cpython-311\\pandas\\tests\\groupby\n",
            "      copying pandas\\tests\\groupby\\test_apply.py -> build\\lib.win-amd64-cpython-311\\pandas\\tests\\groupby\n",
            "      copying pandas\\tests\\groupby\\test_apply_mutate.py -> build\\lib.win-amd64-cpython-311\\pandas\\tests\\groupby\n",
            "      copying pandas\\tests\\groupby\\test_bin_groupby.py -> build\\lib.win-amd64-cpython-311\\pandas\\tests\\groupby\n",
            "      copying pandas\\tests\\groupby\\test_categorical.py -> build\\lib.win-amd64-cpython-311\\pandas\\tests\\groupby\n",
            "      copying pandas\\tests\\groupby\\test_counting.py -> build\\lib.win-amd64-cpython-311\\pandas\\tests\\groupby\n",
            "      copying pandas\\tests\\groupby\\test_filters.py -> build\\lib.win-amd64-cpython-311\\pandas\\tests\\groupby\n",
            "      copying pandas\\tests\\groupby\\test_function.py -> build\\lib.win-amd64-cpython-311\\pandas\\tests\\groupby\n",
            "      copying pandas\\tests\\groupby\\test_groupby.py -> build\\lib.win-amd64-cpython-311\\pandas\\tests\\groupby\n",
            "      copying pandas\\tests\\groupby\\test_groupby_dropna.py -> build\\lib.win-amd64-cpython-311\\pandas\\tests\\groupby\n",
            "      copying pandas\\tests\\groupby\\test_groupby_subclass.py -> build\\lib.win-amd64-cpython-311\\pandas\\tests\\groupby\n",
            "      copying pandas\\tests\\groupby\\test_grouping.py -> build\\lib.win-amd64-cpython-311\\pandas\\tests\\groupby\n",
            "      copying pandas\\tests\\groupby\\test_index_as_string.py -> build\\lib.win-amd64-cpython-311\\pandas\\tests\\groupby\n",
            "      copying pandas\\tests\\groupby\\test_nth.py -> build\\lib.win-amd64-cpython-311\\pandas\\tests\\groupby\n",
            "      copying pandas\\tests\\groupby\\test_nunique.py -> build\\lib.win-amd64-cpython-311\\pandas\\tests\\groupby\n",
            "      copying pandas\\tests\\groupby\\test_pipe.py -> build\\lib.win-amd64-cpython-311\\pandas\\tests\\groupby\n",
            "      copying pandas\\tests\\groupby\\test_quantile.py -> build\\lib.win-amd64-cpython-311\\pandas\\tests\\groupby\n",
            "      copying pandas\\tests\\groupby\\test_rank.py -> build\\lib.win-amd64-cpython-311\\pandas\\tests\\groupby\n",
            "      copying pandas\\tests\\groupby\\test_sample.py -> build\\lib.win-amd64-cpython-311\\pandas\\tests\\groupby\n",
            "      copying pandas\\tests\\groupby\\test_size.py -> build\\lib.win-amd64-cpython-311\\pandas\\tests\\groupby\n",
            "      copying pandas\\tests\\groupby\\test_timegrouper.py -> build\\lib.win-amd64-cpython-311\\pandas\\tests\\groupby\n",
            "      copying pandas\\tests\\groupby\\test_value_counts.py -> build\\lib.win-amd64-cpython-311\\pandas\\tests\\groupby\n",
            "      copying pandas\\tests\\groupby\\__init__.py -> build\\lib.win-amd64-cpython-311\\pandas\\tests\\groupby\n",
            "      creating build\\lib.win-amd64-cpython-311\\pandas\\tests\\indexes\n",
            "      copying pandas\\tests\\indexes\\common.py -> build\\lib.win-amd64-cpython-311\\pandas\\tests\\indexes\n",
            "      copying pandas\\tests\\indexes\\conftest.py -> build\\lib.win-amd64-cpython-311\\pandas\\tests\\indexes\n",
            "      copying pandas\\tests\\indexes\\datetimelike.py -> build\\lib.win-amd64-cpython-311\\pandas\\tests\\indexes\n",
            "      copying pandas\\tests\\indexes\\test_any_index.py -> build\\lib.win-amd64-cpython-311\\pandas\\tests\\indexes\n",
            "      copying pandas\\tests\\indexes\\test_base.py -> build\\lib.win-amd64-cpython-311\\pandas\\tests\\indexes\n",
            "      copying pandas\\tests\\indexes\\test_common.py -> build\\lib.win-amd64-cpython-311\\pandas\\tests\\indexes\n",
            "      copying pandas\\tests\\indexes\\test_engines.py -> build\\lib.win-amd64-cpython-311\\pandas\\tests\\indexes\n",
            "      copying pandas\\tests\\indexes\\test_frozen.py -> build\\lib.win-amd64-cpython-311\\pandas\\tests\\indexes\n",
            "      copying pandas\\tests\\indexes\\test_indexing.py -> build\\lib.win-amd64-cpython-311\\pandas\\tests\\indexes\n",
            "      copying pandas\\tests\\indexes\\test_index_new.py -> build\\lib.win-amd64-cpython-311\\pandas\\tests\\indexes\n",
            "      copying pandas\\tests\\indexes\\test_numeric.py -> build\\lib.win-amd64-cpython-311\\pandas\\tests\\indexes\n",
            "      copying pandas\\tests\\indexes\\test_numpy_compat.py -> build\\lib.win-amd64-cpython-311\\pandas\\tests\\indexes\n",
            "      copying pandas\\tests\\indexes\\test_setops.py -> build\\lib.win-amd64-cpython-311\\pandas\\tests\\indexes\n",
            "      copying pandas\\tests\\indexes\\__init__.py -> build\\lib.win-amd64-cpython-311\\pandas\\tests\\indexes\n",
            "      creating build\\lib.win-amd64-cpython-311\\pandas\\tests\\indexing\n",
            "      copying pandas\\tests\\indexing\\common.py -> build\\lib.win-amd64-cpython-311\\pandas\\tests\\indexing\n",
            "      copying pandas\\tests\\indexing\\test_callable.py -> build\\lib.win-amd64-cpython-311\\pandas\\tests\\indexing\n",
            "      copying pandas\\tests\\indexing\\test_categorical.py -> build\\lib.win-amd64-cpython-311\\pandas\\tests\\indexing\n",
            "      copying pandas\\tests\\indexing\\test_chaining_and_caching.py -> build\\lib.win-amd64-cpython-311\\pandas\\tests\\indexing\n",
            "      copying pandas\\tests\\indexing\\test_check_indexer.py -> build\\lib.win-amd64-cpython-311\\pandas\\tests\\indexing\n",
            "      copying pandas\\tests\\indexing\\test_coercion.py -> build\\lib.win-amd64-cpython-311\\pandas\\tests\\indexing\n",
            "      copying pandas\\tests\\indexing\\test_datetime.py -> build\\lib.win-amd64-cpython-311\\pandas\\tests\\indexing\n",
            "      copying pandas\\tests\\indexing\\test_floats.py -> build\\lib.win-amd64-cpython-311\\pandas\\tests\\indexing\n",
            "      copying pandas\\tests\\indexing\\test_iloc.py -> build\\lib.win-amd64-cpython-311\\pandas\\tests\\indexing\n",
            "      copying pandas\\tests\\indexing\\test_indexers.py -> build\\lib.win-amd64-cpython-311\\pandas\\tests\\indexing\n",
            "      copying pandas\\tests\\indexing\\test_indexing.py -> build\\lib.win-amd64-cpython-311\\pandas\\tests\\indexing\n",
            "      copying pandas\\tests\\indexing\\test_indexing_slow.py -> build\\lib.win-amd64-cpython-311\\pandas\\tests\\indexing\n",
            "      copying pandas\\tests\\indexing\\test_loc.py -> build\\lib.win-amd64-cpython-311\\pandas\\tests\\indexing\n",
            "      copying pandas\\tests\\indexing\\test_na_indexing.py -> build\\lib.win-amd64-cpython-311\\pandas\\tests\\indexing\n",
            "      copying pandas\\tests\\indexing\\test_partial.py -> build\\lib.win-amd64-cpython-311\\pandas\\tests\\indexing\n",
            "      copying pandas\\tests\\indexing\\test_scalar.py -> build\\lib.win-amd64-cpython-311\\pandas\\tests\\indexing\n",
            "      copying pandas\\tests\\indexing\\test_timedelta.py -> build\\lib.win-amd64-cpython-311\\pandas\\tests\\indexing\n",
            "      copying pandas\\tests\\indexing\\__init__.py -> build\\lib.win-amd64-cpython-311\\pandas\\tests\\indexing\n",
            "      creating build\\lib.win-amd64-cpython-311\\pandas\\tests\\internals\n",
            "      copying pandas\\tests\\internals\\test_internals.py -> build\\lib.win-amd64-cpython-311\\pandas\\tests\\internals\n",
            "      copying pandas\\tests\\internals\\__init__.py -> build\\lib.win-amd64-cpython-311\\pandas\\tests\\internals\n",
            "      creating build\\lib.win-amd64-cpython-311\\pandas\\tests\\io\n",
            "      copying pandas\\tests\\io\\conftest.py -> build\\lib.win-amd64-cpython-311\\pandas\\tests\\io\n",
            "      copying pandas\\tests\\io\\generate_legacy_storage_files.py -> build\\lib.win-amd64-cpython-311\\pandas\\tests\\io\n",
            "      copying pandas\\tests\\io\\test_clipboard.py -> build\\lib.win-amd64-cpython-311\\pandas\\tests\\io\n",
            "      copying pandas\\tests\\io\\test_common.py -> build\\lib.win-amd64-cpython-311\\pandas\\tests\\io\n",
            "      copying pandas\\tests\\io\\test_compression.py -> build\\lib.win-amd64-cpython-311\\pandas\\tests\\io\n",
            "      copying pandas\\tests\\io\\test_date_converters.py -> build\\lib.win-amd64-cpython-311\\pandas\\tests\\io\n",
            "      copying pandas\\tests\\io\\test_feather.py -> build\\lib.win-amd64-cpython-311\\pandas\\tests\\io\n",
            "      copying pandas\\tests\\io\\test_fsspec.py -> build\\lib.win-amd64-cpython-311\\pandas\\tests\\io\n",
            "      copying pandas\\tests\\io\\test_gbq.py -> build\\lib.win-amd64-cpython-311\\pandas\\tests\\io\n",
            "      copying pandas\\tests\\io\\test_gcs.py -> build\\lib.win-amd64-cpython-311\\pandas\\tests\\io\n",
            "      copying pandas\\tests\\io\\test_html.py -> build\\lib.win-amd64-cpython-311\\pandas\\tests\\io\n",
            "      copying pandas\\tests\\io\\test_orc.py -> build\\lib.win-amd64-cpython-311\\pandas\\tests\\io\n",
            "      copying pandas\\tests\\io\\test_parquet.py -> build\\lib.win-amd64-cpython-311\\pandas\\tests\\io\n",
            "      copying pandas\\tests\\io\\test_pickle.py -> build\\lib.win-amd64-cpython-311\\pandas\\tests\\io\n",
            "      copying pandas\\tests\\io\\test_s3.py -> build\\lib.win-amd64-cpython-311\\pandas\\tests\\io\n",
            "      copying pandas\\tests\\io\\test_spss.py -> build\\lib.win-amd64-cpython-311\\pandas\\tests\\io\n",
            "      copying pandas\\tests\\io\\test_sql.py -> build\\lib.win-amd64-cpython-311\\pandas\\tests\\io\n",
            "      copying pandas\\tests\\io\\test_stata.py -> build\\lib.win-amd64-cpython-311\\pandas\\tests\\io\n",
            "      copying pandas\\tests\\io\\__init__.py -> build\\lib.win-amd64-cpython-311\\pandas\\tests\\io\n",
            "      creating build\\lib.win-amd64-cpython-311\\pandas\\tests\\plotting\n",
            "      copying pandas\\tests\\plotting\\common.py -> build\\lib.win-amd64-cpython-311\\pandas\\tests\\plotting\n",
            "      copying pandas\\tests\\plotting\\test_backend.py -> build\\lib.win-amd64-cpython-311\\pandas\\tests\\plotting\n",
            "      copying pandas\\tests\\plotting\\test_boxplot_method.py -> build\\lib.win-amd64-cpython-311\\pandas\\tests\\plotting\n",
            "      copying pandas\\tests\\plotting\\test_common.py -> build\\lib.win-amd64-cpython-311\\pandas\\tests\\plotting\n",
            "      copying pandas\\tests\\plotting\\test_converter.py -> build\\lib.win-amd64-cpython-311\\pandas\\tests\\plotting\n",
            "      copying pandas\\tests\\plotting\\test_datetimelike.py -> build\\lib.win-amd64-cpython-311\\pandas\\tests\\plotting\n",
            "      copying pandas\\tests\\plotting\\test_frame.py -> build\\lib.win-amd64-cpython-311\\pandas\\tests\\plotting\n",
            "      copying pandas\\tests\\plotting\\test_groupby.py -> build\\lib.win-amd64-cpython-311\\pandas\\tests\\plotting\n",
            "      copying pandas\\tests\\plotting\\test_hist_method.py -> build\\lib.win-amd64-cpython-311\\pandas\\tests\\plotting\n",
            "      copying pandas\\tests\\plotting\\test_misc.py -> build\\lib.win-amd64-cpython-311\\pandas\\tests\\plotting\n",
            "      copying pandas\\tests\\plotting\\test_series.py -> build\\lib.win-amd64-cpython-311\\pandas\\tests\\plotting\n",
            "      copying pandas\\tests\\plotting\\__init__.py -> build\\lib.win-amd64-cpython-311\\pandas\\tests\\plotting\n",
            "      creating build\\lib.win-amd64-cpython-311\\pandas\\tests\\reductions\n",
            "      copying pandas\\tests\\reductions\\test_reductions.py -> build\\lib.win-amd64-cpython-311\\pandas\\tests\\reductions\n",
            "      copying pandas\\tests\\reductions\\test_stat_reductions.py -> build\\lib.win-amd64-cpython-311\\pandas\\tests\\reductions\n",
            "      copying pandas\\tests\\reductions\\__init__.py -> build\\lib.win-amd64-cpython-311\\pandas\\tests\\reductions\n",
            "      creating build\\lib.win-amd64-cpython-311\\pandas\\tests\\resample\n",
            "      copying pandas\\tests\\resample\\conftest.py -> build\\lib.win-amd64-cpython-311\\pandas\\tests\\resample\n",
            "      copying pandas\\tests\\resample\\test_base.py -> build\\lib.win-amd64-cpython-311\\pandas\\tests\\resample\n",
            "      copying pandas\\tests\\resample\\test_datetime_index.py -> build\\lib.win-amd64-cpython-311\\pandas\\tests\\resample\n",
            "      copying pandas\\tests\\resample\\test_deprecated.py -> build\\lib.win-amd64-cpython-311\\pandas\\tests\\resample\n",
            "      copying pandas\\tests\\resample\\test_period_index.py -> build\\lib.win-amd64-cpython-311\\pandas\\tests\\resample\n",
            "      copying pandas\\tests\\resample\\test_resampler_grouper.py -> build\\lib.win-amd64-cpython-311\\pandas\\tests\\resample\n",
            "      copying pandas\\tests\\resample\\test_resample_api.py -> build\\lib.win-amd64-cpython-311\\pandas\\tests\\resample\n",
            "      copying pandas\\tests\\resample\\test_timedelta.py -> build\\lib.win-amd64-cpython-311\\pandas\\tests\\resample\n",
            "      copying pandas\\tests\\resample\\test_time_grouper.py -> build\\lib.win-amd64-cpython-311\\pandas\\tests\\resample\n",
            "      copying pandas\\tests\\resample\\__init__.py -> build\\lib.win-amd64-cpython-311\\pandas\\tests\\resample\n",
            "      creating build\\lib.win-amd64-cpython-311\\pandas\\tests\\reshape\n",
            "      copying pandas\\tests\\reshape\\test_concat.py -> build\\lib.win-amd64-cpython-311\\pandas\\tests\\reshape\n",
            "      copying pandas\\tests\\reshape\\test_crosstab.py -> build\\lib.win-amd64-cpython-311\\pandas\\tests\\reshape\n",
            "      copying pandas\\tests\\reshape\\test_cut.py -> build\\lib.win-amd64-cpython-311\\pandas\\tests\\reshape\n",
            "      copying pandas\\tests\\reshape\\test_get_dummies.py -> build\\lib.win-amd64-cpython-311\\pandas\\tests\\reshape\n",
            "      copying pandas\\tests\\reshape\\test_melt.py -> build\\lib.win-amd64-cpython-311\\pandas\\tests\\reshape\n",
            "      copying pandas\\tests\\reshape\\test_pivot.py -> build\\lib.win-amd64-cpython-311\\pandas\\tests\\reshape\n",
            "      copying pandas\\tests\\reshape\\test_pivot_multilevel.py -> build\\lib.win-amd64-cpython-311\\pandas\\tests\\reshape\n",
            "      copying pandas\\tests\\reshape\\test_qcut.py -> build\\lib.win-amd64-cpython-311\\pandas\\tests\\reshape\n",
            "      copying pandas\\tests\\reshape\\test_union_categoricals.py -> build\\lib.win-amd64-cpython-311\\pandas\\tests\\reshape\n",
            "      copying pandas\\tests\\reshape\\test_util.py -> build\\lib.win-amd64-cpython-311\\pandas\\tests\\reshape\n",
            "      copying pandas\\tests\\reshape\\__init__.py -> build\\lib.win-amd64-cpython-311\\pandas\\tests\\reshape\n",
            "      creating build\\lib.win-amd64-cpython-311\\pandas\\tests\\scalar\n",
            "      copying pandas\\tests\\scalar\\test_nat.py -> build\\lib.win-amd64-cpython-311\\pandas\\tests\\scalar\n",
            "      copying pandas\\tests\\scalar\\test_na_scalar.py -> build\\lib.win-amd64-cpython-311\\pandas\\tests\\scalar\n",
            "      copying pandas\\tests\\scalar\\__init__.py -> build\\lib.win-amd64-cpython-311\\pandas\\tests\\scalar\n",
            "      creating build\\lib.win-amd64-cpython-311\\pandas\\tests\\series\n",
            "      copying pandas\\tests\\series\\conftest.py -> build\\lib.win-amd64-cpython-311\\pandas\\tests\\series\n",
            "      copying pandas\\tests\\series\\test_alter_axes.py -> build\\lib.win-amd64-cpython-311\\pandas\\tests\\series\n",
            "      copying pandas\\tests\\series\\test_analytics.py -> build\\lib.win-amd64-cpython-311\\pandas\\tests\\series\n",
            "      copying pandas\\tests\\series\\test_api.py -> build\\lib.win-amd64-cpython-311\\pandas\\tests\\series\n",
            "      copying pandas\\tests\\series\\test_arithmetic.py -> build\\lib.win-amd64-cpython-311\\pandas\\tests\\series\n",
            "      copying pandas\\tests\\series\\test_block_internals.py -> build\\lib.win-amd64-cpython-311\\pandas\\tests\\series\n",
            "      copying pandas\\tests\\series\\test_combine_concat.py -> build\\lib.win-amd64-cpython-311\\pandas\\tests\\series\n",
            "      copying pandas\\tests\\series\\test_constructors.py -> build\\lib.win-amd64-cpython-311\\pandas\\tests\\series\n",
            "      copying pandas\\tests\\series\\test_cumulative.py -> build\\lib.win-amd64-cpython-311\\pandas\\tests\\series\n",
            "      copying pandas\\tests\\series\\test_datetime_values.py -> build\\lib.win-amd64-cpython-311\\pandas\\tests\\series\n",
            "      copying pandas\\tests\\series\\test_dtypes.py -> build\\lib.win-amd64-cpython-311\\pandas\\tests\\series\n",
            "      copying pandas\\tests\\series\\test_duplicates.py -> build\\lib.win-amd64-cpython-311\\pandas\\tests\\series\n",
            "      copying pandas\\tests\\series\\test_internals.py -> build\\lib.win-amd64-cpython-311\\pandas\\tests\\series\n",
            "      copying pandas\\tests\\series\\test_io.py -> build\\lib.win-amd64-cpython-311\\pandas\\tests\\series\n",
            "      copying pandas\\tests\\series\\test_missing.py -> build\\lib.win-amd64-cpython-311\\pandas\\tests\\series\n",
            "      copying pandas\\tests\\series\\test_operators.py -> build\\lib.win-amd64-cpython-311\\pandas\\tests\\series\n",
            "      copying pandas\\tests\\series\\test_period.py -> build\\lib.win-amd64-cpython-311\\pandas\\tests\\series\n",
            "      copying pandas\\tests\\series\\test_reductions.py -> build\\lib.win-amd64-cpython-311\\pandas\\tests\\series\n",
            "      copying pandas\\tests\\series\\test_repr.py -> build\\lib.win-amd64-cpython-311\\pandas\\tests\\series\n",
            "      copying pandas\\tests\\series\\test_subclass.py -> build\\lib.win-amd64-cpython-311\\pandas\\tests\\series\n",
            "      copying pandas\\tests\\series\\test_timeseries.py -> build\\lib.win-amd64-cpython-311\\pandas\\tests\\series\n",
            "      copying pandas\\tests\\series\\test_timezones.py -> build\\lib.win-amd64-cpython-311\\pandas\\tests\\series\n",
            "      copying pandas\\tests\\series\\test_ufunc.py -> build\\lib.win-amd64-cpython-311\\pandas\\tests\\series\n",
            "      copying pandas\\tests\\series\\test_validate.py -> build\\lib.win-amd64-cpython-311\\pandas\\tests\\series\n",
            "      copying pandas\\tests\\series\\__init__.py -> build\\lib.win-amd64-cpython-311\\pandas\\tests\\series\n",
            "      creating build\\lib.win-amd64-cpython-311\\pandas\\tests\\tools\n",
            "      copying pandas\\tests\\tools\\test_to_datetime.py -> build\\lib.win-amd64-cpython-311\\pandas\\tests\\tools\n",
            "      copying pandas\\tests\\tools\\test_to_numeric.py -> build\\lib.win-amd64-cpython-311\\pandas\\tests\\tools\n",
            "      copying pandas\\tests\\tools\\test_to_time.py -> build\\lib.win-amd64-cpython-311\\pandas\\tests\\tools\n",
            "      copying pandas\\tests\\tools\\test_to_timedelta.py -> build\\lib.win-amd64-cpython-311\\pandas\\tests\\tools\n",
            "      copying pandas\\tests\\tools\\__init__.py -> build\\lib.win-amd64-cpython-311\\pandas\\tests\\tools\n",
            "      creating build\\lib.win-amd64-cpython-311\\pandas\\tests\\tseries\n",
            "      copying pandas\\tests\\tseries\\__init__.py -> build\\lib.win-amd64-cpython-311\\pandas\\tests\\tseries\n",
            "      creating build\\lib.win-amd64-cpython-311\\pandas\\tests\\tslibs\n",
            "      copying pandas\\tests\\tslibs\\test_api.py -> build\\lib.win-amd64-cpython-311\\pandas\\tests\\tslibs\n",
            "      copying pandas\\tests\\tslibs\\test_array_to_datetime.py -> build\\lib.win-amd64-cpython-311\\pandas\\tests\\tslibs\n",
            "      copying pandas\\tests\\tslibs\\test_ccalendar.py -> build\\lib.win-amd64-cpython-311\\pandas\\tests\\tslibs\n",
            "      copying pandas\\tests\\tslibs\\test_conversion.py -> build\\lib.win-amd64-cpython-311\\pandas\\tests\\tslibs\n",
            "      copying pandas\\tests\\tslibs\\test_fields.py -> build\\lib.win-amd64-cpython-311\\pandas\\tests\\tslibs\n",
            "      copying pandas\\tests\\tslibs\\test_libfrequencies.py -> build\\lib.win-amd64-cpython-311\\pandas\\tests\\tslibs\n",
            "      copying pandas\\tests\\tslibs\\test_liboffsets.py -> build\\lib.win-amd64-cpython-311\\pandas\\tests\\tslibs\n",
            "      copying pandas\\tests\\tslibs\\test_parse_iso8601.py -> build\\lib.win-amd64-cpython-311\\pandas\\tests\\tslibs\n",
            "      copying pandas\\tests\\tslibs\\test_parsing.py -> build\\lib.win-amd64-cpython-311\\pandas\\tests\\tslibs\n",
            "      copying pandas\\tests\\tslibs\\test_period_asfreq.py -> build\\lib.win-amd64-cpython-311\\pandas\\tests\\tslibs\n",
            "      copying pandas\\tests\\tslibs\\test_timedeltas.py -> build\\lib.win-amd64-cpython-311\\pandas\\tests\\tslibs\n",
            "      copying pandas\\tests\\tslibs\\test_timezones.py -> build\\lib.win-amd64-cpython-311\\pandas\\tests\\tslibs\n",
            "      copying pandas\\tests\\tslibs\\test_to_offset.py -> build\\lib.win-amd64-cpython-311\\pandas\\tests\\tslibs\n",
            "      copying pandas\\tests\\tslibs\\__init__.py -> build\\lib.win-amd64-cpython-311\\pandas\\tests\\tslibs\n",
            "      creating build\\lib.win-amd64-cpython-311\\pandas\\tests\\util\n",
            "      copying pandas\\tests\\util\\conftest.py -> build\\lib.win-amd64-cpython-311\\pandas\\tests\\util\n",
            "      copying pandas\\tests\\util\\test_assert_almost_equal.py -> build\\lib.win-amd64-cpython-311\\pandas\\tests\\util\n",
            "      copying pandas\\tests\\util\\test_assert_categorical_equal.py -> build\\lib.win-amd64-cpython-311\\pandas\\tests\\util\n",
            "      copying pandas\\tests\\util\\test_assert_extension_array_equal.py -> build\\lib.win-amd64-cpython-311\\pandas\\tests\\util\n",
            "      copying pandas\\tests\\util\\test_assert_frame_equal.py -> build\\lib.win-amd64-cpython-311\\pandas\\tests\\util\n",
            "      copying pandas\\tests\\util\\test_assert_index_equal.py -> build\\lib.win-amd64-cpython-311\\pandas\\tests\\util\n",
            "      copying pandas\\tests\\util\\test_assert_interval_array_equal.py -> build\\lib.win-amd64-cpython-311\\pandas\\tests\\util\n",
            "      copying pandas\\tests\\util\\test_assert_numpy_array_equal.py -> build\\lib.win-amd64-cpython-311\\pandas\\tests\\util\n",
            "      copying pandas\\tests\\util\\test_assert_produces_warning.py -> build\\lib.win-amd64-cpython-311\\pandas\\tests\\util\n",
            "      copying pandas\\tests\\util\\test_assert_series_equal.py -> build\\lib.win-amd64-cpython-311\\pandas\\tests\\util\n",
            "      copying pandas\\tests\\util\\test_deprecate.py -> build\\lib.win-amd64-cpython-311\\pandas\\tests\\util\n",
            "      copying pandas\\tests\\util\\test_deprecate_kwarg.py -> build\\lib.win-amd64-cpython-311\\pandas\\tests\\util\n",
            "      copying pandas\\tests\\util\\test_deprecate_nonkeyword_arguments.py -> build\\lib.win-amd64-cpython-311\\pandas\\tests\\util\n",
            "      copying pandas\\tests\\util\\test_doc.py -> build\\lib.win-amd64-cpython-311\\pandas\\tests\\util\n",
            "      copying pandas\\tests\\util\\test_hashing.py -> build\\lib.win-amd64-cpython-311\\pandas\\tests\\util\n",
            "      copying pandas\\tests\\util\\test_numba.py -> build\\lib.win-amd64-cpython-311\\pandas\\tests\\util\n",
            "      copying pandas\\tests\\util\\test_safe_import.py -> build\\lib.win-amd64-cpython-311\\pandas\\tests\\util\n",
            "      copying pandas\\tests\\util\\test_show_versions.py -> build\\lib.win-amd64-cpython-311\\pandas\\tests\\util\n",
            "      copying pandas\\tests\\util\\test_util.py -> build\\lib.win-amd64-cpython-311\\pandas\\tests\\util\n",
            "      copying pandas\\tests\\util\\test_validate_args.py -> build\\lib.win-amd64-cpython-311\\pandas\\tests\\util\n",
            "      copying pandas\\tests\\util\\test_validate_args_and_kwargs.py -> build\\lib.win-amd64-cpython-311\\pandas\\tests\\util\n",
            "      copying pandas\\tests\\util\\test_validate_kwargs.py -> build\\lib.win-amd64-cpython-311\\pandas\\tests\\util\n",
            "      copying pandas\\tests\\util\\__init__.py -> build\\lib.win-amd64-cpython-311\\pandas\\tests\\util\n",
            "      creating build\\lib.win-amd64-cpython-311\\pandas\\tests\\window\n",
            "      copying pandas\\tests\\window\\common.py -> build\\lib.win-amd64-cpython-311\\pandas\\tests\\window\n",
            "      copying pandas\\tests\\window\\conftest.py -> build\\lib.win-amd64-cpython-311\\pandas\\tests\\window\n",
            "      copying pandas\\tests\\window\\test_api.py -> build\\lib.win-amd64-cpython-311\\pandas\\tests\\window\n",
            "      copying pandas\\tests\\window\\test_apply.py -> build\\lib.win-amd64-cpython-311\\pandas\\tests\\window\n",
            "      copying pandas\\tests\\window\\test_base_indexer.py -> build\\lib.win-amd64-cpython-311\\pandas\\tests\\window\n",
            "      copying pandas\\tests\\window\\test_dtypes.py -> build\\lib.win-amd64-cpython-311\\pandas\\tests\\window\n",
            "      copying pandas\\tests\\window\\test_ewm.py -> build\\lib.win-amd64-cpython-311\\pandas\\tests\\window\n",
            "      copying pandas\\tests\\window\\test_expanding.py -> build\\lib.win-amd64-cpython-311\\pandas\\tests\\window\n",
            "      copying pandas\\tests\\window\\test_grouper.py -> build\\lib.win-amd64-cpython-311\\pandas\\tests\\window\n",
            "      copying pandas\\tests\\window\\test_numba.py -> build\\lib.win-amd64-cpython-311\\pandas\\tests\\window\n",
            "      copying pandas\\tests\\window\\test_pairwise.py -> build\\lib.win-amd64-cpython-311\\pandas\\tests\\window\n",
            "      copying pandas\\tests\\window\\test_rolling.py -> build\\lib.win-amd64-cpython-311\\pandas\\tests\\window\n",
            "      copying pandas\\tests\\window\\test_timeseries_window.py -> build\\lib.win-amd64-cpython-311\\pandas\\tests\\window\n",
            "      copying pandas\\tests\\window\\test_window.py -> build\\lib.win-amd64-cpython-311\\pandas\\tests\\window\n",
            "      copying pandas\\tests\\window\\__init__.py -> build\\lib.win-amd64-cpython-311\\pandas\\tests\\window\n",
            "      creating build\\lib.win-amd64-cpython-311\\pandas\\tests\\arrays\\boolean\n",
            "      copying pandas\\tests\\arrays\\boolean\\test_arithmetic.py -> build\\lib.win-amd64-cpython-311\\pandas\\tests\\arrays\\boolean\n",
            "      copying pandas\\tests\\arrays\\boolean\\test_astype.py -> build\\lib.win-amd64-cpython-311\\pandas\\tests\\arrays\\boolean\n",
            "      copying pandas\\tests\\arrays\\boolean\\test_comparison.py -> build\\lib.win-amd64-cpython-311\\pandas\\tests\\arrays\\boolean\n",
            "      copying pandas\\tests\\arrays\\boolean\\test_construction.py -> build\\lib.win-amd64-cpython-311\\pandas\\tests\\arrays\\boolean\n",
            "      copying pandas\\tests\\arrays\\boolean\\test_function.py -> build\\lib.win-amd64-cpython-311\\pandas\\tests\\arrays\\boolean\n",
            "      copying pandas\\tests\\arrays\\boolean\\test_indexing.py -> build\\lib.win-amd64-cpython-311\\pandas\\tests\\arrays\\boolean\n",
            "      copying pandas\\tests\\arrays\\boolean\\test_logical.py -> build\\lib.win-amd64-cpython-311\\pandas\\tests\\arrays\\boolean\n",
            "      copying pandas\\tests\\arrays\\boolean\\test_ops.py -> build\\lib.win-amd64-cpython-311\\pandas\\tests\\arrays\\boolean\n",
            "      copying pandas\\tests\\arrays\\boolean\\test_reduction.py -> build\\lib.win-amd64-cpython-311\\pandas\\tests\\arrays\\boolean\n",
            "      copying pandas\\tests\\arrays\\boolean\\test_repr.py -> build\\lib.win-amd64-cpython-311\\pandas\\tests\\arrays\\boolean\n",
            "      copying pandas\\tests\\arrays\\boolean\\__init__.py -> build\\lib.win-amd64-cpython-311\\pandas\\tests\\arrays\\boolean\n",
            "      creating build\\lib.win-amd64-cpython-311\\pandas\\tests\\arrays\\categorical\n",
            "      copying pandas\\tests\\arrays\\categorical\\common.py -> build\\lib.win-amd64-cpython-311\\pandas\\tests\\arrays\\categorical\n",
            "      copying pandas\\tests\\arrays\\categorical\\conftest.py -> build\\lib.win-amd64-cpython-311\\pandas\\tests\\arrays\\categorical\n",
            "      copying pandas\\tests\\arrays\\categorical\\test_algos.py -> build\\lib.win-amd64-cpython-311\\pandas\\tests\\arrays\\categorical\n",
            "      copying pandas\\tests\\arrays\\categorical\\test_analytics.py -> build\\lib.win-amd64-cpython-311\\pandas\\tests\\arrays\\categorical\n",
            "      copying pandas\\tests\\arrays\\categorical\\test_api.py -> build\\lib.win-amd64-cpython-311\\pandas\\tests\\arrays\\categorical\n",
            "      copying pandas\\tests\\arrays\\categorical\\test_constructors.py -> build\\lib.win-amd64-cpython-311\\pandas\\tests\\arrays\\categorical\n",
            "      copying pandas\\tests\\arrays\\categorical\\test_dtypes.py -> build\\lib.win-amd64-cpython-311\\pandas\\tests\\arrays\\categorical\n",
            "      copying pandas\\tests\\arrays\\categorical\\test_indexing.py -> build\\lib.win-amd64-cpython-311\\pandas\\tests\\arrays\\categorical\n",
            "      copying pandas\\tests\\arrays\\categorical\\test_missing.py -> build\\lib.win-amd64-cpython-311\\pandas\\tests\\arrays\\categorical\n",
            "      copying pandas\\tests\\arrays\\categorical\\test_operators.py -> build\\lib.win-amd64-cpython-311\\pandas\\tests\\arrays\\categorical\n",
            "      copying pandas\\tests\\arrays\\categorical\\test_replace.py -> build\\lib.win-amd64-cpython-311\\pandas\\tests\\arrays\\categorical\n",
            "      copying pandas\\tests\\arrays\\categorical\\test_repr.py -> build\\lib.win-amd64-cpython-311\\pandas\\tests\\arrays\\categorical\n",
            "      copying pandas\\tests\\arrays\\categorical\\test_sorting.py -> build\\lib.win-amd64-cpython-311\\pandas\\tests\\arrays\\categorical\n",
            "      copying pandas\\tests\\arrays\\categorical\\test_subclass.py -> build\\lib.win-amd64-cpython-311\\pandas\\tests\\arrays\\categorical\n",
            "      copying pandas\\tests\\arrays\\categorical\\test_warnings.py -> build\\lib.win-amd64-cpython-311\\pandas\\tests\\arrays\\categorical\n",
            "      copying pandas\\tests\\arrays\\categorical\\__init__.py -> build\\lib.win-amd64-cpython-311\\pandas\\tests\\arrays\\categorical\n",
            "      creating build\\lib.win-amd64-cpython-311\\pandas\\tests\\arrays\\integer\n",
            "      copying pandas\\tests\\arrays\\integer\\conftest.py -> build\\lib.win-amd64-cpython-311\\pandas\\tests\\arrays\\integer\n",
            "      copying pandas\\tests\\arrays\\integer\\test_arithmetic.py -> build\\lib.win-amd64-cpython-311\\pandas\\tests\\arrays\\integer\n",
            "      copying pandas\\tests\\arrays\\integer\\test_comparison.py -> build\\lib.win-amd64-cpython-311\\pandas\\tests\\arrays\\integer\n",
            "      copying pandas\\tests\\arrays\\integer\\test_concat.py -> build\\lib.win-amd64-cpython-311\\pandas\\tests\\arrays\\integer\n",
            "      copying pandas\\tests\\arrays\\integer\\test_construction.py -> build\\lib.win-amd64-cpython-311\\pandas\\tests\\arrays\\integer\n",
            "      copying pandas\\tests\\arrays\\integer\\test_dtypes.py -> build\\lib.win-amd64-cpython-311\\pandas\\tests\\arrays\\integer\n",
            "      copying pandas\\tests\\arrays\\integer\\test_function.py -> build\\lib.win-amd64-cpython-311\\pandas\\tests\\arrays\\integer\n",
            "      copying pandas\\tests\\arrays\\integer\\test_indexing.py -> build\\lib.win-amd64-cpython-311\\pandas\\tests\\arrays\\integer\n",
            "      copying pandas\\tests\\arrays\\integer\\test_repr.py -> build\\lib.win-amd64-cpython-311\\pandas\\tests\\arrays\\integer\n",
            "      copying pandas\\tests\\arrays\\integer\\__init__.py -> build\\lib.win-amd64-cpython-311\\pandas\\tests\\arrays\\integer\n",
            "      creating build\\lib.win-amd64-cpython-311\\pandas\\tests\\arrays\\interval\n",
            "      copying pandas\\tests\\arrays\\interval\\test_interval.py -> build\\lib.win-amd64-cpython-311\\pandas\\tests\\arrays\\interval\n",
            "      copying pandas\\tests\\arrays\\interval\\test_ops.py -> build\\lib.win-amd64-cpython-311\\pandas\\tests\\arrays\\interval\n",
            "      copying pandas\\tests\\arrays\\interval\\__init__.py -> build\\lib.win-amd64-cpython-311\\pandas\\tests\\arrays\\interval\n",
            "      creating build\\lib.win-amd64-cpython-311\\pandas\\tests\\arrays\\masked\n",
            "      copying pandas\\tests\\arrays\\masked\\test_arithmetic.py -> build\\lib.win-amd64-cpython-311\\pandas\\tests\\arrays\\masked\n",
            "      copying pandas\\tests\\arrays\\masked\\test_arrow_compat.py -> build\\lib.win-amd64-cpython-311\\pandas\\tests\\arrays\\masked\n",
            "      copying pandas\\tests\\arrays\\masked\\__init__.py -> build\\lib.win-amd64-cpython-311\\pandas\\tests\\arrays\\masked\n",
            "      creating build\\lib.win-amd64-cpython-311\\pandas\\tests\\arrays\\sparse\n",
            "      copying pandas\\tests\\arrays\\sparse\\test_accessor.py -> build\\lib.win-amd64-cpython-311\\pandas\\tests\\arrays\\sparse\n",
            "      copying pandas\\tests\\arrays\\sparse\\test_arithmetics.py -> build\\lib.win-amd64-cpython-311\\pandas\\tests\\arrays\\sparse\n",
            "      copying pandas\\tests\\arrays\\sparse\\test_array.py -> build\\lib.win-amd64-cpython-311\\pandas\\tests\\arrays\\sparse\n",
            "      copying pandas\\tests\\arrays\\sparse\\test_combine_concat.py -> build\\lib.win-amd64-cpython-311\\pandas\\tests\\arrays\\sparse\n",
            "      copying pandas\\tests\\arrays\\sparse\\test_dtype.py -> build\\lib.win-amd64-cpython-311\\pandas\\tests\\arrays\\sparse\n",
            "      copying pandas\\tests\\arrays\\sparse\\test_libsparse.py -> build\\lib.win-amd64-cpython-311\\pandas\\tests\\arrays\\sparse\n",
            "      copying pandas\\tests\\arrays\\sparse\\__init__.py -> build\\lib.win-amd64-cpython-311\\pandas\\tests\\arrays\\sparse\n",
            "      creating build\\lib.win-amd64-cpython-311\\pandas\\tests\\arrays\\string_\n",
            "      copying pandas\\tests\\arrays\\string_\\test_string.py -> build\\lib.win-amd64-cpython-311\\pandas\\tests\\arrays\\string_\n",
            "      copying pandas\\tests\\arrays\\string_\\__init__.py -> build\\lib.win-amd64-cpython-311\\pandas\\tests\\arrays\\string_\n",
            "      creating build\\lib.win-amd64-cpython-311\\pandas\\tests\\dtypes\\cast\n",
            "      copying pandas\\tests\\dtypes\\cast\\test_construct_from_scalar.py -> build\\lib.win-amd64-cpython-311\\pandas\\tests\\dtypes\\cast\n",
            "      copying pandas\\tests\\dtypes\\cast\\test_construct_ndarray.py -> build\\lib.win-amd64-cpython-311\\pandas\\tests\\dtypes\\cast\n",
            "      copying pandas\\tests\\dtypes\\cast\\test_construct_object_arr.py -> build\\lib.win-amd64-cpython-311\\pandas\\tests\\dtypes\\cast\n",
            "      copying pandas\\tests\\dtypes\\cast\\test_convert_objects.py -> build\\lib.win-amd64-cpython-311\\pandas\\tests\\dtypes\\cast\n",
            "      copying pandas\\tests\\dtypes\\cast\\test_downcast.py -> build\\lib.win-amd64-cpython-311\\pandas\\tests\\dtypes\\cast\n",
            "      copying pandas\\tests\\dtypes\\cast\\test_find_common_type.py -> build\\lib.win-amd64-cpython-311\\pandas\\tests\\dtypes\\cast\n",
            "      copying pandas\\tests\\dtypes\\cast\\test_infer_datetimelike.py -> build\\lib.win-amd64-cpython-311\\pandas\\tests\\dtypes\\cast\n",
            "      copying pandas\\tests\\dtypes\\cast\\test_infer_dtype.py -> build\\lib.win-amd64-cpython-311\\pandas\\tests\\dtypes\\cast\n",
            "      copying pandas\\tests\\dtypes\\cast\\test_promote.py -> build\\lib.win-amd64-cpython-311\\pandas\\tests\\dtypes\\cast\n",
            "      copying pandas\\tests\\dtypes\\cast\\test_upcast.py -> build\\lib.win-amd64-cpython-311\\pandas\\tests\\dtypes\\cast\n",
            "      copying pandas\\tests\\dtypes\\cast\\__init__.py -> build\\lib.win-amd64-cpython-311\\pandas\\tests\\dtypes\\cast\n",
            "      creating build\\lib.win-amd64-cpython-311\\pandas\\tests\\extension\\arrow\n",
            "      copying pandas\\tests\\extension\\arrow\\arrays.py -> build\\lib.win-amd64-cpython-311\\pandas\\tests\\extension\\arrow\n",
            "      copying pandas\\tests\\extension\\arrow\\test_bool.py -> build\\lib.win-amd64-cpython-311\\pandas\\tests\\extension\\arrow\n",
            "      copying pandas\\tests\\extension\\arrow\\test_string.py -> build\\lib.win-amd64-cpython-311\\pandas\\tests\\extension\\arrow\n",
            "      copying pandas\\tests\\extension\\arrow\\__init__.py -> build\\lib.win-amd64-cpython-311\\pandas\\tests\\extension\\arrow\n",
            "      creating build\\lib.win-amd64-cpython-311\\pandas\\tests\\extension\\base\n",
            "      copying pandas\\tests\\extension\\base\\base.py -> build\\lib.win-amd64-cpython-311\\pandas\\tests\\extension\\base\n",
            "      copying pandas\\tests\\extension\\base\\casting.py -> build\\lib.win-amd64-cpython-311\\pandas\\tests\\extension\\base\n",
            "      copying pandas\\tests\\extension\\base\\constructors.py -> build\\lib.win-amd64-cpython-311\\pandas\\tests\\extension\\base\n",
            "      copying pandas\\tests\\extension\\base\\dtype.py -> build\\lib.win-amd64-cpython-311\\pandas\\tests\\extension\\base\n",
            "      copying pandas\\tests\\extension\\base\\getitem.py -> build\\lib.win-amd64-cpython-311\\pandas\\tests\\extension\\base\n",
            "      copying pandas\\tests\\extension\\base\\groupby.py -> build\\lib.win-amd64-cpython-311\\pandas\\tests\\extension\\base\n",
            "      copying pandas\\tests\\extension\\base\\interface.py -> build\\lib.win-amd64-cpython-311\\pandas\\tests\\extension\\base\n",
            "      copying pandas\\tests\\extension\\base\\io.py -> build\\lib.win-amd64-cpython-311\\pandas\\tests\\extension\\base\n",
            "      copying pandas\\tests\\extension\\base\\methods.py -> build\\lib.win-amd64-cpython-311\\pandas\\tests\\extension\\base\n",
            "      copying pandas\\tests\\extension\\base\\missing.py -> build\\lib.win-amd64-cpython-311\\pandas\\tests\\extension\\base\n",
            "      copying pandas\\tests\\extension\\base\\ops.py -> build\\lib.win-amd64-cpython-311\\pandas\\tests\\extension\\base\n",
            "      copying pandas\\tests\\extension\\base\\printing.py -> build\\lib.win-amd64-cpython-311\\pandas\\tests\\extension\\base\n",
            "      copying pandas\\tests\\extension\\base\\reduce.py -> build\\lib.win-amd64-cpython-311\\pandas\\tests\\extension\\base\n",
            "      copying pandas\\tests\\extension\\base\\reshaping.py -> build\\lib.win-amd64-cpython-311\\pandas\\tests\\extension\\base\n",
            "      copying pandas\\tests\\extension\\base\\setitem.py -> build\\lib.win-amd64-cpython-311\\pandas\\tests\\extension\\base\n",
            "      copying pandas\\tests\\extension\\base\\__init__.py -> build\\lib.win-amd64-cpython-311\\pandas\\tests\\extension\\base\n",
            "      creating build\\lib.win-amd64-cpython-311\\pandas\\tests\\extension\\decimal\n",
            "      copying pandas\\tests\\extension\\decimal\\array.py -> build\\lib.win-amd64-cpython-311\\pandas\\tests\\extension\\decimal\n",
            "      copying pandas\\tests\\extension\\decimal\\test_decimal.py -> build\\lib.win-amd64-cpython-311\\pandas\\tests\\extension\\decimal\n",
            "      copying pandas\\tests\\extension\\decimal\\__init__.py -> build\\lib.win-amd64-cpython-311\\pandas\\tests\\extension\\decimal\n",
            "      creating build\\lib.win-amd64-cpython-311\\pandas\\tests\\extension\\json\n",
            "      copying pandas\\tests\\extension\\json\\array.py -> build\\lib.win-amd64-cpython-311\\pandas\\tests\\extension\\json\n",
            "      copying pandas\\tests\\extension\\json\\test_json.py -> build\\lib.win-amd64-cpython-311\\pandas\\tests\\extension\\json\n",
            "      copying pandas\\tests\\extension\\json\\__init__.py -> build\\lib.win-amd64-cpython-311\\pandas\\tests\\extension\\json\n",
            "      creating build\\lib.win-amd64-cpython-311\\pandas\\tests\\extension\\list\n",
            "      copying pandas\\tests\\extension\\list\\array.py -> build\\lib.win-amd64-cpython-311\\pandas\\tests\\extension\\list\n",
            "      copying pandas\\tests\\extension\\list\\test_list.py -> build\\lib.win-amd64-cpython-311\\pandas\\tests\\extension\\list\n",
            "      copying pandas\\tests\\extension\\list\\__init__.py -> build\\lib.win-amd64-cpython-311\\pandas\\tests\\extension\\list\n",
            "      creating build\\lib.win-amd64-cpython-311\\pandas\\tests\\frame\\apply\n",
            "      copying pandas\\tests\\frame\\apply\\test_apply_relabeling.py -> build\\lib.win-amd64-cpython-311\\pandas\\tests\\frame\\apply\n",
            "      copying pandas\\tests\\frame\\apply\\test_frame_apply.py -> build\\lib.win-amd64-cpython-311\\pandas\\tests\\frame\\apply\n",
            "      copying pandas\\tests\\frame\\apply\\__init__.py -> build\\lib.win-amd64-cpython-311\\pandas\\tests\\frame\\apply\n",
            "      creating build\\lib.win-amd64-cpython-311\\pandas\\tests\\frame\\methods\n",
            "      copying pandas\\tests\\frame\\methods\\test_align.py -> build\\lib.win-amd64-cpython-311\\pandas\\tests\\frame\\methods\n",
            "      copying pandas\\tests\\frame\\methods\\test_append.py -> build\\lib.win-amd64-cpython-311\\pandas\\tests\\frame\\methods\n",
            "      copying pandas\\tests\\frame\\methods\\test_asfreq.py -> build\\lib.win-amd64-cpython-311\\pandas\\tests\\frame\\methods\n",
            "      copying pandas\\tests\\frame\\methods\\test_asof.py -> build\\lib.win-amd64-cpython-311\\pandas\\tests\\frame\\methods\n",
            "      copying pandas\\tests\\frame\\methods\\test_assign.py -> build\\lib.win-amd64-cpython-311\\pandas\\tests\\frame\\methods\n",
            "      copying pandas\\tests\\frame\\methods\\test_astype.py -> build\\lib.win-amd64-cpython-311\\pandas\\tests\\frame\\methods\n",
            "      copying pandas\\tests\\frame\\methods\\test_at_time.py -> build\\lib.win-amd64-cpython-311\\pandas\\tests\\frame\\methods\n",
            "      copying pandas\\tests\\frame\\methods\\test_between_time.py -> build\\lib.win-amd64-cpython-311\\pandas\\tests\\frame\\methods\n",
            "      copying pandas\\tests\\frame\\methods\\test_clip.py -> build\\lib.win-amd64-cpython-311\\pandas\\tests\\frame\\methods\n",
            "      copying pandas\\tests\\frame\\methods\\test_combine.py -> build\\lib.win-amd64-cpython-311\\pandas\\tests\\frame\\methods\n",
            "      copying pandas\\tests\\frame\\methods\\test_combine_first.py -> build\\lib.win-amd64-cpython-311\\pandas\\tests\\frame\\methods\n",
            "      copying pandas\\tests\\frame\\methods\\test_compare.py -> build\\lib.win-amd64-cpython-311\\pandas\\tests\\frame\\methods\n",
            "      copying pandas\\tests\\frame\\methods\\test_count.py -> build\\lib.win-amd64-cpython-311\\pandas\\tests\\frame\\methods\n",
            "      copying pandas\\tests\\frame\\methods\\test_cov_corr.py -> build\\lib.win-amd64-cpython-311\\pandas\\tests\\frame\\methods\n",
            "      copying pandas\\tests\\frame\\methods\\test_describe.py -> build\\lib.win-amd64-cpython-311\\pandas\\tests\\frame\\methods\n",
            "      copying pandas\\tests\\frame\\methods\\test_diff.py -> build\\lib.win-amd64-cpython-311\\pandas\\tests\\frame\\methods\n",
            "      copying pandas\\tests\\frame\\methods\\test_drop.py -> build\\lib.win-amd64-cpython-311\\pandas\\tests\\frame\\methods\n",
            "      copying pandas\\tests\\frame\\methods\\test_droplevel.py -> build\\lib.win-amd64-cpython-311\\pandas\\tests\\frame\\methods\n",
            "      copying pandas\\tests\\frame\\methods\\test_drop_duplicates.py -> build\\lib.win-amd64-cpython-311\\pandas\\tests\\frame\\methods\n",
            "      copying pandas\\tests\\frame\\methods\\test_duplicated.py -> build\\lib.win-amd64-cpython-311\\pandas\\tests\\frame\\methods\n",
            "      copying pandas\\tests\\frame\\methods\\test_explode.py -> build\\lib.win-amd64-cpython-311\\pandas\\tests\\frame\\methods\n",
            "      copying pandas\\tests\\frame\\methods\\test_filter.py -> build\\lib.win-amd64-cpython-311\\pandas\\tests\\frame\\methods\n",
            "      copying pandas\\tests\\frame\\methods\\test_first_and_last.py -> build\\lib.win-amd64-cpython-311\\pandas\\tests\\frame\\methods\n",
            "      copying pandas\\tests\\frame\\methods\\test_head_tail.py -> build\\lib.win-amd64-cpython-311\\pandas\\tests\\frame\\methods\n",
            "      copying pandas\\tests\\frame\\methods\\test_interpolate.py -> build\\lib.win-amd64-cpython-311\\pandas\\tests\\frame\\methods\n",
            "      copying pandas\\tests\\frame\\methods\\test_isin.py -> build\\lib.win-amd64-cpython-311\\pandas\\tests\\frame\\methods\n",
            "      copying pandas\\tests\\frame\\methods\\test_nlargest.py -> build\\lib.win-amd64-cpython-311\\pandas\\tests\\frame\\methods\n",
            "      copying pandas\\tests\\frame\\methods\\test_pct_change.py -> build\\lib.win-amd64-cpython-311\\pandas\\tests\\frame\\methods\n",
            "      copying pandas\\tests\\frame\\methods\\test_pop.py -> build\\lib.win-amd64-cpython-311\\pandas\\tests\\frame\\methods\n",
            "      copying pandas\\tests\\frame\\methods\\test_quantile.py -> build\\lib.win-amd64-cpython-311\\pandas\\tests\\frame\\methods\n",
            "      copying pandas\\tests\\frame\\methods\\test_rank.py -> build\\lib.win-amd64-cpython-311\\pandas\\tests\\frame\\methods\n",
            "      copying pandas\\tests\\frame\\methods\\test_reindex_like.py -> build\\lib.win-amd64-cpython-311\\pandas\\tests\\frame\\methods\n",
            "      copying pandas\\tests\\frame\\methods\\test_rename.py -> build\\lib.win-amd64-cpython-311\\pandas\\tests\\frame\\methods\n",
            "      copying pandas\\tests\\frame\\methods\\test_rename_axis.py -> build\\lib.win-amd64-cpython-311\\pandas\\tests\\frame\\methods\n",
            "      copying pandas\\tests\\frame\\methods\\test_replace.py -> build\\lib.win-amd64-cpython-311\\pandas\\tests\\frame\\methods\n",
            "      copying pandas\\tests\\frame\\methods\\test_reset_index.py -> build\\lib.win-amd64-cpython-311\\pandas\\tests\\frame\\methods\n",
            "      copying pandas\\tests\\frame\\methods\\test_round.py -> build\\lib.win-amd64-cpython-311\\pandas\\tests\\frame\\methods\n",
            "      copying pandas\\tests\\frame\\methods\\test_select_dtypes.py -> build\\lib.win-amd64-cpython-311\\pandas\\tests\\frame\\methods\n",
            "      copying pandas\\tests\\frame\\methods\\test_set_index.py -> build\\lib.win-amd64-cpython-311\\pandas\\tests\\frame\\methods\n",
            "      copying pandas\\tests\\frame\\methods\\test_shift.py -> build\\lib.win-amd64-cpython-311\\pandas\\tests\\frame\\methods\n",
            "      copying pandas\\tests\\frame\\methods\\test_sort_index.py -> build\\lib.win-amd64-cpython-311\\pandas\\tests\\frame\\methods\n",
            "      copying pandas\\tests\\frame\\methods\\test_sort_values.py -> build\\lib.win-amd64-cpython-311\\pandas\\tests\\frame\\methods\n",
            "      copying pandas\\tests\\frame\\methods\\test_to_dict.py -> build\\lib.win-amd64-cpython-311\\pandas\\tests\\frame\\methods\n",
            "      copying pandas\\tests\\frame\\methods\\test_to_period.py -> build\\lib.win-amd64-cpython-311\\pandas\\tests\\frame\\methods\n",
            "      copying pandas\\tests\\frame\\methods\\test_to_records.py -> build\\lib.win-amd64-cpython-311\\pandas\\tests\\frame\\methods\n",
            "      copying pandas\\tests\\frame\\methods\\test_to_timestamp.py -> build\\lib.win-amd64-cpython-311\\pandas\\tests\\frame\\methods\n",
            "      copying pandas\\tests\\frame\\methods\\test_transpose.py -> build\\lib.win-amd64-cpython-311\\pandas\\tests\\frame\\methods\n",
            "      copying pandas\\tests\\frame\\methods\\test_truncate.py -> build\\lib.win-amd64-cpython-311\\pandas\\tests\\frame\\methods\n",
            "      copying pandas\\tests\\frame\\methods\\test_tz_convert.py -> build\\lib.win-amd64-cpython-311\\pandas\\tests\\frame\\methods\n",
            "      copying pandas\\tests\\frame\\methods\\test_tz_localize.py -> build\\lib.win-amd64-cpython-311\\pandas\\tests\\frame\\methods\n",
            "      copying pandas\\tests\\frame\\methods\\test_update.py -> build\\lib.win-amd64-cpython-311\\pandas\\tests\\frame\\methods\n",
            "      copying pandas\\tests\\frame\\methods\\test_value_counts.py -> build\\lib.win-amd64-cpython-311\\pandas\\tests\\frame\\methods\n",
            "      copying pandas\\tests\\frame\\methods\\__init__.py -> build\\lib.win-amd64-cpython-311\\pandas\\tests\\frame\\methods\n",
            "      creating build\\lib.win-amd64-cpython-311\\pandas\\tests\\generic\\methods\n",
            "      copying pandas\\tests\\generic\\methods\\test_dot.py -> build\\lib.win-amd64-cpython-311\\pandas\\tests\\generic\\methods\n",
            "      copying pandas\\tests\\generic\\methods\\test_first_valid_index.py -> build\\lib.win-amd64-cpython-311\\pandas\\tests\\generic\\methods\n",
            "      copying pandas\\tests\\generic\\methods\\test_reorder_levels.py -> build\\lib.win-amd64-cpython-311\\pandas\\tests\\generic\\methods\n",
            "      copying pandas\\tests\\generic\\methods\\test_set_axis.py -> build\\lib.win-amd64-cpython-311\\pandas\\tests\\generic\\methods\n",
            "      copying pandas\\tests\\generic\\methods\\__init__.py -> build\\lib.win-amd64-cpython-311\\pandas\\tests\\generic\\methods\n",
            "      creating build\\lib.win-amd64-cpython-311\\pandas\\tests\\groupby\\aggregate\n",
            "      copying pandas\\tests\\groupby\\aggregate\\test_aggregate.py -> build\\lib.win-amd64-cpython-311\\pandas\\tests\\groupby\\aggregate\n",
            "      copying pandas\\tests\\groupby\\aggregate\\test_cython.py -> build\\lib.win-amd64-cpython-311\\pandas\\tests\\groupby\\aggregate\n",
            "      copying pandas\\tests\\groupby\\aggregate\\test_numba.py -> build\\lib.win-amd64-cpython-311\\pandas\\tests\\groupby\\aggregate\n",
            "      copying pandas\\tests\\groupby\\aggregate\\test_other.py -> build\\lib.win-amd64-cpython-311\\pandas\\tests\\groupby\\aggregate\n",
            "      copying pandas\\tests\\groupby\\aggregate\\__init__.py -> build\\lib.win-amd64-cpython-311\\pandas\\tests\\groupby\\aggregate\n",
            "      creating build\\lib.win-amd64-cpython-311\\pandas\\tests\\groupby\\transform\n",
            "      copying pandas\\tests\\groupby\\transform\\test_numba.py -> build\\lib.win-amd64-cpython-311\\pandas\\tests\\groupby\\transform\n",
            "      copying pandas\\tests\\groupby\\transform\\test_transform.py -> build\\lib.win-amd64-cpython-311\\pandas\\tests\\groupby\\transform\n",
            "      copying pandas\\tests\\groupby\\transform\\__init__.py -> build\\lib.win-amd64-cpython-311\\pandas\\tests\\groupby\\transform\n",
            "      creating build\\lib.win-amd64-cpython-311\\pandas\\tests\\indexes\\base_class\n",
            "      copying pandas\\tests\\indexes\\base_class\\test_constructors.py -> build\\lib.win-amd64-cpython-311\\pandas\\tests\\indexes\\base_class\n",
            "      copying pandas\\tests\\indexes\\base_class\\test_reshape.py -> build\\lib.win-amd64-cpython-311\\pandas\\tests\\indexes\\base_class\n",
            "      copying pandas\\tests\\indexes\\base_class\\test_setops.py -> build\\lib.win-amd64-cpython-311\\pandas\\tests\\indexes\\base_class\n",
            "      copying pandas\\tests\\indexes\\base_class\\__init__.py -> build\\lib.win-amd64-cpython-311\\pandas\\tests\\indexes\\base_class\n",
            "      creating build\\lib.win-amd64-cpython-311\\pandas\\tests\\indexes\\categorical\n",
            "      copying pandas\\tests\\indexes\\categorical\\test_astype.py -> build\\lib.win-amd64-cpython-311\\pandas\\tests\\indexes\\categorical\n",
            "      copying pandas\\tests\\indexes\\categorical\\test_category.py -> build\\lib.win-amd64-cpython-311\\pandas\\tests\\indexes\\categorical\n",
            "      copying pandas\\tests\\indexes\\categorical\\test_constructors.py -> build\\lib.win-amd64-cpython-311\\pandas\\tests\\indexes\\categorical\n",
            "      copying pandas\\tests\\indexes\\categorical\\test_fillna.py -> build\\lib.win-amd64-cpython-311\\pandas\\tests\\indexes\\categorical\n",
            "      copying pandas\\tests\\indexes\\categorical\\test_formats.py -> build\\lib.win-amd64-cpython-311\\pandas\\tests\\indexes\\categorical\n",
            "      copying pandas\\tests\\indexes\\categorical\\test_indexing.py -> build\\lib.win-amd64-cpython-311\\pandas\\tests\\indexes\\categorical\n",
            "      copying pandas\\tests\\indexes\\categorical\\test_map.py -> build\\lib.win-amd64-cpython-311\\pandas\\tests\\indexes\\categorical\n",
            "      copying pandas\\tests\\indexes\\categorical\\test_reindex.py -> build\\lib.win-amd64-cpython-311\\pandas\\tests\\indexes\\categorical\n",
            "      copying pandas\\tests\\indexes\\categorical\\__init__.py -> build\\lib.win-amd64-cpython-311\\pandas\\tests\\indexes\\categorical\n",
            "      creating build\\lib.win-amd64-cpython-311\\pandas\\tests\\indexes\\datetimes\n",
            "      copying pandas\\tests\\indexes\\datetimes\\test_astype.py -> build\\lib.win-amd64-cpython-311\\pandas\\tests\\indexes\\datetimes\n",
            "      copying pandas\\tests\\indexes\\datetimes\\test_constructors.py -> build\\lib.win-amd64-cpython-311\\pandas\\tests\\indexes\\datetimes\n",
            "      copying pandas\\tests\\indexes\\datetimes\\test_datetime.py -> build\\lib.win-amd64-cpython-311\\pandas\\tests\\indexes\\datetimes\n",
            "      copying pandas\\tests\\indexes\\datetimes\\test_datetimelike.py -> build\\lib.win-amd64-cpython-311\\pandas\\tests\\indexes\\datetimes\n",
            "      copying pandas\\tests\\indexes\\datetimes\\test_date_range.py -> build\\lib.win-amd64-cpython-311\\pandas\\tests\\indexes\\datetimes\n",
            "      copying pandas\\tests\\indexes\\datetimes\\test_delete.py -> build\\lib.win-amd64-cpython-311\\pandas\\tests\\indexes\\datetimes\n",
            "      copying pandas\\tests\\indexes\\datetimes\\test_fillna.py -> build\\lib.win-amd64-cpython-311\\pandas\\tests\\indexes\\datetimes\n",
            "      copying pandas\\tests\\indexes\\datetimes\\test_formats.py -> build\\lib.win-amd64-cpython-311\\pandas\\tests\\indexes\\datetimes\n",
            "      copying pandas\\tests\\indexes\\datetimes\\test_indexing.py -> build\\lib.win-amd64-cpython-311\\pandas\\tests\\indexes\\datetimes\n",
            "      copying pandas\\tests\\indexes\\datetimes\\test_insert.py -> build\\lib.win-amd64-cpython-311\\pandas\\tests\\indexes\\datetimes\n",
            "      copying pandas\\tests\\indexes\\datetimes\\test_join.py -> build\\lib.win-amd64-cpython-311\\pandas\\tests\\indexes\\datetimes\n",
            "      copying pandas\\tests\\indexes\\datetimes\\test_map.py -> build\\lib.win-amd64-cpython-311\\pandas\\tests\\indexes\\datetimes\n",
            "      copying pandas\\tests\\indexes\\datetimes\\test_misc.py -> build\\lib.win-amd64-cpython-311\\pandas\\tests\\indexes\\datetimes\n",
            "      copying pandas\\tests\\indexes\\datetimes\\test_ops.py -> build\\lib.win-amd64-cpython-311\\pandas\\tests\\indexes\\datetimes\n",
            "      copying pandas\\tests\\indexes\\datetimes\\test_partial_slicing.py -> build\\lib.win-amd64-cpython-311\\pandas\\tests\\indexes\\datetimes\n",
            "      copying pandas\\tests\\indexes\\datetimes\\test_pickle.py -> build\\lib.win-amd64-cpython-311\\pandas\\tests\\indexes\\datetimes\n",
            "      copying pandas\\tests\\indexes\\datetimes\\test_scalar_compat.py -> build\\lib.win-amd64-cpython-311\\pandas\\tests\\indexes\\datetimes\n",
            "      copying pandas\\tests\\indexes\\datetimes\\test_setops.py -> build\\lib.win-amd64-cpython-311\\pandas\\tests\\indexes\\datetimes\n",
            "      copying pandas\\tests\\indexes\\datetimes\\test_shift.py -> build\\lib.win-amd64-cpython-311\\pandas\\tests\\indexes\\datetimes\n",
            "      copying pandas\\tests\\indexes\\datetimes\\test_snap.py -> build\\lib.win-amd64-cpython-311\\pandas\\tests\\indexes\\datetimes\n",
            "      copying pandas\\tests\\indexes\\datetimes\\test_timezones.py -> build\\lib.win-amd64-cpython-311\\pandas\\tests\\indexes\\datetimes\n",
            "      copying pandas\\tests\\indexes\\datetimes\\test_to_period.py -> build\\lib.win-amd64-cpython-311\\pandas\\tests\\indexes\\datetimes\n",
            "      copying pandas\\tests\\indexes\\datetimes\\__init__.py -> build\\lib.win-amd64-cpython-311\\pandas\\tests\\indexes\\datetimes\n",
            "      creating build\\lib.win-amd64-cpython-311\\pandas\\tests\\indexes\\interval\n",
            "      copying pandas\\tests\\indexes\\interval\\test_astype.py -> build\\lib.win-amd64-cpython-311\\pandas\\tests\\indexes\\interval\n",
            "      copying pandas\\tests\\indexes\\interval\\test_base.py -> build\\lib.win-amd64-cpython-311\\pandas\\tests\\indexes\\interval\n",
            "      copying pandas\\tests\\indexes\\interval\\test_constructors.py -> build\\lib.win-amd64-cpython-311\\pandas\\tests\\indexes\\interval\n",
            "      copying pandas\\tests\\indexes\\interval\\test_formats.py -> build\\lib.win-amd64-cpython-311\\pandas\\tests\\indexes\\interval\n",
            "      copying pandas\\tests\\indexes\\interval\\test_indexing.py -> build\\lib.win-amd64-cpython-311\\pandas\\tests\\indexes\\interval\n",
            "      copying pandas\\tests\\indexes\\interval\\test_interval.py -> build\\lib.win-amd64-cpython-311\\pandas\\tests\\indexes\\interval\n",
            "      copying pandas\\tests\\indexes\\interval\\test_interval_range.py -> build\\lib.win-amd64-cpython-311\\pandas\\tests\\indexes\\interval\n",
            "      copying pandas\\tests\\indexes\\interval\\test_interval_tree.py -> build\\lib.win-amd64-cpython-311\\pandas\\tests\\indexes\\interval\n",
            "      copying pandas\\tests\\indexes\\interval\\test_setops.py -> build\\lib.win-amd64-cpython-311\\pandas\\tests\\indexes\\interval\n",
            "      copying pandas\\tests\\indexes\\interval\\__init__.py -> build\\lib.win-amd64-cpython-311\\pandas\\tests\\indexes\\interval\n",
            "      creating build\\lib.win-amd64-cpython-311\\pandas\\tests\\indexes\\multi\n",
            "      copying pandas\\tests\\indexes\\multi\\conftest.py -> build\\lib.win-amd64-cpython-311\\pandas\\tests\\indexes\\multi\n",
            "      copying pandas\\tests\\indexes\\multi\\test_analytics.py -> build\\lib.win-amd64-cpython-311\\pandas\\tests\\indexes\\multi\n",
            "      copying pandas\\tests\\indexes\\multi\\test_astype.py -> build\\lib.win-amd64-cpython-311\\pandas\\tests\\indexes\\multi\n",
            "      copying pandas\\tests\\indexes\\multi\\test_compat.py -> build\\lib.win-amd64-cpython-311\\pandas\\tests\\indexes\\multi\n",
            "      copying pandas\\tests\\indexes\\multi\\test_constructors.py -> build\\lib.win-amd64-cpython-311\\pandas\\tests\\indexes\\multi\n",
            "      copying pandas\\tests\\indexes\\multi\\test_conversion.py -> build\\lib.win-amd64-cpython-311\\pandas\\tests\\indexes\\multi\n",
            "      copying pandas\\tests\\indexes\\multi\\test_copy.py -> build\\lib.win-amd64-cpython-311\\pandas\\tests\\indexes\\multi\n",
            "      copying pandas\\tests\\indexes\\multi\\test_drop.py -> build\\lib.win-amd64-cpython-311\\pandas\\tests\\indexes\\multi\n",
            "      copying pandas\\tests\\indexes\\multi\\test_duplicates.py -> build\\lib.win-amd64-cpython-311\\pandas\\tests\\indexes\\multi\n",
            "      copying pandas\\tests\\indexes\\multi\\test_equivalence.py -> build\\lib.win-amd64-cpython-311\\pandas\\tests\\indexes\\multi\n",
            "      copying pandas\\tests\\indexes\\multi\\test_formats.py -> build\\lib.win-amd64-cpython-311\\pandas\\tests\\indexes\\multi\n",
            "      copying pandas\\tests\\indexes\\multi\\test_get_level_values.py -> build\\lib.win-amd64-cpython-311\\pandas\\tests\\indexes\\multi\n",
            "      copying pandas\\tests\\indexes\\multi\\test_get_set.py -> build\\lib.win-amd64-cpython-311\\pandas\\tests\\indexes\\multi\n",
            "      copying pandas\\tests\\indexes\\multi\\test_indexing.py -> build\\lib.win-amd64-cpython-311\\pandas\\tests\\indexes\\multi\n",
            "      copying pandas\\tests\\indexes\\multi\\test_integrity.py -> build\\lib.win-amd64-cpython-311\\pandas\\tests\\indexes\\multi\n",
            "      copying pandas\\tests\\indexes\\multi\\test_isin.py -> build\\lib.win-amd64-cpython-311\\pandas\\tests\\indexes\\multi\n",
            "      copying pandas\\tests\\indexes\\multi\\test_join.py -> build\\lib.win-amd64-cpython-311\\pandas\\tests\\indexes\\multi\n",
            "      copying pandas\\tests\\indexes\\multi\\test_lexsort.py -> build\\lib.win-amd64-cpython-311\\pandas\\tests\\indexes\\multi\n",
            "      copying pandas\\tests\\indexes\\multi\\test_missing.py -> build\\lib.win-amd64-cpython-311\\pandas\\tests\\indexes\\multi\n",
            "      copying pandas\\tests\\indexes\\multi\\test_monotonic.py -> build\\lib.win-amd64-cpython-311\\pandas\\tests\\indexes\\multi\n",
            "      copying pandas\\tests\\indexes\\multi\\test_names.py -> build\\lib.win-amd64-cpython-311\\pandas\\tests\\indexes\\multi\n",
            "      copying pandas\\tests\\indexes\\multi\\test_partial_indexing.py -> build\\lib.win-amd64-cpython-311\\pandas\\tests\\indexes\\multi\n",
            "      copying pandas\\tests\\indexes\\multi\\test_reindex.py -> build\\lib.win-amd64-cpython-311\\pandas\\tests\\indexes\\multi\n",
            "      copying pandas\\tests\\indexes\\multi\\test_reshape.py -> build\\lib.win-amd64-cpython-311\\pandas\\tests\\indexes\\multi\n",
            "      copying pandas\\tests\\indexes\\multi\\test_setops.py -> build\\lib.win-amd64-cpython-311\\pandas\\tests\\indexes\\multi\n",
            "      copying pandas\\tests\\indexes\\multi\\test_sorting.py -> build\\lib.win-amd64-cpython-311\\pandas\\tests\\indexes\\multi\n",
            "      copying pandas\\tests\\indexes\\multi\\test_take.py -> build\\lib.win-amd64-cpython-311\\pandas\\tests\\indexes\\multi\n",
            "      copying pandas\\tests\\indexes\\multi\\__init__.py -> build\\lib.win-amd64-cpython-311\\pandas\\tests\\indexes\\multi\n",
            "      creating build\\lib.win-amd64-cpython-311\\pandas\\tests\\indexes\\numeric\n",
            "      copying pandas\\tests\\indexes\\numeric\\test_astype.py -> build\\lib.win-amd64-cpython-311\\pandas\\tests\\indexes\\numeric\n",
            "      copying pandas\\tests\\indexes\\numeric\\test_indexing.py -> build\\lib.win-amd64-cpython-311\\pandas\\tests\\indexes\\numeric\n",
            "      copying pandas\\tests\\indexes\\numeric\\test_join.py -> build\\lib.win-amd64-cpython-311\\pandas\\tests\\indexes\\numeric\n",
            "      copying pandas\\tests\\indexes\\numeric\\__init__.py -> build\\lib.win-amd64-cpython-311\\pandas\\tests\\indexes\\numeric\n",
            "      creating build\\lib.win-amd64-cpython-311\\pandas\\tests\\indexes\\period\n",
            "      copying pandas\\tests\\indexes\\period\\test_asfreq.py -> build\\lib.win-amd64-cpython-311\\pandas\\tests\\indexes\\period\n",
            "      copying pandas\\tests\\indexes\\period\\test_astype.py -> build\\lib.win-amd64-cpython-311\\pandas\\tests\\indexes\\period\n",
            "      copying pandas\\tests\\indexes\\period\\test_constructors.py -> build\\lib.win-amd64-cpython-311\\pandas\\tests\\indexes\\period\n",
            "      copying pandas\\tests\\indexes\\period\\test_factorize.py -> build\\lib.win-amd64-cpython-311\\pandas\\tests\\indexes\\period\n",
            "      copying pandas\\tests\\indexes\\period\\test_fillna.py -> build\\lib.win-amd64-cpython-311\\pandas\\tests\\indexes\\period\n",
            "      copying pandas\\tests\\indexes\\period\\test_formats.py -> build\\lib.win-amd64-cpython-311\\pandas\\tests\\indexes\\period\n",
            "      copying pandas\\tests\\indexes\\period\\test_indexing.py -> build\\lib.win-amd64-cpython-311\\pandas\\tests\\indexes\\period\n",
            "      copying pandas\\tests\\indexes\\period\\test_join.py -> build\\lib.win-amd64-cpython-311\\pandas\\tests\\indexes\\period\n",
            "      copying pandas\\tests\\indexes\\period\\test_monotonic.py -> build\\lib.win-amd64-cpython-311\\pandas\\tests\\indexes\\period\n",
            "      copying pandas\\tests\\indexes\\period\\test_ops.py -> build\\lib.win-amd64-cpython-311\\pandas\\tests\\indexes\\period\n",
            "      copying pandas\\tests\\indexes\\period\\test_partial_slicing.py -> build\\lib.win-amd64-cpython-311\\pandas\\tests\\indexes\\period\n",
            "      copying pandas\\tests\\indexes\\period\\test_period.py -> build\\lib.win-amd64-cpython-311\\pandas\\tests\\indexes\\period\n",
            "      copying pandas\\tests\\indexes\\period\\test_period_range.py -> build\\lib.win-amd64-cpython-311\\pandas\\tests\\indexes\\period\n",
            "      copying pandas\\tests\\indexes\\period\\test_scalar_compat.py -> build\\lib.win-amd64-cpython-311\\pandas\\tests\\indexes\\period\n",
            "      copying pandas\\tests\\indexes\\period\\test_searchsorted.py -> build\\lib.win-amd64-cpython-311\\pandas\\tests\\indexes\\period\n",
            "      copying pandas\\tests\\indexes\\period\\test_setops.py -> build\\lib.win-amd64-cpython-311\\pandas\\tests\\indexes\\period\n",
            "      copying pandas\\tests\\indexes\\period\\test_shift.py -> build\\lib.win-amd64-cpython-311\\pandas\\tests\\indexes\\period\n",
            "      copying pandas\\tests\\indexes\\period\\test_tools.py -> build\\lib.win-amd64-cpython-311\\pandas\\tests\\indexes\\period\n",
            "      copying pandas\\tests\\indexes\\period\\test_to_timestamp.py -> build\\lib.win-amd64-cpython-311\\pandas\\tests\\indexes\\period\n",
            "      copying pandas\\tests\\indexes\\period\\__init__.py -> build\\lib.win-amd64-cpython-311\\pandas\\tests\\indexes\\period\n",
            "      creating build\\lib.win-amd64-cpython-311\\pandas\\tests\\indexes\\ranges\n",
            "      copying pandas\\tests\\indexes\\ranges\\test_constructors.py -> build\\lib.win-amd64-cpython-311\\pandas\\tests\\indexes\\ranges\n",
            "      copying pandas\\tests\\indexes\\ranges\\test_indexing.py -> build\\lib.win-amd64-cpython-311\\pandas\\tests\\indexes\\ranges\n",
            "      copying pandas\\tests\\indexes\\ranges\\test_join.py -> build\\lib.win-amd64-cpython-311\\pandas\\tests\\indexes\\ranges\n",
            "      copying pandas\\tests\\indexes\\ranges\\test_range.py -> build\\lib.win-amd64-cpython-311\\pandas\\tests\\indexes\\ranges\n",
            "      copying pandas\\tests\\indexes\\ranges\\test_setops.py -> build\\lib.win-amd64-cpython-311\\pandas\\tests\\indexes\\ranges\n",
            "      copying pandas\\tests\\indexes\\ranges\\__init__.py -> build\\lib.win-amd64-cpython-311\\pandas\\tests\\indexes\\ranges\n",
            "      creating build\\lib.win-amd64-cpython-311\\pandas\\tests\\indexes\\timedeltas\n",
            "      copying pandas\\tests\\indexes\\timedeltas\\test_astype.py -> build\\lib.win-amd64-cpython-311\\pandas\\tests\\indexes\\timedeltas\n",
            "      copying pandas\\tests\\indexes\\timedeltas\\test_constructors.py -> build\\lib.win-amd64-cpython-311\\pandas\\tests\\indexes\\timedeltas\n",
            "      copying pandas\\tests\\indexes\\timedeltas\\test_delete.py -> build\\lib.win-amd64-cpython-311\\pandas\\tests\\indexes\\timedeltas\n",
            "      copying pandas\\tests\\indexes\\timedeltas\\test_fillna.py -> build\\lib.win-amd64-cpython-311\\pandas\\tests\\indexes\\timedeltas\n",
            "      copying pandas\\tests\\indexes\\timedeltas\\test_formats.py -> build\\lib.win-amd64-cpython-311\\pandas\\tests\\indexes\\timedeltas\n",
            "      copying pandas\\tests\\indexes\\timedeltas\\test_indexing.py -> build\\lib.win-amd64-cpython-311\\pandas\\tests\\indexes\\timedeltas\n",
            "      copying pandas\\tests\\indexes\\timedeltas\\test_insert.py -> build\\lib.win-amd64-cpython-311\\pandas\\tests\\indexes\\timedeltas\n",
            "      copying pandas\\tests\\indexes\\timedeltas\\test_join.py -> build\\lib.win-amd64-cpython-311\\pandas\\tests\\indexes\\timedeltas\n",
            "      copying pandas\\tests\\indexes\\timedeltas\\test_ops.py -> build\\lib.win-amd64-cpython-311\\pandas\\tests\\indexes\\timedeltas\n",
            "      copying pandas\\tests\\indexes\\timedeltas\\test_partial_slicing.py -> build\\lib.win-amd64-cpython-311\\pandas\\tests\\indexes\\timedeltas\n",
            "      copying pandas\\tests\\indexes\\timedeltas\\test_scalar_compat.py -> build\\lib.win-amd64-cpython-311\\pandas\\tests\\indexes\\timedeltas\n",
            "      copying pandas\\tests\\indexes\\timedeltas\\test_searchsorted.py -> build\\lib.win-amd64-cpython-311\\pandas\\tests\\indexes\\timedeltas\n",
            "      copying pandas\\tests\\indexes\\timedeltas\\test_setops.py -> build\\lib.win-amd64-cpython-311\\pandas\\tests\\indexes\\timedeltas\n",
            "      copying pandas\\tests\\indexes\\timedeltas\\test_shift.py -> build\\lib.win-amd64-cpython-311\\pandas\\tests\\indexes\\timedeltas\n",
            "      copying pandas\\tests\\indexes\\timedeltas\\test_timedelta.py -> build\\lib.win-amd64-cpython-311\\pandas\\tests\\indexes\\timedeltas\n",
            "      copying pandas\\tests\\indexes\\timedeltas\\test_timedelta_range.py -> build\\lib.win-amd64-cpython-311\\pandas\\tests\\indexes\\timedeltas\n",
            "      copying pandas\\tests\\indexes\\timedeltas\\__init__.py -> build\\lib.win-amd64-cpython-311\\pandas\\tests\\indexes\\timedeltas\n",
            "      creating build\\lib.win-amd64-cpython-311\\pandas\\tests\\indexing\\interval\n",
            "      copying pandas\\tests\\indexing\\interval\\test_interval.py -> build\\lib.win-amd64-cpython-311\\pandas\\tests\\indexing\\interval\n",
            "      copying pandas\\tests\\indexing\\interval\\test_interval_new.py -> build\\lib.win-amd64-cpython-311\\pandas\\tests\\indexing\\interval\n",
            "      copying pandas\\tests\\indexing\\interval\\__init__.py -> build\\lib.win-amd64-cpython-311\\pandas\\tests\\indexing\\interval\n",
            "      creating build\\lib.win-amd64-cpython-311\\pandas\\tests\\indexing\\multiindex\n",
            "      copying pandas\\tests\\indexing\\multiindex\\conftest.py -> build\\lib.win-amd64-cpython-311\\pandas\\tests\\indexing\\multiindex\n",
            "      copying pandas\\tests\\indexing\\multiindex\\test_chaining_and_caching.py -> build\\lib.win-amd64-cpython-311\\pandas\\tests\\indexing\\multiindex\n",
            "      copying pandas\\tests\\indexing\\multiindex\\test_datetime.py -> build\\lib.win-amd64-cpython-311\\pandas\\tests\\indexing\\multiindex\n",
            "      copying pandas\\tests\\indexing\\multiindex\\test_getitem.py -> build\\lib.win-amd64-cpython-311\\pandas\\tests\\indexing\\multiindex\n",
            "      copying pandas\\tests\\indexing\\multiindex\\test_iloc.py -> build\\lib.win-amd64-cpython-311\\pandas\\tests\\indexing\\multiindex\n",
            "      copying pandas\\tests\\indexing\\multiindex\\test_indexing_slow.py -> build\\lib.win-amd64-cpython-311\\pandas\\tests\\indexing\\multiindex\n",
            "      copying pandas\\tests\\indexing\\multiindex\\test_insert.py -> build\\lib.win-amd64-cpython-311\\pandas\\tests\\indexing\\multiindex\n",
            "      copying pandas\\tests\\indexing\\multiindex\\test_ix.py -> build\\lib.win-amd64-cpython-311\\pandas\\tests\\indexing\\multiindex\n",
            "      copying pandas\\tests\\indexing\\multiindex\\test_loc.py -> build\\lib.win-amd64-cpython-311\\pandas\\tests\\indexing\\multiindex\n",
            "      copying pandas\\tests\\indexing\\multiindex\\test_multiindex.py -> build\\lib.win-amd64-cpython-311\\pandas\\tests\\indexing\\multiindex\n",
            "      copying pandas\\tests\\indexing\\multiindex\\test_partial.py -> build\\lib.win-amd64-cpython-311\\pandas\\tests\\indexing\\multiindex\n",
            "      copying pandas\\tests\\indexing\\multiindex\\test_setitem.py -> build\\lib.win-amd64-cpython-311\\pandas\\tests\\indexing\\multiindex\n",
            "      copying pandas\\tests\\indexing\\multiindex\\test_slice.py -> build\\lib.win-amd64-cpython-311\\pandas\\tests\\indexing\\multiindex\n",
            "      copying pandas\\tests\\indexing\\multiindex\\test_sorted.py -> build\\lib.win-amd64-cpython-311\\pandas\\tests\\indexing\\multiindex\n",
            "      copying pandas\\tests\\indexing\\multiindex\\test_xs.py -> build\\lib.win-amd64-cpython-311\\pandas\\tests\\indexing\\multiindex\n",
            "      copying pandas\\tests\\indexing\\multiindex\\__init__.py -> build\\lib.win-amd64-cpython-311\\pandas\\tests\\indexing\\multiindex\n",
            "      creating build\\lib.win-amd64-cpython-311\\pandas\\tests\\io\\excel\n",
            "      copying pandas\\tests\\io\\excel\\conftest.py -> build\\lib.win-amd64-cpython-311\\pandas\\tests\\io\\excel\n",
            "      copying pandas\\tests\\io\\excel\\test_odf.py -> build\\lib.win-amd64-cpython-311\\pandas\\tests\\io\\excel\n",
            "      copying pandas\\tests\\io\\excel\\test_odswriter.py -> build\\lib.win-amd64-cpython-311\\pandas\\tests\\io\\excel\n",
            "      copying pandas\\tests\\io\\excel\\test_openpyxl.py -> build\\lib.win-amd64-cpython-311\\pandas\\tests\\io\\excel\n",
            "      copying pandas\\tests\\io\\excel\\test_readers.py -> build\\lib.win-amd64-cpython-311\\pandas\\tests\\io\\excel\n",
            "      copying pandas\\tests\\io\\excel\\test_style.py -> build\\lib.win-amd64-cpython-311\\pandas\\tests\\io\\excel\n",
            "      copying pandas\\tests\\io\\excel\\test_writers.py -> build\\lib.win-amd64-cpython-311\\pandas\\tests\\io\\excel\n",
            "      copying pandas\\tests\\io\\excel\\test_xlrd.py -> build\\lib.win-amd64-cpython-311\\pandas\\tests\\io\\excel\n",
            "      copying pandas\\tests\\io\\excel\\test_xlsxwriter.py -> build\\lib.win-amd64-cpython-311\\pandas\\tests\\io\\excel\n",
            "      copying pandas\\tests\\io\\excel\\test_xlwt.py -> build\\lib.win-amd64-cpython-311\\pandas\\tests\\io\\excel\n",
            "      copying pandas\\tests\\io\\excel\\__init__.py -> build\\lib.win-amd64-cpython-311\\pandas\\tests\\io\\excel\n",
            "      creating build\\lib.win-amd64-cpython-311\\pandas\\tests\\io\\formats\n",
            "      copying pandas\\tests\\io\\formats\\test_console.py -> build\\lib.win-amd64-cpython-311\\pandas\\tests\\io\\formats\n",
            "      copying pandas\\tests\\io\\formats\\test_css.py -> build\\lib.win-amd64-cpython-311\\pandas\\tests\\io\\formats\n",
            "      copying pandas\\tests\\io\\formats\\test_eng_formatting.py -> build\\lib.win-amd64-cpython-311\\pandas\\tests\\io\\formats\n",
            "      copying pandas\\tests\\io\\formats\\test_format.py -> build\\lib.win-amd64-cpython-311\\pandas\\tests\\io\\formats\n",
            "      copying pandas\\tests\\io\\formats\\test_info.py -> build\\lib.win-amd64-cpython-311\\pandas\\tests\\io\\formats\n",
            "      copying pandas\\tests\\io\\formats\\test_printing.py -> build\\lib.win-amd64-cpython-311\\pandas\\tests\\io\\formats\n",
            "      copying pandas\\tests\\io\\formats\\test_style.py -> build\\lib.win-amd64-cpython-311\\pandas\\tests\\io\\formats\n",
            "      copying pandas\\tests\\io\\formats\\test_to_csv.py -> build\\lib.win-amd64-cpython-311\\pandas\\tests\\io\\formats\n",
            "      copying pandas\\tests\\io\\formats\\test_to_excel.py -> build\\lib.win-amd64-cpython-311\\pandas\\tests\\io\\formats\n",
            "      copying pandas\\tests\\io\\formats\\test_to_html.py -> build\\lib.win-amd64-cpython-311\\pandas\\tests\\io\\formats\n",
            "      copying pandas\\tests\\io\\formats\\test_to_latex.py -> build\\lib.win-amd64-cpython-311\\pandas\\tests\\io\\formats\n",
            "      copying pandas\\tests\\io\\formats\\test_to_markdown.py -> build\\lib.win-amd64-cpython-311\\pandas\\tests\\io\\formats\n",
            "      copying pandas\\tests\\io\\formats\\__init__.py -> build\\lib.win-amd64-cpython-311\\pandas\\tests\\io\\formats\n",
            "      creating build\\lib.win-amd64-cpython-311\\pandas\\tests\\io\\json\n",
            "      copying pandas\\tests\\io\\json\\conftest.py -> build\\lib.win-amd64-cpython-311\\pandas\\tests\\io\\json\n",
            "      copying pandas\\tests\\io\\json\\test_compression.py -> build\\lib.win-amd64-cpython-311\\pandas\\tests\\io\\json\n",
            "      copying pandas\\tests\\io\\json\\test_deprecated_kwargs.py -> build\\lib.win-amd64-cpython-311\\pandas\\tests\\io\\json\n",
            "      copying pandas\\tests\\io\\json\\test_json_table_schema.py -> build\\lib.win-amd64-cpython-311\\pandas\\tests\\io\\json\n",
            "      copying pandas\\tests\\io\\json\\test_normalize.py -> build\\lib.win-amd64-cpython-311\\pandas\\tests\\io\\json\n",
            "      copying pandas\\tests\\io\\json\\test_pandas.py -> build\\lib.win-amd64-cpython-311\\pandas\\tests\\io\\json\n",
            "      copying pandas\\tests\\io\\json\\test_readlines.py -> build\\lib.win-amd64-cpython-311\\pandas\\tests\\io\\json\n",
            "      copying pandas\\tests\\io\\json\\test_ujson.py -> build\\lib.win-amd64-cpython-311\\pandas\\tests\\io\\json\n",
            "      copying pandas\\tests\\io\\json\\__init__.py -> build\\lib.win-amd64-cpython-311\\pandas\\tests\\io\\json\n",
            "      creating build\\lib.win-amd64-cpython-311\\pandas\\tests\\io\\parser\n",
            "      copying pandas\\tests\\io\\parser\\conftest.py -> build\\lib.win-amd64-cpython-311\\pandas\\tests\\io\\parser\n",
            "      copying pandas\\tests\\io\\parser\\test_comment.py -> build\\lib.win-amd64-cpython-311\\pandas\\tests\\io\\parser\n",
            "      copying pandas\\tests\\io\\parser\\test_common.py -> build\\lib.win-amd64-cpython-311\\pandas\\tests\\io\\parser\n",
            "      copying pandas\\tests\\io\\parser\\test_compression.py -> build\\lib.win-amd64-cpython-311\\pandas\\tests\\io\\parser\n",
            "      copying pandas\\tests\\io\\parser\\test_converters.py -> build\\lib.win-amd64-cpython-311\\pandas\\tests\\io\\parser\n",
            "      copying pandas\\tests\\io\\parser\\test_c_parser_only.py -> build\\lib.win-amd64-cpython-311\\pandas\\tests\\io\\parser\n",
            "      copying pandas\\tests\\io\\parser\\test_dialect.py -> build\\lib.win-amd64-cpython-311\\pandas\\tests\\io\\parser\n",
            "      copying pandas\\tests\\io\\parser\\test_dtypes.py -> build\\lib.win-amd64-cpython-311\\pandas\\tests\\io\\parser\n",
            "      copying pandas\\tests\\io\\parser\\test_encoding.py -> build\\lib.win-amd64-cpython-311\\pandas\\tests\\io\\parser\n",
            "      copying pandas\\tests\\io\\parser\\test_header.py -> build\\lib.win-amd64-cpython-311\\pandas\\tests\\io\\parser\n",
            "      copying pandas\\tests\\io\\parser\\test_index_col.py -> build\\lib.win-amd64-cpython-311\\pandas\\tests\\io\\parser\n",
            "      copying pandas\\tests\\io\\parser\\test_mangle_dupes.py -> build\\lib.win-amd64-cpython-311\\pandas\\tests\\io\\parser\n",
            "      copying pandas\\tests\\io\\parser\\test_multi_thread.py -> build\\lib.win-amd64-cpython-311\\pandas\\tests\\io\\parser\n",
            "      copying pandas\\tests\\io\\parser\\test_na_values.py -> build\\lib.win-amd64-cpython-311\\pandas\\tests\\io\\parser\n",
            "      copying pandas\\tests\\io\\parser\\test_network.py -> build\\lib.win-amd64-cpython-311\\pandas\\tests\\io\\parser\n",
            "      copying pandas\\tests\\io\\parser\\test_parse_dates.py -> build\\lib.win-amd64-cpython-311\\pandas\\tests\\io\\parser\n",
            "      copying pandas\\tests\\io\\parser\\test_python_parser_only.py -> build\\lib.win-amd64-cpython-311\\pandas\\tests\\io\\parser\n",
            "      copying pandas\\tests\\io\\parser\\test_quoting.py -> build\\lib.win-amd64-cpython-311\\pandas\\tests\\io\\parser\n",
            "      copying pandas\\tests\\io\\parser\\test_read_fwf.py -> build\\lib.win-amd64-cpython-311\\pandas\\tests\\io\\parser\n",
            "      copying pandas\\tests\\io\\parser\\test_skiprows.py -> build\\lib.win-amd64-cpython-311\\pandas\\tests\\io\\parser\n",
            "      copying pandas\\tests\\io\\parser\\test_textreader.py -> build\\lib.win-amd64-cpython-311\\pandas\\tests\\io\\parser\n",
            "      copying pandas\\tests\\io\\parser\\test_unsupported.py -> build\\lib.win-amd64-cpython-311\\pandas\\tests\\io\\parser\n",
            "      copying pandas\\tests\\io\\parser\\test_usecols.py -> build\\lib.win-amd64-cpython-311\\pandas\\tests\\io\\parser\n",
            "      copying pandas\\tests\\io\\parser\\__init__.py -> build\\lib.win-amd64-cpython-311\\pandas\\tests\\io\\parser\n",
            "      creating build\\lib.win-amd64-cpython-311\\pandas\\tests\\io\\pytables\n",
            "      copying pandas\\tests\\io\\pytables\\common.py -> build\\lib.win-amd64-cpython-311\\pandas\\tests\\io\\pytables\n",
            "      copying pandas\\tests\\io\\pytables\\conftest.py -> build\\lib.win-amd64-cpython-311\\pandas\\tests\\io\\pytables\n",
            "      copying pandas\\tests\\io\\pytables\\test_compat.py -> build\\lib.win-amd64-cpython-311\\pandas\\tests\\io\\pytables\n",
            "      copying pandas\\tests\\io\\pytables\\test_complex.py -> build\\lib.win-amd64-cpython-311\\pandas\\tests\\io\\pytables\n",
            "      copying pandas\\tests\\io\\pytables\\test_pytables_missing.py -> build\\lib.win-amd64-cpython-311\\pandas\\tests\\io\\pytables\n",
            "      copying pandas\\tests\\io\\pytables\\test_store.py -> build\\lib.win-amd64-cpython-311\\pandas\\tests\\io\\pytables\n",
            "      copying pandas\\tests\\io\\pytables\\test_timezones.py -> build\\lib.win-amd64-cpython-311\\pandas\\tests\\io\\pytables\n",
            "      copying pandas\\tests\\io\\pytables\\__init__.py -> build\\lib.win-amd64-cpython-311\\pandas\\tests\\io\\pytables\n",
            "      creating build\\lib.win-amd64-cpython-311\\pandas\\tests\\io\\sas\n",
            "      copying pandas\\tests\\io\\sas\\test_sas.py -> build\\lib.win-amd64-cpython-311\\pandas\\tests\\io\\sas\n",
            "      copying pandas\\tests\\io\\sas\\test_sas7bdat.py -> build\\lib.win-amd64-cpython-311\\pandas\\tests\\io\\sas\n",
            "      copying pandas\\tests\\io\\sas\\test_xport.py -> build\\lib.win-amd64-cpython-311\\pandas\\tests\\io\\sas\n",
            "      copying pandas\\tests\\io\\sas\\__init__.py -> build\\lib.win-amd64-cpython-311\\pandas\\tests\\io\\sas\n",
            "      creating build\\lib.win-amd64-cpython-311\\pandas\\tests\\reshape\\merge\n",
            "      copying pandas\\tests\\reshape\\merge\\test_join.py -> build\\lib.win-amd64-cpython-311\\pandas\\tests\\reshape\\merge\n",
            "      copying pandas\\tests\\reshape\\merge\\test_merge.py -> build\\lib.win-amd64-cpython-311\\pandas\\tests\\reshape\\merge\n",
            "      copying pandas\\tests\\reshape\\merge\\test_merge_asof.py -> build\\lib.win-amd64-cpython-311\\pandas\\tests\\reshape\\merge\n",
            "      copying pandas\\tests\\reshape\\merge\\test_merge_index_as_string.py -> build\\lib.win-amd64-cpython-311\\pandas\\tests\\reshape\\merge\n",
            "      copying pandas\\tests\\reshape\\merge\\test_merge_ordered.py -> build\\lib.win-amd64-cpython-311\\pandas\\tests\\reshape\\merge\n",
            "      copying pandas\\tests\\reshape\\merge\\test_multi.py -> build\\lib.win-amd64-cpython-311\\pandas\\tests\\reshape\\merge\n",
            "      copying pandas\\tests\\reshape\\merge\\test_pivot_old.py -> build\\lib.win-amd64-cpython-311\\pandas\\tests\\reshape\\merge\n",
            "      copying pandas\\tests\\reshape\\merge\\__init__.py -> build\\lib.win-amd64-cpython-311\\pandas\\tests\\reshape\\merge\n",
            "      creating build\\lib.win-amd64-cpython-311\\pandas\\tests\\scalar\\interval\n",
            "      copying pandas\\tests\\scalar\\interval\\test_arithmetic.py -> build\\lib.win-amd64-cpython-311\\pandas\\tests\\scalar\\interval\n",
            "      copying pandas\\tests\\scalar\\interval\\test_interval.py -> build\\lib.win-amd64-cpython-311\\pandas\\tests\\scalar\\interval\n",
            "      copying pandas\\tests\\scalar\\interval\\test_ops.py -> build\\lib.win-amd64-cpython-311\\pandas\\tests\\scalar\\interval\n",
            "      copying pandas\\tests\\scalar\\interval\\__init__.py -> build\\lib.win-amd64-cpython-311\\pandas\\tests\\scalar\\interval\n",
            "      creating build\\lib.win-amd64-cpython-311\\pandas\\tests\\scalar\\period\n",
            "      copying pandas\\tests\\scalar\\period\\test_asfreq.py -> build\\lib.win-amd64-cpython-311\\pandas\\tests\\scalar\\period\n",
            "      copying pandas\\tests\\scalar\\period\\test_period.py -> build\\lib.win-amd64-cpython-311\\pandas\\tests\\scalar\\period\n",
            "      copying pandas\\tests\\scalar\\period\\__init__.py -> build\\lib.win-amd64-cpython-311\\pandas\\tests\\scalar\\period\n",
            "      creating build\\lib.win-amd64-cpython-311\\pandas\\tests\\scalar\\timedelta\n",
            "      copying pandas\\tests\\scalar\\timedelta\\test_arithmetic.py -> build\\lib.win-amd64-cpython-311\\pandas\\tests\\scalar\\timedelta\n",
            "      copying pandas\\tests\\scalar\\timedelta\\test_constructors.py -> build\\lib.win-amd64-cpython-311\\pandas\\tests\\scalar\\timedelta\n",
            "      copying pandas\\tests\\scalar\\timedelta\\test_formats.py -> build\\lib.win-amd64-cpython-311\\pandas\\tests\\scalar\\timedelta\n",
            "      copying pandas\\tests\\scalar\\timedelta\\test_timedelta.py -> build\\lib.win-amd64-cpython-311\\pandas\\tests\\scalar\\timedelta\n",
            "      copying pandas\\tests\\scalar\\timedelta\\__init__.py -> build\\lib.win-amd64-cpython-311\\pandas\\tests\\scalar\\timedelta\n",
            "      creating build\\lib.win-amd64-cpython-311\\pandas\\tests\\scalar\\timestamp\n",
            "      copying pandas\\tests\\scalar\\timestamp\\test_arithmetic.py -> build\\lib.win-amd64-cpython-311\\pandas\\tests\\scalar\\timestamp\n",
            "      copying pandas\\tests\\scalar\\timestamp\\test_comparisons.py -> build\\lib.win-amd64-cpython-311\\pandas\\tests\\scalar\\timestamp\n",
            "      copying pandas\\tests\\scalar\\timestamp\\test_constructors.py -> build\\lib.win-amd64-cpython-311\\pandas\\tests\\scalar\\timestamp\n",
            "      copying pandas\\tests\\scalar\\timestamp\\test_rendering.py -> build\\lib.win-amd64-cpython-311\\pandas\\tests\\scalar\\timestamp\n",
            "      copying pandas\\tests\\scalar\\timestamp\\test_timestamp.py -> build\\lib.win-amd64-cpython-311\\pandas\\tests\\scalar\\timestamp\n",
            "      copying pandas\\tests\\scalar\\timestamp\\test_timezones.py -> build\\lib.win-amd64-cpython-311\\pandas\\tests\\scalar\\timestamp\n",
            "      copying pandas\\tests\\scalar\\timestamp\\test_unary_ops.py -> build\\lib.win-amd64-cpython-311\\pandas\\tests\\scalar\\timestamp\n",
            "      copying pandas\\tests\\scalar\\timestamp\\__init__.py -> build\\lib.win-amd64-cpython-311\\pandas\\tests\\scalar\\timestamp\n",
            "      creating build\\lib.win-amd64-cpython-311\\pandas\\tests\\series\\apply\n",
            "      copying pandas\\tests\\series\\apply\\test_apply_relabeling.py -> build\\lib.win-amd64-cpython-311\\pandas\\tests\\series\\apply\n",
            "      copying pandas\\tests\\series\\apply\\test_series_apply.py -> build\\lib.win-amd64-cpython-311\\pandas\\tests\\series\\apply\n",
            "      copying pandas\\tests\\series\\apply\\__init__.py -> build\\lib.win-amd64-cpython-311\\pandas\\tests\\series\\apply\n",
            "      creating build\\lib.win-amd64-cpython-311\\pandas\\tests\\series\\indexing\n",
            "      copying pandas\\tests\\series\\indexing\\test_alter_index.py -> build\\lib.win-amd64-cpython-311\\pandas\\tests\\series\\indexing\n",
            "      copying pandas\\tests\\series\\indexing\\test_boolean.py -> build\\lib.win-amd64-cpython-311\\pandas\\tests\\series\\indexing\n",
            "      copying pandas\\tests\\series\\indexing\\test_callable.py -> build\\lib.win-amd64-cpython-311\\pandas\\tests\\series\\indexing\n",
            "      copying pandas\\tests\\series\\indexing\\test_datetime.py -> build\\lib.win-amd64-cpython-311\\pandas\\tests\\series\\indexing\n",
            "      copying pandas\\tests\\series\\indexing\\test_delitem.py -> build\\lib.win-amd64-cpython-311\\pandas\\tests\\series\\indexing\n",
            "      copying pandas\\tests\\series\\indexing\\test_get.py -> build\\lib.win-amd64-cpython-311\\pandas\\tests\\series\\indexing\n",
            "      copying pandas\\tests\\series\\indexing\\test_getitem.py -> build\\lib.win-amd64-cpython-311\\pandas\\tests\\series\\indexing\n",
            "      copying pandas\\tests\\series\\indexing\\test_iloc.py -> build\\lib.win-amd64-cpython-311\\pandas\\tests\\series\\indexing\n",
            "      copying pandas\\tests\\series\\indexing\\test_indexing.py -> build\\lib.win-amd64-cpython-311\\pandas\\tests\\series\\indexing\n",
            "      copying pandas\\tests\\series\\indexing\\test_loc.py -> build\\lib.win-amd64-cpython-311\\pandas\\tests\\series\\indexing\n",
            "      copying pandas\\tests\\series\\indexing\\test_mask.py -> build\\lib.win-amd64-cpython-311\\pandas\\tests\\series\\indexing\n",
            "      copying pandas\\tests\\series\\indexing\\test_multiindex.py -> build\\lib.win-amd64-cpython-311\\pandas\\tests\\series\\indexing\n",
            "      copying pandas\\tests\\series\\indexing\\test_numeric.py -> build\\lib.win-amd64-cpython-311\\pandas\\tests\\series\\indexing\n",
            "      copying pandas\\tests\\series\\indexing\\test_setitem.py -> build\\lib.win-amd64-cpython-311\\pandas\\tests\\series\\indexing\n",
            "      copying pandas\\tests\\series\\indexing\\test_take.py -> build\\lib.win-amd64-cpython-311\\pandas\\tests\\series\\indexing\n",
            "      copying pandas\\tests\\series\\indexing\\test_where.py -> build\\lib.win-amd64-cpython-311\\pandas\\tests\\series\\indexing\n",
            "      copying pandas\\tests\\series\\indexing\\test_xs.py -> build\\lib.win-amd64-cpython-311\\pandas\\tests\\series\\indexing\n",
            "      copying pandas\\tests\\series\\indexing\\__init__.py -> build\\lib.win-amd64-cpython-311\\pandas\\tests\\series\\indexing\n",
            "      creating build\\lib.win-amd64-cpython-311\\pandas\\tests\\series\\methods\n",
            "      copying pandas\\tests\\series\\methods\\test_align.py -> build\\lib.win-amd64-cpython-311\\pandas\\tests\\series\\methods\n",
            "      copying pandas\\tests\\series\\methods\\test_append.py -> build\\lib.win-amd64-cpython-311\\pandas\\tests\\series\\methods\n",
            "      copying pandas\\tests\\series\\methods\\test_argsort.py -> build\\lib.win-amd64-cpython-311\\pandas\\tests\\series\\methods\n",
            "      copying pandas\\tests\\series\\methods\\test_asfreq.py -> build\\lib.win-amd64-cpython-311\\pandas\\tests\\series\\methods\n",
            "      copying pandas\\tests\\series\\methods\\test_asof.py -> build\\lib.win-amd64-cpython-311\\pandas\\tests\\series\\methods\n",
            "      copying pandas\\tests\\series\\methods\\test_astype.py -> build\\lib.win-amd64-cpython-311\\pandas\\tests\\series\\methods\n",
            "      copying pandas\\tests\\series\\methods\\test_at_time.py -> build\\lib.win-amd64-cpython-311\\pandas\\tests\\series\\methods\n",
            "      copying pandas\\tests\\series\\methods\\test_autocorr.py -> build\\lib.win-amd64-cpython-311\\pandas\\tests\\series\\methods\n",
            "      copying pandas\\tests\\series\\methods\\test_between.py -> build\\lib.win-amd64-cpython-311\\pandas\\tests\\series\\methods\n",
            "      copying pandas\\tests\\series\\methods\\test_between_time.py -> build\\lib.win-amd64-cpython-311\\pandas\\tests\\series\\methods\n",
            "      copying pandas\\tests\\series\\methods\\test_clip.py -> build\\lib.win-amd64-cpython-311\\pandas\\tests\\series\\methods\n",
            "      copying pandas\\tests\\series\\methods\\test_combine.py -> build\\lib.win-amd64-cpython-311\\pandas\\tests\\series\\methods\n",
            "      copying pandas\\tests\\series\\methods\\test_combine_first.py -> build\\lib.win-amd64-cpython-311\\pandas\\tests\\series\\methods\n",
            "      copying pandas\\tests\\series\\methods\\test_compare.py -> build\\lib.win-amd64-cpython-311\\pandas\\tests\\series\\methods\n",
            "      copying pandas\\tests\\series\\methods\\test_convert_dtypes.py -> build\\lib.win-amd64-cpython-311\\pandas\\tests\\series\\methods\n",
            "      copying pandas\\tests\\series\\methods\\test_count.py -> build\\lib.win-amd64-cpython-311\\pandas\\tests\\series\\methods\n",
            "      copying pandas\\tests\\series\\methods\\test_cov_corr.py -> build\\lib.win-amd64-cpython-311\\pandas\\tests\\series\\methods\n",
            "      copying pandas\\tests\\series\\methods\\test_describe.py -> build\\lib.win-amd64-cpython-311\\pandas\\tests\\series\\methods\n",
            "      copying pandas\\tests\\series\\methods\\test_diff.py -> build\\lib.win-amd64-cpython-311\\pandas\\tests\\series\\methods\n",
            "      copying pandas\\tests\\series\\methods\\test_drop.py -> build\\lib.win-amd64-cpython-311\\pandas\\tests\\series\\methods\n",
            "      copying pandas\\tests\\series\\methods\\test_droplevel.py -> build\\lib.win-amd64-cpython-311\\pandas\\tests\\series\\methods\n",
            "      copying pandas\\tests\\series\\methods\\test_drop_duplicates.py -> build\\lib.win-amd64-cpython-311\\pandas\\tests\\series\\methods\n",
            "      copying pandas\\tests\\series\\methods\\test_duplicated.py -> build\\lib.win-amd64-cpython-311\\pandas\\tests\\series\\methods\n",
            "      copying pandas\\tests\\series\\methods\\test_equals.py -> build\\lib.win-amd64-cpython-311\\pandas\\tests\\series\\methods\n",
            "      copying pandas\\tests\\series\\methods\\test_explode.py -> build\\lib.win-amd64-cpython-311\\pandas\\tests\\series\\methods\n",
            "      copying pandas\\tests\\series\\methods\\test_fillna.py -> build\\lib.win-amd64-cpython-311\\pandas\\tests\\series\\methods\n",
            "      copying pandas\\tests\\series\\methods\\test_first_and_last.py -> build\\lib.win-amd64-cpython-311\\pandas\\tests\\series\\methods\n",
            "      copying pandas\\tests\\series\\methods\\test_head_tail.py -> build\\lib.win-amd64-cpython-311\\pandas\\tests\\series\\methods\n",
            "      copying pandas\\tests\\series\\methods\\test_interpolate.py -> build\\lib.win-amd64-cpython-311\\pandas\\tests\\series\\methods\n",
            "      copying pandas\\tests\\series\\methods\\test_isin.py -> build\\lib.win-amd64-cpython-311\\pandas\\tests\\series\\methods\n",
            "      copying pandas\\tests\\series\\methods\\test_nlargest.py -> build\\lib.win-amd64-cpython-311\\pandas\\tests\\series\\methods\n",
            "      copying pandas\\tests\\series\\methods\\test_pct_change.py -> build\\lib.win-amd64-cpython-311\\pandas\\tests\\series\\methods\n",
            "      copying pandas\\tests\\series\\methods\\test_quantile.py -> build\\lib.win-amd64-cpython-311\\pandas\\tests\\series\\methods\n",
            "      copying pandas\\tests\\series\\methods\\test_rank.py -> build\\lib.win-amd64-cpython-311\\pandas\\tests\\series\\methods\n",
            "      copying pandas\\tests\\series\\methods\\test_reindex_like.py -> build\\lib.win-amd64-cpython-311\\pandas\\tests\\series\\methods\n",
            "      copying pandas\\tests\\series\\methods\\test_rename.py -> build\\lib.win-amd64-cpython-311\\pandas\\tests\\series\\methods\n",
            "      copying pandas\\tests\\series\\methods\\test_rename_axis.py -> build\\lib.win-amd64-cpython-311\\pandas\\tests\\series\\methods\n",
            "      copying pandas\\tests\\series\\methods\\test_replace.py -> build\\lib.win-amd64-cpython-311\\pandas\\tests\\series\\methods\n",
            "      copying pandas\\tests\\series\\methods\\test_reset_index.py -> build\\lib.win-amd64-cpython-311\\pandas\\tests\\series\\methods\n",
            "      copying pandas\\tests\\series\\methods\\test_round.py -> build\\lib.win-amd64-cpython-311\\pandas\\tests\\series\\methods\n",
            "      copying pandas\\tests\\series\\methods\\test_searchsorted.py -> build\\lib.win-amd64-cpython-311\\pandas\\tests\\series\\methods\n",
            "      copying pandas\\tests\\series\\methods\\test_shift.py -> build\\lib.win-amd64-cpython-311\\pandas\\tests\\series\\methods\n",
            "      copying pandas\\tests\\series\\methods\\test_sort_index.py -> build\\lib.win-amd64-cpython-311\\pandas\\tests\\series\\methods\n",
            "      copying pandas\\tests\\series\\methods\\test_sort_values.py -> build\\lib.win-amd64-cpython-311\\pandas\\tests\\series\\methods\n",
            "      copying pandas\\tests\\series\\methods\\test_to_dict.py -> build\\lib.win-amd64-cpython-311\\pandas\\tests\\series\\methods\n",
            "      copying pandas\\tests\\series\\methods\\test_to_period.py -> build\\lib.win-amd64-cpython-311\\pandas\\tests\\series\\methods\n",
            "      copying pandas\\tests\\series\\methods\\test_to_timestamp.py -> build\\lib.win-amd64-cpython-311\\pandas\\tests\\series\\methods\n",
            "      copying pandas\\tests\\series\\methods\\test_truncate.py -> build\\lib.win-amd64-cpython-311\\pandas\\tests\\series\\methods\n",
            "      copying pandas\\tests\\series\\methods\\test_tz_convert.py -> build\\lib.win-amd64-cpython-311\\pandas\\tests\\series\\methods\n",
            "      copying pandas\\tests\\series\\methods\\test_tz_localize.py -> build\\lib.win-amd64-cpython-311\\pandas\\tests\\series\\methods\n",
            "      copying pandas\\tests\\series\\methods\\test_unstack.py -> build\\lib.win-amd64-cpython-311\\pandas\\tests\\series\\methods\n",
            "      copying pandas\\tests\\series\\methods\\test_update.py -> build\\lib.win-amd64-cpython-311\\pandas\\tests\\series\\methods\n",
            "      copying pandas\\tests\\series\\methods\\test_value_counts.py -> build\\lib.win-amd64-cpython-311\\pandas\\tests\\series\\methods\n",
            "      copying pandas\\tests\\series\\methods\\__init__.py -> build\\lib.win-amd64-cpython-311\\pandas\\tests\\series\\methods\n",
            "      creating build\\lib.win-amd64-cpython-311\\pandas\\tests\\tseries\\frequencies\n",
            "      copying pandas\\tests\\tseries\\frequencies\\test_frequencies.py -> build\\lib.win-amd64-cpython-311\\pandas\\tests\\tseries\\frequencies\n",
            "      copying pandas\\tests\\tseries\\frequencies\\test_freq_code.py -> build\\lib.win-amd64-cpython-311\\pandas\\tests\\tseries\\frequencies\n",
            "      copying pandas\\tests\\tseries\\frequencies\\test_inference.py -> build\\lib.win-amd64-cpython-311\\pandas\\tests\\tseries\\frequencies\n",
            "      copying pandas\\tests\\tseries\\frequencies\\__init__.py -> build\\lib.win-amd64-cpython-311\\pandas\\tests\\tseries\\frequencies\n",
            "      creating build\\lib.win-amd64-cpython-311\\pandas\\tests\\tseries\\holiday\n",
            "      copying pandas\\tests\\tseries\\holiday\\test_calendar.py -> build\\lib.win-amd64-cpython-311\\pandas\\tests\\tseries\\holiday\n",
            "      copying pandas\\tests\\tseries\\holiday\\test_federal.py -> build\\lib.win-amd64-cpython-311\\pandas\\tests\\tseries\\holiday\n",
            "      copying pandas\\tests\\tseries\\holiday\\test_holiday.py -> build\\lib.win-amd64-cpython-311\\pandas\\tests\\tseries\\holiday\n",
            "      copying pandas\\tests\\tseries\\holiday\\test_observance.py -> build\\lib.win-amd64-cpython-311\\pandas\\tests\\tseries\\holiday\n",
            "      copying pandas\\tests\\tseries\\holiday\\__init__.py -> build\\lib.win-amd64-cpython-311\\pandas\\tests\\tseries\\holiday\n",
            "      creating build\\lib.win-amd64-cpython-311\\pandas\\tests\\tseries\\offsets\n",
            "      copying pandas\\tests\\tseries\\offsets\\common.py -> build\\lib.win-amd64-cpython-311\\pandas\\tests\\tseries\\offsets\n",
            "      copying pandas\\tests\\tseries\\offsets\\conftest.py -> build\\lib.win-amd64-cpython-311\\pandas\\tests\\tseries\\offsets\n",
            "      copying pandas\\tests\\tseries\\offsets\\test_fiscal.py -> build\\lib.win-amd64-cpython-311\\pandas\\tests\\tseries\\offsets\n",
            "      copying pandas\\tests\\tseries\\offsets\\test_offsets.py -> build\\lib.win-amd64-cpython-311\\pandas\\tests\\tseries\\offsets\n",
            "      copying pandas\\tests\\tseries\\offsets\\test_offsets_properties.py -> build\\lib.win-amd64-cpython-311\\pandas\\tests\\tseries\\offsets\n",
            "      copying pandas\\tests\\tseries\\offsets\\test_ticks.py -> build\\lib.win-amd64-cpython-311\\pandas\\tests\\tseries\\offsets\n",
            "      copying pandas\\tests\\tseries\\offsets\\test_yqm_offsets.py -> build\\lib.win-amd64-cpython-311\\pandas\\tests\\tseries\\offsets\n",
            "      copying pandas\\tests\\tseries\\offsets\\__init__.py -> build\\lib.win-amd64-cpython-311\\pandas\\tests\\tseries\\offsets\n",
            "      creating build\\lib.win-amd64-cpython-311\\pandas\\_libs\\tslibs\n",
            "      copying pandas\\_libs\\tslibs\\__init__.py -> build\\lib.win-amd64-cpython-311\\pandas\\_libs\\tslibs\n",
            "      creating build\\lib.win-amd64-cpython-311\\pandas\\_libs\\window\n",
            "      copying pandas\\_libs\\window\\__init__.py -> build\\lib.win-amd64-cpython-311\\pandas\\_libs\\window\n",
            "      creating build\\lib.win-amd64-cpython-311\\pandas\\io\\formats\\templates\n",
            "      copying pandas\\io\\formats\\templates\\html.tpl -> build\\lib.win-amd64-cpython-311\\pandas\\io\\formats\\templates\n",
            "      UPDATING build\\lib.win-amd64-cpython-311\\pandas/_version.py\n",
            "      set build\\lib.win-amd64-cpython-311\\pandas/_version.py to '1.1.5'\n",
            "      running build_ext\n",
            "      building 'pandas._libs.algos' extension\n",
            "      creating build\\temp.win-amd64-cpython-311\n",
            "      creating build\\temp.win-amd64-cpython-311\\Release\n",
            "      creating build\\temp.win-amd64-cpython-311\\Release\\pandas\n",
            "      creating build\\temp.win-amd64-cpython-311\\Release\\pandas\\_libs\n",
            "      \"C:\\Program Files (x86)\\Microsoft Visual Studio\\2019\\Community\\VC\\Tools\\MSVC\\14.27.29110\\bin\\HostX86\\x64\\cl.exe\" /c /nologo /O2 /W3 /GL /DNDEBUG /MD -DNPY_NO_DEPRECATED_API=0 -I.\\pandas\\_libs -Ipandas/_libs/src/klib -IC:\\Users\\Soldado\\AppData\\Local\\Temp\\pip-build-env-b6_ney89\\overlay\\Lib\\site-packages\\numpy\\core\\include -IC:\\Users\\Soldado\\AppData\\Local\\Programs\\Python\\Python311\\include -IC:\\Users\\Soldado\\AppData\\Local\\Programs\\Python\\Python311\\Include \"-IC:\\Program Files (x86)\\Microsoft Visual Studio\\2019\\Community\\VC\\Tools\\MSVC\\14.27.29110\\ATLMFC\\include\" \"-IC:\\Program Files (x86)\\Microsoft Visual Studio\\2019\\Community\\VC\\Tools\\MSVC\\14.27.29110\\include\" \"-IC:\\Program Files (x86)\\Windows Kits\\NETFXSDK\\4.8\\include\\um\" \"-IC:\\Program Files (x86)\\Windows Kits\\10\\include\\10.0.18362.0\\ucrt\" \"-IC:\\Program Files (x86)\\Windows Kits\\10\\include\\10.0.18362.0\\shared\" \"-IC:\\Program Files (x86)\\Windows Kits\\10\\include\\10.0.18362.0\\um\" \"-IC:\\Program Files (x86)\\Windows Kits\\10\\include\\10.0.18362.0\\winrt\" \"-IC:\\Program Files (x86)\\Windows Kits\\10\\include\\10.0.18362.0\\cppwinrt\" /Tcpandas\\_libs/algos.c /Fobuild\\temp.win-amd64-cpython-311\\Release\\pandas\\_libs/algos.obj\n",
            "      algos.c\n",
            "      C:\\Users\\Soldado\\AppData\\Local\\Temp\\pip-install-6jt8hbtw\\pandas_984248bf458f4afda8dc403a577fc791\\pandas\\_libs\\src\\klib\\khash.h(563): warning C4090: 'fun‡Æo': qualificadores 'const' diferentes\n",
            "      pandas/_libs/src/klib\\khash_python.h(75): warning C4244: '=': conversÆo de 'Py_hash_t' para 'khint_t', poss¡vel perda de dados\n",
            "      pandas/_libs/src/klib\\khash_python.h(81): warning C4244: '=': conversÆo de 'Py_hash_t' para 'khint_t', poss¡vel perda de dados\n",
            "      pandas/_libs/src/klib\\khash_python.h(86): warning C4090: 'fun‡Æo': qualificadores 'const' diferentes\n",
            "      pandas\\_libs/algos.c(8284): warning C4244: '=': conversÆo de 'long' para 'char', poss¡vel perda de dados\n",
            "      pandas\\_libs/algos.c(14866): warning C4244: '=': conversÆo de 'long' para 'char', poss¡vel perda de dados\n",
            "      pandas\\_libs/algos.c(24639): warning C4244: '=': conversÆo de 'long' para 'char', poss¡vel perda de dados\n",
            "      pandas\\_libs/algos.c(29957): warning C4244: '=': conversÆo de 'long' para 'char', poss¡vel perda de dados\n",
            "      pandas\\_libs/algos.c(36232): warning C4244: '=': conversÆo de 'long' para 'char', poss¡vel perda de dados\n",
            "      pandas\\_libs/algos.c(46198): warning C4244: '=': conversÆo de 'long' para 'char', poss¡vel perda de dados\n",
            "      pandas\\_libs/algos.c(51472): warning C4244: '=': conversÆo de 'long' para 'char', poss¡vel perda de dados\n",
            "      pandas\\_libs/algos.c(57703): warning C4244: '=': conversÆo de 'long' para 'char', poss¡vel perda de dados\n",
            "      pandas\\_libs/algos.c(66257): warning C4244: '=': conversÆo de 'long' para 'char', poss¡vel perda de dados\n",
            "      pandas\\_libs/algos.c(67847): warning C4244: '=': conversÆo de 'Py_ssize_t' para '__pyx_t_5numpy_float64_t', poss¡vel perda de dados\n",
            "      pandas\\_libs/algos.c(67881): warning C4244: '=': conversÆo de 'Py_ssize_t' para '__pyx_t_5numpy_float64_t', poss¡vel perda de dados\n",
            "      pandas\\_libs/algos.c(67938): warning C4244: '=': conversÆo de 'Py_ssize_t' para '__pyx_t_5numpy_float64_t', poss¡vel perda de dados\n",
            "      pandas\\_libs/algos.c(67981): warning C4244: '=': conversÆo de 'Py_ssize_t' para '__pyx_t_5numpy_float64_t', poss¡vel perda de dados\n",
            "      pandas\\_libs/algos.c(69442): warning C4244: '=': conversÆo de 'Py_ssize_t' para '__pyx_t_5numpy_float64_t', poss¡vel perda de dados\n",
            "      pandas\\_libs/algos.c(69476): warning C4244: '=': conversÆo de 'Py_ssize_t' para '__pyx_t_5numpy_float64_t', poss¡vel perda de dados\n",
            "      pandas\\_libs/algos.c(69510): warning C4244: '=': conversÆo de 'Py_ssize_t' para '__pyx_t_5numpy_float64_t', poss¡vel perda de dados\n",
            "      pandas\\_libs/algos.c(69544): warning C4244: '=': conversÆo de 'Py_ssize_t' para '__pyx_t_5numpy_float64_t', poss¡vel perda de dados\n",
            "      pandas\\_libs/algos.c(69587): warning C4244: '=': conversÆo de 'Py_ssize_t' para '__pyx_t_5numpy_float64_t', poss¡vel perda de dados\n",
            "      pandas\\_libs/algos.c(70832): warning C4244: '=': conversÆo de 'Py_ssize_t' para '__pyx_t_5numpy_float64_t', poss¡vel perda de dados\n",
            "      pandas\\_libs/algos.c(70866): warning C4244: '=': conversÆo de 'Py_ssize_t' para '__pyx_t_5numpy_float64_t', poss¡vel perda de dados\n",
            "      pandas\\_libs/algos.c(70900): warning C4244: '=': conversÆo de 'Py_ssize_t' para '__pyx_t_5numpy_float64_t', poss¡vel perda de dados\n",
            "      pandas\\_libs/algos.c(70934): warning C4244: '=': conversÆo de 'Py_ssize_t' para '__pyx_t_5numpy_float64_t', poss¡vel perda de dados\n",
            "      pandas\\_libs/algos.c(70977): warning C4244: '=': conversÆo de 'Py_ssize_t' para '__pyx_t_5numpy_float64_t', poss¡vel perda de dados\n",
            "      pandas\\_libs/algos.c(72556): warning C4244: '=': conversÆo de 'Py_ssize_t' para '__pyx_t_5numpy_float64_t', poss¡vel perda de dados\n",
            "      pandas\\_libs/algos.c(72590): warning C4244: '=': conversÆo de 'Py_ssize_t' para '__pyx_t_5numpy_float64_t', poss¡vel perda de dados\n",
            "      pandas\\_libs/algos.c(72624): warning C4244: '=': conversÆo de 'Py_ssize_t' para '__pyx_t_5numpy_float64_t', poss¡vel perda de dados\n",
            "      pandas\\_libs/algos.c(72658): warning C4244: '=': conversÆo de 'Py_ssize_t' para '__pyx_t_5numpy_float64_t', poss¡vel perda de dados\n",
            "      pandas\\_libs/algos.c(72701): warning C4244: '=': conversÆo de 'Py_ssize_t' para '__pyx_t_5numpy_float64_t', poss¡vel perda de dados\n",
            "      pandas\\_libs/algos.c(73201): warning C4244: '=': conversÆo de 'long' para 'char', poss¡vel perda de dados\n",
            "      pandas\\_libs/algos.c(75163): warning C4244: '=': conversÆo de 'Py_ssize_t' para '__pyx_t_5numpy_float64_t', poss¡vel perda de dados\n",
            "      pandas\\_libs/algos.c(75225): warning C4244: '=': conversÆo de 'Py_ssize_t' para '__pyx_t_5numpy_float64_t', poss¡vel perda de dados\n",
            "      pandas\\_libs/algos.c(75310): warning C4244: '=': conversÆo de 'Py_ssize_t' para '__pyx_t_5numpy_float64_t', poss¡vel perda de dados\n",
            "      pandas\\_libs/algos.c(75381): warning C4244: '=': conversÆo de 'Py_ssize_t' para '__pyx_t_5numpy_float64_t', poss¡vel perda de dados\n",
            "      pandas\\_libs/algos.c(76986): warning C4244: '=': conversÆo de 'Py_ssize_t' para '__pyx_t_5numpy_float64_t', poss¡vel perda de dados\n",
            "      pandas\\_libs/algos.c(77048): warning C4244: '=': conversÆo de 'Py_ssize_t' para '__pyx_t_5numpy_float64_t', poss¡vel perda de dados\n",
            "      pandas\\_libs/algos.c(77110): warning C4244: '=': conversÆo de 'Py_ssize_t' para '__pyx_t_5numpy_float64_t', poss¡vel perda de dados\n",
            "      pandas\\_libs/algos.c(77172): warning C4244: '=': conversÆo de 'Py_ssize_t' para '__pyx_t_5numpy_float64_t', poss¡vel perda de dados\n",
            "      pandas\\_libs/algos.c(77243): warning C4244: '=': conversÆo de 'Py_ssize_t' para '__pyx_t_5numpy_float64_t', poss¡vel perda de dados\n",
            "      pandas\\_libs/algos.c(78584): warning C4244: '=': conversÆo de 'Py_ssize_t' para '__pyx_t_5numpy_float64_t', poss¡vel perda de dados\n",
            "      pandas\\_libs/algos.c(78646): warning C4244: '=': conversÆo de 'Py_ssize_t' para '__pyx_t_5numpy_float64_t', poss¡vel perda de dados\n",
            "      pandas\\_libs/algos.c(78708): warning C4244: '=': conversÆo de 'Py_ssize_t' para '__pyx_t_5numpy_float64_t', poss¡vel perda de dados\n",
            "      pandas\\_libs/algos.c(78770): warning C4244: '=': conversÆo de 'Py_ssize_t' para '__pyx_t_5numpy_float64_t', poss¡vel perda de dados\n",
            "      pandas\\_libs/algos.c(78841): warning C4244: '=': conversÆo de 'Py_ssize_t' para '__pyx_t_5numpy_float64_t', poss¡vel perda de dados\n",
            "      pandas\\_libs/algos.c(80436): warning C4244: '=': conversÆo de 'Py_ssize_t' para '__pyx_t_5numpy_float64_t', poss¡vel perda de dados\n",
            "      pandas\\_libs/algos.c(80498): warning C4244: '=': conversÆo de 'Py_ssize_t' para '__pyx_t_5numpy_float64_t', poss¡vel perda de dados\n",
            "      pandas\\_libs/algos.c(80560): warning C4244: '=': conversÆo de 'Py_ssize_t' para '__pyx_t_5numpy_float64_t', poss¡vel perda de dados\n",
            "      pandas\\_libs/algos.c(80622): warning C4244: '=': conversÆo de 'Py_ssize_t' para '__pyx_t_5numpy_float64_t', poss¡vel perda de dados\n",
            "      pandas\\_libs/algos.c(80693): warning C4244: '=': conversÆo de 'Py_ssize_t' para '__pyx_t_5numpy_float64_t', poss¡vel perda de dados\n",
            "      pandas\\_libs/algos.c(81221): warning C4244: '=': conversÆo de 'long' para 'char', poss¡vel perda de dados\n",
            "      pandas\\_libs/algos.c(81626): warning C4244: '=': conversÆo de 'long' para 'char', poss¡vel perda de dados\n",
            "      pandas\\_libs/algos.c(84019): warning C4244: '=': conversÆo de 'int' para '__pyx_t_5numpy_float32_t', poss¡vel perda de dados\n",
            "      pandas\\_libs/algos.c(84118): warning C4244: '=': conversÆo de 'int' para '__pyx_t_5numpy_float32_t', poss¡vel perda de dados\n",
            "      pandas\\_libs/algos.c(84229): warning C4244: '=': conversÆo de 'int' para '__pyx_t_5numpy_float32_t', poss¡vel perda de dados\n",
            "      pandas\\_libs/algos.c(84328): warning C4244: '=': conversÆo de 'int' para '__pyx_t_5numpy_float32_t', poss¡vel perda de dados\n",
            "      pandas\\_libs/algos.c(84919): warning C4244: '=': conversÆo de 'int' para '__pyx_t_5numpy_float32_t', poss¡vel perda de dados\n",
            "      pandas\\_libs/algos.c(85018): warning C4244: '=': conversÆo de 'int' para '__pyx_t_5numpy_float32_t', poss¡vel perda de dados\n",
            "      pandas\\_libs/algos.c(85129): warning C4244: '=': conversÆo de 'int' para '__pyx_t_5numpy_float32_t', poss¡vel perda de dados\n",
            "      pandas\\_libs/algos.c(85228): warning C4244: '=': conversÆo de 'int' para '__pyx_t_5numpy_float32_t', poss¡vel perda de dados\n",
            "      pandas\\_libs/algos.c(86902): warning C4244: '=': conversÆo de '__pyx_t_5numpy_int64_t' para '__pyx_t_5numpy_float64_t', poss¡vel perda de dados\n",
            "      pandas\\_libs/algos.c(87001): warning C4244: '=': conversÆo de '__pyx_t_5numpy_int64_t' para '__pyx_t_5numpy_float64_t', poss¡vel perda de dados\n",
            "      pandas\\_libs/algos.c(87112): warning C4244: '=': conversÆo de '__pyx_t_5numpy_int64_t' para '__pyx_t_5numpy_float64_t', poss¡vel perda de dados\n",
            "      pandas\\_libs/algos.c(87211): warning C4244: '=': conversÆo de '__pyx_t_5numpy_int64_t' para '__pyx_t_5numpy_float64_t', poss¡vel perda de dados\n",
            "      pandas\\_libs/algos.c(109311): warning C4244: '=': conversÆo de 'const __pyx_t_5numpy_int64_t' para '__pyx_t_5numpy_float64_t', poss¡vel perda de dados\n",
            "      pandas\\_libs/algos.c(109619): warning C4244: '=': conversÆo de 'const __pyx_t_5numpy_int64_t' para '__pyx_t_5numpy_float64_t', poss¡vel perda de dados\n",
            "      pandas\\_libs/algos.c(109944): warning C4244: '=': conversÆo de 'const __pyx_t_5numpy_int64_t' para '__pyx_t_5numpy_float64_t', poss¡vel perda de dados\n",
            "      pandas\\_libs/algos.c(110352): warning C4244: '=': conversÆo de '__pyx_t_5numpy_int64_t' para '__pyx_t_5numpy_float64_t', poss¡vel perda de dados\n",
            "      \"C:\\Program Files (x86)\\Microsoft Visual Studio\\2019\\Community\\VC\\Tools\\MSVC\\14.27.29110\\bin\\HostX86\\x64\\link.exe\" /nologo /INCREMENTAL:NO /LTCG /DLL /MANIFEST:EMBED,ID=2 /MANIFESTUAC:NO /LIBPATH:C:\\Users\\Soldado\\AppData\\Local\\Programs\\Python\\Python311\\libs /LIBPATH:C:\\Users\\Soldado\\AppData\\Local\\Programs\\Python\\Python311 /LIBPATH:C:\\Users\\Soldado\\AppData\\Local\\Programs\\Python\\Python311\\PCbuild\\amd64 \"/LIBPATH:C:\\Program Files (x86)\\Microsoft Visual Studio\\2019\\Community\\VC\\Tools\\MSVC\\14.27.29110\\ATLMFC\\lib\\x64\" \"/LIBPATH:C:\\Program Files (x86)\\Microsoft Visual Studio\\2019\\Community\\VC\\Tools\\MSVC\\14.27.29110\\lib\\x64\" \"/LIBPATH:C:\\Program Files (x86)\\Windows Kits\\NETFXSDK\\4.8\\lib\\um\\x64\" \"/LIBPATH:C:\\Program Files (x86)\\Windows Kits\\10\\lib\\10.0.18362.0\\ucrt\\x64\" \"/LIBPATH:C:\\Program Files (x86)\\Windows Kits\\10\\lib\\10.0.18362.0\\um\\x64\" /EXPORT:PyInit_algos build\\temp.win-amd64-cpython-311\\Release\\pandas\\_libs/algos.obj /OUT:build\\lib.win-amd64-cpython-311\\pandas\\_libs\\algos.cp311-win_amd64.pyd /IMPLIB:build\\temp.win-amd64-cpython-311\\Release\\pandas\\_libs\\algos.cp311-win_amd64.lib\n",
            "         Criando biblioteca build\\temp.win-amd64-cpython-311\\Release\\pandas\\_libs\\algos.cp311-win_amd64.lib e objeto build\\temp.win-amd64-cpython-311\\Release\\pandas\\_libs\\algos.cp311-win_amd64.exp\n",
            "      Gerando c¢digo\n",
            "      Finalizada a gera‡Æo de c¢digo\n",
            "      building 'pandas._libs.groupby' extension\n",
            "      \"C:\\Program Files (x86)\\Microsoft Visual Studio\\2019\\Community\\VC\\Tools\\MSVC\\14.27.29110\\bin\\HostX86\\x64\\cl.exe\" /c /nologo /O2 /W3 /GL /DNDEBUG /MD -DNPY_NO_DEPRECATED_API=0 -I.\\pandas\\_libs -IC:\\Users\\Soldado\\AppData\\Local\\Temp\\pip-build-env-b6_ney89\\overlay\\Lib\\site-packages\\numpy\\core\\include -IC:\\Users\\Soldado\\AppData\\Local\\Programs\\Python\\Python311\\include -IC:\\Users\\Soldado\\AppData\\Local\\Programs\\Python\\Python311\\Include \"-IC:\\Program Files (x86)\\Microsoft Visual Studio\\2019\\Community\\VC\\Tools\\MSVC\\14.27.29110\\ATLMFC\\include\" \"-IC:\\Program Files (x86)\\Microsoft Visual Studio\\2019\\Community\\VC\\Tools\\MSVC\\14.27.29110\\include\" \"-IC:\\Program Files (x86)\\Windows Kits\\NETFXSDK\\4.8\\include\\um\" \"-IC:\\Program Files (x86)\\Windows Kits\\10\\include\\10.0.18362.0\\ucrt\" \"-IC:\\Program Files (x86)\\Windows Kits\\10\\include\\10.0.18362.0\\shared\" \"-IC:\\Program Files (x86)\\Windows Kits\\10\\include\\10.0.18362.0\\um\" \"-IC:\\Program Files (x86)\\Windows Kits\\10\\include\\10.0.18362.0\\winrt\" \"-IC:\\Program Files (x86)\\Windows Kits\\10\\include\\10.0.18362.0\\cppwinrt\" /Tcpandas\\_libs/groupby.c /Fobuild\\temp.win-amd64-cpython-311\\Release\\pandas\\_libs/groupby.obj\n",
            "      groupby.c\n",
            "      pandas\\_libs/groupby.c(5358): warning C4244: 'fun‡Æo': conversÆo de 'Py_ssize_t' para 'int', poss¡vel perda de dados\n",
            "      pandas\\_libs/groupby.c(6272): warning C4244: '=': conversÆo de 'long' para 'char', poss¡vel perda de dados\n",
            "      pandas\\_libs/groupby.c(11447): warning C4244: '=': conversÆo de '__pyx_t_5numpy_float64_t' para '__pyx_t_5numpy_float32_t', poss¡vel perda de dados\n",
            "      pandas\\_libs/groupby.c(11468): warning C4244: '=': conversÆo de '__pyx_t_5numpy_float64_t' para '__pyx_t_5numpy_float32_t', poss¡vel perda de dados\n",
            "      pandas\\_libs/groupby.c(12395): warning C4244: '=': conversÆo de 'Py_ssize_t' para 'int', poss¡vel perda de dados\n",
            "      pandas\\_libs/groupby.c(14113): warning C4244: '=': conversÆo de 'long' para 'char', poss¡vel perda de dados\n",
            "      pandas\\_libs/groupby.c(15696): warning C4244: '=': conversÆo de 'npy_double' para '__pyx_t_5numpy_float32_t', poss¡vel perda de dados\n",
            "      pandas\\_libs/groupby.c(16372): warning C4244: 'fun‡Æo': conversÆo de 'npy_double' para 'float', poss¡vel perda de dados\n",
            "      pandas\\_libs/groupby.c(17430): warning C4244: '=': conversÆo de 'long' para 'char', poss¡vel perda de dados\n",
            "      pandas\\_libs/groupby.c(18261): warning C4244: '=': conversÆo de 'npy_double' para 'float', poss¡vel perda de dados\n",
            "      pandas\\_libs/groupby.c(19316): warning C4244: '=': conversÆo de 'long' para 'char', poss¡vel perda de dados\n",
            "      pandas\\_libs/groupby.c(20232): warning C4244: '=': conversÆo de '__pyx_t_5numpy_int64_t' para 'float', poss¡vel perda de dados\n",
            "      pandas\\_libs/groupby.c(20253): warning C4244: '=': conversÆo de 'npy_double' para 'float', poss¡vel perda de dados\n",
            "      pandas\\_libs/groupby.c(21010): warning C4244: '=': conversÆo de '__pyx_t_5numpy_int64_t' para 'double', poss¡vel perda de dados\n",
            "      pandas\\_libs/groupby.c(21410): warning C4244: '=': conversÆo de 'long' para 'char', poss¡vel perda de dados\n",
            "      pandas\\_libs/groupby.c(22245): warning C4244: '=': conversÆo de '__pyx_t_5numpy_int64_t' para 'float', poss¡vel perda de dados\n",
            "      pandas\\_libs/groupby.c(22268): warning C4244: '=': conversÆo de 'npy_double' para 'float', poss¡vel perda de dados\n",
            "      pandas\\_libs/groupby.c(22964): warning C4244: '=': conversÆo de '__pyx_t_5numpy_int64_t' para 'double', poss¡vel perda de dados\n",
            "      pandas\\_libs/groupby.c(23387): warning C4244: '=': conversÆo de 'long' para 'char', poss¡vel perda de dados\n",
            "      pandas\\_libs/groupby.c(25310): warning C4244: '=': conversÆo de 'long' para 'char', poss¡vel perda de dados\n",
            "      pandas\\_libs/groupby.c(30683): warning C4244: '=': conversÆo de '__pyx_t_5numpy_int64_t' para '__pyx_t_5numpy_float64_t', poss¡vel perda de dados\n",
            "      pandas\\_libs/groupby.c(30751): warning C4244: '=': conversÆo de '__pyx_t_5numpy_int64_t' para '__pyx_t_5numpy_float64_t', poss¡vel perda de dados\n",
            "      pandas\\_libs/groupby.c(35743): warning C4244: '=': conversÆo de '__pyx_t_5numpy_uint64_t' para '__pyx_t_5numpy_float64_t', poss¡vel perda de dados\n",
            "      pandas\\_libs/groupby.c(35811): warning C4244: '=': conversÆo de '__pyx_t_5numpy_uint64_t' para '__pyx_t_5numpy_float64_t', poss¡vel perda de dados\n",
            "      pandas\\_libs/groupby.c(38986): warning C4244: '=': conversÆo de 'long' para 'char', poss¡vel perda de dados\n",
            "      pandas\\_libs/groupby.c(40763): warning C4244: '=': conversÆo de 'npy_double' para '__pyx_t_5numpy_float32_t', poss¡vel perda de dados\n",
            "      pandas\\_libs/groupby.c(43487): warning C4244: '=': conversÆo de 'long' para 'char', poss¡vel perda de dados\n",
            "      pandas\\_libs/groupby.c(45352): warning C4244: '=': conversÆo de 'npy_double' para '__pyx_t_5numpy_float32_t', poss¡vel perda de dados\n",
            "      pandas\\_libs/groupby.c(48208): warning C4244: '=': conversÆo de 'long' para 'char', poss¡vel perda de dados\n",
            "      pandas\\_libs/groupby.c(49747): warning C4244: '=': conversÆo de 'Py_ssize_t' para '__pyx_t_5numpy_float64_t', poss¡vel perda de dados\n",
            "      pandas\\_libs/groupby.c(49792): warning C4244: '=': conversÆo de 'Py_ssize_t' para '__pyx_t_5numpy_float64_t', poss¡vel perda de dados\n",
            "      pandas\\_libs/groupby.c(49847): warning C4244: '=': conversÆo de 'Py_ssize_t' para '__pyx_t_5numpy_float64_t', poss¡vel perda de dados\n",
            "      pandas\\_libs/groupby.c(49870): warning C4244: '=': conversÆo de 'Py_ssize_t' para '__pyx_t_5numpy_float64_t', poss¡vel perda de dados\n",
            "      pandas\\_libs/groupby.c(49917): warning C4244: '=': conversÆo de 'Py_ssize_t' para '__pyx_t_5numpy_float64_t', poss¡vel perda de dados\n",
            "      pandas\\_libs/groupby.c(50077): warning C4244: '=': conversÆo de 'Py_ssize_t' para '__pyx_t_5numpy_float64_t', poss¡vel perda de dados\n",
            "      pandas\\_libs/groupby.c(50113): warning C4244: '=': conversÆo de 'Py_ssize_t' para '__pyx_t_5numpy_float64_t', poss¡vel perda de dados\n",
            "      pandas\\_libs/groupby.c(51565): warning C4244: '=': conversÆo de 'Py_ssize_t' para '__pyx_t_5numpy_float64_t', poss¡vel perda de dados\n",
            "      pandas\\_libs/groupby.c(51610): warning C4244: '=': conversÆo de 'Py_ssize_t' para '__pyx_t_5numpy_float64_t', poss¡vel perda de dados\n",
            "      pandas\\_libs/groupby.c(51665): warning C4244: '=': conversÆo de 'Py_ssize_t' para '__pyx_t_5numpy_float64_t', poss¡vel perda de dados\n",
            "      pandas\\_libs/groupby.c(51688): warning C4244: '=': conversÆo de 'Py_ssize_t' para '__pyx_t_5numpy_float64_t', poss¡vel perda de dados\n",
            "      pandas\\_libs/groupby.c(51735): warning C4244: '=': conversÆo de 'Py_ssize_t' para '__pyx_t_5numpy_float64_t', poss¡vel perda de dados\n",
            "      pandas\\_libs/groupby.c(51895): warning C4244: '=': conversÆo de 'Py_ssize_t' para '__pyx_t_5numpy_float64_t', poss¡vel perda de dados\n",
            "      pandas\\_libs/groupby.c(51931): warning C4244: '=': conversÆo de 'Py_ssize_t' para '__pyx_t_5numpy_float64_t', poss¡vel perda de dados\n",
            "      pandas\\_libs/groupby.c(53411): warning C4244: '=': conversÆo de 'Py_ssize_t' para '__pyx_t_5numpy_float64_t', poss¡vel perda de dados\n",
            "      pandas\\_libs/groupby.c(53456): warning C4244: '=': conversÆo de 'Py_ssize_t' para '__pyx_t_5numpy_float64_t', poss¡vel perda de dados\n",
            "      pandas\\_libs/groupby.c(53511): warning C4244: '=': conversÆo de 'Py_ssize_t' para '__pyx_t_5numpy_float64_t', poss¡vel perda de dados\n",
            "      pandas\\_libs/groupby.c(53534): warning C4244: '=': conversÆo de 'Py_ssize_t' para '__pyx_t_5numpy_float64_t', poss¡vel perda de dados\n",
            "      pandas\\_libs/groupby.c(53581): warning C4244: '=': conversÆo de 'Py_ssize_t' para '__pyx_t_5numpy_float64_t', poss¡vel perda de dados\n",
            "      pandas\\_libs/groupby.c(53741): warning C4244: '=': conversÆo de 'Py_ssize_t' para '__pyx_t_5numpy_float64_t', poss¡vel perda de dados\n",
            "      pandas\\_libs/groupby.c(53777): warning C4244: '=': conversÆo de 'Py_ssize_t' para '__pyx_t_5numpy_float64_t', poss¡vel perda de dados\n",
            "      pandas\\_libs/groupby.c(55243): warning C4244: '=': conversÆo de 'Py_ssize_t' para '__pyx_t_5numpy_float64_t', poss¡vel perda de dados\n",
            "      pandas\\_libs/groupby.c(55288): warning C4244: '=': conversÆo de 'Py_ssize_t' para '__pyx_t_5numpy_float64_t', poss¡vel perda de dados\n",
            "      pandas\\_libs/groupby.c(55343): warning C4244: '=': conversÆo de 'Py_ssize_t' para '__pyx_t_5numpy_float64_t', poss¡vel perda de dados\n",
            "      pandas\\_libs/groupby.c(55366): warning C4244: '=': conversÆo de 'Py_ssize_t' para '__pyx_t_5numpy_float64_t', poss¡vel perda de dados\n",
            "      pandas\\_libs/groupby.c(55413): warning C4244: '=': conversÆo de 'Py_ssize_t' para '__pyx_t_5numpy_float64_t', poss¡vel perda de dados\n",
            "      pandas\\_libs/groupby.c(55573): warning C4244: '=': conversÆo de 'Py_ssize_t' para '__pyx_t_5numpy_float64_t', poss¡vel perda de dados\n",
            "      pandas\\_libs/groupby.c(55609): warning C4244: '=': conversÆo de 'Py_ssize_t' para '__pyx_t_5numpy_float64_t', poss¡vel perda de dados\n",
            "      pandas\\_libs/groupby.c(56484): warning C4244: '=': conversÆo de 'long' para 'char', poss¡vel perda de dados\n",
            "      pandas\\_libs/groupby.c(58018): warning C4244: '=': conversÆo de 'npy_double' para '__pyx_t_5numpy_float32_t', poss¡vel perda de dados\n",
            "      pandas\\_libs/groupby.c(60285): warning C4244: '=': conversÆo de 'long' para 'char', poss¡vel perda de dados\n",
            "      pandas\\_libs/groupby.c(61813): warning C4244: '=': conversÆo de 'npy_double' para '__pyx_t_5numpy_float32_t', poss¡vel perda de dados\n",
            "      pandas\\_libs/groupby.c(64107): warning C4244: '=': conversÆo de 'long' para 'char', poss¡vel perda de dados\n",
            "      pandas\\_libs/groupby.c(66989): warning C4244: '=': conversÆo de 'long' para 'char', poss¡vel perda de dados\n",
            "      \"C:\\Program Files (x86)\\Microsoft Visual Studio\\2019\\Community\\VC\\Tools\\MSVC\\14.27.29110\\bin\\HostX86\\x64\\link.exe\" /nologo /INCREMENTAL:NO /LTCG /DLL /MANIFEST:EMBED,ID=2 /MANIFESTUAC:NO /LIBPATH:C:\\Users\\Soldado\\AppData\\Local\\Programs\\Python\\Python311\\libs /LIBPATH:C:\\Users\\Soldado\\AppData\\Local\\Programs\\Python\\Python311 /LIBPATH:C:\\Users\\Soldado\\AppData\\Local\\Programs\\Python\\Python311\\PCbuild\\amd64 \"/LIBPATH:C:\\Program Files (x86)\\Microsoft Visual Studio\\2019\\Community\\VC\\Tools\\MSVC\\14.27.29110\\ATLMFC\\lib\\x64\" \"/LIBPATH:C:\\Program Files (x86)\\Microsoft Visual Studio\\2019\\Community\\VC\\Tools\\MSVC\\14.27.29110\\lib\\x64\" \"/LIBPATH:C:\\Program Files (x86)\\Windows Kits\\NETFXSDK\\4.8\\lib\\um\\x64\" \"/LIBPATH:C:\\Program Files (x86)\\Windows Kits\\10\\lib\\10.0.18362.0\\ucrt\\x64\" \"/LIBPATH:C:\\Program Files (x86)\\Windows Kits\\10\\lib\\10.0.18362.0\\um\\x64\" /EXPORT:PyInit_groupby build\\temp.win-amd64-cpython-311\\Release\\pandas\\_libs/groupby.obj /OUT:build\\lib.win-amd64-cpython-311\\pandas\\_libs\\groupby.cp311-win_amd64.pyd /IMPLIB:build\\temp.win-amd64-cpython-311\\Release\\pandas\\_libs\\groupby.cp311-win_amd64.lib\n",
            "         Criando biblioteca build\\temp.win-amd64-cpython-311\\Release\\pandas\\_libs\\groupby.cp311-win_amd64.lib e objeto build\\temp.win-amd64-cpython-311\\Release\\pandas\\_libs\\groupby.cp311-win_amd64.exp\n",
            "      Gerando c¢digo\n",
            "      Finalizada a gera‡Æo de c¢digo\n",
            "      building 'pandas._libs.hashing' extension\n",
            "      \"C:\\Program Files (x86)\\Microsoft Visual Studio\\2019\\Community\\VC\\Tools\\MSVC\\14.27.29110\\bin\\HostX86\\x64\\cl.exe\" /c /nologo /O2 /W3 /GL /DNDEBUG /MD -DNPY_NO_DEPRECATED_API=0 -I.\\pandas\\_libs -IC:\\Users\\Soldado\\AppData\\Local\\Temp\\pip-build-env-b6_ney89\\overlay\\Lib\\site-packages\\numpy\\core\\include -IC:\\Users\\Soldado\\AppData\\Local\\Programs\\Python\\Python311\\include -IC:\\Users\\Soldado\\AppData\\Local\\Programs\\Python\\Python311\\Include \"-IC:\\Program Files (x86)\\Microsoft Visual Studio\\2019\\Community\\VC\\Tools\\MSVC\\14.27.29110\\ATLMFC\\include\" \"-IC:\\Program Files (x86)\\Microsoft Visual Studio\\2019\\Community\\VC\\Tools\\MSVC\\14.27.29110\\include\" \"-IC:\\Program Files (x86)\\Windows Kits\\NETFXSDK\\4.8\\include\\um\" \"-IC:\\Program Files (x86)\\Windows Kits\\10\\include\\10.0.18362.0\\ucrt\" \"-IC:\\Program Files (x86)\\Windows Kits\\10\\include\\10.0.18362.0\\shared\" \"-IC:\\Program Files (x86)\\Windows Kits\\10\\include\\10.0.18362.0\\um\" \"-IC:\\Program Files (x86)\\Windows Kits\\10\\include\\10.0.18362.0\\winrt\" \"-IC:\\Program Files (x86)\\Windows Kits\\10\\include\\10.0.18362.0\\cppwinrt\" /Tcpandas\\_libs/hashing.c /Fobuild\\temp.win-amd64-cpython-311\\Release\\pandas\\_libs/hashing.obj\n",
            "      hashing.c\n",
            "      \"C:\\Program Files (x86)\\Microsoft Visual Studio\\2019\\Community\\VC\\Tools\\MSVC\\14.27.29110\\bin\\HostX86\\x64\\link.exe\" /nologo /INCREMENTAL:NO /LTCG /DLL /MANIFEST:EMBED,ID=2 /MANIFESTUAC:NO /LIBPATH:C:\\Users\\Soldado\\AppData\\Local\\Programs\\Python\\Python311\\libs /LIBPATH:C:\\Users\\Soldado\\AppData\\Local\\Programs\\Python\\Python311 /LIBPATH:C:\\Users\\Soldado\\AppData\\Local\\Programs\\Python\\Python311\\PCbuild\\amd64 \"/LIBPATH:C:\\Program Files (x86)\\Microsoft Visual Studio\\2019\\Community\\VC\\Tools\\MSVC\\14.27.29110\\ATLMFC\\lib\\x64\" \"/LIBPATH:C:\\Program Files (x86)\\Microsoft Visual Studio\\2019\\Community\\VC\\Tools\\MSVC\\14.27.29110\\lib\\x64\" \"/LIBPATH:C:\\Program Files (x86)\\Windows Kits\\NETFXSDK\\4.8\\lib\\um\\x64\" \"/LIBPATH:C:\\Program Files (x86)\\Windows Kits\\10\\lib\\10.0.18362.0\\ucrt\\x64\" \"/LIBPATH:C:\\Program Files (x86)\\Windows Kits\\10\\lib\\10.0.18362.0\\um\\x64\" /EXPORT:PyInit_hashing build\\temp.win-amd64-cpython-311\\Release\\pandas\\_libs/hashing.obj /OUT:build\\lib.win-amd64-cpython-311\\pandas\\_libs\\hashing.cp311-win_amd64.pyd /IMPLIB:build\\temp.win-amd64-cpython-311\\Release\\pandas\\_libs\\hashing.cp311-win_amd64.lib\n",
            "         Criando biblioteca build\\temp.win-amd64-cpython-311\\Release\\pandas\\_libs\\hashing.cp311-win_amd64.lib e objeto build\\temp.win-amd64-cpython-311\\Release\\pandas\\_libs\\hashing.cp311-win_amd64.exp\n",
            "      Gerando c¢digo\n",
            "      Finalizada a gera‡Æo de c¢digo\n",
            "      building 'pandas._libs.hashtable' extension\n",
            "      \"C:\\Program Files (x86)\\Microsoft Visual Studio\\2019\\Community\\VC\\Tools\\MSVC\\14.27.29110\\bin\\HostX86\\x64\\cl.exe\" /c /nologo /O2 /W3 /GL /DNDEBUG /MD -DNPY_NO_DEPRECATED_API=0 -Ipandas/_libs/src/klib -IC:\\Users\\Soldado\\AppData\\Local\\Temp\\pip-build-env-b6_ney89\\overlay\\Lib\\site-packages\\numpy\\core\\include -IC:\\Users\\Soldado\\AppData\\Local\\Programs\\Python\\Python311\\include -IC:\\Users\\Soldado\\AppData\\Local\\Programs\\Python\\Python311\\Include \"-IC:\\Program Files (x86)\\Microsoft Visual Studio\\2019\\Community\\VC\\Tools\\MSVC\\14.27.29110\\ATLMFC\\include\" \"-IC:\\Program Files (x86)\\Microsoft Visual Studio\\2019\\Community\\VC\\Tools\\MSVC\\14.27.29110\\include\" \"-IC:\\Program Files (x86)\\Windows Kits\\NETFXSDK\\4.8\\include\\um\" \"-IC:\\Program Files (x86)\\Windows Kits\\10\\include\\10.0.18362.0\\ucrt\" \"-IC:\\Program Files (x86)\\Windows Kits\\10\\include\\10.0.18362.0\\shared\" \"-IC:\\Program Files (x86)\\Windows Kits\\10\\include\\10.0.18362.0\\um\" \"-IC:\\Program Files (x86)\\Windows Kits\\10\\include\\10.0.18362.0\\winrt\" \"-IC:\\Program Files (x86)\\Windows Kits\\10\\include\\10.0.18362.0\\cppwinrt\" /Tcpandas\\_libs/hashtable.c /Fobuild\\temp.win-amd64-cpython-311\\Release\\pandas\\_libs/hashtable.obj\n",
            "      hashtable.c\n",
            "      C:\\Users\\Soldado\\AppData\\Local\\Temp\\pip-install-6jt8hbtw\\pandas_984248bf458f4afda8dc403a577fc791\\pandas\\_libs\\src\\klib\\khash.h(563): warning C4090: 'fun‡Æo': qualificadores 'const' diferentes\n",
            "      pandas/_libs/src/klib\\khash_python.h(75): warning C4244: '=': conversÆo de 'Py_hash_t' para 'khint_t', poss¡vel perda de dados\n",
            "      pandas/_libs/src/klib\\khash_python.h(81): warning C4244: '=': conversÆo de 'Py_hash_t' para 'khint_t', poss¡vel perda de dados\n",
            "      pandas/_libs/src/klib\\khash_python.h(86): warning C4090: 'fun‡Æo': qualificadores 'const' diferentes\n",
            "      pandas\\_libs/hashtable.c(8873): warning C4244: 'fun‡Æo': conversÆo de '__pyx_t_5numpy_int64_t' para 'khint_t', poss¡vel perda de dados\n",
            "      pandas\\_libs/hashtable.c(12885): warning C4244: 'fun‡Æo': conversÆo de '__pyx_t_5numpy_int64_t' para 'khint_t', poss¡vel perda de dados\n",
            "      pandas\\_libs/hashtable.c(16836): warning C4244: 'fun‡Æo': conversÆo de '__pyx_t_5numpy_int64_t' para 'khint_t', poss¡vel perda de dados\n",
            "      pandas\\_libs/hashtable.c(20827): warning C4244: 'fun‡Æo': conversÆo de '__pyx_t_5numpy_int64_t' para 'khint_t', poss¡vel perda de dados\n",
            "      pandas\\_libs/hashtable.c(21885): warning C4090: 'fun‡Æo': qualificadores 'const' diferentes\n",
            "      pandas\\_libs/hashtable.c(22274): warning C4090: 'fun‡Æo': qualificadores 'const' diferentes\n",
            "      pandas\\_libs/hashtable.c(22604): warning C4090: 'fun‡Æo': qualificadores 'const' diferentes\n",
            "      pandas\\_libs/hashtable.c(23469): warning C4090: 'fun‡Æo': qualificadores 'const' diferentes\n",
            "      pandas\\_libs/hashtable.c(24684): warning C4244: 'fun‡Æo': conversÆo de '__pyx_t_5numpy_int64_t' para 'khint_t', poss¡vel perda de dados\n",
            "      pandas\\_libs/hashtable.c(27705): warning C4244: 'fun‡Æo': conversÆo de 'Py_ssize_t' para 'khint_t', poss¡vel perda de dados\n",
            "      pandas\\_libs/hashtable.c(29097): warning C4244: 'fun‡Æo': conversÆo de 'Py_ssize_t' para 'khint_t', poss¡vel perda de dados\n",
            "      pandas\\_libs/hashtable.c(29445): warning C4244: 'fun‡Æo': conversÆo de 'Py_ssize_t' para 'khint_t', poss¡vel perda de dados\n",
            "      pandas\\_libs/hashtable.c(30810): warning C4244: 'fun‡Æo': conversÆo de 'Py_ssize_t' para 'khint_t', poss¡vel perda de dados\n",
            "      pandas\\_libs/hashtable.c(31158): warning C4244: 'fun‡Æo': conversÆo de 'Py_ssize_t' para 'khint_t', poss¡vel perda de dados\n",
            "      pandas\\_libs/hashtable.c(32457): warning C4244: 'fun‡Æo': conversÆo de 'Py_ssize_t' para 'khint_t', poss¡vel perda de dados\n",
            "      pandas\\_libs/hashtable.c(32746): warning C4244: 'fun‡Æo': conversÆo de 'Py_ssize_t' para 'khint_t', poss¡vel perda de dados\n",
            "      pandas\\_libs/hashtable.c(34109): warning C4244: 'fun‡Æo': conversÆo de 'Py_ssize_t' para 'khint_t', poss¡vel perda de dados\n",
            "      pandas\\_libs/hashtable.c(34637): warning C4267: '=': conversÆo de 'size_t' para 'int', poss¡vel perda de dados\n",
            "      pandas\\_libs/hashtable.c(35068): warning C4267: '=': conversÆo de 'size_t' para 'int', poss¡vel perda de dados\n",
            "      pandas\\_libs/hashtable.c(35499): warning C4267: '=': conversÆo de 'size_t' para 'int', poss¡vel perda de dados\n",
            "      pandas\\_libs/hashtable.c(35932): warning C4244: '=': conversÆo de 'Py_ssize_t' para 'int', poss¡vel perda de dados\n",
            "      \"C:\\Program Files (x86)\\Microsoft Visual Studio\\2019\\Community\\VC\\Tools\\MSVC\\14.27.29110\\bin\\HostX86\\x64\\link.exe\" /nologo /INCREMENTAL:NO /LTCG /DLL /MANIFEST:EMBED,ID=2 /MANIFESTUAC:NO /LIBPATH:C:\\Users\\Soldado\\AppData\\Local\\Programs\\Python\\Python311\\libs /LIBPATH:C:\\Users\\Soldado\\AppData\\Local\\Programs\\Python\\Python311 /LIBPATH:C:\\Users\\Soldado\\AppData\\Local\\Programs\\Python\\Python311\\PCbuild\\amd64 \"/LIBPATH:C:\\Program Files (x86)\\Microsoft Visual Studio\\2019\\Community\\VC\\Tools\\MSVC\\14.27.29110\\ATLMFC\\lib\\x64\" \"/LIBPATH:C:\\Program Files (x86)\\Microsoft Visual Studio\\2019\\Community\\VC\\Tools\\MSVC\\14.27.29110\\lib\\x64\" \"/LIBPATH:C:\\Program Files (x86)\\Windows Kits\\NETFXSDK\\4.8\\lib\\um\\x64\" \"/LIBPATH:C:\\Program Files (x86)\\Windows Kits\\10\\lib\\10.0.18362.0\\ucrt\\x64\" \"/LIBPATH:C:\\Program Files (x86)\\Windows Kits\\10\\lib\\10.0.18362.0\\um\\x64\" /EXPORT:PyInit_hashtable build\\temp.win-amd64-cpython-311\\Release\\pandas\\_libs/hashtable.obj /OUT:build\\lib.win-amd64-cpython-311\\pandas\\_libs\\hashtable.cp311-win_amd64.pyd /IMPLIB:build\\temp.win-amd64-cpython-311\\Release\\pandas\\_libs\\hashtable.cp311-win_amd64.lib\n",
            "         Criando biblioteca build\\temp.win-amd64-cpython-311\\Release\\pandas\\_libs\\hashtable.cp311-win_amd64.lib e objeto build\\temp.win-amd64-cpython-311\\Release\\pandas\\_libs\\hashtable.cp311-win_amd64.exp\n",
            "      Gerando c¢digo\n",
            "      Finalizada a gera‡Æo de c¢digo\n",
            "      building 'pandas._libs.index' extension\n",
            "      \"C:\\Program Files (x86)\\Microsoft Visual Studio\\2019\\Community\\VC\\Tools\\MSVC\\14.27.29110\\bin\\HostX86\\x64\\cl.exe\" /c /nologo /O2 /W3 /GL /DNDEBUG /MD -DNPY_NO_DEPRECATED_API=0 -I.\\pandas\\_libs\\tslibs -Ipandas/_libs/src/klib -IC:\\Users\\Soldado\\AppData\\Local\\Temp\\pip-build-env-b6_ney89\\overlay\\Lib\\site-packages\\numpy\\core\\include -IC:\\Users\\Soldado\\AppData\\Local\\Programs\\Python\\Python311\\include -IC:\\Users\\Soldado\\AppData\\Local\\Programs\\Python\\Python311\\Include \"-IC:\\Program Files (x86)\\Microsoft Visual Studio\\2019\\Community\\VC\\Tools\\MSVC\\14.27.29110\\ATLMFC\\include\" \"-IC:\\Program Files (x86)\\Microsoft Visual Studio\\2019\\Community\\VC\\Tools\\MSVC\\14.27.29110\\include\" \"-IC:\\Program Files (x86)\\Windows Kits\\NETFXSDK\\4.8\\include\\um\" \"-IC:\\Program Files (x86)\\Windows Kits\\10\\include\\10.0.18362.0\\ucrt\" \"-IC:\\Program Files (x86)\\Windows Kits\\10\\include\\10.0.18362.0\\shared\" \"-IC:\\Program Files (x86)\\Windows Kits\\10\\include\\10.0.18362.0\\um\" \"-IC:\\Program Files (x86)\\Windows Kits\\10\\include\\10.0.18362.0\\winrt\" \"-IC:\\Program Files (x86)\\Windows Kits\\10\\include\\10.0.18362.0\\cppwinrt\" /Tcpandas\\_libs/index.c /Fobuild\\temp.win-amd64-cpython-311\\Release\\pandas\\_libs/index.obj\n",
            "      index.c\n",
            "      C:\\Users\\Soldado\\AppData\\Local\\Temp\\pip-install-6jt8hbtw\\pandas_984248bf458f4afda8dc403a577fc791\\pandas\\_libs\\src\\klib\\khash.h(563): warning C4090: 'fun‡Æo': qualificadores 'const' diferentes\n",
            "      pandas/_libs/src/klib\\khash_python.h(75): warning C4244: '=': conversÆo de 'Py_hash_t' para 'khint_t', poss¡vel perda de dados\n",
            "      pandas/_libs/src/klib\\khash_python.h(81): warning C4244: '=': conversÆo de 'Py_hash_t' para 'khint_t', poss¡vel perda de dados\n",
            "      pandas/_libs/src/klib\\khash_python.h(86): warning C4090: 'fun‡Æo': qualificadores 'const' diferentes\n",
            "      pandas\\_libs/index.c(5740): warning C4244: '=': conversÆo de 'Py_ssize_t' para 'int', poss¡vel perda de dados\n",
            "      \"C:\\Program Files (x86)\\Microsoft Visual Studio\\2019\\Community\\VC\\Tools\\MSVC\\14.27.29110\\bin\\HostX86\\x64\\link.exe\" /nologo /INCREMENTAL:NO /LTCG /DLL /MANIFEST:EMBED,ID=2 /MANIFESTUAC:NO /LIBPATH:C:\\Users\\Soldado\\AppData\\Local\\Programs\\Python\\Python311\\libs /LIBPATH:C:\\Users\\Soldado\\AppData\\Local\\Programs\\Python\\Python311 /LIBPATH:C:\\Users\\Soldado\\AppData\\Local\\Programs\\Python\\Python311\\PCbuild\\amd64 \"/LIBPATH:C:\\Program Files (x86)\\Microsoft Visual Studio\\2019\\Community\\VC\\Tools\\MSVC\\14.27.29110\\ATLMFC\\lib\\x64\" \"/LIBPATH:C:\\Program Files (x86)\\Microsoft Visual Studio\\2019\\Community\\VC\\Tools\\MSVC\\14.27.29110\\lib\\x64\" \"/LIBPATH:C:\\Program Files (x86)\\Windows Kits\\NETFXSDK\\4.8\\lib\\um\\x64\" \"/LIBPATH:C:\\Program Files (x86)\\Windows Kits\\10\\lib\\10.0.18362.0\\ucrt\\x64\" \"/LIBPATH:C:\\Program Files (x86)\\Windows Kits\\10\\lib\\10.0.18362.0\\um\\x64\" /EXPORT:PyInit_index build\\temp.win-amd64-cpython-311\\Release\\pandas\\_libs/index.obj /OUT:build\\lib.win-amd64-cpython-311\\pandas\\_libs\\index.cp311-win_amd64.pyd /IMPLIB:build\\temp.win-amd64-cpython-311\\Release\\pandas\\_libs\\index.cp311-win_amd64.lib\n",
            "         Criando biblioteca build\\temp.win-amd64-cpython-311\\Release\\pandas\\_libs\\index.cp311-win_amd64.lib e objeto build\\temp.win-amd64-cpython-311\\Release\\pandas\\_libs\\index.cp311-win_amd64.exp\n",
            "      Gerando c¢digo\n",
            "      Finalizada a gera‡Æo de c¢digo\n",
            "      building 'pandas._libs.indexing' extension\n",
            "      \"C:\\Program Files (x86)\\Microsoft Visual Studio\\2019\\Community\\VC\\Tools\\MSVC\\14.27.29110\\bin\\HostX86\\x64\\cl.exe\" /c /nologo /O2 /W3 /GL /DNDEBUG /MD -DNPY_NO_DEPRECATED_API=0 -IC:\\Users\\Soldado\\AppData\\Local\\Temp\\pip-build-env-b6_ney89\\overlay\\Lib\\site-packages\\numpy\\core\\include -IC:\\Users\\Soldado\\AppData\\Local\\Programs\\Python\\Python311\\include -IC:\\Users\\Soldado\\AppData\\Local\\Programs\\Python\\Python311\\Include \"-IC:\\Program Files (x86)\\Microsoft Visual Studio\\2019\\Community\\VC\\Tools\\MSVC\\14.27.29110\\ATLMFC\\include\" \"-IC:\\Program Files (x86)\\Microsoft Visual Studio\\2019\\Community\\VC\\Tools\\MSVC\\14.27.29110\\include\" \"-IC:\\Program Files (x86)\\Windows Kits\\NETFXSDK\\4.8\\include\\um\" \"-IC:\\Program Files (x86)\\Windows Kits\\10\\include\\10.0.18362.0\\ucrt\" \"-IC:\\Program Files (x86)\\Windows Kits\\10\\include\\10.0.18362.0\\shared\" \"-IC:\\Program Files (x86)\\Windows Kits\\10\\include\\10.0.18362.0\\um\" \"-IC:\\Program Files (x86)\\Windows Kits\\10\\include\\10.0.18362.0\\winrt\" \"-IC:\\Program Files (x86)\\Windows Kits\\10\\include\\10.0.18362.0\\cppwinrt\" /Tcpandas\\_libs/indexing.c /Fobuild\\temp.win-amd64-cpython-311\\Release\\pandas\\_libs/indexing.obj\n",
            "      indexing.c\n",
            "      \"C:\\Program Files (x86)\\Microsoft Visual Studio\\2019\\Community\\VC\\Tools\\MSVC\\14.27.29110\\bin\\HostX86\\x64\\link.exe\" /nologo /INCREMENTAL:NO /LTCG /DLL /MANIFEST:EMBED,ID=2 /MANIFESTUAC:NO /LIBPATH:C:\\Users\\Soldado\\AppData\\Local\\Programs\\Python\\Python311\\libs /LIBPATH:C:\\Users\\Soldado\\AppData\\Local\\Programs\\Python\\Python311 /LIBPATH:C:\\Users\\Soldado\\AppData\\Local\\Programs\\Python\\Python311\\PCbuild\\amd64 \"/LIBPATH:C:\\Program Files (x86)\\Microsoft Visual Studio\\2019\\Community\\VC\\Tools\\MSVC\\14.27.29110\\ATLMFC\\lib\\x64\" \"/LIBPATH:C:\\Program Files (x86)\\Microsoft Visual Studio\\2019\\Community\\VC\\Tools\\MSVC\\14.27.29110\\lib\\x64\" \"/LIBPATH:C:\\Program Files (x86)\\Windows Kits\\NETFXSDK\\4.8\\lib\\um\\x64\" \"/LIBPATH:C:\\Program Files (x86)\\Windows Kits\\10\\lib\\10.0.18362.0\\ucrt\\x64\" \"/LIBPATH:C:\\Program Files (x86)\\Windows Kits\\10\\lib\\10.0.18362.0\\um\\x64\" /EXPORT:PyInit_indexing build\\temp.win-amd64-cpython-311\\Release\\pandas\\_libs/indexing.obj /OUT:build\\lib.win-amd64-cpython-311\\pandas\\_libs\\indexing.cp311-win_amd64.pyd /IMPLIB:build\\temp.win-amd64-cpython-311\\Release\\pandas\\_libs\\indexing.cp311-win_amd64.lib\n",
            "         Criando biblioteca build\\temp.win-amd64-cpython-311\\Release\\pandas\\_libs\\indexing.cp311-win_amd64.lib e objeto build\\temp.win-amd64-cpython-311\\Release\\pandas\\_libs\\indexing.cp311-win_amd64.exp\n",
            "      Gerando c¢digo\n",
            "      Finalizada a gera‡Æo de c¢digo\n",
            "      building 'pandas._libs.internals' extension\n",
            "      \"C:\\Program Files (x86)\\Microsoft Visual Studio\\2019\\Community\\VC\\Tools\\MSVC\\14.27.29110\\bin\\HostX86\\x64\\cl.exe\" /c /nologo /O2 /W3 /GL /DNDEBUG /MD -DNPY_NO_DEPRECATED_API=0 -IC:\\Users\\Soldado\\AppData\\Local\\Temp\\pip-build-env-b6_ney89\\overlay\\Lib\\site-packages\\numpy\\core\\include -IC:\\Users\\Soldado\\AppData\\Local\\Programs\\Python\\Python311\\include -IC:\\Users\\Soldado\\AppData\\Local\\Programs\\Python\\Python311\\Include \"-IC:\\Program Files (x86)\\Microsoft Visual Studio\\2019\\Community\\VC\\Tools\\MSVC\\14.27.29110\\ATLMFC\\include\" \"-IC:\\Program Files (x86)\\Microsoft Visual Studio\\2019\\Community\\VC\\Tools\\MSVC\\14.27.29110\\include\" \"-IC:\\Program Files (x86)\\Windows Kits\\NETFXSDK\\4.8\\include\\um\" \"-IC:\\Program Files (x86)\\Windows Kits\\10\\include\\10.0.18362.0\\ucrt\" \"-IC:\\Program Files (x86)\\Windows Kits\\10\\include\\10.0.18362.0\\shared\" \"-IC:\\Program Files (x86)\\Windows Kits\\10\\include\\10.0.18362.0\\um\" \"-IC:\\Program Files (x86)\\Windows Kits\\10\\include\\10.0.18362.0\\winrt\" \"-IC:\\Program Files (x86)\\Windows Kits\\10\\include\\10.0.18362.0\\cppwinrt\" /Tcpandas\\_libs/internals.c /Fobuild\\temp.win-amd64-cpython-311\\Release\\pandas\\_libs/internals.obj\n",
            "      internals.c\n",
            "      pandas\\_libs/internals.c(4464): warning C4244: 'fun‡Æo': conversÆo de 'Py_ssize_t' para 'double', poss¡vel perda de dados\n",
            "      pandas\\_libs/internals.c(4464): warning C4244: 'fun‡Æo': conversÆo de 'Py_ssize_t' para 'double', poss¡vel perda de dados\n",
            "      pandas\\_libs/internals.c(7328): warning C4244: 'fun‡Æo': conversÆo de 'Py_ssize_t' para 'double', poss¡vel perda de dados\n",
            "      pandas\\_libs/internals.c(7328): warning C4244: 'fun‡Æo': conversÆo de 'Py_ssize_t' para 'double', poss¡vel perda de dados\n",
            "      pandas\\_libs/internals.c(7328): warning C4244: 'fun‡Æo': conversÆo de 'Py_ssize_t' para 'double', poss¡vel perda de dados\n",
            "      \"C:\\Program Files (x86)\\Microsoft Visual Studio\\2019\\Community\\VC\\Tools\\MSVC\\14.27.29110\\bin\\HostX86\\x64\\link.exe\" /nologo /INCREMENTAL:NO /LTCG /DLL /MANIFEST:EMBED,ID=2 /MANIFESTUAC:NO /LIBPATH:C:\\Users\\Soldado\\AppData\\Local\\Programs\\Python\\Python311\\libs /LIBPATH:C:\\Users\\Soldado\\AppData\\Local\\Programs\\Python\\Python311 /LIBPATH:C:\\Users\\Soldado\\AppData\\Local\\Programs\\Python\\Python311\\PCbuild\\amd64 \"/LIBPATH:C:\\Program Files (x86)\\Microsoft Visual Studio\\2019\\Community\\VC\\Tools\\MSVC\\14.27.29110\\ATLMFC\\lib\\x64\" \"/LIBPATH:C:\\Program Files (x86)\\Microsoft Visual Studio\\2019\\Community\\VC\\Tools\\MSVC\\14.27.29110\\lib\\x64\" \"/LIBPATH:C:\\Program Files (x86)\\Windows Kits\\NETFXSDK\\4.8\\lib\\um\\x64\" \"/LIBPATH:C:\\Program Files (x86)\\Windows Kits\\10\\lib\\10.0.18362.0\\ucrt\\x64\" \"/LIBPATH:C:\\Program Files (x86)\\Windows Kits\\10\\lib\\10.0.18362.0\\um\\x64\" /EXPORT:PyInit_internals build\\temp.win-amd64-cpython-311\\Release\\pandas\\_libs/internals.obj /OUT:build\\lib.win-amd64-cpython-311\\pandas\\_libs\\internals.cp311-win_amd64.pyd /IMPLIB:build\\temp.win-amd64-cpython-311\\Release\\pandas\\_libs\\internals.cp311-win_amd64.lib\n",
            "         Criando biblioteca build\\temp.win-amd64-cpython-311\\Release\\pandas\\_libs\\internals.cp311-win_amd64.lib e objeto build\\temp.win-amd64-cpython-311\\Release\\pandas\\_libs\\internals.cp311-win_amd64.exp\n",
            "      Gerando c¢digo\n",
            "      Finalizada a gera‡Æo de c¢digo\n",
            "      building 'pandas._libs.interval' extension\n",
            "      \"C:\\Program Files (x86)\\Microsoft Visual Studio\\2019\\Community\\VC\\Tools\\MSVC\\14.27.29110\\bin\\HostX86\\x64\\cl.exe\" /c /nologo /O2 /W3 /GL /DNDEBUG /MD -DNPY_NO_DEPRECATED_API=0 -I.\\pandas\\_libs\\tslibs -Ipandas/_libs/src/klib -IC:\\Users\\Soldado\\AppData\\Local\\Temp\\pip-build-env-b6_ney89\\overlay\\Lib\\site-packages\\numpy\\core\\include -IC:\\Users\\Soldado\\AppData\\Local\\Programs\\Python\\Python311\\include -IC:\\Users\\Soldado\\AppData\\Local\\Programs\\Python\\Python311\\Include \"-IC:\\Program Files (x86)\\Microsoft Visual Studio\\2019\\Community\\VC\\Tools\\MSVC\\14.27.29110\\ATLMFC\\include\" \"-IC:\\Program Files (x86)\\Microsoft Visual Studio\\2019\\Community\\VC\\Tools\\MSVC\\14.27.29110\\include\" \"-IC:\\Program Files (x86)\\Windows Kits\\NETFXSDK\\4.8\\include\\um\" \"-IC:\\Program Files (x86)\\Windows Kits\\10\\include\\10.0.18362.0\\ucrt\" \"-IC:\\Program Files (x86)\\Windows Kits\\10\\include\\10.0.18362.0\\shared\" \"-IC:\\Program Files (x86)\\Windows Kits\\10\\include\\10.0.18362.0\\um\" \"-IC:\\Program Files (x86)\\Windows Kits\\10\\include\\10.0.18362.0\\winrt\" \"-IC:\\Program Files (x86)\\Windows Kits\\10\\include\\10.0.18362.0\\cppwinrt\" /Tcpandas\\_libs/interval.c /Fobuild\\temp.win-amd64-cpython-311\\Release\\pandas\\_libs/interval.obj\n",
            "      interval.c\n",
            "      C:\\Users\\Soldado\\AppData\\Local\\Temp\\pip-install-6jt8hbtw\\pandas_984248bf458f4afda8dc403a577fc791\\pandas\\_libs\\src\\klib\\khash.h(563): warning C4090: 'fun‡Æo': qualificadores 'const' diferentes\n",
            "      pandas/_libs/src/klib\\khash_python.h(75): warning C4244: '=': conversÆo de 'Py_hash_t' para 'khint_t', poss¡vel perda de dados\n",
            "      pandas/_libs/src/klib\\khash_python.h(81): warning C4244: '=': conversÆo de 'Py_hash_t' para 'khint_t', poss¡vel perda de dados\n",
            "      pandas/_libs/src/klib\\khash_python.h(86): warning C4090: 'fun‡Æo': qualificadores 'const' diferentes\n",
            "      pandas\\_libs/interval.c(11441): warning C4244: '=': conversÆo de 'long' para 'char', poss¡vel perda de dados\n",
            "      pandas\\_libs/interval.c(13095): warning C4244: '=': conversÆo de 'long' para 'char', poss¡vel perda de dados\n",
            "      \"C:\\Program Files (x86)\\Microsoft Visual Studio\\2019\\Community\\VC\\Tools\\MSVC\\14.27.29110\\bin\\HostX86\\x64\\link.exe\" /nologo /INCREMENTAL:NO /LTCG /DLL /MANIFEST:EMBED,ID=2 /MANIFESTUAC:NO /LIBPATH:C:\\Users\\Soldado\\AppData\\Local\\Programs\\Python\\Python311\\libs /LIBPATH:C:\\Users\\Soldado\\AppData\\Local\\Programs\\Python\\Python311 /LIBPATH:C:\\Users\\Soldado\\AppData\\Local\\Programs\\Python\\Python311\\PCbuild\\amd64 \"/LIBPATH:C:\\Program Files (x86)\\Microsoft Visual Studio\\2019\\Community\\VC\\Tools\\MSVC\\14.27.29110\\ATLMFC\\lib\\x64\" \"/LIBPATH:C:\\Program Files (x86)\\Microsoft Visual Studio\\2019\\Community\\VC\\Tools\\MSVC\\14.27.29110\\lib\\x64\" \"/LIBPATH:C:\\Program Files (x86)\\Windows Kits\\NETFXSDK\\4.8\\lib\\um\\x64\" \"/LIBPATH:C:\\Program Files (x86)\\Windows Kits\\10\\lib\\10.0.18362.0\\ucrt\\x64\" \"/LIBPATH:C:\\Program Files (x86)\\Windows Kits\\10\\lib\\10.0.18362.0\\um\\x64\" /EXPORT:PyInit_interval build\\temp.win-amd64-cpython-311\\Release\\pandas\\_libs/interval.obj /OUT:build\\lib.win-amd64-cpython-311\\pandas\\_libs\\interval.cp311-win_amd64.pyd /IMPLIB:build\\temp.win-amd64-cpython-311\\Release\\pandas\\_libs\\interval.cp311-win_amd64.lib\n",
            "         Criando biblioteca build\\temp.win-amd64-cpython-311\\Release\\pandas\\_libs\\interval.cp311-win_amd64.lib e objeto build\\temp.win-amd64-cpython-311\\Release\\pandas\\_libs\\interval.cp311-win_amd64.exp\n",
            "      Gerando c¢digo\n",
            "      Finalizada a gera‡Æo de c¢digo\n",
            "      building 'pandas._libs.join' extension\n",
            "      \"C:\\Program Files (x86)\\Microsoft Visual Studio\\2019\\Community\\VC\\Tools\\MSVC\\14.27.29110\\bin\\HostX86\\x64\\cl.exe\" /c /nologo /O2 /W3 /GL /DNDEBUG /MD -DNPY_NO_DEPRECATED_API=0 -Ipandas/_libs/src/klib -IC:\\Users\\Soldado\\AppData\\Local\\Temp\\pip-build-env-b6_ney89\\overlay\\Lib\\site-packages\\numpy\\core\\include -IC:\\Users\\Soldado\\AppData\\Local\\Programs\\Python\\Python311\\include -IC:\\Users\\Soldado\\AppData\\Local\\Programs\\Python\\Python311\\Include \"-IC:\\Program Files (x86)\\Microsoft Visual Studio\\2019\\Community\\VC\\Tools\\MSVC\\14.27.29110\\ATLMFC\\include\" \"-IC:\\Program Files (x86)\\Microsoft Visual Studio\\2019\\Community\\VC\\Tools\\MSVC\\14.27.29110\\include\" \"-IC:\\Program Files (x86)\\Windows Kits\\NETFXSDK\\4.8\\include\\um\" \"-IC:\\Program Files (x86)\\Windows Kits\\10\\include\\10.0.18362.0\\ucrt\" \"-IC:\\Program Files (x86)\\Windows Kits\\10\\include\\10.0.18362.0\\shared\" \"-IC:\\Program Files (x86)\\Windows Kits\\10\\include\\10.0.18362.0\\um\" \"-IC:\\Program Files (x86)\\Windows Kits\\10\\include\\10.0.18362.0\\winrt\" \"-IC:\\Program Files (x86)\\Windows Kits\\10\\include\\10.0.18362.0\\cppwinrt\" /Tcpandas\\_libs/join.c /Fobuild\\temp.win-amd64-cpython-311\\Release\\pandas\\_libs/join.obj\n",
            "      join.c\n",
            "      C:\\Users\\Soldado\\AppData\\Local\\Temp\\pip-install-6jt8hbtw\\pandas_984248bf458f4afda8dc403a577fc791\\pandas\\_libs\\src\\klib\\khash.h(563): warning C4090: 'fun‡Æo': qualificadores 'const' diferentes\n",
            "      pandas/_libs/src/klib\\khash_python.h(75): warning C4244: '=': conversÆo de 'Py_hash_t' para 'khint_t', poss¡vel perda de dados\n",
            "      pandas/_libs/src/klib\\khash_python.h(81): warning C4244: '=': conversÆo de 'Py_hash_t' para 'khint_t', poss¡vel perda de dados\n",
            "      pandas/_libs/src/klib\\khash_python.h(86): warning C4090: 'fun‡Æo': qualificadores 'const' diferentes\n",
            "      pandas\\_libs/join.c(9770): warning C4244: '=': conversÆo de 'long' para 'char', poss¡vel perda de dados\n",
            "      pandas\\_libs/join.c(14838): warning C4244: '=': conversÆo de 'long' para 'char', poss¡vel perda de dados\n",
            "      pandas\\_libs/join.c(25612): warning C4244: '=': conversÆo de 'long' para 'char', poss¡vel perda de dados\n",
            "      pandas\\_libs/join.c(35954): warning C4244: '=': conversÆo de 'long' para 'char', poss¡vel perda de dados\n",
            "      pandas\\_libs/join.c(49361): warning C4244: '=': conversÆo de 'long' para 'char', poss¡vel perda de dados\n",
            "      pandas\\_libs/join.c(49946): warning C4244: '=': conversÆo de 'long' para 'char', poss¡vel perda de dados\n",
            "      pandas\\_libs/join.c(81601): warning C4244: '=': conversÆo de 'long' para 'char', poss¡vel perda de dados\n",
            "      pandas\\_libs/join.c(82186): warning C4244: '=': conversÆo de 'long' para 'char', poss¡vel perda de dados\n",
            "      pandas\\_libs/join.c(113721): warning C4244: '=': conversÆo de 'long' para 'char', poss¡vel perda de dados\n",
            "      pandas\\_libs/join.c(114306): warning C4244: '=': conversÆo de 'long' para 'char', poss¡vel perda de dados\n",
            "      pandas\\_libs/join.c(151079): warning C4244: '=': conversÆo de 'long' para 'char', poss¡vel perda de dados\n",
            "      pandas\\_libs/join.c(159728): warning C4244: '=': conversÆo de 'long' para 'char', poss¡vel perda de dados\n",
            "      pandas\\_libs/join.c(168476): warning C4244: '=': conversÆo de 'long' para 'char', poss¡vel perda de dados\n",
            "      \"C:\\Program Files (x86)\\Microsoft Visual Studio\\2019\\Community\\VC\\Tools\\MSVC\\14.27.29110\\bin\\HostX86\\x64\\link.exe\" /nologo /INCREMENTAL:NO /LTCG /DLL /MANIFEST:EMBED,ID=2 /MANIFESTUAC:NO /LIBPATH:C:\\Users\\Soldado\\AppData\\Local\\Programs\\Python\\Python311\\libs /LIBPATH:C:\\Users\\Soldado\\AppData\\Local\\Programs\\Python\\Python311 /LIBPATH:C:\\Users\\Soldado\\AppData\\Local\\Programs\\Python\\Python311\\PCbuild\\amd64 \"/LIBPATH:C:\\Program Files (x86)\\Microsoft Visual Studio\\2019\\Community\\VC\\Tools\\MSVC\\14.27.29110\\ATLMFC\\lib\\x64\" \"/LIBPATH:C:\\Program Files (x86)\\Microsoft Visual Studio\\2019\\Community\\VC\\Tools\\MSVC\\14.27.29110\\lib\\x64\" \"/LIBPATH:C:\\Program Files (x86)\\Windows Kits\\NETFXSDK\\4.8\\lib\\um\\x64\" \"/LIBPATH:C:\\Program Files (x86)\\Windows Kits\\10\\lib\\10.0.18362.0\\ucrt\\x64\" \"/LIBPATH:C:\\Program Files (x86)\\Windows Kits\\10\\lib\\10.0.18362.0\\um\\x64\" /EXPORT:PyInit_join build\\temp.win-amd64-cpython-311\\Release\\pandas\\_libs/join.obj /OUT:build\\lib.win-amd64-cpython-311\\pandas\\_libs\\join.cp311-win_amd64.pyd /IMPLIB:build\\temp.win-amd64-cpython-311\\Release\\pandas\\_libs\\join.cp311-win_amd64.lib\n",
            "         Criando biblioteca build\\temp.win-amd64-cpython-311\\Release\\pandas\\_libs\\join.cp311-win_amd64.lib e objeto build\\temp.win-amd64-cpython-311\\Release\\pandas\\_libs\\join.cp311-win_amd64.exp\n",
            "      Gerando c¢digo\n",
            "      Finalizada a gera‡Æo de c¢digo\n",
            "      building 'pandas._libs.lib' extension\n",
            "      creating build\\temp.win-amd64-cpython-311\\Release\\pandas\\_libs\\src\n",
            "      creating build\\temp.win-amd64-cpython-311\\Release\\pandas\\_libs\\src\\parser\n",
            "      \"C:\\Program Files (x86)\\Microsoft Visual Studio\\2019\\Community\\VC\\Tools\\MSVC\\14.27.29110\\bin\\HostX86\\x64\\cl.exe\" /c /nologo /O2 /W3 /GL /DNDEBUG /MD -DNPY_NO_DEPRECATED_API=0 -Ipandas\\_libs -I.\\pandas\\_libs\\tslibs -I.\\pandas\\_libs -Ipandas/_libs/src/klib -IC:\\Users\\Soldado\\AppData\\Local\\Temp\\pip-build-env-b6_ney89\\overlay\\Lib\\site-packages\\numpy\\core\\include -IC:\\Users\\Soldado\\AppData\\Local\\Programs\\Python\\Python311\\include -IC:\\Users\\Soldado\\AppData\\Local\\Programs\\Python\\Python311\\Include \"-IC:\\Program Files (x86)\\Microsoft Visual Studio\\2019\\Community\\VC\\Tools\\MSVC\\14.27.29110\\ATLMFC\\include\" \"-IC:\\Program Files (x86)\\Microsoft Visual Studio\\2019\\Community\\VC\\Tools\\MSVC\\14.27.29110\\include\" \"-IC:\\Program Files (x86)\\Windows Kits\\NETFXSDK\\4.8\\include\\um\" \"-IC:\\Program Files (x86)\\Windows Kits\\10\\include\\10.0.18362.0\\ucrt\" \"-IC:\\Program Files (x86)\\Windows Kits\\10\\include\\10.0.18362.0\\shared\" \"-IC:\\Program Files (x86)\\Windows Kits\\10\\include\\10.0.18362.0\\um\" \"-IC:\\Program Files (x86)\\Windows Kits\\10\\include\\10.0.18362.0\\winrt\" \"-IC:\\Program Files (x86)\\Windows Kits\\10\\include\\10.0.18362.0\\cppwinrt\" /Tcpandas/_libs/src/parser/tokenizer.c /Fobuild\\temp.win-amd64-cpython-311\\Release\\pandas/_libs/src/parser/tokenizer.obj\n",
            "      tokenizer.c\n",
            "      pandas/_libs/src/klib\\khash.h(563): warning C4090: 'fun‡Æo': qualificadores 'const' diferentes\n",
            "      pandas/_libs/src/parser/tokenizer.c(428): warning C4244: '=': conversÆo de 'int64_t' para 'int', poss¡vel perda de dados\n",
            "      \"C:\\Program Files (x86)\\Microsoft Visual Studio\\2019\\Community\\VC\\Tools\\MSVC\\14.27.29110\\bin\\HostX86\\x64\\cl.exe\" /c /nologo /O2 /W3 /GL /DNDEBUG /MD -DNPY_NO_DEPRECATED_API=0 -Ipandas\\_libs -I.\\pandas\\_libs\\tslibs -I.\\pandas\\_libs -Ipandas/_libs/src/klib -IC:\\Users\\Soldado\\AppData\\Local\\Temp\\pip-build-env-b6_ney89\\overlay\\Lib\\site-packages\\numpy\\core\\include -IC:\\Users\\Soldado\\AppData\\Local\\Programs\\Python\\Python311\\include -IC:\\Users\\Soldado\\AppData\\Local\\Programs\\Python\\Python311\\Include \"-IC:\\Program Files (x86)\\Microsoft Visual Studio\\2019\\Community\\VC\\Tools\\MSVC\\14.27.29110\\ATLMFC\\include\" \"-IC:\\Program Files (x86)\\Microsoft Visual Studio\\2019\\Community\\VC\\Tools\\MSVC\\14.27.29110\\include\" \"-IC:\\Program Files (x86)\\Windows Kits\\NETFXSDK\\4.8\\include\\um\" \"-IC:\\Program Files (x86)\\Windows Kits\\10\\include\\10.0.18362.0\\ucrt\" \"-IC:\\Program Files (x86)\\Windows Kits\\10\\include\\10.0.18362.0\\shared\" \"-IC:\\Program Files (x86)\\Windows Kits\\10\\include\\10.0.18362.0\\um\" \"-IC:\\Program Files (x86)\\Windows Kits\\10\\include\\10.0.18362.0\\winrt\" \"-IC:\\Program Files (x86)\\Windows Kits\\10\\include\\10.0.18362.0\\cppwinrt\" /Tcpandas\\_libs/lib.c /Fobuild\\temp.win-amd64-cpython-311\\Release\\pandas\\_libs/lib.obj\n",
            "      lib.c\n",
            "      pandas/_libs/src/klib\\khash.h(563): warning C4090: 'fun‡Æo': qualificadores 'const' diferentes\n",
            "      pandas\\_libs/lib.c(8274): warning C4244: '=': conversÆo de '__pyx_t_5numpy_intp_t' para 'int', poss¡vel perda de dados\n",
            "      pandas\\_libs/lib.c(8371): warning C4244: '=': conversÆo de '__pyx_t_5numpy_intp_t' para 'int', poss¡vel perda de dados\n",
            "      pandas\\_libs/lib.c(8439): warning C4244: '=': conversÆo de '__pyx_t_5numpy_intp_t' para 'int', poss¡vel perda de dados\n",
            "      pandas\\_libs/lib.c(8502): warning C4244: '=': conversÆo de '__pyx_t_5numpy_intp_t' para 'int', poss¡vel perda de dados\n",
            "      \"C:\\Program Files (x86)\\Microsoft Visual Studio\\2019\\Community\\VC\\Tools\\MSVC\\14.27.29110\\bin\\HostX86\\x64\\link.exe\" /nologo /INCREMENTAL:NO /LTCG /DLL /MANIFEST:EMBED,ID=2 /MANIFESTUAC:NO /LIBPATH:C:\\Users\\Soldado\\AppData\\Local\\Programs\\Python\\Python311\\libs /LIBPATH:C:\\Users\\Soldado\\AppData\\Local\\Programs\\Python\\Python311 /LIBPATH:C:\\Users\\Soldado\\AppData\\Local\\Programs\\Python\\Python311\\PCbuild\\amd64 \"/LIBPATH:C:\\Program Files (x86)\\Microsoft Visual Studio\\2019\\Community\\VC\\Tools\\MSVC\\14.27.29110\\ATLMFC\\lib\\x64\" \"/LIBPATH:C:\\Program Files (x86)\\Microsoft Visual Studio\\2019\\Community\\VC\\Tools\\MSVC\\14.27.29110\\lib\\x64\" \"/LIBPATH:C:\\Program Files (x86)\\Windows Kits\\NETFXSDK\\4.8\\lib\\um\\x64\" \"/LIBPATH:C:\\Program Files (x86)\\Windows Kits\\10\\lib\\10.0.18362.0\\ucrt\\x64\" \"/LIBPATH:C:\\Program Files (x86)\\Windows Kits\\10\\lib\\10.0.18362.0\\um\\x64\" /EXPORT:PyInit_lib build\\temp.win-amd64-cpython-311\\Release\\pandas/_libs/src/parser/tokenizer.obj build\\temp.win-amd64-cpython-311\\Release\\pandas\\_libs/lib.obj /OUT:build\\lib.win-amd64-cpython-311\\pandas\\_libs\\lib.cp311-win_amd64.pyd /IMPLIB:build\\temp.win-amd64-cpython-311\\Release\\pandas/_libs/src/parser\\lib.cp311-win_amd64.lib\n",
            "         Criando biblioteca build\\temp.win-amd64-cpython-311\\Release\\pandas/_libs/src/parser\\lib.cp311-win_amd64.lib e objeto build\\temp.win-amd64-cpython-311\\Release\\pandas/_libs/src/parser\\lib.cp311-win_amd64.exp\n",
            "      Gerando c¢digo\n",
            "      Finalizada a gera‡Æo de c¢digo\n",
            "      building 'pandas._libs.missing' extension\n",
            "      \"C:\\Program Files (x86)\\Microsoft Visual Studio\\2019\\Community\\VC\\Tools\\MSVC\\14.27.29110\\bin\\HostX86\\x64\\cl.exe\" /c /nologo /O2 /W3 /GL /DNDEBUG /MD -DNPY_NO_DEPRECATED_API=0 -I.\\pandas\\_libs\\tslibs -IC:\\Users\\Soldado\\AppData\\Local\\Temp\\pip-build-env-b6_ney89\\overlay\\Lib\\site-packages\\numpy\\core\\include -IC:\\Users\\Soldado\\AppData\\Local\\Programs\\Python\\Python311\\include -IC:\\Users\\Soldado\\AppData\\Local\\Programs\\Python\\Python311\\Include \"-IC:\\Program Files (x86)\\Microsoft Visual Studio\\2019\\Community\\VC\\Tools\\MSVC\\14.27.29110\\ATLMFC\\include\" \"-IC:\\Program Files (x86)\\Microsoft Visual Studio\\2019\\Community\\VC\\Tools\\MSVC\\14.27.29110\\include\" \"-IC:\\Program Files (x86)\\Windows Kits\\NETFXSDK\\4.8\\include\\um\" \"-IC:\\Program Files (x86)\\Windows Kits\\10\\include\\10.0.18362.0\\ucrt\" \"-IC:\\Program Files (x86)\\Windows Kits\\10\\include\\10.0.18362.0\\shared\" \"-IC:\\Program Files (x86)\\Windows Kits\\10\\include\\10.0.18362.0\\um\" \"-IC:\\Program Files (x86)\\Windows Kits\\10\\include\\10.0.18362.0\\winrt\" \"-IC:\\Program Files (x86)\\Windows Kits\\10\\include\\10.0.18362.0\\cppwinrt\" /Tcpandas\\_libs/missing.c /Fobuild\\temp.win-amd64-cpython-311\\Release\\pandas\\_libs/missing.obj\n",
            "      missing.c\n",
            "      \"C:\\Program Files (x86)\\Microsoft Visual Studio\\2019\\Community\\VC\\Tools\\MSVC\\14.27.29110\\bin\\HostX86\\x64\\link.exe\" /nologo /INCREMENTAL:NO /LTCG /DLL /MANIFEST:EMBED,ID=2 /MANIFESTUAC:NO /LIBPATH:C:\\Users\\Soldado\\AppData\\Local\\Programs\\Python\\Python311\\libs /LIBPATH:C:\\Users\\Soldado\\AppData\\Local\\Programs\\Python\\Python311 /LIBPATH:C:\\Users\\Soldado\\AppData\\Local\\Programs\\Python\\Python311\\PCbuild\\amd64 \"/LIBPATH:C:\\Program Files (x86)\\Microsoft Visual Studio\\2019\\Community\\VC\\Tools\\MSVC\\14.27.29110\\ATLMFC\\lib\\x64\" \"/LIBPATH:C:\\Program Files (x86)\\Microsoft Visual Studio\\2019\\Community\\VC\\Tools\\MSVC\\14.27.29110\\lib\\x64\" \"/LIBPATH:C:\\Program Files (x86)\\Windows Kits\\NETFXSDK\\4.8\\lib\\um\\x64\" \"/LIBPATH:C:\\Program Files (x86)\\Windows Kits\\10\\lib\\10.0.18362.0\\ucrt\\x64\" \"/LIBPATH:C:\\Program Files (x86)\\Windows Kits\\10\\lib\\10.0.18362.0\\um\\x64\" /EXPORT:PyInit_missing build\\temp.win-amd64-cpython-311\\Release\\pandas\\_libs/missing.obj /OUT:build\\lib.win-amd64-cpython-311\\pandas\\_libs\\missing.cp311-win_amd64.pyd /IMPLIB:build\\temp.win-amd64-cpython-311\\Release\\pandas\\_libs\\missing.cp311-win_amd64.lib\n",
            "         Criando biblioteca build\\temp.win-amd64-cpython-311\\Release\\pandas\\_libs\\missing.cp311-win_amd64.lib e objeto build\\temp.win-amd64-cpython-311\\Release\\pandas\\_libs\\missing.cp311-win_amd64.exp\n",
            "      Gerando c¢digo\n",
            "      Finalizada a gera‡Æo de c¢digo\n",
            "      building 'pandas._libs.parsers' extension\n",
            "      \"C:\\Program Files (x86)\\Microsoft Visual Studio\\2019\\Community\\VC\\Tools\\MSVC\\14.27.29110\\bin\\HostX86\\x64\\cl.exe\" /c /nologo /O2 /W3 /GL /DNDEBUG /MD -DNPY_NO_DEPRECATED_API=0 -I.\\pandas\\_libs -Ipandas/_libs/src/klib -Ipandas/_libs/src -IC:\\Users\\Soldado\\AppData\\Local\\Temp\\pip-build-env-b6_ney89\\overlay\\Lib\\site-packages\\numpy\\core\\include -IC:\\Users\\Soldado\\AppData\\Local\\Programs\\Python\\Python311\\include -IC:\\Users\\Soldado\\AppData\\Local\\Programs\\Python\\Python311\\Include \"-IC:\\Program Files (x86)\\Microsoft Visual Studio\\2019\\Community\\VC\\Tools\\MSVC\\14.27.29110\\ATLMFC\\include\" \"-IC:\\Program Files (x86)\\Microsoft Visual Studio\\2019\\Community\\VC\\Tools\\MSVC\\14.27.29110\\include\" \"-IC:\\Program Files (x86)\\Windows Kits\\NETFXSDK\\4.8\\include\\um\" \"-IC:\\Program Files (x86)\\Windows Kits\\10\\include\\10.0.18362.0\\ucrt\" \"-IC:\\Program Files (x86)\\Windows Kits\\10\\include\\10.0.18362.0\\shared\" \"-IC:\\Program Files (x86)\\Windows Kits\\10\\include\\10.0.18362.0\\um\" \"-IC:\\Program Files (x86)\\Windows Kits\\10\\include\\10.0.18362.0\\winrt\" \"-IC:\\Program Files (x86)\\Windows Kits\\10\\include\\10.0.18362.0\\cppwinrt\" /Tcpandas/_libs/src/parser/io.c /Fobuild\\temp.win-amd64-cpython-311\\Release\\pandas/_libs/src/parser/io.obj\n",
            "      io.c\n",
            "      pandas/_libs/src/klib\\khash.h(563): warning C4090: 'fun‡Æo': qualificadores 'const' diferentes\n",
            "      pandas/_libs/src/parser/io.c(139): error C2065: 'ssize_t': identificador nÆo declarado\n",
            "      pandas/_libs/src/parser/io.c(139): error C2146: erro de sintaxe: ';' ausente antes do identificador 'rv'\n",
            "      pandas/_libs/src/parser/io.c(139): error C2065: 'rv': identificador nÆo declarado\n",
            "      pandas/_libs/src/parser/io.c(145): error C2065: 'rv': identificador nÆo declarado\n",
            "      pandas/_libs/src/parser/io.c(145): warning C4267: 'fun‡Æo': conversÆo de 'size_t' para 'unsigned int', poss¡vel perda de dados\n",
            "      pandas/_libs/src/parser/io.c(146): error C2065: 'rv': identificador nÆo declarado\n",
            "      pandas/_libs/src/parser/io.c(157): error C2065: 'rv': identificador nÆo declarado\n",
            "      pandas/_libs/src/parser/io.c(158): error C2065: 'rv': identificador nÆo declarado\n",
            "      error: command 'C:\\\\Program Files (x86)\\\\Microsoft Visual Studio\\\\2019\\\\Community\\\\VC\\\\Tools\\\\MSVC\\\\14.27.29110\\\\bin\\\\HostX86\\\\x64\\\\cl.exe' failed with exit code 2\n",
            "      [end of output]\n",
            "  \n",
            "  note: This error originates from a subprocess, and is likely not a problem with pip.\n",
            "  ERROR: Failed building wheel for pandas\n",
            "ERROR: Could not build wheels for pandas, which is required to install pyproject.toml-based projects\n",
            "\n",
            "[notice] A new release of pip is available: 23.2.1 -> 23.3.1\n",
            "[notice] To update, run: python.exe -m pip install --upgrade pip\n"
          ]
        }
      ],
      "source": [
        "df_mcd = df[df['stock'] == 'MCD']"
      ]
    },
    {
      "cell_type": "markdown",
      "metadata": {
        "id": "ga7Z_GA0zxzA"
      },
      "source": [
        " - Selecionando apenas as colunas de data e valores de ações."
      ]
    },
    {
      "cell_type": "code",
      "execution_count": 55,
      "metadata": {
        "id": "95LDI4jCrMGI"
      },
      "outputs": [],
      "source": [
        "df_mcd = df_mcd[['date', 'open', 'high', 'low', 'close']]"
      ]
    },
    {
      "cell_type": "markdown",
      "metadata": {
        "id": "ApnHMNYOyQ8T"
      },
      "source": [
        "Excelente, o problema é que as colunas com os valores possuem o carater `$` e são do tipo texto (`object` no `pandas`)."
      ]
    },
    {
      "cell_type": "code",
      "execution_count": 30,
      "metadata": {
        "id": "DDZZralSr0Zk"
      },
      "outputs": [
        {
          "data": {
            "text/html": [
              "<div>\n",
              "<style scoped>\n",
              "    .dataframe tbody tr th:only-of-type {\n",
              "        vertical-align: middle;\n",
              "    }\n",
              "\n",
              "    .dataframe tbody tr th {\n",
              "        vertical-align: top;\n",
              "    }\n",
              "\n",
              "    .dataframe thead th {\n",
              "        text-align: right;\n",
              "    }\n",
              "</style>\n",
              "<table border=\"1\" class=\"dataframe\">\n",
              "  <thead>\n",
              "    <tr style=\"text-align: right;\">\n",
              "      <th></th>\n",
              "      <th>date</th>\n",
              "      <th>open</th>\n",
              "      <th>high</th>\n",
              "      <th>low</th>\n",
              "      <th>close</th>\n",
              "    </tr>\n",
              "  </thead>\n",
              "  <tbody>\n",
              "    <tr>\n",
              "      <th>216</th>\n",
              "      <td>1/7/2011</td>\n",
              "      <td>$77.10</td>\n",
              "      <td>$77.59</td>\n",
              "      <td>$73.59</td>\n",
              "      <td>$74.37</td>\n",
              "    </tr>\n",
              "    <tr>\n",
              "      <th>217</th>\n",
              "      <td>1/14/2011</td>\n",
              "      <td>$74.25</td>\n",
              "      <td>$74.49</td>\n",
              "      <td>$72.46</td>\n",
              "      <td>$74.06</td>\n",
              "    </tr>\n",
              "    <tr>\n",
              "      <th>218</th>\n",
              "      <td>1/21/2011</td>\n",
              "      <td>$74.65</td>\n",
              "      <td>$75.75</td>\n",
              "      <td>$74.31</td>\n",
              "      <td>$75.01</td>\n",
              "    </tr>\n",
              "    <tr>\n",
              "      <th>219</th>\n",
              "      <td>1/28/2011</td>\n",
              "      <td>$74.25</td>\n",
              "      <td>$75.85</td>\n",
              "      <td>$73.05</td>\n",
              "      <td>$73.28</td>\n",
              "    </tr>\n",
              "    <tr>\n",
              "      <th>220</th>\n",
              "      <td>2/4/2011</td>\n",
              "      <td>$73.80</td>\n",
              "      <td>$74.50</td>\n",
              "      <td>$73.08</td>\n",
              "      <td>$74.05</td>\n",
              "    </tr>\n",
              "    <tr>\n",
              "      <th>221</th>\n",
              "      <td>2/11/2011</td>\n",
              "      <td>$74.13</td>\n",
              "      <td>$76.32</td>\n",
              "      <td>$73.30</td>\n",
              "      <td>$76.14</td>\n",
              "    </tr>\n",
              "    <tr>\n",
              "      <th>222</th>\n",
              "      <td>2/18/2011</td>\n",
              "      <td>$76.07</td>\n",
              "      <td>$76.45</td>\n",
              "      <td>$75.70</td>\n",
              "      <td>$76.13</td>\n",
              "    </tr>\n",
              "    <tr>\n",
              "      <th>223</th>\n",
              "      <td>2/25/2011</td>\n",
              "      <td>$75.95</td>\n",
              "      <td>$76.45</td>\n",
              "      <td>$74.42</td>\n",
              "      <td>$74.44</td>\n",
              "    </tr>\n",
              "    <tr>\n",
              "      <th>224</th>\n",
              "      <td>3/4/2011</td>\n",
              "      <td>$74.51</td>\n",
              "      <td>$76.63</td>\n",
              "      <td>$73.64</td>\n",
              "      <td>$76.03</td>\n",
              "    </tr>\n",
              "    <tr>\n",
              "      <th>225</th>\n",
              "      <td>3/11/2011</td>\n",
              "      <td>$76.38</td>\n",
              "      <td>$77.25</td>\n",
              "      <td>$74.97</td>\n",
              "      <td>$76.73</td>\n",
              "    </tr>\n",
              "  </tbody>\n",
              "</table>\n",
              "</div>"
            ],
            "text/plain": [
              "          date    open    high     low   close\n",
              "216   1/7/2011  $77.10  $77.59  $73.59  $74.37\n",
              "217  1/14/2011  $74.25  $74.49  $72.46  $74.06\n",
              "218  1/21/2011  $74.65  $75.75  $74.31  $75.01\n",
              "219  1/28/2011  $74.25  $75.85  $73.05  $73.28\n",
              "220   2/4/2011  $73.80  $74.50  $73.08  $74.05\n",
              "221  2/11/2011  $74.13  $76.32  $73.30  $76.14\n",
              "222  2/18/2011  $76.07  $76.45  $75.70  $76.13\n",
              "223  2/25/2011  $75.95  $76.45  $74.42  $74.44\n",
              "224   3/4/2011  $74.51  $76.63  $73.64  $76.03\n",
              "225  3/11/2011  $76.38  $77.25  $74.97  $76.73"
            ]
          },
          "execution_count": 30,
          "metadata": {},
          "output_type": "execute_result"
        }
      ],
      "source": [
        "df_mcd.head(n=10)"
      ]
    },
    {
      "cell_type": "code",
      "execution_count": 31,
      "metadata": {
        "id": "8cx7gP6TyjOu"
      },
      "outputs": [
        {
          "data": {
            "text/plain": [
              "date     object\n",
              "open     object\n",
              "high     object\n",
              "low      object\n",
              "close    object\n",
              "dtype: object"
            ]
          },
          "execution_count": 31,
          "metadata": {},
          "output_type": "execute_result"
        }
      ],
      "source": [
        "df_mcd.dtypes"
      ]
    },
    {
      "cell_type": "markdown",
      "metadata": {
        "id": "IsSYxtOOys72"
      },
      "source": [
        "Vamos limpar as colunas com o método `apply`, que permite a aplicação de uma função anônima (`lambda`) qualquer. A função `lambda` remove o caracter **$** e faz a conversão do tipo de `str` para `float`."
      ]
    },
    {
      "cell_type": "code",
      "execution_count": 32,
      "metadata": {
        "id": "u3OGT0r_sFCJ"
      },
      "outputs": [],
      "source": [
        "for col in ['open', 'high', 'low', 'close']:\n",
        "  df_mcd[col] = df_mcd[col].apply(lambda value: float(value.split(sep='$')[-1]))"
      ]
    },
    {
      "cell_type": "markdown",
      "metadata": {
        "id": "4xEkH-RdzLUi"
      },
      "source": [
        "Verifique novamente os dados e seus tipos."
      ]
    },
    {
      "cell_type": "code",
      "execution_count": 33,
      "metadata": {
        "id": "4w3-4q1gsv3Y"
      },
      "outputs": [
        {
          "data": {
            "text/html": [
              "<div>\n",
              "<style scoped>\n",
              "    .dataframe tbody tr th:only-of-type {\n",
              "        vertical-align: middle;\n",
              "    }\n",
              "\n",
              "    .dataframe tbody tr th {\n",
              "        vertical-align: top;\n",
              "    }\n",
              "\n",
              "    .dataframe thead th {\n",
              "        text-align: right;\n",
              "    }\n",
              "</style>\n",
              "<table border=\"1\" class=\"dataframe\">\n",
              "  <thead>\n",
              "    <tr style=\"text-align: right;\">\n",
              "      <th></th>\n",
              "      <th>date</th>\n",
              "      <th>open</th>\n",
              "      <th>high</th>\n",
              "      <th>low</th>\n",
              "      <th>close</th>\n",
              "    </tr>\n",
              "  </thead>\n",
              "  <tbody>\n",
              "    <tr>\n",
              "      <th>216</th>\n",
              "      <td>1/7/2011</td>\n",
              "      <td>77.10</td>\n",
              "      <td>77.59</td>\n",
              "      <td>73.59</td>\n",
              "      <td>74.37</td>\n",
              "    </tr>\n",
              "    <tr>\n",
              "      <th>217</th>\n",
              "      <td>1/14/2011</td>\n",
              "      <td>74.25</td>\n",
              "      <td>74.49</td>\n",
              "      <td>72.46</td>\n",
              "      <td>74.06</td>\n",
              "    </tr>\n",
              "    <tr>\n",
              "      <th>218</th>\n",
              "      <td>1/21/2011</td>\n",
              "      <td>74.65</td>\n",
              "      <td>75.75</td>\n",
              "      <td>74.31</td>\n",
              "      <td>75.01</td>\n",
              "    </tr>\n",
              "    <tr>\n",
              "      <th>219</th>\n",
              "      <td>1/28/2011</td>\n",
              "      <td>74.25</td>\n",
              "      <td>75.85</td>\n",
              "      <td>73.05</td>\n",
              "      <td>73.28</td>\n",
              "    </tr>\n",
              "    <tr>\n",
              "      <th>220</th>\n",
              "      <td>2/4/2011</td>\n",
              "      <td>73.80</td>\n",
              "      <td>74.50</td>\n",
              "      <td>73.08</td>\n",
              "      <td>74.05</td>\n",
              "    </tr>\n",
              "    <tr>\n",
              "      <th>221</th>\n",
              "      <td>2/11/2011</td>\n",
              "      <td>74.13</td>\n",
              "      <td>76.32</td>\n",
              "      <td>73.30</td>\n",
              "      <td>76.14</td>\n",
              "    </tr>\n",
              "    <tr>\n",
              "      <th>222</th>\n",
              "      <td>2/18/2011</td>\n",
              "      <td>76.07</td>\n",
              "      <td>76.45</td>\n",
              "      <td>75.70</td>\n",
              "      <td>76.13</td>\n",
              "    </tr>\n",
              "    <tr>\n",
              "      <th>223</th>\n",
              "      <td>2/25/2011</td>\n",
              "      <td>75.95</td>\n",
              "      <td>76.45</td>\n",
              "      <td>74.42</td>\n",
              "      <td>74.44</td>\n",
              "    </tr>\n",
              "    <tr>\n",
              "      <th>224</th>\n",
              "      <td>3/4/2011</td>\n",
              "      <td>74.51</td>\n",
              "      <td>76.63</td>\n",
              "      <td>73.64</td>\n",
              "      <td>76.03</td>\n",
              "    </tr>\n",
              "    <tr>\n",
              "      <th>225</th>\n",
              "      <td>3/11/2011</td>\n",
              "      <td>76.38</td>\n",
              "      <td>77.25</td>\n",
              "      <td>74.97</td>\n",
              "      <td>76.73</td>\n",
              "    </tr>\n",
              "  </tbody>\n",
              "</table>\n",
              "</div>"
            ],
            "text/plain": [
              "          date   open   high    low  close\n",
              "216   1/7/2011  77.10  77.59  73.59  74.37\n",
              "217  1/14/2011  74.25  74.49  72.46  74.06\n",
              "218  1/21/2011  74.65  75.75  74.31  75.01\n",
              "219  1/28/2011  74.25  75.85  73.05  73.28\n",
              "220   2/4/2011  73.80  74.50  73.08  74.05\n",
              "221  2/11/2011  74.13  76.32  73.30  76.14\n",
              "222  2/18/2011  76.07  76.45  75.70  76.13\n",
              "223  2/25/2011  75.95  76.45  74.42  74.44\n",
              "224   3/4/2011  74.51  76.63  73.64  76.03\n",
              "225  3/11/2011  76.38  77.25  74.97  76.73"
            ]
          },
          "execution_count": 33,
          "metadata": {},
          "output_type": "execute_result"
        }
      ],
      "source": [
        "df_mcd.head(n=10)"
      ]
    },
    {
      "cell_type": "code",
      "execution_count": 34,
      "metadata": {
        "id": "FDZyy9SVzPoK"
      },
      "outputs": [
        {
          "data": {
            "text/plain": [
              "date      object\n",
              "open     float64\n",
              "high     float64\n",
              "low      float64\n",
              "close    float64\n",
              "dtype: object"
            ]
          },
          "execution_count": 34,
          "metadata": {},
          "output_type": "execute_result"
        }
      ],
      "source": [
        "df_mcd.dtypes"
      ]
    },
    {
      "cell_type": "markdown",
      "metadata": {
        "id": "lIzrYVGWkRJ9"
      },
      "source": [
        "Excelente, agora podemos explorar os dados visualmente."
      ]
    },
    {
      "cell_type": "markdown",
      "metadata": {
        "id": "_-TI78q1yuQa"
      },
      "source": [
        "**Agora é a sua vez!** Conduza o mesmo processo para extrair e tratar os dados da empresa Coca-Cola (`stock` column igual a `KO`)."
      ]
    },
    {
      "cell_type": "markdown",
      "metadata": {
        "id": "NUd49lN4-Wyv"
      },
      "source": [
        " - Selecionando as linha do dataframe original `df` em que a coluna `stock` é igual a `KO`."
      ]
    },
    {
      "cell_type": "code",
      "execution_count": 35,
      "metadata": {
        "id": "fGbOS3kNzNNF"
      },
      "outputs": [],
      "source": [
        "# extração e tratamento dos dados da empresa Coca-Cola.\n",
        "\n",
        "import pandas as pd\n",
        "df = pd.read_csv('./dados/dow_jones_index.csv')\n",
        "\n",
        "df_ko = df[df['stock'] == 'KO']"
      ]
    },
    {
      "cell_type": "markdown",
      "metadata": {
        "id": "7fRSH8d4-IcX"
      },
      "source": [
        "Vamos selecionar os valores de abertura, fechamento, máximo e mínimo das ações da empresa Coca-Cola, listado na Dow Jones como KO:"
      ]
    },
    {
      "cell_type": "markdown",
      "metadata": {
        "id": "rXOSpT2A-dyR"
      },
      "source": [
        " - Selecionando apenas as colunas de data e valores de ações."
      ]
    },
    {
      "cell_type": "code",
      "execution_count": 36,
      "metadata": {
        "id": "H8BPfG8t-eZu"
      },
      "outputs": [],
      "source": [
        "df_ko = df_ko[['date', 'open', 'close']]"
      ]
    },
    {
      "cell_type": "markdown",
      "metadata": {
        "id": "6GzON3XR-ohH"
      },
      "source": [
        "Excelente, o problema é que as colunas com os valores possuem o carater `$` e são do tipo texto (`object` no `pandas`)."
      ]
    },
    {
      "cell_type": "code",
      "execution_count": 37,
      "metadata": {
        "id": "N-rvXLbD-ven"
      },
      "outputs": [
        {
          "data": {
            "text/html": [
              "<div>\n",
              "<style scoped>\n",
              "    .dataframe tbody tr th:only-of-type {\n",
              "        vertical-align: middle;\n",
              "    }\n",
              "\n",
              "    .dataframe tbody tr th {\n",
              "        vertical-align: top;\n",
              "    }\n",
              "\n",
              "    .dataframe thead th {\n",
              "        text-align: right;\n",
              "    }\n",
              "</style>\n",
              "<table border=\"1\" class=\"dataframe\">\n",
              "  <thead>\n",
              "    <tr style=\"text-align: right;\">\n",
              "      <th></th>\n",
              "      <th>date</th>\n",
              "      <th>open</th>\n",
              "      <th>close</th>\n",
              "    </tr>\n",
              "  </thead>\n",
              "  <tbody>\n",
              "    <tr>\n",
              "      <th>204</th>\n",
              "      <td>1/7/2011</td>\n",
              "      <td>$65.88</td>\n",
              "      <td>$62.92</td>\n",
              "    </tr>\n",
              "    <tr>\n",
              "      <th>205</th>\n",
              "      <td>1/14/2011</td>\n",
              "      <td>$62.70</td>\n",
              "      <td>$63.13</td>\n",
              "    </tr>\n",
              "    <tr>\n",
              "      <th>206</th>\n",
              "      <td>1/21/2011</td>\n",
              "      <td>$63.21</td>\n",
              "      <td>$62.77</td>\n",
              "    </tr>\n",
              "    <tr>\n",
              "      <th>207</th>\n",
              "      <td>1/28/2011</td>\n",
              "      <td>$62.87</td>\n",
              "      <td>$62.21</td>\n",
              "    </tr>\n",
              "    <tr>\n",
              "      <th>208</th>\n",
              "      <td>2/4/2011</td>\n",
              "      <td>$62.32</td>\n",
              "      <td>$62.56</td>\n",
              "    </tr>\n",
              "    <tr>\n",
              "      <th>209</th>\n",
              "      <td>2/11/2011</td>\n",
              "      <td>$62.67</td>\n",
              "      <td>$63.57</td>\n",
              "    </tr>\n",
              "    <tr>\n",
              "      <th>210</th>\n",
              "      <td>2/18/2011</td>\n",
              "      <td>$63.67</td>\n",
              "      <td>$64.55</td>\n",
              "    </tr>\n",
              "    <tr>\n",
              "      <th>211</th>\n",
              "      <td>2/25/2011</td>\n",
              "      <td>$63.36</td>\n",
              "      <td>$64.31</td>\n",
              "    </tr>\n",
              "    <tr>\n",
              "      <th>212</th>\n",
              "      <td>3/4/2011</td>\n",
              "      <td>$64.17</td>\n",
              "      <td>$65.21</td>\n",
              "    </tr>\n",
              "    <tr>\n",
              "      <th>213</th>\n",
              "      <td>3/11/2011</td>\n",
              "      <td>$65.32</td>\n",
              "      <td>$64.81</td>\n",
              "    </tr>\n",
              "  </tbody>\n",
              "</table>\n",
              "</div>"
            ],
            "text/plain": [
              "          date    open   close\n",
              "204   1/7/2011  $65.88  $62.92\n",
              "205  1/14/2011  $62.70  $63.13\n",
              "206  1/21/2011  $63.21  $62.77\n",
              "207  1/28/2011  $62.87  $62.21\n",
              "208   2/4/2011  $62.32  $62.56\n",
              "209  2/11/2011  $62.67  $63.57\n",
              "210  2/18/2011  $63.67  $64.55\n",
              "211  2/25/2011  $63.36  $64.31\n",
              "212   3/4/2011  $64.17  $65.21\n",
              "213  3/11/2011  $65.32  $64.81"
            ]
          },
          "execution_count": 37,
          "metadata": {},
          "output_type": "execute_result"
        }
      ],
      "source": [
        "# Visualize os dados do dataframe\n",
        "df_ko.head(n=10)"
      ]
    },
    {
      "cell_type": "code",
      "execution_count": 38,
      "metadata": {
        "id": "R-ElTN_P-zOZ"
      },
      "outputs": [
        {
          "data": {
            "text/plain": [
              "date     object\n",
              "open     object\n",
              "close    object\n",
              "dtype: object"
            ]
          },
          "execution_count": 38,
          "metadata": {},
          "output_type": "execute_result"
        }
      ],
      "source": [
        "# Verifique o tipo dos dados\n",
        "df_ko.dtypes"
      ]
    },
    {
      "cell_type": "markdown",
      "metadata": {
        "id": "92hVLZwJ-19w"
      },
      "source": [
        "Vamos limpar as colunas com o método `apply`, que permite a aplicação de uma função anônima (`lambda`) qualquer. A função `lambda` remove o caracter **$** e faz a conversão do tipo de `str` para `float`."
      ]
    },
    {
      "cell_type": "code",
      "execution_count": 39,
      "metadata": {
        "id": "bmSrE0Bx-5-U"
      },
      "outputs": [],
      "source": [
        "for col in ['open', 'close']:\n",
        "  df_ko[col] = df_ko[col].apply(lambda value: float(value.split(sep='$')[-1]))"
      ]
    },
    {
      "cell_type": "markdown",
      "metadata": {
        "id": "X5jYir-f_Axf"
      },
      "source": [
        "Verifique novamente os dados e seus tipos."
      ]
    },
    {
      "cell_type": "code",
      "execution_count": 40,
      "metadata": {
        "id": "8xyny0qy_BU0"
      },
      "outputs": [
        {
          "data": {
            "text/html": [
              "<div>\n",
              "<style scoped>\n",
              "    .dataframe tbody tr th:only-of-type {\n",
              "        vertical-align: middle;\n",
              "    }\n",
              "\n",
              "    .dataframe tbody tr th {\n",
              "        vertical-align: top;\n",
              "    }\n",
              "\n",
              "    .dataframe thead th {\n",
              "        text-align: right;\n",
              "    }\n",
              "</style>\n",
              "<table border=\"1\" class=\"dataframe\">\n",
              "  <thead>\n",
              "    <tr style=\"text-align: right;\">\n",
              "      <th></th>\n",
              "      <th>date</th>\n",
              "      <th>open</th>\n",
              "      <th>close</th>\n",
              "    </tr>\n",
              "  </thead>\n",
              "  <tbody>\n",
              "    <tr>\n",
              "      <th>204</th>\n",
              "      <td>1/7/2011</td>\n",
              "      <td>65.88</td>\n",
              "      <td>62.92</td>\n",
              "    </tr>\n",
              "    <tr>\n",
              "      <th>205</th>\n",
              "      <td>1/14/2011</td>\n",
              "      <td>62.70</td>\n",
              "      <td>63.13</td>\n",
              "    </tr>\n",
              "    <tr>\n",
              "      <th>206</th>\n",
              "      <td>1/21/2011</td>\n",
              "      <td>63.21</td>\n",
              "      <td>62.77</td>\n",
              "    </tr>\n",
              "    <tr>\n",
              "      <th>207</th>\n",
              "      <td>1/28/2011</td>\n",
              "      <td>62.87</td>\n",
              "      <td>62.21</td>\n",
              "    </tr>\n",
              "    <tr>\n",
              "      <th>208</th>\n",
              "      <td>2/4/2011</td>\n",
              "      <td>62.32</td>\n",
              "      <td>62.56</td>\n",
              "    </tr>\n",
              "    <tr>\n",
              "      <th>209</th>\n",
              "      <td>2/11/2011</td>\n",
              "      <td>62.67</td>\n",
              "      <td>63.57</td>\n",
              "    </tr>\n",
              "    <tr>\n",
              "      <th>210</th>\n",
              "      <td>2/18/2011</td>\n",
              "      <td>63.67</td>\n",
              "      <td>64.55</td>\n",
              "    </tr>\n",
              "    <tr>\n",
              "      <th>211</th>\n",
              "      <td>2/25/2011</td>\n",
              "      <td>63.36</td>\n",
              "      <td>64.31</td>\n",
              "    </tr>\n",
              "    <tr>\n",
              "      <th>212</th>\n",
              "      <td>3/4/2011</td>\n",
              "      <td>64.17</td>\n",
              "      <td>65.21</td>\n",
              "    </tr>\n",
              "    <tr>\n",
              "      <th>213</th>\n",
              "      <td>3/11/2011</td>\n",
              "      <td>65.32</td>\n",
              "      <td>64.81</td>\n",
              "    </tr>\n",
              "  </tbody>\n",
              "</table>\n",
              "</div>"
            ],
            "text/plain": [
              "          date   open  close\n",
              "204   1/7/2011  65.88  62.92\n",
              "205  1/14/2011  62.70  63.13\n",
              "206  1/21/2011  63.21  62.77\n",
              "207  1/28/2011  62.87  62.21\n",
              "208   2/4/2011  62.32  62.56\n",
              "209  2/11/2011  62.67  63.57\n",
              "210  2/18/2011  63.67  64.55\n",
              "211  2/25/2011  63.36  64.31\n",
              "212   3/4/2011  64.17  65.21\n",
              "213  3/11/2011  65.32  64.81"
            ]
          },
          "execution_count": 40,
          "metadata": {},
          "output_type": "execute_result"
        }
      ],
      "source": [
        "# Visualize novamente os dados do dataframe\n",
        "df_ko.head(n=10)"
      ]
    },
    {
      "cell_type": "code",
      "execution_count": 41,
      "metadata": {
        "id": "R6e7i5ry_BhV"
      },
      "outputs": [
        {
          "data": {
            "text/plain": [
              "date      object\n",
              "open     float64\n",
              "close    float64\n",
              "dtype: object"
            ]
          },
          "execution_count": 41,
          "metadata": {},
          "output_type": "execute_result"
        }
      ],
      "source": [
        "# Verifique novamente o tipo dos dados\n",
        "df_ko.dtypes"
      ]
    },
    {
      "cell_type": "markdown",
      "metadata": {
        "id": "pNBMYO0g--1X"
      },
      "source": [
        "Excelente, agora podemos explorar os dados visualmente."
      ]
    },
    {
      "cell_type": "markdown",
      "metadata": {
        "id": "AAyOBwWQkRJ-"
      },
      "source": [
        "---"
      ]
    },
    {
      "cell_type": "markdown",
      "metadata": {
        "id": "1YCQI-BskR5H"
      },
      "source": [
        "## 2\\. Seaborn"
      ]
    },
    {
      "cell_type": "markdown",
      "metadata": {
        "id": "VSgsKxY4kR5I"
      },
      "source": [
        "Para visualizar os dados, vamos utilizar o pacote `seaborn` na versão `0.11.1`. A documentação completa por ser encontrada neste [link](https://seaborn.pydata.org/)"
      ]
    },
    {
      "cell_type": "code",
      "execution_count": 42,
      "metadata": {
        "id": "fYNfn2eDs1MN"
      },
      "outputs": [
        {
          "name": "stdout",
          "output_type": "stream",
          "text": [
            "Requirement already satisfied: seaborn==0.11.1 in c:\\users\\soldado\\appdata\\local\\programs\\python\\python311\\lib\\site-packages (0.11.1)\n",
            "Requirement already satisfied: numpy>=1.15 in c:\\users\\soldado\\appdata\\local\\programs\\python\\python311\\lib\\site-packages (from seaborn==0.11.1) (1.25.2)\n",
            "Requirement already satisfied: scipy>=1.0 in c:\\users\\soldado\\appdata\\local\\programs\\python\\python311\\lib\\site-packages (from seaborn==0.11.1) (1.11.3)\n",
            "Requirement already satisfied: pandas>=0.23 in c:\\users\\soldado\\appdata\\local\\programs\\python\\python311\\lib\\site-packages (from seaborn==0.11.1) (2.1.1)\n",
            "Requirement already satisfied: matplotlib>=2.2 in c:\\users\\soldado\\appdata\\local\\programs\\python\\python311\\lib\\site-packages (from seaborn==0.11.1) (3.8.0)\n",
            "Requirement already satisfied: contourpy>=1.0.1 in c:\\users\\soldado\\appdata\\local\\programs\\python\\python311\\lib\\site-packages (from matplotlib>=2.2->seaborn==0.11.1) (1.1.1)\n",
            "Requirement already satisfied: cycler>=0.10 in c:\\users\\soldado\\appdata\\local\\programs\\python\\python311\\lib\\site-packages (from matplotlib>=2.2->seaborn==0.11.1) (0.12.0)\n",
            "Requirement already satisfied: fonttools>=4.22.0 in c:\\users\\soldado\\appdata\\local\\programs\\python\\python311\\lib\\site-packages (from matplotlib>=2.2->seaborn==0.11.1) (4.43.0)\n",
            "Requirement already satisfied: kiwisolver>=1.0.1 in c:\\users\\soldado\\appdata\\local\\programs\\python\\python311\\lib\\site-packages (from matplotlib>=2.2->seaborn==0.11.1) (1.4.5)\n",
            "Requirement already satisfied: packaging>=20.0 in c:\\users\\soldado\\appdata\\roaming\\python\\python311\\site-packages (from matplotlib>=2.2->seaborn==0.11.1) (23.1)\n",
            "Requirement already satisfied: pillow>=6.2.0 in c:\\users\\soldado\\appdata\\local\\programs\\python\\python311\\lib\\site-packages (from matplotlib>=2.2->seaborn==0.11.1) (10.0.1)\n",
            "Requirement already satisfied: pyparsing>=2.3.1 in c:\\users\\soldado\\appdata\\local\\programs\\python\\python311\\lib\\site-packages (from matplotlib>=2.2->seaborn==0.11.1) (3.1.1)\n",
            "Requirement already satisfied: python-dateutil>=2.7 in c:\\users\\soldado\\appdata\\roaming\\python\\python311\\site-packages (from matplotlib>=2.2->seaborn==0.11.1) (2.8.2)\n",
            "Requirement already satisfied: pytz>=2020.1 in c:\\users\\soldado\\appdata\\local\\programs\\python\\python311\\lib\\site-packages (from pandas>=0.23->seaborn==0.11.1) (2023.3.post1)\n",
            "Requirement already satisfied: tzdata>=2022.1 in c:\\users\\soldado\\appdata\\local\\programs\\python\\python311\\lib\\site-packages (from pandas>=0.23->seaborn==0.11.1) (2023.3)\n",
            "Requirement already satisfied: six>=1.5 in c:\\users\\soldado\\appdata\\roaming\\python\\python311\\site-packages (from python-dateutil>=2.7->matplotlib>=2.2->seaborn==0.11.1) (1.16.0)\n"
          ]
        },
        {
          "name": "stderr",
          "output_type": "stream",
          "text": [
            "\n",
            "[notice] A new release of pip is available: 23.2.1 -> 23.3.1\n",
            "[notice] To update, run: python.exe -m pip install --upgrade pip\n"
          ]
        }
      ],
      "source": [
        "!pip install seaborn==0.11.1"
      ]
    },
    {
      "cell_type": "markdown",
      "metadata": {
        "id": "DtuGrHyQ0CJ-"
      },
      "source": [
        "Vamos importar o pacote com o apelido (alias) `sns`."
      ]
    },
    {
      "cell_type": "code",
      "execution_count": 43,
      "metadata": {
        "id": "fAeWYQjis8E5"
      },
      "outputs": [],
      "source": [
        "import seaborn as sns"
      ]
    },
    {
      "cell_type": "markdown",
      "metadata": {
        "id": "TqYmOY1m0Eh3"
      },
      "source": [
        "Vamos visualizar os valores de abertura das ações ao longo do tempo."
      ]
    },
    {
      "cell_type": "code",
      "execution_count": 44,
      "metadata": {
        "id": "7-5D1wKcwAuO"
      },
      "outputs": [
        {
          "name": "stderr",
          "output_type": "stream",
          "text": [
            "c:\\Users\\Soldado\\AppData\\Local\\Programs\\Python\\Python311\\Lib\\site-packages\\seaborn\\_core.py:1218: FutureWarning: is_categorical_dtype is deprecated and will be removed in a future version. Use isinstance(dtype, CategoricalDtype) instead\n",
            "  if pd.api.types.is_categorical_dtype(vector):\n",
            "c:\\Users\\Soldado\\AppData\\Local\\Programs\\Python\\Python311\\Lib\\site-packages\\seaborn\\_core.py:1218: FutureWarning: is_categorical_dtype is deprecated and will be removed in a future version. Use isinstance(dtype, CategoricalDtype) instead\n",
            "  if pd.api.types.is_categorical_dtype(vector):\n",
            "c:\\Users\\Soldado\\AppData\\Local\\Programs\\Python\\Python311\\Lib\\site-packages\\seaborn\\_core.py:1218: FutureWarning: is_categorical_dtype is deprecated and will be removed in a future version. Use isinstance(dtype, CategoricalDtype) instead\n",
            "  if pd.api.types.is_categorical_dtype(vector):\n",
            "C:\\Users\\Soldado\\AppData\\Local\\Temp\\ipykernel_19924\\658524293.py:2: UserWarning: set_ticklabels() should only be used with a fixed number of ticks, i.e. after set_ticks() or using a FixedLocator.\n",
            "  _ = plot.set_xticklabels(labels=df_mcd['date'], rotation=90)\n"
          ]
        },
        {
          "data": {
            "image/png": "[encoded data removed]",
            "text/plain": [
              "<Figure size 640x480 with 1 Axes>"
            ]
          },
          "metadata": {},
          "output_type": "display_data"
        }
      ],
      "source": [
        "plot = sns.lineplot(x=\"date\", y=\"open\", data=df_mcd)\n",
        "_ = plot.set_xticklabels(labels=df_mcd['date'], rotation=90)"
      ]
    },
    {
      "cell_type": "markdown",
      "metadata": {
        "id": "gh5Fz23t0MA-"
      },
      "source": [
        "Vamos também visualizar os valores de fechamento das ações ao longo do tempo."
      ]
    },
    {
      "cell_type": "code",
      "execution_count": 45,
      "metadata": {
        "id": "5QARzs47wP_O"
      },
      "outputs": [
        {
          "name": "stderr",
          "output_type": "stream",
          "text": [
            "c:\\Users\\Soldado\\AppData\\Local\\Programs\\Python\\Python311\\Lib\\site-packages\\seaborn\\_core.py:1218: FutureWarning: is_categorical_dtype is deprecated and will be removed in a future version. Use isinstance(dtype, CategoricalDtype) instead\n",
            "  if pd.api.types.is_categorical_dtype(vector):\n",
            "c:\\Users\\Soldado\\AppData\\Local\\Programs\\Python\\Python311\\Lib\\site-packages\\seaborn\\_core.py:1218: FutureWarning: is_categorical_dtype is deprecated and will be removed in a future version. Use isinstance(dtype, CategoricalDtype) instead\n",
            "  if pd.api.types.is_categorical_dtype(vector):\n",
            "c:\\Users\\Soldado\\AppData\\Local\\Programs\\Python\\Python311\\Lib\\site-packages\\seaborn\\_core.py:1218: FutureWarning: is_categorical_dtype is deprecated and will be removed in a future version. Use isinstance(dtype, CategoricalDtype) instead\n",
            "  if pd.api.types.is_categorical_dtype(vector):\n",
            "C:\\Users\\Soldado\\AppData\\Local\\Temp\\ipykernel_19924\\3812770621.py:2: UserWarning: set_ticklabels() should only be used with a fixed number of ticks, i.e. after set_ticks() or using a FixedLocator.\n",
            "  _ = plot.set_xticklabels(labels=df_mcd['date'], rotation=90)\n"
          ]
        },
        {
          "data": {
            "image/png": "[encoded data removed]",
            "text/plain": [
              "<Figure size 640x480 with 1 Axes>"
            ]
          },
          "metadata": {},
          "output_type": "display_data"
        }
      ],
      "source": [
        "plot = sns.lineplot(x=\"date\", y=\"close\", data=df_mcd)\n",
        "_ = plot.set_xticklabels(labels=df_mcd['date'], rotation=90)"
      ]
    },
    {
      "cell_type": "markdown",
      "metadata": {
        "id": "08BOzhId0TfH"
      },
      "source": [
        "Para facilitar a comparação, vamo visualizar os quatro valores no mesmo gráfico."
      ]
    },
    {
      "cell_type": "code",
      "execution_count": 46,
      "metadata": {
        "id": "boKoMZbXtAJV"
      },
      "outputs": [
        {
          "name": "stderr",
          "output_type": "stream",
          "text": [
            "c:\\Users\\Soldado\\AppData\\Local\\Programs\\Python\\Python311\\Lib\\site-packages\\seaborn\\_core.py:1218: FutureWarning: is_categorical_dtype is deprecated and will be removed in a future version. Use isinstance(dtype, CategoricalDtype) instead\n",
            "  if pd.api.types.is_categorical_dtype(vector):\n",
            "c:\\Users\\Soldado\\AppData\\Local\\Programs\\Python\\Python311\\Lib\\site-packages\\seaborn\\_core.py:1218: FutureWarning: is_categorical_dtype is deprecated and will be removed in a future version. Use isinstance(dtype, CategoricalDtype) instead\n",
            "  if pd.api.types.is_categorical_dtype(vector):\n",
            "c:\\Users\\Soldado\\AppData\\Local\\Programs\\Python\\Python311\\Lib\\site-packages\\seaborn\\_core.py:1218: FutureWarning: is_categorical_dtype is deprecated and will be removed in a future version. Use isinstance(dtype, CategoricalDtype) instead\n",
            "  if pd.api.types.is_categorical_dtype(vector):\n",
            "c:\\Users\\Soldado\\AppData\\Local\\Programs\\Python\\Python311\\Lib\\site-packages\\seaborn\\_core.py:1218: FutureWarning: is_categorical_dtype is deprecated and will be removed in a future version. Use isinstance(dtype, CategoricalDtype) instead\n",
            "  if pd.api.types.is_categorical_dtype(vector):\n",
            "c:\\Users\\Soldado\\AppData\\Local\\Programs\\Python\\Python311\\Lib\\site-packages\\seaborn\\_core.py:1218: FutureWarning: is_categorical_dtype is deprecated and will be removed in a future version. Use isinstance(dtype, CategoricalDtype) instead\n",
            "  if pd.api.types.is_categorical_dtype(vector):\n",
            "c:\\Users\\Soldado\\AppData\\Local\\Programs\\Python\\Python311\\Lib\\site-packages\\seaborn\\_core.py:1218: FutureWarning: is_categorical_dtype is deprecated and will be removed in a future version. Use isinstance(dtype, CategoricalDtype) instead\n",
            "  if pd.api.types.is_categorical_dtype(vector):\n",
            "C:\\Users\\Soldado\\AppData\\Local\\Temp\\ipykernel_19924\\586032900.py:2: UserWarning: set_ticklabels() should only be used with a fixed number of ticks, i.e. after set_ticks() or using a FixedLocator.\n",
            "  _ = plot.set_xticklabels(labels=df_mcd['date'], rotation=90)\n"
          ]
        },
        {
          "data": {
            "image/png": "[encoded data removed]",
            "text/plain": [
              "<Figure size 640x480 with 1 Axes>"
            ]
          },
          "metadata": {},
          "output_type": "display_data"
        }
      ],
      "source": [
        "plot = sns.lineplot(x=\"date\", y=\"value\", hue='variable', data=pd.melt(df_mcd, ['date']))\n",
        "_ = plot.set_xticklabels(labels=df_mcd['date'], rotation=90)"
      ]
    },
    {
      "cell_type": "markdown",
      "metadata": {
        "id": "H6nM4hJQ1mnb"
      },
      "source": [
        "Para finalizar, vamos salvar o gráfico numa figura."
      ]
    },
    {
      "cell_type": "code",
      "execution_count": 47,
      "metadata": {
        "id": "I7Wncbvd1lzE"
      },
      "outputs": [],
      "source": [
        "plot.figure.savefig(\"./coca-cola.png\")"
      ]
    },
    {
      "cell_type": "markdown",
      "metadata": {
        "id": "4mJNcUM7kR5J"
      },
      "source": [
        "**Agora é a sua vez,** faça o gráfico acima para a empresa Coca-Cola e salve a imagem com o nome `ko.png`."
      ]
    },
    {
      "cell_type": "code",
      "execution_count": 48,
      "metadata": {
        "id": "0S_xMlt_zjwV"
      },
      "outputs": [
        {
          "name": "stderr",
          "output_type": "stream",
          "text": [
            "c:\\Users\\Soldado\\AppData\\Local\\Programs\\Python\\Python311\\Lib\\site-packages\\seaborn\\_core.py:1218: FutureWarning: is_categorical_dtype is deprecated and will be removed in a future version. Use isinstance(dtype, CategoricalDtype) instead\n",
            "  if pd.api.types.is_categorical_dtype(vector):\n",
            "c:\\Users\\Soldado\\AppData\\Local\\Programs\\Python\\Python311\\Lib\\site-packages\\seaborn\\_core.py:1218: FutureWarning: is_categorical_dtype is deprecated and will be removed in a future version. Use isinstance(dtype, CategoricalDtype) instead\n",
            "  if pd.api.types.is_categorical_dtype(vector):\n",
            "c:\\Users\\Soldado\\AppData\\Local\\Programs\\Python\\Python311\\Lib\\site-packages\\seaborn\\_core.py:1218: FutureWarning: is_categorical_dtype is deprecated and will be removed in a future version. Use isinstance(dtype, CategoricalDtype) instead\n",
            "  if pd.api.types.is_categorical_dtype(vector):\n",
            "C:\\Users\\Soldado\\AppData\\Local\\Temp\\ipykernel_19924\\437458.py:3: UserWarning: set_ticklabels() should only be used with a fixed number of ticks, i.e. after set_ticks() or using a FixedLocator.\n",
            "  _ = plot.set_xticklabels(labels=df_ko['date'], rotation=90)\n"
          ]
        },
        {
          "data": {
            "image/png": "[encoded data removed]",
            "text/plain": [
              "<Figure size 640x480 with 1 Axes>"
            ]
          },
          "metadata": {},
          "output_type": "display_data"
        }
      ],
      "source": [
        "# visualização dos dados da Coca-Cola.\n",
        "plot = sns.lineplot(x=\"date\", y=\"open\", data=df_ko)\n",
        "_ = plot.set_xticklabels(labels=df_ko['date'], rotation=90)"
      ]
    },
    {
      "cell_type": "markdown",
      "metadata": {
        "id": "0rYmjC-q_jCc"
      },
      "source": [
        "Vamos visualizar os valores de abertura das ações ao longo do tempo."
      ]
    },
    {
      "cell_type": "code",
      "execution_count": 49,
      "metadata": {
        "id": "SxPl6w-s_kVm"
      },
      "outputs": [
        {
          "name": "stderr",
          "output_type": "stream",
          "text": [
            "c:\\Users\\Soldado\\AppData\\Local\\Programs\\Python\\Python311\\Lib\\site-packages\\seaborn\\_core.py:1218: FutureWarning: is_categorical_dtype is deprecated and will be removed in a future version. Use isinstance(dtype, CategoricalDtype) instead\n",
            "  if pd.api.types.is_categorical_dtype(vector):\n",
            "c:\\Users\\Soldado\\AppData\\Local\\Programs\\Python\\Python311\\Lib\\site-packages\\seaborn\\_core.py:1218: FutureWarning: is_categorical_dtype is deprecated and will be removed in a future version. Use isinstance(dtype, CategoricalDtype) instead\n",
            "  if pd.api.types.is_categorical_dtype(vector):\n",
            "c:\\Users\\Soldado\\AppData\\Local\\Programs\\Python\\Python311\\Lib\\site-packages\\seaborn\\_core.py:1218: FutureWarning: is_categorical_dtype is deprecated and will be removed in a future version. Use isinstance(dtype, CategoricalDtype) instead\n",
            "  if pd.api.types.is_categorical_dtype(vector):\n",
            "C:\\Users\\Soldado\\AppData\\Local\\Temp\\ipykernel_19924\\3627498300.py:2: UserWarning: set_ticklabels() should only be used with a fixed number of ticks, i.e. after set_ticks() or using a FixedLocator.\n",
            "  _ = plot.set_xticklabels(labels=df_ko['date'], rotation=90)\n"
          ]
        },
        {
          "data": {
            "image/png": "[encoded data removed]",
            "text/plain": [
              "<Figure size 640x480 with 1 Axes>"
            ]
          },
          "metadata": {},
          "output_type": "display_data"
        }
      ],
      "source": [
        "plot = sns.lineplot(x=\"date\", y=\"open\", data=df_ko)\n",
        "_ = plot.set_xticklabels(labels=df_ko['date'], rotation=90)"
      ]
    },
    {
      "cell_type": "markdown",
      "metadata": {
        "id": "d3GrC1rl_m4_"
      },
      "source": [
        "Vamos também visualizar os valores de fechamento das ações ao longo do tempo."
      ]
    },
    {
      "cell_type": "code",
      "execution_count": 50,
      "metadata": {
        "id": "VBSyo4p3_nvb"
      },
      "outputs": [
        {
          "name": "stderr",
          "output_type": "stream",
          "text": [
            "c:\\Users\\Soldado\\AppData\\Local\\Programs\\Python\\Python311\\Lib\\site-packages\\seaborn\\_core.py:1218: FutureWarning: is_categorical_dtype is deprecated and will be removed in a future version. Use isinstance(dtype, CategoricalDtype) instead\n",
            "  if pd.api.types.is_categorical_dtype(vector):\n",
            "c:\\Users\\Soldado\\AppData\\Local\\Programs\\Python\\Python311\\Lib\\site-packages\\seaborn\\_core.py:1218: FutureWarning: is_categorical_dtype is deprecated and will be removed in a future version. Use isinstance(dtype, CategoricalDtype) instead\n",
            "  if pd.api.types.is_categorical_dtype(vector):\n",
            "c:\\Users\\Soldado\\AppData\\Local\\Programs\\Python\\Python311\\Lib\\site-packages\\seaborn\\_core.py:1218: FutureWarning: is_categorical_dtype is deprecated and will be removed in a future version. Use isinstance(dtype, CategoricalDtype) instead\n",
            "  if pd.api.types.is_categorical_dtype(vector):\n",
            "C:\\Users\\Soldado\\AppData\\Local\\Temp\\ipykernel_19924\\3015406096.py:2: UserWarning: set_ticklabels() should only be used with a fixed number of ticks, i.e. after set_ticks() or using a FixedLocator.\n",
            "  _ = plot.set_xticklabels(labels=df_ko['date'], rotation=90)\n"
          ]
        },
        {
          "data": {
            "image/png": "[encoded data removed]",
            "text/plain": [
              "<Figure size 640x480 with 1 Axes>"
            ]
          },
          "metadata": {},
          "output_type": "display_data"
        }
      ],
      "source": [
        "plot = sns.lineplot(x=\"date\", y=\"close\", data=df_ko)\n",
        "_ = plot.set_xticklabels(labels=df_ko['date'], rotation=90)"
      ]
    },
    {
      "cell_type": "markdown",
      "metadata": {
        "id": "a9hHy2nA_qII"
      },
      "source": [
        "Para facilitar a comparação, vamo visualizar os quatro valores no mesmo gráfico."
      ]
    },
    {
      "cell_type": "code",
      "execution_count": 51,
      "metadata": {
        "id": "CM8Ghjdw_rt7"
      },
      "outputs": [
        {
          "name": "stderr",
          "output_type": "stream",
          "text": [
            "c:\\Users\\Soldado\\AppData\\Local\\Programs\\Python\\Python311\\Lib\\site-packages\\seaborn\\_core.py:1218: FutureWarning: is_categorical_dtype is deprecated and will be removed in a future version. Use isinstance(dtype, CategoricalDtype) instead\n",
            "  if pd.api.types.is_categorical_dtype(vector):\n",
            "c:\\Users\\Soldado\\AppData\\Local\\Programs\\Python\\Python311\\Lib\\site-packages\\seaborn\\_core.py:1218: FutureWarning: is_categorical_dtype is deprecated and will be removed in a future version. Use isinstance(dtype, CategoricalDtype) instead\n",
            "  if pd.api.types.is_categorical_dtype(vector):\n",
            "c:\\Users\\Soldado\\AppData\\Local\\Programs\\Python\\Python311\\Lib\\site-packages\\seaborn\\_core.py:1218: FutureWarning: is_categorical_dtype is deprecated and will be removed in a future version. Use isinstance(dtype, CategoricalDtype) instead\n",
            "  if pd.api.types.is_categorical_dtype(vector):\n",
            "c:\\Users\\Soldado\\AppData\\Local\\Programs\\Python\\Python311\\Lib\\site-packages\\seaborn\\_core.py:1218: FutureWarning: is_categorical_dtype is deprecated and will be removed in a future version. Use isinstance(dtype, CategoricalDtype) instead\n",
            "  if pd.api.types.is_categorical_dtype(vector):\n",
            "c:\\Users\\Soldado\\AppData\\Local\\Programs\\Python\\Python311\\Lib\\site-packages\\seaborn\\_core.py:1218: FutureWarning: is_categorical_dtype is deprecated and will be removed in a future version. Use isinstance(dtype, CategoricalDtype) instead\n",
            "  if pd.api.types.is_categorical_dtype(vector):\n",
            "c:\\Users\\Soldado\\AppData\\Local\\Programs\\Python\\Python311\\Lib\\site-packages\\seaborn\\_core.py:1218: FutureWarning: is_categorical_dtype is deprecated and will be removed in a future version. Use isinstance(dtype, CategoricalDtype) instead\n",
            "  if pd.api.types.is_categorical_dtype(vector):\n",
            "C:\\Users\\Soldado\\AppData\\Local\\Temp\\ipykernel_19924\\873138862.py:2: UserWarning: set_ticklabels() should only be used with a fixed number of ticks, i.e. after set_ticks() or using a FixedLocator.\n",
            "  _ = plot.set_xticklabels(labels=df_ko['date'], rotation=90)\n"
          ]
        },
        {
          "data": {
            "image/png": "[encoded data removed]",
            "text/plain": [
              "<Figure size 640x480 with 1 Axes>"
            ]
          },
          "metadata": {},
          "output_type": "display_data"
        }
      ],
      "source": [
        "plot = sns.lineplot(x=\"date\", y=\"value\", hue='variable', data=pd.melt(df_ko, ['date']))\n",
        "_ = plot.set_xticklabels(labels=df_ko['date'], rotation=90)"
      ]
    },
    {
      "cell_type": "markdown",
      "metadata": {
        "id": "A1ul0Eve_vW3"
      },
      "source": [
        "Para finalizar, vamos salvar o gráfico numa figura."
      ]
    },
    {
      "cell_type": "code",
      "execution_count": 52,
      "metadata": {
        "id": "V7yzkTck_wFv"
      },
      "outputs": [],
      "source": [
        "plot.figure.savefig(\"./coca-cola.png\")"
      ]
    },
    {
      "cell_type": "markdown",
      "metadata": {
        "id": "fYM0WRi0zoQx"
      },
      "source": [
        "Analise as duas imagens e escreva pelo menos um *insight* que você consegue extrair dos dados. Fique a vontade para escrever quantos *insights* você quiser."
      ]
    },
    {
      "cell_type": "markdown",
      "metadata": {
        "id": "0RT4NASCA5QI"
      },
      "source": [
        "Obs: *Insights* são observações sobre o que você percebe/entende/interpreta em suas análises. No caso deste exercício, você vai analisar os dados dos gráficos da empresa McDonalds e da empresa Cola-Cola e notar o que os dados gerados podem ser interessante, que tipo de interpretação o comportamento dos dados estão te trazendo."
      ]
    },
    {
      "cell_type": "markdown",
      "metadata": {
        "id": "xGcI2Yl-0xBY"
      },
      "source": [
        "**Insight #1**: ...\n",
        "\n",
        "O gráfico apresenta duas linhas que representam os valores de fechamento (linha laranja) e abertura (linha azul) das ações de uma determinada empresa no período de tempo.\n",
        "\n",
        "Em geral, o valor de fechamento é superior ao valor de abertura, o que pode indicar que o preço das ações tende a aumentar ao longo do dia de negociação. No entanto, existem alguns pontos onde as duas linhas se cruzam."
      ]
    },
    {
      "cell_type": "markdown",
      "metadata": {},
      "source": [
        "**Insight #2**: ...\n",
        "\n",
        "Podemos observar que o intervalo de valores no eixo y está entre 62 e 68. Isto sugere que, apesar das flutuações diárias, o preço das ações permaneceu relativamente estável ao longo do período representado em o gráfico.\n",
        "\n",
        "Além disso, não parece haver uma clara tendência ascendente ou descendente durante o período considerado. Isso pode indicar que a empresa teve um desempenho estável nesse período."
      ]
    },
    {
      "cell_type": "markdown",
      "metadata": {
        "id": "8Ubx9z_NkR5K"
      },
      "source": [
        "---"
      ]
    }
  ],
  "metadata": {
    "colab": {
      "collapsed_sections": [],
      "name": "modulo_7_exercicio-revisado.ipynb",
      "provenance": [],
      "toc_visible": true
    },
    "kernelspec": {
      "display_name": "Python 3",
      "name": "python3"
    },
    "language_info": {
      "codemirror_mode": {
        "name": "ipython",
        "version": 3
      },
      "file_extension": ".py",
      "mimetype": "text/x-python",
      "name": "python",
      "nbconvert_exporter": "python",
      "pygments_lexer": "ipython3",
      "version": "3.11.5"
    }
  },
  "nbformat": 4,
  "nbformat_minor": 0
}

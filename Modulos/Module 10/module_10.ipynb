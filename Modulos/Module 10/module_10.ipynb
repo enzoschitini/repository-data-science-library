{
  "cells": [
    {
      "cell_type": "markdown",
      "metadata": {
        "id": "KJqp9AANOCtf"
      },
      "source": [
        "<img src=\"image/Group.png\" alt=\"ebac-logo\">\n",
        "\n",
        "---\n",
        "\n",
        "# **Módulo** | Python: Projeto Final\n",
        "Caderno de **Aula**<br> \n",
        "Desenvolvedor [Enzo Schitini](https://enzo-schitini.bubbleapps.io/version-test/)\n",
        "\n",
        "---"
      ]
    },
    {
      "cell_type": "markdown",
      "metadata": {
        "id": "d9jDtUbDOE1-"
      },
      "source": [
        "# **Tópicos**\n",
        "\n",
        "<ol type=\"1\">\n",
        "  <li>Introdução ao Kaggle;</li>\n",
        "  <li>Exploração de dados;</li>\n",
        "  <li>Transformação e limpeza de dados;</li>\n",
        "  <li>Visualização de dados;</li>\n",
        "  <li>Storytelling.</li>\n",
        "</ol>\n"
      ]
    },
    {
      "cell_type": "markdown",
      "metadata": {
        "id": "SmoHgt-lwkpD"
      },
      "source": [
        "---"
      ]
    },
    {
      "cell_type": "markdown",
      "metadata": {
        "id": "GABI6OW8OfQ2"
      },
      "source": [
        "# **Aulas**"
      ]
    },
    {
      "cell_type": "markdown",
      "metadata": {
        "id": "muD1vxozykSC"
      },
      "source": [
        "## 1\\. Introdução ao Kaggle"
      ]
    },
    {
      "cell_type": "markdown",
      "metadata": {
        "id": "xnsoZc_wI0sl"
      },
      "source": [
        "[Kaggle](https://www.kaggle.com/) é a maior comunidade online de ciência de dados e aprendizado de máquina. A plataforma permite que usuários encontrem e publiquem conjuntos de **dados**, construam e compartilhem **notebooks** (como este do Google Colab) e participem de **competições** (que pagam muito dinheiro as vezes) e desafios de dados. "
      ]
    },
    {
      "cell_type": "markdown",
      "metadata": {
        "id": "7BqRKqRGJ0i2"
      },
      "source": [
        "> Vamos publicar nosso notebook de exercícios na plataforma web do Kaggle para que você possa compartilhar tudo o que você aprendeu neste curso e compor o seu portfólio."
      ]
    },
    {
      "cell_type": "markdown",
      "metadata": {
        "id": "4rRCvy_UURrM"
      },
      "source": [
        "## 2\\. Exploração de Dados"
      ]
    },
    {
      "cell_type": "markdown",
      "metadata": {
        "id": "ByX7SUjNKk2K"
      },
      "source": [
        "Vamos explorar dados de crédito presentes neste neste [link](https://raw.githubusercontent.com/andre-marcos-perez/ebac-course-utils/develop/dataset/credito.csv). Os dados estão no formato CSV e contém informações sobre clientes de uma instituição financeira. Em especial, estamos interessados em explicar a segunda coluna, chamada de **default**, que indica se um cliente é adimplente(`default = 0`), ou inadimplente (`default = 1`), ou seja, queremos entender o porque um cliente deixa de honrar com suas dívidas baseado no comportamento de outros atributos, como salário, escolaridade e movimentação financeira. Uma descrição completa dos atributos está abaixo."
      ]
    },
    {
      "cell_type": "markdown",
      "metadata": {
        "id": "34x6dra_9Hjq"
      },
      "source": [
        "> O atributo de interesse (`default`) é conhecido como **variável resposta** ou **variável dependente**, já os demais atributos que buscam explicá-la (`idade`, `salário`, etc.) são conhecidas como **variáveis explicatívas**, **variáveis independentes** ou até **variáveis preditoras**."
      ]
    },
    {
      "cell_type": "markdown",
      "metadata": {
        "id": "Z5Fd0NSVLnwE"
      },
      "source": [
        "\n",
        "\n",
        "| Coluna  | Descrição |\n",
        "| ------- | --------- |\n",
        "| id      | Número da conta |\n",
        "| default | Indica se o cliente é adimplente (0) ou inadimplente (1) |\n",
        "| idade   | --- |\n",
        "| sexo    | --- |\n",
        "| depedentes | --- |\n",
        "| escolaridade | --- |\n",
        "| estado_civil | --- |\n",
        "| salario_anual | Faixa do salario mensal multiplicado por 12 |\n",
        "| tipo_cartao | Categoria do cartao: blue, silver, gold e platinium |\n",
        "| meses_de_relacionamento | Quantidade de meses desde a abertura da conta |\n",
        "| qtd_produtos | Quantidade de produtos contratados |\n",
        "| iteracoes_12m | Quantidade de iteracoes com o cliente no último ano |\n",
        "| meses_inatico_12m | Quantidade de meses que o cliente ficou inativo no último ano |\n",
        "| limite_credito | Valor do limite do cartão de crédito |\n",
        "| valor_transacoes_12m | Soma total do valor das transações no cartão de crédito no último ano |\n",
        "| qtd_transacoes_12m | Quantidade total de transações no cartão de crédito no último ano |\n",
        "\n"
      ]
    },
    {
      "cell_type": "markdown",
      "metadata": {
        "id": "qn84FpdD-Gmk"
      },
      "source": [
        "Vamos começar lendos os dados num dataframe `pandas`."
      ]
    },
    {
      "cell_type": "code",
      "execution_count": 146,
      "metadata": {
        "id": "2y8zAhgFK1rs"
      },
      "outputs": [],
      "source": [
        "import pandas as pd\n",
        "import matplotlib as plt"
      ]
    },
    {
      "cell_type": "code",
      "execution_count": 147,
      "metadata": {
        "id": "Oc1o3fzfKdhx"
      },
      "outputs": [],
      "source": [
        "df = pd.read_csv('https://raw.githubusercontent.com/andre-marcos-perez/ebac-course-utils/develop/dataset/credito.csv', na_values='na')"
      ]
    },
    {
      "cell_type": "code",
      "execution_count": 148,
      "metadata": {
        "id": "QCKDeFk_KtrW"
      },
      "outputs": [
        {
          "data": {
            "text/html": [
              "<div>\n",
              "<style scoped>\n",
              "    .dataframe tbody tr th:only-of-type {\n",
              "        vertical-align: middle;\n",
              "    }\n",
              "\n",
              "    .dataframe tbody tr th {\n",
              "        vertical-align: top;\n",
              "    }\n",
              "\n",
              "    .dataframe thead th {\n",
              "        text-align: right;\n",
              "    }\n",
              "</style>\n",
              "<table border=\"1\" class=\"dataframe\">\n",
              "  <thead>\n",
              "    <tr style=\"text-align: right;\">\n",
              "      <th></th>\n",
              "      <th>id</th>\n",
              "      <th>default</th>\n",
              "      <th>idade</th>\n",
              "      <th>sexo</th>\n",
              "      <th>dependentes</th>\n",
              "      <th>escolaridade</th>\n",
              "      <th>estado_civil</th>\n",
              "      <th>salario_anual</th>\n",
              "      <th>tipo_cartao</th>\n",
              "      <th>meses_de_relacionamento</th>\n",
              "      <th>qtd_produtos</th>\n",
              "      <th>iteracoes_12m</th>\n",
              "      <th>meses_inativo_12m</th>\n",
              "      <th>limite_credito</th>\n",
              "      <th>valor_transacoes_12m</th>\n",
              "      <th>qtd_transacoes_12m</th>\n",
              "    </tr>\n",
              "  </thead>\n",
              "  <tbody>\n",
              "    <tr>\n",
              "      <th>0</th>\n",
              "      <td>768805383</td>\n",
              "      <td>0</td>\n",
              "      <td>45</td>\n",
              "      <td>M</td>\n",
              "      <td>3</td>\n",
              "      <td>ensino medio</td>\n",
              "      <td>casado</td>\n",
              "      <td>$60K - $80K</td>\n",
              "      <td>blue</td>\n",
              "      <td>39</td>\n",
              "      <td>5</td>\n",
              "      <td>3</td>\n",
              "      <td>1</td>\n",
              "      <td>12.691,51</td>\n",
              "      <td>1.144,90</td>\n",
              "      <td>42</td>\n",
              "    </tr>\n",
              "    <tr>\n",
              "      <th>1</th>\n",
              "      <td>818770008</td>\n",
              "      <td>0</td>\n",
              "      <td>49</td>\n",
              "      <td>F</td>\n",
              "      <td>5</td>\n",
              "      <td>mestrado</td>\n",
              "      <td>solteiro</td>\n",
              "      <td>menos que $40K</td>\n",
              "      <td>blue</td>\n",
              "      <td>44</td>\n",
              "      <td>6</td>\n",
              "      <td>2</td>\n",
              "      <td>1</td>\n",
              "      <td>8.256,96</td>\n",
              "      <td>1.291,45</td>\n",
              "      <td>33</td>\n",
              "    </tr>\n",
              "    <tr>\n",
              "      <th>2</th>\n",
              "      <td>713982108</td>\n",
              "      <td>0</td>\n",
              "      <td>51</td>\n",
              "      <td>M</td>\n",
              "      <td>3</td>\n",
              "      <td>mestrado</td>\n",
              "      <td>casado</td>\n",
              "      <td>$80K - $120K</td>\n",
              "      <td>blue</td>\n",
              "      <td>36</td>\n",
              "      <td>4</td>\n",
              "      <td>0</td>\n",
              "      <td>1</td>\n",
              "      <td>3.418,56</td>\n",
              "      <td>1.887,72</td>\n",
              "      <td>20</td>\n",
              "    </tr>\n",
              "    <tr>\n",
              "      <th>3</th>\n",
              "      <td>769911858</td>\n",
              "      <td>0</td>\n",
              "      <td>40</td>\n",
              "      <td>F</td>\n",
              "      <td>4</td>\n",
              "      <td>ensino medio</td>\n",
              "      <td>NaN</td>\n",
              "      <td>menos que $40K</td>\n",
              "      <td>blue</td>\n",
              "      <td>34</td>\n",
              "      <td>3</td>\n",
              "      <td>1</td>\n",
              "      <td>4</td>\n",
              "      <td>3.313,03</td>\n",
              "      <td>1.171,56</td>\n",
              "      <td>20</td>\n",
              "    </tr>\n",
              "    <tr>\n",
              "      <th>4</th>\n",
              "      <td>709106358</td>\n",
              "      <td>0</td>\n",
              "      <td>40</td>\n",
              "      <td>M</td>\n",
              "      <td>3</td>\n",
              "      <td>sem educacao formal</td>\n",
              "      <td>casado</td>\n",
              "      <td>$60K - $80K</td>\n",
              "      <td>blue</td>\n",
              "      <td>21</td>\n",
              "      <td>5</td>\n",
              "      <td>0</td>\n",
              "      <td>1</td>\n",
              "      <td>4.716,22</td>\n",
              "      <td>816,08</td>\n",
              "      <td>28</td>\n",
              "    </tr>\n",
              "    <tr>\n",
              "      <th>5</th>\n",
              "      <td>713061558</td>\n",
              "      <td>0</td>\n",
              "      <td>44</td>\n",
              "      <td>M</td>\n",
              "      <td>2</td>\n",
              "      <td>mestrado</td>\n",
              "      <td>casado</td>\n",
              "      <td>$40K - $60K</td>\n",
              "      <td>blue</td>\n",
              "      <td>36</td>\n",
              "      <td>3</td>\n",
              "      <td>2</td>\n",
              "      <td>1</td>\n",
              "      <td>4.010,69</td>\n",
              "      <td>1.088,07</td>\n",
              "      <td>24</td>\n",
              "    </tr>\n",
              "  </tbody>\n",
              "</table>\n",
              "</div>"
            ],
            "text/plain": [
              "          id  default  idade sexo  dependentes         escolaridade  \\\n",
              "0  768805383        0     45    M            3         ensino medio   \n",
              "1  818770008        0     49    F            5             mestrado   \n",
              "2  713982108        0     51    M            3             mestrado   \n",
              "3  769911858        0     40    F            4         ensino medio   \n",
              "4  709106358        0     40    M            3  sem educacao formal   \n",
              "5  713061558        0     44    M            2             mestrado   \n",
              "\n",
              "  estado_civil   salario_anual tipo_cartao  meses_de_relacionamento  \\\n",
              "0       casado     $60K - $80K        blue                       39   \n",
              "1     solteiro  menos que $40K        blue                       44   \n",
              "2       casado    $80K - $120K        blue                       36   \n",
              "3          NaN  menos que $40K        blue                       34   \n",
              "4       casado     $60K - $80K        blue                       21   \n",
              "5       casado     $40K - $60K        blue                       36   \n",
              "\n",
              "   qtd_produtos  iteracoes_12m  meses_inativo_12m limite_credito  \\\n",
              "0             5              3                  1      12.691,51   \n",
              "1             6              2                  1       8.256,96   \n",
              "2             4              0                  1       3.418,56   \n",
              "3             3              1                  4       3.313,03   \n",
              "4             5              0                  1       4.716,22   \n",
              "5             3              2                  1       4.010,69   \n",
              "\n",
              "  valor_transacoes_12m  qtd_transacoes_12m  \n",
              "0             1.144,90                  42  \n",
              "1             1.291,45                  33  \n",
              "2             1.887,72                  20  \n",
              "3             1.171,56                  20  \n",
              "4               816,08                  28  \n",
              "5             1.088,07                  24  "
            ]
          },
          "execution_count": 148,
          "metadata": {},
          "output_type": "execute_result"
        }
      ],
      "source": [
        "df.head(n=6)"
      ]
    },
    {
      "cell_type": "markdown",
      "metadata": {
        "id": "r7pm8Ar5-PBS"
      },
      "source": [
        "Com o dados em mãos, vamos conhecer um pouco melhor a estrutura do nosso conjunto de dados."
      ]
    },
    {
      "cell_type": "markdown",
      "metadata": {
        "id": "EuDUXAcU-bWl"
      },
      "source": [
        "### **2.1. Estrutura** "
      ]
    },
    {
      "cell_type": "code",
      "execution_count": 149,
      "metadata": {
        "id": "TiHtowl0RzDj"
      },
      "outputs": [
        {
          "data": {
            "text/plain": [
              "(10127, 16)"
            ]
          },
          "execution_count": 149,
          "metadata": {},
          "output_type": "execute_result"
        }
      ],
      "source": [
        "df.shape # retorna uma tupla (qtd linhas, qtd colunas)"
      ]
    },
    {
      "cell_type": "code",
      "execution_count": 150,
      "metadata": {
        "id": "J1FI7JejBrXN"
      },
      "outputs": [
        {
          "data": {
            "text/plain": [
              "(8500, 16)"
            ]
          },
          "execution_count": 150,
          "metadata": {},
          "output_type": "execute_result"
        }
      ],
      "source": [
        "df[df['default'] == 0].shape"
      ]
    },
    {
      "cell_type": "code",
      "execution_count": 151,
      "metadata": {
        "id": "G4RYP6btBriq"
      },
      "outputs": [
        {
          "data": {
            "text/plain": [
              "(1627, 16)"
            ]
          },
          "execution_count": 151,
          "metadata": {},
          "output_type": "execute_result"
        }
      ],
      "source": [
        "df[df['default'] == 1].shape"
      ]
    },
    {
      "cell_type": "code",
      "execution_count": 152,
      "metadata": {
        "id": "wH_CazQqB0Ju"
      },
      "outputs": [],
      "source": [
        "qtd_total, _ = df.shape\n",
        "qtd_adimplentes, _ = df[df['default'] == 0].shape\n",
        "qtd_inadimplentes, _ = df[df['default'] == 1].shape"
      ]
    },
    {
      "cell_type": "code",
      "execution_count": 153,
      "metadata": {
        "id": "oNt0s7YeCb3z"
      },
      "outputs": [
        {
          "name": "stdout",
          "output_type": "stream",
          "text": [
            "A proporcão clientes adimplentes é de 83.93%\n",
            "A proporcão clientes inadimplentes é de 16.07%\n"
          ]
        }
      ],
      "source": [
        "print(f\"A proporcão clientes adimplentes é de {round(100 * qtd_adimplentes / qtd_total, 2)}%\")\n",
        "print(f\"A proporcão clientes inadimplentes é de {round(100 * qtd_inadimplentes / qtd_total, 2)}%\")"
      ]
    },
    {
      "cell_type": "markdown",
      "metadata": {
        "id": "kwey_fNL-dko"
      },
      "source": [
        "### **2.2. Schema** "
      ]
    },
    {
      "cell_type": "code",
      "execution_count": 154,
      "metadata": {
        "id": "nYYrLXUfHo_3"
      },
      "outputs": [
        {
          "data": {
            "text/html": [
              "<div>\n",
              "<style scoped>\n",
              "    .dataframe tbody tr th:only-of-type {\n",
              "        vertical-align: middle;\n",
              "    }\n",
              "\n",
              "    .dataframe tbody tr th {\n",
              "        vertical-align: top;\n",
              "    }\n",
              "\n",
              "    .dataframe thead th {\n",
              "        text-align: right;\n",
              "    }\n",
              "</style>\n",
              "<table border=\"1\" class=\"dataframe\">\n",
              "  <thead>\n",
              "    <tr style=\"text-align: right;\">\n",
              "      <th></th>\n",
              "      <th>id</th>\n",
              "      <th>default</th>\n",
              "      <th>idade</th>\n",
              "      <th>sexo</th>\n",
              "      <th>dependentes</th>\n",
              "      <th>escolaridade</th>\n",
              "      <th>estado_civil</th>\n",
              "      <th>salario_anual</th>\n",
              "      <th>tipo_cartao</th>\n",
              "      <th>meses_de_relacionamento</th>\n",
              "      <th>qtd_produtos</th>\n",
              "      <th>iteracoes_12m</th>\n",
              "      <th>meses_inativo_12m</th>\n",
              "      <th>limite_credito</th>\n",
              "      <th>valor_transacoes_12m</th>\n",
              "      <th>qtd_transacoes_12m</th>\n",
              "    </tr>\n",
              "  </thead>\n",
              "  <tbody>\n",
              "    <tr>\n",
              "      <th>0</th>\n",
              "      <td>768805383</td>\n",
              "      <td>0</td>\n",
              "      <td>45</td>\n",
              "      <td>M</td>\n",
              "      <td>3</td>\n",
              "      <td>ensino medio</td>\n",
              "      <td>casado</td>\n",
              "      <td>$60K - $80K</td>\n",
              "      <td>blue</td>\n",
              "      <td>39</td>\n",
              "      <td>5</td>\n",
              "      <td>3</td>\n",
              "      <td>1</td>\n",
              "      <td>12.691,51</td>\n",
              "      <td>1.144,90</td>\n",
              "      <td>42</td>\n",
              "    </tr>\n",
              "    <tr>\n",
              "      <th>1</th>\n",
              "      <td>818770008</td>\n",
              "      <td>0</td>\n",
              "      <td>49</td>\n",
              "      <td>F</td>\n",
              "      <td>5</td>\n",
              "      <td>mestrado</td>\n",
              "      <td>solteiro</td>\n",
              "      <td>menos que $40K</td>\n",
              "      <td>blue</td>\n",
              "      <td>44</td>\n",
              "      <td>6</td>\n",
              "      <td>2</td>\n",
              "      <td>1</td>\n",
              "      <td>8.256,96</td>\n",
              "      <td>1.291,45</td>\n",
              "      <td>33</td>\n",
              "    </tr>\n",
              "    <tr>\n",
              "      <th>2</th>\n",
              "      <td>713982108</td>\n",
              "      <td>0</td>\n",
              "      <td>51</td>\n",
              "      <td>M</td>\n",
              "      <td>3</td>\n",
              "      <td>mestrado</td>\n",
              "      <td>casado</td>\n",
              "      <td>$80K - $120K</td>\n",
              "      <td>blue</td>\n",
              "      <td>36</td>\n",
              "      <td>4</td>\n",
              "      <td>0</td>\n",
              "      <td>1</td>\n",
              "      <td>3.418,56</td>\n",
              "      <td>1.887,72</td>\n",
              "      <td>20</td>\n",
              "    </tr>\n",
              "    <tr>\n",
              "      <th>3</th>\n",
              "      <td>769911858</td>\n",
              "      <td>0</td>\n",
              "      <td>40</td>\n",
              "      <td>F</td>\n",
              "      <td>4</td>\n",
              "      <td>ensino medio</td>\n",
              "      <td>NaN</td>\n",
              "      <td>menos que $40K</td>\n",
              "      <td>blue</td>\n",
              "      <td>34</td>\n",
              "      <td>3</td>\n",
              "      <td>1</td>\n",
              "      <td>4</td>\n",
              "      <td>3.313,03</td>\n",
              "      <td>1.171,56</td>\n",
              "      <td>20</td>\n",
              "    </tr>\n",
              "    <tr>\n",
              "      <th>4</th>\n",
              "      <td>709106358</td>\n",
              "      <td>0</td>\n",
              "      <td>40</td>\n",
              "      <td>M</td>\n",
              "      <td>3</td>\n",
              "      <td>sem educacao formal</td>\n",
              "      <td>casado</td>\n",
              "      <td>$60K - $80K</td>\n",
              "      <td>blue</td>\n",
              "      <td>21</td>\n",
              "      <td>5</td>\n",
              "      <td>0</td>\n",
              "      <td>1</td>\n",
              "      <td>4.716,22</td>\n",
              "      <td>816,08</td>\n",
              "      <td>28</td>\n",
              "    </tr>\n",
              "  </tbody>\n",
              "</table>\n",
              "</div>"
            ],
            "text/plain": [
              "          id  default  idade sexo  dependentes         escolaridade  \\\n",
              "0  768805383        0     45    M            3         ensino medio   \n",
              "1  818770008        0     49    F            5             mestrado   \n",
              "2  713982108        0     51    M            3             mestrado   \n",
              "3  769911858        0     40    F            4         ensino medio   \n",
              "4  709106358        0     40    M            3  sem educacao formal   \n",
              "\n",
              "  estado_civil   salario_anual tipo_cartao  meses_de_relacionamento  \\\n",
              "0       casado     $60K - $80K        blue                       39   \n",
              "1     solteiro  menos que $40K        blue                       44   \n",
              "2       casado    $80K - $120K        blue                       36   \n",
              "3          NaN  menos que $40K        blue                       34   \n",
              "4       casado     $60K - $80K        blue                       21   \n",
              "\n",
              "   qtd_produtos  iteracoes_12m  meses_inativo_12m limite_credito  \\\n",
              "0             5              3                  1      12.691,51   \n",
              "1             6              2                  1       8.256,96   \n",
              "2             4              0                  1       3.418,56   \n",
              "3             3              1                  4       3.313,03   \n",
              "4             5              0                  1       4.716,22   \n",
              "\n",
              "  valor_transacoes_12m  qtd_transacoes_12m  \n",
              "0             1.144,90                  42  \n",
              "1             1.291,45                  33  \n",
              "2             1.887,72                  20  \n",
              "3             1.171,56                  20  \n",
              "4               816,08                  28  "
            ]
          },
          "execution_count": 154,
          "metadata": {},
          "output_type": "execute_result"
        }
      ],
      "source": [
        "df.head(n=5)"
      ]
    },
    {
      "cell_type": "markdown",
      "metadata": {
        "id": "sqxmut5iHPeF"
      },
      "source": [
        " - Colunas e seus respectivos tipos de dados."
      ]
    },
    {
      "cell_type": "code",
      "execution_count": 155,
      "metadata": {
        "id": "llbDSkrwK8Yy"
      },
      "outputs": [
        {
          "data": {
            "text/plain": [
              "id                          int64\n",
              "default                     int64\n",
              "idade                       int64\n",
              "sexo                       object\n",
              "dependentes                 int64\n",
              "escolaridade               object\n",
              "estado_civil               object\n",
              "salario_anual              object\n",
              "tipo_cartao                object\n",
              "meses_de_relacionamento     int64\n",
              "qtd_produtos                int64\n",
              "iteracoes_12m               int64\n",
              "meses_inativo_12m           int64\n",
              "limite_credito             object\n",
              "valor_transacoes_12m       object\n",
              "qtd_transacoes_12m          int64\n",
              "dtype: object"
            ]
          },
          "execution_count": 155,
          "metadata": {},
          "output_type": "execute_result"
        }
      ],
      "source": [
        "df.dtypes"
      ]
    },
    {
      "cell_type": "markdown",
      "metadata": {
        "id": "aoW6ljPmHCiB"
      },
      "source": [
        " - Atributos **categóricos**."
      ]
    },
    {
      "cell_type": "code",
      "execution_count": 156,
      "metadata": {
        "id": "Bk9ruKeCFiEn"
      },
      "outputs": [
        {
          "data": {
            "text/html": [
              "<div>\n",
              "<style scoped>\n",
              "    .dataframe tbody tr th:only-of-type {\n",
              "        vertical-align: middle;\n",
              "    }\n",
              "\n",
              "    .dataframe tbody tr th {\n",
              "        vertical-align: top;\n",
              "    }\n",
              "\n",
              "    .dataframe thead th {\n",
              "        text-align: right;\n",
              "    }\n",
              "</style>\n",
              "<table border=\"1\" class=\"dataframe\">\n",
              "  <thead>\n",
              "    <tr style=\"text-align: right;\">\n",
              "      <th></th>\n",
              "      <th>count</th>\n",
              "      <th>unique</th>\n",
              "      <th>top</th>\n",
              "      <th>freq</th>\n",
              "    </tr>\n",
              "  </thead>\n",
              "  <tbody>\n",
              "    <tr>\n",
              "      <th>sexo</th>\n",
              "      <td>10127</td>\n",
              "      <td>2</td>\n",
              "      <td>F</td>\n",
              "      <td>5358</td>\n",
              "    </tr>\n",
              "    <tr>\n",
              "      <th>escolaridade</th>\n",
              "      <td>8608</td>\n",
              "      <td>5</td>\n",
              "      <td>mestrado</td>\n",
              "      <td>3128</td>\n",
              "    </tr>\n",
              "    <tr>\n",
              "      <th>estado_civil</th>\n",
              "      <td>9378</td>\n",
              "      <td>3</td>\n",
              "      <td>casado</td>\n",
              "      <td>4687</td>\n",
              "    </tr>\n",
              "    <tr>\n",
              "      <th>salario_anual</th>\n",
              "      <td>9015</td>\n",
              "      <td>5</td>\n",
              "      <td>menos que $40K</td>\n",
              "      <td>3561</td>\n",
              "    </tr>\n",
              "    <tr>\n",
              "      <th>tipo_cartao</th>\n",
              "      <td>10127</td>\n",
              "      <td>4</td>\n",
              "      <td>blue</td>\n",
              "      <td>9436</td>\n",
              "    </tr>\n",
              "    <tr>\n",
              "      <th>limite_credito</th>\n",
              "      <td>10127</td>\n",
              "      <td>9272</td>\n",
              "      <td>1.438,21</td>\n",
              "      <td>11</td>\n",
              "    </tr>\n",
              "    <tr>\n",
              "      <th>valor_transacoes_12m</th>\n",
              "      <td>10127</td>\n",
              "      <td>10035</td>\n",
              "      <td>3.851,51</td>\n",
              "      <td>3</td>\n",
              "    </tr>\n",
              "  </tbody>\n",
              "</table>\n",
              "</div>"
            ],
            "text/plain": [
              "                      count unique             top  freq\n",
              "sexo                  10127      2               F  5358\n",
              "escolaridade           8608      5        mestrado  3128\n",
              "estado_civil           9378      3          casado  4687\n",
              "salario_anual          9015      5  menos que $40K  3561\n",
              "tipo_cartao           10127      4            blue  9436\n",
              "limite_credito        10127   9272        1.438,21    11\n",
              "valor_transacoes_12m  10127  10035        3.851,51     3"
            ]
          },
          "execution_count": 156,
          "metadata": {},
          "output_type": "execute_result"
        }
      ],
      "source": [
        "df.select_dtypes('object').describe().transpose() # freq / count = %"
      ]
    },
    {
      "cell_type": "markdown",
      "metadata": {
        "id": "8mNLjb9qHIWr"
      },
      "source": [
        " - Atributos **numéricos**."
      ]
    },
    {
      "cell_type": "code",
      "execution_count": 157,
      "metadata": {
        "id": "4JAFUYUfDSSR"
      },
      "outputs": [
        {
          "data": {
            "text/html": [
              "<div>\n",
              "<style scoped>\n",
              "    .dataframe tbody tr th:only-of-type {\n",
              "        vertical-align: middle;\n",
              "    }\n",
              "\n",
              "    .dataframe tbody tr th {\n",
              "        vertical-align: top;\n",
              "    }\n",
              "\n",
              "    .dataframe thead th {\n",
              "        text-align: right;\n",
              "    }\n",
              "</style>\n",
              "<table border=\"1\" class=\"dataframe\">\n",
              "  <thead>\n",
              "    <tr style=\"text-align: right;\">\n",
              "      <th></th>\n",
              "      <th>count</th>\n",
              "      <th>mean</th>\n",
              "      <th>std</th>\n",
              "      <th>min</th>\n",
              "      <th>25%</th>\n",
              "      <th>50%</th>\n",
              "      <th>75%</th>\n",
              "      <th>max</th>\n",
              "    </tr>\n",
              "  </thead>\n",
              "  <tbody>\n",
              "    <tr>\n",
              "      <th>default</th>\n",
              "      <td>10127.0</td>\n",
              "      <td>0.160660</td>\n",
              "      <td>0.367235</td>\n",
              "      <td>0.0</td>\n",
              "      <td>0.0</td>\n",
              "      <td>0.0</td>\n",
              "      <td>0.0</td>\n",
              "      <td>1.0</td>\n",
              "    </tr>\n",
              "    <tr>\n",
              "      <th>idade</th>\n",
              "      <td>10127.0</td>\n",
              "      <td>46.325960</td>\n",
              "      <td>8.016814</td>\n",
              "      <td>26.0</td>\n",
              "      <td>41.0</td>\n",
              "      <td>46.0</td>\n",
              "      <td>52.0</td>\n",
              "      <td>73.0</td>\n",
              "    </tr>\n",
              "    <tr>\n",
              "      <th>dependentes</th>\n",
              "      <td>10127.0</td>\n",
              "      <td>2.346203</td>\n",
              "      <td>1.298908</td>\n",
              "      <td>0.0</td>\n",
              "      <td>1.0</td>\n",
              "      <td>2.0</td>\n",
              "      <td>3.0</td>\n",
              "      <td>5.0</td>\n",
              "    </tr>\n",
              "    <tr>\n",
              "      <th>meses_de_relacionamento</th>\n",
              "      <td>10127.0</td>\n",
              "      <td>35.928409</td>\n",
              "      <td>7.986416</td>\n",
              "      <td>13.0</td>\n",
              "      <td>31.0</td>\n",
              "      <td>36.0</td>\n",
              "      <td>40.0</td>\n",
              "      <td>56.0</td>\n",
              "    </tr>\n",
              "    <tr>\n",
              "      <th>qtd_produtos</th>\n",
              "      <td>10127.0</td>\n",
              "      <td>3.812580</td>\n",
              "      <td>1.554408</td>\n",
              "      <td>1.0</td>\n",
              "      <td>3.0</td>\n",
              "      <td>4.0</td>\n",
              "      <td>5.0</td>\n",
              "      <td>6.0</td>\n",
              "    </tr>\n",
              "    <tr>\n",
              "      <th>iteracoes_12m</th>\n",
              "      <td>10127.0</td>\n",
              "      <td>2.455317</td>\n",
              "      <td>1.106225</td>\n",
              "      <td>0.0</td>\n",
              "      <td>2.0</td>\n",
              "      <td>2.0</td>\n",
              "      <td>3.0</td>\n",
              "      <td>6.0</td>\n",
              "    </tr>\n",
              "    <tr>\n",
              "      <th>meses_inativo_12m</th>\n",
              "      <td>10127.0</td>\n",
              "      <td>2.341167</td>\n",
              "      <td>1.010622</td>\n",
              "      <td>0.0</td>\n",
              "      <td>2.0</td>\n",
              "      <td>2.0</td>\n",
              "      <td>3.0</td>\n",
              "      <td>6.0</td>\n",
              "    </tr>\n",
              "    <tr>\n",
              "      <th>qtd_transacoes_12m</th>\n",
              "      <td>10127.0</td>\n",
              "      <td>64.858695</td>\n",
              "      <td>23.472570</td>\n",
              "      <td>10.0</td>\n",
              "      <td>45.0</td>\n",
              "      <td>67.0</td>\n",
              "      <td>81.0</td>\n",
              "      <td>139.0</td>\n",
              "    </tr>\n",
              "  </tbody>\n",
              "</table>\n",
              "</div>"
            ],
            "text/plain": [
              "                           count       mean        std   min   25%   50%  \\\n",
              "default                  10127.0   0.160660   0.367235   0.0   0.0   0.0   \n",
              "idade                    10127.0  46.325960   8.016814  26.0  41.0  46.0   \n",
              "dependentes              10127.0   2.346203   1.298908   0.0   1.0   2.0   \n",
              "meses_de_relacionamento  10127.0  35.928409   7.986416  13.0  31.0  36.0   \n",
              "qtd_produtos             10127.0   3.812580   1.554408   1.0   3.0   4.0   \n",
              "iteracoes_12m            10127.0   2.455317   1.106225   0.0   2.0   2.0   \n",
              "meses_inativo_12m        10127.0   2.341167   1.010622   0.0   2.0   2.0   \n",
              "qtd_transacoes_12m       10127.0  64.858695  23.472570  10.0  45.0  67.0   \n",
              "\n",
              "                          75%    max  \n",
              "default                   0.0    1.0  \n",
              "idade                    52.0   73.0  \n",
              "dependentes               3.0    5.0  \n",
              "meses_de_relacionamento  40.0   56.0  \n",
              "qtd_produtos              5.0    6.0  \n",
              "iteracoes_12m             3.0    6.0  \n",
              "meses_inativo_12m         3.0    6.0  \n",
              "qtd_transacoes_12m       81.0  139.0  "
            ]
          },
          "execution_count": 157,
          "metadata": {},
          "output_type": "execute_result"
        }
      ],
      "source": [
        "df.drop('id', axis=1).select_dtypes('number').describe().transpose()"
      ]
    },
    {
      "cell_type": "markdown",
      "metadata": {
        "id": "7lAUes2dUY3h"
      },
      "source": [
        "### **2.3. Dados faltantes** "
      ]
    },
    {
      "cell_type": "markdown",
      "metadata": {
        "id": "XYnOkpsUHu08"
      },
      "source": [
        "Dados faltantes podem ser:\n",
        "\n",
        " - Vazios (`\"\"`);\n",
        " - Nulos (`None`);\n",
        " - Não disponíveis ou aplicaveis (`na`, `NA`, etc.);\n",
        " - Não numérico (`nan`, `NaN`, `NAN`, etc)."
      ]
    },
    {
      "cell_type": "code",
      "execution_count": 158,
      "metadata": {
        "id": "8BEHOjzsUnai"
      },
      "outputs": [
        {
          "data": {
            "text/html": [
              "<div>\n",
              "<style scoped>\n",
              "    .dataframe tbody tr th:only-of-type {\n",
              "        vertical-align: middle;\n",
              "    }\n",
              "\n",
              "    .dataframe tbody tr th {\n",
              "        vertical-align: top;\n",
              "    }\n",
              "\n",
              "    .dataframe thead th {\n",
              "        text-align: right;\n",
              "    }\n",
              "</style>\n",
              "<table border=\"1\" class=\"dataframe\">\n",
              "  <thead>\n",
              "    <tr style=\"text-align: right;\">\n",
              "      <th></th>\n",
              "      <th>id</th>\n",
              "      <th>default</th>\n",
              "      <th>idade</th>\n",
              "      <th>sexo</th>\n",
              "      <th>dependentes</th>\n",
              "      <th>escolaridade</th>\n",
              "      <th>estado_civil</th>\n",
              "      <th>salario_anual</th>\n",
              "      <th>tipo_cartao</th>\n",
              "      <th>meses_de_relacionamento</th>\n",
              "      <th>qtd_produtos</th>\n",
              "      <th>iteracoes_12m</th>\n",
              "      <th>meses_inativo_12m</th>\n",
              "      <th>limite_credito</th>\n",
              "      <th>valor_transacoes_12m</th>\n",
              "      <th>qtd_transacoes_12m</th>\n",
              "    </tr>\n",
              "  </thead>\n",
              "  <tbody>\n",
              "    <tr>\n",
              "      <th>0</th>\n",
              "      <td>768805383</td>\n",
              "      <td>0</td>\n",
              "      <td>45</td>\n",
              "      <td>M</td>\n",
              "      <td>3</td>\n",
              "      <td>ensino medio</td>\n",
              "      <td>casado</td>\n",
              "      <td>$60K - $80K</td>\n",
              "      <td>blue</td>\n",
              "      <td>39</td>\n",
              "      <td>5</td>\n",
              "      <td>3</td>\n",
              "      <td>1</td>\n",
              "      <td>12.691,51</td>\n",
              "      <td>1.144,90</td>\n",
              "      <td>42</td>\n",
              "    </tr>\n",
              "    <tr>\n",
              "      <th>1</th>\n",
              "      <td>818770008</td>\n",
              "      <td>0</td>\n",
              "      <td>49</td>\n",
              "      <td>F</td>\n",
              "      <td>5</td>\n",
              "      <td>mestrado</td>\n",
              "      <td>solteiro</td>\n",
              "      <td>menos que $40K</td>\n",
              "      <td>blue</td>\n",
              "      <td>44</td>\n",
              "      <td>6</td>\n",
              "      <td>2</td>\n",
              "      <td>1</td>\n",
              "      <td>8.256,96</td>\n",
              "      <td>1.291,45</td>\n",
              "      <td>33</td>\n",
              "    </tr>\n",
              "    <tr>\n",
              "      <th>2</th>\n",
              "      <td>713982108</td>\n",
              "      <td>0</td>\n",
              "      <td>51</td>\n",
              "      <td>M</td>\n",
              "      <td>3</td>\n",
              "      <td>mestrado</td>\n",
              "      <td>casado</td>\n",
              "      <td>$80K - $120K</td>\n",
              "      <td>blue</td>\n",
              "      <td>36</td>\n",
              "      <td>4</td>\n",
              "      <td>0</td>\n",
              "      <td>1</td>\n",
              "      <td>3.418,56</td>\n",
              "      <td>1.887,72</td>\n",
              "      <td>20</td>\n",
              "    </tr>\n",
              "    <tr>\n",
              "      <th>3</th>\n",
              "      <td>769911858</td>\n",
              "      <td>0</td>\n",
              "      <td>40</td>\n",
              "      <td>F</td>\n",
              "      <td>4</td>\n",
              "      <td>ensino medio</td>\n",
              "      <td>NaN</td>\n",
              "      <td>menos que $40K</td>\n",
              "      <td>blue</td>\n",
              "      <td>34</td>\n",
              "      <td>3</td>\n",
              "      <td>1</td>\n",
              "      <td>4</td>\n",
              "      <td>3.313,03</td>\n",
              "      <td>1.171,56</td>\n",
              "      <td>20</td>\n",
              "    </tr>\n",
              "    <tr>\n",
              "      <th>4</th>\n",
              "      <td>709106358</td>\n",
              "      <td>0</td>\n",
              "      <td>40</td>\n",
              "      <td>M</td>\n",
              "      <td>3</td>\n",
              "      <td>sem educacao formal</td>\n",
              "      <td>casado</td>\n",
              "      <td>$60K - $80K</td>\n",
              "      <td>blue</td>\n",
              "      <td>21</td>\n",
              "      <td>5</td>\n",
              "      <td>0</td>\n",
              "      <td>1</td>\n",
              "      <td>4.716,22</td>\n",
              "      <td>816,08</td>\n",
              "      <td>28</td>\n",
              "    </tr>\n",
              "  </tbody>\n",
              "</table>\n",
              "</div>"
            ],
            "text/plain": [
              "          id  default  idade sexo  dependentes         escolaridade  \\\n",
              "0  768805383        0     45    M            3         ensino medio   \n",
              "1  818770008        0     49    F            5             mestrado   \n",
              "2  713982108        0     51    M            3             mestrado   \n",
              "3  769911858        0     40    F            4         ensino medio   \n",
              "4  709106358        0     40    M            3  sem educacao formal   \n",
              "\n",
              "  estado_civil   salario_anual tipo_cartao  meses_de_relacionamento  \\\n",
              "0       casado     $60K - $80K        blue                       39   \n",
              "1     solteiro  menos que $40K        blue                       44   \n",
              "2       casado    $80K - $120K        blue                       36   \n",
              "3          NaN  menos que $40K        blue                       34   \n",
              "4       casado     $60K - $80K        blue                       21   \n",
              "\n",
              "   qtd_produtos  iteracoes_12m  meses_inativo_12m limite_credito  \\\n",
              "0             5              3                  1      12.691,51   \n",
              "1             6              2                  1       8.256,96   \n",
              "2             4              0                  1       3.418,56   \n",
              "3             3              1                  4       3.313,03   \n",
              "4             5              0                  1       4.716,22   \n",
              "\n",
              "  valor_transacoes_12m  qtd_transacoes_12m  \n",
              "0             1.144,90                  42  \n",
              "1             1.291,45                  33  \n",
              "2             1.887,72                  20  \n",
              "3             1.171,56                  20  \n",
              "4               816,08                  28  "
            ]
          },
          "execution_count": 158,
          "metadata": {},
          "output_type": "execute_result"
        }
      ],
      "source": [
        "df.head()"
      ]
    },
    {
      "cell_type": "markdown",
      "metadata": {
        "id": "GafzLolPK4jy"
      },
      "source": [
        "Podemos verificar quais colunas possuem dados faltantes."
      ]
    },
    {
      "cell_type": "code",
      "execution_count": 159,
      "metadata": {
        "id": "5dhwXuvgI3iF"
      },
      "outputs": [
        {
          "data": {
            "text/plain": [
              "id                         False\n",
              "default                    False\n",
              "idade                      False\n",
              "sexo                       False\n",
              "dependentes                False\n",
              "escolaridade                True\n",
              "estado_civil                True\n",
              "salario_anual               True\n",
              "tipo_cartao                False\n",
              "meses_de_relacionamento    False\n",
              "qtd_produtos               False\n",
              "iteracoes_12m              False\n",
              "meses_inativo_12m          False\n",
              "limite_credito             False\n",
              "valor_transacoes_12m       False\n",
              "qtd_transacoes_12m         False\n",
              "dtype: bool"
            ]
          },
          "execution_count": 159,
          "metadata": {},
          "output_type": "execute_result"
        }
      ],
      "source": [
        "df.isna().any()"
      ]
    },
    {
      "cell_type": "markdown",
      "metadata": {
        "id": "iHFNmur_JQ0y"
      },
      "source": [
        " - A função abaixo levanta algumas estatisticas sobre as colunas dos dados faltantes."
      ]
    },
    {
      "cell_type": "code",
      "execution_count": 160,
      "metadata": {
        "id": "UBeAIKidSMl9"
      },
      "outputs": [],
      "source": [
        "def stats_dados_faltantes(df: pd.DataFrame) -> None:\n",
        "\n",
        "  stats_dados_faltantes = []\n",
        "  for col in df.columns:\n",
        "    if df[col].isna().any():\n",
        "      qtd, _ = df[df[col].isna()].shape\n",
        "      total, _ = df.shape\n",
        "      dict_dados_faltantes = {col: {'quantidade': qtd, \"porcentagem\": round(100 * qtd/total, 2)}}\n",
        "      stats_dados_faltantes.append(dict_dados_faltantes)\n",
        "\n",
        "  for stat in stats_dados_faltantes:\n",
        "    print(stat)"
      ]
    },
    {
      "cell_type": "code",
      "execution_count": 161,
      "metadata": {
        "id": "yLcRKYv7Vcfo"
      },
      "outputs": [
        {
          "name": "stdout",
          "output_type": "stream",
          "text": [
            "{'escolaridade': {'quantidade': 1519, 'porcentagem': 15.0}}\n",
            "{'estado_civil': {'quantidade': 749, 'porcentagem': 7.4}}\n",
            "{'salario_anual': {'quantidade': 1112, 'porcentagem': 10.98}}\n"
          ]
        }
      ],
      "source": [
        "stats_dados_faltantes(df=df)"
      ]
    },
    {
      "cell_type": "code",
      "execution_count": 162,
      "metadata": {
        "id": "9HgN5wcQUyrE"
      },
      "outputs": [
        {
          "name": "stdout",
          "output_type": "stream",
          "text": [
            "{'escolaridade': {'quantidade': 1263, 'porcentagem': 14.86}}\n",
            "{'estado_civil': {'quantidade': 620, 'porcentagem': 7.29}}\n",
            "{'salario_anual': {'quantidade': 925, 'porcentagem': 10.88}}\n"
          ]
        }
      ],
      "source": [
        "stats_dados_faltantes(df=df[df['default'] == 0])"
      ]
    },
    {
      "cell_type": "code",
      "execution_count": 163,
      "metadata": {
        "id": "o9GIwcSCVmjt"
      },
      "outputs": [
        {
          "name": "stdout",
          "output_type": "stream",
          "text": [
            "{'escolaridade': {'quantidade': 256, 'porcentagem': 15.73}}\n",
            "{'estado_civil': {'quantidade': 129, 'porcentagem': 7.93}}\n",
            "{'salario_anual': {'quantidade': 187, 'porcentagem': 11.49}}\n"
          ]
        }
      ],
      "source": [
        "stats_dados_faltantes(df=df[df['default'] == 1])"
      ]
    },
    {
      "cell_type": "markdown",
      "metadata": {
        "id": "miYvjW9QPKJm"
      },
      "source": [
        "## 3\\. Transformação e limpeza de dados"
      ]
    },
    {
      "cell_type": "markdown",
      "metadata": {
        "id": "_JEcr6OBLjT9"
      },
      "source": [
        "Agora que conhecemos melhor a natureza do nosso conjunto de dados, vamos conduzir uma atividade conhecida como *data wrangling* que consiste na transformação e limpeza dos dados do conjunto para que possam ser melhor analisados. Em especial, vamos remover:\n",
        "\n",
        " - Corrigir o *schema* das nossas colunas;\n",
        " - Remover os dados faltantes."
      ]
    },
    {
      "cell_type": "markdown",
      "metadata": {
        "id": "YqEgik1OXVLR"
      },
      "source": [
        "### **3.1. Correção de schema** "
      ]
    },
    {
      "cell_type": "markdown",
      "metadata": {
        "id": "FWHWpcurMkiX"
      },
      "source": [
        "Na etapa de exploração, notamos que as colunas **limite_credito** e **valor_transacoes_12m** estavam sendo interpretadas como colunas categóricas (`dtype = object`)."
      ]
    },
    {
      "cell_type": "code",
      "execution_count": 164,
      "metadata": {
        "id": "e_ToeVYcM7X3"
      },
      "outputs": [
        {
          "data": {
            "text/plain": [
              "limite_credito          object\n",
              "valor_transacoes_12m    object\n",
              "dtype: object"
            ]
          },
          "execution_count": 164,
          "metadata": {},
          "output_type": "execute_result"
        }
      ],
      "source": [
        "df[['limite_credito', 'valor_transacoes_12m']].dtypes"
      ]
    },
    {
      "cell_type": "code",
      "execution_count": 165,
      "metadata": {
        "id": "pkG33j5QNGLD"
      },
      "outputs": [
        {
          "data": {
            "text/html": [
              "<div>\n",
              "<style scoped>\n",
              "    .dataframe tbody tr th:only-of-type {\n",
              "        vertical-align: middle;\n",
              "    }\n",
              "\n",
              "    .dataframe tbody tr th {\n",
              "        vertical-align: top;\n",
              "    }\n",
              "\n",
              "    .dataframe thead th {\n",
              "        text-align: right;\n",
              "    }\n",
              "</style>\n",
              "<table border=\"1\" class=\"dataframe\">\n",
              "  <thead>\n",
              "    <tr style=\"text-align: right;\">\n",
              "      <th></th>\n",
              "      <th>limite_credito</th>\n",
              "      <th>valor_transacoes_12m</th>\n",
              "    </tr>\n",
              "  </thead>\n",
              "  <tbody>\n",
              "    <tr>\n",
              "      <th>0</th>\n",
              "      <td>12.691,51</td>\n",
              "      <td>1.144,90</td>\n",
              "    </tr>\n",
              "    <tr>\n",
              "      <th>1</th>\n",
              "      <td>8.256,96</td>\n",
              "      <td>1.291,45</td>\n",
              "    </tr>\n",
              "    <tr>\n",
              "      <th>2</th>\n",
              "      <td>3.418,56</td>\n",
              "      <td>1.887,72</td>\n",
              "    </tr>\n",
              "    <tr>\n",
              "      <th>3</th>\n",
              "      <td>3.313,03</td>\n",
              "      <td>1.171,56</td>\n",
              "    </tr>\n",
              "    <tr>\n",
              "      <th>4</th>\n",
              "      <td>4.716,22</td>\n",
              "      <td>816,08</td>\n",
              "    </tr>\n",
              "  </tbody>\n",
              "</table>\n",
              "</div>"
            ],
            "text/plain": [
              "  limite_credito valor_transacoes_12m\n",
              "0      12.691,51             1.144,90\n",
              "1       8.256,96             1.291,45\n",
              "2       3.418,56             1.887,72\n",
              "3       3.313,03             1.171,56\n",
              "4       4.716,22               816,08"
            ]
          },
          "execution_count": 165,
          "metadata": {},
          "output_type": "execute_result"
        }
      ],
      "source": [
        "df[['limite_credito', 'valor_transacoes_12m']].head(n=5)"
      ]
    },
    {
      "cell_type": "markdown",
      "metadata": {
        "id": "b2AJxyYXNQhC"
      },
      "source": [
        "Vamos criar uma função `lambda` para limpar os dados. Mas antes, vamos testar sua aplicação através do método funcional `map`:"
      ]
    },
    {
      "cell_type": "code",
      "execution_count": 166,
      "metadata": {
        "id": "P2cLfCZTOFJD"
      },
      "outputs": [
        {
          "name": "stdout",
          "output_type": "stream",
          "text": [
            "['12.691,51', '8.256,96', '3.418,56', '3.313,03', '4.716,22']\n",
            "[12691.51, 8256.96, 3418.56, 3313.03, 4716.22]\n"
          ]
        }
      ],
      "source": [
        "fn = lambda valor: float(valor.replace(\".\", \"\").replace(\",\", \".\"))\n",
        "\n",
        "valores_originais = ['12.691,51', '8.256,96', '3.418,56', '3.313,03', '4.716,22']\n",
        "valores_limpos = list(map(fn, valores_originais))\n",
        "\n",
        "print(valores_originais)\n",
        "print(valores_limpos)"
      ]
    },
    {
      "cell_type": "markdown",
      "metadata": {
        "id": "oNx_M5ueNfj1"
      },
      "source": [
        "Com a função `lambda` de limpeza pronta, basta aplica-la nas colunas de interesse."
      ]
    },
    {
      "cell_type": "code",
      "execution_count": 167,
      "metadata": {
        "id": "b1vsc75TN_ZA"
      },
      "outputs": [],
      "source": [
        "df['valor_transacoes_12m'] = df['valor_transacoes_12m'].apply(fn) # Apply una funzione in una colonna\n",
        "df['limite_credito'] = df['limite_credito'].apply(fn)"
      ]
    },
    {
      "cell_type": "markdown",
      "metadata": {
        "id": "44lO14qwOaGL"
      },
      "source": [
        "Vamos descrever novamente o *schema*:"
      ]
    },
    {
      "cell_type": "code",
      "execution_count": 168,
      "metadata": {
        "id": "TOJoEfVxQpz3"
      },
      "outputs": [
        {
          "data": {
            "text/plain": [
              "id                           int64\n",
              "default                      int64\n",
              "idade                        int64\n",
              "sexo                        object\n",
              "dependentes                  int64\n",
              "escolaridade                object\n",
              "estado_civil                object\n",
              "salario_anual               object\n",
              "tipo_cartao                 object\n",
              "meses_de_relacionamento      int64\n",
              "qtd_produtos                 int64\n",
              "iteracoes_12m                int64\n",
              "meses_inativo_12m            int64\n",
              "limite_credito             float64\n",
              "valor_transacoes_12m       float64\n",
              "qtd_transacoes_12m           int64\n",
              "dtype: object"
            ]
          },
          "execution_count": 168,
          "metadata": {},
          "output_type": "execute_result"
        }
      ],
      "source": [
        "df.dtypes"
      ]
    },
    {
      "cell_type": "markdown",
      "metadata": {
        "id": "Jzst49MBOQux"
      },
      "source": [
        " - Atributos **categóricos**."
      ]
    },
    {
      "cell_type": "code",
      "execution_count": 169,
      "metadata": {
        "id": "ul2cx2s6OQu5"
      },
      "outputs": [
        {
          "data": {
            "text/html": [
              "<div>\n",
              "<style scoped>\n",
              "    .dataframe tbody tr th:only-of-type {\n",
              "        vertical-align: middle;\n",
              "    }\n",
              "\n",
              "    .dataframe tbody tr th {\n",
              "        vertical-align: top;\n",
              "    }\n",
              "\n",
              "    .dataframe thead th {\n",
              "        text-align: right;\n",
              "    }\n",
              "</style>\n",
              "<table border=\"1\" class=\"dataframe\">\n",
              "  <thead>\n",
              "    <tr style=\"text-align: right;\">\n",
              "      <th></th>\n",
              "      <th>count</th>\n",
              "      <th>unique</th>\n",
              "      <th>top</th>\n",
              "      <th>freq</th>\n",
              "    </tr>\n",
              "  </thead>\n",
              "  <tbody>\n",
              "    <tr>\n",
              "      <th>sexo</th>\n",
              "      <td>10127</td>\n",
              "      <td>2</td>\n",
              "      <td>F</td>\n",
              "      <td>5358</td>\n",
              "    </tr>\n",
              "    <tr>\n",
              "      <th>escolaridade</th>\n",
              "      <td>8608</td>\n",
              "      <td>5</td>\n",
              "      <td>mestrado</td>\n",
              "      <td>3128</td>\n",
              "    </tr>\n",
              "    <tr>\n",
              "      <th>estado_civil</th>\n",
              "      <td>9378</td>\n",
              "      <td>3</td>\n",
              "      <td>casado</td>\n",
              "      <td>4687</td>\n",
              "    </tr>\n",
              "    <tr>\n",
              "      <th>salario_anual</th>\n",
              "      <td>9015</td>\n",
              "      <td>5</td>\n",
              "      <td>menos que $40K</td>\n",
              "      <td>3561</td>\n",
              "    </tr>\n",
              "    <tr>\n",
              "      <th>tipo_cartao</th>\n",
              "      <td>10127</td>\n",
              "      <td>4</td>\n",
              "      <td>blue</td>\n",
              "      <td>9436</td>\n",
              "    </tr>\n",
              "  </tbody>\n",
              "</table>\n",
              "</div>"
            ],
            "text/plain": [
              "               count unique             top  freq\n",
              "sexo           10127      2               F  5358\n",
              "escolaridade    8608      5        mestrado  3128\n",
              "estado_civil    9378      3          casado  4687\n",
              "salario_anual   9015      5  menos que $40K  3561\n",
              "tipo_cartao    10127      4            blue  9436"
            ]
          },
          "execution_count": 169,
          "metadata": {},
          "output_type": "execute_result"
        }
      ],
      "source": [
        "df.select_dtypes('object').describe().transpose()"
      ]
    },
    {
      "cell_type": "markdown",
      "metadata": {
        "id": "MOln7J02OQu7"
      },
      "source": [
        " - Atributos **numéricos**."
      ]
    },
    {
      "cell_type": "code",
      "execution_count": 170,
      "metadata": {
        "id": "wcavrFtIOQu8"
      },
      "outputs": [
        {
          "data": {
            "text/html": [
              "<div>\n",
              "<style scoped>\n",
              "    .dataframe tbody tr th:only-of-type {\n",
              "        vertical-align: middle;\n",
              "    }\n",
              "\n",
              "    .dataframe tbody tr th {\n",
              "        vertical-align: top;\n",
              "    }\n",
              "\n",
              "    .dataframe thead th {\n",
              "        text-align: right;\n",
              "    }\n",
              "</style>\n",
              "<table border=\"1\" class=\"dataframe\">\n",
              "  <thead>\n",
              "    <tr style=\"text-align: right;\">\n",
              "      <th></th>\n",
              "      <th>count</th>\n",
              "      <th>mean</th>\n",
              "      <th>std</th>\n",
              "      <th>min</th>\n",
              "      <th>25%</th>\n",
              "      <th>50%</th>\n",
              "      <th>75%</th>\n",
              "      <th>max</th>\n",
              "    </tr>\n",
              "  </thead>\n",
              "  <tbody>\n",
              "    <tr>\n",
              "      <th>default</th>\n",
              "      <td>10127.0</td>\n",
              "      <td>0.160660</td>\n",
              "      <td>0.367235</td>\n",
              "      <td>0.00</td>\n",
              "      <td>0.000</td>\n",
              "      <td>0.00</td>\n",
              "      <td>0.000</td>\n",
              "      <td>1.00</td>\n",
              "    </tr>\n",
              "    <tr>\n",
              "      <th>idade</th>\n",
              "      <td>10127.0</td>\n",
              "      <td>46.325960</td>\n",
              "      <td>8.016814</td>\n",
              "      <td>26.00</td>\n",
              "      <td>41.000</td>\n",
              "      <td>46.00</td>\n",
              "      <td>52.000</td>\n",
              "      <td>73.00</td>\n",
              "    </tr>\n",
              "    <tr>\n",
              "      <th>dependentes</th>\n",
              "      <td>10127.0</td>\n",
              "      <td>2.346203</td>\n",
              "      <td>1.298908</td>\n",
              "      <td>0.00</td>\n",
              "      <td>1.000</td>\n",
              "      <td>2.00</td>\n",
              "      <td>3.000</td>\n",
              "      <td>5.00</td>\n",
              "    </tr>\n",
              "    <tr>\n",
              "      <th>meses_de_relacionamento</th>\n",
              "      <td>10127.0</td>\n",
              "      <td>35.928409</td>\n",
              "      <td>7.986416</td>\n",
              "      <td>13.00</td>\n",
              "      <td>31.000</td>\n",
              "      <td>36.00</td>\n",
              "      <td>40.000</td>\n",
              "      <td>56.00</td>\n",
              "    </tr>\n",
              "    <tr>\n",
              "      <th>qtd_produtos</th>\n",
              "      <td>10127.0</td>\n",
              "      <td>3.812580</td>\n",
              "      <td>1.554408</td>\n",
              "      <td>1.00</td>\n",
              "      <td>3.000</td>\n",
              "      <td>4.00</td>\n",
              "      <td>5.000</td>\n",
              "      <td>6.00</td>\n",
              "    </tr>\n",
              "    <tr>\n",
              "      <th>iteracoes_12m</th>\n",
              "      <td>10127.0</td>\n",
              "      <td>2.455317</td>\n",
              "      <td>1.106225</td>\n",
              "      <td>0.00</td>\n",
              "      <td>2.000</td>\n",
              "      <td>2.00</td>\n",
              "      <td>3.000</td>\n",
              "      <td>6.00</td>\n",
              "    </tr>\n",
              "    <tr>\n",
              "      <th>meses_inativo_12m</th>\n",
              "      <td>10127.0</td>\n",
              "      <td>2.341167</td>\n",
              "      <td>1.010622</td>\n",
              "      <td>0.00</td>\n",
              "      <td>2.000</td>\n",
              "      <td>2.00</td>\n",
              "      <td>3.000</td>\n",
              "      <td>6.00</td>\n",
              "    </tr>\n",
              "    <tr>\n",
              "      <th>limite_credito</th>\n",
              "      <td>10127.0</td>\n",
              "      <td>8632.440165</td>\n",
              "      <td>9088.788041</td>\n",
              "      <td>1438.00</td>\n",
              "      <td>2555.355</td>\n",
              "      <td>4549.42</td>\n",
              "      <td>11068.175</td>\n",
              "      <td>34516.99</td>\n",
              "    </tr>\n",
              "    <tr>\n",
              "      <th>valor_transacoes_12m</th>\n",
              "      <td>10127.0</td>\n",
              "      <td>4404.583047</td>\n",
              "      <td>3397.128078</td>\n",
              "      <td>510.16</td>\n",
              "      <td>2155.825</td>\n",
              "      <td>3899.59</td>\n",
              "      <td>4741.310</td>\n",
              "      <td>18484.93</td>\n",
              "    </tr>\n",
              "    <tr>\n",
              "      <th>qtd_transacoes_12m</th>\n",
              "      <td>10127.0</td>\n",
              "      <td>64.858695</td>\n",
              "      <td>23.472570</td>\n",
              "      <td>10.00</td>\n",
              "      <td>45.000</td>\n",
              "      <td>67.00</td>\n",
              "      <td>81.000</td>\n",
              "      <td>139.00</td>\n",
              "    </tr>\n",
              "  </tbody>\n",
              "</table>\n",
              "</div>"
            ],
            "text/plain": [
              "                           count         mean          std      min       25%  \\\n",
              "default                  10127.0     0.160660     0.367235     0.00     0.000   \n",
              "idade                    10127.0    46.325960     8.016814    26.00    41.000   \n",
              "dependentes              10127.0     2.346203     1.298908     0.00     1.000   \n",
              "meses_de_relacionamento  10127.0    35.928409     7.986416    13.00    31.000   \n",
              "qtd_produtos             10127.0     3.812580     1.554408     1.00     3.000   \n",
              "iteracoes_12m            10127.0     2.455317     1.106225     0.00     2.000   \n",
              "meses_inativo_12m        10127.0     2.341167     1.010622     0.00     2.000   \n",
              "limite_credito           10127.0  8632.440165  9088.788041  1438.00  2555.355   \n",
              "valor_transacoes_12m     10127.0  4404.583047  3397.128078   510.16  2155.825   \n",
              "qtd_transacoes_12m       10127.0    64.858695    23.472570    10.00    45.000   \n",
              "\n",
              "                             50%        75%       max  \n",
              "default                     0.00      0.000      1.00  \n",
              "idade                      46.00     52.000     73.00  \n",
              "dependentes                 2.00      3.000      5.00  \n",
              "meses_de_relacionamento    36.00     40.000     56.00  \n",
              "qtd_produtos                4.00      5.000      6.00  \n",
              "iteracoes_12m               2.00      3.000      6.00  \n",
              "meses_inativo_12m           2.00      3.000      6.00  \n",
              "limite_credito           4549.42  11068.175  34516.99  \n",
              "valor_transacoes_12m     3899.59   4741.310  18484.93  \n",
              "qtd_transacoes_12m         67.00     81.000    139.00  "
            ]
          },
          "execution_count": 170,
          "metadata": {},
          "output_type": "execute_result"
        }
      ],
      "source": [
        "df.drop('id', axis=1).select_dtypes('number').describe().transpose()"
      ]
    },
    {
      "cell_type": "markdown",
      "metadata": {
        "id": "FfSrJNGPLgaE"
      },
      "source": [
        "### **3.2. Remoção de dados faltantes** "
      ]
    },
    {
      "cell_type": "markdown",
      "metadata": {
        "id": "C9-LfUrxPk26"
      },
      "source": [
        "Como o pandas está ciente do que é um dados faltante, a remoção das linhas problemáticas é trivial."
      ]
    },
    {
      "cell_type": "code",
      "execution_count": 171,
      "metadata": {
        "id": "PACLJJnsLgak"
      },
      "outputs": [],
      "source": [
        "df.dropna(inplace=True)"
      ]
    },
    {
      "cell_type": "markdown",
      "metadata": {
        "id": "tJhhutM7Phq9"
      },
      "source": [
        "Vamos analisar a estrutura dos dados novamente."
      ]
    },
    {
      "cell_type": "code",
      "execution_count": 172,
      "metadata": {
        "id": "5Fo7S-COP0Lf"
      },
      "outputs": [
        {
          "data": {
            "text/plain": [
              "(7081, 16)"
            ]
          },
          "execution_count": 172,
          "metadata": {},
          "output_type": "execute_result"
        }
      ],
      "source": [
        "df.shape"
      ]
    },
    {
      "cell_type": "code",
      "execution_count": 173,
      "metadata": {
        "id": "jbp-6NaXP0Lh"
      },
      "outputs": [
        {
          "data": {
            "text/plain": [
              "(5968, 16)"
            ]
          },
          "execution_count": 173,
          "metadata": {},
          "output_type": "execute_result"
        }
      ],
      "source": [
        "df[df['default'] == 0].shape"
      ]
    },
    {
      "cell_type": "code",
      "execution_count": 174,
      "metadata": {
        "id": "XJHQihfUP0Li"
      },
      "outputs": [
        {
          "data": {
            "text/plain": [
              "(1113, 16)"
            ]
          },
          "execution_count": 174,
          "metadata": {},
          "output_type": "execute_result"
        }
      ],
      "source": [
        "df[df['default'] == 1].shape"
      ]
    },
    {
      "cell_type": "code",
      "execution_count": 175,
      "metadata": {
        "id": "IGFZmtReP0Lk"
      },
      "outputs": [],
      "source": [
        "qtd_total_novo, _ = df.shape\n",
        "qtd_adimplentes_novo, _ = df[df['default'] == 0].shape\n",
        "qtd_inadimplentes_novo, _ = df[df['default'] == 1].shape"
      ]
    },
    {
      "cell_type": "code",
      "execution_count": 176,
      "metadata": {
        "id": "BU35ZXaKP_6h"
      },
      "outputs": [
        {
          "name": "stdout",
          "output_type": "stream",
          "text": [
            "A proporcão adimplentes ativos é de 83.93%\n",
            "A nova proporcão de clientes adimplentes é de 84.28%\n",
            "\n",
            "A proporcão clientes inadimplentes é de 16.07%\n",
            "A nova proporcão de clientes inadimplentes é de 15.72%\n"
          ]
        }
      ],
      "source": [
        "print(f\"A proporcão adimplentes ativos é de {round(100 * qtd_adimplentes / qtd_total, 2)}%\")\n",
        "print(f\"A nova proporcão de clientes adimplentes é de {round(100 * qtd_adimplentes_novo / qtd_total_novo, 2)}%\")\n",
        "print(\"\")\n",
        "print(f\"A proporcão clientes inadimplentes é de {round(100 * qtd_inadimplentes / qtd_total, 2)}%\")\n",
        "print(f\"A nova proporcão de clientes inadimplentes é de {round(100 * qtd_inadimplentes_novo / qtd_total_novo, 2)}%\")"
      ]
    },
    {
      "cell_type": "markdown",
      "metadata": {
        "id": "iJTgUJqpPKJ3"
      },
      "source": [
        "## 4\\. Visualização de dados"
      ]
    },
    {
      "cell_type": "markdown",
      "metadata": {
        "id": "sJpXNT77pPig"
      },
      "source": [
        "Os dados estão prontos, vamos criar diversas visualizações para correlacionar variáveis explicativas com a variável resposta para buscar entender qual fator leva um cliente a inadimplencia. E para isso, vamos sempre comparar a base com todos os clientes com a base de adimplentes e inadimplentes."
      ]
    },
    {
      "cell_type": "markdown",
      "metadata": {
        "id": "36p-sjU3qPnG"
      },
      "source": [
        "Começamos então importando os pacotes de visualização e separando os clientes adimplentes e inadimplentes "
      ]
    },
    {
      "cell_type": "code",
      "execution_count": 177,
      "metadata": {
        "id": "NkN4P1tGSlFI"
      },
      "outputs": [],
      "source": [
        "import seaborn as sns\n",
        "import matplotlib.pyplot as plt\n",
        "\n",
        "sns.set_style(\"whitegrid\")"
      ]
    },
    {
      "cell_type": "code",
      "execution_count": 178,
      "metadata": {
        "id": "duYfStSTSs4f"
      },
      "outputs": [],
      "source": [
        "df_adimplente = df[df['default'] == 0]"
      ]
    },
    {
      "cell_type": "code",
      "execution_count": 179,
      "metadata": {
        "id": "ldEBuNiiSxVE"
      },
      "outputs": [],
      "source": [
        "df_inadimplente = df[df['default'] == 1]"
      ]
    },
    {
      "cell_type": "markdown",
      "metadata": {
        "id": "u9kFH-ADSEVO"
      },
      "source": [
        "### **4.1. Visualizações categóricas** "
      ]
    },
    {
      "cell_type": "markdown",
      "metadata": {
        "id": "AAKovEBSqSVu"
      },
      "source": [
        "Nesta seção, vamos visualizar a relação entre a variável resposta **default** com os atributos categóricos."
      ]
    },
    {
      "cell_type": "code",
      "execution_count": 180,
      "metadata": {
        "id": "O2bBTZ2PS85K"
      },
      "outputs": [
        {
          "data": {
            "text/html": [
              "<div>\n",
              "<style scoped>\n",
              "    .dataframe tbody tr th:only-of-type {\n",
              "        vertical-align: middle;\n",
              "    }\n",
              "\n",
              "    .dataframe tbody tr th {\n",
              "        vertical-align: top;\n",
              "    }\n",
              "\n",
              "    .dataframe thead th {\n",
              "        text-align: right;\n",
              "    }\n",
              "</style>\n",
              "<table border=\"1\" class=\"dataframe\">\n",
              "  <thead>\n",
              "    <tr style=\"text-align: right;\">\n",
              "      <th></th>\n",
              "      <th>sexo</th>\n",
              "      <th>escolaridade</th>\n",
              "      <th>estado_civil</th>\n",
              "      <th>salario_anual</th>\n",
              "      <th>tipo_cartao</th>\n",
              "    </tr>\n",
              "  </thead>\n",
              "  <tbody>\n",
              "    <tr>\n",
              "      <th>0</th>\n",
              "      <td>M</td>\n",
              "      <td>ensino medio</td>\n",
              "      <td>casado</td>\n",
              "      <td>$60K - $80K</td>\n",
              "      <td>blue</td>\n",
              "    </tr>\n",
              "    <tr>\n",
              "      <th>1</th>\n",
              "      <td>F</td>\n",
              "      <td>mestrado</td>\n",
              "      <td>solteiro</td>\n",
              "      <td>menos que $40K</td>\n",
              "      <td>blue</td>\n",
              "    </tr>\n",
              "    <tr>\n",
              "      <th>2</th>\n",
              "      <td>M</td>\n",
              "      <td>mestrado</td>\n",
              "      <td>casado</td>\n",
              "      <td>$80K - $120K</td>\n",
              "      <td>blue</td>\n",
              "    </tr>\n",
              "    <tr>\n",
              "      <th>4</th>\n",
              "      <td>M</td>\n",
              "      <td>sem educacao formal</td>\n",
              "      <td>casado</td>\n",
              "      <td>$60K - $80K</td>\n",
              "      <td>blue</td>\n",
              "    </tr>\n",
              "    <tr>\n",
              "      <th>5</th>\n",
              "      <td>M</td>\n",
              "      <td>mestrado</td>\n",
              "      <td>casado</td>\n",
              "      <td>$40K - $60K</td>\n",
              "      <td>blue</td>\n",
              "    </tr>\n",
              "  </tbody>\n",
              "</table>\n",
              "</div>"
            ],
            "text/plain": [
              "  sexo         escolaridade estado_civil   salario_anual tipo_cartao\n",
              "0    M         ensino medio       casado     $60K - $80K        blue\n",
              "1    F             mestrado     solteiro  menos que $40K        blue\n",
              "2    M             mestrado       casado    $80K - $120K        blue\n",
              "4    M  sem educacao formal       casado     $60K - $80K        blue\n",
              "5    M             mestrado       casado     $40K - $60K        blue"
            ]
          },
          "execution_count": 180,
          "metadata": {},
          "output_type": "execute_result"
        }
      ],
      "source": [
        "df.select_dtypes('object').head(n=5)"
      ]
    },
    {
      "cell_type": "markdown",
      "metadata": {
        "id": "v0oeXqxsTO2o"
      },
      "source": [
        " - Escolaridade"
      ]
    },
    {
      "cell_type": "code",
      "execution_count": 181,
      "metadata": {
        "id": "oJ9rNBPuTT5i"
      },
      "outputs": [
        {
          "ename": "ValueError",
          "evalue": "'escolaridade' is both an index level and a column label, which is ambiguous.",
          "output_type": "error",
          "traceback": [
            "\u001b[1;31m---------------------------------------------------------------------------\u001b[0m",
            "\u001b[1;31mValueError\u001b[0m                                Traceback (most recent call last)",
            "\u001b[1;32m~\\AppData\\Local\\Temp\\ipykernel_13628\\3423702270.py\u001b[0m in \u001b[0;36m?\u001b[1;34m()\u001b[0m\n\u001b[0;32m     11\u001b[0m \u001b[1;33m\u001b[0m\u001b[0m\n\u001b[0;32m     12\u001b[0m   \u001b[0mdf_to_plot\u001b[0m \u001b[1;33m=\u001b[0m \u001b[0mdataframe\u001b[0m\u001b[1;33m[\u001b[0m\u001b[0mcoluna\u001b[0m\u001b[1;33m]\u001b[0m\u001b[1;33m.\u001b[0m\u001b[0mvalue_counts\u001b[0m\u001b[1;33m(\u001b[0m\u001b[1;33m)\u001b[0m\u001b[1;33m.\u001b[0m\u001b[0mto_frame\u001b[0m\u001b[1;33m(\u001b[0m\u001b[1;33m)\u001b[0m\u001b[1;33m\u001b[0m\u001b[1;33m\u001b[0m\u001b[0m\n\u001b[0;32m     13\u001b[0m   \u001b[0mdf_to_plot\u001b[0m\u001b[1;33m.\u001b[0m\u001b[0mrename\u001b[0m\u001b[1;33m(\u001b[0m\u001b[0mcolumns\u001b[0m\u001b[1;33m=\u001b[0m\u001b[1;33m{\u001b[0m\u001b[0mcoluna\u001b[0m\u001b[1;33m:\u001b[0m \u001b[1;34m'frequencia_absoluta'\u001b[0m\u001b[1;33m}\u001b[0m\u001b[1;33m,\u001b[0m \u001b[0minplace\u001b[0m\u001b[1;33m=\u001b[0m\u001b[1;32mTrue\u001b[0m\u001b[1;33m)\u001b[0m\u001b[1;33m\u001b[0m\u001b[1;33m\u001b[0m\u001b[0m\n\u001b[0;32m     14\u001b[0m   \u001b[0mdf_to_plot\u001b[0m\u001b[1;33m[\u001b[0m\u001b[0mcoluna\u001b[0m\u001b[1;33m]\u001b[0m \u001b[1;33m=\u001b[0m \u001b[0mdf_to_plot\u001b[0m\u001b[1;33m.\u001b[0m\u001b[0mindex\u001b[0m\u001b[1;33m\u001b[0m\u001b[1;33m\u001b[0m\u001b[0m\n\u001b[1;32m---> 15\u001b[1;33m   \u001b[0mdf_to_plot\u001b[0m\u001b[1;33m.\u001b[0m\u001b[0msort_values\u001b[0m\u001b[1;33m(\u001b[0m\u001b[0mby\u001b[0m\u001b[1;33m=\u001b[0m\u001b[1;33m[\u001b[0m\u001b[0mcoluna\u001b[0m\u001b[1;33m]\u001b[0m\u001b[1;33m,\u001b[0m \u001b[0minplace\u001b[0m\u001b[1;33m=\u001b[0m\u001b[1;32mTrue\u001b[0m\u001b[1;33m)\u001b[0m\u001b[1;33m\u001b[0m\u001b[1;33m\u001b[0m\u001b[0m\n\u001b[0m\u001b[0;32m     16\u001b[0m   \u001b[0mdf_to_plot\u001b[0m\u001b[1;33m.\u001b[0m\u001b[0msort_values\u001b[0m\u001b[1;33m(\u001b[0m\u001b[0mby\u001b[0m\u001b[1;33m=\u001b[0m\u001b[1;33m[\u001b[0m\u001b[0mcoluna\u001b[0m\u001b[1;33m]\u001b[0m\u001b[1;33m)\u001b[0m\u001b[1;33m\u001b[0m\u001b[1;33m\u001b[0m\u001b[0m\n\u001b[0;32m     17\u001b[0m \u001b[1;33m\u001b[0m\u001b[0m\n\u001b[0;32m     18\u001b[0m   \u001b[0mf\u001b[0m \u001b[1;33m=\u001b[0m \u001b[0msns\u001b[0m\u001b[1;33m.\u001b[0m\u001b[0mbarplot\u001b[0m\u001b[1;33m(\u001b[0m\u001b[0mx\u001b[0m\u001b[1;33m=\u001b[0m\u001b[0mdf_to_plot\u001b[0m\u001b[1;33m[\u001b[0m\u001b[0mcoluna\u001b[0m\u001b[1;33m]\u001b[0m\u001b[1;33m,\u001b[0m \u001b[0my\u001b[0m\u001b[1;33m=\u001b[0m\u001b[0mdf_to_plot\u001b[0m\u001b[1;33m[\u001b[0m\u001b[1;34m'frequencia_absoluta'\u001b[0m\u001b[1;33m]\u001b[0m\u001b[1;33m,\u001b[0m \u001b[0max\u001b[0m\u001b[1;33m=\u001b[0m\u001b[0meixos\u001b[0m\u001b[1;33m[\u001b[0m\u001b[0meixo\u001b[0m\u001b[1;33m]\u001b[0m\u001b[1;33m)\u001b[0m\u001b[1;33m\u001b[0m\u001b[1;33m\u001b[0m\u001b[0m\n",
            "\u001b[1;32mc:\\Users\\Soldado\\AppData\\Local\\Programs\\Python\\Python311\\Lib\\site-packages\\pandas\\core\\frame.py\u001b[0m in \u001b[0;36m?\u001b[1;34m(self, by, axis, ascending, inplace, kind, na_position, ignore_index, key)\u001b[0m\n\u001b[0;32m   6943\u001b[0m             )\n\u001b[0;32m   6944\u001b[0m         \u001b[1;32melif\u001b[0m \u001b[0mlen\u001b[0m\u001b[1;33m(\u001b[0m\u001b[0mby\u001b[0m\u001b[1;33m)\u001b[0m\u001b[1;33m:\u001b[0m\u001b[1;33m\u001b[0m\u001b[1;33m\u001b[0m\u001b[0m\n\u001b[0;32m   6945\u001b[0m             \u001b[1;31m# len(by) == 1\u001b[0m\u001b[1;33m\u001b[0m\u001b[1;33m\u001b[0m\u001b[0m\n\u001b[0;32m   6946\u001b[0m \u001b[1;33m\u001b[0m\u001b[0m\n\u001b[1;32m-> 6947\u001b[1;33m             \u001b[0mk\u001b[0m \u001b[1;33m=\u001b[0m \u001b[0mself\u001b[0m\u001b[1;33m.\u001b[0m\u001b[0m_get_label_or_level_values\u001b[0m\u001b[1;33m(\u001b[0m\u001b[0mby\u001b[0m\u001b[1;33m[\u001b[0m\u001b[1;36m0\u001b[0m\u001b[1;33m]\u001b[0m\u001b[1;33m,\u001b[0m \u001b[0maxis\u001b[0m\u001b[1;33m=\u001b[0m\u001b[0maxis\u001b[0m\u001b[1;33m)\u001b[0m\u001b[1;33m\u001b[0m\u001b[1;33m\u001b[0m\u001b[0m\n\u001b[0m\u001b[0;32m   6948\u001b[0m \u001b[1;33m\u001b[0m\u001b[0m\n\u001b[0;32m   6949\u001b[0m             \u001b[1;31m# need to rewrap column in Series to apply key function\u001b[0m\u001b[1;33m\u001b[0m\u001b[1;33m\u001b[0m\u001b[0m\n\u001b[0;32m   6950\u001b[0m             \u001b[1;32mif\u001b[0m \u001b[0mkey\u001b[0m \u001b[1;32mis\u001b[0m \u001b[1;32mnot\u001b[0m \u001b[1;32mNone\u001b[0m\u001b[1;33m:\u001b[0m\u001b[1;33m\u001b[0m\u001b[1;33m\u001b[0m\u001b[0m\n",
            "\u001b[1;32mc:\\Users\\Soldado\\AppData\\Local\\Programs\\Python\\Python311\\Lib\\site-packages\\pandas\\core\\generic.py\u001b[0m in \u001b[0;36m?\u001b[1;34m(self, key, axis)\u001b[0m\n\u001b[0;32m   1835\u001b[0m         \u001b[0maxis\u001b[0m \u001b[1;33m=\u001b[0m \u001b[0mself\u001b[0m\u001b[1;33m.\u001b[0m\u001b[0m_get_axis_number\u001b[0m\u001b[1;33m(\u001b[0m\u001b[0maxis\u001b[0m\u001b[1;33m)\u001b[0m\u001b[1;33m\u001b[0m\u001b[1;33m\u001b[0m\u001b[0m\n\u001b[0;32m   1836\u001b[0m         \u001b[0mother_axes\u001b[0m \u001b[1;33m=\u001b[0m \u001b[1;33m[\u001b[0m\u001b[0max\u001b[0m \u001b[1;32mfor\u001b[0m \u001b[0max\u001b[0m \u001b[1;32min\u001b[0m \u001b[0mrange\u001b[0m\u001b[1;33m(\u001b[0m\u001b[0mself\u001b[0m\u001b[1;33m.\u001b[0m\u001b[0m_AXIS_LEN\u001b[0m\u001b[1;33m)\u001b[0m \u001b[1;32mif\u001b[0m \u001b[0max\u001b[0m \u001b[1;33m!=\u001b[0m \u001b[0maxis\u001b[0m\u001b[1;33m]\u001b[0m\u001b[1;33m\u001b[0m\u001b[1;33m\u001b[0m\u001b[0m\n\u001b[0;32m   1837\u001b[0m \u001b[1;33m\u001b[0m\u001b[0m\n\u001b[0;32m   1838\u001b[0m         \u001b[1;32mif\u001b[0m \u001b[0mself\u001b[0m\u001b[1;33m.\u001b[0m\u001b[0m_is_label_reference\u001b[0m\u001b[1;33m(\u001b[0m\u001b[0mkey\u001b[0m\u001b[1;33m,\u001b[0m \u001b[0maxis\u001b[0m\u001b[1;33m=\u001b[0m\u001b[0maxis\u001b[0m\u001b[1;33m)\u001b[0m\u001b[1;33m:\u001b[0m\u001b[1;33m\u001b[0m\u001b[1;33m\u001b[0m\u001b[0m\n\u001b[1;32m-> 1839\u001b[1;33m             \u001b[0mself\u001b[0m\u001b[1;33m.\u001b[0m\u001b[0m_check_label_or_level_ambiguity\u001b[0m\u001b[1;33m(\u001b[0m\u001b[0mkey\u001b[0m\u001b[1;33m,\u001b[0m \u001b[0maxis\u001b[0m\u001b[1;33m=\u001b[0m\u001b[0maxis\u001b[0m\u001b[1;33m)\u001b[0m\u001b[1;33m\u001b[0m\u001b[1;33m\u001b[0m\u001b[0m\n\u001b[0m\u001b[0;32m   1840\u001b[0m             \u001b[0mvalues\u001b[0m \u001b[1;33m=\u001b[0m \u001b[0mself\u001b[0m\u001b[1;33m.\u001b[0m\u001b[0mxs\u001b[0m\u001b[1;33m(\u001b[0m\u001b[0mkey\u001b[0m\u001b[1;33m,\u001b[0m \u001b[0maxis\u001b[0m\u001b[1;33m=\u001b[0m\u001b[0mother_axes\u001b[0m\u001b[1;33m[\u001b[0m\u001b[1;36m0\u001b[0m\u001b[1;33m]\u001b[0m\u001b[1;33m)\u001b[0m\u001b[1;33m.\u001b[0m\u001b[0m_values\u001b[0m\u001b[1;33m\u001b[0m\u001b[1;33m\u001b[0m\u001b[0m\n\u001b[0;32m   1841\u001b[0m         \u001b[1;32melif\u001b[0m \u001b[0mself\u001b[0m\u001b[1;33m.\u001b[0m\u001b[0m_is_level_reference\u001b[0m\u001b[1;33m(\u001b[0m\u001b[0mkey\u001b[0m\u001b[1;33m,\u001b[0m \u001b[0maxis\u001b[0m\u001b[1;33m=\u001b[0m\u001b[0maxis\u001b[0m\u001b[1;33m)\u001b[0m\u001b[1;33m:\u001b[0m\u001b[1;33m\u001b[0m\u001b[1;33m\u001b[0m\u001b[0m\n\u001b[0;32m   1842\u001b[0m             \u001b[0mvalues\u001b[0m \u001b[1;33m=\u001b[0m \u001b[0mself\u001b[0m\u001b[1;33m.\u001b[0m\u001b[0maxes\u001b[0m\u001b[1;33m[\u001b[0m\u001b[0maxis\u001b[0m\u001b[1;33m]\u001b[0m\u001b[1;33m.\u001b[0m\u001b[0mget_level_values\u001b[0m\u001b[1;33m(\u001b[0m\u001b[0mkey\u001b[0m\u001b[1;33m)\u001b[0m\u001b[1;33m.\u001b[0m\u001b[0m_values\u001b[0m\u001b[1;33m\u001b[0m\u001b[1;33m\u001b[0m\u001b[0m\n",
            "\u001b[1;32mc:\\Users\\Soldado\\AppData\\Local\\Programs\\Python\\Python311\\Lib\\site-packages\\pandas\\core\\generic.py\u001b[0m in \u001b[0;36m?\u001b[1;34m(self, key, axis)\u001b[0m\n\u001b[0;32m   1797\u001b[0m             msg = (\n\u001b[0;32m   1798\u001b[0m                 \u001b[1;34mf\"'{key}' is both {level_article} {level_type} level and \"\u001b[0m\u001b[1;33m\u001b[0m\u001b[1;33m\u001b[0m\u001b[0m\n\u001b[0;32m   1799\u001b[0m                 \u001b[1;34mf\"{label_article} {label_type} label, which is ambiguous.\"\u001b[0m\u001b[1;33m\u001b[0m\u001b[1;33m\u001b[0m\u001b[0m\n\u001b[0;32m   1800\u001b[0m             )\n\u001b[1;32m-> 1801\u001b[1;33m             \u001b[1;32mraise\u001b[0m \u001b[0mValueError\u001b[0m\u001b[1;33m(\u001b[0m\u001b[0mmsg\u001b[0m\u001b[1;33m)\u001b[0m\u001b[1;33m\u001b[0m\u001b[1;33m\u001b[0m\u001b[0m\n\u001b[0m",
            "\u001b[1;31mValueError\u001b[0m: 'escolaridade' is both an index level and a column label, which is ambiguous."
          ]
        },
        {
          "data": {
            "image/png": "[encoded data removed]",
            "text/plain": [
              "<Figure size 2000x500 with 3 Axes>"
            ]
          },
          "metadata": {},
          "output_type": "display_data"
        }
      ],
      "source": [
        "coluna = 'escolaridade'\n",
        "titulos = ['Escolaridade dos Clientes', 'Escolaridade dos Clientes Adimplentes', 'Escolaridade dos Clientes Inadimplentes']\n",
        "\n",
        "eixo = 0\n",
        "max_y = 0\n",
        "max = df.select_dtypes('object').describe()[coluna]['freq'] * 1.1\n",
        "\n",
        "figura, eixos = plt.subplots(1,3, figsize=(20, 5), sharex=True)\n",
        "\n",
        "for dataframe in [df, df_adimplente, df_inadimplente]:\n",
        "\n",
        "  df_to_plot = dataframe[coluna].value_counts().to_frame()\n",
        "  df_to_plot.rename(columns={coluna: 'frequencia_absoluta'}, inplace=True)\n",
        "  df_to_plot[coluna] = df_to_plot.index\n",
        "  df_to_plot.sort_values(by=[coluna], inplace=True)\n",
        "  df_to_plot.sort_values(by=[coluna])\n",
        "\n",
        "  f = sns.barplot(x=df_to_plot[coluna], y=df_to_plot['frequencia_absoluta'], ax=eixos[eixo])\n",
        "  f.set(title=titulos[eixo], xlabel=coluna.capitalize(), ylabel='Frequência Absoluta')\n",
        "  f.set_xticklabels(labels=f.get_xticklabels(), rotation=90)\n",
        "\n",
        "  _, max_y_f = f.get_ylim()\n",
        "  max_y = max_y_f if max_y_f > max_y else max_y\n",
        "  f.set(ylim=(0, max_y))\n",
        "\n",
        "  eixo += 1\n",
        "\n",
        "figura.show()"
      ]
    },
    {
      "cell_type": "markdown",
      "metadata": {
        "id": "0h1s5odlgHbY"
      },
      "source": [
        " - Salário Anual"
      ]
    },
    {
      "cell_type": "code",
      "execution_count": null,
      "metadata": {
        "id": "7Lf-X12wgLvJ"
      },
      "outputs": [],
      "source": [
        "coluna = 'salario_anual'\n",
        "titulos = ['Salário Anual dos Clientes', 'Salário Anual dos Clientes Adimplentes', 'Salário Anual dos Clientes Inadimplentes']\n",
        "\n",
        "eixo = 0\n",
        "max_y = 0\n",
        "figura, eixos = plt.subplots(1,3, figsize=(20, 5), sharex=True)\n",
        "\n",
        "for dataframe in [df, df_adimplente, df_inadimplente]:\n",
        "\n",
        "  df_to_plot = dataframe[coluna].value_counts().to_frame()\n",
        "  df_to_plot.rename(columns={coluna: 'frequencia_absoluta'}, inplace=True)\n",
        "  df_to_plot[coluna] = df_to_plot.index\n",
        "  df_to_plot.reset_index(inplace=True, drop=True)\n",
        "  df_to_plot.sort_values(by=[coluna], inplace=True)\n",
        "\n",
        "  f = sns.barplot(x=df_to_plot[coluna], y=df_to_plot['frequencia_absoluta'], ax=eixos[eixo])\n",
        "  f.set(title=titulos[eixo], xlabel=coluna.capitalize(), ylabel='Frequência Absoluta')\n",
        "  f.set_xticklabels(labels=f.get_xticklabels(), rotation=90)\n",
        "  _, max_y_f = f.get_ylim()\n",
        "  max_y = max_y_f if max_y_f > max_y else max_y\n",
        "  f.set(ylim=(0, max_y))\n",
        "  eixo += 1\n",
        "\n",
        "figura.show()"
      ]
    },
    {
      "cell_type": "markdown",
      "metadata": {
        "id": "cBIWU4zISIqR"
      },
      "source": [
        "### **4.2. Visualizações numéricas** "
      ]
    },
    {
      "cell_type": "markdown",
      "metadata": {
        "id": "DWKf-t4iqpFK"
      },
      "source": [
        "Nesta seção, vamos visualizar a relação entre a variável resposta **default** com os atributos numéricos."
      ]
    },
    {
      "cell_type": "code",
      "execution_count": null,
      "metadata": {
        "id": "NEEhLdj0qoUd"
      },
      "outputs": [],
      "source": [
        "df.drop(['id', 'default'], axis=1).select_dtypes('number').head(n=5)"
      ]
    },
    {
      "cell_type": "markdown",
      "metadata": {
        "id": "G7YNmSRQq6fp"
      },
      "source": [
        " - Quantidade de Transações nos Últimos 12 Meses"
      ]
    },
    {
      "cell_type": "code",
      "execution_count": null,
      "metadata": {
        "id": "A3O0oQ9sq8XQ"
      },
      "outputs": [],
      "source": [
        "coluna = 'qtd_transacoes_12m'\n",
        "titulos = ['Qtd. de Transações no Último Ano', 'Qtd. de Transações no Último Ano de Adimplentes', 'Qtd. de Transações no Último Ano de Inadimplentes']\n",
        "\n",
        "eixo = 0\n",
        "max_y = 0\n",
        "figura, eixos = plt.subplots(1,3, figsize=(20, 5), sharex=True)\n",
        "\n",
        "for dataframe in [df, df_adimplente, df_inadimplente]:\n",
        "\n",
        "  f = sns.histplot(x=coluna, data=dataframe, stat='count', ax=eixos[eixo])\n",
        "  f.set(title=titulos[eixo], xlabel=coluna.capitalize(), ylabel='Frequência Absoluta')\n",
        "\n",
        "  _, max_y_f = f.get_ylim()\n",
        "  max_y = max_y_f if max_y_f > max_y else max_y\n",
        "  f.set(ylim=(0, max_y))\n",
        "\n",
        "  eixo += 1\n",
        "\n",
        "figura.show()"
      ]
    },
    {
      "cell_type": "markdown",
      "metadata": {
        "id": "6YqLIvyXtIuN"
      },
      "source": [
        " - Valor das Transações nos Últimos 12 Meses"
      ]
    },
    {
      "cell_type": "code",
      "execution_count": null,
      "metadata": {
        "id": "-tHIbYcetH0J"
      },
      "outputs": [],
      "source": [
        "coluna = 'valor_transacoes_12m'\n",
        "titulos = ['Valor das Transações no Último Ano', 'Valor das Transações no Último Ano de Adimplentes', 'Valor das Transações no Último Ano de Inadimplentes']\n",
        "\n",
        "eixo = 0\n",
        "max_y = 0\n",
        "figura, eixos = plt.subplots(1,3, figsize=(20, 5), sharex=True)\n",
        "\n",
        "for dataframe in [df, df_adimplente, df_inadimplente]:\n",
        "\n",
        "  f = sns.histplot(x=coluna, data=dataframe, stat='count', ax=eixos[eixo])\n",
        "  f.set(title=titulos[eixo], xlabel=coluna.capitalize(), ylabel='Frequência Absoluta')\n",
        "\n",
        "  _, max_y_f = f.get_ylim()\n",
        "  max_y = max_y_f if max_y_f > max_y else max_y\n",
        "  f.set(ylim=(0, max_y))\n",
        "\n",
        "  eixo += 1\n",
        "\n",
        "figura.show()"
      ]
    },
    {
      "cell_type": "markdown",
      "metadata": {
        "id": "10ud8vxqzqjI"
      },
      "source": [
        " - Valor de Transações nos Últimos 12 Meses x Quantidade de Transações nos Últimos 12 Meses"
      ]
    },
    {
      "cell_type": "code",
      "execution_count": null,
      "metadata": {
        "id": "SjqqF940x-lL"
      },
      "outputs": [],
      "source": [
        "f = sns.relplot(x='valor_transacoes_12m', y='qtd_transacoes_12m', data=df, hue='default')\n",
        "_ = f.set(\n",
        "    title='Relação entre Valor e Quantidade de Transações no Último Ano', \n",
        "    xlabel='Valor das Transações no Último Ano', \n",
        "    ylabel='Quantidade das Transações no Último Ano'\n",
        "  )"
      ]
    },
    {
      "cell_type": "markdown",
      "metadata": {
        "id": "jtCp7A-6PP28"
      },
      "source": [
        "## 5\\. Storytelling"
      ]
    },
    {
      "cell_type": "markdown",
      "metadata": {
        "id": "h9XpS6Vi1DYz"
      },
      "source": [
        "O *storytelling* no contexto de dados é um técnica de apresentação de resultados orientado a dados, ou seja, contar uma história baseada nos *insights* que foram gerados através da análise dos dados. Notebooks como este do Google Colab e os do Kaggle são excelentes ferramentas para conduzir e compartilhar *storytelling* de dados devido a natureza texto-código de suas céluas."
      ]
    },
    {
      "cell_type": "markdown",
      "metadata": {
        "id": "T0H9WWGr17ZI"
      },
      "source": [
        "Para você montar o seu portifólio, eu sugiro a construção de um notebook com a seguinte estrutura (vou disponibiliza-la nos exercícios):\n",
        "\n",
        " 1. Título;\n",
        " 2. Breve descrição do problema;\n",
        " 3. Código de importação de bibliotecas;\n",
        " 4. Código o download/carregamento/geração de dados;\n",
        " 5. Etapa de exploração;\n",
        " 6. Etapa de limpeza e transformação;\n",
        " 7. Etapa de análise (com visualizações);\n",
        " 8. Resumo dos *insights* gerados.\n",
        "\n",
        "Busquei organizar este notebook desta forma. Ademais, os notebooks presentes na plataforma do Kaggle são excelentes exemplos a serem seguidos, em especial os primeiros colocados em competições."
      ]
    },
    {
      "cell_type": "markdown",
      "metadata": {
        "id": "RyRpZU-R3OOy"
      },
      "source": [
        "Para finalizar, algumas dicas:\n",
        "\n",
        " 1. Estruture seu código sempre de acordo com as boas práticas PEP8, assim ele será mais legível para o leitor;\n",
        " 2. Sempre se preocupe com a aparência dos seus gráficos, todos devem ter (no mínimo) título no topo e nos eixos;\n",
        " 3. Use e abuso das células de texto para estruturar seu notebook, siga as mesmas técnicas que eu utilizo nos notebooks do curso para estruturar seu texto."
      ]
    },
    {
      "cell_type": "markdown",
      "metadata": {
        "id": "s4yGtBF2pKG0"
      },
      "source": [
        "____"
      ]
    },
    {
      "cell_type": "markdown",
      "metadata": {
        "id": "rr6WbbcQo0hS"
      },
      "source": [
        "Quando terminar, se possível, entra em contato comigo, eu adoraria ver o seu notebook final pronto! Meu LinkedIn está no topo da página, logo após o logo da EBAC. Espero que você tenha gostado, foi um prazer trabalhar com você!\n",
        "\n",
        "Até a próxima."
      ]
    }
  ],
  "metadata": {
    "colab": {
      "collapsed_sections": [],
      "name": "module_10_class.ipynb",
      "provenance": [],
      "toc_visible": true
    },
    "kernelspec": {
      "display_name": "Python 3",
      "name": "python3"
    },
    "language_info": {
      "codemirror_mode": {
        "name": "ipython",
        "version": 3
      },
      "file_extension": ".py",
      "mimetype": "text/x-python",
      "name": "python",
      "nbconvert_exporter": "python",
      "pygments_lexer": "ipython3",
      "version": "3.11.5"
    }
  },
  "nbformat": 4,
  "nbformat_minor": 0
}

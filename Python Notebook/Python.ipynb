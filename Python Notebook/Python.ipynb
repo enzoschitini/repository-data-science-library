{
 "cells": [
  {
   "cell_type": "markdown",
   "id": "fbb37ee2",
   "metadata": {},
   "source": [
    "## Dominando Python: Fundamentos e Práticas Avançadas\n",
    "\n",
    "<img src=\"https://raw.githubusercontent.com/enzoschitini/repository-data-science-library/main/Python%20Notebook/img/Python%20Notebook%20Library.png\" alt=\"ebac-logo\">\n",
    "\n",
    "---\n",
    "\n",
    "# **Introdução** | Python Notebook Library\n",
    "Caderno de **Aula**<br> \n",
    "Desenvolvedor [Enzo Schitini](https://enzo-schitini.bubbleapps.io/version-test/)\n",
    "\n",
    "---\n",
    "\n",
    "**Introdução:**\n",
    "A \"Python Notebook Library\" é uma coleção abrangente de módulos que cobrem os principais aspectos da programação em Python, desde os fundamentos até as práticas avançadas. Ideal tanto para iniciantes quanto para programadores experientes, este material foi projetado para proporcionar uma compreensão profunda da linguagem e suas aplicações. Cada capítulo oferece uma abordagem prática e teórica, permitindo que você desenvolva habilidades essenciais e se prepare para desafios reais no desenvolvimento de software.\n",
    "\n",
    "**Módulos:**\n",
    "\n",
    "**1. Variáveis & Tipos de Dados:**  \n",
    "Neste módulo, você aprenderá a declarar e utilizar variáveis, além de explorar os diferentes tipos de dados que Python oferece. Compreender como escolher o tipo de dado adequado é fundamental para a manipulação eficiente e otimização do seu código.\n",
    "\n",
    "**2. Estruturas de Dados:**  \n",
    "Explore as principais estruturas de dados em Python, como listas, tuplas, conjuntos e dicionários. Este módulo ensina a armazenar e organizar dados de maneira eficiente e a realizar operações comuns para resolver problemas de forma eficaz.\n",
    "\n",
    "**3. Fluxo Condicional & Repetição:**  \n",
    "Aprenda a controlar o fluxo do seu programa com condicionais e estruturas de repetição. Compreender como tomar decisões e executar blocos de código repetidamente é essencial para criar programas dinâmicos e interativos.\n",
    "\n",
    "**4. Arquivos & Funções:**  \n",
    "Este módulo aborda a leitura e escrita de arquivos, além da criação e utilização de funções. Você aprenderá a modularizar seu código para torná-lo mais organizado e reutilizável, e a manipular dados armazenados em arquivos de forma eficiente.\n",
    "\n",
    "**5. Programação Funcional:**  \n",
    "Descubra o paradigma da programação funcional em Python, incluindo o uso de funções como objetos de primeira classe, funções lambda e técnicas funcionais para escrever código mais conciso e livre de efeitos colaterais.\n",
    "\n",
    "**6. Programação Orientada a Objetos:**  \n",
    "Explore a Programação Orientada a Objetos (POO) para modelar problemas do mundo real em Python. Este módulo cobre conceitos fundamentais como classes, objetos, herança e polimorfismo, ajudando a criar soluções mais estruturadas e reutilizáveis.\n",
    "\n",
    "**7. Módulos & Pacotes:**  \n",
    "Aprenda a organizar e reutilizar seu código com módulos e pacotes. Este módulo cobre a criação e importação de módulos, a estrutura de pacotes e o uso de bibliotecas externas para expandir as funcionalidades do seu projeto.\n",
    "\n",
    "**8. Tratamento de Erros:**  \n",
    "Entenda como lidar com erros e exceções para garantir que seu programa seja robusto e confiável. Você aprenderá a usar blocos `try`, `except`, `else` e `finally`, além de criar exceções personalizadas para tratar problemas inesperados de forma eficaz.\n",
    "\n",
    "**9. Scripting:**  \n",
    "Descubra como utilizar Python para criar scripts que automatizam tarefas e processam dados. Este módulo ensina boas práticas para a criação de scripts, a utilização de argumentos de linha de comando e a criação de scripts executáveis, aumentando sua produtividade e eficiência.\n",
    "\n",
    "A \"Python Notebook Library\" oferece uma base sólida em Python e prepara você para enfrentar desafios mais complexos no desenvolvimento de software. Boa leitura e sucesso na sua jornada com Python!\n",
    "\n",
    "Python é uma das linguagens de programação mais versáteis e amplamente utilizadas no mundo da tecnologia. De scripts simples a sistemas complexos, Python oferece uma gama de ferramentas e técnicas para desenvolver soluções eficientes e elegantes. Este material é projetado para guiá-lo desde os conceitos básicos até técnicas mais avançadas, proporcionando uma compreensão abrangente e prática da linguagem. Se você está começando agora ou deseja aprimorar suas habilidades, este guia é seu caminho para se tornar proficiente em Python.\n",
    "\n",
    "---"
   ]
  },
  {
   "cell_type": "markdown",
   "id": "74c88f0c",
   "metadata": {
    "id": "KJqp9AANOCtf"
   },
   "source": [
    "<img src=\"https://raw.githubusercontent.com/enzoschitini/repository-data-science-library/main/Python%20Notebook/img/Vari%C3%A1veis%20%26%20Tipos%20de%20Dados.png\" alt=\"ebac-logo\">\n",
    "\n",
    "---\n",
    "\n",
    "# **Módulo 01** | Python: Variáveis & Tipos de Dados\n",
    "Caderno de **Aula**<br> \n",
    "Desenvolvedor [Enzo Schitini](https://enzo-schitini.bubbleapps.io/version-test/)\n",
    "\n",
    "---"
   ]
  },
  {
   "cell_type": "markdown",
   "id": "5c01f477",
   "metadata": {
    "id": "d9jDtUbDOE1-"
   },
   "source": [
    "# **Tópicos**\n",
    "\n",
    "<ol type=\"1\">\n",
    "  <li>Introdução ao Google Colab;</li>\n",
    "  <li>Variáveis;</li>\n",
    "  <li>Números;</li>\n",
    "  <li><i>Strings;</i></li>\n",
    "  <li>Boleanos.</li>\n",
    "</ol>"
   ]
  },
  {
   "cell_type": "markdown",
   "id": "827abfa9",
   "metadata": {
    "id": "SmoHgt-lwkpD"
   },
   "source": [
    "---"
   ]
  },
  {
   "cell_type": "markdown",
   "id": "08c20c10",
   "metadata": {
    "id": "GABI6OW8OfQ2"
   },
   "source": [
    "# **Aulas**"
   ]
  },
  {
   "cell_type": "markdown",
   "id": "8698491f",
   "metadata": {
    "id": "muD1vxozykSC"
   },
   "source": [
    "## 1\\. Introdução ao Google Colab"
   ]
  },
  {
   "cell_type": "markdown",
   "id": "15dcfd7d",
   "metadata": {
    "id": "xT1ohV3t0FQJ"
   },
   "source": [
    "> Ferramenta web autogerênciada de cadernos (*notebooks*)."
   ]
  },
  {
   "cell_type": "markdown",
   "id": "7b259013",
   "metadata": {
    "id": "5a3_syBIP6yO"
   },
   "source": [
    "### **1.1. Ferramenta web** "
   ]
  },
  {
   "cell_type": "markdown",
   "id": "de07c00a",
   "metadata": {
    "id": "xF1tFQyRQag2"
   },
   "source": [
    "\n",
    "\n",
    "*   Crie uma conta Google em [gmail.com](https://gmail.com);\n",
    "*   Acesse o Google Colab através do endereço [colab.research.google.com](https://colab.research.google.com/).\n",
    "\n",
    "\n"
   ]
  },
  {
   "cell_type": "markdown",
   "id": "edc1a430",
   "metadata": {
    "id": "VkIgtLmhQRDV"
   },
   "source": [
    "### **1.2. Autogerênciada** "
   ]
  },
  {
   "cell_type": "markdown",
   "id": "c0e4cff6",
   "metadata": {
    "id": "P14BSbuH0SQB"
   },
   "source": [
    "\n",
    "\n",
    "*   A Google provisiona uma máquina virtual para você;\n",
    "*   A máquina virtual dura no máximo 12h.\n",
    "\n"
   ]
  },
  {
   "cell_type": "markdown",
   "id": "6e537dcd",
   "metadata": {
    "id": "mIgaH380QG2e"
   },
   "source": [
    "### **1.3. Cadernos (*notebooks*)** "
   ]
  },
  {
   "cell_type": "markdown",
   "id": "04541f38",
   "metadata": {
    "id": "_4Q4H0RKm-4G"
   },
   "source": [
    "Um **caderno** é um documento *web* composto por um conjunto de elementos (células) de texto e código:\n",
    "\n",
    "\n",
    "*   Células de **texto** podem ser editados com o editor da ferramenta, HTML ou Markdown; \n",
    "*   Células de **código** são exclusivamente para a linguagem de programação Python.\n",
    "\n"
   ]
  },
  {
   "cell_type": "code",
   "execution_count": 29,
   "id": "b71af7d2",
   "metadata": {
    "id": "ILZGen4Ob_vC"
   },
   "outputs": [
    {
     "name": "stdout",
     "output_type": "stream",
     "text": [
      "olá mundo!\n"
     ]
    }
   ],
   "source": [
    "print(\"olá mundo!\")"
   ]
  },
  {
   "cell_type": "markdown",
   "id": "dd6a90b2",
   "metadata": {
    "id": "zC2XR1GRaFl5"
   },
   "source": [
    "## 2\\. Variáveis"
   ]
  },
  {
   "cell_type": "markdown",
   "id": "80c6683c",
   "metadata": {
    "id": "sV1otxQVhcaA"
   },
   "source": [
    "### **2.1. Definição** "
   ]
  },
  {
   "cell_type": "markdown",
   "id": "fb8c93a2",
   "metadata": {
    "id": "h5y7fCLQkZsh"
   },
   "source": [
    "Mecanismo de armazenamento volátil de dados, ou seja, dados salvos em pedacinhos da memória RAM do sistema computacional em uso (*notebook*, *mobile*, console de vídeo game, *smartwatch*, etc.)."
   ]
  },
  {
   "cell_type": "code",
   "execution_count": 30,
   "id": "12bd7791",
   "metadata": {
    "id": "aMZfXjjakydR"
   },
   "outputs": [
    {
     "name": "stdout",
     "output_type": "stream",
     "text": [
      "30\n",
      "27\n",
      "andré\n"
     ]
    }
   ],
   "source": [
    "idade = 30\n",
    "print(idade)\n",
    "\n",
    "idade = 27\n",
    "print(idade)\n",
    "\n",
    "nome = \"andré\"\n",
    "print(nome)"
   ]
  },
  {
   "cell_type": "markdown",
   "id": "5d0d98fd",
   "metadata": {
    "id": "JG1HL69-j0lH"
   },
   "source": [
    "### **2.2. Tipos nativos** "
   ]
  },
  {
   "cell_type": "markdown",
   "id": "3a83ffd9",
   "metadata": {
    "id": "ltUCqK5Yj6AN"
   },
   "source": [
    "**Tipos numéricos:** inteiros (`int`) e decimais (`float`):"
   ]
  },
  {
   "cell_type": "code",
   "execution_count": 31,
   "id": "1a6bf972",
   "metadata": {
    "id": "7GDDnhhLhsZ2"
   },
   "outputs": [
    {
     "name": "stdout",
     "output_type": "stream",
     "text": [
      "1000\n",
      "<class 'int'>\n",
      "0.05\n",
      "<class 'float'>\n"
     ]
    }
   ],
   "source": [
    "preco = 1000\n",
    "tipo_preco = type(preco)\n",
    "\n",
    "print(preco)\n",
    "print(tipo_preco)\n",
    "\n",
    "juros = 0.05\n",
    "tipo_juros = type(juros)\n",
    "\n",
    "print(juros)\n",
    "print(tipo_juros)"
   ]
  },
  {
   "cell_type": "markdown",
   "id": "7819b689",
   "metadata": {
    "id": "5LLx5ePxj_UW"
   },
   "source": [
    "**Tipos de texto:** *strings* (`str`):"
   ]
  },
  {
   "cell_type": "code",
   "execution_count": 32,
   "id": "810d96b8",
   "metadata": {
    "id": "FKuOxDzQiHAo"
   },
   "outputs": [
    {
     "name": "stdout",
     "output_type": "stream",
     "text": [
      "André\n",
      "<class 'str'>\n",
      "Brasil\n",
      "<class 'str'>\n"
     ]
    }
   ],
   "source": [
    "primeiro_nome = \"André\"\n",
    "\n",
    "print(primeiro_nome)\n",
    "print(type(primeiro_nome))\n",
    "\n",
    "pais = 'Brasil'\n",
    "\n",
    "print(pais)\n",
    "print(type(pais))"
   ]
  },
  {
   "cell_type": "markdown",
   "id": "894aa3e4",
   "metadata": {
    "id": "RGKyzda2kIh5"
   },
   "source": [
    "**Tipos lógicos:** booleanos (`bool`):"
   ]
  },
  {
   "cell_type": "code",
   "execution_count": 33,
   "id": "bcba7133",
   "metadata": {
    "id": "C2cJSexqiTq-"
   },
   "outputs": [
    {
     "name": "stdout",
     "output_type": "stream",
     "text": [
      "True\n",
      "<class 'bool'>\n"
     ]
    }
   ],
   "source": [
    "usuario_maior_de_idade = True\n",
    "\n",
    "print(usuario_maior_de_idade)\n",
    "print(type(usuario_maior_de_idade))"
   ]
  },
  {
   "cell_type": "markdown",
   "id": "84c5143e",
   "metadata": {
    "id": "7Is0Z3PzkQqw"
   },
   "source": [
    "**Tipo vazio** (`NoneType`):"
   ]
  },
  {
   "cell_type": "code",
   "execution_count": 34,
   "id": "f3e74754",
   "metadata": {
    "id": "47WGcXxIijO-"
   },
   "outputs": [
    {
     "name": "stdout",
     "output_type": "stream",
     "text": [
      "None\n",
      "<class 'NoneType'>\n"
     ]
    }
   ],
   "source": [
    "telefone_fixo = None\n",
    "\n",
    "print(telefone_fixo)\n",
    "print(type(telefone_fixo))"
   ]
  },
  {
   "cell_type": "markdown",
   "id": "3b39013b",
   "metadata": {},
   "source": [
    "### 2.3. Operations with variables"
   ]
  },
  {
   "cell_type": "markdown",
   "id": "7836c443",
   "metadata": {},
   "source": [
    "#### Operações com strings"
   ]
  },
  {
   "cell_type": "code",
   "execution_count": 35,
   "id": "1beac9a5",
   "metadata": {},
   "outputs": [
    {
     "name": "stdout",
     "output_type": "stream",
     "text": [
      "Olá Mundo!\n",
      "PythonPythonPython\n",
      "m Pytho\n",
      "A string contém 'Py'\n",
      "123\n",
      "Meu nome é João e tenho 30 anos.\n"
     ]
    }
   ],
   "source": [
    "# Concatenação de strings\n",
    "string1 = \"Olá\"\n",
    "string2 = \" Mundo!\"\n",
    "string_concatenada = string1 + string2\n",
    "print(string_concatenada)  # Saída: Olá Mundo!\n",
    "\n",
    "# Repetição de strings\n",
    "string = \"Python\"\n",
    "string_repetida = string * 3\n",
    "print(string_repetida)  # Saída: PythonPythonPython\n",
    "\n",
    "# Fatiamento de strings\n",
    "string = \"Linguagem Python\"\n",
    "substring = string[8:15]\n",
    "print(substring)  # Saída: Python\n",
    "\n",
    "# Verificação de strings\n",
    "string = \"Python\"\n",
    "if \"Py\" in string:\n",
    "  print(\"A string contém 'Py'\")  # Saída: A string contém 'Py'\n",
    "\n",
    "# Conversão de strings\n",
    "numero = 123\n",
    "string_numero = str(numero)\n",
    "print(string_numero)  # Saída: 123\n",
    "\n",
    "# Formatação de strings\n",
    "nome = \"João\"\n",
    "idade = 30\n",
    "string_formatada = f\"Meu nome é {nome} e tenho {idade} anos.\"\n",
    "print(string_formatada)  # Saída: Meu nome é João e tenho 30 anos."
   ]
  },
  {
   "cell_type": "markdown",
   "id": "2f0133f1",
   "metadata": {},
   "source": [
    "#### Operações matemáticas"
   ]
  },
  {
   "cell_type": "code",
   "execution_count": 36,
   "id": "992b03c4",
   "metadata": {},
   "outputs": [
    {
     "name": "stdout",
     "output_type": "stream",
     "text": [
      "Resultado: 7.0\n"
     ]
    }
   ],
   "source": [
    "def calcular(num1, num2, operação):\n",
    "  if operação == \"+\":\n",
    "    return num1 + num2\n",
    "  elif operação == \"-\":\n",
    "    return num1 - num2\n",
    "  elif operação == \"*\":\n",
    "    return num1 * num2\n",
    "  elif operação == \"/\":\n",
    "    if num2 == 0:\n",
    "      return \"Erro: Divisão por zero\"\n",
    "    else:\n",
    "      return num1 / num2\n",
    "  else:\n",
    "    return \"Operação inválida\"\n",
    "\n",
    "num1 = 3.0\n",
    "num2 = 4.0\n",
    "operação = \"+\"\n",
    "\n",
    "resultado = calcular(num1, num2, operação)\n",
    "\n",
    "print(f\"Resultado: {resultado}\")"
   ]
  },
  {
   "cell_type": "markdown",
   "id": "d84305e9",
   "metadata": {},
   "source": [
    "#### Operações com booleanos"
   ]
  },
  {
   "cell_type": "code",
   "execution_count": 37,
   "id": "d059d847",
   "metadata": {},
   "outputs": [
    {
     "name": "stdout",
     "output_type": "stream",
     "text": [
      "False\n",
      "True\n",
      "False\n",
      "True\n"
     ]
    }
   ],
   "source": [
    "a = True\n",
    "b = False\n",
    "\n",
    "# Operador AND\n",
    "print(a and b)  # False\n",
    "\n",
    "# Operador OR\n",
    "print(a or b)   # True\n",
    "\n",
    "# Operador NOT\n",
    "print(not a)    # False\n",
    "\n",
    "# Operador XOR\n",
    "print(a ^ b)    # True"
   ]
  },
  {
   "cell_type": "markdown",
   "id": "a5555a9c",
   "metadata": {
    "id": "ZtOHwcxEaGGp"
   },
   "source": [
    "## 3\\. Números"
   ]
  },
  {
   "cell_type": "markdown",
   "id": "1d8c16a0",
   "metadata": {
    "id": "s_Dj-BgThLg5"
   },
   "source": [
    "### **3.1. Motivação** "
   ]
  },
  {
   "cell_type": "markdown",
   "id": "e057c3f9",
   "metadata": {
    "id": "-WX56uZlEVEb"
   },
   "source": [
    "Você precisa calcular o **ticket médio** diário `tkt` do seu restaurante. A métrica é calculada pela soma do valor das vendas `svv` de um mesmo dia dividido pela quantidade de vendas `sqv`, também de um mesmo dia. \n"
   ]
  },
  {
   "cell_type": "markdown",
   "id": "fde10a9d",
   "metadata": {
    "id": "5a_KPf7MM_NV"
   },
   "source": [
    "$tkt = svv / sqv$"
   ]
  },
  {
   "cell_type": "markdown",
   "id": "cdfbeddd",
   "metadata": {
    "id": "QV_qcqfZMzoL"
   },
   "source": [
    "Esta é a sua planilha:\n",
    "\n"
   ]
  },
  {
   "cell_type": "markdown",
   "id": "4212b5ad",
   "metadata": {
    "id": "ubiOD7fyNB9t"
   },
   "source": [
    "| Dia   | Valor Total Vendas | Qtd Total Vendas | Ticket Medio |\n",
    "|-------|--------------------|------------------|-|\n",
    "| 19/01 | 153.98             | 3                |?|\n",
    "| 20/01 | 337.01             | 7                |?|\n",
    "| 23/01 | 295.33             | 5                |?|"
   ]
  },
  {
   "cell_type": "markdown",
   "id": "b6be8ba8",
   "metadata": {
    "id": "zl3QjgS_1o1n"
   },
   "source": [
    "Como podemos fazer este cálculo usando o Python?"
   ]
  },
  {
   "cell_type": "markdown",
   "id": "8a2e7aa2",
   "metadata": {
    "id": "jeEzLmuRhDQy"
   },
   "source": [
    "### **3.2. Definição** "
   ]
  },
  {
   "cell_type": "markdown",
   "id": "3b62692b",
   "metadata": {
    "id": "ngFl2buTAnSs"
   },
   "source": [
    "Armazenam **valores numéricos**: \n",
    "\n",
    "*   `10, 37, 500` (inteiros);\n",
    "*   `0.333, 10.1` (decimais);\n",
    "*   `1 + 2j` (complexos).\n",
    "\n"
   ]
  },
  {
   "cell_type": "markdown",
   "id": "e459a9f5",
   "metadata": {
    "id": "Ai9djKfjBjO7"
   },
   "source": [
    "São dos tipos:\n",
    "\n",
    "*   `int` (inteiros);\n",
    "*   `float` (decimais);\n",
    "*   `complex` (complexos).\n",
    "\n"
   ]
  },
  {
   "cell_type": "code",
   "execution_count": 38,
   "id": "2612efc0",
   "metadata": {
    "id": "45Zt8wPsBzFL"
   },
   "outputs": [
    {
     "name": "stdout",
     "output_type": "stream",
     "text": [
      "<class 'int'>\n",
      "<class 'float'>\n",
      "<class 'complex'>\n"
     ]
    }
   ],
   "source": [
    "print(type(37))\n",
    "print(type(10.1))\n",
    "print(type(1 + 2j))\n"
   ]
  },
  {
   "cell_type": "markdown",
   "id": "5e26b4ba",
   "metadata": {
    "id": "PoTeRwlihDQ0"
   },
   "source": [
    "### **3.3. Operações** \n",
    "\n",
    "\n",
    "\n"
   ]
  },
  {
   "cell_type": "markdown",
   "id": "a9441626",
   "metadata": {
    "id": "jhK1JIKUDGKG"
   },
   "source": [
    "As operações dos tipos numéricos são as quatro operações matemáticas fundamentais:\n",
    "\n",
    "*   `+` (soma);\n",
    "*   `-` (subtração);\n",
    "*   `*` (multiplicação);\n",
    "*   `/` (divisão).\n",
    "\n",
    "Além de operações mais avançadas:\n",
    "\n",
    "*   `//` (divisão inteira)\n",
    "*   `**` (potência ou exponenciação);\n",
    "*   `%` (resto de divisão)."
   ]
  },
  {
   "cell_type": "markdown",
   "id": "2808973a",
   "metadata": {
    "id": "UYw4Ysf7a9mq"
   },
   "source": [
    "**Exemplo**: Carrinho de compra de um *e-commerce*."
   ]
  },
  {
   "cell_type": "code",
   "execution_count": 39,
   "id": "5ee5de91",
   "metadata": {
    "id": "jk33JZ4EChkY"
   },
   "outputs": [
    {
     "name": "stdout",
     "output_type": "stream",
     "text": [
      "1\n",
      "2\n"
     ]
    }
   ],
   "source": [
    "qtd_items_carrinho_compra = 0\n",
    "\n",
    "qtd_items_carrinho_compra = qtd_items_carrinho_compra + 1\n",
    "print(qtd_items_carrinho_compra)\n",
    "\n",
    "qtd_items_carrinho_compra = qtd_items_carrinho_compra + 1\n",
    "print(qtd_items_carrinho_compra)"
   ]
  },
  {
   "cell_type": "code",
   "execution_count": 40,
   "id": "6e019a61",
   "metadata": {
    "id": "O6RSj4GrD4ub"
   },
   "outputs": [
    {
     "name": "stdout",
     "output_type": "stream",
     "text": [
      "1\n",
      "2\n"
     ]
    }
   ],
   "source": [
    "qtd_items_carrinho_compra = 0\n",
    "\n",
    "qtd_items_carrinho_compra += 1\n",
    "print(qtd_items_carrinho_compra)\n",
    "\n",
    "qtd_items_carrinho_compra += 1\n",
    "print(qtd_items_carrinho_compra)"
   ]
  },
  {
   "cell_type": "markdown",
   "id": "025f6125",
   "metadata": {
    "id": "J7qurQRJbFJZ"
   },
   "source": [
    "**Exemplo**: Total a pagar de um produto."
   ]
  },
  {
   "cell_type": "code",
   "execution_count": 41,
   "id": "049d6587",
   "metadata": {
    "id": "hcIHiGzREIUW"
   },
   "outputs": [
    {
     "name": "stdout",
     "output_type": "stream",
     "text": [
      "11.75\n"
     ]
    }
   ],
   "source": [
    "preco = 47\n",
    "quantidade = 0.250\n",
    "\n",
    "total_a_pagar = quantidade * preco\n",
    "print(total_a_pagar)"
   ]
  },
  {
   "cell_type": "code",
   "execution_count": 42,
   "id": "641c2de9",
   "metadata": {
    "id": "uK-JxBwc28Yo"
   },
   "outputs": [
    {
     "name": "stdout",
     "output_type": "stream",
     "text": [
      "1.5\n",
      "<class 'float'>\n",
      "1\n",
      "<class 'int'>\n"
     ]
    }
   ],
   "source": [
    "a = 3\n",
    "b = 2\n",
    "\n",
    "c = a / b\n",
    "print(c)\n",
    "print(type(c))\n",
    "\n",
    "d = a // b\n",
    "print(d)\n",
    "print(type(d))"
   ]
  },
  {
   "cell_type": "markdown",
   "id": "ca5f5694",
   "metadata": {
    "id": "QpMlxqRyhDQ1"
   },
   "source": [
    "### **3.4. Conversão** "
   ]
  },
  {
   "cell_type": "markdown",
   "id": "9a5c56cb",
   "metadata": {
    "id": "blCccgPDb4Xq"
   },
   "source": [
    "Podemos converter os tipos numéricos entre si utilizando o método nativo `int`, `float` e `complex`:"
   ]
  },
  {
   "cell_type": "code",
   "execution_count": 43,
   "id": "89e72d93",
   "metadata": {
    "id": "ys7oqfsSPxuo"
   },
   "outputs": [
    {
     "name": "stdout",
     "output_type": "stream",
     "text": [
      "3\n"
     ]
    }
   ],
   "source": [
    "print(int(3.9))"
   ]
  },
  {
   "cell_type": "code",
   "execution_count": 44,
   "id": "6fde7860",
   "metadata": {
    "id": "X9gYjUQscd93"
   },
   "outputs": [
    {
     "name": "stdout",
     "output_type": "stream",
     "text": [
      "10.0\n"
     ]
    }
   ],
   "source": [
    "print(float(10))"
   ]
  },
  {
   "cell_type": "code",
   "execution_count": 45,
   "id": "a9d34a3f",
   "metadata": {
    "id": "0NyTadpHchyu"
   },
   "outputs": [
    {
     "name": "stdout",
     "output_type": "stream",
     "text": [
      "(1+0j)\n"
     ]
    }
   ],
   "source": [
    "print(complex(1))"
   ]
  },
  {
   "cell_type": "markdown",
   "id": "09277922",
   "metadata": {
    "id": "ov7Fg-mWhDQ1"
   },
   "source": [
    "### **3.5. Revisitando a motivação** "
   ]
  },
  {
   "cell_type": "markdown",
   "id": "86b47efb",
   "metadata": {
    "id": "FCoe_26dbXwR"
   },
   "source": [
    "| Dia   | Valor Total Vendas | Qtd Total Vendas | Ticket Medio |\n",
    "|-------|--------------------|------------------|-|\n",
    "| 19/01 | 153.98             | 3                |?|\n",
    "| 20/01 | 337.01             | 7                |?|\n",
    "| 23/01 | 295.33             | 5                |?|"
   ]
  },
  {
   "cell_type": "markdown",
   "id": "99f9f71f",
   "metadata": {
    "id": "fWH4WbWAOgoz"
   },
   "source": [
    "Ticket médio diário do dia 19/01."
   ]
  },
  {
   "cell_type": "code",
   "execution_count": 46,
   "id": "973f789c",
   "metadata": {
    "id": "gYcNsiolOUKU"
   },
   "outputs": [
    {
     "name": "stdout",
     "output_type": "stream",
     "text": [
      "51.32666666666666\n"
     ]
    }
   ],
   "source": [
    "svv_19 = 153.98\n",
    "sqv_19 = 3\n",
    "\n",
    "tkt_19 = svv_19 / sqv_19\n",
    "print(tkt_19)"
   ]
  },
  {
   "cell_type": "markdown",
   "id": "5a5a169f",
   "metadata": {
    "id": "RrLEVyS6Pmpn"
   },
   "source": [
    "Ticket médio diário do dia 20/01."
   ]
  },
  {
   "cell_type": "code",
   "execution_count": 47,
   "id": "668f48fe",
   "metadata": {
    "id": "YIi6A_55OUpT"
   },
   "outputs": [
    {
     "name": "stdout",
     "output_type": "stream",
     "text": [
      "48.144285714285715\n"
     ]
    }
   ],
   "source": [
    "svv_20 = 337.01\n",
    "sqv_20 = 7\n",
    "\n",
    "tkt_20 = svv_20 / sqv_20\n",
    "print(tkt_20)"
   ]
  },
  {
   "cell_type": "markdown",
   "id": "3e61311a",
   "metadata": {
    "id": "iQyQbWldPpIq"
   },
   "source": [
    "Ticket médio diário do dia 23/01."
   ]
  },
  {
   "cell_type": "code",
   "execution_count": 48,
   "id": "c4acc856",
   "metadata": {
    "id": "3DX3teGqPHet"
   },
   "outputs": [
    {
     "name": "stdout",
     "output_type": "stream",
     "text": [
      "59.065999999999995\n"
     ]
    }
   ],
   "source": [
    "svv_23 = 295.33\n",
    "sqv_23 = 5\n",
    "\n",
    "tkt_23 = svv_23 / sqv_23\n",
    "print(tkt_23)"
   ]
  },
  {
   "cell_type": "markdown",
   "id": "81186962",
   "metadata": {
    "id": "is2buU5dPrS-"
   },
   "source": [
    "Ticket médio"
   ]
  },
  {
   "cell_type": "code",
   "execution_count": 49,
   "id": "0818e39b",
   "metadata": {
    "id": "G6-yjrQkPT8y"
   },
   "outputs": [
    {
     "name": "stdout",
     "output_type": "stream",
     "text": [
      "52.8456507936508\n"
     ]
    }
   ],
   "source": [
    "tkt = (tkt_19 + tkt_20 + tkt_23) / 3\n",
    "print(tkt)"
   ]
  },
  {
   "cell_type": "markdown",
   "id": "578812be",
   "metadata": {
    "id": "ne7Ay0HKaGSv"
   },
   "source": [
    "## 4\\. *Strings*"
   ]
  },
  {
   "cell_type": "markdown",
   "id": "c89c6cef",
   "metadata": {
    "id": "DvHPNAoPgdiG"
   },
   "source": [
    "### **4.1. Motivação** "
   ]
  },
  {
   "cell_type": "markdown",
   "id": "be57d323",
   "metadata": {
    "id": "2zLVibiQtAly"
   },
   "source": [
    "A empresa que você trabalha adquiriu uma *startup* de logística. Você precisa identificar todos endereços que são comum a ambas. Na sua empresa, você armazena a latitude e longitude dos endereços em duas variáveis `lat` e `lon`, já a *startup* adquirida em uma única variável `latlon`.\n",
    "\n"
   ]
  },
  {
   "cell_type": "code",
   "execution_count": 50,
   "id": "8c6adbfb",
   "metadata": {
    "id": "YYWnkgj4udsB"
   },
   "outputs": [],
   "source": [
    "# sua empresa\n",
    "lat = '-22.005320'\n",
    "lon = '-47.891040'\n",
    "\n",
    "# startup adquirida\n",
    "latlon = '-22.005320;-47.891040'"
   ]
  },
  {
   "cell_type": "markdown",
   "id": "2dcf9e7d",
   "metadata": {
    "id": "NqIBXMslu8rx"
   },
   "source": [
    "Como podemos normalizar a forma com que as latitudes e longitudes são armazenadas para possam ser comparadas?"
   ]
  },
  {
   "cell_type": "markdown",
   "id": "4fd4f0d8",
   "metadata": {
    "id": "3SMp5GwjglJm"
   },
   "source": [
    "### **4.2. Definição**"
   ]
  },
  {
   "cell_type": "markdown",
   "id": "7493781e",
   "metadata": {
    "id": "OyaC_TtSc-WB"
   },
   "source": [
    "Armazenam **textos**:"
   ]
  },
  {
   "cell_type": "markdown",
   "id": "c801270c",
   "metadata": {
    "id": "iJ4X178KeNEM"
   },
   "source": [
    "\n",
    "*   `c`, `EBAC`, `Andre Perez, 20 anos` (texto)\n",
    "\n"
   ]
  },
  {
   "cell_type": "markdown",
   "id": "e97d91b2",
   "metadata": {
    "id": "Z7rXi3m_ewAs"
   },
   "source": [
    "São do tipo `str`:"
   ]
  },
  {
   "cell_type": "code",
   "execution_count": 51,
   "id": "9ab8f9fb",
   "metadata": {
    "id": "2WC97LIMfUsb"
   },
   "outputs": [
    {
     "name": "stdout",
     "output_type": "stream",
     "text": [
      "Aula 04, Módulo 01, Strings\n",
      "<class 'str'>\n"
     ]
    }
   ],
   "source": [
    "nome_aula = 'Aula 04, Módulo 01, Strings'\n",
    "\n",
    "print(nome_aula)\n",
    "print(type(nome_aula))"
   ]
  },
  {
   "cell_type": "code",
   "execution_count": 52,
   "id": "4d78383a",
   "metadata": {
    "id": "T0pVDdDDFix5"
   },
   "outputs": [
    {
     "name": "stdout",
     "output_type": "stream",
     "text": [
      "\n",
      "<class 'str'>\n"
     ]
    }
   ],
   "source": [
    "string_vazia = \"\"\n",
    "\n",
    "print(string_vazia)\n",
    "print(type(string_vazia))"
   ]
  },
  {
   "cell_type": "markdown",
   "id": "3ab226fe",
   "metadata": {
    "id": "e3ieQfXTgqd3"
   },
   "source": [
    "### **4.3. Operações** "
   ]
  },
  {
   "cell_type": "markdown",
   "id": "5a44be1f",
   "metadata": {
    "id": "IsHq0ZpTf2M8"
   },
   "source": [
    "As operações de variáveis do tipo *string* são:\n",
    "\n",
    "\n",
    "*   `+` (concatenação).\n",
    "\n"
   ]
  },
  {
   "cell_type": "markdown",
   "id": "626dd907",
   "metadata": {
    "id": "0om-T5A_h8h2"
   },
   "source": [
    "**Exemplo:** Nome completo."
   ]
  },
  {
   "cell_type": "code",
   "execution_count": 53,
   "id": "8652603d",
   "metadata": {
    "id": "mFWid8IlgChM"
   },
   "outputs": [
    {
     "name": "stdout",
     "output_type": "stream",
     "text": [
      "Olá, meu nome é Andre Marcos Perez.\n"
     ]
    }
   ],
   "source": [
    "nome = 'Andre Marcos'\n",
    "sobrenome = 'Perez'\n",
    "\n",
    "apresentacao = 'Olá, meu nome é ' + nome + ' ' + sobrenome + '.'\n",
    "print(apresentacao)"
   ]
  },
  {
   "cell_type": "markdown",
   "id": "9fcfa954",
   "metadata": {
    "id": "EOmjluXb_6mt"
   },
   "source": [
    "Uma outra forma de concatenar strings é utilizar operações de formatação:"
   ]
  },
  {
   "cell_type": "code",
   "execution_count": 54,
   "id": "db5fe851",
   "metadata": {
    "id": "DskkKjbmABA3"
   },
   "outputs": [
    {
     "name": "stdout",
     "output_type": "stream",
     "text": [
      "Olá, meu nome é Andre Marcos Perez.\n"
     ]
    }
   ],
   "source": [
    "nome = 'Andre Marcos'\n",
    "sobrenome = 'Perez'\n",
    "\n",
    "apresentacao = f'Olá, meu nome é {nome} {sobrenome}.'\n",
    "print(apresentacao)"
   ]
  },
  {
   "cell_type": "markdown",
   "id": "c25cae75",
   "metadata": {
    "id": "vJ3GmHlbiklQ"
   },
   "source": [
    "Outra operação muito utilizada é a de fatiamento (*slicing*):\n",
    "\n"
   ]
  },
  {
   "cell_type": "markdown",
   "id": "4be92a9c",
   "metadata": {
    "id": "h8i95BIFn8G9"
   },
   "source": [
    "**Exemplo**: Informações de email."
   ]
  },
  {
   "cell_type": "code",
   "execution_count": 55,
   "id": "56467498",
   "metadata": {
    "id": "fGXbXFaAmM8J"
   },
   "outputs": [],
   "source": [
    "email = 'andre.perez@gmail.com'"
   ]
  },
  {
   "cell_type": "markdown",
   "id": "c11e9e05",
   "metadata": {
    "id": "gnZGbes5mGeK"
   },
   "source": [
    "\n",
    "\n",
    "Fatiamento fixo:\n",
    "\n",
    "|a|n|d|r|e|.|p|e|r|e|z|@|g|m|a|i|l|.|c|o|m|\n",
    "|-|-|-|-|-|-|-|-|-|-|-|-|-|-|-|-|-|-|-|-|-|\n",
    "|0|1|2|3|4|5|6|7|8|9|10|11|12|13|14|15|16|17|18|19|20|\n",
    "\n"
   ]
  },
  {
   "cell_type": "code",
   "execution_count": 56,
   "id": "51f004b4",
   "metadata": {
    "id": "oKjp4JKklnJF"
   },
   "outputs": [
    {
     "name": "stdout",
     "output_type": "stream",
     "text": [
      "0: a\n",
      "11: @\n"
     ]
    }
   ],
   "source": [
    "print('0: ' + email[0])\n",
    "print('11: ' + email[11])"
   ]
  },
  {
   "cell_type": "code",
   "execution_count": 57,
   "id": "980eff72",
   "metadata": {
    "id": "ZLee51Qpoa5Q"
   },
   "outputs": [
    {
     "name": "stdout",
     "output_type": "stream",
     "text": [
      "-1: m\n",
      "-2: o\n"
     ]
    }
   ],
   "source": [
    "print('-1: ' + email[-1])\n",
    "print('-2: ' + email[-2])"
   ]
  },
  {
   "cell_type": "markdown",
   "id": "a455a5fe",
   "metadata": {
    "id": "tAx_IG1bmZVG"
   },
   "source": [
    "\n",
    "\n",
    "Fatiamento por intervalo:\n",
    "\n",
    "|a|n|d|r|e|.|p|e|r|e|z|@|g|m|a|i|l|.|c|o|m|\n",
    "|-|-|-|-|-|-|-|-|-|-|-|-|-|-|-|-|-|-|-|-|-|\n",
    "|0|1|2|3|4|5|6|7|8|9|10|11|12|13|14|15|16|17|18|19|20|\n",
    "\n"
   ]
  },
  {
   "cell_type": "code",
   "execution_count": 58,
   "id": "0b2c0f2a",
   "metadata": {
    "id": "WqP4HwT3mYgO"
   },
   "outputs": [
    {
     "name": "stdout",
     "output_type": "stream",
     "text": [
      "andre.perez\n"
     ]
    }
   ],
   "source": [
    "email_usuario = email[0:11]\n",
    "print(email_usuario)"
   ]
  },
  {
   "cell_type": "code",
   "execution_count": 59,
   "id": "69fda87e",
   "metadata": {
    "id": "zOas_vlEmsby"
   },
   "outputs": [
    {
     "name": "stdout",
     "output_type": "stream",
     "text": [
      "gmail.com\n"
     ]
    }
   ],
   "source": [
    "email_provedor = email[12:21]\n",
    "print(email_provedor)"
   ]
  },
  {
   "cell_type": "markdown",
   "id": "171d5183",
   "metadata": {
    "id": "L0pKWNr5fm9z"
   },
   "source": [
    "### **4.4. Métodos** "
   ]
  },
  {
   "cell_type": "markdown",
   "id": "ffad7680",
   "metadata": {
    "id": "52PinrQEon8-"
   },
   "source": [
    "São métodos nativos do Python que nos ajudam a trabalhar no dia a dia com *strings*:"
   ]
  },
  {
   "cell_type": "code",
   "execution_count": 60,
   "id": "b55fee6d",
   "metadata": {
    "id": "-63WyR-4o0Y-"
   },
   "outputs": [],
   "source": [
    "endereco = 'Avenida Paulista, 1811, São Paulo, São Paulo, Brasil.'"
   ]
  },
  {
   "cell_type": "code",
   "execution_count": 61,
   "id": "4f0472a2",
   "metadata": {
    "id": "qtGTk_Fwpixw"
   },
   "outputs": [
    {
     "name": "stdout",
     "output_type": "stream",
     "text": [
      "AVENIDA PAULISTA, 1811, SÃO PAULO, SÃO PAULO, BRASIL.\n"
     ]
    }
   ],
   "source": [
    "# maiusculo: string.upper()\n",
    "print(endereco.upper())"
   ]
  },
  {
   "cell_type": "code",
   "execution_count": 62,
   "id": "f5f01a45",
   "metadata": {
    "id": "8tYEXNxFqBnt"
   },
   "outputs": [
    {
     "name": "stdout",
     "output_type": "stream",
     "text": [
      "46\n"
     ]
    }
   ],
   "source": [
    "# posicao: string.find(substring)\n",
    "posicao = endereco.find('Brasil')\n",
    "print(posicao)"
   ]
  },
  {
   "cell_type": "code",
   "execution_count": 63,
   "id": "df780b28",
   "metadata": {
    "id": "QuiITrGCqHbW"
   },
   "outputs": [
    {
     "name": "stdout",
     "output_type": "stream",
     "text": [
      "Av Paulista, 1811, São Paulo, São Paulo, Brasil.\n"
     ]
    }
   ],
   "source": [
    "# substituição: string.replace(antigo, novo)\n",
    "print(endereco.replace('Avenida', 'Av'))"
   ]
  },
  {
   "cell_type": "markdown",
   "id": "96ceb7cb",
   "metadata": {
    "id": "DMhCpOU_gupo"
   },
   "source": [
    "### **4.5. Conversão** "
   ]
  },
  {
   "cell_type": "markdown",
   "id": "c362246f",
   "metadata": {
    "id": "1RLPv08iqnh0"
   },
   "source": [
    "Podemos converter *strings* em tipos numéricos e vice-versa."
   ]
  },
  {
   "cell_type": "code",
   "execution_count": 64,
   "id": "fe809c13",
   "metadata": {
    "id": "3Vp8jY1Hqlz0"
   },
   "outputs": [
    {
     "name": "stdout",
     "output_type": "stream",
     "text": [
      "<class 'int'>\n",
      "<class 'str'>\n"
     ]
    }
   ],
   "source": [
    "idade = 19\n",
    "print(type(idade))\n",
    "\n",
    "idade = str(idade)\n",
    "print(type(idade))"
   ]
  },
  {
   "cell_type": "code",
   "execution_count": 65,
   "id": "0a1edef6",
   "metadata": {
    "id": "I6f8ZEPlrAgN"
   },
   "outputs": [
    {
     "name": "stdout",
     "output_type": "stream",
     "text": [
      "R$ 35 mi\n",
      "<class 'str'>\n",
      "35\n",
      "<class 'int'>\n"
     ]
    }
   ],
   "source": [
    "faturamento = 'R$ 35 mi'\n",
    "print(faturamento)\n",
    "print(type(idade))\n",
    "\n",
    "faturamento = int(faturamento[3:5])\n",
    "print(faturamento)\n",
    "print(type(faturamento))"
   ]
  },
  {
   "cell_type": "markdown",
   "id": "98c3e14c",
   "metadata": {
    "id": "l3h0WP2Eg2ht"
   },
   "source": [
    "### **4.6. Revisitando a motivação** "
   ]
  },
  {
   "cell_type": "markdown",
   "id": "c43f19f5",
   "metadata": {
    "id": "cbTc4NNVzkTZ"
   },
   "source": [
    "Encontrando a posição do caracter `;` de divisão das *strings* de latitude e longitude da variável da startup:"
   ]
  },
  {
   "cell_type": "code",
   "execution_count": 66,
   "id": "480c9317",
   "metadata": {
    "id": "95m9FlwVyrBE"
   },
   "outputs": [
    {
     "name": "stdout",
     "output_type": "stream",
     "text": [
      "10\n"
     ]
    }
   ],
   "source": [
    "posicao_char_divisao = latlon.find(';')\n",
    "print(posicao_char_divisao)"
   ]
  },
  {
   "cell_type": "markdown",
   "id": "0fad33ab",
   "metadata": {
    "id": "5Sby1I4WzyFH"
   },
   "source": [
    "Extraindo a latitude:"
   ]
  },
  {
   "cell_type": "code",
   "execution_count": 67,
   "id": "4d98bc2f",
   "metadata": {
    "id": "tXYl5Qd4zPUR"
   },
   "outputs": [
    {
     "name": "stdout",
     "output_type": "stream",
     "text": [
      "-22.005320\n"
     ]
    }
   ],
   "source": [
    "lat_startup = latlon[0:posicao_char_divisao]\n",
    "print(lat_startup)"
   ]
  },
  {
   "cell_type": "markdown",
   "id": "e5fad855",
   "metadata": {
    "id": "rpK7U99qz1uP"
   },
   "source": [
    "Extraindo a longitude:"
   ]
  },
  {
   "cell_type": "code",
   "execution_count": 68,
   "id": "aacdbc8d",
   "metadata": {
    "id": "T3ctz0fbzRcA"
   },
   "outputs": [
    {
     "name": "stdout",
     "output_type": "stream",
     "text": [
      "-47.891040\n"
     ]
    }
   ],
   "source": [
    "lon_startup = latlon[posicao_char_divisao+1:len(latlon)]\n",
    "print(lon_startup)"
   ]
  },
  {
   "cell_type": "markdown",
   "id": "095d73f8",
   "metadata": {
    "id": "EvJTE2FpaGeU"
   },
   "source": [
    "## 5\\. Boleanos"
   ]
  },
  {
   "cell_type": "markdown",
   "id": "1cf03bcb",
   "metadata": {
    "id": "rWG4Vk6XaWtf"
   },
   "source": [
    "### **5.1. Motivação** \n",
    "\n"
   ]
  },
  {
   "cell_type": "markdown",
   "id": "f9702de0",
   "metadata": {
    "id": "jayz6OAaerA1"
   },
   "source": [
    "Em *websites* (redes sociais, *e-commerce*, corporativos, etc.) é comum o uso de sistemas de controle de acesso, o famoso *login*. Em geral, nestes sistemas um usuário fornece dois dados: `usuario` e `senha`:"
   ]
  },
  {
   "cell_type": "code",
   "execution_count": 69,
   "id": "8a5394b7",
   "metadata": {
    "id": "-vdJFukSbGVC"
   },
   "outputs": [],
   "source": [
    "usuario = 'andre.perez'\n",
    "senha = 'andre123'"
   ]
  },
  {
   "cell_type": "markdown",
   "id": "6e703981",
   "metadata": {
    "id": "X4lWGX3nbFqE"
   },
   "source": [
    "Do lado do servidor, o *backend* do *website* tem armazenado os dados de usuário e senha fornecidas pelo usuário no momento do cadastro: `usuario_cadastro` e `senha_cadastro`:"
   ]
  },
  {
   "cell_type": "code",
   "execution_count": 70,
   "id": "789fa12f",
   "metadata": {
    "id": "pF1ZKoF5by6v"
   },
   "outputs": [],
   "source": [
    "usuario_cadastro = 'andre.perez'\n",
    "senha_cadastro = 'andre321'"
   ]
  },
  {
   "cell_type": "markdown",
   "id": "8e7b9177",
   "metadata": {
    "id": "ab-roDU-b5UA"
   },
   "source": [
    "Como comparamos se as *strings* (`usuario`, `usuario_cadastro`) e (`senha`,`senha_cadastro`) são iguais para conceder ou bloquear o acesso do usuário?"
   ]
  },
  {
   "cell_type": "markdown",
   "id": "24f166c7",
   "metadata": {
    "id": "wkibgd8rB8y3"
   },
   "source": [
    "### **5.2. Definição** "
   ]
  },
  {
   "cell_type": "markdown",
   "id": "d09e487b",
   "metadata": {
    "id": "Iy9ZmOJpVxHQ"
   },
   "source": [
    "Armazenam **valores lógicos**:\n",
    "\n",
    "*   `True` (verdadeiro);\n",
    "*   `False` (falso)."
   ]
  },
  {
   "cell_type": "code",
   "execution_count": 71,
   "id": "35d718c8",
   "metadata": {
    "id": "C3ktXued98wX"
   },
   "outputs": [
    {
     "name": "stdout",
     "output_type": "stream",
     "text": [
      "True\n"
     ]
    }
   ],
   "source": [
    "verdadeiro = True\n",
    "print(verdadeiro)"
   ]
  },
  {
   "cell_type": "code",
   "execution_count": 72,
   "id": "097d86a7",
   "metadata": {
    "id": "BiOivdViCH9e"
   },
   "outputs": [
    {
     "name": "stdout",
     "output_type": "stream",
     "text": [
      "False\n"
     ]
    }
   ],
   "source": [
    "falso = False\n",
    "print(falso)"
   ]
  },
  {
   "cell_type": "markdown",
   "id": "f3b130ed",
   "metadata": {
    "id": "Z0tOpkiS0EiO"
   },
   "source": [
    "São do tipo `bool`."
   ]
  },
  {
   "cell_type": "code",
   "execution_count": 73,
   "id": "cf069d78",
   "metadata": {
    "id": "dyo_noZ80Hra"
   },
   "outputs": [
    {
     "name": "stdout",
     "output_type": "stream",
     "text": [
      "<class 'bool'>\n"
     ]
    }
   ],
   "source": [
    "print(type(True))"
   ]
  },
  {
   "cell_type": "markdown",
   "id": "3de5548e",
   "metadata": {
    "id": "qEQrHcyGCtVu"
   },
   "source": [
    "São resultados de comparações lógicas. Os operadores de comparação lógica são:\n",
    "\n",
    "*   `>` (maior);\n",
    "*   `<` (menor);\n",
    "*   `==` (igual);\n",
    "*   `>=` (maior ou igual);\n",
    "*   `<=` (menor ou igual);\n",
    "*   `!=` (diferente).\n",
    "\n"
   ]
  },
  {
   "cell_type": "markdown",
   "id": "0eff9a8b",
   "metadata": {
    "id": "C-rpefH6fIPf"
   },
   "source": [
    "**Exemplo:** Caixa eletrônico"
   ]
  },
  {
   "cell_type": "code",
   "execution_count": 74,
   "id": "ac6a4294",
   "metadata": {
    "id": "q5PQwuBXDD2P"
   },
   "outputs": [
    {
     "name": "stdout",
     "output_type": "stream",
     "text": [
      "True\n"
     ]
    }
   ],
   "source": [
    "saldo_em_conta = 200\n",
    "valor_do_saque = 100\n",
    "\n",
    "pode_executar_saque = valor_do_saque <= saldo_em_conta\n",
    "print(pode_executar_saque)"
   ]
  },
  {
   "cell_type": "markdown",
   "id": "f94c5d3f",
   "metadata": {
    "id": "6a7xCtTwfSHq"
   },
   "source": [
    "**Exemplo:** Cartão de crédito"
   ]
  },
  {
   "cell_type": "code",
   "execution_count": 75,
   "id": "ccf218c8",
   "metadata": {
    "id": "8pdPLoK9DYZJ"
   },
   "outputs": [
    {
     "name": "stdout",
     "output_type": "stream",
     "text": [
      "False\n"
     ]
    }
   ],
   "source": [
    "codigo_de_seguranca = '852'\n",
    "codigo_de_seguranca_cadastro = '010'\n",
    "\n",
    "pode_efetuar_pagamento = codigo_de_seguranca == codigo_de_seguranca_cadastro\n",
    "print(pode_efetuar_pagamento)"
   ]
  },
  {
   "cell_type": "markdown",
   "id": "085bb05c",
   "metadata": {
    "id": "IjPaJtnYE0MI"
   },
   "source": [
    "### **5.3. Operações**"
   ]
  },
  {
   "cell_type": "markdown",
   "id": "3b33ac26",
   "metadata": {
    "id": "E_1PEdDBV7iM"
   },
   "source": [
    "As operações de variáveis booleanas são: \n",
    "\n",
    "* `|` (operador ou)\n",
    "* `&` (operador e)\n",
    "* `not` (operador não)\n",
    "\n",
    "\n",
    "O conjunto de resultados de operações lógicas geralmente é resumido em uma tabela chamada \"tabela da verdade\":"
   ]
  },
  {
   "cell_type": "markdown",
   "id": "40055cf3",
   "metadata": {
    "id": "CHn4_ahDIAjz"
   },
   "source": [
    "| A        | B        | | | A OR B   | | A AND B  | | NOT A    |\n",
    "|----------|----------|-|-|----------|-|----------|-|----------|\n",
    "| **TRUE** | **TRUE** | | | **TRUE** | | **TRUE** | | FALSE    |\n",
    "| **TRUE** | FALSE    | | | **TRUE** | | FALSE    | | FALSE    |\n",
    "| FALSE    | FALSE    | | | FALSE    | | FALSE    | | **TRUE** |\n",
    "| FALSE    | **TRUE** | | | **TRUE** | | FALSE    | | **TRUE** |"
   ]
  },
  {
   "cell_type": "markdown",
   "id": "bb743bc9",
   "metadata": {
    "id": "APMLCAXigGuI"
   },
   "source": [
    "**Exemplo**: Tabela da verdade do operador `|` (ou)."
   ]
  },
  {
   "cell_type": "code",
   "execution_count": 76,
   "id": "b722e72c",
   "metadata": {
    "id": "-_OVIIKNE51C"
   },
   "outputs": [
    {
     "name": "stdout",
     "output_type": "stream",
     "text": [
      "True\n",
      "True\n",
      "False\n",
      "True\n"
     ]
    }
   ],
   "source": [
    "print(True | True)\n",
    "print(True | False)\n",
    "print(False | False)\n",
    "print(False | True)"
   ]
  },
  {
   "cell_type": "markdown",
   "id": "ca4c4cfa",
   "metadata": {
    "id": "YK4D_jKOgRec"
   },
   "source": [
    "**Exemplo**: Tabela da verdade do operador `&` (e)."
   ]
  },
  {
   "cell_type": "code",
   "execution_count": 77,
   "id": "616f991a",
   "metadata": {
    "id": "skRK0k3aLmgx"
   },
   "outputs": [
    {
     "name": "stdout",
     "output_type": "stream",
     "text": [
      "True\n",
      "False\n",
      "False\n",
      "False\n"
     ]
    }
   ],
   "source": [
    "print(True & True)\n",
    "print(True & False)\n",
    "print(False & False)\n",
    "print(False & True)"
   ]
  },
  {
   "cell_type": "markdown",
   "id": "3035ace1",
   "metadata": {
    "id": "Mj924xFDgUio"
   },
   "source": [
    "**Exemplo**: Tabela da verdade do operador `not` (não)."
   ]
  },
  {
   "cell_type": "code",
   "execution_count": 78,
   "id": "b2f1d19f",
   "metadata": {
    "id": "woeHvKz8LrcD"
   },
   "outputs": [
    {
     "name": "stdout",
     "output_type": "stream",
     "text": [
      "False\n",
      "True\n"
     ]
    }
   ],
   "source": [
    "print(not True)\n",
    "print(not False)"
   ]
  },
  {
   "cell_type": "markdown",
   "id": "3ad39dfa",
   "metadata": {
    "id": "2lpj1rszc--m"
   },
   "source": [
    "### **5.4. Conversão**"
   ]
  },
  {
   "cell_type": "markdown",
   "id": "71cdf2cc",
   "metadata": {
    "id": "KUq8EX6-dDBJ"
   },
   "source": [
    "Podemos converter tipos numéricos e *strings* para booleanos através do método nativo `bool`:"
   ]
  },
  {
   "cell_type": "code",
   "execution_count": 79,
   "id": "dfc6376a",
   "metadata": {
    "id": "O9tgHXRQdNJL"
   },
   "outputs": [
    {
     "name": "stdout",
     "output_type": "stream",
     "text": [
      "True\n",
      "True\n",
      "False\n",
      "False\n",
      "False\n"
     ]
    }
   ],
   "source": [
    "idade = 19\n",
    "tipo_sangue = 'O-'\n",
    "filhos = 0\n",
    "telefone_fixo = None\n",
    "telefone_fixo = ''\n",
    "\n",
    "print(bool(idade))\n",
    "print(bool(tipo_sangue))\n",
    "print(bool(filhos))\n",
    "print(bool(telefone_fixo))\n",
    "print(bool(telefone_fixo))"
   ]
  },
  {
   "cell_type": "markdown",
   "id": "58f90ba6",
   "metadata": {
    "id": "HnWg_mhLd5gC"
   },
   "source": [
    "### **5.5. Revisitando a motivação**"
   ]
  },
  {
   "cell_type": "markdown",
   "id": "55fbadd8",
   "metadata": {
    "id": "jZKyTqyU816m"
   },
   "source": [
    "Compara se os dados fornecidos pelo usuário são iguais aos dados do cadastro:"
   ]
  },
  {
   "cell_type": "code",
   "execution_count": 80,
   "id": "12b22734",
   "metadata": {
    "id": "CjOvS816d9jM"
   },
   "outputs": [
    {
     "name": "stdout",
     "output_type": "stream",
     "text": [
      "True\n",
      "False\n"
     ]
    }
   ],
   "source": [
    "usuario_igual = usuario == usuario_cadastro\n",
    "senha_igual = senha == senha_cadastro\n",
    "\n",
    "print(usuario_igual)\n",
    "print(senha_igual)"
   ]
  },
  {
   "cell_type": "markdown",
   "id": "3eed8b66",
   "metadata": {
    "id": "t1xsfbwY87-g"
   },
   "source": [
    "Decide se concede o acesso:"
   ]
  },
  {
   "cell_type": "code",
   "execution_count": 81,
   "id": "d9b6ba12",
   "metadata": {
    "id": "MLxkWnuSeT5A"
   },
   "outputs": [
    {
     "name": "stdout",
     "output_type": "stream",
     "text": [
      "False\n"
     ]
    }
   ],
   "source": [
    "conceder_acesso = usuario_igual & senha_igual\n",
    "print(conceder_acesso)"
   ]
  },
  {
   "cell_type": "markdown",
   "id": "6885647d",
   "metadata": {},
   "source": [
    "## 6. Operations with data structures"
   ]
  },
  {
   "cell_type": "markdown",
   "id": "99184f56",
   "metadata": {},
   "source": [
    "### 6.1.1. Operações com Listas - Parte 01"
   ]
  },
  {
   "cell_type": "code",
   "execution_count": 82,
   "id": "90a71093",
   "metadata": {},
   "outputs": [],
   "source": [
    "# Criar uma lista\n",
    "minha_lista = [1, 2, 3, 4, 5]\n",
    "\n",
    "# Adicionar um elemento no final da lista\n",
    "minha_lista.append(6)\n",
    "\n",
    "# Remover o último elemento da lista\n",
    "minha_lista.pop()\n",
    "\n",
    "# Inserir um elemento em uma posição específica\n",
    "minha_lista.insert(2, 7)\n",
    "\n",
    "# Remover um elemento específico\n",
    "minha_lista.remove(3)\n",
    "\n",
    "# Concatenar duas listas\n",
    "outra_lista = [8, 9, 10]\n",
    "lista_combinada = minha_lista + outra_lista\n",
    "\n",
    "# Ordenar a lista\n",
    "minha_lista.sort()\n",
    "\n",
    "# Inverter a lista\n",
    "minha_lista.reverse()\n",
    "\n",
    "# Encontrar o índice de um elemento\n",
    "indice = minha_lista.index(5)\n",
    "\n",
    "# Contar o número de ocorrências de um elemento\n",
    "contagem = minha_lista.count(2)\n",
    "\n",
    "# Verificar se um elemento está na lista\n",
    "elemento_na_lista = 2 in minha_lista\n",
    "\n",
    "# Copiar uma lista\n",
    "copia_da_lista = minha_lista.copy()"
   ]
  },
  {
   "cell_type": "markdown",
   "id": "d2bee104",
   "metadata": {},
   "source": [
    "### 6.1.2. Operações com Listas - Parte 02"
   ]
  },
  {
   "cell_type": "markdown",
   "id": "0bdde238",
   "metadata": {},
   "source": [
    "#### Como classificar uma lista python com base na ordem de outra?"
   ]
  },
  {
   "cell_type": "code",
   "execution_count": 83,
   "id": "c91ac136",
   "metadata": {},
   "outputs": [
    {
     "name": "stdout",
     "output_type": "stream",
     "text": [
      "['bello', 'aondo', 'ciao']\n"
     ]
    }
   ],
   "source": [
    "lista_de_referência = ['b', 'a', 'c']\n",
    "lista_a_ordenar = ['ciao', 'aondo', 'bello']\n",
    "\n",
    "# Ordena a lista_a_ordenar com base na ordem da lista_de_referência\n",
    "lista_ordenada = sorted(lista_a_ordenar, key=lambda x: lista_de_referência.index(x[0]))\n",
    "\n",
    "print(lista_ordenada)"
   ]
  },
  {
   "cell_type": "code",
   "execution_count": 84,
   "id": "29d4002f",
   "metadata": {},
   "outputs": [
    {
     "name": "stdout",
     "output_type": "stream",
     "text": [
      "[1, 2, 3]\n"
     ]
    }
   ],
   "source": [
    "lista_de_referência = [1, 2, 3, 4, 5]\n",
    "lista_a_ordenar = [3, 1, 2]\n",
    "\n",
    "# Ordena a lista_a_ordenar com base na ordem da lista_de_referência\n",
    "lista_ordenada = sorted(lista_a_ordenar, key=lambda x: lista_de_referência.index(x))\n",
    "\n",
    "print(lista_ordenada)"
   ]
  },
  {
   "cell_type": "code",
   "execution_count": 85,
   "id": "aa09ae37",
   "metadata": {},
   "outputs": [
    {
     "name": "stdout",
     "output_type": "stream",
     "text": [
      "Lista ordenada com base na lista de referência: [1, 3, 4, 2]\n"
     ]
    }
   ],
   "source": [
    "lista_a_ordenar = [3, 1, 4, 2]\n",
    "lista_de_referência = [2, 1, 3, 4]\n",
    "\n",
    "# Usa a função zip() para unir as duas listas e depois ordena com base na lista_de_referência\n",
    "lista_ordinata = [x for _, x in sorted(zip(lista_de_referência, lista_a_ordenar))]\n",
    "\n",
    "print(\"Lista ordenada com base na lista de referência:\", lista_ordinata)"
   ]
  },
  {
   "cell_type": "markdown",
   "id": "3e3ffc76",
   "metadata": {},
   "source": [
    "#### Repetição de elementos"
   ]
  },
  {
   "cell_type": "code",
   "execution_count": 86,
   "id": "a9e53e59",
   "metadata": {},
   "outputs": [
    {
     "name": "stdout",
     "output_type": "stream",
     "text": [
      "O número de vezes que o elemento 2 se repetiu na lista é: 4\n"
     ]
    }
   ],
   "source": [
    "lista = [1, 2, 3, 4, 2, 2, 3, 1, 2]\n",
    "\n",
    "# Conta o número de vezes que o elemento 2 se repetiu na lista\n",
    "contegio = lista.count(2)\n",
    "\n",
    "print(\"O número de vezes que o elemento 2 se repetiu na lista é:\", contegio)"
   ]
  },
  {
   "cell_type": "code",
   "execution_count": 87,
   "id": "a7d9df07",
   "metadata": {},
   "outputs": [
    {
     "name": "stdout",
     "output_type": "stream",
     "text": [
      "Contagem dos elementos na lista: Counter({2: 4, 1: 2, 3: 2, 4: 1})\n"
     ]
    }
   ],
   "source": [
    "from collections import Counter\n",
    "\n",
    "lista = [1, 2, 3, 4, 2, 2, 3, 1, 2]\n",
    "\n",
    "# Conta o número de repetições de cada elemento na lista\n",
    "conteggio_elementi = Counter(lista)\n",
    "\n",
    "print(\"Contagem dos elementos na lista:\", conteggio_elementi)"
   ]
  },
  {
   "cell_type": "markdown",
   "id": "31533b40",
   "metadata": {},
   "source": [
    "#### Agrupamento"
   ]
  },
  {
   "cell_type": "code",
   "execution_count": 88,
   "id": "4b9ea59b",
   "metadata": {},
   "outputs": [
    {
     "name": "stdout",
     "output_type": "stream",
     "text": [
      "Elementos que são a interseção entre as duas listas: [4, 5]\n"
     ]
    }
   ],
   "source": [
    "lista1 = [1, 2, 3, 4, 5]\n",
    "lista2 = [4, 5, 6, 7, 8]\n",
    "\n",
    "intersecao = list(set(lista1) & set(lista2))\n",
    "\n",
    "print(\"Elementos que são a interseção entre as duas listas:\", intersecao)"
   ]
  },
  {
   "cell_type": "code",
   "execution_count": 89,
   "id": "19b0d919",
   "metadata": {},
   "outputs": [
    {
     "name": "stdout",
     "output_type": "stream",
     "text": [
      "Elementos que são a interseção entre as duas listas: [4, 5]\n"
     ]
    }
   ],
   "source": [
    "lista1 = [1, 2, 3, 4, 5]\n",
    "lista2 = [4, 5, 6, 7, 8]\n",
    "\n",
    "intersecao = list(set(lista1).intersection(lista2))\n",
    "\n",
    "print(\"Elementos que são a interseção entre as duas listas:\", intersecao)"
   ]
  },
  {
   "cell_type": "code",
   "execution_count": 90,
   "id": "8a1f8945",
   "metadata": {},
   "outputs": [
    {
     "name": "stdout",
     "output_type": "stream",
     "text": [
      "Nova lista após remover os elementos de lista2: [1, 3, 5]\n"
     ]
    }
   ],
   "source": [
    "lista1 = [1, 2, 3, 4, 5]\n",
    "lista2 = [2, 4, 6]\n",
    "\n",
    "nova_lista = [x for x in lista1 if x not in lista2]\n",
    "\n",
    "print(\"Nova lista após remover os elementos de lista2:\", nova_lista)"
   ]
  },
  {
   "cell_type": "code",
   "execution_count": 91,
   "id": "d1c9337a",
   "metadata": {},
   "outputs": [
    {
     "name": "stdout",
     "output_type": "stream",
     "text": [
      "Elementos diferentes em lista1: [1, 2, 3]\n",
      "Elementos diferentes em lista2: [8, 6, 7]\n"
     ]
    }
   ],
   "source": [
    "lista1 = [1, 2, 3, 4, 5]\n",
    "lista2 = [4, 5, 6, 7, 8]\n",
    "\n",
    "diferenca_lista1 = list(set(lista1) - set(lista2))\n",
    "diferenca_lista2 = list(set(lista2) - set(lista1))\n",
    "\n",
    "print(\"Elementos diferentes em lista1:\", diferenca_lista1)\n",
    "print(\"Elementos diferentes em lista2:\", diferenca_lista2)"
   ]
  },
  {
   "cell_type": "markdown",
   "id": "500116ac",
   "metadata": {},
   "source": [
    "#### For dentro de uma lista"
   ]
  },
  {
   "cell_type": "code",
   "execution_count": 92,
   "id": "58e31834",
   "metadata": {},
   "outputs": [
    {
     "name": "stdout",
     "output_type": "stream",
     "text": [
      "[2, 4, 6, 8, 10]\n"
     ]
    }
   ],
   "source": [
    "lista_original = [1, 2, 3, 4, 5]\n",
    "\n",
    "# Usando uma compreensão de lista para dobrar cada elemento\n",
    "lista_dobrada = [x * 2 for x in lista_original]\n",
    "\n",
    "print(lista_dobrada)  # Saída: [2, 4, 6, 8, 10]"
   ]
  },
  {
   "cell_type": "markdown",
   "id": "ed4ab570",
   "metadata": {},
   "source": [
    "### 6.2.1. Operações com Dicionários - Parte 01"
   ]
  },
  {
   "cell_type": "code",
   "execution_count": 93,
   "id": "eb6c463c",
   "metadata": {},
   "outputs": [
    {
     "name": "stdout",
     "output_type": "stream",
     "text": [
      "A chave 'cidade' existe\n",
      "{'a': 1, 'c': 3}\n",
      "2\n",
      "Iterando sobre as chaves\n",
      "a\n",
      "Iterando sobre as chaves\n",
      "c\n",
      "Iterando sobre os valores\n",
      "1\n",
      "Iterando sobre os valores\n",
      "3\n",
      "Pegue os valores e as chaves\n",
      "Chaves: dict_keys(['a', 'b', 'c'])\n",
      "Valores: dict_values([1, 2, 3])\n",
      "Chave: a | Valor: 1\n",
      "Chave: b | Valor: 2\n",
      "Chave: c | Valor: 3\n",
      "a: 1\n",
      "b: 2\n",
      "c: 3\n",
      "Modificar um elemento em um dicionário\n",
      "{'a': 1, 'b': 42, 'c': 3}\n"
     ]
    }
   ],
   "source": [
    "# Criando um dicionário\n",
    "meu_dicionario = {\"nome\": \"João\", \"idade\": 30, \"cidade\": \"São Paulo\"}\n",
    "\n",
    "# Acessando valores por chave\n",
    "nome = meu_dicionario[\"nome\"]\n",
    "idade = meu_dicionario[\"idade\"]\n",
    "\n",
    "# Adicionando um novo par chave-valor\n",
    "meu_dicionario[\"profissão\"] = \"Engenheiro\"\n",
    "\n",
    "# Modificando um valor existente\n",
    "meu_dicionario[\"idade\"] = 31\n",
    "\n",
    "# Verificando se uma chave existe\n",
    "if \"cidade\" in meu_dicionario:\n",
    "  print(\"A chave 'cidade' existe\")\n",
    "\n",
    "# Excluindo um par chave-valor\n",
    "del meu_dicionario[\"cidade\"]\n",
    "\n",
    "# Excluindo utilizando pop():\n",
    "meu_dicionario = {'a': 1, 'b': 2, 'c': 3}\n",
    "\n",
    "# Removendo e retornando o valor associado à chave 'b'\n",
    "valor_removido = meu_dicionario.pop('b')\n",
    "\n",
    "print(meu_dicionario)  # Saída: {'a': 1, 'c': 3}\n",
    "print(valor_removido)  # Saída: 2\n",
    "\n",
    "# Iterando sobre as chaves\n",
    "for chave in meu_dicionario:\n",
    "  print('Iterando sobre as chaves')\n",
    "  print(chave)\n",
    "\n",
    "# Iterando sobre os valores\n",
    "for valor in meu_dicionario.values():\n",
    "  print('Iterando sobre os valores')\n",
    "  print(valor)\n",
    "\n",
    "# Pegue os valores e as chaves\n",
    "print('Pegue os valores e as chaves')\n",
    "meu_dicionario = {\"a\": 1, \"b\": 2, \"c\": 3}\n",
    "\n",
    "# Obter as chaves\n",
    "chaves = meu_dicionario.keys()\n",
    "print(\"Chaves:\", chaves)\n",
    "\n",
    "# Obter os valores\n",
    "valores = meu_dicionario.values()\n",
    "print(\"Valores:\", valores)\n",
    "\n",
    "meu_dicionario = {\"a\": 1, \"b\": 2, \"c\": 3}\n",
    "\n",
    "# Iterar sobre chaves e valores simultaneamente\n",
    "for chave, valor in meu_dicionario.items():\n",
    "    print(\"Chave:\", chave, \"| Valor:\", valor)\n",
    "\n",
    "\n",
    "# Iterando sobre os pares chave-valor\n",
    "for chave, valor in meu_dicionario.items():\n",
    "  print(f\"{chave}: {valor}\")\n",
    "\n",
    "# Modificar um elemento em um dicionário\n",
    "print('Modificar um elemento em um dicionário')\n",
    "meu_dicionario = {'a': 1, 'b': 2, 'c': 3}\n",
    "\n",
    "# Modificando o valor associado à chave 'b'\n",
    "meu_dicionario['b'] = 42\n",
    "\n",
    "print(meu_dicionario)  # Saída: {'a': 1, 'b': 42, 'c': 3}\n",
    "\n",
    "\n",
    "# Copiando um dicionário\n",
    "novo_dicionario = meu_dicionario.copy()\n",
    "\n",
    "# Fundindo dois dicionários\n",
    "dicionario1 = {\"a\": 1, \"b\": 2}\n",
    "dicionario2 = {\"c\": 3, \"d\": 4}\n",
    "dicionario1.update(dicionario2)\n",
    "\n",
    "# Limpando um dicionário\n",
    "meu_dicionario.clear()"
   ]
  },
  {
   "cell_type": "markdown",
   "id": "72b01bab",
   "metadata": {},
   "source": [
    "#### Posição de um elemento\n",
    "\n",
    "Em um dicionário Python, não há uma noção direta de \"posição\" de um elemento, porque os dicionários são estruturas de dados sem ordem definida. Em outras palavras, os elementos em um dicionário não têm uma posição fixa como em uma lista ou tupla, onde você pode se referir a um elemento pelo seu índice.\n",
    "\n",
    "No entanto, você pode encontrar a chave associada a um determinado valor em um dicionário. Aqui está como você pode fazer isso:"
   ]
  },
  {
   "cell_type": "code",
   "execution_count": 94,
   "id": "ffbaa8d3",
   "metadata": {},
   "outputs": [
    {
     "name": "stdout",
     "output_type": "stream",
     "text": [
      "['b', 'd']\n"
     ]
    }
   ],
   "source": [
    "meu_dicionario = {'a': 1, 'b': 2, 'c': 3, 'd': 2}\n",
    "\n",
    "# Encontrar a chave(s) associada(s) ao valor 2\n",
    "chaves = [chave for chave, valor in meu_dicionario.items() if valor == 2]\n",
    "\n",
    "print(chaves)  # Saída: ['b', 'd']"
   ]
  },
  {
   "cell_type": "markdown",
   "id": "729b1cad",
   "metadata": {},
   "source": [
    "### 6.2.2. Operações com Dicionários - Parte 02"
   ]
  },
  {
   "cell_type": "markdown",
   "id": "ad0ce670",
   "metadata": {},
   "source": [
    "#### Como ordenar um dicionário com base nas chaves"
   ]
  },
  {
   "cell_type": "code",
   "execution_count": 95,
   "id": "ce327d80",
   "metadata": {},
   "outputs": [
    {
     "name": "stdout",
     "output_type": "stream",
     "text": [
      "{'x': 1, 'y': 2, 'z': 3}\n"
     ]
    }
   ],
   "source": [
    "# Ordenar com base nas chaves:\n",
    "meu_dicionario = {'z': 3, 'x': 1, 'y': 2}\n",
    "\n",
    "# Ordenar o dicionário pelas chaves\n",
    "dicionario_ordenado_chaves = dict(sorted(meu_dicionario.items()))\n",
    "\n",
    "print(dicionario_ordenado_chaves)  # Saída: {'x': 1, 'y': 2, 'z': 3}"
   ]
  },
  {
   "cell_type": "markdown",
   "id": "89ef9b65",
   "metadata": {},
   "source": [
    "#### Como ordenar um dicionário com base nos valores"
   ]
  },
  {
   "cell_type": "code",
   "execution_count": 96,
   "id": "a6afcb23",
   "metadata": {},
   "outputs": [
    {
     "name": "stdout",
     "output_type": "stream",
     "text": [
      "{'x': 1, 'y': 2, 'z': 3}\n"
     ]
    }
   ],
   "source": [
    "# Ordenar com base nos valores:\n",
    "meu_dicionario = {'z': 3, 'x': 1, 'y': 2}\n",
    "\n",
    "# Ordenar o dicionário pelos valores\n",
    "dicionario_ordenado_valores = dict(sorted(meu_dicionario.items(), key=lambda item: item[1]))\n",
    "\n",
    "print(dicionario_ordenado_valores)  # Saída: {'x': 1, 'y': 2, 'z': 3}"
   ]
  },
  {
   "cell_type": "code",
   "execution_count": 97,
   "id": "7434a6a6",
   "metadata": {},
   "outputs": [
    {
     "name": "stdout",
     "output_type": "stream",
     "text": [
      "OrderedDict([('x', 1), ('y', 2), ('z', 3)])\n"
     ]
    }
   ],
   "source": [
    "import collections\n",
    "\n",
    "meu_dicionario = {'z': 3, 'x': 1, 'y': 2}\n",
    "\n",
    "# Criar um OrderedDict ordenado pelas chaves\n",
    "dicionario_ordenado_chaves = collections.OrderedDict(sorted(meu_dicionario.items()))\n",
    "\n",
    "print(dicionario_ordenado_chaves)  # Saída: OrderedDict([('x', 1), ('y', 2), ('z', 3)])"
   ]
  },
  {
   "cell_type": "markdown",
   "id": "88b4641e",
   "metadata": {},
   "source": [
    "#### Como ordenar um dicionário com base em uma lista"
   ]
  },
  {
   "cell_type": "code",
   "execution_count": 98,
   "id": "67a307e9",
   "metadata": {},
   "outputs": [
    {
     "name": "stdout",
     "output_type": "stream",
     "text": [
      "{'laranja': 2, 'banana': 3, 'maçã': 1}\n",
      "OrderedDict([('laranja', 2), ('banana', 3), ('maçã', 1)])\n"
     ]
    }
   ],
   "source": [
    "# Para ordenar um dicionário com base em uma lista\n",
    "\n",
    "meu_dicionario = {'banana': 3, 'maçã': 1, 'laranja': 2}\n",
    "ordem_chaves = ['laranja', 'banana', 'maçã']\n",
    "\n",
    "dicionario_ordenado = {chave: meu_dicionario[chave] for chave in ordem_chaves}\n",
    "print(dicionario_ordenado)\n",
    "\n",
    "import collections\n",
    "dicionario_ordenado = collections.OrderedDict((chave, meu_dicionario[chave]) for chave in ordem_chaves)\n",
    "print(dicionario_ordenado)"
   ]
  },
  {
   "cell_type": "code",
   "execution_count": 99,
   "id": "a7054db3",
   "metadata": {},
   "outputs": [
    {
     "name": "stdout",
     "output_type": "stream",
     "text": [
      "{'maçã': 1, 'laranja': 2, 'banana': 3}\n"
     ]
    }
   ],
   "source": [
    "meu_dicionario = {'banana': 3, 'maçã': 1, 'laranja': 2}\n",
    "\n",
    "# Ordenando o dicionário pelas chaves\n",
    "dicionario_ordenado = dict(sorted(meu_dicionario.items(), key=lambda item: item[1]))\n",
    "\n",
    "print(dicionario_ordenado)"
   ]
  },
  {
   "cell_type": "code",
   "execution_count": 100,
   "id": "6bbcf94e",
   "metadata": {},
   "outputs": [
    {
     "name": "stdout",
     "output_type": "stream",
     "text": [
      "{'laranja': 2, 'banana': 3, 'maçã': 1}\n"
     ]
    }
   ],
   "source": [
    "meu_dicionario = {'banana': 3, 'maçã': 1, 'laranja': 2}\n",
    "ordem_chaves = ['laranja', 'banana', 'maçã']\n",
    "\n",
    "# Ordenando o dicionário com base na lista de chaves usando sorted() e lambda\n",
    "dicionario_ordenado = dict(sorted(meu_dicionario.items(), key=lambda item: ordem_chaves.index(item[0])))\n",
    "\n",
    "print(dicionario_ordenado)"
   ]
  },
  {
   "cell_type": "markdown",
   "id": "e8b1cb35",
   "metadata": {},
   "source": [
    "#### Interseção de dois ou mais dicionários com base nas chaves"
   ]
  },
  {
   "cell_type": "code",
   "execution_count": 101,
   "id": "2180dc38",
   "metadata": {},
   "outputs": [
    {
     "name": "stdout",
     "output_type": "stream",
     "text": [
      "{'c': 3}\n"
     ]
    }
   ],
   "source": [
    "dicionario1 = {'a': 1, 'b': 2, 'c': 3}\n",
    "dicionario2 = {'b': 4, 'c': 5, 'd': 6}\n",
    "dicionario3 = {'c': 7, 'd': 8, 'e': 9}\n",
    "\n",
    "# Encontrando a interseção das chaves dos dicionários\n",
    "intersecao_chaves = set(dicionario1.keys()) & set(dicionario2.keys()) & set(dicionario3.keys())\n",
    "\n",
    "# Criando um novo dicionário contendo apenas as chaves em comum e seus valores correspondentes\n",
    "dicionario_intersecao = {chave: dicionario1[chave] for chave in intersecao_chaves}\n",
    "\n",
    "print(dicionario_intersecao)"
   ]
  },
  {
   "cell_type": "code",
   "execution_count": 102,
   "id": "983681a8",
   "metadata": {},
   "outputs": [
    {
     "name": "stdout",
     "output_type": "stream",
     "text": [
      "{'c'}\n"
     ]
    }
   ],
   "source": [
    "intersecao_chaves = set(dicionario1.keys()) & set(dicionario2.keys()) & set(dicionario3.keys())\n",
    "print(intersecao_chaves)"
   ]
  },
  {
   "cell_type": "markdown",
   "id": "d7c1006d",
   "metadata": {},
   "source": [
    "#### Interseção de dois ou mais dicionários com base nos valores"
   ]
  },
  {
   "cell_type": "code",
   "execution_count": 103,
   "id": "19cf2eb2",
   "metadata": {},
   "outputs": [
    {
     "name": "stdout",
     "output_type": "stream",
     "text": [
      "{3}\n",
      "{'c': 3}\n"
     ]
    }
   ],
   "source": [
    "from collections import Counter\n",
    "\n",
    "# Definindo os dicionários\n",
    "dicionario1 = {'a': 1, 'b': 2, 'c': 3}\n",
    "dicionario2 = {'b': 2, 'c': 3, 'd': 4}\n",
    "dicionario3 = {'c': 3, 'd': 4, 'e': 5}\n",
    "\n",
    "# Convertendo os valores dos dicionários em conjuntos para encontrar a interseção\n",
    "valores1 = set(dicionario1.values())\n",
    "valores2 = set(dicionario2.values())\n",
    "valores3 = set(dicionario3.values())\n",
    "\n",
    "# Encontrando a interseção dos valores dos dicionários\n",
    "intersecao_valores = valores1 & valores2 & valores3\n",
    "print(intersecao_valores)\n",
    "\n",
    "# Criando um novo dicionário contendo apenas os pares chave-valor com valores em comum\n",
    "dicionario_intersecao = {chave: valor for chave, valor in dicionario1.items() if valor in intersecao_valores}\n",
    "\n",
    "print(dicionario_intersecao)"
   ]
  },
  {
   "cell_type": "markdown",
   "id": "eb761e1e",
   "metadata": {},
   "source": [
    "#### Difediferença entre dois ou mais dicionários com base nas chaves"
   ]
  },
  {
   "cell_type": "code",
   "execution_count": 104,
   "id": "ae2aa486",
   "metadata": {},
   "outputs": [
    {
     "name": "stdout",
     "output_type": "stream",
     "text": [
      "{'a'}\n"
     ]
    }
   ],
   "source": [
    "dicionario1 = {'a': 1, 'b': 2, 'c': 3}\n",
    "dicionario2 = {'b': 4, 'c': 5, 'd': 6}\n",
    "\n",
    "# Encontrando a diferença das chaves dos dicionários\n",
    "diferenca_chaves = set(dicionario1.keys()) - set(dicionario2.keys())\n",
    "\n",
    "print(diferenca_chaves)  # Saída: {'a'}"
   ]
  },
  {
   "cell_type": "code",
   "execution_count": 105,
   "id": "b721eceb",
   "metadata": {},
   "outputs": [
    {
     "name": "stdout",
     "output_type": "stream",
     "text": [
      "{'a'}\n"
     ]
    }
   ],
   "source": [
    "diferenca_chaves = set(dicionario1.keys()) - set(dicionario2.keys()) - set(dicionario3.keys())\n",
    "print(diferenca_chaves)"
   ]
  },
  {
   "cell_type": "markdown",
   "id": "4dc336c9",
   "metadata": {},
   "source": [
    "#### Difediferença entre dois ou mais dicionários com base nos valores"
   ]
  },
  {
   "cell_type": "code",
   "execution_count": 106,
   "id": "f0db4dc4",
   "metadata": {},
   "outputs": [
    {
     "name": "stdout",
     "output_type": "stream",
     "text": [
      "{('c', 3), ('a', 1)}\n"
     ]
    }
   ],
   "source": [
    "dicionario1 = {'a': 1, 'b': 2, 'c': 3}\n",
    "dicionario2 = {'b': 2, 'c': 4, 'd': 5}\n",
    "\n",
    "# Encontrando a diferença dos valores dos dicionários\n",
    "diferenca_valores = set(dicionario1.items()) - set(dicionario2.items())\n",
    "\n",
    "print(diferenca_valores)  # Saída: {('a', 1), ('c', 3)}"
   ]
  },
  {
   "cell_type": "code",
   "execution_count": 107,
   "id": "8576215a",
   "metadata": {},
   "outputs": [
    {
     "name": "stdout",
     "output_type": "stream",
     "text": [
      "{('a', 1)}\n"
     ]
    }
   ],
   "source": [
    "diferenca_valores = set(dicionario1.items()) - set(dicionario2.items()) - set(dicionario3.items())\n",
    "print(diferenca_valores)"
   ]
  },
  {
   "cell_type": "markdown",
   "id": "7a0c7434",
   "metadata": {},
   "source": [
    "### 6.3. Operações com Tuplas"
   ]
  },
  {
   "cell_type": "code",
   "execution_count": 108,
   "id": "4eacb78d",
   "metadata": {},
   "outputs": [
    {
     "name": "stdout",
     "output_type": "stream",
     "text": [
      "1\n",
      "(3, 4)\n",
      "(1, 2, 3, 4, 5, 6)\n",
      "(1, 2, 3, 4, 5, 1, 2, 3, 4, 5)\n",
      "True\n",
      "False\n",
      "2\n",
      "1\n"
     ]
    }
   ],
   "source": [
    "# Criando uma tupla\n",
    "tupla = (1, 2, 3, 4, 5)\n",
    "\n",
    "# Acessando elementos da tupla\n",
    "print(tupla[0])  # Saída: 1\n",
    "print(tupla[2:4])  # Saída: (3, 4)\n",
    "\n",
    "# Concatenando tuplas\n",
    "tupla1 = (1, 2, 3)\n",
    "tupla2 = (4, 5, 6)\n",
    "tupla_concatenada = tupla1 + tupla2\n",
    "print(tupla_concatenada)  # Saída: (1, 2, 3, 4, 5, 6)\n",
    "\n",
    "# Repetindo elementos da tupla\n",
    "tupla_repetida = tupla * 2\n",
    "print(tupla_repetida)  # Saída: (1, 2, 3, 4, 5, 1, 2, 3, 4, 5)\n",
    "\n",
    "# Verificando se um elemento está na tupla\n",
    "print(2 in tupla)  # Saída: True\n",
    "print(6 in tupla)  # Saída: False\n",
    "\n",
    "# Encontrando o índice de um elemento\n",
    "print(tupla.index(3))  # Saída: 2\n",
    "\n",
    "# Contando a quantidade de vezes que um elemento aparece\n",
    "print(tupla.count(1))  # Saída: 1"
   ]
  },
  {
   "cell_type": "markdown",
   "id": "1f199870",
   "metadata": {
    "id": "zMN1Q3jdwoJm"
   },
   "source": [
    "---"
   ]
  },
  {
   "cell_type": "markdown",
   "id": "9a9eed0f",
   "metadata": {
    "id": "lSDYsB4zO04L"
   },
   "source": [
    "# **Conteúdo Extra**\n",
    "\n"
   ]
  },
  {
   "cell_type": "markdown",
   "id": "a097a399",
   "metadata": {
    "id": "RhqmXiHQo-is"
   },
   "source": [
    "### Documentação Google Colab\n",
    "\n",
    " - [Google Colab FAQ](https://research.google.com/colaboratory/faq.html): Perguntas mais frequentes sobre o Google Colab."
   ]
  },
  {
   "cell_type": "markdown",
   "id": "05a23b46",
   "metadata": {
    "id": "SvT9xrajLL7J"
   },
   "source": [
    "### Documentação Python\n",
    "\n",
    "\n",
    " - [Tipos Nativos](https://docs.python.org/pt-br/3/library/stdtypes.html): Documentação oficial dos tipos de variáveis nativas da linguagem Python;\n",
    " - [Métodos de String](https://www.w3schools.com/python/python_ref_string.asp): Lista de métodos de *strings* com exemplos."
   ]
  },
  {
   "cell_type": "markdown",
   "id": "277fffae",
   "metadata": {
    "id": "91eSyA2cLLqv"
   },
   "source": [
    "### Cadernos\n",
    "\n",
    " - [JupyterLab](https://jupyter.org/): Projeto original de de cadernos;\n",
    " - [GCP Notebooks](https://cloud.google.com/ai-platform-notebooks): Solução autogerenciada de cadernos da empresa Google Cloud Platform (GCP);\n",
    " - [Azure Notebooks](https://notebooks.azure.com/): Solução autogerenciada de cadernos da empresa Microsoft Azure;\n",
    " - [Databricks Notebooks](https://databricks.com/product/collaborative-notebooks): Solução autogerenciada de cadernos da empresa Databricks;\n",
    " - [AWS Sagemaker Notebooks](https://aws.amazon.com/pt/sagemaker/): Solução autogerenciada de cadernos da empresa Amazon Web Services (AWS)."
   ]
  },
  {
   "cell_type": "markdown",
   "id": "d6295199",
   "metadata": {},
   "source": []
  },
  {
   "cell_type": "code",
   "execution_count": 109,
   "id": "445c06d4",
   "metadata": {},
   "outputs": [
    {
     "name": "stdout",
     "output_type": "stream",
     "text": [
      "['Mas-', 'eis-', 'que-', 'chega-', 'a-', 'roda-', 'viva']\n"
     ]
    }
   ],
   "source": [
    "linha10 = ['Mas', 'eis', 'que', 'chega', 'a', 'roda', 'viva']\n",
    "\n",
    "# Imprimindo resposta\n",
    "imprimindo_resposta = []\n",
    "total = 0\n",
    "vez = 0\n",
    "\n",
    "for palavra in linha10:\n",
    "    total = total + 1\n",
    "\n",
    "for palavra in linha10:\n",
    "    vez = vez + 1\n",
    "    if vez < total:\n",
    "     cont = palavra + '-'\n",
    "     imprimindo_resposta.append(cont)\n",
    "    else:\n",
    "       imprimindo_resposta.append(palavra)\n",
    "\n",
    "print(imprimindo_resposta)"
   ]
  },
  {
   "cell_type": "markdown",
   "id": "5a4c0ad1",
   "metadata": {
    "id": "KJqp9AANOCtf"
   },
   "source": [
    "<img src=\"https://raw.githubusercontent.com/enzoschitini/repository-data-science-library/main/Python%20Notebook/img/Estruturas%20de%20Dados.png\" alt=\"ebac-logo\">\n",
    "\n",
    "---\n",
    "\n",
    "# **Módulo 02** | Python: Estruturas de Dados\n",
    "Caderno de **Aula**<br> \n",
    "Desenvolvedor [Enzo Schitini](https://enzo-schitini.bubbleapps.io/version-test/)\n",
    "\n",
    "---"
   ]
  },
  {
   "cell_type": "markdown",
   "id": "d739e926",
   "metadata": {
    "id": "d9jDtUbDOE1-"
   },
   "source": [
    "# **Tópicos**\n",
    "\n",
    "<ol type=\"1\">\n",
    "  <li>Listas;</li>\n",
    "  <li>Conjuntos;</li>\n",
    "  <li>Dicionários.</li>\n",
    "</ol>"
   ]
  },
  {
   "cell_type": "markdown",
   "id": "053043d3",
   "metadata": {
    "id": "SmoHgt-lwkpD"
   },
   "source": [
    "---"
   ]
  },
  {
   "cell_type": "markdown",
   "id": "da95f4cc",
   "metadata": {
    "id": "GABI6OW8OfQ2"
   },
   "source": [
    "# **Aulas**"
   ]
  },
  {
   "cell_type": "markdown",
   "id": "7eac9faf",
   "metadata": {},
   "source": [
    "<img src=\"Group2.png\" alt=\"ebac-logo\"> "
   ]
  },
  {
   "cell_type": "markdown",
   "id": "bba51533",
   "metadata": {
    "id": "muD1vxozykSC"
   },
   "source": [
    "## 1\\. Listas"
   ]
  },
  {
   "cell_type": "markdown",
   "id": "637a5408",
   "metadata": {
    "id": "5a3_syBIP6yO"
   },
   "source": [
    "### **1.1. Motivação** "
   ]
  },
  {
   "cell_type": "markdown",
   "id": "01a2ce29",
   "metadata": {
    "id": "BmXmjEay_JOP"
   },
   "source": [
    "O aplicativo do seu banco registra toda a sua movimentação financeira. O final do dia, o app consolida o saldo final para que você possa controlar sua vida financeira."
   ]
  },
  {
   "cell_type": "code",
   "execution_count": 110,
   "id": "f1076d58",
   "metadata": {
    "id": "9N1LJEm7AlyF"
   },
   "outputs": [],
   "source": [
    "dia_11_saldo_inicial = 1000"
   ]
  },
  {
   "cell_type": "code",
   "execution_count": 111,
   "id": "01dae573",
   "metadata": {
    "id": "K_kN8YZm_5gv"
   },
   "outputs": [],
   "source": [
    "dia_11_transacao_1 = 243\n",
    "dia_11_transacao_2 = -798.58\n",
    "dia_11_transacao_3 = 427.12\n",
    "dia_11_transacao_4 = -10.91"
   ]
  },
  {
   "cell_type": "code",
   "execution_count": 112,
   "id": "12efb58e",
   "metadata": {
    "id": "oPuPUmzfAojH"
   },
   "outputs": [],
   "source": [
    "dia_11_saldo_final = dia_11_saldo_inicial + dia_11_transacao_1 + dia_11_transacao_2 + dia_11_transacao_3 + dia_11_transacao_4"
   ]
  },
  {
   "cell_type": "code",
   "execution_count": 113,
   "id": "b2864002",
   "metadata": {
    "id": "vIGCRWomqbsl"
   },
   "outputs": [
    {
     "name": "stdout",
     "output_type": "stream",
     "text": [
      "860.63\n"
     ]
    }
   ],
   "source": [
    "print(dia_11_saldo_final)"
   ]
  },
  {
   "cell_type": "markdown",
   "id": "3bfd6131",
   "metadata": {
    "id": "TfDH4namA43t"
   },
   "source": [
    "Será que exista uma forma melhor de armazenar as transações diárias?"
   ]
  },
  {
   "cell_type": "markdown",
   "id": "cde8bb55",
   "metadata": {
    "id": "E6D5rjlESJ1A"
   },
   "source": [
    "### **1.2. Definição** "
   ]
  },
  {
   "cell_type": "markdown",
   "id": "327ec28f",
   "metadata": {
    "id": "ajMuhMQx3bfB"
   },
   "source": [
    "Armazenam sequências mutáveis e ordenadas de valores. São do tipo `list`:\n"
   ]
  },
  {
   "cell_type": "code",
   "execution_count": 114,
   "id": "7bcd2b6b",
   "metadata": {
    "id": "mtCBXOvB3bfd"
   },
   "outputs": [
    {
     "name": "stdout",
     "output_type": "stream",
     "text": [
      "['André Perez', 'andre.perez', 'andre123', 'andre.perez@gmail.com']\n",
      "<class 'list'>\n"
     ]
    }
   ],
   "source": [
    "usuario_web = ['André Perez', 'andre.perez', 'andre123', 'andre.perez@gmail.com']\n",
    "\n",
    "print(usuario_web)\n",
    "print(type(usuario_web))"
   ]
  },
  {
   "cell_type": "code",
   "execution_count": 115,
   "id": "eda4cf88",
   "metadata": {
    "id": "IDyGAYp13bfe"
   },
   "outputs": [
    {
     "name": "stdout",
     "output_type": "stream",
     "text": [
      "['André Perez', 20, 'andre.perez', 'andre123', 'andre.perez@gmail.com', 723.15, True]\n",
      "<class 'list'>\n"
     ]
    }
   ],
   "source": [
    "idade = 20\n",
    "saldo_em_conta = 723.15\n",
    "usuario_loggedin = True\n",
    "\n",
    "usuario_web = ['André Perez', idade, 'andre.perez', 'andre123', 'andre.perez@gmail.com', saldo_em_conta, usuario_loggedin]\n",
    "\n",
    "print(usuario_web)\n",
    "print(type(usuario_web))"
   ]
  },
  {
   "cell_type": "markdown",
   "id": "cafe641c",
   "metadata": {
    "id": "wNkFG1qKSU9M"
   },
   "source": [
    "### **1.3. Operações** "
   ]
  },
  {
   "cell_type": "markdown",
   "id": "499ee684",
   "metadata": {
    "id": "okUlGror3kEO"
   },
   "source": [
    "As operações da estrutura do tipo *list* são:\n",
    "\n",
    "\n",
    "*   `+` (concatenação)."
   ]
  },
  {
   "cell_type": "markdown",
   "id": "346e8563",
   "metadata": {
    "id": "gI0uX4ba3xRt"
   },
   "source": [
    "**Exemplo**: Fabricantes de *hardware* mobile"
   ]
  },
  {
   "cell_type": "code",
   "execution_count": 116,
   "id": "3d357c18",
   "metadata": {
    "id": "_yq5ifl536nt"
   },
   "outputs": [
    {
     "name": "stdout",
     "output_type": "stream",
     "text": [
      "['xiaomi', 'huawei']\n",
      "['apple', 'motorola']\n",
      "['xiaomi', 'huawei', 'apple', 'motorola']\n"
     ]
    }
   ],
   "source": [
    "fabricantes_mobile_china = ['xiaomi', 'huawei']\n",
    "fabricantes_mobile_eua = ['apple', 'motorola']\n",
    "fabricantes_mobile = fabricantes_mobile_china + fabricantes_mobile_eua\n",
    "\n",
    "print(fabricantes_mobile_china)\n",
    "print(fabricantes_mobile_eua)\n",
    "print(fabricantes_mobile)"
   ]
  },
  {
   "cell_type": "markdown",
   "id": "1b68414b",
   "metadata": {
    "id": "ND9FzyEn5kFs"
   },
   "source": [
    "Outra operação muito utilizada é a de fatiamento (*slicing*), semelhante ao de *strings*:"
   ]
  },
  {
   "cell_type": "markdown",
   "id": "dbd92a99",
   "metadata": {
    "id": "Y8b_DalN5x3D"
   },
   "source": [
    "Fatiamento fixo:"
   ]
  },
  {
   "cell_type": "code",
   "execution_count": 117,
   "id": "f6adb69b",
   "metadata": {
    "id": "sDxRHUKp5wFw"
   },
   "outputs": [
    {
     "name": "stdout",
     "output_type": "stream",
     "text": [
      "0: xiaomi\n",
      "-1: motorola\n"
     ]
    }
   ],
   "source": [
    "print(f'0: {fabricantes_mobile[0]}')\n",
    "print(f'-1: {fabricantes_mobile[-1]}')"
   ]
  },
  {
   "cell_type": "markdown",
   "id": "26fadb1e",
   "metadata": {
    "id": "-xHG7dS16Qb4"
   },
   "source": [
    "Fatiamento por intervalo:"
   ]
  },
  {
   "cell_type": "code",
   "execution_count": 118,
   "id": "55ddfb39",
   "metadata": {
    "id": "09r1FMtN6USi"
   },
   "outputs": [
    {
     "name": "stdout",
     "output_type": "stream",
     "text": [
      "china: ['xiaomi', 'huawei']\n",
      "eua: ['apple', 'motorola']\n"
     ]
    }
   ],
   "source": [
    "fabricantes_mobile_china = fabricantes_mobile[0:2]\n",
    "fabricantes_mobile_eua = fabricantes_mobile[2:len(fabricantes_mobile)]\n",
    "\n",
    "print('china: ' + str(fabricantes_mobile_china))\n",
    "print('eua: ' + str(fabricantes_mobile_eua))\n"
   ]
  },
  {
   "cell_type": "markdown",
   "id": "eb28d9e4",
   "metadata": {
    "id": "WH9TnU_z7hUt"
   },
   "source": [
    "Podemos adicionar elementos a uma posição específica da lista:"
   ]
  },
  {
   "cell_type": "code",
   "execution_count": 119,
   "id": "d56396e1",
   "metadata": {
    "id": "DKYvexvX7p1_"
   },
   "outputs": [
    {
     "name": "stdout",
     "output_type": "stream",
     "text": [
      "['xiaomi', 'huawei', 'apple', 'motorola']\n"
     ]
    }
   ],
   "source": [
    "print(fabricantes_mobile)"
   ]
  },
  {
   "cell_type": "code",
   "execution_count": 120,
   "id": "2673fc5b",
   "metadata": {
    "id": "eGYIk-vX8DQs"
   },
   "outputs": [
    {
     "name": "stdout",
     "output_type": "stream",
     "text": [
      "['xiaomi', 'huawei', 'nokia', 'motorola']\n"
     ]
    }
   ],
   "source": [
    "fabricantes_mobile[2] = 'nokia'\n",
    "print(fabricantes_mobile)"
   ]
  },
  {
   "cell_type": "markdown",
   "id": "ee128391",
   "metadata": {
    "id": "8rRaHG5K6-h3"
   },
   "source": [
    "### **1.4. Métodos**"
   ]
  },
  {
   "cell_type": "markdown",
   "id": "b18d55e2",
   "metadata": {
    "id": "LoHEI8EP7KSb"
   },
   "source": [
    "São métodos nativos do Python que nos ajudam a trabalhar no dia a dia com listas."
   ]
  },
  {
   "cell_type": "code",
   "execution_count": 121,
   "id": "05295038",
   "metadata": {
    "id": "O4Ke0FcG7Opv"
   },
   "outputs": [
    {
     "name": "stdout",
     "output_type": "stream",
     "text": [
      "[0.05, 0.07, 0.02, 0.04, 0.08]\n"
     ]
    }
   ],
   "source": [
    "juros = [0.05, 0.07, 0.02, 0.04, 0.08]\n",
    "print(juros)"
   ]
  },
  {
   "cell_type": "code",
   "execution_count": 122,
   "id": "1c6284fe",
   "metadata": {
    "id": "1PIOTSXT8uT7"
   },
   "outputs": [
    {
     "name": "stdout",
     "output_type": "stream",
     "text": [
      "[0.1, 0.05, 0.07, 0.02, 0.04, 0.08]\n"
     ]
    }
   ],
   "source": [
    "# inserir um elemento sem substituir: list.insert(index, val)\n",
    "juros.insert(0, 0.10)\n",
    "print(juros)"
   ]
  },
  {
   "cell_type": "code",
   "execution_count": 123,
   "id": "665dc1ab",
   "metadata": {
    "id": "-MMjKRzf9Ixy"
   },
   "outputs": [
    {
     "name": "stdout",
     "output_type": "stream",
     "text": [
      "[0.1, 0.05, 0.07, 0.02, 0.04, 0.08, 0.09]\n"
     ]
    }
   ],
   "source": [
    "# inserir um elemento no fim da lista: list.append(val)\n",
    "juros.append(0.09)\n",
    "print(juros)"
   ]
  },
  {
   "cell_type": "code",
   "execution_count": 124,
   "id": "ee3669a1",
   "metadata": {
    "id": "PAfBwmkb9lF3"
   },
   "outputs": [
    {
     "name": "stdout",
     "output_type": "stream",
     "text": [
      "[0.05, 0.07, 0.02, 0.04, 0.08, 0.09]\n"
     ]
    }
   ],
   "source": [
    "# remover um elemento pelo valor: list.remove(val)\n",
    "juros.remove(0.1)\n",
    "print(juros)"
   ]
  },
  {
   "cell_type": "code",
   "execution_count": 125,
   "id": "0312c30e",
   "metadata": {
    "id": "E2rAo_0N9yp_"
   },
   "outputs": [
    {
     "name": "stdout",
     "output_type": "stream",
     "text": [
      "0.02\n"
     ]
    }
   ],
   "source": [
    "# remover um elemento pelo índice: list.pop(val)\n",
    "terceiro_juros = juros.pop(2)\n",
    "print(terceiro_juros)"
   ]
  },
  {
   "cell_type": "code",
   "execution_count": 126,
   "id": "5f9afe20",
   "metadata": {
    "id": "cTZ-PpZjwrXh"
   },
   "outputs": [
    {
     "name": "stdout",
     "output_type": "stream",
     "text": [
      "[0.05, 0.07, 0.04, 0.08, 0.09]\n"
     ]
    }
   ],
   "source": [
    "print(juros)"
   ]
  },
  {
   "cell_type": "markdown",
   "id": "96674624",
   "metadata": {
    "id": "NaXePKHx-J0H"
   },
   "source": [
    "### **1.5. Conversão**"
   ]
  },
  {
   "cell_type": "markdown",
   "id": "dacd87cd",
   "metadata": {
    "id": "nxiiMN---dLL"
   },
   "source": [
    "Podemos converter alguns tipos de variáveis em listas, como *strings*."
   ]
  },
  {
   "cell_type": "code",
   "execution_count": 127,
   "id": "f08e88f8",
   "metadata": {
    "id": "DgZyBHJn-TWi"
   },
   "outputs": [
    {
     "name": "stdout",
     "output_type": "stream",
     "text": [
      "andre.perez@gmail.com\n",
      "['a', 'n', 'd', 'r', 'e', '.', 'p', 'e', 'r', 'e', 'z', '@', 'g', 'm', 'a', 'i', 'l', '.', 'c', 'o', 'm']\n"
     ]
    }
   ],
   "source": [
    "email = 'andre.perez@gmail.com'\n",
    "caracteres_email = list(email)\n",
    "\n",
    "print(email)\n",
    "print(caracteres_email)"
   ]
  },
  {
   "cell_type": "markdown",
   "id": "f30aa86a",
   "metadata": {
    "id": "hV8sOC7uSQsy"
   },
   "source": [
    "### **1.6. Revisitando a motivação** "
   ]
  },
  {
   "cell_type": "code",
   "execution_count": 128,
   "id": "d3b9ba99",
   "metadata": {
    "id": "oov-ZttEBTJi"
   },
   "outputs": [],
   "source": [
    "dia_11_saldo_inicial = 1000"
   ]
  },
  {
   "cell_type": "code",
   "execution_count": 129,
   "id": "07d150b7",
   "metadata": {
    "id": "QBK9CvnkBWAh"
   },
   "outputs": [
    {
     "name": "stdout",
     "output_type": "stream",
     "text": [
      "[243, -798.58, 427.12, -10.91]\n"
     ]
    }
   ],
   "source": [
    "dia_11_transacoes = []\n",
    "\n",
    "dia_11_transacoes.append(243)\n",
    "dia_11_transacoes.append(-798.58)\n",
    "dia_11_transacoes.append(427.12)\n",
    "dia_11_transacoes.append(-10.91)\n",
    "\n",
    "print(dia_11_transacoes)"
   ]
  },
  {
   "cell_type": "code",
   "execution_count": 130,
   "id": "54b691ce",
   "metadata": {
    "id": "3WIhTJkvBnn_"
   },
   "outputs": [
    {
     "name": "stdout",
     "output_type": "stream",
     "text": [
      "860.63\n"
     ]
    }
   ],
   "source": [
    "dia_11_saldo_final = dia_11_saldo_inicial + dia_11_transacoes[0] + dia_11_transacoes[1] + dia_11_transacoes[2] + dia_11_transacoes[3]\n",
    "print(dia_11_saldo_final)"
   ]
  },
  {
   "cell_type": "markdown",
   "id": "d2546705",
   "metadata": {},
   "source": [
    "<img src=\"Group2.png\" alt=\"ebac-logo\"> "
   ]
  },
  {
   "cell_type": "markdown",
   "id": "51920409",
   "metadata": {
    "id": "4rRCvy_UURrM"
   },
   "source": [
    "## 2\\. Conjuntos"
   ]
  },
  {
   "cell_type": "markdown",
   "id": "60774ded",
   "metadata": {
    "id": "Y1W9Hv8fURrZ"
   },
   "source": [
    "### **2.1. Motivação** "
   ]
  },
  {
   "cell_type": "markdown",
   "id": "60677498",
   "metadata": {
    "id": "yui33vLXavm9"
   },
   "source": [
    "Você trabalha como analista de dados de mídias sociais e precisa descobrir todas as *hashtags* que alcançaram o *top trending* do Twitter durante uma semana. Você já conseguiu as *hashtags* por dia da semana:"
   ]
  },
  {
   "cell_type": "code",
   "execution_count": 131,
   "id": "4649f550",
   "metadata": {
    "id": "EK9_cpdLbgUR"
   },
   "outputs": [],
   "source": [
    "hashtags_seg = ['#tiago', '#joao', '#bbb']\n",
    "hashtags_ter = ['#sarah', '#bbb', '#fiuk']\n",
    "hashtags_qua = ['#gil', '#thelma', '#lourdes']\n",
    "hashtags_qui = ['#rafa', '#fora', '#danilo']\n",
    "hashtags_sex = ['#juliete', '#arthur', '#bbb']"
   ]
  },
  {
   "cell_type": "markdown",
   "id": "922bd48c",
   "metadata": {
    "id": "poe2mVAlcIeB"
   },
   "source": [
    "Um simples concateção de listas fará com que a *hashtag* #bbb, entre outras, apareça mais de uma vez."
   ]
  },
  {
   "cell_type": "code",
   "execution_count": 132,
   "id": "13d8f335",
   "metadata": {
    "id": "fGIykxP8cTZ5"
   },
   "outputs": [
    {
     "name": "stdout",
     "output_type": "stream",
     "text": [
      "['#tiago', '#joao', '#bbb', '#sarah', '#bbb', '#fiuk', '#gil', '#thelma', '#lourdes', '#rafa', '#fora', '#danilo', '#juliete', '#arthur', '#bbb']\n"
     ]
    }
   ],
   "source": [
    "hashtags_semana = hashtags_seg + hashtags_ter + hashtags_qua + hashtags_qui + hashtags_sex\n",
    "print(hashtags_semana)"
   ]
  },
  {
   "cell_type": "markdown",
   "id": "e0147664",
   "metadata": {
    "id": "cOZDKbe6URrb"
   },
   "source": [
    "### **2.2. Definição** "
   ]
  },
  {
   "cell_type": "markdown",
   "id": "d20ac564",
   "metadata": {
    "id": "B9Bux1n0C2Hd"
   },
   "source": [
    "Armazenam sequências imutáveis e desordenadas valores, sem repetição. São do tipo `set`:"
   ]
  },
  {
   "cell_type": "code",
   "execution_count": 133,
   "id": "8eade9ad",
   "metadata": {
    "id": "_QL3pDMAE5oV"
   },
   "outputs": [
    {
     "name": "stdout",
     "output_type": "stream",
     "text": [
      "{'maca', 'uva', 'banana'}\n",
      "<class 'set'>\n"
     ]
    }
   ],
   "source": [
    "frutas = {'banana', 'maca', 'uva', 'uva'}\n",
    "\n",
    "print(frutas)\n",
    "print(type(frutas))"
   ]
  },
  {
   "cell_type": "markdown",
   "id": "e1a14702",
   "metadata": {
    "id": "5q6xcwOWURrc"
   },
   "source": [
    "### **2.3. Operações** "
   ]
  },
  {
   "cell_type": "markdown",
   "id": "a8cc0b22",
   "metadata": {
    "id": "VjckMGhefqbI"
   },
   "source": [
    "As operações da estrutura do tipo *set* são:\n",
    "\n",
    "\n",
    "*   `-` (diferença)."
   ]
  },
  {
   "cell_type": "code",
   "execution_count": 134,
   "id": "9b2756ce",
   "metadata": {
    "id": "sDM_I9xff1as"
   },
   "outputs": [],
   "source": [
    "norte_europa = {'reino unido', 'suecia', 'russia', 'noruega', 'dinamarca'}\n",
    "escandinavia = {'noruega', 'dinamarca', 'suecia'}"
   ]
  },
  {
   "cell_type": "code",
   "execution_count": 135,
   "id": "0f2374f0",
   "metadata": {
    "id": "nibhXuPHgD4I"
   },
   "outputs": [
    {
     "name": "stdout",
     "output_type": "stream",
     "text": [
      "{'reino unido', 'russia'}\n"
     ]
    }
   ],
   "source": [
    "norte_europa_nao_escandivano = norte_europa - escandinavia\n",
    "print(norte_europa_nao_escandivano)"
   ]
  },
  {
   "cell_type": "code",
   "execution_count": 136,
   "id": "e2b46bf3",
   "metadata": {
    "id": "UjsDawmDgoVD"
   },
   "outputs": [
    {
     "name": "stdout",
     "output_type": "stream",
     "text": [
      "set()\n"
     ]
    }
   ],
   "source": [
    "escandivano_nao_norte_europa = escandinavia - norte_europa\n",
    "print(escandivano_nao_norte_europa)"
   ]
  },
  {
   "cell_type": "markdown",
   "id": "fd8bbaa3",
   "metadata": {
    "id": "DK2jQGirhGWS"
   },
   "source": [
    "### **2.4. Métodos**"
   ]
  },
  {
   "cell_type": "markdown",
   "id": "fadc7c43",
   "metadata": {
    "id": "A6cE9_1GhGWd"
   },
   "source": [
    "São métodos nativos do Python que nos ajudam a trabalhar no dia a dia com conjuntos."
   ]
  },
  {
   "cell_type": "code",
   "execution_count": 137,
   "id": "be4430c7",
   "metadata": {
    "id": "IW0jfAUmhGWd"
   },
   "outputs": [
    {
     "name": "stdout",
     "output_type": "stream",
     "text": [
      "{'Humanas', 'Exatas', 'Biológicas'}\n"
     ]
    }
   ],
   "source": [
    "cursos = {'Exatas', 'Humanas', 'Biológicas'}\n",
    "print(cursos)"
   ]
  },
  {
   "cell_type": "code",
   "execution_count": 138,
   "id": "7537ce85",
   "metadata": {
    "id": "hJDBambLhGWe"
   },
   "outputs": [
    {
     "name": "stdout",
     "output_type": "stream",
     "text": [
      "{'Saúde', 'Humanas', 'Exatas', 'Biológicas'}\n"
     ]
    }
   ],
   "source": [
    "# inserir um elemento no conjunto: set.add(val)\n",
    "cursos.add('Saúde')\n",
    "print(cursos)"
   ]
  },
  {
   "cell_type": "code",
   "execution_count": 139,
   "id": "87c2d9a1",
   "metadata": {
    "id": "2PW8RfTyhGWe"
   },
   "outputs": [
    {
     "name": "stdout",
     "output_type": "stream",
     "text": [
      "{'Humanas', 'Exatas', 'Biológicas'}\n"
     ]
    }
   ],
   "source": [
    "# remover um elemento no conjunto: set.remove(val)\n",
    "cursos.remove('Saúde')\n",
    "print(cursos)"
   ]
  },
  {
   "cell_type": "markdown",
   "id": "3a725f9d",
   "metadata": {
    "id": "lR8W6YlthGWe"
   },
   "source": [
    "### **2.5. Conversão**"
   ]
  },
  {
   "cell_type": "markdown",
   "id": "d52eb41a",
   "metadata": {
    "id": "FcIR2JcbhGWe"
   },
   "source": [
    "Podemos converter conjuntos para lista e vice e versa."
   ]
  },
  {
   "cell_type": "code",
   "execution_count": 140,
   "id": "4ab57976",
   "metadata": {
    "id": "XZU1XQZbhGWf"
   },
   "outputs": [
    {
     "name": "stdout",
     "output_type": "stream",
     "text": [
      "{'Corinthians', 'São Paulo', 'Santos', 'Palmeiras'}\n",
      "<class 'set'>\n"
     ]
    }
   ],
   "source": [
    "times_paulistas = {'São Paulo', 'Palmeiras', 'Corinthians', 'Santos'}\n",
    "\n",
    "print(times_paulistas)\n",
    "print(type(times_paulistas))"
   ]
  },
  {
   "cell_type": "code",
   "execution_count": 141,
   "id": "a97da574",
   "metadata": {
    "id": "tBGFyE12iQ4O"
   },
   "outputs": [
    {
     "name": "stdout",
     "output_type": "stream",
     "text": [
      "['Corinthians', 'São Paulo', 'Santos', 'Palmeiras']\n",
      "<class 'list'>\n"
     ]
    }
   ],
   "source": [
    "print(list(times_paulistas))\n",
    "print(type(list(times_paulistas)))"
   ]
  },
  {
   "cell_type": "markdown",
   "id": "13f262c6",
   "metadata": {
    "id": "WxnG-e3HURrd"
   },
   "source": [
    "### **2.6. Revisitando a motivação** "
   ]
  },
  {
   "cell_type": "code",
   "execution_count": 142,
   "id": "604f5adf",
   "metadata": {
    "id": "LdF2ImcecyBI"
   },
   "outputs": [
    {
     "name": "stdout",
     "output_type": "stream",
     "text": [
      "['#tiago', '#joao', '#bbb', '#sarah', '#bbb', '#fiuk', '#gil', '#thelma', '#lourdes', '#rafa', '#fora', '#danilo', '#juliete', '#arthur', '#bbb']\n",
      "15\n"
     ]
    }
   ],
   "source": [
    "print(hashtags_semana)\n",
    "print(len(hashtags_semana))"
   ]
  },
  {
   "cell_type": "code",
   "execution_count": 143,
   "id": "d912a596",
   "metadata": {
    "id": "7u48dmrPco9Q"
   },
   "outputs": [
    {
     "name": "stdout",
     "output_type": "stream",
     "text": [
      "['#joao', '#fora', '#lourdes', '#bbb', '#gil', '#juliete', '#tiago', '#danilo', '#fiuk', '#arthur', '#rafa', '#sarah', '#thelma']\n",
      "13\n"
     ]
    }
   ],
   "source": [
    "hashtags_semana = list(set(hashtags_seg + hashtags_ter + hashtags_qua + hashtags_qui + hashtags_sex))\n",
    "\n",
    "print(hashtags_semana)\n",
    "print(len(hashtags_semana))"
   ]
  },
  {
   "cell_type": "markdown",
   "id": "5e0a3f94",
   "metadata": {},
   "source": [
    "<img src=\"Group2.png\" alt=\"ebac-logo\"> "
   ]
  },
  {
   "cell_type": "markdown",
   "id": "c6d10611",
   "metadata": {
    "id": "ELgoMRAAUSjv"
   },
   "source": [
    "## 3\\. Dicionários"
   ]
  },
  {
   "cell_type": "markdown",
   "id": "442521fe",
   "metadata": {
    "id": "CuLkQY76USjw"
   },
   "source": [
    "### **3.1. Motivação** "
   ]
  },
  {
   "cell_type": "markdown",
   "id": "75b6daa8",
   "metadata": {
    "id": "K5Wnzl1UdShI"
   },
   "source": [
    "Para se conectar a uma rede wi-fi, você precisa de duas informações: o nome da rede e a senha de acesso. Quando você vai acessar uma nova rede, você encontra uma lista de redes disponíveis: "
   ]
  },
  {
   "cell_type": "code",
   "execution_count": 144,
   "id": "cbedc23b",
   "metadata": {
    "id": "Ah1dmE4Qdv-A"
   },
   "outputs": [
    {
     "name": "stdout",
     "output_type": "stream",
     "text": [
      "['rede1', 'cnx_cnx', 'uai-fi', 'r3d3']\n"
     ]
    }
   ],
   "source": [
    "wifi_disponiveis = ['rede1', 'cnx_cnx', 'uai-fi', 'r3d3']\n",
    "print(wifi_disponiveis)"
   ]
  },
  {
   "cell_type": "markdown",
   "id": "030d1e11",
   "metadata": {
    "id": "auR4rPNAeCgO"
   },
   "source": [
    "Você consegue identificar quais são os nome de redes e suas respectivas senhas? Talvez uma `list` não seja a melhor opção para armazenar esse tipo de dado."
   ]
  },
  {
   "cell_type": "markdown",
   "id": "5fa31a92",
   "metadata": {
    "id": "JENLdmHkUSjx"
   },
   "source": [
    "### **3.2. Definição** "
   ]
  },
  {
   "cell_type": "markdown",
   "id": "f4e41525",
   "metadata": {
    "id": "U3lwWzl38zuT"
   },
   "source": [
    "Armazenam sequências no formato chave-valor. São do tipo `dict`.\n"
   ]
  },
  {
   "cell_type": "code",
   "execution_count": 145,
   "id": "bfcc5e80",
   "metadata": {
    "id": "OUR6zdcni2jS"
   },
   "outputs": [
    {
     "name": "stdout",
     "output_type": "stream",
     "text": [
      "{'capital': 'Brasília', 'idioma': 'Português', 'populacao': 210}\n",
      "<class 'dict'>\n"
     ]
    }
   ],
   "source": [
    "brasil = {'capital': 'Brasília', 'idioma': 'Português', 'populacao': 210}\n",
    "\n",
    "print(brasil)\n",
    "print(type(brasil))"
   ]
  },
  {
   "cell_type": "markdown",
   "id": "649ebdc4",
   "metadata": {
    "id": "cPj56yhmIJg4"
   },
   "source": [
    "Não é permite chaves duplicadas."
   ]
  },
  {
   "cell_type": "code",
   "execution_count": 146,
   "id": "a055810a",
   "metadata": {
    "id": "5a8o-NP4ITnd"
   },
   "outputs": [
    {
     "name": "stdout",
     "output_type": "stream",
     "text": [
      "{'marca': 'Volkswagen', 'modelo': 'Polo', 'ano': 2004}\n"
     ]
    }
   ],
   "source": [
    "carro = {\n",
    "    'marca': 'Volkswagen',\n",
    "    'modelo': 'Polo',\n",
    "    'ano': 2021,\n",
    "    'ano': 2004\n",
    "}\n",
    "\n",
    "print(carro)"
   ]
  },
  {
   "cell_type": "markdown",
   "id": "6777fbe4",
   "metadata": {
    "id": "0tE9-pPrOIxH"
   },
   "source": [
    "Podemos criar dicionários compostos:"
   ]
  },
  {
   "cell_type": "code",
   "execution_count": 147,
   "id": "6c028979",
   "metadata": {
    "id": "bTeSsI9FOO4h"
   },
   "outputs": [
    {
     "name": "stdout",
     "output_type": "stream",
     "text": [
      "{'andre': {'nome': 'Andre Perez', 'ano_nascimento': 1992, 'pais': {'pai': {'nome': '<nome-do-pai> Perez', 'ano_nascimento': 1971}, 'mae': {'nome': '<nome-da-mae> Perez', 'ano_nascimento': 1973}}}}\n"
     ]
    }
   ],
   "source": [
    "cadastro = {\n",
    "    'andre': {\n",
    "        'nome': 'Andre Perez', \n",
    "        'ano_nascimento': 1992, \n",
    "        'pais': {\n",
    "            'pai': {\n",
    "              'nome': '<nome-do-pai> Perez', \n",
    "              'ano_nascimento': 1971\n",
    "            },\n",
    "            'mae': {\n",
    "              'nome': '<nome-da-mae> Perez', \n",
    "              'ano_nascimento': 1973\n",
    "            },\n",
    "        }\n",
    "    }\n",
    "}\n",
    "\n",
    "print(cadastro)"
   ]
  },
  {
   "cell_type": "code",
   "execution_count": 148,
   "id": "7ddece01",
   "metadata": {
    "id": "hzJjKGtZ-DmB"
   },
   "outputs": [
    {
     "data": {
      "text/plain": [
       "1973"
      ]
     },
     "execution_count": 148,
     "metadata": {},
     "output_type": "execute_result"
    }
   ],
   "source": [
    "cadastro['andre']['pais']['mae']['ano_nascimento']"
   ]
  },
  {
   "cell_type": "markdown",
   "id": "065962a0",
   "metadata": {
    "id": "qcHSzY6kUSjy"
   },
   "source": [
    "### **3.3. Operações** "
   ]
  },
  {
   "cell_type": "code",
   "execution_count": 149,
   "id": "b475deea",
   "metadata": {
    "id": "XmfvRWVTKZLn"
   },
   "outputs": [],
   "source": [
    "credito = {'123': 750, '789': 980}"
   ]
  },
  {
   "cell_type": "markdown",
   "id": "1718f882",
   "metadata": {
    "id": "RVwYx41eI6BT"
   },
   "source": [
    "Elementos são acessados pela sua chave."
   ]
  },
  {
   "cell_type": "code",
   "execution_count": 150,
   "id": "ce49a2f8",
   "metadata": {
    "id": "A05RBP9QKsgh"
   },
   "outputs": [
    {
     "name": "stdout",
     "output_type": "stream",
     "text": [
      "750\n",
      "980\n"
     ]
    }
   ],
   "source": [
    "score_123 = credito['123']\n",
    "score_789 = credito['789']\n",
    "\n",
    "print(score_123)\n",
    "print(score_789)"
   ]
  },
  {
   "cell_type": "markdown",
   "id": "ae0405a5",
   "metadata": {
    "id": "OZYYChDVLEQm"
   },
   "source": [
    "Elementos são atualizados pela sua chave."
   ]
  },
  {
   "cell_type": "code",
   "execution_count": 151,
   "id": "2c59c1ab",
   "metadata": {
    "id": "crkXt8TzLfp2"
   },
   "outputs": [
    {
     "name": "stdout",
     "output_type": "stream",
     "text": [
      "{'123': 435, '789': 980}\n"
     ]
    }
   ],
   "source": [
    "credito['123'] = 435\n",
    "print(credito)"
   ]
  },
  {
   "cell_type": "markdown",
   "id": "5c74a571",
   "metadata": {
    "id": "pE_a-ii5L82k"
   },
   "source": [
    "Para adicionar um novo elemento, basta criar um novo elemento chave-valor:"
   ]
  },
  {
   "cell_type": "code",
   "execution_count": 152,
   "id": "684f5532",
   "metadata": {
    "id": "Dq0mM6URMAe-"
   },
   "outputs": [
    {
     "name": "stdout",
     "output_type": "stream",
     "text": [
      "{'123': 435, '789': 980, '456': 1000}\n"
     ]
    }
   ],
   "source": [
    "credito['456'] = 1000\n",
    "print(credito)"
   ]
  },
  {
   "cell_type": "markdown",
   "id": "08755bf9",
   "metadata": {
    "id": "UCUO_UdUJPI8"
   },
   "source": [
    "### **3.4. Métodos**"
   ]
  },
  {
   "cell_type": "markdown",
   "id": "a2ea0db2",
   "metadata": {
    "id": "cncT52BYJVeD"
   },
   "source": [
    "São métodos nativos do Python que nos ajudam a trabalhar no dia a dia com dicionários."
   ]
  },
  {
   "cell_type": "code",
   "execution_count": 153,
   "id": "5929e9b1",
   "metadata": {
    "id": "qwxwzPsTJcXn"
   },
   "outputs": [],
   "source": [
    "artigo = dict(\n",
    "    titulo='Modulo 02 | Python: Estruturas de Dados',\n",
    "    corpo='Topicos, Aulas, Listas, Conjuntos, Dicionários, ...',\n",
    "    total_caracteres=1530\n",
    ")"
   ]
  },
  {
   "cell_type": "code",
   "execution_count": 154,
   "id": "29b7c4e7",
   "metadata": {
    "id": "QZJ4D_eRNyc_"
   },
   "outputs": [
    {
     "name": "stdout",
     "output_type": "stream",
     "text": [
      "{'titulo': 'Modulo 02 | Python: Estruturas de Dados', 'corpo': 'Topicos, Aulas, Listas, Conjuntos, Dicionários, ...', 'total_caracteres': 1530}\n",
      "{'titulo': 'Modulo 02 | Python: Estruturas de Dados', 'corpo': 'Topicos, Aulas, Listas, Conjuntos, Dicionários, ...', 'total_caracteres': 7850}\n"
     ]
    }
   ],
   "source": [
    "# adicionar/atualizar um elemento pelo chave-valor: dict.update(dict)\n",
    "print(artigo)\n",
    "artigo.update({'total_caracteres': 7850})\n",
    "print(artigo)\n",
    "\n",
    "artigo['total_caracteres'] = 7850"
   ]
  },
  {
   "cell_type": "code",
   "execution_count": 155,
   "id": "db162a1a",
   "metadata": {
    "id": "ofz4lbceMx_4"
   },
   "outputs": [
    {
     "name": "stdout",
     "output_type": "stream",
     "text": [
      "{'titulo': 'Modulo 02 | Python: Estruturas de Dados', 'corpo': 'Topicos, Aulas, Listas, Conjuntos, Dicionários, ...', 'total_caracteres': 7850}\n",
      "{'titulo': 'Modulo 02 | Python: Estruturas de Dados', 'corpo': 'Topicos, Aulas, Listas, Conjuntos, Dicionários, ...'}\n"
     ]
    }
   ],
   "source": [
    "# remover um elemento pelo chave: dict.pop(key)\n",
    "print(artigo)\n",
    "total_caracteres = artigo.pop('total_caracteres')\n",
    "print(artigo)"
   ]
  },
  {
   "cell_type": "markdown",
   "id": "93108289",
   "metadata": {
    "id": "h0bXPXycjfpw"
   },
   "source": [
    "### **3.5. Conversão**"
   ]
  },
  {
   "cell_type": "markdown",
   "id": "bb1a8fb7",
   "metadata": {
    "id": "CnzLEEYOjfp2"
   },
   "source": [
    "Podemos converter as chaves e os items de um dicionário em uma lista."
   ]
  },
  {
   "cell_type": "code",
   "execution_count": 156,
   "id": "ffc9562f",
   "metadata": {
    "id": "10CkP3RjkD9x"
   },
   "outputs": [],
   "source": [
    "artigo = dict(\n",
    "    titulo='Modulo 02 | Python: Estruturas de Dados',\n",
    "    corpo='Topicos, Aulas, Listas, Conjuntos, Dicionários, ...',\n",
    "    total_caracteres=1530\n",
    ")"
   ]
  },
  {
   "cell_type": "code",
   "execution_count": 157,
   "id": "1534fd1a",
   "metadata": {
    "id": "bwmEXzxnjfp3"
   },
   "outputs": [
    {
     "name": "stdout",
     "output_type": "stream",
     "text": [
      "['titulo', 'corpo', 'total_caracteres']\n",
      "<class 'list'>\n"
     ]
    }
   ],
   "source": [
    "chaves = list(artigo.keys())\n",
    "\n",
    "print(chaves)\n",
    "print(type(chaves))"
   ]
  },
  {
   "cell_type": "code",
   "execution_count": 158,
   "id": "e4497da1",
   "metadata": {
    "id": "UiP-UQxhjfp5"
   },
   "outputs": [
    {
     "name": "stdout",
     "output_type": "stream",
     "text": [
      "['Modulo 02 | Python: Estruturas de Dados', 'Topicos, Aulas, Listas, Conjuntos, Dicionários, ...', 1530]\n",
      "<class 'list'>\n"
     ]
    }
   ],
   "source": [
    "valores = list(artigo.values())\n",
    "\n",
    "print(valores)\n",
    "print(type(valores))"
   ]
  },
  {
   "cell_type": "markdown",
   "id": "03d6af5e",
   "metadata": {
    "id": "Nq0WCx8HUSjz"
   },
   "source": [
    "### **3.6. Revisitando a motivação** "
   ]
  },
  {
   "cell_type": "code",
   "execution_count": 159,
   "id": "61b46af1",
   "metadata": {
    "id": "AZHrKx9ZesI5"
   },
   "outputs": [],
   "source": [
    "wifi_disponiveis = []"
   ]
  },
  {
   "cell_type": "code",
   "execution_count": 160,
   "id": "6a3170bb",
   "metadata": {
    "id": "4y3-5GCGeZpR"
   },
   "outputs": [],
   "source": [
    "rede = {'nome': 'rede1', 'senha': 'cnx_cnx'}\n",
    "wifi_disponiveis.append(rede)"
   ]
  },
  {
   "cell_type": "code",
   "execution_count": 161,
   "id": "c7f59a69",
   "metadata": {
    "id": "CPzYATO8ev7D"
   },
   "outputs": [],
   "source": [
    "rede = {'nome': 'uai-fi', 'senha': 'r3d3'}\n",
    "wifi_disponiveis.append(rede)"
   ]
  },
  {
   "cell_type": "code",
   "execution_count": 162,
   "id": "d50e951c",
   "metadata": {
    "id": "0YznnPL4e3H1"
   },
   "outputs": [
    {
     "name": "stdout",
     "output_type": "stream",
     "text": [
      "[{'nome': 'rede1', 'senha': 'cnx_cnx'}, {'nome': 'uai-fi', 'senha': 'r3d3'}]\n"
     ]
    }
   ],
   "source": [
    "print(wifi_disponiveis)"
   ]
  },
  {
   "cell_type": "markdown",
   "id": "65a2d155",
   "metadata": {
    "id": "KJqp9AANOCtf"
   },
   "source": [
    "<img src=\"https://raw.githubusercontent.com/enzoschitini/repository-data-science-library/main/Python%20Notebook/img/Fluxo%20Condicional%20%26%20Repeti%C3%A7%C3%A3o.png\" alt=\"ebac-logo\">\n",
    "\n",
    "---\n",
    "\n",
    "# **Módulo 03** | Python: Fluxo Condicional & Repetição\n",
    "Caderno de **Aula**<br> \n",
    "Desenvolvedor [Enzo Schitini](https://enzo-schitini.bubbleapps.io/version-test/)\n",
    "\n",
    "---"
   ]
  },
  {
   "cell_type": "markdown",
   "id": "e485bd70",
   "metadata": {
    "id": "d9jDtUbDOE1-"
   },
   "source": [
    "# **Tópicos**\n",
    "\n",
    "<ol type=\"1\">\n",
    "  <li>Estrutura condicional if / else / elif;</li>\n",
    "  <li>Estrutura condicional try / catch / finally;</li>\n",
    "  <li>Estrutura de repetição for / in.</li>\n",
    "</ol>"
   ]
  },
  {
   "cell_type": "markdown",
   "id": "6401b066",
   "metadata": {
    "id": "SmoHgt-lwkpD"
   },
   "source": [
    "---"
   ]
  },
  {
   "cell_type": "markdown",
   "id": "56620d82",
   "metadata": {
    "id": "GABI6OW8OfQ2"
   },
   "source": [
    "# **Aulas**"
   ]
  },
  {
   "cell_type": "markdown",
   "id": "58cf8af6",
   "metadata": {},
   "source": [
    "<img src=\"Group2.png\" alt=\"ebac-logo\"> "
   ]
  },
  {
   "cell_type": "markdown",
   "id": "2b57e0cf",
   "metadata": {
    "id": "muD1vxozykSC"
   },
   "source": [
    "## 1\\. Estrutura condicional if / else / elif"
   ]
  },
  {
   "cell_type": "markdown",
   "id": "f75d0b7f",
   "metadata": {
    "id": "E6D5rjlESJ1A"
   },
   "source": [
    "### **1.1. if / else** "
   ]
  },
  {
   "cell_type": "markdown",
   "id": "7b5fb7b6",
   "metadata": {
    "id": "2SIVm6ySRaeI"
   },
   "source": [
    "Estrutura de alteração de fluxo lógico do código, avalia um valor booleano ou uma comparação lógica. **Note** a identação do código."
   ]
  },
  {
   "cell_type": "markdown",
   "id": "da913250",
   "metadata": {
    "id": "jfrmdxoJVw-l"
   },
   "source": [
    "```python\n",
    "if <booleano / comparação lógica> == True:\n",
    "  <execute este código>\n",
    "else:\n",
    "  <senão execute este código>\n",
    "```"
   ]
  },
  {
   "cell_type": "code",
   "execution_count": 163,
   "id": "a8fa6da8",
   "metadata": {
    "id": "7tNcqW3aTZPr"
   },
   "outputs": [
    {
     "name": "stdout",
     "output_type": "stream",
     "text": [
      "Falso\n"
     ]
    }
   ],
   "source": [
    "if False:\n",
    "  print(\"Verdadeiro\")\n",
    "else:\n",
    "  print(\"Falso\")"
   ]
  },
  {
   "cell_type": "markdown",
   "id": "8e3e5b36",
   "metadata": {
    "id": "e3h_XvXxTSqd"
   },
   "source": [
    "**Exemplo**: Código de segurança de um cartão de crédito"
   ]
  },
  {
   "cell_type": "code",
   "execution_count": 164,
   "id": "0ad583b3",
   "metadata": {
    "id": "3ungC6KPSg1y"
   },
   "outputs": [
    {
     "name": "stdout",
     "output_type": "stream",
     "text": [
      "False\n"
     ]
    }
   ],
   "source": [
    "codigo_de_seguranca = '291'\n",
    "codigo_de_seguranca_cadastro = '010'\n",
    "\n",
    "pode_efetuar_pagamento = codigo_de_seguranca == codigo_de_seguranca_cadastro\n",
    "print(pode_efetuar_pagamento)"
   ]
  },
  {
   "cell_type": "code",
   "execution_count": 165,
   "id": "76e607cf",
   "metadata": {
    "id": "5vpLILeASoNz"
   },
   "outputs": [
    {
     "name": "stdout",
     "output_type": "stream",
     "text": [
      "Erro: Código de segurança inválido\n"
     ]
    }
   ],
   "source": [
    "if pode_efetuar_pagamento:\n",
    "  print(\"Pagamento efetuado\")\n",
    "else:\n",
    "  print(\"Erro: Código de segurança inválido\")"
   ]
  },
  {
   "cell_type": "code",
   "execution_count": 166,
   "id": "6b35f2ba",
   "metadata": {
    "id": "oj76sTo-Ttz8"
   },
   "outputs": [
    {
     "name": "stdout",
     "output_type": "stream",
     "text": [
      "Erro: Código de segurança inválido\n"
     ]
    }
   ],
   "source": [
    "if codigo_de_seguranca == codigo_de_seguranca_cadastro:\n",
    "  print(\"Pagamento efetuado\")\n",
    "else:\n",
    "  print(\"Erro: Código de segurança inválido\")"
   ]
  },
  {
   "cell_type": "markdown",
   "id": "161bf96f",
   "metadata": {
    "id": "zvvqNNM1UDzh"
   },
   "source": [
    "**Exemplo**: Código e senha de segurança de um cartão de crédito"
   ]
  },
  {
   "cell_type": "code",
   "execution_count": 167,
   "id": "c9d9da01",
   "metadata": {
    "id": "42kdrjL3UPnt"
   },
   "outputs": [],
   "source": [
    "codigo_de_seguranca = '852'\n",
    "codigo_de_seguranca_cadastro = '852'\n",
    "\n",
    "senha = '7783'\n",
    "senha_cadastro = '7783'"
   ]
  },
  {
   "cell_type": "markdown",
   "id": "c2f9db09",
   "metadata": {
    "id": "tvmgUmH5UZlj"
   },
   "source": [
    "Revisitando a tabela da verdade:"
   ]
  },
  {
   "cell_type": "markdown",
   "id": "2c8e7d62",
   "metadata": {
    "id": "CMkW6VfqUX73"
   },
   "source": [
    "| CÓDIGO        | SENHA        | | | CÓDIGO OR SENHA   | | CÓDIGO AND SENHA  | | NOT CÓDIGO    |\n",
    "|----------|----------|-|-|----------|-|----------|-|----------|\n",
    "| **TRUE** | **TRUE** | | | **TRUE** | | **TRUE** | | FALSE    |\n",
    "| **TRUE** | FALSE    | | | **TRUE** | | FALSE    | | FALSE    |\n",
    "| FALSE    | FALSE    | | | FALSE    | | FALSE    | | **TRUE** |\n",
    "| FALSE    | **TRUE** | | | **TRUE** | | FALSE    | | **TRUE** |"
   ]
  },
  {
   "cell_type": "code",
   "execution_count": 168,
   "id": "1888f68f",
   "metadata": {
    "id": "ypis6-LgUn5z"
   },
   "outputs": [
    {
     "name": "stdout",
     "output_type": "stream",
     "text": [
      "Pagamento efetuado\n"
     ]
    }
   ],
   "source": [
    "if (codigo_de_seguranca == codigo_de_seguranca_cadastro) & (senha == senha_cadastro):\n",
    "  print(\"Pagamento efetuado\")\n",
    "else:\n",
    "  print(\"Erro: Pagamento não efetuado\")"
   ]
  },
  {
   "cell_type": "code",
   "execution_count": 169,
   "id": "26384afb",
   "metadata": {
    "id": "DCCPknUSUwQM"
   },
   "outputs": [
    {
     "name": "stdout",
     "output_type": "stream",
     "text": [
      "Pagamento efetuado\n"
     ]
    }
   ],
   "source": [
    "if (codigo_de_seguranca != codigo_de_seguranca_cadastro) | (senha != senha_cadastro):\n",
    "  print(\"Erro: Pagamento não efetuado\")\n",
    "else:\n",
    "  print(\"Pagamento efetuado\")"
   ]
  },
  {
   "cell_type": "markdown",
   "id": "b9184d0b",
   "metadata": {
    "id": "wNkFG1qKSU9M"
   },
   "source": [
    "### **1.2. if / elif / else**"
   ]
  },
  {
   "cell_type": "markdown",
   "id": "552a15ee",
   "metadata": {
    "id": "9c-GagIqSjUA"
   },
   "source": [
    "Podemos também avaliar múltipla condições."
   ]
  },
  {
   "cell_type": "markdown",
   "id": "aaa57447",
   "metadata": {
    "id": "G66Dxs8pWXPU"
   },
   "source": [
    "```python\n",
    "if <1º booleano / 1ª comparação lógica> == True:\n",
    "  <execute este código se a primeira condição for verdade>\n",
    "elif <2º booleano / 2ª comparação lógica> == True:\n",
    "  <execute este código se a segunda condição for verdade>\n",
    "else:\n",
    "  <senão execute este código>\n",
    "```"
   ]
  },
  {
   "cell_type": "code",
   "execution_count": 170,
   "id": "8615cb5c",
   "metadata": {
    "id": "bLDeLzLxSnwP"
   },
   "outputs": [],
   "source": [
    "codigo_de_seguranca = '802'\n",
    "codigo_de_seguranca_cadastro = '852'\n",
    "\n",
    "senha = '7703'\n",
    "senha_cadastro = '7783'"
   ]
  },
  {
   "cell_type": "markdown",
   "id": "9b9ed1a7",
   "metadata": {
    "id": "e982wq8XTq49"
   },
   "source": [
    "| CÓDIGO        | SENHA        | | | CÓDIGO AND SENHA  | MENSAGEM |\n",
    "|----------|----------|-|-|----------|-|\n",
    "| **TRUE** | **TRUE** | | | **TRUE** | Pagamento efetuado |\n",
    "| **TRUE** | FALSE    | | | FALSE    | Erro: Senha inválida |\n",
    "| FALSE    | FALSE    | | | FALSE    | Erro: Código de segurança e senha inválidos |\n",
    "| FALSE    | **TRUE** | | | FALSE    | Erro: Código de segurança inválido |"
   ]
  },
  {
   "cell_type": "code",
   "execution_count": 171,
   "id": "27a61f40",
   "metadata": {
    "id": "rbjgy-XSSy8w"
   },
   "outputs": [
    {
     "name": "stdout",
     "output_type": "stream",
     "text": [
      "Erro: Código de segurança e senha inválidos\n"
     ]
    }
   ],
   "source": [
    "if (codigo_de_seguranca == codigo_de_seguranca_cadastro) & (senha == senha_cadastro):\n",
    "  print(\"Pagamento efetuado\")\n",
    "\n",
    "elif (codigo_de_seguranca != codigo_de_seguranca_cadastro) & (senha == senha_cadastro):\n",
    "  print(\"Erro: Código de segurança inválido\")\n",
    "\n",
    "elif (codigo_de_seguranca == codigo_de_seguranca_cadastro) & (senha != senha_cadastro):\n",
    "  print(\"Erro: Senha inválida inválida\")\n",
    "\n",
    "else:\n",
    "  print(\"Erro: Código de segurança e senha inválidos\")"
   ]
  },
  {
   "cell_type": "markdown",
   "id": "d7901c1f",
   "metadata": {},
   "source": [
    "<img src=\"Group2.png\" alt=\"ebac-logo\"> "
   ]
  },
  {
   "cell_type": "markdown",
   "id": "d4dd2be7",
   "metadata": {
    "id": "4rRCvy_UURrM"
   },
   "source": [
    "## 2\\. Estrutura condicional try /except / finally"
   ]
  },
  {
   "cell_type": "markdown",
   "id": "c6060f30",
   "metadata": {
    "id": "cOZDKbe6URrb"
   },
   "source": [
    "### **2.1. Exceção** "
   ]
  },
  {
   "cell_type": "markdown",
   "id": "12e68269",
   "metadata": {
    "id": "nfc742pLmgL9"
   },
   "source": [
    "Exceções são erros que podem acontecer durante a execução do nosso código."
   ]
  },
  {
   "cell_type": "markdown",
   "id": "ee02364a",
   "metadata": {
    "id": "0je_kLq_myEV"
   },
   "source": [
    "**Exemplo**: Erro de operações numéricas impossíveis"
   ]
  },
  {
   "cell_type": "code",
   "execution_count": 172,
   "id": "9db8010e",
   "metadata": {
    "id": "2yXpo2dfmm1T"
   },
   "outputs": [],
   "source": [
    "preco = 132.85\n",
    "pessoas = 0"
   ]
  },
  {
   "cell_type": "code",
   "execution_count": 173,
   "id": "7e466a76",
   "metadata": {
    "id": "LsrxSe--nI6b"
   },
   "outputs": [],
   "source": [
    "#valor_por_pessoa = preco / pessoas"
   ]
  },
  {
   "cell_type": "markdown",
   "id": "180e1000",
   "metadata": {
    "id": "paZfxkVzm3gW"
   },
   "source": [
    "**Exemplo**: Erro por combinações de tipos diferentes"
   ]
  },
  {
   "cell_type": "code",
   "execution_count": 174,
   "id": "c4bf17f0",
   "metadata": {
    "id": "rrlR9Xv6nErH"
   },
   "outputs": [],
   "source": [
    "nome = 'Andre Perez'\n",
    "idade = True"
   ]
  },
  {
   "cell_type": "code",
   "execution_count": 175,
   "id": "118c9e2c",
   "metadata": {
    "id": "IT3ySwYxnX0j"
   },
   "outputs": [],
   "source": [
    "#apresentacao = 'Fala pessoal, meu nome é ' + nome + ' e eu tenho ' + idade + ' anos'"
   ]
  },
  {
   "cell_type": "markdown",
   "id": "dac0e779",
   "metadata": {
    "id": "PdIsskJNnors"
   },
   "source": [
    "**Exemplo**: Erro de indexação de estrutura de dados"
   ]
  },
  {
   "cell_type": "code",
   "execution_count": 176,
   "id": "8a63176b",
   "metadata": {
    "id": "AL0YPYtqntUc"
   },
   "outputs": [],
   "source": [
    "anos = [2019, 2020, 2021]"
   ]
  },
  {
   "cell_type": "code",
   "execution_count": 177,
   "id": "0a63a33e",
   "metadata": {
    "id": "1mksjF3inyub"
   },
   "outputs": [],
   "source": [
    "#ano_atual = anos[3]"
   ]
  },
  {
   "cell_type": "code",
   "execution_count": 178,
   "id": "8a4c5df2",
   "metadata": {
    "id": "RhjOE1jCn4ZA"
   },
   "outputs": [],
   "source": [
    "cursos = {\n",
    "    'python': {\n",
    "        'nome': 'Python para Análise de Dados', 'duracao': 2.5\n",
    "    }, \n",
    "    'sql': {\n",
    "        'nome': 'SQL para Análise de Dados', 'duracao': 2\n",
    "    }\n",
    "}"
   ]
  },
  {
   "cell_type": "code",
   "execution_count": 179,
   "id": "33b9ce0b",
   "metadata": {
    "id": "hUl1PmAAoSqt"
   },
   "outputs": [],
   "source": [
    "#curso_atual = cursos['analista']"
   ]
  },
  {
   "cell_type": "markdown",
   "id": "b47824d1",
   "metadata": {
    "id": "5q6xcwOWURrc"
   },
   "source": [
    "### **2.2. try / except** "
   ]
  },
  {
   "cell_type": "markdown",
   "id": "8d485b4d",
   "metadata": {
    "id": "3eu6Eu1Uoh_t"
   },
   "source": [
    "Estrutura para tratar exceções:"
   ]
  },
  {
   "cell_type": "code",
   "execution_count": 180,
   "id": "5292de64",
   "metadata": {
    "id": "S00K5ucnopBI"
   },
   "outputs": [
    {
     "name": "stdout",
     "output_type": "stream",
     "text": [
      "66.425\n"
     ]
    }
   ],
   "source": [
    "preco = 132.85\n",
    "pessoas = 2\n",
    "\n",
    "try:\n",
    "  valor_por_pessoa = preco / pessoas\n",
    "  print(valor_por_pessoa)\n",
    "except ZeroDivisionError:\n",
    "  print('Número de pessoas inválido. Espera-se um valor maior que 0 e obteve-se um valor igual a ' + str(pessoas))"
   ]
  },
  {
   "cell_type": "code",
   "execution_count": 181,
   "id": "e125157d",
   "metadata": {
    "id": "xW1r3TMvpIxE"
   },
   "outputs": [
    {
     "name": "stdout",
     "output_type": "stream",
     "text": [
      "Lista de anos é menor que o valor escolhido. Espera-se um valor entre 0 e 2\n"
     ]
    }
   ],
   "source": [
    "anos = [2019, 2020, 2021]\n",
    "\n",
    "try:\n",
    "  ano_atual = anos[3]\n",
    "  print(ano_atual)\n",
    "except Exception:\n",
    "  print('Lista de anos é menor que o valor escolhido. Espera-se um valor entre 0 e ' + str(len(anos) - 1))"
   ]
  },
  {
   "cell_type": "code",
   "execution_count": 182,
   "id": "862b7a66",
   "metadata": {
    "id": "CSxX6o_3pxCV"
   },
   "outputs": [
    {
     "name": "stdout",
     "output_type": "stream",
     "text": [
      "Descrição da exceção: list index out of range\n",
      "Tipo da exceção: <class 'IndexError'>\n",
      "Lista de anos é menor que o valor escolhido. Espera-se um valor entre 0 e 2\n"
     ]
    }
   ],
   "source": [
    "anos = [2019, 2020, 2021]\n",
    "\n",
    "try:\n",
    "  ano_atual = anos[3]\n",
    "  print(ano_atual)\n",
    "except Exception as exc:\n",
    "  print('Descrição da exceção: ' + str(exc))\n",
    "  print('Tipo da exceção: ' + str(type(exc)))\n",
    "  print('Lista de anos é menor que o valor escolhido. Espera-se um valor entre 0 e ' + str(len(anos) - 1))"
   ]
  },
  {
   "cell_type": "code",
   "execution_count": 183,
   "id": "bc047c89",
   "metadata": {
    "id": "f8f66yWuqKul"
   },
   "outputs": [
    {
     "name": "stdout",
     "output_type": "stream",
     "text": [
      "name 'f' is not defined\n",
      "Nome do erro: <class 'NameError'>\n",
      "Erro genérico\n"
     ]
    }
   ],
   "source": [
    "anos = [2019, 2020, 2021]\n",
    "\n",
    "try:\n",
    "  ano_atual = anos[f]\n",
    "  print(ano_atual)\n",
    "except IndexError:\n",
    "  print('Lista de anos é menor que o valor escolhido. Espera-se um valor entre 0 e ' + str(len(anos) - 1))\n",
    "except Exception as exc:\n",
    "  print(exc)\n",
    "  print(\"Nome do erro: \" + str(type(exc)))\n",
    "  print('Erro genérico')"
   ]
  },
  {
   "cell_type": "markdown",
   "id": "3d0f244f",
   "metadata": {
    "id": "WxnG-e3HURrd"
   },
   "source": [
    "### **2.3. try / except / finally** "
   ]
  },
  {
   "cell_type": "code",
   "execution_count": 184,
   "id": "26ed5cee",
   "metadata": {
    "id": "i1e_Ag58qZ0n"
   },
   "outputs": [
    {
     "name": "stdout",
     "output_type": "stream",
     "text": [
      "Segunda chance\n",
      "Fala pessoal, meu nome é Andre Perez e eu tenho 19 anos\n"
     ]
    }
   ],
   "source": [
    "nome = 'Andre Perez'\n",
    "idade = 19\n",
    "\n",
    "#idade = str(idade)\n",
    "\n",
    "try:\n",
    "  apresentacao = 'Fala pessoal, meu nome é ' + nome + ' e eu tenho ' + idade + ' anos'\n",
    "  print(apresentacao)\n",
    "except TypeError:\n",
    "  idade = str(idade)\n",
    "finally:\n",
    "  print('Segunda chance')\n",
    "  apresentacao = 'Fala pessoal, meu nome é ' + nome + ' e eu tenho ' + idade + ' anos'\n",
    "  print(apresentacao)"
   ]
  },
  {
   "cell_type": "markdown",
   "id": "68b603c5",
   "metadata": {},
   "source": [
    "### 2.4. Filtrando o nome do erro"
   ]
  },
  {
   "cell_type": "code",
   "execution_count": 185,
   "id": "d9bc0621",
   "metadata": {},
   "outputs": [
    {
     "name": "stdout",
     "output_type": "stream",
     "text": [
      "L'operazione non può essese eseguita dall'algoritmo!\n",
      "Errore: IndexError --> descrizione: list index out of range\n"
     ]
    }
   ],
   "source": [
    "# Filtrando il nome dell'errore\n",
    "\n",
    "anni = [2022, 2023, 2024]\n",
    "\n",
    "try:\n",
    "  anno_atuale = anni[6]\n",
    "  print(anno_atuale)\n",
    "except Exception as exc:\n",
    "  # Encontrando a posição\n",
    "  pisizione_rischio = str(type(exc)).find(\"'\") + 1\n",
    "  posizione_fine = str(type(exc)).find(\">\") - 1\n",
    "  risposta = str(type(exc))[pisizione_rischio:posizione_fine]\n",
    "  # Imprimindo resposta\n",
    "  print(\"L'operazione non può essese eseguita dall'algoritmo!\")\n",
    "  print(\"Errore:\", risposta, \"--> descrizione:\", str(exc))"
   ]
  },
  {
   "cell_type": "markdown",
   "id": "86a9251c",
   "metadata": {},
   "source": [
    "### 2.5. Tentativa de executar uma operação que pode gerar uma exceção"
   ]
  },
  {
   "cell_type": "code",
   "execution_count": 186,
   "id": "20386bb0",
   "metadata": {},
   "outputs": [
    {
     "name": "stdout",
     "output_type": "stream",
     "text": [
      "Errore: divisione per zero!\n"
     ]
    }
   ],
   "source": [
    "try:\n",
    "    # Tentativo di eseguire un'operazione che potrebbe generare un'eccezione\n",
    "    x = 1 / 0\n",
    "except ZeroDivisionError:\n",
    "    # Cosa fare se si verifica l'eccezione ZeroDivisionError\n",
    "    print(\"Errore: divisione per zero!\")"
   ]
  },
  {
   "cell_type": "code",
   "execution_count": 187,
   "id": "8618429c",
   "metadata": {},
   "outputs": [
    {
     "name": "stdout",
     "output_type": "stream",
     "text": [
      "4.0\n",
      "Errore: divisione per zero!\n"
     ]
    }
   ],
   "source": [
    "try:\n",
    "    # Tentativo di eseguire un'operazione che potrebbe generare un'eccezione\n",
    "    lista = [1, 0, 2]\n",
    "    for x in lista:\n",
    "        divisione = 4 / x\n",
    "        print(divisione)\n",
    "except ZeroDivisionError:\n",
    "    # Cosa fare se si verifica l'eccezione ZeroDivisionError\n",
    "    print(\"Errore: divisione per zero!\")"
   ]
  },
  {
   "cell_type": "markdown",
   "id": "29ef4096",
   "metadata": {},
   "source": [
    "### 2.6. Comando continue"
   ]
  },
  {
   "cell_type": "code",
   "execution_count": 188,
   "id": "2c38870b",
   "metadata": {},
   "outputs": [
    {
     "name": "stdout",
     "output_type": "stream",
     "text": [
      "4.0\n",
      "Errore: 4/0 divisione per zero!\n",
      "2.0\n"
     ]
    }
   ],
   "source": [
    "lista = [1, 0, 2]\n",
    "for x in lista:\n",
    "    try:\n",
    "        divisione = 4 / x\n",
    "        print(divisione)\n",
    "    except ZeroDivisionError:\n",
    "        print(f\"Errore: 4/{x} divisione per zero!\")\n",
    "        continue"
   ]
  },
  {
   "cell_type": "markdown",
   "id": "8d8fab13",
   "metadata": {},
   "source": [
    "<img src=\"Group2.png\" alt=\"ebac-logo\"> "
   ]
  },
  {
   "cell_type": "markdown",
   "id": "726e81bf",
   "metadata": {
    "id": "_4Ugey3GWq78"
   },
   "source": [
    "## 3\\. Estrutura repetição for / in"
   ]
  },
  {
   "cell_type": "markdown",
   "id": "91f2641f",
   "metadata": {
    "id": "cyA9LdYcBfeF"
   },
   "source": [
    "### **3.1. for / in** "
   ]
  },
  {
   "cell_type": "markdown",
   "id": "76998579",
   "metadata": {
    "id": "-F-0zD99Bv97"
   },
   "source": [
    "Estrutura que permite a execução repetida de um bloco de código repetidas vezes."
   ]
  },
  {
   "cell_type": "markdown",
   "id": "8250883e",
   "metadata": {
    "id": "JyP2wUaUBjrp"
   },
   "source": [
    "```python\n",
    "for variavel_temporaria in coleção:\n",
    "  <execute este código>\n",
    "```"
   ]
  },
  {
   "cell_type": "markdown",
   "id": "0c1afa12",
   "metadata": {
    "id": "lk9nsQkTWq7-"
   },
   "source": [
    "### **3.2. for / in / range** "
   ]
  },
  {
   "cell_type": "markdown",
   "id": "49d539c6",
   "metadata": {
    "id": "OHdGHUcN24u3"
   },
   "source": [
    "Estrutura que permite a execução repetida de um bloco de código **n** vezes."
   ]
  },
  {
   "cell_type": "code",
   "execution_count": 189,
   "id": "70d20193",
   "metadata": {
    "id": "D68uw4X024NQ"
   },
   "outputs": [
    {
     "name": "stdout",
     "output_type": "stream",
     "text": [
      "0\n",
      "1\n",
      "2\n",
      "3\n",
      "4\n",
      "5\n"
     ]
    }
   ],
   "source": [
    "for valor in range(6):\n",
    "  print(valor)"
   ]
  },
  {
   "cell_type": "code",
   "execution_count": 190,
   "id": "8a66d861",
   "metadata": {
    "id": "ZhKvc8BR3g0a"
   },
   "outputs": [
    {
     "name": "stdout",
     "output_type": "stream",
     "text": [
      "4999950000\n"
     ]
    }
   ],
   "source": [
    "soma = 0\n",
    "\n",
    "for valor in range(0, 100000):\n",
    "  soma = soma + valor\n",
    "  # print(soma)\n",
    "\n",
    "print(soma)"
   ]
  },
  {
   "cell_type": "code",
   "execution_count": 191,
   "id": "977bafef",
   "metadata": {
    "id": "xvh2Imqy4YyU"
   },
   "outputs": [
    {
     "name": "stdout",
     "output_type": "stream",
     "text": [
      "2\n",
      "5\n",
      "8\n"
     ]
    }
   ],
   "source": [
    "for multiplo_dois in range(2, 10, 3):\n",
    "  print(multiplo_dois)"
   ]
  },
  {
   "cell_type": "markdown",
   "id": "5a4cc89e",
   "metadata": {
    "id": "5nmm_ShgWq7_"
   },
   "source": [
    "### **3.3. for / in / list** "
   ]
  },
  {
   "cell_type": "markdown",
   "id": "be2fd0a5",
   "metadata": {
    "id": "LB7Ghhx94ljq"
   },
   "source": [
    "Estrutura que permite a execução de um bloco de código para todos os elementos de uma lista."
   ]
  },
  {
   "cell_type": "code",
   "execution_count": 192,
   "id": "e905a785",
   "metadata": {
    "id": "z12p8IT-4s4U"
   },
   "outputs": [
    {
     "name": "stdout",
     "output_type": "stream",
     "text": [
      "maca\n",
      "banana\n",
      "laranja\n",
      "uva\n",
      "pera\n"
     ]
    }
   ],
   "source": [
    "frutas = ['maca', 'banana', 'laranja', 'uva', 'pera']\n",
    "\n",
    "for fruta in frutas:\n",
    "  print(fruta)"
   ]
  },
  {
   "cell_type": "code",
   "execution_count": 193,
   "id": "ab87714b",
   "metadata": {
    "id": "3zkZ-gPU8diZ"
   },
   "outputs": [
    {
     "name": "stdout",
     "output_type": "stream",
     "text": [
      "A letra 'A' está presente na frase.\n",
      "A letra 'z' está presente na frase.\n"
     ]
    }
   ],
   "source": [
    "frase = 'Fala pessoal, meu nome é André Perez.'\n",
    "\n",
    "for caracter in frase:\n",
    "  if (caracter == 'A') | (caracter == 'z'):\n",
    "    print(f\"A letra '{caracter}' está presente na frase.\")"
   ]
  },
  {
   "cell_type": "markdown",
   "id": "6df35675",
   "metadata": {
    "id": "GsUpIpUoXmhc"
   },
   "source": [
    "### **3.4. for / in / dict** "
   ]
  },
  {
   "cell_type": "markdown",
   "id": "e2976648",
   "metadata": {
    "id": "xx38Jwu_7OJS"
   },
   "source": [
    "Estrutura que permite a execução de um bloco de código para todos os elementos de um dicionário."
   ]
  },
  {
   "cell_type": "code",
   "execution_count": 194,
   "id": "36ad3cdc",
   "metadata": {
    "id": "Zo-LDBca7ULR"
   },
   "outputs": [],
   "source": [
    "credito = {'123': 750, '456': 812, '789': 980}"
   ]
  },
  {
   "cell_type": "code",
   "execution_count": 195,
   "id": "16650992",
   "metadata": {
    "id": "-MI9OP197jUU"
   },
   "outputs": [
    {
     "name": "stdout",
     "output_type": "stream",
     "text": [
      "Para o documento 123, o valor do escore de crédito é 750.\n",
      "\n",
      "\n",
      "Para o documento 456, o valor do escore de crédito é 812.\n",
      "\n",
      "\n",
      "Para o documento 789, o valor do escore de crédito é 980.\n",
      "\n",
      "\n"
     ]
    }
   ],
   "source": [
    "for chave, valor in credito.items():\n",
    "  print(f'Para o documento {chave}, o valor do escore de crédito é {valor}.')\n",
    "  print('\\n')"
   ]
  },
  {
   "cell_type": "code",
   "execution_count": 196,
   "id": "11393563",
   "metadata": {
    "id": "juFICibw76Ay"
   },
   "outputs": [
    {
     "name": "stdout",
     "output_type": "stream",
     "text": [
      "123\n",
      "750\n",
      "Para o documento 123, o valor do escore de crédito é 750.\n",
      "\n",
      "\n",
      "456\n",
      "812\n",
      "Para o documento 456, o valor do escore de crédito é 812.\n",
      "\n",
      "\n",
      "789\n",
      "980\n",
      "Para o documento 789, o valor do escore de crédito é 980.\n",
      "\n",
      "\n"
     ]
    }
   ],
   "source": [
    "for chave in credito.keys():\n",
    "  print(chave)\n",
    "  print(credito[chave])\n",
    "  print(f'Para o documento {chave}, o valor do escore de crédito é {credito[chave]}.')\n",
    "  print('\\n')"
   ]
  },
  {
   "cell_type": "code",
   "execution_count": 197,
   "id": "8e247196",
   "metadata": {
    "id": "kocTkvpH8LsV"
   },
   "outputs": [
    {
     "name": "stdout",
     "output_type": "stream",
     "text": [
      "750\n",
      "O valor do escore de crédito é 750, mas não temos mais as chaves :(.\n",
      "\n",
      "\n",
      "812\n",
      "O valor do escore de crédito é 812, mas não temos mais as chaves :(.\n",
      "\n",
      "\n",
      "980\n",
      "O valor do escore de crédito é 980, mas não temos mais as chaves :(.\n",
      "\n",
      "\n"
     ]
    }
   ],
   "source": [
    "for valor in credito.values():\n",
    "  print(valor)\n",
    "  print(f'O valor do escore de crédito é {valor}, mas não temos mais as chaves :(.')\n",
    "  print('\\n')"
   ]
  },
  {
   "cell_type": "markdown",
   "id": "636e011e",
   "metadata": {
    "id": "NOh6bacJWq8A"
   },
   "source": [
    "### **3.5. break / continue** "
   ]
  },
  {
   "cell_type": "markdown",
   "id": "eb3a92a4",
   "metadata": {
    "id": "NzAhsgdE9Jw9"
   },
   "source": [
    "Estrutura que permite a quebra ou o avanço de um laço de repetição."
   ]
  },
  {
   "cell_type": "code",
   "execution_count": 198,
   "id": "19073c8b",
   "metadata": {
    "id": "6G_zUh2t9TGk"
   },
   "outputs": [
    {
     "name": "stdout",
     "output_type": "stream",
     "text": [
      "0\n",
      "1\n",
      "2\n",
      "3\n",
      "4\n",
      "5\n",
      "6\n",
      "7\n",
      "8\n",
      "9\n",
      "10\n"
     ]
    }
   ],
   "source": [
    "for i in range(0, 10*10*10*10*10*10):\n",
    "  print(i)\n",
    "  if i == 10:\n",
    "    break"
   ]
  },
  {
   "cell_type": "code",
   "execution_count": 199,
   "id": "9ed8d150",
   "metadata": {
    "id": "tTDBNrwU9pie"
   },
   "outputs": [
    {
     "name": "stdout",
     "output_type": "stream",
     "text": [
      "O numero 3 é impar\n"
     ]
    }
   ],
   "source": [
    "numero = 3\n",
    "\n",
    "if numero % 2 == 0:\n",
    "  print(f'O numero {numero} é par')\n",
    "else:\n",
    "  print(f'O numero {numero} é impar')"
   ]
  },
  {
   "cell_type": "code",
   "execution_count": 200,
   "id": "395a9d20",
   "metadata": {
    "id": "Wd7P73u69_62"
   },
   "outputs": [
    {
     "name": "stdout",
     "output_type": "stream",
     "text": [
      "O numero 361 é impar\n",
      "O numero 553 é impar\n",
      "O numero 194 é par\n"
     ]
    }
   ],
   "source": [
    "numeros = [361, 553, 194, 13, 510, 33, 135]\n",
    "\n",
    "for numero in numeros:\n",
    "\n",
    "  if numero % 2 == 0:\n",
    "    print(f'O numero {numero} é par')\n",
    "    break\n",
    "  else:\n",
    "    print(f'O numero {numero} é impar')"
   ]
  },
  {
   "cell_type": "code",
   "execution_count": 201,
   "id": "203c9051",
   "metadata": {
    "id": "O8y3bath-oEl"
   },
   "outputs": [
    {
     "name": "stdout",
     "output_type": "stream",
     "text": [
      "O numero 194 é par\n"
     ]
    }
   ],
   "source": [
    "numeros = [361, 553, 194, 13, 510, 33, 135]\n",
    "\n",
    "for numero in numeros:\n",
    "\n",
    "  if numero % 2 == 0:\n",
    "    print(f'O numero {numero} é par')\n",
    "    break\n",
    "  else:\n",
    "    continue\n",
    "    print(f'O numero {numero} é impar')"
   ]
  },
  {
   "cell_type": "markdown",
   "id": "9e32b257",
   "metadata": {
    "id": "KJqp9AANOCtf"
   },
   "source": [
    "<img src=\"https://raw.githubusercontent.com/enzoschitini/repository-data-science-library/main/Python%20Notebook/img/Arquivos%20%26%20Fun%C3%A7%C3%B5es.png\" alt=\"ebac-logo\">\n",
    "\n",
    "---\n",
    "\n",
    "# **Módulo 04** | Python: Arquivos & Funções\n",
    "Caderno de **Aula**<br> \n",
    "Desenvolvedor [Enzo Schitini](https://enzo-schitini.bubbleapps.io/version-test/)\n",
    "\n",
    "---"
   ]
  },
  {
   "cell_type": "markdown",
   "id": "8eccc35e",
   "metadata": {
    "id": "d9jDtUbDOE1-"
   },
   "source": [
    "# **Tópicos**\n",
    "\n",
    "<ol type=\"1\">\n",
    "  <li>Leitura;</li>\n",
    "  <li>Escrita;</li>\n",
    "  <li>Funções;</li>\n",
    "  <li>Escopo.</li>\n",
    "</ol>"
   ]
  },
  {
   "cell_type": "markdown",
   "id": "daf65f39",
   "metadata": {
    "id": "SmoHgt-lwkpD"
   },
   "source": [
    "---"
   ]
  },
  {
   "cell_type": "markdown",
   "id": "1a859bd1",
   "metadata": {
    "id": "GABI6OW8OfQ2"
   },
   "source": [
    "# **Aulas**"
   ]
  },
  {
   "cell_type": "markdown",
   "id": "f8ff3790",
   "metadata": {},
   "source": [
    "<img src=\"Group2.png\" alt=\"ebac-logo\"> "
   ]
  },
  {
   "cell_type": "markdown",
   "id": "ea0a9386",
   "metadata": {
    "id": "muD1vxozykSC"
   },
   "source": [
    "## 1\\. Leitura"
   ]
  },
  {
   "cell_type": "markdown",
   "id": "1d107339",
   "metadata": {
    "id": "5a3_syBIP6yO"
   },
   "source": [
    "### **1.1. Configuração inicial** "
   ]
  },
  {
   "cell_type": "markdown",
   "id": "a6c1c36a",
   "metadata": {
    "id": "YZixnYDiUvJy"
   },
   "source": [
    "Vamos utilizar uma função do **Google Colab** para criar arquivos para esse módulo. **Nota**: esse código **não** é do Python e sim da ferramenta."
   ]
  },
  {
   "cell_type": "markdown",
   "id": "467bd050",
   "metadata": {
    "id": "7yJy2iraWZbC"
   },
   "source": [
    "**Arquivo CSV:** banco.csv"
   ]
  },
  {
   "cell_type": "code",
   "execution_count": 202,
   "id": "d22bc00e",
   "metadata": {
    "id": "vr4DaExbiyCr"
   },
   "outputs": [
    {
     "name": "stdout",
     "output_type": "stream",
     "text": [
      "Writing banco.csv\n"
     ]
    }
   ],
   "source": [
    "%%writefile banco.csv\n",
    "age,job,marital,education,default,balance,housing,loan\n",
    "30,unemployed,married,primary,no,1787,no,no\n",
    "33,services,married,secondary,no,4789,yes,yes\n",
    "35,management,single,tertiary,no,1350,yes,no\n",
    "30,management,married,tertiary,no,1476,yes,yes\n",
    "59,blue-collar,married,secondary,no,0,yes,no\n",
    "35,management,single,tertiary,no,747,no,no\n",
    "36,self-employed,married,tertiary,no,307,yes,no\n",
    "39,technician,married,secondary,no,147,yes,no\n",
    "41,entrepreneur,married,tertiary,no,221,yes,no\n",
    "43,services,married,primary,no,-88,yes,yes"
   ]
  },
  {
   "cell_type": "markdown",
   "id": "a4b5e358",
   "metadata": {
    "id": "E6D5rjlESJ1A"
   },
   "source": [
    "### **1.2. with / open** "
   ]
  },
  {
   "cell_type": "markdown",
   "id": "15dc4945",
   "metadata": {
    "id": "2SX6T5EXkMRP"
   },
   "source": [
    "Comando para ler arquivos.\n",
    "\n",
    "```python\n",
    "with open(file='<caminho do arquivo>', mode='<modo de leitura>', encoding='<decodificador>') as <apelido>:\n",
    "  bloco de código\n",
    "```"
   ]
  },
  {
   "cell_type": "markdown",
   "id": "3d20d47d",
   "metadata": {
    "id": "PugpetF_kWOP"
   },
   "source": [
    "Os modos de leitura são:\n",
    "\n",
    "*   **r**: Abrir o arquivo para leitura (padrão).\n",
    "\n"
   ]
  },
  {
   "cell_type": "markdown",
   "id": "51dfdbea",
   "metadata": {
    "id": "wNkFG1qKSU9M"
   },
   "source": [
    "### **1.3. read** "
   ]
  },
  {
   "cell_type": "markdown",
   "id": "e143b590",
   "metadata": {
    "id": "wzKYdbTUmCkr"
   },
   "source": [
    "Comando para ler todo o conteúdo de um arquivo."
   ]
  },
  {
   "cell_type": "code",
   "execution_count": 203,
   "id": "7db7bf2f",
   "metadata": {
    "id": "WpJWcVcEjz4s"
   },
   "outputs": [
    {
     "name": "stdout",
     "output_type": "stream",
     "text": [
      "age,job,marital,education,default,balance,housing,loan\n",
      "30,unemployed,married,primary,no,1787,no,no\n",
      "33,services,married,secondary,no,4789,yes,yes\n",
      "35,management,single,tertiary,no,1350,yes,no\n",
      "30,management,married,tertiary,no,1476,yes,yes\n",
      "59,blue-collar,married,secondary,no,0,yes,no\n",
      "35,management,single,tertiary,no,747,no,no\n",
      "36,self-employed,married,tertiary,no,307,yes,no\n",
      "39,technician,married,secondary,no,147,yes,no\n",
      "41,entrepreneur,married,tertiary,no,221,yes,no\n",
      "43,services,married,primary,no,-88,yes,yes\n",
      "\n"
     ]
    }
   ],
   "source": [
    "conteudo = None\n",
    "\n",
    "with open(file='./banco.csv', mode='r', encoding='utf8') as arquivo:\n",
    "  conteudo = arquivo.read()\n",
    "\n",
    "print(conteudo)\n",
    "\n",
    "# Com o modo 'r' não pode mudar o arquivo"
   ]
  },
  {
   "cell_type": "markdown",
   "id": "ef945e4f",
   "metadata": {
    "id": "hV8sOC7uSQsy"
   },
   "source": [
    "### **1.4. readline** "
   ]
  },
  {
   "cell_type": "markdown",
   "id": "4e39d5f1",
   "metadata": {
    "id": "t4crMe1PnaxO"
   },
   "source": [
    "Comando para ler o conteúdo de um arquivo uma linha por vez. Recomendado para arquivos grandes, maiores que 100Mb"
   ]
  },
  {
   "cell_type": "code",
   "execution_count": 204,
   "id": "96612f61",
   "metadata": {
    "id": "KJEJA17YnUC6"
   },
   "outputs": [
    {
     "name": "stdout",
     "output_type": "stream",
     "text": [
      "['age,job,marital,education,default,balance,housing,loan\\n', '30,unemployed,married,primary,no,1787,no,no\\n', '33,services,married,secondary,no,4789,yes,yes\\n', '35,management,single,tertiary,no,1350,yes,no\\n', '30,management,married,tertiary,no,1476,yes,yes\\n', '59,blue-collar,married,secondary,no,0,yes,no\\n', '35,management,single,tertiary,no,747,no,no\\n', '36,self-employed,married,tertiary,no,307,yes,no\\n', '39,technician,married,secondary,no,147,yes,no\\n', '41,entrepreneur,married,tertiary,no,221,yes,no\\n', '43,services,married,primary,no,-88,yes,yes\\n']\n"
     ]
    }
   ],
   "source": [
    "conteudo = []\n",
    "\n",
    "with open(file='./banco.csv', mode='r', encoding='utf8') as arquivo:\n",
    "  linha = arquivo.readline() # lê a primeira linha\n",
    "  while linha: # Enquando uma condição for verdadeira\n",
    "    conteudo.append(linha)\n",
    "    linha = arquivo.readline() # lê uma nova linha, se a linha não existir, salva o valor None\n",
    "\n",
    "print(conteudo)"
   ]
  },
  {
   "cell_type": "code",
   "execution_count": 205,
   "id": "c22401c4",
   "metadata": {
    "id": "qB3FMTB_nwZx"
   },
   "outputs": [
    {
     "name": "stdout",
     "output_type": "stream",
     "text": [
      "age,job,marital,education,default,balance,housing,loan\n",
      "\n",
      "30,unemployed,married,primary,no,1787,no,no\n",
      "\n",
      "33,services,married,secondary,no,4789,yes,yes\n",
      "\n",
      "35,management,single,tertiary,no,1350,yes,no\n",
      "\n",
      "30,management,married,tertiary,no,1476,yes,yes\n",
      "\n",
      "59,blue-collar,married,secondary,no,0,yes,no\n",
      "\n",
      "35,management,single,tertiary,no,747,no,no\n",
      "\n",
      "36,self-employed,married,tertiary,no,307,yes,no\n",
      "\n",
      "39,technician,married,secondary,no,147,yes,no\n",
      "\n",
      "41,entrepreneur,married,tertiary,no,221,yes,no\n",
      "\n",
      "43,services,married,primary,no,-88,yes,yes\n",
      "\n"
     ]
    }
   ],
   "source": [
    "for linha in conteudo:\n",
    "  print(linha)"
   ]
  },
  {
   "cell_type": "markdown",
   "id": "9823c391",
   "metadata": {
    "id": "3fUEwRtVnx-7"
   },
   "source": [
    "**Exemplo**: Extraindo os valores da primeira coluna (idade)."
   ]
  },
  {
   "cell_type": "code",
   "execution_count": 206,
   "id": "9d6d4a1c",
   "metadata": {
    "id": "SpHHPRUOn8pZ"
   },
   "outputs": [
    {
     "name": "stdout",
     "output_type": "stream",
     "text": [
      "[30, 33, 35, 30, 59, 35, 36, 39, 41, 43]\n"
     ]
    }
   ],
   "source": [
    "idades = []\n",
    "\n",
    "with open(file='./banco.csv', mode='r', encoding='utf8') as arquivo:\n",
    "  linha = arquivo.readline() # lê o cabeçalho\n",
    "  linha = arquivo.readline() # lê a primeira linha\n",
    "  while linha:\n",
    "    linha_separada = linha.split(sep=',') # quebra a string nas virgulas e salva os resultados em uma lista\n",
    "    idade = linha_separada[0] # seleciona o primeiro elemento da lista\n",
    "    idade = int(idade) # converte o valor de string para integer (inteiro)\n",
    "    idades.append(idade) # salva o valor na lista de idades\n",
    "    linha = arquivo.readline() # lê uma nova linha, se a linha não existir, salva o valor None\n",
    "\n",
    "print(idades)"
   ]
  },
  {
   "cell_type": "markdown",
   "id": "ce20fdde",
   "metadata": {},
   "source": [
    "<img src=\"Group2.png\" alt=\"ebac-logo\"> "
   ]
  },
  {
   "cell_type": "markdown",
   "id": "1b57a065",
   "metadata": {
    "id": "4rRCvy_UURrM"
   },
   "source": [
    "## 2\\. Escrita"
   ]
  },
  {
   "cell_type": "markdown",
   "id": "105b5f24",
   "metadata": {
    "id": "3FTT-S0apCyF"
   },
   "source": [
    "### **2.1. with / open** "
   ]
  },
  {
   "cell_type": "markdown",
   "id": "39deba5f",
   "metadata": {
    "id": "qJ4xZ0DgpCyd"
   },
   "source": [
    "Comando para ler/escrever arquivos.\n",
    "\n",
    "```python\n",
    "with open(file='<caminho do arquivo do arquivo>', mode='<modo de leitura/escrita>', encoding='<decodificador>') as <apelido>:\n",
    "  bloco de código\n",
    "```"
   ]
  },
  {
   "cell_type": "markdown",
   "id": "edd1d5c6",
   "metadata": {
    "id": "9qXlv5OCpCye"
   },
   "source": [
    "Os modos de leitura são:\n",
    "\n",
    "*   **r**: Abrir o arquivo para leitura (padrão);\n",
    "*   **w**: Abrir o arquivo para escrita (sobreescreve o arquivo original).\n",
    "*   **a**: Abrir o arquivo para acrescentar (não sobreescreve o arquivo original)\n",
    "\n"
   ]
  },
  {
   "cell_type": "markdown",
   "id": "50883fe1",
   "metadata": {
    "id": "Y1W9Hv8fURrZ"
   },
   "source": [
    "### **2.2. write** "
   ]
  },
  {
   "cell_type": "markdown",
   "id": "85853e48",
   "metadata": {
    "id": "blLLUg9IrRed"
   },
   "source": [
    "Comando para escrever em um arquivo, se o arquivo não existir, ele será criado."
   ]
  },
  {
   "cell_type": "markdown",
   "id": "47745156",
   "metadata": {
    "id": "4RT69P1CrZAo"
   },
   "source": [
    "- Modo de escrita (w)."
   ]
  },
  {
   "cell_type": "code",
   "execution_count": 207,
   "id": "655cde52",
   "metadata": {
    "id": "aqPMQ27bpfGL"
   },
   "outputs": [],
   "source": [
    "with open(file='idades.csv', mode='w', encoding='utf8') as fp:\n",
    "  linha = 'idade' + '\\n'\n",
    "  fp.write(linha)\n",
    "  for idade in idades:\n",
    "    linha = str(idade) + '\\n'\n",
    "    fp.write(linha)"
   ]
  },
  {
   "cell_type": "markdown",
   "id": "cd096cab",
   "metadata": {
    "id": "YlDZzK4grar5"
   },
   "source": [
    " - Modo de acréscimo (a)."
   ]
  },
  {
   "cell_type": "code",
   "execution_count": 208,
   "id": "ae2c8711",
   "metadata": {
    "id": "s3fyBEszq6GL"
   },
   "outputs": [],
   "source": [
    "with open(file='idades.csv', mode='a', encoding='utf8') as fp:\n",
    "  for idade in idades:\n",
    "    linha = str(idade + 100) + '\\n'\n",
    "    fp.write(linha)"
   ]
  },
  {
   "cell_type": "markdown",
   "id": "874e9b7d",
   "metadata": {
    "id": "BYzPVfCyrn7U"
   },
   "source": [
    "**Exemplo**: Copiando um arquivo com uma extensão diferente."
   ]
  },
  {
   "cell_type": "code",
   "execution_count": 209,
   "id": "75a13d26",
   "metadata": {
    "id": "fJ5OMzbar22Q"
   },
   "outputs": [
    {
     "name": "stdout",
     "output_type": "stream",
     "text": [
      "Writing banco-texto.txt\n"
     ]
    }
   ],
   "source": [
    "%%writefile banco-texto.txt\n",
    "age,job,marital,education,default,balance,housing,loan\n",
    "30,unemployed,married,primary,no,1787,no,no\n",
    "33,services,married,secondary,no,4789,yes,yes\n",
    "35,management,single,tertiary,no,1350,yes,no\n",
    "30,management,married,tertiary,no,1476,yes,yes\n",
    "59,blue-collar,married,secondary,no,0,yes,no\n",
    "35,management,single,tertiary,no,747,no,no\n",
    "36,self-employed,married,tertiary,no,307,yes,no\n",
    "39,technician,married,secondary,no,147,yes,no\n",
    "41,entrepreneur,married,tertiary,no,221,yes,no\n",
    "43,services,married,primary,no,-88,yes,yes"
   ]
  },
  {
   "cell_type": "code",
   "execution_count": 210,
   "id": "f2aa86eb",
   "metadata": {
    "id": "mB-oJ_9FruGk"
   },
   "outputs": [],
   "source": [
    "with open(file='./banco-texto.txt', mode='r', encoding='utf8') as leitura:\n",
    "  with open(file='./banco-csv.csv', mode='w', encoding='utf8') as escrita:\n",
    "    linha = leitura.readline()\n",
    "    while linha:\n",
    "      escrita.write(linha)\n",
    "      linha = leitura.readline()"
   ]
  },
  {
   "cell_type": "markdown",
   "id": "430c7a33",
   "metadata": {},
   "source": [
    "<img src=\"Group2.png\" alt=\"ebac-logo\"> "
   ]
  },
  {
   "cell_type": "markdown",
   "id": "53478bb9",
   "metadata": {
    "id": "ELgoMRAAUSjv"
   },
   "source": [
    "## 3\\. Funções"
   ]
  },
  {
   "cell_type": "markdown",
   "id": "89eecde3",
   "metadata": {
    "id": "CuLkQY76USjw"
   },
   "source": [
    "### **3.1. Motivação** "
   ]
  },
  {
   "cell_type": "markdown",
   "id": "aec1352d",
   "metadata": {
    "id": "Fg8Ib6XA3gK_"
   },
   "source": [
    "Você trabalha na bolsa de valores e precisa simular o retorno de um investimento para diversos cenários:"
   ]
  },
  {
   "cell_type": "code",
   "execution_count": 211,
   "id": "fb664c43",
   "metadata": {
    "id": "ivOfQr2f3yj7"
   },
   "outputs": [
    {
     "name": "stdout",
     "output_type": "stream",
     "text": [
      "Para um valor inicial de R$ 1000.0 e uma taxa de juros anual de 0.05, em 10 anos você terá R$ 1628.89\n",
      "Para um valor inicial de R$ 1020.0 e uma taxa de juros anual de 0.03, em 10 anos você terá R$ 1370.79\n"
     ]
    }
   ],
   "source": [
    "valor_inicial, taxa_juros_anual, anos = 1000.00, 0.05, 10\n",
    "\n",
    "valor_final = valor_inicial\n",
    "for ano in range(1, anos+1):\n",
    "  valor_final = valor_final * (1 + taxa_juros_anual)\n",
    "valor_final = round(valor_final, 2)\n",
    "print(f'Para um valor inicial de R$ {valor_inicial} e uma taxa de juros anual de {taxa_juros_anual}, em {anos} anos você terá R$ {valor_final}') \n",
    "\n",
    "valor_inicial, taxa_juros_anual, anos = 1020.00, 0.03, 10\n",
    "\n",
    "valor_final = valor_inicial\n",
    "for ano in range(1, anos+1):\n",
    "  valor_final = valor_final * (1 + taxa_juros_anual)\n",
    "valor_final = round(valor_final, 2)\n",
    "print(f'Para um valor inicial de R$ {valor_inicial} e uma taxa de juros anual de {taxa_juros_anual}, em {anos} anos você terá R$ {valor_final}') "
   ]
  },
  {
   "cell_type": "markdown",
   "id": "77a927b6",
   "metadata": {
    "id": "VXDHNVnM4PYO"
   },
   "source": [
    "Como podemos fazer para reaproveitar o código e evitar repetições?"
   ]
  },
  {
   "cell_type": "markdown",
   "id": "f873bc5b",
   "metadata": {},
   "source": [
    "##### **Round** "
   ]
  },
  {
   "cell_type": "code",
   "execution_count": 212,
   "id": "c47e3e4a",
   "metadata": {},
   "outputs": [
    {
     "name": "stdout",
     "output_type": "stream",
     "text": [
      "2.0\n"
     ]
    }
   ],
   "source": [
    "# Round\n",
    "\n",
    "valor = 10 / 4\n",
    "valor = round(valor, 0)\n",
    "print(valor)"
   ]
  },
  {
   "cell_type": "markdown",
   "id": "f750d157",
   "metadata": {
    "id": "JENLdmHkUSjx"
   },
   "source": [
    "### **3.2. Definição** "
   ]
  },
  {
   "cell_type": "markdown",
   "id": "1843d01f",
   "metadata": {
    "id": "niLcDcONyuQ9"
   },
   "source": [
    "Um bloco de código que só executado quando chamado."
   ]
  },
  {
   "cell_type": "markdown",
   "id": "23aa0f91",
   "metadata": {
    "id": "Qci6vQqss-Hb"
   },
   "source": [
    "```python\n",
    "def <nome>(<param 1>, <param 2>, ...):\n",
    "  bloco de código\n",
    "  return <valor de retorno>\n",
    "```\n",
    "\n",
    "```python\n",
    "var = <nome da funcao>(<param 1>, <param 2>, ...)\n",
    "```"
   ]
  },
  {
   "cell_type": "code",
   "execution_count": 213,
   "id": "35be2f2b",
   "metadata": {
    "id": "HOGLdF3dv-8D"
   },
   "outputs": [],
   "source": [
    "def imprime(mensagem: str):\n",
    "  print(mensagem)"
   ]
  },
  {
   "cell_type": "code",
   "execution_count": 214,
   "id": "6382c6d1",
   "metadata": {},
   "outputs": [],
   "source": [
    "texto = 'Fala pessoal, meu nome é André Perez!'"
   ]
  },
  {
   "cell_type": "code",
   "execution_count": 215,
   "id": "252822d1",
   "metadata": {
    "id": "5Csj9AY3wOMX"
   },
   "outputs": [
    {
     "name": "stdout",
     "output_type": "stream",
     "text": [
      "Fala pessoal, meu nome é André Perez!\n"
     ]
    }
   ],
   "source": [
    "imprime(mensagem=texto)"
   ]
  },
  {
   "cell_type": "markdown",
   "id": "eca9d917",
   "metadata": {
    "id": "qcHSzY6kUSjy"
   },
   "source": [
    "### **3.3. Retorno** "
   ]
  },
  {
   "cell_type": "markdown",
   "id": "0c3d3483",
   "metadata": {
    "id": "Vtp-kxhAz2A7"
   },
   "source": [
    "Toda função retorna pelo menos um valor, se não específicado, retorna o valor nulo."
   ]
  },
  {
   "cell_type": "code",
   "execution_count": 216,
   "id": "7aba147a",
   "metadata": {
    "id": "yjZXbgGLz7LF"
   },
   "outputs": [],
   "source": [
    "def maiusculo(texto: str) -> str:\n",
    "  text_maiusculo = texto.upper()\n",
    "  return text_maiusculo\n",
    "\n",
    "# \"-> str\" tipo do retorno"
   ]
  },
  {
   "cell_type": "code",
   "execution_count": 217,
   "id": "1eccc4c6",
   "metadata": {
    "id": "sfAJqKF80KcU"
   },
   "outputs": [
    {
     "name": "stdout",
     "output_type": "stream",
     "text": [
      "André Perez\n",
      "ANDRÉ PEREZ\n"
     ]
    }
   ],
   "source": [
    "nome = 'André Perez'\n",
    "print(nome)\n",
    "\n",
    "nome_maiusculo = maiusculo(texto=nome)\n",
    "print(nome_maiusculo)"
   ]
  },
  {
   "cell_type": "code",
   "execution_count": 218,
   "id": "7cf007e4",
   "metadata": {
    "id": "6oGDzweQtaJ1"
   },
   "outputs": [],
   "source": [
    "def extrair_usuario_email_provedor(email: str) -> (str, str):\n",
    "  email_separado = email.split(sep='@')\n",
    "  usuario = email_separado[0]\n",
    "  provedor = email_separado[1]\n",
    "  return usuario, provedor"
   ]
  },
  {
   "cell_type": "code",
   "execution_count": 219,
   "id": "007e8b55",
   "metadata": {
    "id": "nK9i6Eqttiwc"
   },
   "outputs": [
    {
     "name": "stdout",
     "output_type": "stream",
     "text": [
      "andre.perez\n",
      "gmail.com\n"
     ]
    }
   ],
   "source": [
    "email = 'andre.perez@gmail.com'\n",
    "usuario, provedor = extrair_usuario_email_provedor(email=email)\n",
    "print(usuario)\n",
    "print(provedor)"
   ]
  },
  {
   "cell_type": "markdown",
   "id": "d768483a",
   "metadata": {
    "id": "pBOPhB4ey4G6"
   },
   "source": [
    "### **3.3. Parâmetros** "
   ]
  },
  {
   "cell_type": "markdown",
   "id": "a3de1ba2",
   "metadata": {
    "id": "He3xbNvQD_lh"
   },
   "source": [
    "Parâmetros são os valores que a passamos na chamada da função."
   ]
  },
  {
   "cell_type": "markdown",
   "id": "c83aa028",
   "metadata": {
    "id": "ncVF5va-QXa3"
   },
   "source": [
    " - Função sem parâmetro:"
   ]
  },
  {
   "cell_type": "code",
   "execution_count": 220,
   "id": "429daa3b",
   "metadata": {
    "id": "1QWOVjF5Qa7P"
   },
   "outputs": [],
   "source": [
    "def pi() -> float:\n",
    "  return 3.14159265359"
   ]
  },
  {
   "cell_type": "code",
   "execution_count": 221,
   "id": "61f566d6",
   "metadata": {
    "id": "j4rf5u9vQtgW"
   },
   "outputs": [
    {
     "name": "stdout",
     "output_type": "stream",
     "text": [
      "3.14159265359\n"
     ]
    }
   ],
   "source": [
    "pi = pi()\n",
    "print(pi)"
   ]
  },
  {
   "cell_type": "code",
   "execution_count": 222,
   "id": "0653108a",
   "metadata": {
    "id": "E0HdlKYHQw55"
   },
   "outputs": [],
   "source": [
    "def imprime_pi() -> None:\n",
    "  print(3.14159265359)\n",
    "  return None"
   ]
  },
  {
   "cell_type": "code",
   "execution_count": 223,
   "id": "0c0ffb33",
   "metadata": {
    "id": "jHgpZqHnQ4JW"
   },
   "outputs": [
    {
     "name": "stdout",
     "output_type": "stream",
     "text": [
      "3.14159265359\n"
     ]
    }
   ],
   "source": [
    "imprime_pi()"
   ]
  },
  {
   "cell_type": "markdown",
   "id": "a2149651",
   "metadata": {
    "id": "b9zFMVn3QRac"
   },
   "source": [
    " - Função com parâmetro:"
   ]
  },
  {
   "cell_type": "code",
   "execution_count": 224,
   "id": "59d5c002",
   "metadata": {
    "id": "U0fc5LA_EFTW"
   },
   "outputs": [],
   "source": [
    "def escreve_arquivo_csv(nome: str, cabecalho: str, conteudos: list) -> bool:\n",
    "\n",
    "  try: \n",
    "\n",
    "    with open(file=nome, mode='w', encoding='utf8') as fp:\n",
    "      linha = cabecalho + '\\n'\n",
    "      fp.write(linha)\n",
    "      for conteudo in conteudos:\n",
    "        linha = str(conteudo) + '\\n'\n",
    "        fp.write(linha)\n",
    "\n",
    "  except Exception as exc:\n",
    "    \n",
    "    print(exc)\n",
    "    return False\n",
    "\n",
    "  return True"
   ]
  },
  {
   "cell_type": "code",
   "execution_count": 225,
   "id": "00ec6d7d",
   "metadata": {
    "id": "MRyFsh_nQFJh"
   },
   "outputs": [
    {
     "name": "stdout",
     "output_type": "stream",
     "text": [
      "True\n"
     ]
    }
   ],
   "source": [
    "nome = 'idades-funcao-erro.csv'\n",
    "cabecalho = 'idade'\n",
    "conteudos = [30, 33, 35, 30, 59, 35, 36, 39, 41, 43]\n",
    "#conteudos = 10\n",
    "\n",
    "escreveu_com_sucesso = escreve_arquivo_csv(nome=nome, cabecalho=cabecalho, conteudos=conteudos)\n",
    "print(escreveu_com_sucesso)"
   ]
  },
  {
   "cell_type": "markdown",
   "id": "c378ac4a",
   "metadata": {
    "id": "Nq0WCx8HUSjz"
   },
   "source": [
    "### **3.4. Revisitando a motivação** "
   ]
  },
  {
   "cell_type": "code",
   "execution_count": 226,
   "id": "ee0832a6",
   "metadata": {
    "id": "B9fVGad25GHm"
   },
   "outputs": [
    {
     "name": "stdout",
     "output_type": "stream",
     "text": [
      "Para um valor inicial de R$ 1000.0 e uma taxa de juros anual de 0.05, em 10 anos você terá R$ 1628.89\n",
      "Para um valor inicial de R$ 1020.0 e uma taxa de juros anual de 0.03, em 10 anos você terá R$ 1370.79\n"
     ]
    }
   ],
   "source": [
    "def juros_compostos_anual(valor_inicial: float, taxa_juros_anual: float, anos: int) -> float:\n",
    "  valor_final = valor_inicial\n",
    "  for ano in range(1, anos+1):\n",
    "    valor_final = valor_final * (1 + taxa_juros_anual)\n",
    "  valor_final = round(valor_final, 2)\n",
    "  print(f'Para um valor inicial de R$ {valor_inicial} e uma taxa de juros anual de {taxa_juros_anual}, em {anos} anos você terá R$ {valor_final}') \n",
    "  return valor_final\n",
    "\n",
    "valor_inicial, taxa_juros_anual, anos = 1000.00, 0.05, 10\n",
    "valor_final = juros_compostos_anual(valor_inicial=valor_inicial, taxa_juros_anual=taxa_juros_anual, anos=anos)\n",
    "\n",
    "valor_inicial, taxa_juros_anual, anos = 1020.00, 0.03, 10\n",
    "valor_final = juros_compostos_anual(valor_inicial=valor_inicial, taxa_juros_anual=taxa_juros_anual, anos=anos) "
   ]
  },
  {
   "cell_type": "markdown",
   "id": "25e45b1e",
   "metadata": {},
   "source": [
    "<img src=\"Group2.png\" alt=\"ebac-logo\"> "
   ]
  },
  {
   "cell_type": "markdown",
   "id": "3e72206e",
   "metadata": {
    "id": "f20ThY5WXmns"
   },
   "source": [
    "## 4\\. Escopo"
   ]
  },
  {
   "cell_type": "markdown",
   "id": "2d839e28",
   "metadata": {
    "id": "mU0sJeoCXmoK"
   },
   "source": [
    "### **4.1. Definição** "
   ]
  },
  {
   "cell_type": "markdown",
   "id": "01979fce",
   "metadata": {
    "id": "oKh6lMEouTn0"
   },
   "source": [
    "Define o ciclo de vida de uma variável."
   ]
  },
  {
   "cell_type": "markdown",
   "id": "a8de79f3",
   "metadata": {
    "id": "ozbwsD4Lu7p6"
   },
   "source": [
    " - Escopo de função."
   ]
  },
  {
   "cell_type": "code",
   "execution_count": 227,
   "id": "937afa6f",
   "metadata": {
    "id": "ePdJM9qQuWrF"
   },
   "outputs": [],
   "source": [
    "def soma_lista(numeros: list) -> int:\n",
    "  s = 0\n",
    "  for numero in numeros:\n",
    "    s = s + numero\n",
    "  return s"
   ]
  },
  {
   "cell_type": "code",
   "execution_count": 228,
   "id": "1b23ce99",
   "metadata": {
    "id": "3tILascnunHK"
   },
   "outputs": [
    {
     "name": "stdout",
     "output_type": "stream",
     "text": [
      "40\n"
     ]
    }
   ],
   "source": [
    "soma = soma_lista(numeros=[2] * 20)\n",
    "print(soma)"
   ]
  },
  {
   "cell_type": "code",
   "execution_count": 229,
   "id": "677e637b",
   "metadata": {
    "id": "eGUN-4_ju0a6"
   },
   "outputs": [],
   "source": [
    "#print(s) # Quando a função terminou a variavel \"S\" ficou vazia"
   ]
  },
  {
   "cell_type": "markdown",
   "id": "be2e26d6",
   "metadata": {
    "id": "X1lEDZMpu-Zg"
   },
   "source": [
    " - Escopo de estrutura condicional / repetição."
   ]
  },
  {
   "cell_type": "code",
   "execution_count": 230,
   "id": "fcbfe904",
   "metadata": {
    "id": "hQQ85zrYvP-w"
   },
   "outputs": [
    {
     "name": "stdout",
     "output_type": "stream",
     "text": [
      "100\n"
     ]
    }
   ],
   "source": [
    "if True:\n",
    "  x = 100\n",
    "else:\n",
    "  w = 50\n",
    "\n",
    "print(x)"
   ]
  },
  {
   "cell_type": "markdown",
   "id": "ed7dc160",
   "metadata": {
    "id": "KJqp9AANOCtf"
   },
   "source": [
    "<img src=\"https://raw.githubusercontent.com/enzoschitini/repository-data-science-library/main/Python%20Notebook/img/Programa%C3%A7%C3%A3o%20Funcional.png\" alt=\"ebac-logo\">\n",
    "\n",
    "---\n",
    "\n",
    "# **Módulo 05** | Python: Programação Funcional\n",
    "Caderno de **Aula**<br> \n",
    "Desenvolvedor [Enzo Schitini](https://enzo-schitini.bubbleapps.io/version-test/)\n",
    "\n",
    "---"
   ]
  },
  {
   "cell_type": "markdown",
   "id": "0756b435",
   "metadata": {
    "id": "d9jDtUbDOE1-"
   },
   "source": [
    "# **Tópicos**\n",
    "\n",
    "<ol type=\"1\">\n",
    "  <li>Função lambda;</li>\n",
    "  <li>Função map;</li>\n",
    "  <li>Função filter;</li>\n",
    "  <li>Função reduce.</li>\n",
    "</ol>"
   ]
  },
  {
   "cell_type": "markdown",
   "id": "5ad6df98",
   "metadata": {
    "id": "SmoHgt-lwkpD"
   },
   "source": [
    "---"
   ]
  },
  {
   "cell_type": "markdown",
   "id": "374c712b",
   "metadata": {
    "id": "GABI6OW8OfQ2"
   },
   "source": [
    "# **Aulas**"
   ]
  },
  {
   "cell_type": "markdown",
   "id": "d77b0ac2",
   "metadata": {
    "id": "SB6t60yExrvH"
   },
   "source": [
    "## 0\\. Paradigmas de Programação"
   ]
  },
  {
   "cell_type": "markdown",
   "id": "4c0a92e3",
   "metadata": {
    "id": "UlwvYXdqxzEe"
   },
   "source": [
    "Estilos de programação.\n",
    "\n",
    "1.   Imperativa;\n",
    "2.   Funcional;\n",
    "3.   Orientada a objetos.\n",
    "\n"
   ]
  },
  {
   "cell_type": "markdown",
   "id": "9488b86f",
   "metadata": {
    "id": "Z1zeqH6gzCam"
   },
   "source": [
    "O Python é uma linguagem [multi-paradigma](https://en.wikipedia.org/wiki/Python_(programming_language))."
   ]
  },
  {
   "cell_type": "markdown",
   "id": "e4e60fcc",
   "metadata": {
    "id": "8oxkS64ky-oS"
   },
   "source": [
    "\n",
    "\n",
    "![Screenshot from 2021-03-29 22-42-04.png](data:image/png;base64,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)"
   ]
  },
  {
   "cell_type": "markdown",
   "id": "6d093b48",
   "metadata": {
    "id": "tL-rmLDH0NDx"
   },
   "source": [
    "Este módulo é sobre **programação funcional**, que é o estilo que busca manipular dados com muitas e pequenas funções."
   ]
  },
  {
   "cell_type": "markdown",
   "id": "8148b10a",
   "metadata": {},
   "source": [
    "<img src=\"Group2.png\" alt=\"ebac-logo\"> "
   ]
  },
  {
   "cell_type": "markdown",
   "id": "6b09289d",
   "metadata": {
    "id": "muD1vxozykSC"
   },
   "source": [
    "## 1\\. Função lambda"
   ]
  },
  {
   "cell_type": "markdown",
   "id": "09689a53",
   "metadata": {
    "id": "E6D5rjlESJ1A"
   },
   "source": [
    "### **1.1. Definição** "
   ]
  },
  {
   "cell_type": "markdown",
   "id": "50cbaed4",
   "metadata": {
    "id": "WH7mnNwBiPJM"
   },
   "source": [
    "Função anônima (sem nome) com bloco de código super enxuto e que pode ser salva em uma variável. Em geral é utilizada com outros métodos funcionais como `map`, `filter`, e `reduce`."
   ]
  },
  {
   "cell_type": "markdown",
   "id": "3d798d21",
   "metadata": {
    "id": "Ue8w9NGLit7L"
   },
   "source": [
    "```python\n",
    "variavel = lambda params: expressão\n",
    "```"
   ]
  },
  {
   "cell_type": "markdown",
   "id": "ba75af0d",
   "metadata": {
    "id": "CoWkK5FYlB1J"
   },
   "source": [
    "**Exemplo**: Função `lambda` para extrair provedor de e-mail."
   ]
  },
  {
   "cell_type": "code",
   "execution_count": 231,
   "id": "1e02296c",
   "metadata": {
    "id": "FxehjSvzitMU"
   },
   "outputs": [],
   "source": [
    "extrair_provedor_email = lambda email: email.split(sep='@')[-1]"
   ]
  },
  {
   "cell_type": "code",
   "execution_count": 232,
   "id": "262b1704",
   "metadata": {
    "id": "twp1ku8rjUUD"
   },
   "outputs": [
    {
     "name": "stdout",
     "output_type": "stream",
     "text": [
      "andre.perez@gmail.com\n",
      "gmail.com\n"
     ]
    }
   ],
   "source": [
    "email = 'andre.perez@gmail.com'\n",
    "print(email)\n",
    "\n",
    "provedor_email = extrair_provedor_email(email)\n",
    "print(provedor_email)"
   ]
  },
  {
   "cell_type": "markdown",
   "id": "c4c1eb52",
   "metadata": {
    "id": "1E0ZrJjij6Dh"
   },
   "source": [
    "**Exemplo**: Função `lamba` com estruturas condicionais."
   ]
  },
  {
   "cell_type": "code",
   "execution_count": 233,
   "id": "bb21bb5b",
   "metadata": {
    "id": "4taFAg0djjRi"
   },
   "outputs": [],
   "source": [
    "numero_e_par = lambda numero: True if numero % 2 == 0 else False"
   ]
  },
  {
   "cell_type": "code",
   "execution_count": 234,
   "id": "0487e711",
   "metadata": {
    "id": "ZZYLIphikWW0"
   },
   "outputs": [],
   "source": [
    "numeros = range(0, 10)"
   ]
  },
  {
   "cell_type": "code",
   "execution_count": 235,
   "id": "0172e04d",
   "metadata": {
    "id": "NTSGFCfqkel9"
   },
   "outputs": [
    {
     "name": "stdout",
     "output_type": "stream",
     "text": [
      "O número 0 é par!\n",
      "O número 2 é par!\n",
      "O número 4 é par!\n",
      "O número 6 é par!\n",
      "O número 8 é par!\n"
     ]
    }
   ],
   "source": [
    "for numero in numeros:\n",
    "  if numero_e_par(numero) == True:\n",
    "    print(f'O número {numero} é par!')"
   ]
  },
  {
   "cell_type": "markdown",
   "id": "3d70dc14",
   "metadata": {
    "id": "wNkFG1qKSU9M"
   },
   "source": [
    "### **1.2. Função de alta ordem** "
   ]
  },
  {
   "cell_type": "markdown",
   "id": "5a1ee007",
   "metadata": {
    "id": "vtilAzzIl7ty"
   },
   "source": [
    "São funções que recebem outras funções para parâmetro ou retornam outra função."
   ]
  },
  {
   "cell_type": "markdown",
   "id": "3aaed65d",
   "metadata": {
    "id": "vNmME7aAmInY"
   },
   "source": [
    "**Exemplo**: Juros compostos dinâmico."
   ]
  },
  {
   "cell_type": "markdown",
   "id": "4a66d7a7",
   "metadata": {
    "id": "PR-if4iKbp2i"
   },
   "source": [
    " - Definição."
   ]
  },
  {
   "cell_type": "code",
   "execution_count": 236,
   "id": "e3a3a0d6",
   "metadata": {
    "id": "VFJ2d9_UmOft"
   },
   "outputs": [],
   "source": [
    "def retorno(juros: float):\n",
    "  return lambda investimento: investimento * (1 + juros)"
   ]
  },
  {
   "cell_type": "markdown",
   "id": "9ccddc1e",
   "metadata": {
    "id": "Bivb4Ig2bs8i"
   },
   "source": [
    " - Instanciação."
   ]
  },
  {
   "cell_type": "code",
   "execution_count": 237,
   "id": "538c0722",
   "metadata": {
    "id": "Zgc4vFgzm0Fd"
   },
   "outputs": [],
   "source": [
    "retorno_5_porcento = retorno(juros=0.05)\n",
    "retorno_10_porcento = retorno(juros=0.10)"
   ]
  },
  {
   "cell_type": "code",
   "execution_count": 238,
   "id": "57824171",
   "metadata": {
    "id": "-EyITLHbm8QS"
   },
   "outputs": [
    {
     "name": "stdout",
     "output_type": "stream",
     "text": [
      "1050.0\n",
      "1100.0\n"
     ]
    }
   ],
   "source": [
    "valor_final = retorno_5_porcento(investimento=1000)\n",
    "print(valor_final)\n",
    "\n",
    "valor_final = retorno_10_porcento(investimento=1000)\n",
    "print(valor_final)"
   ]
  },
  {
   "cell_type": "markdown",
   "id": "e761c056",
   "metadata": {
    "id": "l-l2Khvxb058"
   },
   "source": [
    " - Uso."
   ]
  },
  {
   "cell_type": "code",
   "execution_count": 239,
   "id": "d55cd3a9",
   "metadata": {
    "id": "2xa0CmgwnWjt"
   },
   "outputs": [
    {
     "name": "stdout",
     "output_type": "stream",
     "text": [
      "1628.89\n"
     ]
    }
   ],
   "source": [
    "anos = 10\n",
    "valor_inicial = 1000\n",
    "valor_final = valor_inicial\n",
    "\n",
    "for ano in range(1, anos+1):\n",
    "  valor_final = retorno_5_porcento(investimento=valor_final)\n",
    "\n",
    "valor_final = round(valor_final, 2)\n",
    "print(valor_final)"
   ]
  },
  {
   "cell_type": "code",
   "execution_count": 240,
   "id": "15717a0c",
   "metadata": {
    "id": "SLDy8fqI6v-F"
   },
   "outputs": [
    {
     "name": "stdout",
     "output_type": "stream",
     "text": [
      "2593.74\n"
     ]
    }
   ],
   "source": [
    "anos = 10\n",
    "valor_inicial = 1000\n",
    "valor_final = valor_inicial\n",
    "\n",
    "for ano in range(1, anos+1):\n",
    "  valor_final = retorno_10_porcento(investimento=valor_final)\n",
    "\n",
    "valor_final = round(valor_final, 2)\n",
    "print(valor_final)"
   ]
  },
  {
   "cell_type": "markdown",
   "id": "56587659",
   "metadata": {},
   "source": [
    "<img src=\"Group2.png\" alt=\"ebac-logo\"> "
   ]
  },
  {
   "cell_type": "markdown",
   "id": "45e80664",
   "metadata": {
    "id": "4rRCvy_UURrM"
   },
   "source": [
    "## 2\\. Função map"
   ]
  },
  {
   "cell_type": "markdown",
   "id": "dd6e086b",
   "metadata": {
    "id": "Y1W9Hv8fURrZ"
   },
   "source": [
    "### **2.1. Definição** "
   ]
  },
  {
   "cell_type": "markdown",
   "id": "a2385f6e",
   "metadata": {
    "id": "ZKyNtSjsR5lZ"
   },
   "source": [
    "Aplica uma função em todos os elementos de uma coleção (`list`, `dict`, etc.) e retorna **todos** os elementos transformados."
   ]
  },
  {
   "cell_type": "markdown",
   "id": "68f520f8",
   "metadata": {
    "id": "iJXLrXXeR5P1"
   },
   "source": [
    "```python\n",
    "variavel = map(função, coleção)\n",
    "```"
   ]
  },
  {
   "cell_type": "code",
   "execution_count": 241,
   "id": "468e975c",
   "metadata": {
    "id": "pH0O5qTxhr_9"
   },
   "outputs": [
    {
     "name": "stdout",
     "output_type": "stream",
     "text": [
      "[1, 8, 27]\n"
     ]
    }
   ],
   "source": [
    "numeros = [1, 2, 3]\n",
    "\n",
    "numeros_ao_cubo = map(lambda num: num ** 3, numeros)\n",
    "\n",
    "print(list(numeros_ao_cubo))"
   ]
  },
  {
   "cell_type": "markdown",
   "id": "294c7344",
   "metadata": {
    "id": "SyLaQ3YIg01s"
   },
   "source": [
    "### **2.2. Função de alta ordem** "
   ]
  },
  {
   "cell_type": "markdown",
   "id": "a7489082",
   "metadata": {
    "id": "Bo4yLVhWeV7g"
   },
   "source": [
    "**Exemplo**: Função `lambda` para extrair provedor de e-mail (1 parâmetro)."
   ]
  },
  {
   "cell_type": "code",
   "execution_count": 242,
   "id": "28240238",
   "metadata": {
    "id": "S55Q0alJduN0"
   },
   "outputs": [],
   "source": [
    "emails = ['andre.perez@gmail.com', 'andre.perez@live.com', 'andre.perez@yahoo.com']\n",
    "extrair_provedor_email = lambda email: email.split(sep='@')[-1]"
   ]
  },
  {
   "cell_type": "code",
   "execution_count": 243,
   "id": "b11076ab",
   "metadata": {
    "id": "opaCXNW4eQVo"
   },
   "outputs": [
    {
     "name": "stdout",
     "output_type": "stream",
     "text": [
      "['gmail.com', 'live.com', 'yahoo.com']\n"
     ]
    }
   ],
   "source": [
    "provedores = []\n",
    "for email in emails:\n",
    "  provedor = extrair_provedor_email(email)\n",
    "  provedores.append(provedor)\n",
    "\n",
    "print(provedores)"
   ]
  },
  {
   "cell_type": "code",
   "execution_count": 244,
   "id": "c5bdf899",
   "metadata": {
    "id": "jxN5-iiTexxj"
   },
   "outputs": [
    {
     "name": "stdout",
     "output_type": "stream",
     "text": [
      "<map object at 0x00000191B20921A0>\n"
     ]
    }
   ],
   "source": [
    "provedores = map(extrair_provedor_email, emails)\n",
    "print(provedores)"
   ]
  },
  {
   "cell_type": "code",
   "execution_count": 245,
   "id": "ce98b9bc",
   "metadata": {
    "id": "170a0sYve9lF"
   },
   "outputs": [
    {
     "name": "stdout",
     "output_type": "stream",
     "text": [
      "['gmail.com', 'live.com', 'yahoo.com']\n"
     ]
    }
   ],
   "source": [
    "provedores = list(map(extrair_provedor_email, emails))\n",
    "print(provedores)"
   ]
  },
  {
   "cell_type": "code",
   "execution_count": 246,
   "id": "18bc7116",
   "metadata": {
    "id": "3OyM_eU1fBYH"
   },
   "outputs": [
    {
     "name": "stdout",
     "output_type": "stream",
     "text": [
      "['gmail.com', 'live.com', 'yahoo.com']\n"
     ]
    }
   ],
   "source": [
    "provedores = map(lambda email: email.split(sep='@')[-1], emails)\n",
    "...\n",
    "print(list(provedores))"
   ]
  },
  {
   "cell_type": "markdown",
   "id": "e1588d9f",
   "metadata": {
    "id": "hnfQVJGzfXDP"
   },
   "source": [
    "- **Exemplo**: Investimento (Mais de 1 parâmetros)."
   ]
  },
  {
   "cell_type": "code",
   "execution_count": 247,
   "id": "7cd321fc",
   "metadata": {
    "id": "G9stBKyHfc5-"
   },
   "outputs": [
    {
     "name": "stdout",
     "output_type": "stream",
     "text": [
      "[1628.89, 2593.74, 4045.56]\n"
     ]
    }
   ],
   "source": [
    "anos = [10, 10, 10]\n",
    "taxas_juros = [0.05, 0.10, 0.15]\n",
    "valores_iniciais = [1000, 1000, 1000]\n",
    "\n",
    "def retorno(valor_inicial: float, taxa_juros: float, anos: int) -> float:\n",
    "  valor_final = valor_inicial\n",
    "  for ano in range(1,anos+1):\n",
    "    valor_final = valor_final * (1+taxa_juros)\n",
    "  return round(valor_final, 2)\n",
    "\n",
    "cenarios = list(map(retorno, valores_iniciais, taxas_juros, anos))\n",
    "print(cenarios)"
   ]
  },
  {
   "cell_type": "markdown",
   "id": "470556b1",
   "metadata": {},
   "source": [
    "<img src=\"Group2.png\" alt=\"ebac-logo\"> "
   ]
  },
  {
   "cell_type": "markdown",
   "id": "4f5220ba",
   "metadata": {
    "id": "ELgoMRAAUSjv"
   },
   "source": [
    "## 3\\. Função filter"
   ]
  },
  {
   "cell_type": "markdown",
   "id": "85dcfc9f",
   "metadata": {
    "id": "CuLkQY76USjw"
   },
   "source": [
    "### **3.1. Definição** "
   ]
  },
  {
   "cell_type": "markdown",
   "id": "38105c6c",
   "metadata": {
    "id": "YlVK531qSI_e"
   },
   "source": [
    "Aplica uma função lógica (que retorna um booleano) em todos os elementos de uma coleção (`list`, `dict`, etc.) e retorna **apenas** aqueles que resultaram em verdadeiro (`True`)."
   ]
  },
  {
   "cell_type": "markdown",
   "id": "ea552f31",
   "metadata": {
    "id": "CXonwzEsSJae"
   },
   "source": [
    "```python\n",
    "variavel = filter(função, coleção)\n",
    "```"
   ]
  },
  {
   "cell_type": "code",
   "execution_count": 248,
   "id": "0a039769",
   "metadata": {
    "id": "Be55OiGdiMWV"
   },
   "outputs": [
    {
     "name": "stdout",
     "output_type": "stream",
     "text": [
      "[2]\n"
     ]
    }
   ],
   "source": [
    "numeros = [1, 2, 3]\n",
    "\n",
    "numeros_par = filter(lambda num: num % 2 == 0, numeros)\n",
    "\n",
    "print(list(numeros_par))"
   ]
  },
  {
   "cell_type": "markdown",
   "id": "7cd903cd",
   "metadata": {
    "id": "JENLdmHkUSjx"
   },
   "source": [
    "### **3.2. Função de alta ordem** "
   ]
  },
  {
   "cell_type": "markdown",
   "id": "80d75122",
   "metadata": {
    "id": "9x372m2QifF-"
   },
   "source": [
    "**Exemplo**: Função `lambda` para extrair provedor de e-mail."
   ]
  },
  {
   "cell_type": "code",
   "execution_count": 249,
   "id": "07325e2a",
   "metadata": {
    "id": "tFbNPPqhifGK"
   },
   "outputs": [],
   "source": [
    "emails = ['andre.perez@gmail.com', 'andre.perez@live.com', 'andre.perez@yahoo.com']\n",
    "provedor_da_google = lambda email: 'gmail' in email"
   ]
  },
  {
   "cell_type": "code",
   "execution_count": 250,
   "id": "5eca6678",
   "metadata": {
    "id": "sJa1F9BbifGK"
   },
   "outputs": [
    {
     "name": "stdout",
     "output_type": "stream",
     "text": [
      "['andre.perez@gmail.com']\n"
     ]
    }
   ],
   "source": [
    "emails_google = []\n",
    "for email in emails:\n",
    "  if provedor_da_google(email) == True:\n",
    "    emails_google.append(email)\n",
    "\n",
    "print(emails_google)"
   ]
  },
  {
   "cell_type": "code",
   "execution_count": 251,
   "id": "21664066",
   "metadata": {
    "id": "FSqNr4uEifGL"
   },
   "outputs": [
    {
     "name": "stdout",
     "output_type": "stream",
     "text": [
      "<filter object at 0x00000191B2091E10>\n"
     ]
    }
   ],
   "source": [
    "emails_google = filter(provedor_da_google, emails)\n",
    "print(emails_google)"
   ]
  },
  {
   "cell_type": "code",
   "execution_count": 252,
   "id": "9df63f45",
   "metadata": {
    "id": "ANQk4e1mifGM"
   },
   "outputs": [
    {
     "name": "stdout",
     "output_type": "stream",
     "text": [
      "['andre.perez@gmail.com']\n"
     ]
    }
   ],
   "source": [
    "emails_google = list(filter(provedor_da_google, emails))\n",
    "print(emails_google)"
   ]
  },
  {
   "cell_type": "code",
   "execution_count": 253,
   "id": "bb9cf3a3",
   "metadata": {
    "id": "pjosB1-CifGN"
   },
   "outputs": [
    {
     "name": "stdout",
     "output_type": "stream",
     "text": [
      "['andre.perez@gmail.com']\n"
     ]
    }
   ],
   "source": [
    "emails_google = filter(lambda email: 'gmail' in email, emails)\n",
    "...\n",
    "print(list(emails_google))"
   ]
  },
  {
   "cell_type": "markdown",
   "id": "9529f5e2",
   "metadata": {},
   "source": [
    "<img src=\"Group2.png\" alt=\"ebac-logo\"> "
   ]
  },
  {
   "cell_type": "markdown",
   "id": "3e8ed50f",
   "metadata": {
    "id": "f20ThY5WXmns"
   },
   "source": [
    "## 4\\. Função reduce"
   ]
  },
  {
   "cell_type": "markdown",
   "id": "f960574f",
   "metadata": {
    "id": "FlUhkpdwXmoJ"
   },
   "source": [
    "### **4.1. Definição** "
   ]
  },
  {
   "cell_type": "markdown",
   "id": "111fe6e3",
   "metadata": {
    "id": "dyJvRiX_SNyu"
   },
   "source": [
    "Aplica uma função a todos os elemento de uma coleção, dois a dois, e retorna **apenas** um elemento."
   ]
  },
  {
   "cell_type": "markdown",
   "id": "782c9b72",
   "metadata": {
    "id": "9OavzMW5SMwE"
   },
   "source": [
    "```python\n",
    "variavel = reduce(função, coleção)\n",
    "```"
   ]
  },
  {
   "cell_type": "code",
   "execution_count": 254,
   "id": "6c6d505e",
   "metadata": {
    "id": "v3rKJJ62TxuY"
   },
   "outputs": [],
   "source": [
    "numeros = [1, 2, 3]"
   ]
  },
  {
   "cell_type": "code",
   "execution_count": 255,
   "id": "2c2f37c3",
   "metadata": {
    "id": "WA7m8-4mT9Tp"
   },
   "outputs": [
    {
     "name": "stdout",
     "output_type": "stream",
     "text": [
      "6\n"
     ]
    }
   ],
   "source": [
    "from functools import reduce\n",
    "\n",
    "soma = reduce(lambda x, y: x + y, numeros)\n",
    "print(soma)"
   ]
  },
  {
   "cell_type": "markdown",
   "id": "7c56498d",
   "metadata": {
    "id": "mU0sJeoCXmoK"
   },
   "source": [
    "### **4.2. Função de alta ordem** "
   ]
  },
  {
   "cell_type": "markdown",
   "id": "71989d6d",
   "metadata": {
    "id": "as2Afz0XnAgf"
   },
   "source": [
    "**Exemplo**: Encontrar maior número em uma lista."
   ]
  },
  {
   "cell_type": "code",
   "execution_count": 256,
   "id": "fc7a0431",
   "metadata": {
    "id": "yTB_nTeek53N"
   },
   "outputs": [
    {
     "name": "stdout",
     "output_type": "stream",
     "text": [
      "11\n"
     ]
    }
   ],
   "source": [
    "def maior_entre(primeiro: int, segundo: int) -> int:\n",
    "  return primeiro if primeiro >= segundo else segundo\n",
    "\n",
    "primeiro = 11\n",
    "segundo = 11\n",
    "\n",
    "print(maior_entre(primeiro=primeiro, segundo=segundo))"
   ]
  },
  {
   "cell_type": "code",
   "execution_count": 257,
   "id": "0f46c432",
   "metadata": {
    "id": "xox2zGiYoMHN"
   },
   "outputs": [
    {
     "name": "stdout",
     "output_type": "stream",
     "text": [
      "0.7211090682278987\n"
     ]
    }
   ],
   "source": [
    "from random import random\n",
    "\n",
    "print(random())"
   ]
  },
  {
   "cell_type": "code",
   "execution_count": 258,
   "id": "d92f0d23",
   "metadata": {
    "id": "Y3c7wLUok5TF"
   },
   "outputs": [
    {
     "name": "stdout",
     "output_type": "stream",
     "text": [
      "[4, 27, 15, 16, 36, 62, 95, 14, 59, 63, 39, 14, 14, 20, 65, 44, 80, 72, 64, 4, 25, 51, 24, 88, 39, 69, 61, 53, 17, 55, 81, 30, 54, 18, 40, 91, 16, 39, 92, 44, 29, 25, 62, 82, 4, 82, 57, 89, 52, 3, 76, 78, 21, 82, 12, 79, 42, 35, 31, 76, 1, 60, 10, 7, 12, 37, 63, 74, 69, 95, 22, 1, 64, 87, 64, 7, 69, 53, 38, 44, 5, 98, 5, 18, 2, 92, 46, 39, 9, 6, 75, 18, 70, 78, 39, 97, 60, 48, 40, 41]\n"
     ]
    }
   ],
   "source": [
    "from random import random\n",
    "\n",
    "numeros = [round(100 * random()) for _ in range(0, 100)]\n",
    "print(numeros)"
   ]
  },
  {
   "cell_type": "code",
   "execution_count": 259,
   "id": "f1964544",
   "metadata": {},
   "outputs": [
    {
     "name": "stdout",
     "output_type": "stream",
     "text": [
      "[8, 8, 8, 8, 8, 8, 8, 8, 8, 8, 8, 8, 8, 8, 8, 8, 8, 8, 8, 8, 8, 8, 8, 8, 8, 8, 8, 8, 8, 8, 8, 8, 8, 8, 8, 8, 8, 8, 8, 8, 8, 8, 8, 8, 8, 8, 8, 8, 8, 8, 8, 8, 8, 8, 8, 8, 8, 8, 8, 8, 8, 8, 8, 8, 8, 8, 8, 8, 8, 8, 8, 8, 8, 8, 8, 8, 8, 8, 8, 8, 8, 8, 8, 8, 8, 8, 8, 8, 8, 8, 8, 8, 8, 8, 8, 8, 8, 8, 8, 8]\n"
     ]
    }
   ],
   "source": [
    "from random import random\n",
    "\n",
    "def soma(v1:int) -> int:\n",
    "    return v1 + 5\n",
    "\n",
    "numeros = [(soma(3)) for _ in range(0, 100)]\n",
    "print(numeros)"
   ]
  },
  {
   "cell_type": "code",
   "execution_count": 260,
   "id": "6b15e96f",
   "metadata": {
    "id": "ryN5pCgxpAzu"
   },
   "outputs": [
    {
     "name": "stdout",
     "output_type": "stream",
     "text": [
      "8\n"
     ]
    }
   ],
   "source": [
    "maior_numero = reduce(maior_entre, numeros)\n",
    "print(maior_numero)"
   ]
  },
  {
   "cell_type": "code",
   "execution_count": 261,
   "id": "f89804a7",
   "metadata": {
    "id": "pM94lHjMpUKP"
   },
   "outputs": [
    {
     "name": "stdout",
     "output_type": "stream",
     "text": [
      "8\n"
     ]
    }
   ],
   "source": [
    "maior_numero = reduce(lambda primeiro, segundo: primeiro if primeiro >= segundo else segundo, numeros)\n",
    "print(maior_numero)"
   ]
  },
  {
   "cell_type": "markdown",
   "id": "9612e72a",
   "metadata": {
    "id": "wvSFdbFd1PNc"
   },
   "source": [
    "### **4.3. Compossibilidade** "
   ]
  },
  {
   "cell_type": "markdown",
   "id": "27be3d56",
   "metadata": {
    "id": "Yi1Vm2oM1aNr"
   },
   "source": [
    "**Exemplo**: Combinação de métodos funcionais."
   ]
  },
  {
   "cell_type": "code",
   "execution_count": 262,
   "id": "31f3cf43",
   "metadata": {
    "id": "lXL2sHbU1eAk"
   },
   "outputs": [
    {
     "name": "stdout",
     "output_type": "stream",
     "text": [
      "[37, 23, 5, 1, 68, 71, 63, 90, 66, 7, 99, 89, 64, 7, 85, 40, 32, 7, 64, 86, 40, 11, 38, 88, 21, 60, 72, 0, 70, 52, 5, 99, 49, 94, 97, 39, 20, 34, 20, 43, 40, 14, 26, 4, 95, 74, 90, 81, 59, 52, 44, 6, 9, 93, 41, 35, 65, 17, 19, 37, 92, 13, 85, 39, 7, 54, 62, 30, 84, 65, 71, 46, 61, 12, 9, 9, 89, 17, 100, 98, 4, 19, 9, 62, 35, 34, 51, 48, 86, 64, 78, 79, 2, 22, 67, 40, 49, 76, 49, 34]\n"
     ]
    }
   ],
   "source": [
    "from random import random\n",
    "\n",
    "numeros = [round(100 * random()) for _ in range(0, 100)]\n",
    "print(numeros)"
   ]
  },
  {
   "cell_type": "markdown",
   "id": "366c0230",
   "metadata": {
    "id": "_3AbFgxg1gpY"
   },
   "source": [
    " - Eleve os números ao quadrado."
   ]
  },
  {
   "cell_type": "code",
   "execution_count": 263,
   "id": "f6eedf71",
   "metadata": {
    "id": "s5bMYqwU1ksA"
   },
   "outputs": [],
   "source": [
    "numeros_ao_quadrado = map(lambda numero: numero ** 2, numeros)"
   ]
  },
  {
   "cell_type": "markdown",
   "id": "0c374cce",
   "metadata": {
    "id": "FZmElWY41tau"
   },
   "source": [
    " - Filtra os números ímpares."
   ]
  },
  {
   "cell_type": "code",
   "execution_count": 264,
   "id": "18976027",
   "metadata": {
    "id": "z_RJi_sA13Rx"
   },
   "outputs": [],
   "source": [
    "numeros_impares = filter(lambda numero: numero % 2 != 0, numeros_ao_quadrado)"
   ]
  },
  {
   "cell_type": "markdown",
   "id": "d7090bc1",
   "metadata": {
    "id": "GKlr1_aB2DpY"
   },
   "source": [
    " - Soma todos os números."
   ]
  },
  {
   "cell_type": "code",
   "execution_count": 265,
   "id": "2ea0746b",
   "metadata": {
    "id": "LFsZpnMG2Nfs"
   },
   "outputs": [
    {
     "name": "stdout",
     "output_type": "stream",
     "text": [
      "148666\n"
     ]
    }
   ],
   "source": [
    "soma_numeros = reduce(lambda x, y: x + y, numeros_impares)\n",
    "print(soma_numeros)"
   ]
  },
  {
   "cell_type": "markdown",
   "id": "8544137a",
   "metadata": {
    "id": "doCn6uUL2Y3x"
   },
   "source": [
    " - Todos os métodos de uma vez."
   ]
  },
  {
   "cell_type": "code",
   "execution_count": 266,
   "id": "66ddbca9",
   "metadata": {
    "id": "q1-5TW0H2ceS"
   },
   "outputs": [
    {
     "name": "stdout",
     "output_type": "stream",
     "text": [
      "148666\n"
     ]
    }
   ],
   "source": [
    "soma_numeros = reduce(lambda x, y: x + y, filter(lambda numero: numero % 2 != 0, map(lambda numero: numero ** 2, numeros)))\n",
    "print(soma_numeros)"
   ]
  },
  {
   "cell_type": "markdown",
   "id": "0c1a664e",
   "metadata": {},
   "source": [
    "### PROGRAMAS"
   ]
  },
  {
   "cell_type": "code",
   "execution_count": 267,
   "id": "683d7376",
   "metadata": {},
   "outputs": [
    {
     "name": "stdout",
     "output_type": "stream",
     "text": [
      "Ok\n"
     ]
    }
   ],
   "source": [
    "print(\"Ok\")"
   ]
  },
  {
   "cell_type": "code",
   "execution_count": 268,
   "id": "24b10801",
   "metadata": {},
   "outputs": [
    {
     "name": "stdout",
     "output_type": "stream",
     "text": [
      "Nome\n",
      "Nome\n",
      "Nome\n",
      "Nome\n",
      "Nome\n"
     ]
    }
   ],
   "source": [
    "def ok():\n",
    "    print(\"Nome\")\n",
    "\n",
    "o = [ok() for _ in range(0, 5)]"
   ]
  },
  {
   "cell_type": "markdown",
   "id": "186c9a27",
   "metadata": {
    "id": "KJqp9AANOCtf"
   },
   "source": [
    "<img src=\"https://raw.githubusercontent.com/enzoschitini/repository-data-science-library/main/Python%20Notebook/img/Programa%C3%A7%C3%A3o%20Orientada%20a%20Objetos.png\" alt=\"ebac-logo\">\n",
    "\n",
    "---\n",
    "\n",
    "# **Módulo 06** | Python: Programação Orientada a Objetos\n",
    "Caderno de **Aula**<br> \n",
    "Desenvolvedor [Enzo Schitini](https://enzo-schitini.bubbleapps.io/version-test/)\n",
    "\n",
    "---"
   ]
  },
  {
   "cell_type": "markdown",
   "id": "227c823a",
   "metadata": {
    "id": "d9jDtUbDOE1-"
   },
   "source": [
    "# **Tópicos**\n",
    "\n",
    "<ol type=\"1\">\n",
    "  <li>Um pouco de teoria;</li>\n",
    "  <li>Classes;</li>\n",
    "  <li>Objetos;</li>\n",
    "  <li>Herança.</li>\n",
    "</ol>"
   ]
  },
  {
   "cell_type": "markdown",
   "id": "7eda7ae3",
   "metadata": {
    "id": "SmoHgt-lwkpD"
   },
   "source": [
    "---"
   ]
  },
  {
   "cell_type": "markdown",
   "id": "ce31a15c",
   "metadata": {
    "id": "GABI6OW8OfQ2"
   },
   "source": [
    "# **Aulas**"
   ]
  },
  {
   "cell_type": "markdown",
   "id": "bfc5a0f0",
   "metadata": {
    "id": "SB6t60yExrvH"
   },
   "source": [
    "## 0\\. Paradigmas de Programação"
   ]
  },
  {
   "cell_type": "markdown",
   "id": "42c6d0fe",
   "metadata": {
    "id": "UlwvYXdqxzEe"
   },
   "source": [
    "Estilos de programação.\n",
    "\n",
    "1.   Imperativa;\n",
    "2.   Funcional;\n",
    "3.   Orientada a objetos.\n",
    "\n"
   ]
  },
  {
   "cell_type": "markdown",
   "id": "e537a2ea",
   "metadata": {
    "id": "Z1zeqH6gzCam"
   },
   "source": [
    "O Python é uma linguagem [multi-paradigma](https://en.wikipedia.org/wiki/Python_(programming_language))."
   ]
  },
  {
   "cell_type": "markdown",
   "id": "c36a7d99",
   "metadata": {
    "id": "8oxkS64ky-oS"
   },
   "source": [
    "\n",
    "\n",
    "![Screenshot from 2021-03-29 22-42-04.png](data:image/png;base64,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)"
   ]
  },
  {
   "cell_type": "markdown",
   "id": "f5c75539",
   "metadata": {
    "id": "muD1vxozykSC"
   },
   "source": [
    "## 1\\. Um pouco de teoria"
   ]
  },
  {
   "cell_type": "markdown",
   "id": "f2adf07b",
   "metadata": {
    "id": "5a3_syBIP6yO"
   },
   "source": [
    "### **1.1. Classe** "
   ]
  },
  {
   "cell_type": "markdown",
   "id": "62982aee",
   "metadata": {
    "id": "MpX6DhL928sy"
   },
   "source": [
    "Uma representação de um elemento, real ou não. Uma receita para criar objetos (instâncias). \n",
    "<br>\n",
    "**Exemplo**: pessoa."
   ]
  },
  {
   "cell_type": "markdown",
   "id": "28e59eb3",
   "metadata": {
    "id": "E6D5rjlESJ1A"
   },
   "source": [
    "### **1.2. Objeto** "
   ]
  },
  {
   "cell_type": "markdown",
   "id": "859cdde8",
   "metadata": {
    "id": "3vmBrVEt3N5O"
   },
   "source": [
    "Uma instancia de uma classe. Dá vida a receita (classe). \n",
    "<br>\n",
    "**Exemplo**: André é um instância da classe pessoa."
   ]
  },
  {
   "cell_type": "markdown",
   "id": "6577d175",
   "metadata": {
    "id": "wNkFG1qKSU9M"
   },
   "source": [
    "### **1.3. Herança** "
   ]
  },
  {
   "cell_type": "markdown",
   "id": "d70d2b83",
   "metadata": {
    "id": "Lcf46pcn3ePV"
   },
   "source": [
    "Uma especialização da classe. \n",
    "<br>\n",
    "**Exemplo**: estudante é um tipo especial de pessoa.\n",
    "\n"
   ]
  },
  {
   "cell_type": "markdown",
   "id": "8dbbfdfa",
   "metadata": {
    "id": "4rRCvy_UURrM"
   },
   "source": [
    "## 2\\. Classes"
   ]
  },
  {
   "cell_type": "markdown",
   "id": "6a8fe651",
   "metadata": {
    "id": "cOZDKbe6URrb"
   },
   "source": [
    "### **2.1. Definição** "
   ]
  },
  {
   "cell_type": "markdown",
   "id": "0f3209c1",
   "metadata": {
    "id": "PfgS0R-lApZy"
   },
   "source": [
    "Uma classe é uma receita para criação de objetos."
   ]
  },
  {
   "cell_type": "markdown",
   "id": "d9bc0cc4",
   "metadata": {
    "id": "8TPB6ec6_SJ1"
   },
   "source": [
    "```python\n",
    "class NomeClasse(object):\n",
    "\n",
    "  def __init__(self, params):\n",
    "    self.atributo1 = ...\n",
    "    self.atributo2 = ...\n",
    "\n",
    "  def metodo1(self, params):\n",
    "    ...\n",
    "\n",
    "  def metodo2(self, params):\n",
    "    ...\n",
    "```"
   ]
  },
  {
   "cell_type": "code",
   "execution_count": 269,
   "id": "b11840fe",
   "metadata": {
    "id": "xeb9YV52W1sU"
   },
   "outputs": [],
   "source": [
    "class Pessoa(object):\n",
    "\n",
    "  def __init__(self):\n",
    "    pass"
   ]
  },
  {
   "cell_type": "markdown",
   "id": "9aa2cf49",
   "metadata": {
    "id": "5q6xcwOWURrc"
   },
   "source": [
    "### **2.2. Atributos** "
   ]
  },
  {
   "cell_type": "markdown",
   "id": "2f47c39e",
   "metadata": {
    "id": "M7SbjL8wW9aH"
   },
   "source": [
    "Representam as caracteristicas da classe."
   ]
  },
  {
   "cell_type": "code",
   "execution_count": 270,
   "id": "43a323c4",
   "metadata": {
    "id": "sy1ayfGeXPYS"
   },
   "outputs": [],
   "source": [
    "class Pessoa(object):\n",
    "\n",
    "  def __init__(self, nome: str, idade: int, documento: str):\n",
    "    self.nome = nome\n",
    "    self.idade = idade\n",
    "    self.documento = documento"
   ]
  },
  {
   "cell_type": "markdown",
   "id": "a550324d",
   "metadata": {
    "id": "WxnG-e3HURrd"
   },
   "source": [
    "### **2.3. Métodos** "
   ]
  },
  {
   "cell_type": "markdown",
   "id": "ee5c3dc8",
   "metadata": {
    "id": "0Sz9Y95rXLTp"
   },
   "source": [
    "Representam as ações da classe."
   ]
  },
  {
   "cell_type": "code",
   "execution_count": 271,
   "id": "bb247c2c",
   "metadata": {
    "id": "gz7YgIC19HIN"
   },
   "outputs": [],
   "source": [
    "from time import sleep\n",
    "\n",
    "class Pessoa(object):\n",
    "  \n",
    "  def __init__(self, nome: str, idade: int, documento: str = None):\n",
    "    self.nome = nome\n",
    "    self.idade = idade\n",
    "    self.documento = documento\n",
    "\n",
    "  def dormir(self, horas: int) -> None:\n",
    "    for hora in range(1,horas+1):\n",
    "      print(f'Dormindo por {hora} horas')\n",
    "      sleep(1)\n",
    "\n",
    "  def falar(self, texto: str) -> None:\n",
    "    print(texto)\n",
    "\n",
    "  def __str__(self) -> str:\n",
    "    return f'{self.nome}, {self.idade} anos e documento numero {self.documento}'"
   ]
  },
  {
   "cell_type": "markdown",
   "id": "0d4bd9c9",
   "metadata": {
    "id": "ELgoMRAAUSjv"
   },
   "source": [
    "## 3\\. Objetos"
   ]
  },
  {
   "cell_type": "markdown",
   "id": "cf347858",
   "metadata": {
    "id": "JENLdmHkUSjx"
   },
   "source": [
    "### **3.1. Definição** "
   ]
  },
  {
   "cell_type": "markdown",
   "id": "0461bb2b",
   "metadata": {
    "id": "3tkohESXA5jJ"
   },
   "source": [
    "Uma objeto é uma instância de uma classe."
   ]
  },
  {
   "cell_type": "markdown",
   "id": "8a2f794e",
   "metadata": {
    "id": "nNm06am7BBx8"
   },
   "source": [
    "```python\n",
    "class NomeClasse(object):\n",
    "  ...\n",
    "\n",
    "objeto = NomeClasse()\n",
    "\n",
    "objeto.atributo\n",
    "objeto.metodo()\n",
    "```"
   ]
  },
  {
   "cell_type": "code",
   "execution_count": 272,
   "id": "f230bdce",
   "metadata": {
    "id": "fODJL9sX-54z"
   },
   "outputs": [],
   "source": [
    "andre = Pessoa(nome='Andre Perez', idade=30, documento='123')\n",
    "maria = Pessoa(nome='Maria Perez', idade=56, documento='456')\n",
    "pedro = Pessoa(nome='Pedro Perez', idade=8)"
   ]
  },
  {
   "cell_type": "markdown",
   "id": "7083ec51",
   "metadata": {
    "id": "qcHSzY6kUSjy"
   },
   "source": [
    "### **3.2. Manipulação** "
   ]
  },
  {
   "cell_type": "markdown",
   "id": "87280fdf",
   "metadata": {
    "id": "59u5PjgKAQOa"
   },
   "source": [
    " - Atributos"
   ]
  },
  {
   "cell_type": "code",
   "execution_count": 273,
   "id": "4b828518",
   "metadata": {
    "id": "1CP17438_gsv"
   },
   "outputs": [
    {
     "name": "stdout",
     "output_type": "stream",
     "text": [
      "Andre Perez\n"
     ]
    }
   ],
   "source": [
    "print(andre.nome)"
   ]
  },
  {
   "cell_type": "code",
   "execution_count": 274,
   "id": "b39b8204",
   "metadata": {
    "id": "PAxxJJv6_nRn"
   },
   "outputs": [
    {
     "name": "stdout",
     "output_type": "stream",
     "text": [
      "Andre Perez é maior de idade\n"
     ]
    }
   ],
   "source": [
    "def maior_de_idade(idade: int) -> bool:\n",
    "  return idade >= 18\n",
    "\n",
    "if maior_de_idade(idade=andre.idade):\n",
    "  print(f'{andre.nome} é maior de idade')"
   ]
  },
  {
   "cell_type": "code",
   "execution_count": 275,
   "id": "d751139a",
   "metadata": {
    "id": "49_RxGbH_uH_"
   },
   "outputs": [
    {
     "name": "stdout",
     "output_type": "stream",
     "text": [
      "750\n"
     ]
    }
   ],
   "source": [
    "score_credito = {'123': 750, '456': 812, '789': 327}\n",
    "\n",
    "score = score_credito[andre.documento]\n",
    "print(score)"
   ]
  },
  {
   "cell_type": "markdown",
   "id": "66f4424e",
   "metadata": {
    "id": "0p3BtPtiATeU"
   },
   "source": [
    " - Métodos"
   ]
  },
  {
   "cell_type": "code",
   "execution_count": 276,
   "id": "afdfc272",
   "metadata": {
    "id": "QqNBf8JtAJ40"
   },
   "outputs": [
    {
     "name": "stdout",
     "output_type": "stream",
     "text": [
      "Dormindo por 1 horas\n",
      "Dormindo por 2 horas\n",
      "Dormindo por 3 horas\n",
      "Dormindo por 4 horas\n",
      "Dormindo por 5 horas\n",
      "Dormindo por 6 horas\n",
      "Dormindo por 7 horas\n",
      "Dormindo por 8 horas\n"
     ]
    }
   ],
   "source": [
    "andre.dormir(horas=8)"
   ]
  },
  {
   "cell_type": "code",
   "execution_count": 277,
   "id": "8453cc98",
   "metadata": {
    "id": "juWXs22hAl33"
   },
   "outputs": [
    {
     "name": "stdout",
     "output_type": "stream",
     "text": [
      "Olá pessoal!\n"
     ]
    }
   ],
   "source": [
    "andre.falar(texto='Olá pessoal!')"
   ]
  },
  {
   "cell_type": "code",
   "execution_count": 278,
   "id": "bd8eb55c",
   "metadata": {
    "id": "ksrG1YpoAuA6"
   },
   "outputs": [
    {
     "name": "stdout",
     "output_type": "stream",
     "text": [
      "Andre Perez, 30 anos e documento numero 123\n"
     ]
    }
   ],
   "source": [
    "print(andre)"
   ]
  },
  {
   "cell_type": "code",
   "execution_count": 279,
   "id": "b4232d1b",
   "metadata": {
    "id": "EVvF-vr8PeYi"
   },
   "outputs": [
    {
     "data": {
      "text/plain": [
       "__main__.Pessoa"
      ]
     },
     "execution_count": 279,
     "metadata": {},
     "output_type": "execute_result"
    }
   ],
   "source": [
    "type(andre)"
   ]
  },
  {
   "cell_type": "markdown",
   "id": "a5c5a0fc",
   "metadata": {
    "id": "rmQnZl6lPcJM"
   },
   "source": [
    "### **3.3. Exemplos** "
   ]
  },
  {
   "cell_type": "markdown",
   "id": "5fe5c50a",
   "metadata": {
    "id": "Ln0er0RdQn1I"
   },
   "source": [
    " - Tudo no Python é um objeto!"
   ]
  },
  {
   "cell_type": "code",
   "execution_count": 280,
   "id": "c0228e63",
   "metadata": {
    "id": "3UiH2tR3QrFM"
   },
   "outputs": [],
   "source": [
    "tipos = [type(10), type(1.1), type('EBAC'), type(True), type(None), type([1, 2, 3]), type({1, 2, 3}), type({'janeiro': 1}), type(lambda x: x)]"
   ]
  },
  {
   "cell_type": "code",
   "execution_count": 281,
   "id": "cf8bc9d3",
   "metadata": {
    "id": "h9il3iRZRFGD"
   },
   "outputs": [
    {
     "name": "stdout",
     "output_type": "stream",
     "text": [
      "<class 'int'>\n",
      "<class 'float'>\n",
      "<class 'str'>\n",
      "<class 'bool'>\n",
      "<class 'NoneType'>\n",
      "<class 'list'>\n",
      "<class 'set'>\n",
      "<class 'dict'>\n",
      "<class 'function'>\n"
     ]
    }
   ],
   "source": [
    "for tipo in tipos:\n",
    "  print(tipo)"
   ]
  },
  {
   "cell_type": "code",
   "execution_count": 282,
   "id": "cbaaa564",
   "metadata": {
    "id": "3I0GvnUNRLjG"
   },
   "outputs": [
    {
     "name": "stdout",
     "output_type": "stream",
     "text": [
      "ANDRE PEREZ\n"
     ]
    }
   ],
   "source": [
    "nome = 'Andre Perez'\n",
    "print(nome.upper())"
   ]
  },
  {
   "cell_type": "code",
   "execution_count": 283,
   "id": "ad6bd91c",
   "metadata": {
    "id": "U25scN3CRW3a"
   },
   "outputs": [
    {
     "name": "stdout",
     "output_type": "stream",
     "text": [
      "0.07\n"
     ]
    }
   ],
   "source": [
    "juros = [0.02, 0.07, 0.15]\n",
    "print(juros.pop(1))"
   ]
  },
  {
   "cell_type": "markdown",
   "id": "82e0645c",
   "metadata": {
    "id": "zkTfaI4JSF2D"
   },
   "source": [
    " - Classe Arquivo CSV"
   ]
  },
  {
   "cell_type": "code",
   "execution_count": 284,
   "id": "93e3cc88",
   "metadata": {
    "id": "EzB9yr5DSEjE"
   },
   "outputs": [],
   "source": [
    "class ArquivoCSV(object):\n",
    "\n",
    "  def __init__(self, arquivo: str):\n",
    "    self.arquivo = arquivo\n",
    "    self.conteudo = self._extrair_conteudo()\n",
    "    self.colunas = self._extrair_nome_colunas()\n",
    "\n",
    "  def _extrair_conteudo(self):\n",
    "    conteudo = None\n",
    "    with open(file=self.arquivo, mode='r', encoding='utf8') as arquivo:\n",
    "      conteudo = arquivo.readlines()\n",
    "    return conteudo\n",
    "\n",
    "  def _extrair_nome_colunas(self):\n",
    "    return self.conteudo[0].strip().split(sep=',')\n",
    "\n",
    "  def extrair_coluna(self, indice_coluna: str):\n",
    "    coluna = list()\n",
    "    for linha in self.conteudo:\n",
    "      conteudo_linha = linha.strip().split(sep=',')\n",
    "      coluna.append(conteudo_linha[indice_coluna])\n",
    "    coluna.pop(0)\n",
    "    return coluna"
   ]
  },
  {
   "cell_type": "markdown",
   "id": "57752506",
   "metadata": {},
   "source": [
    "#### Função `strip() com split()`"
   ]
  },
  {
   "cell_type": "code",
   "execution_count": 285,
   "id": "f2dd72d7",
   "metadata": {},
   "outputs": [
    {
     "name": "stdout",
     "output_type": "stream",
     "text": [
      "banana\n",
      "banana\n",
      "['O', 'gato', 'pulou', 'sobre', 'o', 'muro']\n"
     ]
    }
   ],
   "source": [
    "# Exemplo 1: Removendo espaços em branco\n",
    "fruta = \" banana \"\n",
    "print(fruta.strip())  # Saída: \"banana\"\n",
    "\n",
    "# Exemplo 2: Removendo caracteres específicos\n",
    "fruta = \",,,,,rrttgg.....banana....rrr\"\n",
    "print(fruta.strip(\",.grt\"))  # Saída: \"banana\"\n",
    "\n",
    "# Exemplo: Removendo espaços em branco e dividindo uma string\n",
    "frase = \" O gato pulou sobre o muro \"\n",
    "palavras = frase.strip().split()\n",
    "print(palavras)  # Saída: ['O', 'gato', 'pulou', 'sobre', 'o', 'muro']"
   ]
  },
  {
   "cell_type": "code",
   "execution_count": 286,
   "id": "cc13dd98",
   "metadata": {
    "id": "1sZkU7-ASh6C"
   },
   "outputs": [
    {
     "name": "stdout",
     "output_type": "stream",
     "text": [
      "Overwriting banco.csv\n"
     ]
    }
   ],
   "source": [
    "%%writefile banco.csv\n",
    "age,job,marital,education,default,balance,housing,loan\n",
    "30,unemployed,married,primary,no,1787,no,no\n",
    "33,services,married,secondary,no,4789,yes,yes\n",
    "35,management,single,tertiary,no,1350,yes,no\n",
    "30,management,married,tertiary,no,1476,yes,yes\n",
    "59,blue-collar,married,secondary,no,0,yes,no\n",
    "35,management,single,tertiary,no,747,no,no\n",
    "36,self-employed,married,tertiary,no,307,yes,no\n",
    "39,technician,married,secondary,no,147,yes,no\n",
    "41,entrepreneur,married,tertiary,no,221,yes,no\n",
    "43,services,married,primary,no,-88,yes,yes"
   ]
  },
  {
   "cell_type": "code",
   "execution_count": 287,
   "id": "76183d86",
   "metadata": {
    "id": "fMkZ34F_UhCZ"
   },
   "outputs": [],
   "source": [
    "arquivo_banco = ArquivoCSV(arquivo='./banco.csv')"
   ]
  },
  {
   "cell_type": "code",
   "execution_count": 288,
   "id": "16ecab07",
   "metadata": {},
   "outputs": [
    {
     "name": "stdout",
     "output_type": "stream",
     "text": [
      "['age,job,marital,education,default,balance,housing,loan\\n', '30,unemployed,married,primary,no,1787,no,no\\n', '33,services,married,secondary,no,4789,yes,yes\\n', '35,management,single,tertiary,no,1350,yes,no\\n', '30,management,married,tertiary,no,1476,yes,yes\\n', '59,blue-collar,married,secondary,no,0,yes,no\\n', '35,management,single,tertiary,no,747,no,no\\n', '36,self-employed,married,tertiary,no,307,yes,no\\n', '39,technician,married,secondary,no,147,yes,no\\n', '41,entrepreneur,married,tertiary,no,221,yes,no\\n', '43,services,married,primary,no,-88,yes,yes\\n']\n"
     ]
    }
   ],
   "source": [
    "cont = arquivo_banco._extrair_conteudo()\n",
    "print(cont)"
   ]
  },
  {
   "cell_type": "code",
   "execution_count": 289,
   "id": "2a409bcc",
   "metadata": {
    "id": "ivDNQa5cUo-r"
   },
   "outputs": [
    {
     "name": "stdout",
     "output_type": "stream",
     "text": [
      "['age', 'job', 'marital', 'education', 'default', 'balance', 'housing', 'loan']\n"
     ]
    }
   ],
   "source": [
    "print(arquivo_banco.colunas)"
   ]
  },
  {
   "cell_type": "markdown",
   "id": "0bc5895a",
   "metadata": {
    "id": "Z1bLt-q7V7MX"
   },
   "source": [
    " - Extraindo a coluna de `job`\n",
    "\n"
   ]
  },
  {
   "cell_type": "code",
   "execution_count": 290,
   "id": "4c9d23a5",
   "metadata": {
    "id": "0U3KGRVVU3mA"
   },
   "outputs": [
    {
     "name": "stdout",
     "output_type": "stream",
     "text": [
      "['unemployed', 'services', 'management', 'management', 'blue-collar', 'management', 'self-employed', 'technician', 'entrepreneur', 'services']\n"
     ]
    }
   ],
   "source": [
    "job = arquivo_banco.extrair_coluna(indice_coluna=1)\n",
    "print(job)"
   ]
  },
  {
   "cell_type": "markdown",
   "id": "e5d9df4a",
   "metadata": {
    "id": "ky-E74-xWDL9"
   },
   "source": [
    " - Extraindo a coluna de `education`\n",
    "\n"
   ]
  },
  {
   "cell_type": "code",
   "execution_count": 291,
   "id": "7ae46e1c",
   "metadata": {
    "id": "bVqfe_XgWCaV"
   },
   "outputs": [
    {
     "name": "stdout",
     "output_type": "stream",
     "text": [
      "['primary', 'secondary', 'tertiary', 'tertiary', 'secondary', 'tertiary', 'tertiary', 'secondary', 'tertiary', 'primary']\n"
     ]
    }
   ],
   "source": [
    "education = arquivo_banco.extrair_coluna(indice_coluna=3)\n",
    "print(education)"
   ]
  },
  {
   "cell_type": "markdown",
   "id": "267d244a",
   "metadata": {
    "id": "f20ThY5WXmns"
   },
   "source": [
    "## 4\\. Herança"
   ]
  },
  {
   "cell_type": "markdown",
   "id": "b0852e8e",
   "metadata": {
    "id": "FlUhkpdwXmoJ"
   },
   "source": [
    "### **4.1. Definição** "
   ]
  },
  {
   "cell_type": "markdown",
   "id": "017cc629",
   "metadata": {},
   "source": [
    "Todo estudante é uma pessoa mas nem toda pessoa é um estudante. Por isso usamos as `Heranças` para que os estudandes possam compartilhar as caracteristicas das pessoas."
   ]
  },
  {
   "cell_type": "markdown",
   "id": "74dcdd95",
   "metadata": {
    "id": "M5f94O9FBwpH"
   },
   "source": [
    "Uma especialização da classe."
   ]
  },
  {
   "cell_type": "markdown",
   "id": "380b1294",
   "metadata": {
    "id": "scTohlRCBzqY"
   },
   "source": [
    "```python\n",
    "class NomeClasse(object):\n",
    "\n",
    "  def __init__(self, params):\n",
    "    ...\n",
    "\n",
    "class NomeClasseEspecializada(NomeClasse):\n",
    "\n",
    "  def __init__(self, params):\n",
    "    super().__init__(self, params)\n",
    "    self.atributo3 = ...\n",
    "    self.atributo4 = ...\n",
    "\n",
    "  def metodo3(self, params):\n",
    "    ...\n",
    "\n",
    "  def metodo4(self, params):\n",
    "    ...\n",
    "```"
   ]
  },
  {
   "cell_type": "markdown",
   "id": "5c1014da",
   "metadata": {
    "id": "k-JjYMa9EZK6"
   },
   "source": [
    "Repetindo a definição da classe `Pessoa`:"
   ]
  },
  {
   "cell_type": "code",
   "execution_count": 292,
   "id": "4c4dcc75",
   "metadata": {
    "id": "tKrbvPcNBaHg"
   },
   "outputs": [],
   "source": [
    "from time import sleep\n",
    "\n",
    "class Pessoa(object):\n",
    "\n",
    "  def __init__(self, nome: str, idade: int, documento: str=None):\n",
    "    self.nome = nome\n",
    "    self.idade = idade\n",
    "    self.documento = documento\n",
    "\n",
    "  def dormir(self, horas: int) -> None:\n",
    "    for hora in range(1,horas+1):\n",
    "      print(f'Dormindo por {hora} horas')\n",
    "      sleep(1)\n",
    "\n",
    "  def falar(self, texto: str) -> None:\n",
    "    print(texto)\n",
    "\n",
    "  def __str__(self) -> str:\n",
    "    return f'{self.nome}, {self.idade} anos e documento numero {self.documento}'"
   ]
  },
  {
   "cell_type": "markdown",
   "id": "d3e5394b",
   "metadata": {
    "id": "f81MO_SnEoXA"
   },
   "source": [
    "Criando a classe `Universidade`"
   ]
  },
  {
   "cell_type": "code",
   "execution_count": 293,
   "id": "3037ea31",
   "metadata": {
    "id": "J8M5xmtECbi9"
   },
   "outputs": [],
   "source": [
    "class Universidade(object):\n",
    "\n",
    "  def __init__(self, nome: str):\n",
    "    self.nome = nome"
   ]
  },
  {
   "cell_type": "markdown",
   "id": "7d24e93c",
   "metadata": {
    "id": "0zGYlF0nEg5D"
   },
   "source": [
    "Especializando a classe `Pessoa` na classe `Estudante`:"
   ]
  },
  {
   "cell_type": "code",
   "execution_count": 294,
   "id": "f0b14f74",
   "metadata": {
    "id": "ItDC2E7fBPG4"
   },
   "outputs": [],
   "source": [
    "class Estudante(Pessoa):\n",
    "\n",
    "  def __init__(self, nome: str, idade: int, documento: str, universidade: Universidade):\n",
    "\n",
    "    super().__init__(nome=nome, idade=idade, documento=documento)\n",
    "    self.universidade = universidade"
   ]
  },
  {
   "cell_type": "markdown",
   "id": "fb5a5800",
   "metadata": {
    "id": "mU0sJeoCXmoK"
   },
   "source": [
    "### **4.2. Manipulação** "
   ]
  },
  {
   "cell_type": "code",
   "execution_count": 295,
   "id": "1d777e24",
   "metadata": {
    "id": "S3tvDyIRCc9K"
   },
   "outputs": [],
   "source": [
    "usp = Universidade(nome='Universidade de São Paulo')\n",
    "andre = Estudante(nome='Andre Perez', idade=30, documento='123', universidade=usp)"
   ]
  },
  {
   "cell_type": "code",
   "execution_count": 296,
   "id": "2d1c28bb",
   "metadata": {
    "id": "6CV8n41sCywb"
   },
   "outputs": [
    {
     "name": "stdout",
     "output_type": "stream",
     "text": [
      "Andre Perez, 30 anos e documento numero 123\n"
     ]
    }
   ],
   "source": [
    "print(andre)"
   ]
  },
  {
   "cell_type": "code",
   "execution_count": 297,
   "id": "463c6e16",
   "metadata": {
    "id": "jQr3LnEkCtmF"
   },
   "outputs": [
    {
     "name": "stdout",
     "output_type": "stream",
     "text": [
      "Universidade de São Paulo\n"
     ]
    }
   ],
   "source": [
    "print(andre.universidade.nome)"
   ]
  },
  {
   "cell_type": "markdown",
   "id": "67a3fe95",
   "metadata": {
    "id": "KJqp9AANOCtf"
   },
   "source": [
    "<img src=\"https://raw.githubusercontent.com/enzoschitini/repository-data-science-library/main/Python%20Notebook/img/M%C3%B3dulos%20%26%20Pacotes.png\" alt=\"ebac-logo\">\n",
    "\n",
    "---\n",
    "\n",
    "# **Módulo 07** | Python: Módulos & Pacotes\n",
    "Caderno de **Aula**<br> \n",
    "Desenvolvedor [Enzo Schitini](https://enzo-schitini.bubbleapps.io/version-test/)\n",
    "\n",
    "---"
   ]
  },
  {
   "cell_type": "markdown",
   "id": "73ee8ebd",
   "metadata": {
    "id": "d9jDtUbDOE1-"
   },
   "source": [
    "# **Tópicos**\n",
    "\n",
    "<ol type=\"1\">\n",
    "  <li>from / import / as;</li>\n",
    "  <li>Módulo;</li>\n",
    "  <li>Pacote;</li>\n",
    "  <li>Baixando pacotes.</li>\n",
    "</ol>"
   ]
  },
  {
   "cell_type": "markdown",
   "id": "6632cdc7",
   "metadata": {
    "id": "SmoHgt-lwkpD"
   },
   "source": [
    "---"
   ]
  },
  {
   "cell_type": "markdown",
   "id": "e4b88a13",
   "metadata": {
    "id": "GABI6OW8OfQ2"
   },
   "source": [
    "# **Aulas**"
   ]
  },
  {
   "cell_type": "markdown",
   "id": "599d3c96",
   "metadata": {
    "id": "muD1vxozykSC"
   },
   "source": [
    "## 1\\. from / import / as"
   ]
  },
  {
   "cell_type": "markdown",
   "id": "a446caf7",
   "metadata": {
    "id": "otv_qcsJmWkr"
   },
   "source": [
    "Os módulos nativos do Python podem ser encontrados neste [link](https://docs.python.org/3/py-modindex.html)."
   ]
  },
  {
   "cell_type": "markdown",
   "id": "da1b5b3e",
   "metadata": {
    "id": "5a3_syBIP6yO"
   },
   "source": [
    "### **1.1. import** "
   ]
  },
  {
   "cell_type": "markdown",
   "id": "e1d52655",
   "metadata": {
    "id": "NglCEvJDmqkw"
   },
   "source": [
    "**Exemplo:** `random`"
   ]
  },
  {
   "cell_type": "code",
   "execution_count": 298,
   "id": "032d55a1",
   "metadata": {
    "id": "s3TYcbzAlgxe"
   },
   "outputs": [],
   "source": [
    "import random"
   ]
  },
  {
   "cell_type": "code",
   "execution_count": 299,
   "id": "6aa38a1e",
   "metadata": {
    "id": "Bqz8RRXwljEe"
   },
   "outputs": [
    {
     "name": "stdout",
     "output_type": "stream",
     "text": [
      "1\n"
     ]
    }
   ],
   "source": [
    "escolha = random.choice([1, 2, 3])\n",
    "print(escolha)"
   ]
  },
  {
   "cell_type": "code",
   "execution_count": 300,
   "id": "3f06f493",
   "metadata": {
    "id": "FGXZX082mp5C"
   },
   "outputs": [
    {
     "name": "stdout",
     "output_type": "stream",
     "text": [
      "0.05047264837932941\n"
     ]
    }
   ],
   "source": [
    "numero_aleatorio = random.random() # entre [0,1)\n",
    "print(numero_aleatorio)"
   ]
  },
  {
   "cell_type": "markdown",
   "id": "73bfb201",
   "metadata": {
    "id": "w44EAxw7nCA4"
   },
   "source": [
    "**Exemplo:** `math`"
   ]
  },
  {
   "cell_type": "code",
   "execution_count": 301,
   "id": "228e23ea",
   "metadata": {
    "id": "qEW9nFDmnE7w"
   },
   "outputs": [],
   "source": [
    "import math"
   ]
  },
  {
   "cell_type": "code",
   "execution_count": 302,
   "id": "7ff064da",
   "metadata": {
    "id": "LD1YND2WnF4-"
   },
   "outputs": [
    {
     "name": "stdout",
     "output_type": "stream",
     "text": [
      "10000000000.0\n"
     ]
    }
   ],
   "source": [
    "potencia = math.pow(10, 10)\n",
    "print(potencia)"
   ]
  },
  {
   "cell_type": "code",
   "execution_count": 303,
   "id": "31782aa7",
   "metadata": {
    "id": "FobSlEhinWIR"
   },
   "outputs": [
    {
     "name": "stdout",
     "output_type": "stream",
     "text": [
      "11\n"
     ]
    }
   ],
   "source": [
    "num = math.ceil(10.1)\n",
    "print(num)"
   ]
  },
  {
   "cell_type": "code",
   "execution_count": 304,
   "id": "5c00c707",
   "metadata": {
    "id": "WExZa8nMCxMl"
   },
   "outputs": [
    {
     "name": "stdout",
     "output_type": "stream",
     "text": [
      "3.141592653589793\n"
     ]
    }
   ],
   "source": [
    "print(math.pi)"
   ]
  },
  {
   "cell_type": "markdown",
   "id": "bd7c423d",
   "metadata": {
    "id": "E6D5rjlESJ1A"
   },
   "source": [
    "### **1.2. from, import** "
   ]
  },
  {
   "cell_type": "markdown",
   "id": "214f227d",
   "metadata": {
    "id": "bO66G3v8qMBu"
   },
   "source": [
    "**Exemplo:** `time`"
   ]
  },
  {
   "cell_type": "code",
   "execution_count": 305,
   "id": "736c65dc",
   "metadata": {
    "id": "C6V_G3BonpW7"
   },
   "outputs": [],
   "source": [
    "from time import time"
   ]
  },
  {
   "cell_type": "code",
   "execution_count": 306,
   "id": "768f6326",
   "metadata": {
    "id": "NtnIopHFns4L"
   },
   "outputs": [
    {
     "name": "stdout",
     "output_type": "stream",
     "text": [
      "1725630982.4563968\n"
     ]
    }
   ],
   "source": [
    "print(time())"
   ]
  },
  {
   "cell_type": "code",
   "execution_count": 307,
   "id": "cf29ce24",
   "metadata": {
    "id": "o_nRkCM9oTOW"
   },
   "outputs": [],
   "source": [
    "sleep(5)"
   ]
  },
  {
   "cell_type": "code",
   "execution_count": 308,
   "id": "130bbe21",
   "metadata": {
    "id": "JQzDzUysoXkp"
   },
   "outputs": [],
   "source": [
    "from time import time, sleep\n"
   ]
  },
  {
   "cell_type": "code",
   "execution_count": 309,
   "id": "cdd66a51",
   "metadata": {
    "id": "d4HJTqKOode6"
   },
   "outputs": [],
   "source": [
    "sleep(5)"
   ]
  },
  {
   "cell_type": "markdown",
   "id": "cb60247a",
   "metadata": {
    "id": "wNkFG1qKSU9M"
   },
   "source": [
    "### **1.3. from, import, as** "
   ]
  },
  {
   "cell_type": "markdown",
   "id": "5ba75137",
   "metadata": {
    "id": "KT8LkkzYqO1N"
   },
   "source": [
    "**Exemplo:** `datetime`"
   ]
  },
  {
   "cell_type": "code",
   "execution_count": 310,
   "id": "dab1ddba",
   "metadata": {
    "id": "X-FHA80Rqdv0"
   },
   "outputs": [],
   "source": [
    "from datetime import datetime as dt"
   ]
  },
  {
   "cell_type": "code",
   "execution_count": 311,
   "id": "2c5b446a",
   "metadata": {
    "id": "rXaUuslnqlLX"
   },
   "outputs": [
    {
     "name": "stdout",
     "output_type": "stream",
     "text": [
      "2024-09-06 10:56:32.519850\n"
     ]
    }
   ],
   "source": [
    "print(dt.now())"
   ]
  },
  {
   "cell_type": "code",
   "execution_count": 312,
   "id": "d231f78f",
   "metadata": {
    "id": "Tbrk8CJkq05Z"
   },
   "outputs": [
    {
     "name": "stdout",
     "output_type": "stream",
     "text": [
      "6\n"
     ]
    }
   ],
   "source": [
    "print(dt.now().day)"
   ]
  },
  {
   "cell_type": "code",
   "execution_count": 313,
   "id": "5bb914be",
   "metadata": {
    "id": "JJO0KMONrAX9"
   },
   "outputs": [
    {
     "name": "stdout",
     "output_type": "stream",
     "text": [
      "2024\n"
     ]
    }
   ],
   "source": [
    "print(dt.now().year)"
   ]
  },
  {
   "cell_type": "markdown",
   "id": "e44eb531",
   "metadata": {
    "id": "4rRCvy_UURrM"
   },
   "source": [
    "## 2\\. Módulos"
   ]
  },
  {
   "cell_type": "markdown",
   "id": "44b90a59",
   "metadata": {
    "id": "Y1W9Hv8fURrZ"
   },
   "source": [
    "### **2.1. Motivação** "
   ]
  },
  {
   "cell_type": "markdown",
   "id": "545eee52",
   "metadata": {
    "id": "7jdFzax1doaQ"
   },
   "source": [
    " - Classe Arquivo CSV"
   ]
  },
  {
   "cell_type": "code",
   "execution_count": 314,
   "id": "5f31350a",
   "metadata": {
    "id": "Ot1p6JXgdkmZ"
   },
   "outputs": [],
   "source": [
    "class ArquivoCSV(object):\n",
    "\n",
    "  def __init__(self, arquivo: str):\n",
    "    self.arquivo = arquivo\n",
    "    self.conteudo = self._extrair_conteudo()\n",
    "    self.colunas = self._extrair_nome_colunas()\n",
    "\n",
    "  def _extrair_conteudo(self):\n",
    "    conteudo = None\n",
    "    with open(file=self.arquivo, mode='r', encoding='utf8') as arquivo:\n",
    "      conteudo = arquivo.readlines()\n",
    "    return conteudo\n",
    "\n",
    "  def _extrair_nome_colunas(self):\n",
    "    return self.conteudo[0].strip().split(sep=',')\n",
    "\n",
    "  def extrair_coluna(self, indice_coluna: str):\n",
    "    coluna = list()\n",
    "    for linha in self.conteudo:\n",
    "      conteudo_linha = linha.strip().split(sep=',')\n",
    "      coluna.append(conteudo_linha[indice_coluna])\n",
    "    coluna.pop(0)\n",
    "    return coluna"
   ]
  },
  {
   "cell_type": "markdown",
   "id": "563b4d15",
   "metadata": {
    "id": "YEOtCmOzd-4X"
   },
   "source": [
    " - Arquivo banco.csv"
   ]
  },
  {
   "cell_type": "code",
   "execution_count": 315,
   "id": "0da61aa4",
   "metadata": {
    "id": "Bjfreo_ndzMZ"
   },
   "outputs": [
    {
     "name": "stdout",
     "output_type": "stream",
     "text": [
      "Overwriting banco.csv\n"
     ]
    }
   ],
   "source": [
    "%%writefile banco.csv\n",
    "age,job,marital,education,default,balance,housing,loan\n",
    "30,unemployed,married,primary,no,1787,no,no\n",
    "33,services,married,secondary,no,4789,yes,yes\n",
    "35,management,single,tertiary,no,1350,yes,no\n",
    "30,management,married,tertiary,no,1476,yes,yes\n",
    "59,blue-collar,married,secondary,no,0,yes,no\n",
    "35,management,single,tertiary,no,747,no,no\n",
    "36,self-employed,married,tertiary,no,307,yes,no\n",
    "39,technician,married,secondary,no,147,yes,no\n",
    "41,entrepreneur,married,tertiary,no,221,yes,no\n",
    "43,services,married,primary,no,-88,yes,yes"
   ]
  },
  {
   "cell_type": "code",
   "execution_count": 316,
   "id": "c7cedec7",
   "metadata": {
    "id": "cgWzJ8qKd3Aq"
   },
   "outputs": [],
   "source": [
    "arquivo_banco = ArquivoCSV(arquivo='./banco.csv')"
   ]
  },
  {
   "cell_type": "markdown",
   "id": "7ed4ee90",
   "metadata": {
    "id": "ky-E74-xWDL9"
   },
   "source": [
    " - Extraindo a coluna de `education`\n",
    "\n"
   ]
  },
  {
   "cell_type": "code",
   "execution_count": 317,
   "id": "9408be9c",
   "metadata": {
    "id": "bVqfe_XgWCaV"
   },
   "outputs": [
    {
     "name": "stdout",
     "output_type": "stream",
     "text": [
      "['primary', 'secondary', 'tertiary', 'tertiary', 'secondary', 'tertiary', 'tertiary', 'secondary', 'tertiary', 'primary']\n"
     ]
    }
   ],
   "source": [
    "education = arquivo_banco.extrair_coluna(indice_coluna=3)\n",
    "print(education)"
   ]
  },
  {
   "cell_type": "markdown",
   "id": "517cb4b8",
   "metadata": {
    "id": "cOZDKbe6URrb"
   },
   "source": [
    "### **2.2. Definição** "
   ]
  },
  {
   "cell_type": "markdown",
   "id": "1ec097ba",
   "metadata": {
    "id": "-E0EkgFkeKtr"
   },
   "source": [
    "Vamos criar um módulo (arquivo) com o nome `arquivo_csv.py` com o código da classe `ArquivoCSV`."
   ]
  },
  {
   "cell_type": "markdown",
   "id": "183751e9",
   "metadata": {
    "id": "H9C105KafVc-"
   },
   "source": [
    "### **2.3. Revisitando a motivação** "
   ]
  },
  {
   "cell_type": "markdown",
   "id": "344548e5",
   "metadata": {
    "id": "h6T_8leberoO"
   },
   "source": [
    "Vamos importar a classe `ArquivoCSV` do módulo (arquivo) `arquivo_csv.py`."
   ]
  },
  {
   "cell_type": "code",
   "execution_count": 318,
   "id": "afb70945",
   "metadata": {},
   "outputs": [
    {
     "name": "stdout",
     "output_type": "stream",
     "text": [
      "Writing arquivo_csv.py\n"
     ]
    }
   ],
   "source": [
    "%%writefile arquivo_csv.py\n",
    "\n",
    "class ArquivoCSV(object):\n",
    "\n",
    "    def __init__(self, arquivo: str):\n",
    "        self.arquivo = arquivo\n",
    "        self.conteudo = self._extrair_conteudo()\n",
    "        self.colunas = self._extrair_nome_colunas()\n",
    "\n",
    "    def _extrair_conteudo(self):\n",
    "        with open(file=self.arquivo, mode='r', encoding='utf8') as arquivo:\n",
    "            return arquivo.readlines()\n",
    "\n",
    "    def _extrair_nome_colunas(self):\n",
    "        return self.conteudo[0].strip().split(sep=',')\n",
    "\n",
    "    def extrair_coluna(self, indice_coluna: int):\n",
    "        coluna = []\n",
    "        for linha in self.conteudo[1:]:\n",
    "            conteudo_linha = linha.strip().split(sep=',')\n",
    "            coluna.append(conteudo_linha[indice_coluna])\n",
    "        return coluna\n",
    "\n",
    "    def soma(self, num):\n",
    "        return num + 1"
   ]
  },
  {
   "cell_type": "code",
   "execution_count": 319,
   "id": "136167ab",
   "metadata": {
    "id": "6FMSdv7MeZ0s"
   },
   "outputs": [],
   "source": [
    "from arquivo_csv import ArquivoCSV\n",
    "\n",
    "arquivo_banco_modulo = ArquivoCSV(arquivo='./banco.csv')"
   ]
  },
  {
   "cell_type": "code",
   "execution_count": 320,
   "id": "a8f6af23",
   "metadata": {
    "id": "D-aOjf-3efTd"
   },
   "outputs": [
    {
     "name": "stdout",
     "output_type": "stream",
     "text": [
      "['primary', 'secondary', 'tertiary', 'tertiary', 'secondary', 'tertiary', 'tertiary', 'secondary', 'tertiary', 'primary']\n"
     ]
    }
   ],
   "source": [
    "education = arquivo_banco_modulo.extrair_coluna(indice_coluna=3)\n",
    "print(education)"
   ]
  },
  {
   "cell_type": "code",
   "execution_count": 321,
   "id": "c8a91a44",
   "metadata": {},
   "outputs": [],
   "source": [
    "soma = arquivo_banco_modulo.soma(num=2)"
   ]
  },
  {
   "cell_type": "markdown",
   "id": "ccdfdc6c",
   "metadata": {
    "id": "ELgoMRAAUSjv"
   },
   "source": [
    "## 3\\. Pacotes"
   ]
  },
  {
   "cell_type": "markdown",
   "id": "e2d0eb36",
   "metadata": {
    "id": "CuLkQY76USjw"
   },
   "source": [
    "### **3.1. Motivação** "
   ]
  },
  {
   "cell_type": "markdown",
   "id": "631f09d4",
   "metadata": {
    "id": "ZgxxT_jafqew"
   },
   "source": [
    " - Classe Arquivo Texto"
   ]
  },
  {
   "cell_type": "code",
   "execution_count": 322,
   "id": "c6bab070",
   "metadata": {
    "id": "6ewvbQP9fn8G"
   },
   "outputs": [],
   "source": [
    "class ArquivoTXT(object):\n",
    "\n",
    "  def __init__(self, arquivo: str):\n",
    "    self.arquivo = arquivo\n",
    "    self.conteudo = self._extrair_conteudo()\n",
    "\n",
    "  def _extrair_conteudo(self):\n",
    "    conteudo = None\n",
    "    with open(file=self.arquivo, mode='r', encoding='utf8') as arquivo:\n",
    "      conteudo = arquivo.readlines()\n",
    "    return conteudo\n",
    "\n",
    "  def extrair_linha(self, numero_linha: int):\n",
    "    return self.conteudo[numero_linha-1]"
   ]
  },
  {
   "cell_type": "markdown",
   "id": "c11bd1d2",
   "metadata": {
    "id": "yZrvqrk8hMVw"
   },
   "source": [
    " - Arquivo noticia.txt"
   ]
  },
  {
   "cell_type": "code",
   "execution_count": 323,
   "id": "b106033e",
   "metadata": {
    "id": "3Z2JrlBQhCcv"
   },
   "outputs": [
    {
     "name": "stdout",
     "output_type": "stream",
     "text": [
      "Writing noticia.txt\n"
     ]
    }
   ],
   "source": [
    "%%writefile noticia.txt\n",
    "Egito cobra quase US$ 1 bi para liberar navio que bloqueou Canal de Suez\n",
    "Segundo autoridades, valor será utilizado para recompor as perdas provocados pelo encalhamento da embarcação de quase 400 metros"
   ]
  },
  {
   "cell_type": "code",
   "execution_count": 324,
   "id": "dfa59174",
   "metadata": {
    "id": "qDFlnC0zhUap"
   },
   "outputs": [],
   "source": [
    "arquivo_noticia = ArquivoTXT(arquivo='./noticia.txt')"
   ]
  },
  {
   "cell_type": "code",
   "execution_count": 325,
   "id": "42f7b68f",
   "metadata": {
    "id": "SJGiJvVBhci0"
   },
   "outputs": [
    {
     "name": "stdout",
     "output_type": "stream",
     "text": [
      "Egito cobra quase US$ 1 bi para liberar navio que bloqueou Canal de Suez\n",
      "\n"
     ]
    }
   ],
   "source": [
    "titulo = arquivo_noticia.extrair_linha(numero_linha=1)\n",
    "print(titulo)"
   ]
  },
  {
   "cell_type": "markdown",
   "id": "c2688f96",
   "metadata": {
    "id": "JENLdmHkUSjx"
   },
   "source": [
    "### **3.2. Definição** "
   ]
  },
  {
   "cell_type": "markdown",
   "id": "e6fc1904",
   "metadata": {
    "id": "hSseQ083h0pb"
   },
   "source": [
    "Vamos criar um módulo (arquivo) com o nome `arquivo_txt.py` com o código da classe `ArquivoTXT`."
   ]
  },
  {
   "cell_type": "markdown",
   "id": "f03df991",
   "metadata": {
    "id": "h0Y-s4Hch59-"
   },
   "source": [
    "Vamos criar um pacote (pasta) com o nome arquivo e mover os módulos (arquivos) `arquivo_csv.py` e `arquivo_txt.py` para ela."
   ]
  },
  {
   "cell_type": "markdown",
   "id": "af39376c",
   "metadata": {
    "id": "Nq0WCx8HUSjz"
   },
   "source": [
    "### **3.3. Revisitando a motivação** "
   ]
  },
  {
   "cell_type": "code",
   "execution_count": 326,
   "id": "6d36ad68",
   "metadata": {
    "id": "pKogPUlsif7C"
   },
   "outputs": [],
   "source": [
    "from arquivo_csv import ArquivoCSV\n",
    "#from arquivo_csv import ArquivoTXT"
   ]
  },
  {
   "cell_type": "code",
   "execution_count": 327,
   "id": "c5f9d743",
   "metadata": {
    "id": "zzHFt3R7i6DX"
   },
   "outputs": [],
   "source": [
    "arquivo_banco_pacote = ArquivoCSV(arquivo='./banco.csv')\n",
    "#arquivo_noticia_pacote = ArquivoTXT(arquivo='./noticia.txt')"
   ]
  },
  {
   "cell_type": "code",
   "execution_count": 328,
   "id": "38b71f58",
   "metadata": {
    "id": "3azao8bvi6pn"
   },
   "outputs": [
    {
     "name": "stdout",
     "output_type": "stream",
     "text": [
      "['primary', 'secondary', 'tertiary', 'tertiary', 'secondary', 'tertiary', 'tertiary', 'secondary', 'tertiary', 'primary']\n"
     ]
    }
   ],
   "source": [
    "education = arquivo_banco_modulo.extrair_coluna(indice_coluna=3)\n",
    "print(education)"
   ]
  },
  {
   "cell_type": "code",
   "execution_count": 329,
   "id": "e32c9291",
   "metadata": {
    "id": "ubb0QMwEi8Vw"
   },
   "outputs": [
    {
     "name": "stdout",
     "output_type": "stream",
     "text": [
      "Egito cobra quase US$ 1 bi para liberar navio que bloqueou Canal de Suez\n",
      "\n"
     ]
    }
   ],
   "source": [
    "titulo = arquivo_noticia.extrair_linha(numero_linha=1)\n",
    "print(titulo)"
   ]
  },
  {
   "cell_type": "markdown",
   "id": "96ba077e",
   "metadata": {
    "id": "f20ThY5WXmns"
   },
   "source": [
    "## 4\\. Baixando pacotes"
   ]
  },
  {
   "cell_type": "markdown",
   "id": "26d94956",
   "metadata": {
    "id": "FlUhkpdwXmoJ"
   },
   "source": [
    "### **4.1. PyPI** "
   ]
  },
  {
   "cell_type": "markdown",
   "id": "18e207cc",
   "metadata": {
    "id": "Z2JHp_YShhGK"
   },
   "source": [
    "Repositório oficial de pacotes Python ([link](https://pypi.org/))."
   ]
  },
  {
   "cell_type": "markdown",
   "id": "4a7a8418",
   "metadata": {
    "id": "mU0sJeoCXmoK"
   },
   "source": [
    "### **4.2. PIP** "
   ]
  },
  {
   "cell_type": "markdown",
   "id": "1890f042",
   "metadata": {
    "id": "H7sLz5Ohh2sQ"
   },
   "source": [
    "Ferramenta oficial para instalar pacotes Python armazenados no PyPI."
   ]
  },
  {
   "cell_type": "markdown",
   "id": "9d6f47e8",
   "metadata": {
    "id": "lk15K9eYhF8-"
   },
   "source": [
    " - Instalando pacotes: `pip install <pacote>==<versão>`"
   ]
  },
  {
   "cell_type": "code",
   "execution_count": 330,
   "id": "e9aa1602",
   "metadata": {
    "id": "6PmfjrO3kwE0"
   },
   "outputs": [],
   "source": [
    "#!pip install requests==2.25.1"
   ]
  },
  {
   "cell_type": "markdown",
   "id": "cd24e3d2",
   "metadata": {
    "id": "odETseuCiKgA"
   },
   "source": [
    " - Listando pacotes: `pip freeze`"
   ]
  },
  {
   "cell_type": "code",
   "execution_count": 331,
   "id": "873106ba",
   "metadata": {
    "id": "uVcu2I7miO0e"
   },
   "outputs": [],
   "source": [
    "#!pip freeze"
   ]
  },
  {
   "cell_type": "markdown",
   "id": "36f3e1af",
   "metadata": {
    "id": "euzwK_8VirCJ"
   },
   "source": [
    " - Removendo pacotes: `pip uninstall <pacote>`"
   ]
  },
  {
   "cell_type": "markdown",
   "id": "753034bf",
   "metadata": {
    "id": "IA0eGZQ4k24m"
   },
   "source": [
    "### **4.3. Requests** "
   ]
  },
  {
   "cell_type": "markdown",
   "id": "c237b9a9",
   "metadata": {
    "id": "aIS5dSmUlNDZ"
   },
   "source": [
    "Pacote para interação com o protocolo web HTTP ([link](https://pypi.org/project/requests/))."
   ]
  },
  {
   "cell_type": "markdown",
   "id": "38b1d391",
   "metadata": {
    "id": "tosUt4YUQ-Eq"
   },
   "source": [
    "**Exemplo:** Extrair a taxa CDI do site da B3."
   ]
  },
  {
   "cell_type": "code",
   "execution_count": 332,
   "id": "783f851b",
   "metadata": {
    "id": "FOA9GUgklXy_"
   },
   "outputs": [
    {
     "name": "stdout",
     "output_type": "stream",
     "text": [
      "Connection Error: Unable to connect to the server.\n"
     ]
    }
   ],
   "source": [
    "import requests\n",
    "from requests.exceptions import ConnectionError, Timeout, RequestException\n",
    "\n",
    "url = 'https://www2.cetip.com.br/ConsultarTaxaDi/ConsultarTaxaDICetip.aspx'\n",
    "\n",
    "try:\n",
    "    response = requests.get(url, timeout=10)\n",
    "    response.raise_for_status()  # Check if the request was successful\n",
    "    print(response.text)\n",
    "except ConnectionError:\n",
    "    print(\"Connection Error: Unable to connect to the server.\")\n",
    "except Timeout:\n",
    "    print(\"Timeout Error: The request timed out.\")\n",
    "except RequestException as e:\n",
    "    print(f\"An error occurred: {e}\")\n"
   ]
  },
  {
   "cell_type": "code",
   "execution_count": 333,
   "id": "6533ca6e",
   "metadata": {
    "id": "tgGpWa2ql3u2"
   },
   "outputs": [],
   "source": [
    "#print(f'status code: {response.status_code}')"
   ]
  },
  {
   "cell_type": "code",
   "execution_count": 334,
   "id": "9d71843b",
   "metadata": {
    "id": "dnQwEQ8tmAXt"
   },
   "outputs": [],
   "source": [
    "#print(response.text)"
   ]
  },
  {
   "cell_type": "code",
   "execution_count": 335,
   "id": "8e7eff3e",
   "metadata": {
    "id": "I64ho0ZaPhK1"
   },
   "outputs": [
    {
     "data": {
      "text/plain": [
       "'import json\\n\\ndata = json.loads(response.text)\\nprint(data)'"
      ]
     },
     "execution_count": 335,
     "metadata": {},
     "output_type": "execute_result"
    }
   ],
   "source": [
    "\"\"\"import json\n",
    "\n",
    "data = json.loads(response.text)\n",
    "print(data)\"\"\""
   ]
  },
  {
   "cell_type": "code",
   "execution_count": 336,
   "id": "2f8becc0",
   "metadata": {
    "id": "aBMgH8LBNjBg"
   },
   "outputs": [
    {
     "data": {
      "text/plain": [
       "\"cdi = None\\n\\nfor key, value in data.items():\\n  if key == 'taxa':\\n    cdi = value.replace(',', '.')\\n    cdi = float(cdi)\\n\\nprint(cdi)\""
      ]
     },
     "execution_count": 336,
     "metadata": {},
     "output_type": "execute_result"
    }
   ],
   "source": [
    "\"\"\"cdi = None\n",
    "\n",
    "for key, value in data.items():\n",
    "  if key == 'taxa':\n",
    "    cdi = value.replace(',', '.')\n",
    "    cdi = float(cdi)\n",
    "\n",
    "print(cdi)\"\"\""
   ]
  },
  {
   "cell_type": "markdown",
   "id": "be73c16b",
   "metadata": {
    "id": "KJqp9AANOCtf"
   },
   "source": [
    "<img src=\"https://raw.githubusercontent.com/enzoschitini/repository-data-science-library/main/Python%20Notebook/img/Tratamento%20de%20Erros.png\" alt=\"ebac-logo\">\n",
    "\n",
    "---\n",
    "\n",
    "# **Módulo 08** | Python: Tratamento de Erros\n",
    "Caderno de **Aula**<br> \n",
    "Desenvolvedor [Enzo Schitini](https://enzo-schitini.bubbleapps.io/version-test/)\n",
    "\n",
    "---"
   ]
  },
  {
   "cell_type": "markdown",
   "id": "0a1a8a21",
   "metadata": {
    "id": "d9jDtUbDOE1-"
   },
   "source": [
    "# **Tópicos**\n",
    "\n",
    "<ol type=\"1\">\n",
    "  <li>Tipos de erros;</li>\n",
    "  <li>Erros de sintaxe;</li>\n",
    "  <li>Erros em tempo de execução.</li>\n",
    "</ol>"
   ]
  },
  {
   "cell_type": "markdown",
   "id": "603fde90",
   "metadata": {
    "id": "SmoHgt-lwkpD"
   },
   "source": [
    "---"
   ]
  },
  {
   "cell_type": "markdown",
   "id": "8dee85f2",
   "metadata": {
    "id": "GABI6OW8OfQ2"
   },
   "source": [
    "# **Aulas**"
   ]
  },
  {
   "cell_type": "markdown",
   "id": "d23f3b69",
   "metadata": {
    "id": "muD1vxozykSC"
   },
   "source": [
    "## 1\\. Tipos de erros"
   ]
  },
  {
   "cell_type": "markdown",
   "id": "224ee8b5",
   "metadata": {
    "id": "E6D5rjlESJ1A"
   },
   "source": [
    "### **1.1. Definição** "
   ]
  },
  {
   "cell_type": "markdown",
   "id": "1abc07a9",
   "metadata": {
    "id": "shP6hHQDhjWb"
   },
   "source": [
    " - **Erros de sintaxe**: erros que ocorrem durante a escrita do código."
   ]
  },
  {
   "cell_type": "code",
   "execution_count": 337,
   "id": "0ef626a3",
   "metadata": {
    "id": "4Uf_FRiDnBGu"
   },
   "outputs": [
    {
     "data": {
      "text/plain": [
       "'idade = 19\\n\\nif idade > 18\\n  return True'"
      ]
     },
     "execution_count": 337,
     "metadata": {},
     "output_type": "execute_result"
    }
   ],
   "source": [
    "\"\"\"idade = 19\n",
    "\n",
    "if idade > 18\n",
    "  return True\"\"\""
   ]
  },
  {
   "cell_type": "markdown",
   "id": "926987d2",
   "metadata": {
    "id": "iAEv8XTbqJJD"
   },
   "source": [
    " - **Erros em tempo de execução**: erros que ocorrem durante a execução do código."
   ]
  },
  {
   "cell_type": "markdown",
   "id": "d121a57f",
   "metadata": {
    "id": "6hMXNDbxqQLm"
   },
   "source": [
    "Erros de uso incorreto de tipos de dados."
   ]
  },
  {
   "cell_type": "code",
   "execution_count": 338,
   "id": "51026410",
   "metadata": {
    "id": "pp7zf0LZh3qc"
   },
   "outputs": [],
   "source": [
    "#print(1/0)"
   ]
  },
  {
   "cell_type": "markdown",
   "id": "b2fe41f2",
   "metadata": {
    "id": "YDUpNpizqVYi"
   },
   "source": [
    "Erros de lógica."
   ]
  },
  {
   "cell_type": "code",
   "execution_count": 339,
   "id": "78154508",
   "metadata": {
    "id": "B_B8h-JoqeVB"
   },
   "outputs": [],
   "source": [
    "i = 0\n",
    "while True:\n",
    "  ... # bloco de código\n",
    "  i += 1\n",
    "  if i > 10:\n",
    "    break"
   ]
  },
  {
   "cell_type": "markdown",
   "id": "fc4ae56a",
   "metadata": {
    "id": "4rRCvy_UURrM"
   },
   "source": [
    "## 2\\. Erros de sintaxe"
   ]
  },
  {
   "cell_type": "markdown",
   "id": "02abdf67",
   "metadata": {
    "id": "cOZDKbe6URrb"
   },
   "source": [
    "### **2.1. Definição** "
   ]
  },
  {
   "cell_type": "markdown",
   "id": "3801c4dd",
   "metadata": {
    "id": "uKn9kMbENShL"
   },
   "source": [
    "São erros que ocorrem durante a escrita do código. O trecho do código **não é** executado."
   ]
  },
  {
   "cell_type": "code",
   "execution_count": 340,
   "id": "0346ea5d",
   "metadata": {
    "id": "lTXnq6g7ONuL"
   },
   "outputs": [],
   "source": [
    "carrinho_compras = [{'id': 3184, 'preco': 37.65, 'qtd': 10}, {'id': 1203, 'preco': 81.20, 'qtd': 2}, {'id': 8921, 'preco': 15.90, 'qtd': 2}]"
   ]
  },
  {
   "cell_type": "markdown",
   "id": "444cbe46",
   "metadata": {
    "id": "UmVLiaQsN_Zp"
   },
   "source": [
    "**Exemplo**: Esquecer o 'dois pontos' `:` no final de estruturas de condição, repetição, etc."
   ]
  },
  {
   "cell_type": "code",
   "execution_count": 341,
   "id": "f240d364",
   "metadata": {
    "id": "vE8TMx-sOu2p"
   },
   "outputs": [
    {
     "data": {
      "text/plain": [
       "'for produto in carrinho_compras\\n  ...'"
      ]
     },
     "execution_count": 341,
     "metadata": {},
     "output_type": "execute_result"
    }
   ],
   "source": [
    "\"\"\"for produto in carrinho_compras\n",
    "  ...\"\"\""
   ]
  },
  {
   "cell_type": "markdown",
   "id": "038223d7",
   "metadata": {
    "id": "oQp56cFhNcT_"
   },
   "source": [
    "**Exemplo**: Condição lógica no `else` da estrutura de decisão `if-elif-else`."
   ]
  },
  {
   "cell_type": "code",
   "execution_count": 342,
   "id": "add8576f",
   "metadata": {
    "id": "SGumoycvN9z-"
   },
   "outputs": [
    {
     "data": {
      "text/plain": [
       "\"for produto in carrinho_compras:\\n  if produto['id'] == 3184:\\n    ...\\n  else produto['id'] == 1203:\\n    ...\""
      ]
     },
     "execution_count": 342,
     "metadata": {},
     "output_type": "execute_result"
    }
   ],
   "source": [
    "\"\"\"for produto in carrinho_compras:\n",
    "  if produto['id'] == 3184:\n",
    "    ...\n",
    "  else produto['id'] == 1203:\n",
    "    ...\"\"\""
   ]
  },
  {
   "cell_type": "markdown",
   "id": "0601129e",
   "metadata": {
    "id": "5q6xcwOWURrc"
   },
   "source": [
    "### **2.2. Manipulação** "
   ]
  },
  {
   "cell_type": "markdown",
   "id": "6123f5b8",
   "metadata": {
    "id": "ELgoMRAAUSjv"
   },
   "source": [
    "## 3\\. Erros em tempo de execução"
   ]
  },
  {
   "cell_type": "markdown",
   "id": "fd990701",
   "metadata": {
    "id": "CuLkQY76USjw"
   },
   "source": [
    "### **3.1. Motivação** "
   ]
  },
  {
   "cell_type": "markdown",
   "id": "998763ea",
   "metadata": {
    "id": "uL8oZfAseZ1d"
   },
   "source": [
    "Você trabalha como analista de dados em uma empresa de telecomunicações. Você precisa fazer uma análise para o time de vendas do quanto a empresa vai receber este mês. Diariamente você recebe do time de engenharia os dados."
   ]
  },
  {
   "cell_type": "code",
   "execution_count": 343,
   "id": "bd9b0678",
   "metadata": {
    "id": "RxdmJ-rMeUYe"
   },
   "outputs": [
    {
     "name": "stdout",
     "output_type": "stream",
     "text": [
      "Writing telecom.csv\n"
     ]
    }
   ],
   "source": [
    "%%writefile telecom.csv\n",
    "customerID,PaymentMethod,MonthlyCharges,TotalCharges,Churn\n",
    "7010-BRBUU,Credit card (automatic),24.1,1734.65,No\n",
    "9688-YGXVR,Credit card (automatic),88.15,3973.2,No\n",
    "9286-DOJGF,Bank transfer (automatic),74.95,2869.85,Yes\n",
    "6994-KERXL,Electronic check,55.9,238.5,No\n",
    "2181-UAESM,Electronic check,53.45,119.5,No\n",
    "4312-GVYNH,Bank transfer (automatic),49.85,3370.2,No\n",
    "2495-KZNFB,Electronic check,90.65,2989.6,No\n",
    "4367-NHWMM,Mailed check,24.9,24.9,No\n",
    "8898-KASCD,Mailed check,35.55,1309.15,No"
   ]
  },
  {
   "cell_type": "code",
   "execution_count": 344,
   "id": "71e89694",
   "metadata": {
    "id": "wqjJOksXfV_Q"
   },
   "outputs": [],
   "source": [
    "from functools import reduce\n",
    "\n",
    "def processar_faturas(nome_arquivo: str):\n",
    "\n",
    "  faturas = []\n",
    "\n",
    "  with open(file=nome_arquivo, mode='r', encoding='utf8') as arquivo:\n",
    "    linha = arquivo.readline()\n",
    "    linha = arquivo.readline()\n",
    "    while linha:\n",
    "      fatura = float(linha.strip().split(sep=',')[-3])\n",
    "      faturas.append(fatura)\n",
    "      linha = arquivo.readline()\n",
    "\n",
    "  total_a_pagar = reduce(lambda x, y: x + y, faturas)\n",
    "  total_a_pagar = round(total_a_pagar, 2)\n",
    "\n",
    "  return total_a_pagar"
   ]
  },
  {
   "cell_type": "code",
   "execution_count": 345,
   "id": "30bc7c94",
   "metadata": {
    "id": "CbUyxRG7gBaY"
   },
   "outputs": [
    {
     "name": "stdout",
     "output_type": "stream",
     "text": [
      "497.5\n"
     ]
    }
   ],
   "source": [
    "total_a_pagar = processar_faturas(nome_arquivo='./telecom.csv')\n",
    "print(total_a_pagar)"
   ]
  },
  {
   "cell_type": "markdown",
   "id": "599c0a6d",
   "metadata": {
    "id": "wWph8dxKiwdj"
   },
   "source": [
    "Em um certo dia, você recebe uma base de dados com a coluna de faturas trocada pela de meios de pagamento."
   ]
  },
  {
   "cell_type": "code",
   "execution_count": 346,
   "id": "0d60740c",
   "metadata": {
    "id": "b953SJgdi7b3"
   },
   "outputs": [
    {
     "name": "stdout",
     "output_type": "stream",
     "text": [
      "Overwriting telecom.csv\n"
     ]
    }
   ],
   "source": [
    "%%writefile telecom.csv\n",
    "customerID,MonthlyCharges,PaymentMethod,TotalCharges,Churn\n",
    "7010-BRBUU,24.1,Credit card (automatic),1734.65,No\n",
    "9688-YGXVR,88.15,Credit card (automatic),3973.2,No\n",
    "9286-DOJGF,74.95,Bank transfer (automatic),2869.85,Yes\n",
    "6994-KERXL,55.9,Electronic check,238.5,No\n",
    "2181-UAESM,53.45,Electronic check,119.5,No\n",
    "4312-GVYNH,49.85,Bank transfer (automatic),3370.2,No\n",
    "2495-KZNFB,90.65,Electronic check,2989.6,No\n",
    "4367-NHWMM,24.9,Mailed check,24.9,No\n",
    "8898-KASCD,35.55,Mailed check,1309.15,No"
   ]
  },
  {
   "cell_type": "markdown",
   "id": "4de1327a",
   "metadata": {
    "id": "JENLdmHkUSjx"
   },
   "source": [
    "### **3.2. Definição** "
   ]
  },
  {
   "cell_type": "markdown",
   "id": "a7684f55",
   "metadata": {
    "id": "D-chyvD3Tm7F"
   },
   "source": [
    "São erros que ocorrem durante a execução do código. O trecho do código **é** executado até o erro 'estourar'."
   ]
  },
  {
   "cell_type": "markdown",
   "id": "bc2fab47",
   "metadata": {
    "id": "mywVr5t8T60j"
   },
   "source": [
    "Erros por uso incorreto de tipos de dados. 'Estoura' exceção. Podem ser manipulados ou passados para frente (`raise`)."
   ]
  },
  {
   "cell_type": "markdown",
   "id": "2e195903",
   "metadata": {
    "id": "0je_kLq_myEV"
   },
   "source": [
    " - **Exemplo**: Erro de operações numéricas impossíveis"
   ]
  },
  {
   "cell_type": "code",
   "execution_count": 347,
   "id": "1b048c4a",
   "metadata": {
    "id": "2yXpo2dfmm1T"
   },
   "outputs": [],
   "source": [
    "preco = 132.85\n",
    "pessoas = 0"
   ]
  },
  {
   "cell_type": "code",
   "execution_count": 348,
   "id": "c7fb2a62",
   "metadata": {
    "id": "LsrxSe--nI6b"
   },
   "outputs": [],
   "source": [
    "#valor_por_pessoa = preco / pessoas"
   ]
  },
  {
   "cell_type": "markdown",
   "id": "a62a5f2b",
   "metadata": {
    "id": "paZfxkVzm3gW"
   },
   "source": [
    " - **Exemplo**: Erro por combinações de tipos diferentes"
   ]
  },
  {
   "cell_type": "code",
   "execution_count": 349,
   "id": "ccbeefd4",
   "metadata": {
    "id": "rrlR9Xv6nErH"
   },
   "outputs": [],
   "source": [
    "nome = 'Andre Perez'\n",
    "idade = True"
   ]
  },
  {
   "cell_type": "code",
   "execution_count": 350,
   "id": "c33b3b8b",
   "metadata": {
    "id": "IT3ySwYxnX0j"
   },
   "outputs": [],
   "source": [
    "#apresentacao = 'Fala pessoal, meu nome é ' + nome + ' e eu tenho ' + idade + ' anos'"
   ]
  },
  {
   "cell_type": "markdown",
   "id": "f1c8ce05",
   "metadata": {
    "id": "PdIsskJNnors"
   },
   "source": [
    " - **Exemplo**: Erro de indexação de estrutura de dados"
   ]
  },
  {
   "cell_type": "code",
   "execution_count": 351,
   "id": "717ed296",
   "metadata": {
    "id": "AL0YPYtqntUc"
   },
   "outputs": [],
   "source": [
    "anos = [2019, 2020, 2021]"
   ]
  },
  {
   "cell_type": "code",
   "execution_count": 352,
   "id": "84056bc3",
   "metadata": {
    "id": "1mksjF3inyub"
   },
   "outputs": [
    {
     "data": {
      "text/plain": [
       "'ano_atual = anos[3]\\nprint(ano_atual)'"
      ]
     },
     "execution_count": 352,
     "metadata": {},
     "output_type": "execute_result"
    }
   ],
   "source": [
    "\"\"\"ano_atual = anos[3]\n",
    "print(ano_atual)\"\"\""
   ]
  },
  {
   "cell_type": "code",
   "execution_count": 353,
   "id": "33cd0b73",
   "metadata": {
    "id": "RhjOE1jCn4ZA"
   },
   "outputs": [],
   "source": [
    "cursos = {\n",
    "    'python': {\n",
    "        'nome': 'Python para Análise de Dados', 'duracao': 2.5\n",
    "    }, \n",
    "    'sql': {\n",
    "        'nome': 'SQL para Análise de Dados', 'duracao': 2\n",
    "    }\n",
    "}"
   ]
  },
  {
   "cell_type": "code",
   "execution_count": 354,
   "id": "aaeac656",
   "metadata": {
    "id": "hUl1PmAAoSqt"
   },
   "outputs": [
    {
     "name": "stdout",
     "output_type": "stream",
     "text": [
      "{'nome': 'Python para Análise de Dados', 'duracao': 2.5}\n"
     ]
    }
   ],
   "source": [
    "curso_atual = cursos['python']\n",
    "print(curso_atual)"
   ]
  },
  {
   "cell_type": "code",
   "execution_count": 355,
   "id": "95385a31",
   "metadata": {
    "id": "z0enseDOV3a0"
   },
   "outputs": [
    {
     "name": "stdout",
     "output_type": "stream",
     "text": [
      "{'nome': 'SQL para Análise de Dados', 'duracao': 2}\n"
     ]
    }
   ],
   "source": [
    "curso_atual = cursos['sql']\n",
    "print(curso_atual)"
   ]
  },
  {
   "cell_type": "code",
   "execution_count": 356,
   "id": "58515736",
   "metadata": {
    "id": "n1-UUc0DV9BZ"
   },
   "outputs": [
    {
     "data": {
      "text/plain": [
       "\"curso_atual = cursos['analista']\\nprint(curso_atual)\""
      ]
     },
     "execution_count": 356,
     "metadata": {},
     "output_type": "execute_result"
    }
   ],
   "source": [
    "\"\"\"curso_atual = cursos['analista']\n",
    "print(curso_atual)\"\"\""
   ]
  },
  {
   "cell_type": "markdown",
   "id": "b3482b82",
   "metadata": {
    "id": "-NgAOdWLU3LC"
   },
   "source": [
    "**Erros de lógica**. Não 'estoura' exceção. A melhor forma de analise é usar a função `print` para verificar resultados intermediários."
   ]
  },
  {
   "cell_type": "markdown",
   "id": "5a8b863d",
   "metadata": {
    "id": "Gjkc5K0jU6zR"
   },
   "source": [
    "   * **Exemplo**: Loops infinitos.\n"
   ]
  },
  {
   "cell_type": "code",
   "execution_count": 357,
   "id": "d6b2a297",
   "metadata": {
    "id": "XpKYdnYtXr8g"
   },
   "outputs": [],
   "source": [
    "controle = 0\n",
    "while True:\n",
    "  ...\n",
    "  controle += 1\n",
    "  if controle > 10:\n",
    "    break"
   ]
  },
  {
   "cell_type": "code",
   "execution_count": 358,
   "id": "fdb87b72",
   "metadata": {
    "id": "FHQCpKBlUUoX"
   },
   "outputs": [
    {
     "data": {
      "text/plain": [
       "\"s = []\\nwhile True:\\n  s = s + (['CURSO DE PYTHON PARA ANALISE DE DADOS DA EBAC'] * (1000 * 1000 * 1000))\""
      ]
     },
     "execution_count": 358,
     "metadata": {},
     "output_type": "execute_result"
    }
   ],
   "source": [
    "\"\"\"s = []\n",
    "while True:\n",
    "  s = s + (['CURSO DE PYTHON PARA ANALISE DE DADOS DA EBAC'] * (1000 * 1000 * 1000))\"\"\""
   ]
  },
  {
   "cell_type": "markdown",
   "id": "81bb3d5c",
   "metadata": {
    "id": "7YZV1tgvXaTI"
   },
   "source": [
    " - **Exemplo**: Limites de coleções."
   ]
  },
  {
   "cell_type": "code",
   "execution_count": 359,
   "id": "6116153e",
   "metadata": {
    "id": "dhaKFGzLWcqy"
   },
   "outputs": [],
   "source": [
    "carrinho_compras = [{'id': 3184, 'preco': 37.65, 'qtd': 10}, {'id': 1203, 'preco': 81.20, 'qtd': 2}, {'id': 8921, 'preco': 15.90, 'qtd': 2}]"
   ]
  },
  {
   "cell_type": "code",
   "execution_count": 360,
   "id": "d10a53a0",
   "metadata": {
    "id": "yLoXZTNlWdJI"
   },
   "outputs": [
    {
     "name": "stdout",
     "output_type": "stream",
     "text": [
      "194.2\n"
     ]
    }
   ],
   "source": [
    "valor_total = 0\n",
    "for indice in range(1, len(carrinho_compras)):\n",
    "  valor_total += carrinho_compras[indice]['preco'] * carrinho_compras[indice]['qtd']\n",
    "\n",
    "valor_total = round(valor_total, 2)\n",
    "print(valor_total)"
   ]
  },
  {
   "cell_type": "code",
   "execution_count": 361,
   "id": "65bcbcfc",
   "metadata": {
    "id": "PUQAWph4XONE"
   },
   "outputs": [
    {
     "name": "stdout",
     "output_type": "stream",
     "text": [
      "570.7\n"
     ]
    }
   ],
   "source": [
    "valor_total = 0\n",
    "for produto in carrinho_compras:\n",
    "  valor_total += produto['preco'] * produto['qtd']\n",
    "\n",
    "valor_total = round(valor_total, 2)\n",
    "print(valor_total)"
   ]
  },
  {
   "cell_type": "code",
   "execution_count": 362,
   "id": "b567ac9d",
   "metadata": {
    "id": "f9N0g63TY8E4"
   },
   "outputs": [
    {
     "name": "stdout",
     "output_type": "stream",
     "text": [
      "{'id': 1203, 'preco': 81.2, 'qtd': 2}\n",
      "{'id': 8921, 'preco': 15.9, 'qtd': 2}\n",
      "194.2\n"
     ]
    }
   ],
   "source": [
    "valor_total = 0\n",
    "for indice in range(1, len(carrinho_compras)):\n",
    "  print(carrinho_compras[indice])\n",
    "  valor_total += carrinho_compras[indice]['preco'] * carrinho_compras[indice]['qtd']\n",
    "\n",
    "valor_total = round(valor_total, 2)\n",
    "print(valor_total)"
   ]
  },
  {
   "cell_type": "markdown",
   "id": "9537814f",
   "metadata": {
    "id": "qcHSzY6kUSjy"
   },
   "source": [
    "### **3.3. Manipulação** "
   ]
  },
  {
   "cell_type": "markdown",
   "id": "f91cedb2",
   "metadata": {
    "id": "5BkfnSNoTJEU"
   },
   "source": [
    " - Manipular o erro com a estrutura `try-catch-finally-else`."
   ]
  },
  {
   "cell_type": "code",
   "execution_count": 363,
   "id": "f8c02298",
   "metadata": {
    "id": "65y8PZIwc0b9"
   },
   "outputs": [
    {
     "name": "stdout",
     "output_type": "stream",
     "text": [
      "'set' object is not subscriptable\n"
     ]
    }
   ],
   "source": [
    "anos = [2019, 2020, 2021]\n",
    "anos = {2019, 2020, 2021}\n",
    "\n",
    "try:\n",
    "  ano_atual = anos[3]\n",
    "  print(ano_atual)\n",
    "except IndexError:\n",
    "  print('Lista de anos é menor que o valor escolhido. Espera-se um valor entre 0 e ' + str(len(anos) - 1))\n",
    "except Exception as exc:\n",
    "  print(exc)"
   ]
  },
  {
   "cell_type": "markdown",
   "id": "6a3b17c9",
   "metadata": {
    "id": "DfORrkV1TSH2"
   },
   "source": [
    " - Passar o erro para frente com a estrutura `raise`."
   ]
  },
  {
   "cell_type": "code",
   "execution_count": 364,
   "id": "c4475a46",
   "metadata": {
    "id": "BCEOeOu8dCJ_"
   },
   "outputs": [
    {
     "data": {
      "text/plain": [
       "\"anos = [2019, 2020, 2021]\\n# anos = {2019, 2020, 2021}\\n\\ntry:\\n  ano_atual = anos[3]\\n  print(ano_atual)\\nexcept IndexError as exc:\\n  raise Exception('Lista de anos é menor que o valor escolhido. Espera-se um valor entre 0 e ' + str(len(anos) - 1))\\nexcept Exception as exc:\\n  raise exc\""
      ]
     },
     "execution_count": 364,
     "metadata": {},
     "output_type": "execute_result"
    }
   ],
   "source": [
    "\"\"\"anos = [2019, 2020, 2021]\n",
    "# anos = {2019, 2020, 2021}\n",
    "\n",
    "try:\n",
    "  ano_atual = anos[3]\n",
    "  print(ano_atual)\n",
    "except IndexError as exc:\n",
    "  raise Exception('Lista de anos é menor que o valor escolhido. Espera-se um valor entre 0 e ' + str(len(anos) - 1))\n",
    "except Exception as exc:\n",
    "  raise exc\"\"\""
   ]
  },
  {
   "cell_type": "markdown",
   "id": "bf589e6c",
   "metadata": {
    "id": "Nq0WCx8HUSjz"
   },
   "source": [
    "### **3.4. Revisitando a motivação** "
   ]
  },
  {
   "cell_type": "code",
   "execution_count": 365,
   "id": "c2d5aed3",
   "metadata": {
    "id": "4HQXoxyVjU2g"
   },
   "outputs": [
    {
     "name": "stdout",
     "output_type": "stream",
     "text": [
      "Falha ao processar as faturas! Abortando o processamento.\n",
      "[]\n"
     ]
    }
   ],
   "source": [
    "faturas = []\n",
    "\n",
    "with open(file='./telecom.csv', mode='r', encoding='utf8') as arquivo:\n",
    "  linha = arquivo.readline()\n",
    "  linha = arquivo.readline()\n",
    "  while linha:\n",
    "    try:\n",
    "      fatura = float(linha.strip().split(sep=',')[-3])\n",
    "    except ValueError:\n",
    "      print('Falha ao processar as faturas! Abortando o processamento.')\n",
    "      break\n",
    "    else:\n",
    "      faturas.append(fatura)\n",
    "    linha = arquivo.readline()\n",
    "\n",
    "print(faturas)"
   ]
  },
  {
   "cell_type": "code",
   "execution_count": 366,
   "id": "053794ee",
   "metadata": {
    "id": "jUPom5w9knls"
   },
   "outputs": [],
   "source": [
    "from functools import reduce\n",
    "\n",
    "def processar_faturas(nome_arquivo: str):\n",
    "\n",
    "  faturas = []\n",
    "\n",
    "  with open(file=nome_arquivo, mode='r', encoding='utf8') as arquivo:\n",
    "    linha = arquivo.readline()\n",
    "    linha = arquivo.readline()\n",
    "    while linha:\n",
    "      try:\n",
    "        fatura = float(linha.strip().split(sep=',')[-3])\n",
    "      except ValueError as exc:\n",
    "        raise ValueError(f'Falha ao processar as faturas devido ao seguinte erro: \"{exc}\"')\n",
    "      else:\n",
    "        faturas.append(fatura)\n",
    "      linha = arquivo.readline()\n",
    "\n",
    "  total_a_pagar = reduce(lambda x, y: x + y, faturas)\n",
    "  total_a_pagar = round(total_a_pagar, 2)\n",
    "\n",
    "  return total_a_pagar"
   ]
  },
  {
   "cell_type": "code",
   "execution_count": 367,
   "id": "8cfe5250",
   "metadata": {
    "id": "cpwr6hkZkz7S"
   },
   "outputs": [
    {
     "name": "stdout",
     "output_type": "stream",
     "text": [
      "Falha ao processar as faturas devido ao seguinte erro: \"could not convert string to float: 'Credit card (automatic)'\"\n"
     ]
    }
   ],
   "source": [
    "try:\n",
    "  total_a_pagar = processar_faturas(nome_arquivo='./telecom.csv')\n",
    "except Exception as exc:\n",
    "  print(exc)\n",
    "else:\n",
    "  print(total_a_pagar)"
   ]
  },
  {
   "cell_type": "markdown",
   "id": "2ad20ec5",
   "metadata": {
    "id": "KJqp9AANOCtf"
   },
   "source": [
    "<img src=\"https://raw.githubusercontent.com/enzoschitini/repository-data-science-library/main/Python%20Notebook/img/Scripting.png\" alt=\"ebac-logo\">\n",
    "\n",
    "---\n",
    "\n",
    "# **Módulo 09** | Python: Scripting\n",
    "Caderno de **Aula**<br> \n",
    "Desenvolvedor [Enzo Schitini](https://enzo-schitini.bubbleapps.io/version-test/)\n",
    "\n",
    "---"
   ]
  },
  {
   "cell_type": "markdown",
   "id": "5f5813a5",
   "metadata": {
    "id": "d9jDtUbDOE1-"
   },
   "source": [
    "# **Tópicos**\n",
    "\n",
    "<ol type=\"1\">\n",
    "  <li>Instalando o Python na própria máquina;</li>\n",
    "  <li>Executando código Python no terminal;</li>\n",
    "  <li>Criando arquivos de script Python.</li>\n",
    "</ol>"
   ]
  },
  {
   "cell_type": "markdown",
   "id": "36cfb76c",
   "metadata": {
    "id": "SmoHgt-lwkpD"
   },
   "source": [
    "---"
   ]
  },
  {
   "cell_type": "markdown",
   "id": "17b4f422",
   "metadata": {
    "id": "GABI6OW8OfQ2"
   },
   "source": [
    "# **Aulas**"
   ]
  },
  {
   "cell_type": "markdown",
   "id": "6d6d5773",
   "metadata": {
    "id": "muD1vxozykSC"
   },
   "source": [
    "## 1\\. Instalando o Python na própria máquina"
   ]
  },
  {
   "cell_type": "markdown",
   "id": "29165992",
   "metadata": {
    "id": "5a3_syBIP6yO"
   },
   "source": [
    "### **1.1. Google Colab** "
   ]
  },
  {
   "cell_type": "markdown",
   "id": "3cb086e0",
   "metadata": {
    "id": "NglCEvJDmqkw"
   },
   "source": [
    "Python e o PIP já vem instalado na máquina virtual provisionada."
   ]
  },
  {
   "cell_type": "markdown",
   "id": "836b5d88",
   "metadata": {
    "id": "-KB6vKKpzPul"
   },
   "source": [
    "**Exemplo:** Conferir a versão do Python via Python."
   ]
  },
  {
   "cell_type": "code",
   "execution_count": 368,
   "id": "ea5c8878",
   "metadata": {
    "id": "s3TYcbzAlgxe"
   },
   "outputs": [],
   "source": [
    "import platform"
   ]
  },
  {
   "cell_type": "code",
   "execution_count": 369,
   "id": "cb5cb916",
   "metadata": {
    "id": "Bqz8RRXwljEe"
   },
   "outputs": [
    {
     "name": "stdout",
     "output_type": "stream",
     "text": [
      "3.11.7\n"
     ]
    }
   ],
   "source": [
    "print(platform.python_version())"
   ]
  },
  {
   "cell_type": "code",
   "execution_count": 370,
   "id": "e9b22d7d",
   "metadata": {
    "id": "DocJCahczia4"
   },
   "outputs": [
    {
     "name": "stdout",
     "output_type": "stream",
     "text": [
      "Windows\n"
     ]
    }
   ],
   "source": [
    "print(platform.system())"
   ]
  },
  {
   "cell_type": "markdown",
   "id": "1f550693",
   "metadata": {
    "id": "rqJ0dUCKzYH-"
   },
   "source": [
    "**Exemplo:** Conferir a versão do Python via Bash (linguagem nativa do Linux)."
   ]
  },
  {
   "cell_type": "code",
   "execution_count": 371,
   "id": "5d088c13",
   "metadata": {
    "id": "FGXZX082mp5C"
   },
   "outputs": [
    {
     "name": "stdout",
     "output_type": "stream",
     "text": [
      "Python 3.11.7\n"
     ]
    }
   ],
   "source": [
    "!python -V"
   ]
  },
  {
   "cell_type": "markdown",
   "id": "41f24463",
   "metadata": {
    "id": "kinhTHAfZC4u"
   },
   "source": [
    "**Exemplo:** Conferir a versão do PIP via Bash (linguagem nativa do Linux)."
   ]
  },
  {
   "cell_type": "code",
   "execution_count": 372,
   "id": "e98d5491",
   "metadata": {
    "id": "R4JABHTlZCA8"
   },
   "outputs": [
    {
     "name": "stdout",
     "output_type": "stream",
     "text": [
      "pip 23.3.1 from C:\\Users\\Enzo Schitni\\anaconda3\\Lib\\site-packages\\pip (python 3.11)\n",
      "\n"
     ]
    }
   ],
   "source": [
    "!pip -V"
   ]
  },
  {
   "cell_type": "markdown",
   "id": "82dd2719",
   "metadata": {
    "id": "E6D5rjlESJ1A"
   },
   "source": [
    "### **1.2. Máquina Local** "
   ]
  },
  {
   "cell_type": "markdown",
   "id": "a9b68b1d",
   "metadata": {
    "id": "N0DOVccZ0bXA"
   },
   "source": [
    "Verifique se você já tem o Python e o PIP instalado na sua máquina. Para verificar a instalação, abrir o terminal (windows `cmd` ou linux/macos `terminal`) e executar o seguinte comando."
   ]
  },
  {
   "cell_type": "markdown",
   "id": "8d45ab41",
   "metadata": {
    "id": "Rs6sc6iB0lwe"
   },
   "source": [
    "```shell\n",
    "python -V\n",
    "pip -V\n",
    "```"
   ]
  },
  {
   "cell_type": "markdown",
   "id": "f0fcb96c",
   "metadata": {
    "id": "bO66G3v8qMBu"
   },
   "source": [
    "Se não o tiver instalado, acessar o site oficial do Python ([link](https://www.python.org/)) e instalar o software para o seu sistema operacional. Um excelente tutorial se encontra neste [link](https://realpython.com/installing-python/). Para verificar a instalação, abrir o terminal (windows `cmd` ou linux/mcos `terminal`) e executar o seguinte comando."
   ]
  },
  {
   "cell_type": "markdown",
   "id": "c62a4de2",
   "metadata": {
    "id": "g8G-7pIh09ex"
   },
   "source": [
    "```shell\n",
    "python -V\n",
    "pip -V\n",
    "```"
   ]
  },
  {
   "cell_type": "markdown",
   "id": "ceeb1b7f",
   "metadata": {
    "id": "4rRCvy_UURrM"
   },
   "source": [
    "## 2\\. Executando código Python no terminal"
   ]
  },
  {
   "cell_type": "markdown",
   "id": "572c4258",
   "metadata": {
    "id": "78RHF81A3tat"
   },
   "source": [
    "### **2.1. Google Colab** "
   ]
  },
  {
   "cell_type": "markdown",
   "id": "2a1aac47",
   "metadata": {
    "id": "1vEmGlO93vtT"
   },
   "source": [
    "O software do Python já vem \"aberto\" para ser utilizado."
   ]
  },
  {
   "cell_type": "code",
   "execution_count": 373,
   "id": "e41b62cf",
   "metadata": {
    "id": "MkVUiWgKaD_Q"
   },
   "outputs": [
    {
     "name": "stdout",
     "output_type": "stream",
     "text": [
      "2024\n"
     ]
    }
   ],
   "source": [
    "from datetime import datetime\n",
    "\n",
    "print(datetime.now().year)"
   ]
  },
  {
   "cell_type": "markdown",
   "id": "b3a36cae",
   "metadata": {
    "id": "Y1W9Hv8fURrZ"
   },
   "source": [
    "### **2.2. Máquina Local** "
   ]
  },
  {
   "cell_type": "markdown",
   "id": "1ddaf187",
   "metadata": {
    "id": "ZiSmb3nK3GWT"
   },
   "source": [
    "\n",
    "\n",
    "1.   Criar uma pasta (sugestão);\n",
    "2.   Abrir o terminal nesta pasta (windows `shift + right click` ou linux/macos `right click`);\n",
    "3.   Executar o seguinte comando:\n",
    "\n",
    "```shell\n",
    "python\n",
    "```\n",
    "\n",
    "Para 'sair' do Python, basta fechar o terminal ou digitar o seguinte código:\n",
    "\n",
    "```shell\n",
    "quit()\n",
    "```"
   ]
  },
  {
   "cell_type": "markdown",
   "id": "e37a19a0",
   "metadata": {
    "id": "ELgoMRAAUSjv"
   },
   "source": [
    "## 3\\. Criando arquivos de script Python"
   ]
  },
  {
   "cell_type": "markdown",
   "id": "8fb65c4f",
   "metadata": {
    "id": "CuLkQY76USjw"
   },
   "source": [
    "### **3.1. Google Colab** "
   ]
  },
  {
   "cell_type": "markdown",
   "id": "95ed3cc4",
   "metadata": {
    "id": "kPErDtG7aOC9"
   },
   "source": [
    "1. Criar um arquivo de *script* com a extensão `py` seguindo as boas práticas do PEP 8 ([link](https://www.python.org/dev/peps/pep-0008/));\n",
    "2. Executar com o seguinte comando:\n",
    "\n",
    "```shell\n",
    "!python arquivo.py\n",
    "```"
   ]
  },
  {
   "cell_type": "markdown",
   "id": "c529fa77",
   "metadata": {
    "id": "JgdHa-4LaxWP"
   },
   "source": [
    "**Exemplo:** *Script* para extrair a taxa CDI do site da B3."
   ]
  },
  {
   "cell_type": "code",
   "execution_count": 374,
   "id": "604e5ce4",
   "metadata": {
    "id": "3FBTK2tJn4Ii"
   },
   "outputs": [
    {
     "data": {
      "text/plain": [
       "'import os\\nimport json\\nfrom datetime import datetime\\n\\nimport requests\\n\\nURL = \\'https://www2.cetip.com.br/ConsultarTaxaDi/ConsultarTaxaDICetip.aspx\\'\\n\\n# Criando a variável data e hora \\n\\ndata_e_hora = datetime.now()\\ndata = datetime.strftime(data_e_hora, \\'%Y/%m/%d\\')\\nhora = datetime.strftime(data_e_hora, \\'%H:%M:%S\\')\\n\\n# Captando a taxa CDI do site da B3\\n\\ntry:\\n  response = requests.get(URL)\\n  response.raise_for_status()\\nexcept requests.HTTPError as exc:\\n  print(\"Dado não encontrado, continuando.\")\\n  cdi = None\\nexcept Exception as exc:\\n  print(\"Erro, parando a execução.\")\\n  raise exc\\nelse:\\n  dado = json.loads(response.text)\\n  cdi = float(dado[\\'taxa\\'].replace(\\',\\', \\'.\\'))\\n\\n# Verificando se o arquivo \"taxa-cdi.csv\" existe\\n\\nif os.path.exists(\\'./taxa-cdi.csv\\') == False:\\n\\n  with open(file=\\'./taxa-cdi.csv\\', mode=\\'w\\', encoding=\\'utf8\\') as fp:\\n    fp.write(\\'data,hora,taxa\\n\\')\\n\\n# Salvando dados no arquivo \"taxa-cdi.csv\"\\n\\nwith open(file=\\'./taxa-cdi.csv\\', mode=\\'a\\', encoding=\\'utf8\\') as fp:\\n  fp.write(f\\'{data},{hora},{cdi}\\n\\')\\n\\nprint(\"Sucesso\")'"
      ]
     },
     "execution_count": 374,
     "metadata": {},
     "output_type": "execute_result"
    }
   ],
   "source": [
    "\"\"\"import os\n",
    "import json\n",
    "from datetime import datetime\n",
    "\n",
    "import requests\n",
    "\n",
    "URL = 'https://www2.cetip.com.br/ConsultarTaxaDi/ConsultarTaxaDICetip.aspx'\n",
    "\n",
    "# Criando a variável data e hora \n",
    "\n",
    "data_e_hora = datetime.now()\n",
    "data = datetime.strftime(data_e_hora, '%Y/%m/%d')\n",
    "hora = datetime.strftime(data_e_hora, '%H:%M:%S')\n",
    "\n",
    "# Captando a taxa CDI do site da B3\n",
    "\n",
    "try:\n",
    "  response = requests.get(URL)\n",
    "  response.raise_for_status()\n",
    "except requests.HTTPError as exc:\n",
    "  print(\"Dado não encontrado, continuando.\")\n",
    "  cdi = None\n",
    "except Exception as exc:\n",
    "  print(\"Erro, parando a execução.\")\n",
    "  raise exc\n",
    "else:\n",
    "  dado = json.loads(response.text)\n",
    "  cdi = float(dado['taxa'].replace(',', '.'))\n",
    "\n",
    "# Verificando se o arquivo \"taxa-cdi.csv\" existe\n",
    "\n",
    "if os.path.exists('./taxa-cdi.csv') == False:\n",
    "\n",
    "  with open(file='./taxa-cdi.csv', mode='w', encoding='utf8') as fp:\n",
    "    fp.write('data,hora,taxa\\n')\n",
    "\n",
    "# Salvando dados no arquivo \"taxa-cdi.csv\"\n",
    "\n",
    "with open(file='./taxa-cdi.csv', mode='a', encoding='utf8') as fp:\n",
    "  fp.write(f'{data},{hora},{cdi}\\n')\n",
    "\n",
    "print(\"Sucesso\")\"\"\""
   ]
  },
  {
   "cell_type": "markdown",
   "id": "95968a44",
   "metadata": {
    "id": "EkdZ57_4oFCx"
   },
   "source": [
    "Vamos criar o arquivo de *script* `extrair-cdi.py`."
   ]
  },
  {
   "cell_type": "code",
   "execution_count": 375,
   "id": "085fcb5c",
   "metadata": {
    "id": "yxJhF3FibJ7z"
   },
   "outputs": [],
   "source": [
    "#!python extrair-cdi.py"
   ]
  },
  {
   "cell_type": "markdown",
   "id": "c3a982b7",
   "metadata": {
    "id": "c-WTpJfhgDdT"
   },
   "source": [
    "**Exemplo:** Script com argumentos."
   ]
  },
  {
   "cell_type": "code",
   "execution_count": 376,
   "id": "0e78ace9",
   "metadata": {
    "id": "evmryzUPgM46"
   },
   "outputs": [
    {
     "name": "stdout",
     "output_type": "stream",
     "text": [
      "['C:\\\\Users\\\\Enzo Schitni\\\\AppData\\\\Roaming\\\\Python\\\\Python311\\\\site-packages\\\\ipykernel_launcher.py', '--f=\"c:\\\\Users\\\\Enzo Schitni\\\\AppData\\\\Roaming\\\\jupyter\\\\runtime\\\\kernel-v3907127fa7bf35dbff0f1802444020b2fd362f315.json\"']\n",
      "<class 'list'>\n"
     ]
    }
   ],
   "source": [
    "from sys import argv\n",
    "\n",
    "print(argv)\n",
    "print(type(argv))"
   ]
  },
  {
   "cell_type": "markdown",
   "id": "628ef59e",
   "metadata": {
    "id": "HgoqZ2xIk-8B"
   },
   "source": [
    "Vamos criar o arquivo de *script* `args.py`."
   ]
  },
  {
   "cell_type": "code",
   "execution_count": 377,
   "id": "99d0431f",
   "metadata": {
    "id": "C9ogUVFYklNE"
   },
   "outputs": [],
   "source": [
    "#!python args.py"
   ]
  },
  {
   "cell_type": "markdown",
   "id": "33cdbaf1",
   "metadata": {
    "id": "Q9YetD1EPi_N"
   },
   "source": [
    "**Exemplo:** *Script* para gerar um grafico da taxa CDI do site da B3."
   ]
  },
  {
   "cell_type": "code",
   "execution_count": 378,
   "id": "ed8faee7",
   "metadata": {
    "id": "LxVdaEGMMgW5"
   },
   "outputs": [
    {
     "data": {
      "text/plain": [
       "'import csv\\nfrom sys import argv\\n\\nimport seaborn as sns\\n\\n# Extraindo as colunas hora e taxa\\n\\nhoras = []\\ntaxas = []\\n\\nwith open(file=\\'./taxa-cdi.csv\\', mode=\\'r\\', encoding=\\'utf8\\') as fp:\\n  linha = fp.readline()\\n  linha = fp.readline()\\n  while linha:\\n    linha_separada = linha.split(sep=\\',\\')\\n    hora = linha_separada[1]\\n    horas.append(hora)\\n    taxa = float(linha_separada[2])\\n    taxas.append(taxa)\\n    linha = fp.readline()\\n\\n# Salvando no grafico\\n\\ngrafico = sns.lineplot(x=horas, y=taxas)\\ngrafico.get_figure().savefig(f\"{argv[1]}.png\")'"
      ]
     },
     "execution_count": 378,
     "metadata": {},
     "output_type": "execute_result"
    }
   ],
   "source": [
    "\"\"\"import csv\n",
    "from sys import argv\n",
    "\n",
    "import seaborn as sns\n",
    "\n",
    "# Extraindo as colunas hora e taxa\n",
    "\n",
    "horas = []\n",
    "taxas = []\n",
    "\n",
    "with open(file='./taxa-cdi.csv', mode='r', encoding='utf8') as fp:\n",
    "  linha = fp.readline()\n",
    "  linha = fp.readline()\n",
    "  while linha:\n",
    "    linha_separada = linha.split(sep=',')\n",
    "    hora = linha_separada[1]\n",
    "    horas.append(hora)\n",
    "    taxa = float(linha_separada[2])\n",
    "    taxas.append(taxa)\n",
    "    linha = fp.readline()\n",
    "\n",
    "# Salvando no grafico\n",
    "\n",
    "grafico = sns.lineplot(x=horas, y=taxas)\n",
    "grafico.get_figure().savefig(f\"{argv[1]}.png\")\"\"\""
   ]
  },
  {
   "cell_type": "markdown",
   "id": "1e10fb3a",
   "metadata": {
    "id": "JELUKH9pPz9p"
   },
   "source": [
    "Vamos criar o arquivo de *script* `cdi-grafico.py`."
   ]
  },
  {
   "cell_type": "code",
   "execution_count": 379,
   "id": "503fd887",
   "metadata": {
    "id": "ERCSXm2AP6uD"
   },
   "outputs": [],
   "source": [
    "#!python cdi-grafico.py 'dia-10'"
   ]
  },
  {
   "cell_type": "markdown",
   "id": "d2e612f4",
   "metadata": {
    "id": "g2aUZy_X4Wvb"
   },
   "source": [
    "### **3.2. Máquina Local** "
   ]
  },
  {
   "cell_type": "markdown",
   "id": "05ec3b8f",
   "metadata": {
    "id": "BSYPE9fyf11V"
   },
   "source": [
    "Mesma dinâmica!"
   ]
  },
  {
   "cell_type": "markdown",
   "id": "7d4c753a",
   "metadata": {
    "id": "vSGm2638ibKP"
   },
   "source": [
    "### **3.3. Ferramenta de Desenvolvimento Local** "
   ]
  },
  {
   "cell_type": "markdown",
   "id": "22e42b37",
   "metadata": {
    "id": "AX5SWKd4ijlB"
   },
   "source": [
    "As IDEs (Integrated Development Environment) são ferramentas completas de desenvolvimento de código em software.\n",
    "\n",
    "*   **PyCharm** da JetBrains ([link](https://www.jetbrains.com/));\n",
    "*   **Visual Studio Code** da Microsoft ([link](https://code.visualstudio.com/)).\n",
    "\n"
   ]
  }
 ],
 "metadata": {
  "kernelspec": {
   "display_name": "base",
   "language": "python",
   "name": "python3"
  },
  "language_info": {
   "codemirror_mode": {
    "name": "ipython",
    "version": 3
   },
   "file_extension": ".py",
   "mimetype": "text/x-python",
   "name": "python",
   "nbconvert_exporter": "python",
   "pygments_lexer": "ipython3",
   "version": "3.11.7"
  }
 },
 "nbformat": 4,
 "nbformat_minor": 5
}

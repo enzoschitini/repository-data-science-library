{
 "cells": [
  {
   "cell_type": "code",
   "execution_count": 74,
   "metadata": {},
   "outputs": [],
   "source": [
    "def leggi_file_dividi(nome_file):\n",
    "    parti_testo = []  # Lista per memorizzare le parti divise del testo\n",
    "    parte_corrente = []  # Lista temporanea per memorizzare le righe della parte corrente\n",
    "\n",
    "    with open(nome_file, 'r') as file:\n",
    "        for riga in file:\n",
    "            parte_corrente.append(riga.strip())  # Aggiungi la riga alla parte corrente\n",
    "            # Se abbiamo raggiunto 12 righe, aggiungi la parte corrente alla lista principale e resetta la parte corrente\n",
    "            if len(parte_corrente) == 12:\n",
    "                parti_testo.append(parte_corrente)\n",
    "                parte_corrente = []\n",
    "\n",
    "        # Se ci sono ancora righe nella parte corrente, aggiungila alla lista principale\n",
    "        if parte_corrente:\n",
    "            parti_testo.append(parte_corrente)\n",
    "\n",
    "    return parti_testo\n",
    "\n",
    "# Esempio di utilizzo\n",
    "nome_file = \".txt\"\n",
    "parti_divise = leggi_file_dividi(nome_file)"
   ]
  },
  {
   "cell_type": "code",
   "execution_count": 75,
   "metadata": {},
   "outputs": [
    {
     "data": {
      "text/plain": [
       "31"
      ]
     },
     "execution_count": 75,
     "metadata": {},
     "output_type": "execute_result"
    }
   ],
   "source": [
    "len(parti_divise)"
   ]
  },
  {
   "cell_type": "code",
   "execution_count": 76,
   "metadata": {},
   "outputs": [],
   "source": [
    "dizionario = []"
   ]
  },
  {
   "cell_type": "code",
   "execution_count": 77,
   "metadata": {},
   "outputs": [],
   "source": [
    "for x in parti_divise:\n",
    "    try:\n",
    "      #print(x[5])\n",
    "      prelevati = [f'Livello: {x[0]} - Titolo: {x[1]} - Data: {x[2]} - Orario: {x[3]} - Professoressa: {x[5]}']\n",
    "      dizionario.append(prelevati)\n",
    "    except IndexError:\n",
    "       continue"
   ]
  },
  {
   "cell_type": "code",
   "execution_count": 78,
   "metadata": {},
   "outputs": [
    {
     "data": {
      "text/plain": [
       "30"
      ]
     },
     "execution_count": 78,
     "metadata": {},
     "output_type": "execute_result"
    }
   ],
   "source": [
    "len(dizionario)"
   ]
  },
  {
   "cell_type": "code",
   "execution_count": 83,
   "metadata": {},
   "outputs": [
    {
     "data": {
      "text/plain": [
       "['Livello: B1  â€¢  MÃ³dulo 6 - Titolo: Parlare della biografia di un personaggio (p.e. storico) - Data: AmanhÃ£ - Orario: 07:00 - Professoressa: Giusy']"
      ]
     },
     "execution_count": 83,
     "metadata": {},
     "output_type": "execute_result"
    }
   ],
   "source": [
    "dizionario[0]"
   ]
  },
  {
   "cell_type": "markdown",
   "metadata": {},
   "source": [
    "# Stampa le parti divise\n",
    "for i, parte in enumerate(parti_divise):\n",
    "    print(f\"Parte {i + 1}:\")\n",
    "    for riga in parte:\n",
    "        print(riga)\n",
    "    print(\"-\" * 20)  # Separatore tra le parti"
   ]
  },
  {
   "cell_type": "code",
   "execution_count": 80,
   "metadata": {},
   "outputs": [
    {
     "ename": "IndexError",
     "evalue": "list index out of range",
     "output_type": "error",
     "traceback": [
      "\u001b[1;31m---------------------------------------------------------------------------\u001b[0m",
      "\u001b[1;31mIndexError\u001b[0m                                Traceback (most recent call last)",
      "Cell \u001b[1;32mIn[80], line 1\u001b[0m\n\u001b[1;32m----> 1\u001b[0m dizionario \u001b[38;5;241m=\u001b[39m {\u001b[38;5;124m'\u001b[39m\u001b[38;5;124mLivello\u001b[39m\u001b[38;5;124m'\u001b[39m: x[\u001b[38;5;241m0\u001b[39m], \u001b[38;5;124m'\u001b[39m\u001b[38;5;124mTitolo\u001b[39m\u001b[38;5;124m'\u001b[39m: \u001b[43mx\u001b[49m\u001b[43m[\u001b[49m\u001b[38;5;241;43m1\u001b[39;49m\u001b[43m]\u001b[49m,\n\u001b[0;32m      2\u001b[0m               \u001b[38;5;124m'\u001b[39m\u001b[38;5;124mData\u001b[39m\u001b[38;5;124m'\u001b[39m: x[\u001b[38;5;241m2\u001b[39m], \u001b[38;5;124m'\u001b[39m\u001b[38;5;124mOrario\u001b[39m\u001b[38;5;124m'\u001b[39m: x[\u001b[38;5;241m3\u001b[39m],\n\u001b[0;32m      3\u001b[0m               \u001b[38;5;124m'\u001b[39m\u001b[38;5;124mProfessoressa\u001b[39m\u001b[38;5;124m'\u001b[39m: x[\u001b[38;5;241m5\u001b[39m]}\n",
      "\u001b[1;31mIndexError\u001b[0m: list index out of range"
     ]
    }
   ],
   "source": [
    "      dizionario = {'Livello': x[0], 'Titolo': x[1],\n",
    "                    'Data': x[2], 'Orario': x[3],\n",
    "                    'Professoressa': x[5]}"
   ]
  }
 ],
 "metadata": {
  "kernelspec": {
   "display_name": "Python 3",
   "language": "python",
   "name": "python3"
  },
  "language_info": {
   "codemirror_mode": {
    "name": "ipython",
    "version": 3
   },
   "file_extension": ".py",
   "mimetype": "text/x-python",
   "name": "python",
   "nbconvert_exporter": "python",
   "pygments_lexer": "ipython3",
   "version": "3.11.5"
  }
 },
 "nbformat": 4,
 "nbformat_minor": 2
}

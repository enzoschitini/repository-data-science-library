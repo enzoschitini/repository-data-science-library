{
 "cells": [
  {
   "cell_type": "code",
   "execution_count": 1,
   "metadata": {},
   "outputs": [
    {
     "data": {
      "text/html": [
       "<div>\n",
       "<style scoped>\n",
       "    .dataframe tbody tr th:only-of-type {\n",
       "        vertical-align: middle;\n",
       "    }\n",
       "\n",
       "    .dataframe tbody tr th {\n",
       "        vertical-align: top;\n",
       "    }\n",
       "\n",
       "    .dataframe thead th {\n",
       "        text-align: right;\n",
       "    }\n",
       "</style>\n",
       "<table border=\"1\" class=\"dataframe\">\n",
       "  <thead>\n",
       "    <tr style=\"text-align: right;\">\n",
       "      <th></th>\n",
       "      <th>Livelli</th>\n",
       "      <th>Professoresse</th>\n",
       "      <th>Date</th>\n",
       "      <th>Orari</th>\n",
       "      <th>Titolo</th>\n",
       "    </tr>\n",
       "  </thead>\n",
       "  <tbody>\n",
       "    <tr>\n",
       "      <th>0</th>\n",
       "      <td>C1</td>\n",
       "      <td>Silvia</td>\n",
       "      <td>2024-03-15</td>\n",
       "      <td>07:00</td>\n",
       "      <td>Parlare utilizzando espressioni latine</td>\n",
       "    </tr>\n",
       "    <tr>\n",
       "      <th>1</th>\n",
       "      <td>C1</td>\n",
       "      <td>Elisa</td>\n",
       "      <td>2024-03-15</td>\n",
       "      <td>07:00</td>\n",
       "      <td>Sostenere un colloquio di lavoro</td>\n",
       "    </tr>\n",
       "    <tr>\n",
       "      <th>2</th>\n",
       "      <td>B2</td>\n",
       "      <td>Beatrice</td>\n",
       "      <td>2024-03-15</td>\n",
       "      <td>07:00</td>\n",
       "      <td>Comunicare stati d'animo complessi</td>\n",
       "    </tr>\n",
       "    <tr>\n",
       "      <th>3</th>\n",
       "      <td>B2</td>\n",
       "      <td>Anna</td>\n",
       "      <td>2024-03-15</td>\n",
       "      <td>07:00</td>\n",
       "      <td>Riflettere sulle scelte passate</td>\n",
       "    </tr>\n",
       "    <tr>\n",
       "      <th>4</th>\n",
       "      <td>B2</td>\n",
       "      <td>Rita</td>\n",
       "      <td>2024-03-15</td>\n",
       "      <td>07:00</td>\n",
       "      <td>Recensire un film</td>\n",
       "    </tr>\n",
       "  </tbody>\n",
       "</table>\n",
       "</div>"
      ],
      "text/plain": [
       "  Livelli Professoresse        Date  Orari  \\\n",
       "0      C1        Silvia  2024-03-15  07:00   \n",
       "1      C1         Elisa  2024-03-15  07:00   \n",
       "2      B2      Beatrice  2024-03-15  07:00   \n",
       "3      B2          Anna  2024-03-15  07:00   \n",
       "4      B2          Rita  2024-03-15  07:00   \n",
       "\n",
       "                                   Titolo  \n",
       "0  Parlare utilizzando espressioni latine  \n",
       "1        Sostenere un colloquio di lavoro  \n",
       "2      Comunicare stati d'animo complessi  \n",
       "3         Riflettere sulle scelte passate  \n",
       "4                       Recensire un film  "
      ]
     },
     "execution_count": 1,
     "metadata": {},
     "output_type": "execute_result"
    }
   ],
   "source": [
    "import pandas as pd\n",
    "df = pd.read_csv('Prelevate.csv')\n",
    "df.drop(columns='Unnamed: 0', axis=1, inplace=True)\n",
    "df.head()"
   ]
  },
  {
   "cell_type": "code",
   "execution_count": 2,
   "metadata": {},
   "outputs": [
    {
     "name": "stdout",
     "output_type": "stream",
     "text": [
      "2024-03-26\n"
     ]
    },
    {
     "data": {
      "text/html": [
       "<div>\n",
       "<style scoped>\n",
       "    .dataframe tbody tr th:only-of-type {\n",
       "        vertical-align: middle;\n",
       "    }\n",
       "\n",
       "    .dataframe tbody tr th {\n",
       "        vertical-align: top;\n",
       "    }\n",
       "\n",
       "    .dataframe thead th {\n",
       "        text-align: right;\n",
       "    }\n",
       "</style>\n",
       "<table border=\"1\" class=\"dataframe\">\n",
       "  <thead>\n",
       "    <tr style=\"text-align: right;\">\n",
       "      <th></th>\n",
       "      <th>Livelli</th>\n",
       "      <th>Professoresse</th>\n",
       "      <th>Date</th>\n",
       "      <th>Orari</th>\n",
       "      <th>Titolo</th>\n",
       "    </tr>\n",
       "  </thead>\n",
       "  <tbody>\n",
       "    <tr>\n",
       "      <th>323</th>\n",
       "      <td>C1</td>\n",
       "      <td>Clara</td>\n",
       "      <td>2024-03-26</td>\n",
       "      <td>07:00</td>\n",
       "      <td>Parlare del rapporto tra lavoro e vita privata</td>\n",
       "    </tr>\n",
       "    <tr>\n",
       "      <th>324</th>\n",
       "      <td>C1</td>\n",
       "      <td>Isabella</td>\n",
       "      <td>2024-03-26</td>\n",
       "      <td>07:00</td>\n",
       "      <td>Adattare il proprio registro linguistico</td>\n",
       "    </tr>\n",
       "    <tr>\n",
       "      <th>325</th>\n",
       "      <td>B1</td>\n",
       "      <td>Silvia</td>\n",
       "      <td>2024-03-26</td>\n",
       "      <td>07:00</td>\n",
       "      <td>Parlare della biografia di un personaggio (p.e...</td>\n",
       "    </tr>\n",
       "    <tr>\n",
       "      <th>326</th>\n",
       "      <td>B2</td>\n",
       "      <td>Raffaella</td>\n",
       "      <td>2024-03-26</td>\n",
       "      <td>07:00</td>\n",
       "      <td>Parlare di convinzioni e stili di vita</td>\n",
       "    </tr>\n",
       "    <tr>\n",
       "      <th>327</th>\n",
       "      <td>B2</td>\n",
       "      <td>Rita</td>\n",
       "      <td>2024-03-26</td>\n",
       "      <td>07:00</td>\n",
       "      <td>Riportare una notizia</td>\n",
       "    </tr>\n",
       "  </tbody>\n",
       "</table>\n",
       "</div>"
      ],
      "text/plain": [
       "    Livelli Professoresse        Date  Orari  \\\n",
       "323      C1         Clara  2024-03-26  07:00   \n",
       "324      C1      Isabella  2024-03-26  07:00   \n",
       "325      B1        Silvia  2024-03-26  07:00   \n",
       "326      B2     Raffaella  2024-03-26  07:00   \n",
       "327      B2          Rita  2024-03-26  07:00   \n",
       "\n",
       "                                                Titolo  \n",
       "323     Parlare del rapporto tra lavoro e vita privata  \n",
       "324           Adattare il proprio registro linguistico  \n",
       "325  Parlare della biografia di un personaggio (p.e...  \n",
       "326             Parlare di convinzioni e stili di vita  \n",
       "327                              Riportare una notizia  "
      ]
     },
     "execution_count": 2,
     "metadata": {},
     "output_type": "execute_result"
    }
   ],
   "source": [
    "def selezione_giorno(giorno:str, dataframe):\n",
    "    from datetime import datetime, timedelta\n",
    "    giorno = giorno.casefold()\n",
    "    giorno = giorno.replace(' ', '')\n",
    "    oggi = datetime.today()\n",
    "\n",
    "    if giorno == 'domani':\n",
    "        data = oggi + timedelta(days=1)\n",
    "    elif giorno == 'ieri':\n",
    "        data = oggi - timedelta(days=1)\n",
    "    elif giorno == 'dopodomani':\n",
    "        data = oggi + timedelta(days=2)\n",
    "    elif giorno == \"l'altroieri\":\n",
    "        data = oggi - timedelta(days=2)\n",
    "    else:\n",
    "        data = oggi\n",
    "\n",
    "    data = str(data.strftime(\"%Y-%m-%d\"))\n",
    "    print(data)\n",
    "    dataframe = dataframe[dataframe['Date'] == data]\n",
    "    return dataframe\n",
    "\n",
    "selezione_giorno(\"domani\", df).head(n=5)"
   ]
  },
  {
   "cell_type": "code",
   "execution_count": 3,
   "metadata": {},
   "outputs": [
    {
     "name": "stderr",
     "output_type": "stream",
     "text": [
      "c:\\Users\\Soldado\\AppData\\Local\\Programs\\Python\\Python311\\Lib\\site-packages\\seaborn\\_core.py:1218: FutureWarning: is_categorical_dtype is deprecated and will be removed in a future version. Use isinstance(dtype, CategoricalDtype) instead\n",
      "  if pd.api.types.is_categorical_dtype(vector):\n",
      "c:\\Users\\Soldado\\AppData\\Local\\Programs\\Python\\Python311\\Lib\\site-packages\\seaborn\\_core.py:1218: FutureWarning: is_categorical_dtype is deprecated and will be removed in a future version. Use isinstance(dtype, CategoricalDtype) instead\n",
      "  if pd.api.types.is_categorical_dtype(vector):\n",
      "c:\\Users\\Soldado\\AppData\\Local\\Programs\\Python\\Python311\\Lib\\site-packages\\seaborn\\_core.py:1218: FutureWarning: is_categorical_dtype is deprecated and will be removed in a future version. Use isinstance(dtype, CategoricalDtype) instead\n",
      "  if pd.api.types.is_categorical_dtype(vector):\n"
     ]
    },
    {
     "data": {
      "text/plain": [
       "<Axes: xlabel='Orari', ylabel='count'>"
      ]
     },
     "execution_count": 3,
     "metadata": {},
     "output_type": "execute_result"
    },
    {
     "data": {
      "image/png": "[encoded data removed]",
      "text/plain": [
       "<Figure size 2300x800 with 1 Axes>"
      ]
     },
     "metadata": {},
     "output_type": "display_data"
    }
   ],
   "source": [
    "import matplotlib.pyplot as plt\n",
    "import seaborn as sns\n",
    "plt.close('all')\n",
    "plt.rc('figure', figsize=(23, 8))\n",
    "#fig, axes = plt.subplots(2, 2)\n",
    "\n",
    "sns.countplot(x='Orari', data=df)"
   ]
  },
  {
   "cell_type": "code",
   "execution_count": 4,
   "metadata": {},
   "outputs": [
    {
     "name": "stdout",
     "output_type": "stream",
     "text": [
      "Fin qui abbiamo analizzato 7 giorni. Sono loro:\n",
      "\n",
      "['2024-03-19', '2024-03-18', '2024-03-20', '2024-03-21', '2024-03-26', '2024-03-25', '2024-03-15']\n"
     ]
    }
   ],
   "source": [
    "giorni = list(set(df.Date.to_list()))\n",
    "print(f\"Fin qui abbiamo analizzato {len(giorni)} giorni. Sono loro:\\n\\n{giorni}\")"
   ]
  },
  {
   "cell_type": "markdown",
   "metadata": {},
   "source": [
    "---"
   ]
  }
 ],
 "metadata": {
  "kernelspec": {
   "display_name": "Python 3",
   "language": "python",
   "name": "python3"
  },
  "language_info": {
   "codemirror_mode": {
    "name": "ipython",
    "version": 3
   },
   "file_extension": ".py",
   "mimetype": "text/x-python",
   "name": "python",
   "nbconvert_exporter": "python",
   "pygments_lexer": "ipython3",
   "version": "3.11.5"
  }
 },
 "nbformat": 4,
 "nbformat_minor": 2
}

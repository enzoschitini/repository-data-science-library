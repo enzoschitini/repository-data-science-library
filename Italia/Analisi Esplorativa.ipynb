{
 "cells": [
  {
   "cell_type": "code",
   "execution_count": 49,
   "metadata": {},
   "outputs": [],
   "source": [
    "import pandas as pd\n",
    "import matplotlib.pyplot as plt\n",
    "import plotly.graph_objects as go\n",
    "import plotly.express as px\n",
    "\n",
    "# Definisci l'ordine dei mesi e anni\n",
    "MESE_ANNO_ORDINE = ['Maggio_2023', 'Giugno_2023', 'Luglio_2023', 'Agosto_2023', 'Settembre_2023', 'Ottobre_2023',\n",
    "                'Novembre_2023', 'Dicembre_2023', 'Gennaio_2024', 'Febbraio_2024', 'Marzo_2024',\n",
    "                'Aprile_2024', 'Maggio_2024', 'Giugno_2024', 'Luglio_2024', 'Agosto_2024', 'Settembre_2024']"
   ]
  },
  {
   "cell_type": "code",
   "execution_count": 50,
   "metadata": {},
   "outputs": [
    {
     "data": {
      "text/html": [
       "<div>\n",
       "<style scoped>\n",
       "    .dataframe tbody tr th:only-of-type {\n",
       "        vertical-align: middle;\n",
       "    }\n",
       "\n",
       "    .dataframe tbody tr th {\n",
       "        vertical-align: top;\n",
       "    }\n",
       "\n",
       "    .dataframe thead th {\n",
       "        text-align: right;\n",
       "    }\n",
       "</style>\n",
       "<table border=\"1\" class=\"dataframe\">\n",
       "  <thead>\n",
       "    <tr style=\"text-align: right;\">\n",
       "      <th></th>\n",
       "      <th>Index</th>\n",
       "      <th>Data</th>\n",
       "      <th>Ora</th>\n",
       "      <th>Professoressa</th>\n",
       "      <th>Livello</th>\n",
       "      <th>Lezione</th>\n",
       "      <th>Giorno della settimana</th>\n",
       "      <th>Mese</th>\n",
       "      <th>Anno</th>\n",
       "      <th>MESE_ANNO</th>\n",
       "    </tr>\n",
       "  </thead>\n",
       "  <tbody>\n",
       "    <tr>\n",
       "      <th>0</th>\n",
       "      <td>1</td>\n",
       "      <td>2023-05-22</td>\n",
       "      <td>8</td>\n",
       "      <td>Virginia</td>\n",
       "      <td>B1</td>\n",
       "      <td>B132</td>\n",
       "      <td>Lunedì</td>\n",
       "      <td>Maggio</td>\n",
       "      <td>2023</td>\n",
       "      <td>Maggio_2023</td>\n",
       "    </tr>\n",
       "    <tr>\n",
       "      <th>1</th>\n",
       "      <td>2</td>\n",
       "      <td>2023-05-22</td>\n",
       "      <td>11</td>\n",
       "      <td>Graziana</td>\n",
       "      <td>B1</td>\n",
       "      <td>B135</td>\n",
       "      <td>Lunedì</td>\n",
       "      <td>Maggio</td>\n",
       "      <td>2023</td>\n",
       "      <td>Maggio_2023</td>\n",
       "    </tr>\n",
       "    <tr>\n",
       "      <th>2</th>\n",
       "      <td>3</td>\n",
       "      <td>2023-05-23</td>\n",
       "      <td>10</td>\n",
       "      <td>Francesca</td>\n",
       "      <td>C1</td>\n",
       "      <td>C123</td>\n",
       "      <td>Martedì</td>\n",
       "      <td>Maggio</td>\n",
       "      <td>2023</td>\n",
       "      <td>Maggio_2023</td>\n",
       "    </tr>\n",
       "    <tr>\n",
       "      <th>3</th>\n",
       "      <td>4</td>\n",
       "      <td>2023-05-23</td>\n",
       "      <td>11</td>\n",
       "      <td>Sara</td>\n",
       "      <td>B1</td>\n",
       "      <td>B143</td>\n",
       "      <td>Martedì</td>\n",
       "      <td>Maggio</td>\n",
       "      <td>2023</td>\n",
       "      <td>Maggio_2023</td>\n",
       "    </tr>\n",
       "    <tr>\n",
       "      <th>4</th>\n",
       "      <td>5</td>\n",
       "      <td>2023-05-24</td>\n",
       "      <td>10</td>\n",
       "      <td>Alice</td>\n",
       "      <td>B1</td>\n",
       "      <td>B141</td>\n",
       "      <td>Mercoledì</td>\n",
       "      <td>Maggio</td>\n",
       "      <td>2023</td>\n",
       "      <td>Maggio_2023</td>\n",
       "    </tr>\n",
       "  </tbody>\n",
       "</table>\n",
       "</div>"
      ],
      "text/plain": [
       "   Index        Data  Ora Professoressa Livello Lezione  \\\n",
       "0      1  2023-05-22    8      Virginia      B1    B132   \n",
       "1      2  2023-05-22   11      Graziana      B1    B135   \n",
       "2      3  2023-05-23   10     Francesca      C1    C123   \n",
       "3      4  2023-05-23   11          Sara      B1    B143   \n",
       "4      5  2023-05-24   10         Alice      B1    B141   \n",
       "\n",
       "  Giorno della settimana    Mese  Anno    MESE_ANNO  \n",
       "0                 Lunedì  Maggio  2023  Maggio_2023  \n",
       "1                 Lunedì  Maggio  2023  Maggio_2023  \n",
       "2                Martedì  Maggio  2023  Maggio_2023  \n",
       "3                Martedì  Maggio  2023  Maggio_2023  \n",
       "4              Mercoledì  Maggio  2023  Maggio_2023  "
      ]
     },
     "execution_count": 50,
     "metadata": {},
     "output_type": "execute_result"
    }
   ],
   "source": [
    "df = pd.read_csv('Lezioni.csv').drop(columns='Unnamed: 0')\n",
    "#pd.DataFrame(df[(df['Index'] >= 269) & (df['Index'] <= 294)]['Professoressa'].value_counts().head(25))\n",
    "df['MESE_ANNO'] = df['Mese'].astype(str) + '_' + df['Anno'].astype(str)\n",
    "df.head()"
   ]
  },
  {
   "cell_type": "code",
   "execution_count": 51,
   "metadata": {},
   "outputs": [
    {
     "data": {
      "text/html": [
       "<div>\n",
       "<style scoped>\n",
       "    .dataframe tbody tr th:only-of-type {\n",
       "        vertical-align: middle;\n",
       "    }\n",
       "\n",
       "    .dataframe tbody tr th {\n",
       "        vertical-align: top;\n",
       "    }\n",
       "\n",
       "    .dataframe thead th {\n",
       "        text-align: right;\n",
       "    }\n",
       "</style>\n",
       "<table border=\"1\" class=\"dataframe\">\n",
       "  <thead>\n",
       "    <tr style=\"text-align: right;\">\n",
       "      <th></th>\n",
       "      <th>Index</th>\n",
       "      <th>Data</th>\n",
       "      <th>Ora</th>\n",
       "      <th>Professoressa</th>\n",
       "      <th>Livello</th>\n",
       "      <th>Lezione</th>\n",
       "      <th>Giorno della settimana</th>\n",
       "      <th>Mese</th>\n",
       "      <th>Anno</th>\n",
       "      <th>MESE_ANNO</th>\n",
       "    </tr>\n",
       "  </thead>\n",
       "  <tbody>\n",
       "    <tr>\n",
       "      <th>346</th>\n",
       "      <td>347</td>\n",
       "      <td>2024-09-12</td>\n",
       "      <td>10</td>\n",
       "      <td>Miriam</td>\n",
       "      <td>B2</td>\n",
       "      <td>B243</td>\n",
       "      <td>Giovedì</td>\n",
       "      <td>Settembre</td>\n",
       "      <td>2024</td>\n",
       "      <td>Settembre_2024</td>\n",
       "    </tr>\n",
       "    <tr>\n",
       "      <th>345</th>\n",
       "      <td>346</td>\n",
       "      <td>2024-09-11</td>\n",
       "      <td>9</td>\n",
       "      <td>Maddalena</td>\n",
       "      <td>C1</td>\n",
       "      <td>C119</td>\n",
       "      <td>Mercoledì</td>\n",
       "      <td>Settembre</td>\n",
       "      <td>2024</td>\n",
       "      <td>Settembre_2024</td>\n",
       "    </tr>\n",
       "    <tr>\n",
       "      <th>344</th>\n",
       "      <td>345</td>\n",
       "      <td>2024-09-11</td>\n",
       "      <td>7</td>\n",
       "      <td>Simona</td>\n",
       "      <td>C1</td>\n",
       "      <td>C118</td>\n",
       "      <td>Mercoledì</td>\n",
       "      <td>Settembre</td>\n",
       "      <td>2024</td>\n",
       "      <td>Settembre_2024</td>\n",
       "    </tr>\n",
       "    <tr>\n",
       "      <th>343</th>\n",
       "      <td>344</td>\n",
       "      <td>2024-09-10</td>\n",
       "      <td>9</td>\n",
       "      <td>Giulia</td>\n",
       "      <td>B1</td>\n",
       "      <td>B136</td>\n",
       "      <td>Martedì</td>\n",
       "      <td>Settembre</td>\n",
       "      <td>2024</td>\n",
       "      <td>Settembre_2024</td>\n",
       "    </tr>\n",
       "    <tr>\n",
       "      <th>342</th>\n",
       "      <td>343</td>\n",
       "      <td>2024-09-06</td>\n",
       "      <td>7</td>\n",
       "      <td>Chiara 2</td>\n",
       "      <td>C1</td>\n",
       "      <td>C122</td>\n",
       "      <td>Venerdì</td>\n",
       "      <td>Settembre</td>\n",
       "      <td>2024</td>\n",
       "      <td>Settembre_2024</td>\n",
       "    </tr>\n",
       "  </tbody>\n",
       "</table>\n",
       "</div>"
      ],
      "text/plain": [
       "     Index        Data  Ora Professoressa Livello Lezione  \\\n",
       "346    347  2024-09-12   10        Miriam      B2    B243   \n",
       "345    346  2024-09-11    9     Maddalena      C1    C119   \n",
       "344    345  2024-09-11    7        Simona      C1    C118   \n",
       "343    344  2024-09-10    9        Giulia      B1    B136   \n",
       "342    343  2024-09-06    7      Chiara 2      C1    C122   \n",
       "\n",
       "    Giorno della settimana       Mese  Anno       MESE_ANNO  \n",
       "346                Giovedì  Settembre  2024  Settembre_2024  \n",
       "345              Mercoledì  Settembre  2024  Settembre_2024  \n",
       "344              Mercoledì  Settembre  2024  Settembre_2024  \n",
       "343                Martedì  Settembre  2024  Settembre_2024  \n",
       "342                Venerdì  Settembre  2024  Settembre_2024  "
      ]
     },
     "execution_count": 51,
     "metadata": {},
     "output_type": "execute_result"
    }
   ],
   "source": [
    "df_ascending_false = df.sort_values(by='Data', ascending=False)\n",
    "df_ascending_false.head()#.to_clipboard()"
   ]
  },
  {
   "cell_type": "code",
   "execution_count": 52,
   "metadata": {},
   "outputs": [
    {
     "data": {
      "text/html": [
       "<div>\n",
       "<style scoped>\n",
       "    .dataframe tbody tr th:only-of-type {\n",
       "        vertical-align: middle;\n",
       "    }\n",
       "\n",
       "    .dataframe tbody tr th {\n",
       "        vertical-align: top;\n",
       "    }\n",
       "\n",
       "    .dataframe thead th {\n",
       "        text-align: right;\n",
       "    }\n",
       "</style>\n",
       "<table border=\"1\" class=\"dataframe\">\n",
       "  <thead>\n",
       "    <tr style=\"text-align: right;\">\n",
       "      <th></th>\n",
       "      <th>count</th>\n",
       "      <th>mean</th>\n",
       "      <th>std</th>\n",
       "      <th>min</th>\n",
       "      <th>25%</th>\n",
       "      <th>50%</th>\n",
       "      <th>75%</th>\n",
       "      <th>max</th>\n",
       "    </tr>\n",
       "  </thead>\n",
       "  <tbody>\n",
       "    <tr>\n",
       "      <th>Index</th>\n",
       "      <td>347.0</td>\n",
       "      <td>174.0</td>\n",
       "      <td>100.0</td>\n",
       "      <td>1.0</td>\n",
       "      <td>88.0</td>\n",
       "      <td>174.0</td>\n",
       "      <td>260.0</td>\n",
       "      <td>347.0</td>\n",
       "    </tr>\n",
       "    <tr>\n",
       "      <th>Ora</th>\n",
       "      <td>347.0</td>\n",
       "      <td>9.0</td>\n",
       "      <td>2.0</td>\n",
       "      <td>7.0</td>\n",
       "      <td>7.0</td>\n",
       "      <td>9.0</td>\n",
       "      <td>10.0</td>\n",
       "      <td>18.0</td>\n",
       "    </tr>\n",
       "    <tr>\n",
       "      <th>Anno</th>\n",
       "      <td>347.0</td>\n",
       "      <td>2023.0</td>\n",
       "      <td>0.0</td>\n",
       "      <td>2023.0</td>\n",
       "      <td>2023.0</td>\n",
       "      <td>2023.0</td>\n",
       "      <td>2024.0</td>\n",
       "      <td>2024.0</td>\n",
       "    </tr>\n",
       "  </tbody>\n",
       "</table>\n",
       "</div>"
      ],
      "text/plain": [
       "       count    mean    std     min     25%     50%     75%     max\n",
       "Index  347.0   174.0  100.0     1.0    88.0   174.0   260.0   347.0\n",
       "Ora    347.0     9.0    2.0     7.0     7.0     9.0    10.0    18.0\n",
       "Anno   347.0  2023.0    0.0  2023.0  2023.0  2023.0  2024.0  2024.0"
      ]
     },
     "execution_count": 52,
     "metadata": {},
     "output_type": "execute_result"
    }
   ],
   "source": [
    "df.describe().round().T"
   ]
  },
  {
   "cell_type": "code",
   "execution_count": 53,
   "metadata": {},
   "outputs": [
    {
     "data": {
      "text/html": [
       "<div>\n",
       "<style scoped>\n",
       "    .dataframe tbody tr th:only-of-type {\n",
       "        vertical-align: middle;\n",
       "    }\n",
       "\n",
       "    .dataframe tbody tr th {\n",
       "        vertical-align: top;\n",
       "    }\n",
       "\n",
       "    .dataframe thead th {\n",
       "        text-align: right;\n",
       "    }\n",
       "</style>\n",
       "<table border=\"1\" class=\"dataframe\">\n",
       "  <thead>\n",
       "    <tr style=\"text-align: right;\">\n",
       "      <th></th>\n",
       "      <th>Data</th>\n",
       "      <th>Professoressa</th>\n",
       "      <th>Livello</th>\n",
       "      <th>Lezione</th>\n",
       "      <th>Giorno della settimana</th>\n",
       "      <th>Mese</th>\n",
       "      <th>MESE_ANNO</th>\n",
       "    </tr>\n",
       "  </thead>\n",
       "  <tbody>\n",
       "    <tr>\n",
       "      <th>count</th>\n",
       "      <td>347</td>\n",
       "      <td>347</td>\n",
       "      <td>347</td>\n",
       "      <td>347</td>\n",
       "      <td>347</td>\n",
       "      <td>347</td>\n",
       "      <td>347</td>\n",
       "    </tr>\n",
       "    <tr>\n",
       "      <th>unique</th>\n",
       "      <td>251</td>\n",
       "      <td>67</td>\n",
       "      <td>3</td>\n",
       "      <td>102</td>\n",
       "      <td>7</td>\n",
       "      <td>12</td>\n",
       "      <td>17</td>\n",
       "    </tr>\n",
       "    <tr>\n",
       "      <th>top</th>\n",
       "      <td>2023-07-03</td>\n",
       "      <td>Federica</td>\n",
       "      <td>C1</td>\n",
       "      <td>C119</td>\n",
       "      <td>Lunedì</td>\n",
       "      <td>Giugno</td>\n",
       "      <td>Agosto_2023</td>\n",
       "    </tr>\n",
       "    <tr>\n",
       "      <th>freq</th>\n",
       "      <td>4</td>\n",
       "      <td>27</td>\n",
       "      <td>159</td>\n",
       "      <td>10</td>\n",
       "      <td>76</td>\n",
       "      <td>58</td>\n",
       "      <td>33</td>\n",
       "    </tr>\n",
       "  </tbody>\n",
       "</table>\n",
       "</div>"
      ],
      "text/plain": [
       "              Data Professoressa Livello Lezione Giorno della settimana  \\\n",
       "count          347           347     347     347                    347   \n",
       "unique         251            67       3     102                      7   \n",
       "top     2023-07-03      Federica      C1    C119                 Lunedì   \n",
       "freq             4            27     159      10                     76   \n",
       "\n",
       "          Mese    MESE_ANNO  \n",
       "count      347          347  \n",
       "unique      12           17  \n",
       "top     Giugno  Agosto_2023  \n",
       "freq        58           33  "
      ]
     },
     "execution_count": 53,
     "metadata": {},
     "output_type": "execute_result"
    }
   ],
   "source": [
    "df.select_dtypes('object').describe()"
   ]
  },
  {
   "cell_type": "code",
   "execution_count": 54,
   "metadata": {},
   "outputs": [],
   "source": [
    "def ordina_in_base_al_periodo(dizionario_da_ordinare):\n",
    "    dizionario_ordinato = {chiave: dizionario_da_ordinare[chiave] for chiave in MESE_ANNO_ORDINE if chiave in dizionario_da_ordinare}\n",
    "    return dizionario_ordinato\n",
    "\n",
    "dizionario_ordinato = ordina_in_base_al_periodo(df_ascending_false.groupby('MESE_ANNO')['Index'].count())\n",
    "ora_media = ordina_in_base_al_periodo(round(df_ascending_false.groupby('MESE_ANNO')['Ora'].mean()))"
   ]
  },
  {
   "cell_type": "code",
   "execution_count": 55,
   "metadata": {},
   "outputs": [
    {
     "data": {
      "application/vnd.plotly.v1+json": {
       "config": {
        "plotlyServerURL": "https://plot.ly"
       },
       "data": [
        {
         "mode": "lines+markers",
         "name": "Lezioni",
         "type": "scatter",
         "x": [
          "Maggio_2023",
          "Giugno_2023",
          "Luglio_2023",
          "Agosto_2023",
          "Settembre_2023",
          "Ottobre_2023",
          "Novembre_2023",
          "Dicembre_2023",
          "Gennaio_2024",
          "Febbraio_2024",
          "Marzo_2024",
          "Maggio_2024",
          "Giugno_2024",
          "Luglio_2024",
          "Agosto_2024",
          "Settembre_2024"
         ],
         "y": [
          16,
          32,
          24,
          33,
          24,
          30,
          19,
          11,
          14,
          8,
          23,
          15,
          26,
          24,
          19,
          10
         ]
        },
        {
         "mode": "lines+markers",
         "name": "L'ora media",
         "type": "scatter",
         "x": [
          "Maggio_2023",
          "Giugno_2023",
          "Luglio_2023",
          "Agosto_2023",
          "Settembre_2023",
          "Ottobre_2023",
          "Novembre_2023",
          "Dicembre_2023",
          "Gennaio_2024",
          "Febbraio_2024",
          "Marzo_2024",
          "Maggio_2024",
          "Giugno_2024",
          "Luglio_2024",
          "Agosto_2024",
          "Settembre_2024"
         ],
         "y": [
          10,
          9,
          8,
          9,
          9,
          8,
          8,
          8,
          10,
          8,
          9,
          10,
          9,
          9,
          9,
          9
         ]
        }
       ],
       "layout": {
        "legend": {
         "title": {
          "text": ""
         }
        },
        "template": {
         "data": {
          "bar": [
           {
            "error_x": {
             "color": "#2a3f5f"
            },
            "error_y": {
             "color": "#2a3f5f"
            },
            "marker": {
             "line": {
              "color": "white",
              "width": 0.5
             },
             "pattern": {
              "fillmode": "overlay",
              "size": 10,
              "solidity": 0.2
             }
            },
            "type": "bar"
           }
          ],
          "barpolar": [
           {
            "marker": {
             "line": {
              "color": "white",
              "width": 0.5
             },
             "pattern": {
              "fillmode": "overlay",
              "size": 10,
              "solidity": 0.2
             }
            },
            "type": "barpolar"
           }
          ],
          "carpet": [
           {
            "aaxis": {
             "endlinecolor": "#2a3f5f",
             "gridcolor": "#C8D4E3",
             "linecolor": "#C8D4E3",
             "minorgridcolor": "#C8D4E3",
             "startlinecolor": "#2a3f5f"
            },
            "baxis": {
             "endlinecolor": "#2a3f5f",
             "gridcolor": "#C8D4E3",
             "linecolor": "#C8D4E3",
             "minorgridcolor": "#C8D4E3",
             "startlinecolor": "#2a3f5f"
            },
            "type": "carpet"
           }
          ],
          "choropleth": [
           {
            "colorbar": {
             "outlinewidth": 0,
             "ticks": ""
            },
            "type": "choropleth"
           }
          ],
          "contour": [
           {
            "colorbar": {
             "outlinewidth": 0,
             "ticks": ""
            },
            "colorscale": [
             [
              0,
              "#0d0887"
             ],
             [
              0.1111111111111111,
              "#46039f"
             ],
             [
              0.2222222222222222,
              "#7201a8"
             ],
             [
              0.3333333333333333,
              "#9c179e"
             ],
             [
              0.4444444444444444,
              "#bd3786"
             ],
             [
              0.5555555555555556,
              "#d8576b"
             ],
             [
              0.6666666666666666,
              "#ed7953"
             ],
             [
              0.7777777777777778,
              "#fb9f3a"
             ],
             [
              0.8888888888888888,
              "#fdca26"
             ],
             [
              1,
              "#f0f921"
             ]
            ],
            "type": "contour"
           }
          ],
          "contourcarpet": [
           {
            "colorbar": {
             "outlinewidth": 0,
             "ticks": ""
            },
            "type": "contourcarpet"
           }
          ],
          "heatmap": [
           {
            "colorbar": {
             "outlinewidth": 0,
             "ticks": ""
            },
            "colorscale": [
             [
              0,
              "#0d0887"
             ],
             [
              0.1111111111111111,
              "#46039f"
             ],
             [
              0.2222222222222222,
              "#7201a8"
             ],
             [
              0.3333333333333333,
              "#9c179e"
             ],
             [
              0.4444444444444444,
              "#bd3786"
             ],
             [
              0.5555555555555556,
              "#d8576b"
             ],
             [
              0.6666666666666666,
              "#ed7953"
             ],
             [
              0.7777777777777778,
              "#fb9f3a"
             ],
             [
              0.8888888888888888,
              "#fdca26"
             ],
             [
              1,
              "#f0f921"
             ]
            ],
            "type": "heatmap"
           }
          ],
          "heatmapgl": [
           {
            "colorbar": {
             "outlinewidth": 0,
             "ticks": ""
            },
            "colorscale": [
             [
              0,
              "#0d0887"
             ],
             [
              0.1111111111111111,
              "#46039f"
             ],
             [
              0.2222222222222222,
              "#7201a8"
             ],
             [
              0.3333333333333333,
              "#9c179e"
             ],
             [
              0.4444444444444444,
              "#bd3786"
             ],
             [
              0.5555555555555556,
              "#d8576b"
             ],
             [
              0.6666666666666666,
              "#ed7953"
             ],
             [
              0.7777777777777778,
              "#fb9f3a"
             ],
             [
              0.8888888888888888,
              "#fdca26"
             ],
             [
              1,
              "#f0f921"
             ]
            ],
            "type": "heatmapgl"
           }
          ],
          "histogram": [
           {
            "marker": {
             "pattern": {
              "fillmode": "overlay",
              "size": 10,
              "solidity": 0.2
             }
            },
            "type": "histogram"
           }
          ],
          "histogram2d": [
           {
            "colorbar": {
             "outlinewidth": 0,
             "ticks": ""
            },
            "colorscale": [
             [
              0,
              "#0d0887"
             ],
             [
              0.1111111111111111,
              "#46039f"
             ],
             [
              0.2222222222222222,
              "#7201a8"
             ],
             [
              0.3333333333333333,
              "#9c179e"
             ],
             [
              0.4444444444444444,
              "#bd3786"
             ],
             [
              0.5555555555555556,
              "#d8576b"
             ],
             [
              0.6666666666666666,
              "#ed7953"
             ],
             [
              0.7777777777777778,
              "#fb9f3a"
             ],
             [
              0.8888888888888888,
              "#fdca26"
             ],
             [
              1,
              "#f0f921"
             ]
            ],
            "type": "histogram2d"
           }
          ],
          "histogram2dcontour": [
           {
            "colorbar": {
             "outlinewidth": 0,
             "ticks": ""
            },
            "colorscale": [
             [
              0,
              "#0d0887"
             ],
             [
              0.1111111111111111,
              "#46039f"
             ],
             [
              0.2222222222222222,
              "#7201a8"
             ],
             [
              0.3333333333333333,
              "#9c179e"
             ],
             [
              0.4444444444444444,
              "#bd3786"
             ],
             [
              0.5555555555555556,
              "#d8576b"
             ],
             [
              0.6666666666666666,
              "#ed7953"
             ],
             [
              0.7777777777777778,
              "#fb9f3a"
             ],
             [
              0.8888888888888888,
              "#fdca26"
             ],
             [
              1,
              "#f0f921"
             ]
            ],
            "type": "histogram2dcontour"
           }
          ],
          "mesh3d": [
           {
            "colorbar": {
             "outlinewidth": 0,
             "ticks": ""
            },
            "type": "mesh3d"
           }
          ],
          "parcoords": [
           {
            "line": {
             "colorbar": {
              "outlinewidth": 0,
              "ticks": ""
             }
            },
            "type": "parcoords"
           }
          ],
          "pie": [
           {
            "automargin": true,
            "type": "pie"
           }
          ],
          "scatter": [
           {
            "fillpattern": {
             "fillmode": "overlay",
             "size": 10,
             "solidity": 0.2
            },
            "type": "scatter"
           }
          ],
          "scatter3d": [
           {
            "line": {
             "colorbar": {
              "outlinewidth": 0,
              "ticks": ""
             }
            },
            "marker": {
             "colorbar": {
              "outlinewidth": 0,
              "ticks": ""
             }
            },
            "type": "scatter3d"
           }
          ],
          "scattercarpet": [
           {
            "marker": {
             "colorbar": {
              "outlinewidth": 0,
              "ticks": ""
             }
            },
            "type": "scattercarpet"
           }
          ],
          "scattergeo": [
           {
            "marker": {
             "colorbar": {
              "outlinewidth": 0,
              "ticks": ""
             }
            },
            "type": "scattergeo"
           }
          ],
          "scattergl": [
           {
            "marker": {
             "colorbar": {
              "outlinewidth": 0,
              "ticks": ""
             }
            },
            "type": "scattergl"
           }
          ],
          "scattermapbox": [
           {
            "marker": {
             "colorbar": {
              "outlinewidth": 0,
              "ticks": ""
             }
            },
            "type": "scattermapbox"
           }
          ],
          "scatterpolar": [
           {
            "marker": {
             "colorbar": {
              "outlinewidth": 0,
              "ticks": ""
             }
            },
            "type": "scatterpolar"
           }
          ],
          "scatterpolargl": [
           {
            "marker": {
             "colorbar": {
              "outlinewidth": 0,
              "ticks": ""
             }
            },
            "type": "scatterpolargl"
           }
          ],
          "scatterternary": [
           {
            "marker": {
             "colorbar": {
              "outlinewidth": 0,
              "ticks": ""
             }
            },
            "type": "scatterternary"
           }
          ],
          "surface": [
           {
            "colorbar": {
             "outlinewidth": 0,
             "ticks": ""
            },
            "colorscale": [
             [
              0,
              "#0d0887"
             ],
             [
              0.1111111111111111,
              "#46039f"
             ],
             [
              0.2222222222222222,
              "#7201a8"
             ],
             [
              0.3333333333333333,
              "#9c179e"
             ],
             [
              0.4444444444444444,
              "#bd3786"
             ],
             [
              0.5555555555555556,
              "#d8576b"
             ],
             [
              0.6666666666666666,
              "#ed7953"
             ],
             [
              0.7777777777777778,
              "#fb9f3a"
             ],
             [
              0.8888888888888888,
              "#fdca26"
             ],
             [
              1,
              "#f0f921"
             ]
            ],
            "type": "surface"
           }
          ],
          "table": [
           {
            "cells": {
             "fill": {
              "color": "#EBF0F8"
             },
             "line": {
              "color": "white"
             }
            },
            "header": {
             "fill": {
              "color": "#C8D4E3"
             },
             "line": {
              "color": "white"
             }
            },
            "type": "table"
           }
          ]
         },
         "layout": {
          "annotationdefaults": {
           "arrowcolor": "#2a3f5f",
           "arrowhead": 0,
           "arrowwidth": 1
          },
          "autotypenumbers": "strict",
          "coloraxis": {
           "colorbar": {
            "outlinewidth": 0,
            "ticks": ""
           }
          },
          "colorscale": {
           "diverging": [
            [
             0,
             "#8e0152"
            ],
            [
             0.1,
             "#c51b7d"
            ],
            [
             0.2,
             "#de77ae"
            ],
            [
             0.3,
             "#f1b6da"
            ],
            [
             0.4,
             "#fde0ef"
            ],
            [
             0.5,
             "#f7f7f7"
            ],
            [
             0.6,
             "#e6f5d0"
            ],
            [
             0.7,
             "#b8e186"
            ],
            [
             0.8,
             "#7fbc41"
            ],
            [
             0.9,
             "#4d9221"
            ],
            [
             1,
             "#276419"
            ]
           ],
           "sequential": [
            [
             0,
             "#0d0887"
            ],
            [
             0.1111111111111111,
             "#46039f"
            ],
            [
             0.2222222222222222,
             "#7201a8"
            ],
            [
             0.3333333333333333,
             "#9c179e"
            ],
            [
             0.4444444444444444,
             "#bd3786"
            ],
            [
             0.5555555555555556,
             "#d8576b"
            ],
            [
             0.6666666666666666,
             "#ed7953"
            ],
            [
             0.7777777777777778,
             "#fb9f3a"
            ],
            [
             0.8888888888888888,
             "#fdca26"
            ],
            [
             1,
             "#f0f921"
            ]
           ],
           "sequentialminus": [
            [
             0,
             "#0d0887"
            ],
            [
             0.1111111111111111,
             "#46039f"
            ],
            [
             0.2222222222222222,
             "#7201a8"
            ],
            [
             0.3333333333333333,
             "#9c179e"
            ],
            [
             0.4444444444444444,
             "#bd3786"
            ],
            [
             0.5555555555555556,
             "#d8576b"
            ],
            [
             0.6666666666666666,
             "#ed7953"
            ],
            [
             0.7777777777777778,
             "#fb9f3a"
            ],
            [
             0.8888888888888888,
             "#fdca26"
            ],
            [
             1,
             "#f0f921"
            ]
           ]
          },
          "colorway": [
           "#636efa",
           "#EF553B",
           "#00cc96",
           "#ab63fa",
           "#FFA15A",
           "#19d3f3",
           "#FF6692",
           "#B6E880",
           "#FF97FF",
           "#FECB52"
          ],
          "font": {
           "color": "#2a3f5f"
          },
          "geo": {
           "bgcolor": "white",
           "lakecolor": "white",
           "landcolor": "white",
           "showlakes": true,
           "showland": true,
           "subunitcolor": "#C8D4E3"
          },
          "hoverlabel": {
           "align": "left"
          },
          "hovermode": "closest",
          "mapbox": {
           "style": "light"
          },
          "paper_bgcolor": "white",
          "plot_bgcolor": "white",
          "polar": {
           "angularaxis": {
            "gridcolor": "#EBF0F8",
            "linecolor": "#EBF0F8",
            "ticks": ""
           },
           "bgcolor": "white",
           "radialaxis": {
            "gridcolor": "#EBF0F8",
            "linecolor": "#EBF0F8",
            "ticks": ""
           }
          },
          "scene": {
           "xaxis": {
            "backgroundcolor": "white",
            "gridcolor": "#DFE8F3",
            "gridwidth": 2,
            "linecolor": "#EBF0F8",
            "showbackground": true,
            "ticks": "",
            "zerolinecolor": "#EBF0F8"
           },
           "yaxis": {
            "backgroundcolor": "white",
            "gridcolor": "#DFE8F3",
            "gridwidth": 2,
            "linecolor": "#EBF0F8",
            "showbackground": true,
            "ticks": "",
            "zerolinecolor": "#EBF0F8"
           },
           "zaxis": {
            "backgroundcolor": "white",
            "gridcolor": "#DFE8F3",
            "gridwidth": 2,
            "linecolor": "#EBF0F8",
            "showbackground": true,
            "ticks": "",
            "zerolinecolor": "#EBF0F8"
           }
          },
          "shapedefaults": {
           "line": {
            "color": "#2a3f5f"
           }
          },
          "ternary": {
           "aaxis": {
            "gridcolor": "#DFE8F3",
            "linecolor": "#A2B1C6",
            "ticks": ""
           },
           "baxis": {
            "gridcolor": "#DFE8F3",
            "linecolor": "#A2B1C6",
            "ticks": ""
           },
           "bgcolor": "white",
           "caxis": {
            "gridcolor": "#DFE8F3",
            "linecolor": "#A2B1C6",
            "ticks": ""
           }
          },
          "title": {
           "x": 0.05
          },
          "xaxis": {
           "automargin": true,
           "gridcolor": "#EBF0F8",
           "linecolor": "#EBF0F8",
           "ticks": "",
           "title": {
            "standoff": 15
           },
           "zerolinecolor": "#EBF0F8",
           "zerolinewidth": 2
          },
          "yaxis": {
           "automargin": true,
           "gridcolor": "#EBF0F8",
           "linecolor": "#EBF0F8",
           "ticks": "",
           "title": {
            "standoff": 15
           },
           "zerolinecolor": "#EBF0F8",
           "zerolinewidth": 2
          }
         }
        },
        "title": {
         "text": "Quantità di Lezioni per periodi"
        },
        "xaxis": {
         "tickmode": "linear",
         "title": {
          "text": "Periodo"
         }
        },
        "yaxis": {
         "title": {
          "text": "Quantità"
         }
        }
       }
      }
     },
     "metadata": {},
     "output_type": "display_data"
    }
   ],
   "source": [
    "def grafico_di_linea(list_dic, names, title, xaxis_title, yaxis_title, legend_title):\n",
    "    # Crea il grafico a linee\n",
    "    fig = go.Figure()\n",
    "\n",
    "    # Itera attraverso i dizionari e i nomi\n",
    "    for dic, name in zip(list_dic, names):\n",
    "        fig.add_trace(go.Scatter(x=list(dic.keys()), y=list(dic.values()), \n",
    "                                 mode='lines+markers', name=name))\n",
    "\n",
    "    # Aggiungi titolo e etichette agli assi\n",
    "    fig.update_layout(\n",
    "        title=title,\n",
    "        xaxis_title=xaxis_title,\n",
    "        yaxis_title=yaxis_title,\n",
    "        legend_title=legend_title,\n",
    "        template='plotly_white',\n",
    "        xaxis=dict(\n",
    "            tickmode='linear'  # Forza la visualizzazione di tutti i mesi sull'asse X\n",
    "        )\n",
    "    )\n",
    "\n",
    "    # Mostra il grafico\n",
    "    fig.show()\n",
    "\n",
    "# Esempio di chiamata alla funzione\n",
    "grafico_di_linea(\n",
    "    list_dic=[dizionario_ordinato, ora_media], \n",
    "    names=['Lezioni', \"L'ora media\"], \n",
    "    title='Quantità di Lezioni per periodi', \n",
    "    xaxis_title='Periodo', \n",
    "    yaxis_title='Quantità', \n",
    "    legend_title=''\n",
    ")"
   ]
  },
  {
   "cell_type": "code",
   "execution_count": 56,
   "metadata": {},
   "outputs": [
    {
     "name": "stderr",
     "output_type": "stream",
     "text": [
      "C:\\Users\\ES\\AppData\\Local\\Temp\\ipykernel_7300\\2106972722.py:6: FutureWarning:\n",
      "\n",
      "The default of observed=False is deprecated and will be changed to True in a future version of pandas. Pass observed=False to retain current behavior or observed=True to adopt the future default and silence this warning.\n",
      "\n"
     ]
    },
    {
     "data": {
      "application/vnd.plotly.v1+json": {
       "config": {
        "plotlyServerURL": "https://plot.ly"
       },
       "data": [
        {
         "hovertemplate": "Livello=B1<br>Mese e Anno=%{x}<br>Numero di Lezioni=%{y}<extra></extra>",
         "legendgroup": "B1",
         "line": {
          "color": "#636efa",
          "dash": "solid"
         },
         "marker": {
          "symbol": "circle"
         },
         "mode": "lines",
         "name": "B1",
         "orientation": "v",
         "showlegend": true,
         "type": "scatter",
         "x": [
          "Maggio_2023",
          "Giugno_2023",
          "Luglio_2023",
          "Agosto_2023",
          "Settembre_2023",
          "Ottobre_2023",
          "Novembre_2023",
          "Dicembre_2023",
          "Gennaio_2024",
          "Febbraio_2024",
          "Marzo_2024",
          "Aprile_2024",
          "Maggio_2024",
          "Giugno_2024",
          "Luglio_2024",
          "Agosto_2024",
          "Settembre_2024"
         ],
         "xaxis": "x",
         "y": [
          10,
          15,
          14,
          8,
          5,
          2,
          2,
          0,
          2,
          1,
          1,
          0,
          2,
          4,
          3,
          2,
          2
         ],
         "yaxis": "y"
        },
        {
         "hovertemplate": "Livello=B2<br>Mese e Anno=%{x}<br>Numero di Lezioni=%{y}<extra></extra>",
         "legendgroup": "B2",
         "line": {
          "color": "#EF553B",
          "dash": "solid"
         },
         "marker": {
          "symbol": "circle"
         },
         "mode": "lines",
         "name": "B2",
         "orientation": "v",
         "showlegend": true,
         "type": "scatter",
         "x": [
          "Maggio_2023",
          "Giugno_2023",
          "Luglio_2023",
          "Agosto_2023",
          "Settembre_2023",
          "Ottobre_2023",
          "Novembre_2023",
          "Dicembre_2023",
          "Gennaio_2024",
          "Febbraio_2024",
          "Marzo_2024",
          "Aprile_2024",
          "Maggio_2024",
          "Giugno_2024",
          "Luglio_2024",
          "Agosto_2024",
          "Settembre_2024"
         ],
         "xaxis": "x",
         "y": [
          1,
          8,
          7,
          14,
          8,
          13,
          8,
          3,
          3,
          4,
          8,
          0,
          3,
          6,
          9,
          8,
          4
         ],
         "yaxis": "y"
        },
        {
         "hovertemplate": "Livello=C1<br>Mese e Anno=%{x}<br>Numero di Lezioni=%{y}<extra></extra>",
         "legendgroup": "C1",
         "line": {
          "color": "#00cc96",
          "dash": "solid"
         },
         "marker": {
          "symbol": "circle"
         },
         "mode": "lines",
         "name": "C1",
         "orientation": "v",
         "showlegend": true,
         "type": "scatter",
         "x": [
          "Maggio_2023",
          "Giugno_2023",
          "Luglio_2023",
          "Agosto_2023",
          "Settembre_2023",
          "Ottobre_2023",
          "Novembre_2023",
          "Dicembre_2023",
          "Gennaio_2024",
          "Febbraio_2024",
          "Marzo_2024",
          "Aprile_2024",
          "Maggio_2024",
          "Giugno_2024",
          "Luglio_2024",
          "Agosto_2024",
          "Settembre_2024"
         ],
         "xaxis": "x",
         "y": [
          5,
          9,
          3,
          11,
          11,
          15,
          9,
          8,
          9,
          3,
          14,
          0,
          10,
          16,
          12,
          9,
          4
         ],
         "yaxis": "y"
        }
       ],
       "layout": {
        "legend": {
         "title": {
          "text": "Livello"
         },
         "tracegroupgap": 0
        },
        "template": {
         "data": {
          "bar": [
           {
            "error_x": {
             "color": "#2a3f5f"
            },
            "error_y": {
             "color": "#2a3f5f"
            },
            "marker": {
             "line": {
              "color": "white",
              "width": 0.5
             },
             "pattern": {
              "fillmode": "overlay",
              "size": 10,
              "solidity": 0.2
             }
            },
            "type": "bar"
           }
          ],
          "barpolar": [
           {
            "marker": {
             "line": {
              "color": "white",
              "width": 0.5
             },
             "pattern": {
              "fillmode": "overlay",
              "size": 10,
              "solidity": 0.2
             }
            },
            "type": "barpolar"
           }
          ],
          "carpet": [
           {
            "aaxis": {
             "endlinecolor": "#2a3f5f",
             "gridcolor": "#C8D4E3",
             "linecolor": "#C8D4E3",
             "minorgridcolor": "#C8D4E3",
             "startlinecolor": "#2a3f5f"
            },
            "baxis": {
             "endlinecolor": "#2a3f5f",
             "gridcolor": "#C8D4E3",
             "linecolor": "#C8D4E3",
             "minorgridcolor": "#C8D4E3",
             "startlinecolor": "#2a3f5f"
            },
            "type": "carpet"
           }
          ],
          "choropleth": [
           {
            "colorbar": {
             "outlinewidth": 0,
             "ticks": ""
            },
            "type": "choropleth"
           }
          ],
          "contour": [
           {
            "colorbar": {
             "outlinewidth": 0,
             "ticks": ""
            },
            "colorscale": [
             [
              0,
              "#0d0887"
             ],
             [
              0.1111111111111111,
              "#46039f"
             ],
             [
              0.2222222222222222,
              "#7201a8"
             ],
             [
              0.3333333333333333,
              "#9c179e"
             ],
             [
              0.4444444444444444,
              "#bd3786"
             ],
             [
              0.5555555555555556,
              "#d8576b"
             ],
             [
              0.6666666666666666,
              "#ed7953"
             ],
             [
              0.7777777777777778,
              "#fb9f3a"
             ],
             [
              0.8888888888888888,
              "#fdca26"
             ],
             [
              1,
              "#f0f921"
             ]
            ],
            "type": "contour"
           }
          ],
          "contourcarpet": [
           {
            "colorbar": {
             "outlinewidth": 0,
             "ticks": ""
            },
            "type": "contourcarpet"
           }
          ],
          "heatmap": [
           {
            "colorbar": {
             "outlinewidth": 0,
             "ticks": ""
            },
            "colorscale": [
             [
              0,
              "#0d0887"
             ],
             [
              0.1111111111111111,
              "#46039f"
             ],
             [
              0.2222222222222222,
              "#7201a8"
             ],
             [
              0.3333333333333333,
              "#9c179e"
             ],
             [
              0.4444444444444444,
              "#bd3786"
             ],
             [
              0.5555555555555556,
              "#d8576b"
             ],
             [
              0.6666666666666666,
              "#ed7953"
             ],
             [
              0.7777777777777778,
              "#fb9f3a"
             ],
             [
              0.8888888888888888,
              "#fdca26"
             ],
             [
              1,
              "#f0f921"
             ]
            ],
            "type": "heatmap"
           }
          ],
          "heatmapgl": [
           {
            "colorbar": {
             "outlinewidth": 0,
             "ticks": ""
            },
            "colorscale": [
             [
              0,
              "#0d0887"
             ],
             [
              0.1111111111111111,
              "#46039f"
             ],
             [
              0.2222222222222222,
              "#7201a8"
             ],
             [
              0.3333333333333333,
              "#9c179e"
             ],
             [
              0.4444444444444444,
              "#bd3786"
             ],
             [
              0.5555555555555556,
              "#d8576b"
             ],
             [
              0.6666666666666666,
              "#ed7953"
             ],
             [
              0.7777777777777778,
              "#fb9f3a"
             ],
             [
              0.8888888888888888,
              "#fdca26"
             ],
             [
              1,
              "#f0f921"
             ]
            ],
            "type": "heatmapgl"
           }
          ],
          "histogram": [
           {
            "marker": {
             "pattern": {
              "fillmode": "overlay",
              "size": 10,
              "solidity": 0.2
             }
            },
            "type": "histogram"
           }
          ],
          "histogram2d": [
           {
            "colorbar": {
             "outlinewidth": 0,
             "ticks": ""
            },
            "colorscale": [
             [
              0,
              "#0d0887"
             ],
             [
              0.1111111111111111,
              "#46039f"
             ],
             [
              0.2222222222222222,
              "#7201a8"
             ],
             [
              0.3333333333333333,
              "#9c179e"
             ],
             [
              0.4444444444444444,
              "#bd3786"
             ],
             [
              0.5555555555555556,
              "#d8576b"
             ],
             [
              0.6666666666666666,
              "#ed7953"
             ],
             [
              0.7777777777777778,
              "#fb9f3a"
             ],
             [
              0.8888888888888888,
              "#fdca26"
             ],
             [
              1,
              "#f0f921"
             ]
            ],
            "type": "histogram2d"
           }
          ],
          "histogram2dcontour": [
           {
            "colorbar": {
             "outlinewidth": 0,
             "ticks": ""
            },
            "colorscale": [
             [
              0,
              "#0d0887"
             ],
             [
              0.1111111111111111,
              "#46039f"
             ],
             [
              0.2222222222222222,
              "#7201a8"
             ],
             [
              0.3333333333333333,
              "#9c179e"
             ],
             [
              0.4444444444444444,
              "#bd3786"
             ],
             [
              0.5555555555555556,
              "#d8576b"
             ],
             [
              0.6666666666666666,
              "#ed7953"
             ],
             [
              0.7777777777777778,
              "#fb9f3a"
             ],
             [
              0.8888888888888888,
              "#fdca26"
             ],
             [
              1,
              "#f0f921"
             ]
            ],
            "type": "histogram2dcontour"
           }
          ],
          "mesh3d": [
           {
            "colorbar": {
             "outlinewidth": 0,
             "ticks": ""
            },
            "type": "mesh3d"
           }
          ],
          "parcoords": [
           {
            "line": {
             "colorbar": {
              "outlinewidth": 0,
              "ticks": ""
             }
            },
            "type": "parcoords"
           }
          ],
          "pie": [
           {
            "automargin": true,
            "type": "pie"
           }
          ],
          "scatter": [
           {
            "fillpattern": {
             "fillmode": "overlay",
             "size": 10,
             "solidity": 0.2
            },
            "type": "scatter"
           }
          ],
          "scatter3d": [
           {
            "line": {
             "colorbar": {
              "outlinewidth": 0,
              "ticks": ""
             }
            },
            "marker": {
             "colorbar": {
              "outlinewidth": 0,
              "ticks": ""
             }
            },
            "type": "scatter3d"
           }
          ],
          "scattercarpet": [
           {
            "marker": {
             "colorbar": {
              "outlinewidth": 0,
              "ticks": ""
             }
            },
            "type": "scattercarpet"
           }
          ],
          "scattergeo": [
           {
            "marker": {
             "colorbar": {
              "outlinewidth": 0,
              "ticks": ""
             }
            },
            "type": "scattergeo"
           }
          ],
          "scattergl": [
           {
            "marker": {
             "colorbar": {
              "outlinewidth": 0,
              "ticks": ""
             }
            },
            "type": "scattergl"
           }
          ],
          "scattermapbox": [
           {
            "marker": {
             "colorbar": {
              "outlinewidth": 0,
              "ticks": ""
             }
            },
            "type": "scattermapbox"
           }
          ],
          "scatterpolar": [
           {
            "marker": {
             "colorbar": {
              "outlinewidth": 0,
              "ticks": ""
             }
            },
            "type": "scatterpolar"
           }
          ],
          "scatterpolargl": [
           {
            "marker": {
             "colorbar": {
              "outlinewidth": 0,
              "ticks": ""
             }
            },
            "type": "scatterpolargl"
           }
          ],
          "scatterternary": [
           {
            "marker": {
             "colorbar": {
              "outlinewidth": 0,
              "ticks": ""
             }
            },
            "type": "scatterternary"
           }
          ],
          "surface": [
           {
            "colorbar": {
             "outlinewidth": 0,
             "ticks": ""
            },
            "colorscale": [
             [
              0,
              "#0d0887"
             ],
             [
              0.1111111111111111,
              "#46039f"
             ],
             [
              0.2222222222222222,
              "#7201a8"
             ],
             [
              0.3333333333333333,
              "#9c179e"
             ],
             [
              0.4444444444444444,
              "#bd3786"
             ],
             [
              0.5555555555555556,
              "#d8576b"
             ],
             [
              0.6666666666666666,
              "#ed7953"
             ],
             [
              0.7777777777777778,
              "#fb9f3a"
             ],
             [
              0.8888888888888888,
              "#fdca26"
             ],
             [
              1,
              "#f0f921"
             ]
            ],
            "type": "surface"
           }
          ],
          "table": [
           {
            "cells": {
             "fill": {
              "color": "#EBF0F8"
             },
             "line": {
              "color": "white"
             }
            },
            "header": {
             "fill": {
              "color": "#C8D4E3"
             },
             "line": {
              "color": "white"
             }
            },
            "type": "table"
           }
          ]
         },
         "layout": {
          "annotationdefaults": {
           "arrowcolor": "#2a3f5f",
           "arrowhead": 0,
           "arrowwidth": 1
          },
          "autotypenumbers": "strict",
          "coloraxis": {
           "colorbar": {
            "outlinewidth": 0,
            "ticks": ""
           }
          },
          "colorscale": {
           "diverging": [
            [
             0,
             "#8e0152"
            ],
            [
             0.1,
             "#c51b7d"
            ],
            [
             0.2,
             "#de77ae"
            ],
            [
             0.3,
             "#f1b6da"
            ],
            [
             0.4,
             "#fde0ef"
            ],
            [
             0.5,
             "#f7f7f7"
            ],
            [
             0.6,
             "#e6f5d0"
            ],
            [
             0.7,
             "#b8e186"
            ],
            [
             0.8,
             "#7fbc41"
            ],
            [
             0.9,
             "#4d9221"
            ],
            [
             1,
             "#276419"
            ]
           ],
           "sequential": [
            [
             0,
             "#0d0887"
            ],
            [
             0.1111111111111111,
             "#46039f"
            ],
            [
             0.2222222222222222,
             "#7201a8"
            ],
            [
             0.3333333333333333,
             "#9c179e"
            ],
            [
             0.4444444444444444,
             "#bd3786"
            ],
            [
             0.5555555555555556,
             "#d8576b"
            ],
            [
             0.6666666666666666,
             "#ed7953"
            ],
            [
             0.7777777777777778,
             "#fb9f3a"
            ],
            [
             0.8888888888888888,
             "#fdca26"
            ],
            [
             1,
             "#f0f921"
            ]
           ],
           "sequentialminus": [
            [
             0,
             "#0d0887"
            ],
            [
             0.1111111111111111,
             "#46039f"
            ],
            [
             0.2222222222222222,
             "#7201a8"
            ],
            [
             0.3333333333333333,
             "#9c179e"
            ],
            [
             0.4444444444444444,
             "#bd3786"
            ],
            [
             0.5555555555555556,
             "#d8576b"
            ],
            [
             0.6666666666666666,
             "#ed7953"
            ],
            [
             0.7777777777777778,
             "#fb9f3a"
            ],
            [
             0.8888888888888888,
             "#fdca26"
            ],
            [
             1,
             "#f0f921"
            ]
           ]
          },
          "colorway": [
           "#636efa",
           "#EF553B",
           "#00cc96",
           "#ab63fa",
           "#FFA15A",
           "#19d3f3",
           "#FF6692",
           "#B6E880",
           "#FF97FF",
           "#FECB52"
          ],
          "font": {
           "color": "#2a3f5f"
          },
          "geo": {
           "bgcolor": "white",
           "lakecolor": "white",
           "landcolor": "white",
           "showlakes": true,
           "showland": true,
           "subunitcolor": "#C8D4E3"
          },
          "hoverlabel": {
           "align": "left"
          },
          "hovermode": "closest",
          "mapbox": {
           "style": "light"
          },
          "paper_bgcolor": "white",
          "plot_bgcolor": "white",
          "polar": {
           "angularaxis": {
            "gridcolor": "#EBF0F8",
            "linecolor": "#EBF0F8",
            "ticks": ""
           },
           "bgcolor": "white",
           "radialaxis": {
            "gridcolor": "#EBF0F8",
            "linecolor": "#EBF0F8",
            "ticks": ""
           }
          },
          "scene": {
           "xaxis": {
            "backgroundcolor": "white",
            "gridcolor": "#DFE8F3",
            "gridwidth": 2,
            "linecolor": "#EBF0F8",
            "showbackground": true,
            "ticks": "",
            "zerolinecolor": "#EBF0F8"
           },
           "yaxis": {
            "backgroundcolor": "white",
            "gridcolor": "#DFE8F3",
            "gridwidth": 2,
            "linecolor": "#EBF0F8",
            "showbackground": true,
            "ticks": "",
            "zerolinecolor": "#EBF0F8"
           },
           "zaxis": {
            "backgroundcolor": "white",
            "gridcolor": "#DFE8F3",
            "gridwidth": 2,
            "linecolor": "#EBF0F8",
            "showbackground": true,
            "ticks": "",
            "zerolinecolor": "#EBF0F8"
           }
          },
          "shapedefaults": {
           "line": {
            "color": "#2a3f5f"
           }
          },
          "ternary": {
           "aaxis": {
            "gridcolor": "#DFE8F3",
            "linecolor": "#A2B1C6",
            "ticks": ""
           },
           "baxis": {
            "gridcolor": "#DFE8F3",
            "linecolor": "#A2B1C6",
            "ticks": ""
           },
           "bgcolor": "white",
           "caxis": {
            "gridcolor": "#DFE8F3",
            "linecolor": "#A2B1C6",
            "ticks": ""
           }
          },
          "title": {
           "x": 0.05
          },
          "xaxis": {
           "automargin": true,
           "gridcolor": "#EBF0F8",
           "linecolor": "#EBF0F8",
           "ticks": "",
           "title": {
            "standoff": 15
           },
           "zerolinecolor": "#EBF0F8",
           "zerolinewidth": 2
          },
          "yaxis": {
           "automargin": true,
           "gridcolor": "#EBF0F8",
           "linecolor": "#EBF0F8",
           "ticks": "",
           "title": {
            "standoff": 15
           },
           "zerolinecolor": "#EBF0F8",
           "zerolinewidth": 2
          }
         }
        },
        "title": {
         "text": "Distribuzione delle Lezioni per Livello e Mese"
        },
        "xaxis": {
         "anchor": "y",
         "domain": [
          0,
          1
         ],
         "title": {
          "text": "Mese e Anno"
         }
        },
        "yaxis": {
         "anchor": "x",
         "domain": [
          0,
          1
         ],
         "title": {
          "text": "Numero di Lezioni"
         }
        }
       }
      }
     },
     "metadata": {},
     "output_type": "display_data"
    },
    {
     "name": "stderr",
     "output_type": "stream",
     "text": [
      "C:\\Users\\ES\\AppData\\Local\\Temp\\ipykernel_7300\\2106972722.py:6: FutureWarning:\n",
      "\n",
      "The default of observed=False is deprecated and will be changed to True in a future version of pandas. Pass observed=False to retain current behavior or observed=True to adopt the future default and silence this warning.\n",
      "\n"
     ]
    },
    {
     "data": {
      "application/vnd.plotly.v1+json": {
       "config": {
        "plotlyServerURL": "https://plot.ly"
       },
       "data": [
        {
         "hovertemplate": "Ora_cat=7<br>Mese e Anno=%{x}<br>Numero di Lezioni=%{y}<extra></extra>",
         "legendgroup": "7",
         "line": {
          "color": "#636efa",
          "dash": "solid"
         },
         "marker": {
          "symbol": "circle"
         },
         "mode": "lines",
         "name": "7",
         "orientation": "v",
         "showlegend": true,
         "type": "scatter",
         "x": [
          "Maggio_2023",
          "Giugno_2023",
          "Luglio_2023",
          "Agosto_2023",
          "Settembre_2023",
          "Ottobre_2023",
          "Novembre_2023",
          "Dicembre_2023",
          "Gennaio_2024",
          "Febbraio_2024",
          "Marzo_2024",
          "Aprile_2024",
          "Maggio_2024",
          "Giugno_2024",
          "Luglio_2024",
          "Agosto_2024",
          "Settembre_2024"
         ],
         "xaxis": "x",
         "y": [
          3,
          7,
          11,
          14,
          8,
          14,
          7,
          7,
          5,
          5,
          10,
          0,
          6,
          9,
          5,
          2,
          3
         ],
         "yaxis": "y"
        },
        {
         "hovertemplate": "Ora_cat=8<br>Mese e Anno=%{x}<br>Numero di Lezioni=%{y}<extra></extra>",
         "legendgroup": "8",
         "line": {
          "color": "#EF553B",
          "dash": "solid"
         },
         "marker": {
          "symbol": "circle"
         },
         "mode": "lines",
         "name": "8",
         "orientation": "v",
         "showlegend": true,
         "type": "scatter",
         "x": [
          "Maggio_2023",
          "Giugno_2023",
          "Luglio_2023",
          "Agosto_2023",
          "Settembre_2023",
          "Ottobre_2023",
          "Novembre_2023",
          "Dicembre_2023",
          "Gennaio_2024",
          "Febbraio_2024",
          "Marzo_2024",
          "Aprile_2024",
          "Maggio_2024",
          "Giugno_2024",
          "Luglio_2024",
          "Agosto_2024",
          "Settembre_2024"
         ],
         "xaxis": "x",
         "y": [
          2,
          5,
          4,
          2,
          1,
          4,
          5,
          1,
          0,
          0,
          1,
          0,
          0,
          0,
          2,
          1,
          0
         ],
         "yaxis": "y"
        },
        {
         "hovertemplate": "Ora_cat=9<br>Mese e Anno=%{x}<br>Numero di Lezioni=%{y}<extra></extra>",
         "legendgroup": "9",
         "line": {
          "color": "#00cc96",
          "dash": "solid"
         },
         "marker": {
          "symbol": "circle"
         },
         "mode": "lines",
         "name": "9",
         "orientation": "v",
         "showlegend": true,
         "type": "scatter",
         "x": [
          "Maggio_2023",
          "Giugno_2023",
          "Luglio_2023",
          "Agosto_2023",
          "Settembre_2023",
          "Ottobre_2023",
          "Novembre_2023",
          "Dicembre_2023",
          "Gennaio_2024",
          "Febbraio_2024",
          "Marzo_2024",
          "Aprile_2024",
          "Maggio_2024",
          "Giugno_2024",
          "Luglio_2024",
          "Agosto_2024",
          "Settembre_2024"
         ],
         "xaxis": "x",
         "y": [
          0,
          5,
          4,
          3,
          1,
          4,
          2,
          1,
          2,
          0,
          2,
          0,
          2,
          3,
          9,
          6,
          4
         ],
         "yaxis": "y"
        },
        {
         "hovertemplate": "Ora_cat=10<br>Mese e Anno=%{x}<br>Numero di Lezioni=%{y}<extra></extra>",
         "legendgroup": "10",
         "line": {
          "color": "#ab63fa",
          "dash": "solid"
         },
         "marker": {
          "symbol": "circle"
         },
         "mode": "lines",
         "name": "10",
         "orientation": "v",
         "showlegend": true,
         "type": "scatter",
         "x": [
          "Maggio_2023",
          "Giugno_2023",
          "Luglio_2023",
          "Agosto_2023",
          "Settembre_2023",
          "Ottobre_2023",
          "Novembre_2023",
          "Dicembre_2023",
          "Gennaio_2024",
          "Febbraio_2024",
          "Marzo_2024",
          "Aprile_2024",
          "Maggio_2024",
          "Giugno_2024",
          "Luglio_2024",
          "Agosto_2024",
          "Settembre_2024"
         ],
         "xaxis": "x",
         "y": [
          5,
          8,
          1,
          8,
          6,
          2,
          4,
          1,
          4,
          2,
          3,
          0,
          2,
          5,
          6,
          6,
          3
         ],
         "yaxis": "y"
        },
        {
         "hovertemplate": "Ora_cat=11<br>Mese e Anno=%{x}<br>Numero di Lezioni=%{y}<extra></extra>",
         "legendgroup": "11",
         "line": {
          "color": "#FFA15A",
          "dash": "solid"
         },
         "marker": {
          "symbol": "circle"
         },
         "mode": "lines",
         "name": "11",
         "orientation": "v",
         "showlegend": true,
         "type": "scatter",
         "x": [
          "Maggio_2023",
          "Giugno_2023",
          "Luglio_2023",
          "Agosto_2023",
          "Settembre_2023",
          "Ottobre_2023",
          "Novembre_2023",
          "Dicembre_2023",
          "Gennaio_2024",
          "Febbraio_2024",
          "Marzo_2024",
          "Aprile_2024",
          "Maggio_2024",
          "Giugno_2024",
          "Luglio_2024",
          "Agosto_2024",
          "Settembre_2024"
         ],
         "xaxis": "x",
         "y": [
          4,
          6,
          2,
          6,
          8,
          5,
          1,
          1,
          0,
          1,
          5,
          0,
          1,
          5,
          1,
          4,
          0
         ],
         "yaxis": "y"
        },
        {
         "hovertemplate": "Ora_cat=12<br>Mese e Anno=%{x}<br>Numero di Lezioni=%{y}<extra></extra>",
         "legendgroup": "12",
         "line": {
          "color": "#19d3f3",
          "dash": "solid"
         },
         "marker": {
          "symbol": "circle"
         },
         "mode": "lines",
         "name": "12",
         "orientation": "v",
         "showlegend": true,
         "type": "scatter",
         "x": [
          "Maggio_2023",
          "Giugno_2023",
          "Luglio_2023",
          "Agosto_2023",
          "Settembre_2023",
          "Ottobre_2023",
          "Novembre_2023",
          "Dicembre_2023",
          "Gennaio_2024",
          "Febbraio_2024",
          "Marzo_2024",
          "Aprile_2024",
          "Maggio_2024",
          "Giugno_2024",
          "Luglio_2024",
          "Agosto_2024",
          "Settembre_2024"
         ],
         "xaxis": "x",
         "y": [
          1,
          0,
          1,
          0,
          0,
          1,
          0,
          0,
          0,
          0,
          2,
          0,
          2,
          2,
          0,
          0,
          0
         ],
         "yaxis": "y"
        },
        {
         "hovertemplate": "Ora_cat=13<br>Mese e Anno=%{x}<br>Numero di Lezioni=%{y}<extra></extra>",
         "legendgroup": "13",
         "line": {
          "color": "#FF6692",
          "dash": "solid"
         },
         "marker": {
          "symbol": "circle"
         },
         "mode": "lines",
         "name": "13",
         "orientation": "v",
         "showlegend": true,
         "type": "scatter",
         "x": [
          "Maggio_2023",
          "Giugno_2023",
          "Luglio_2023",
          "Agosto_2023",
          "Settembre_2023",
          "Ottobre_2023",
          "Novembre_2023",
          "Dicembre_2023",
          "Gennaio_2024",
          "Febbraio_2024",
          "Marzo_2024",
          "Aprile_2024",
          "Maggio_2024",
          "Giugno_2024",
          "Luglio_2024",
          "Agosto_2024",
          "Settembre_2024"
         ],
         "xaxis": "x",
         "y": [
          1,
          1,
          1,
          0,
          0,
          0,
          0,
          0,
          2,
          0,
          0,
          0,
          0,
          1,
          0,
          0,
          0
         ],
         "yaxis": "y"
        },
        {
         "hovertemplate": "Ora_cat=14<br>Mese e Anno=%{x}<br>Numero di Lezioni=%{y}<extra></extra>",
         "legendgroup": "14",
         "line": {
          "color": "#B6E880",
          "dash": "solid"
         },
         "marker": {
          "symbol": "circle"
         },
         "mode": "lines",
         "name": "14",
         "orientation": "v",
         "showlegend": true,
         "type": "scatter",
         "x": [
          "Maggio_2023",
          "Giugno_2023",
          "Luglio_2023",
          "Agosto_2023",
          "Settembre_2023",
          "Ottobre_2023",
          "Novembre_2023",
          "Dicembre_2023",
          "Gennaio_2024",
          "Febbraio_2024",
          "Marzo_2024",
          "Aprile_2024",
          "Maggio_2024",
          "Giugno_2024",
          "Luglio_2024",
          "Agosto_2024",
          "Settembre_2024"
         ],
         "xaxis": "x",
         "y": [
          0,
          0,
          0,
          0,
          0,
          0,
          0,
          0,
          0,
          0,
          0,
          0,
          0,
          1,
          0,
          0,
          0
         ],
         "yaxis": "y"
        },
        {
         "hovertemplate": "Ora_cat=15<br>Mese e Anno=%{x}<br>Numero di Lezioni=%{y}<extra></extra>",
         "legendgroup": "15",
         "line": {
          "color": "#FF97FF",
          "dash": "solid"
         },
         "marker": {
          "symbol": "circle"
         },
         "mode": "lines",
         "name": "15",
         "orientation": "v",
         "showlegend": true,
         "type": "scatter",
         "x": [
          "Maggio_2023",
          "Giugno_2023",
          "Luglio_2023",
          "Agosto_2023",
          "Settembre_2023",
          "Ottobre_2023",
          "Novembre_2023",
          "Dicembre_2023",
          "Gennaio_2024",
          "Febbraio_2024",
          "Marzo_2024",
          "Aprile_2024",
          "Maggio_2024",
          "Giugno_2024",
          "Luglio_2024",
          "Agosto_2024",
          "Settembre_2024"
         ],
         "xaxis": "x",
         "y": [
          0,
          0,
          0,
          0,
          0,
          0,
          0,
          0,
          0,
          0,
          0,
          0,
          2,
          0,
          1,
          0,
          0
         ],
         "yaxis": "y"
        },
        {
         "hovertemplate": "Ora_cat=17<br>Mese e Anno=%{x}<br>Numero di Lezioni=%{y}<extra></extra>",
         "legendgroup": "17",
         "line": {
          "color": "#FECB52",
          "dash": "solid"
         },
         "marker": {
          "symbol": "circle"
         },
         "mode": "lines",
         "name": "17",
         "orientation": "v",
         "showlegend": true,
         "type": "scatter",
         "x": [
          "Maggio_2023",
          "Giugno_2023",
          "Luglio_2023",
          "Agosto_2023",
          "Settembre_2023",
          "Ottobre_2023",
          "Novembre_2023",
          "Dicembre_2023",
          "Gennaio_2024",
          "Febbraio_2024",
          "Marzo_2024",
          "Aprile_2024",
          "Maggio_2024",
          "Giugno_2024",
          "Luglio_2024",
          "Agosto_2024",
          "Settembre_2024"
         ],
         "xaxis": "x",
         "y": [
          0,
          0,
          0,
          0,
          0,
          0,
          0,
          0,
          1,
          0,
          0,
          0,
          0,
          0,
          0,
          0,
          0
         ],
         "yaxis": "y"
        },
        {
         "hovertemplate": "Ora_cat=18<br>Mese e Anno=%{x}<br>Numero di Lezioni=%{y}<extra></extra>",
         "legendgroup": "18",
         "line": {
          "color": "#636efa",
          "dash": "solid"
         },
         "marker": {
          "symbol": "circle"
         },
         "mode": "lines",
         "name": "18",
         "orientation": "v",
         "showlegend": true,
         "type": "scatter",
         "x": [
          "Maggio_2023",
          "Giugno_2023",
          "Luglio_2023",
          "Agosto_2023",
          "Settembre_2023",
          "Ottobre_2023",
          "Novembre_2023",
          "Dicembre_2023",
          "Gennaio_2024",
          "Febbraio_2024",
          "Marzo_2024",
          "Aprile_2024",
          "Maggio_2024",
          "Giugno_2024",
          "Luglio_2024",
          "Agosto_2024",
          "Settembre_2024"
         ],
         "xaxis": "x",
         "y": [
          0,
          0,
          0,
          0,
          0,
          0,
          0,
          0,
          0,
          0,
          0,
          0,
          0,
          0,
          0,
          0,
          0
         ],
         "yaxis": "y"
        }
       ],
       "layout": {
        "legend": {
         "title": {
          "text": "Ora_cat"
         },
         "tracegroupgap": 0
        },
        "template": {
         "data": {
          "bar": [
           {
            "error_x": {
             "color": "#2a3f5f"
            },
            "error_y": {
             "color": "#2a3f5f"
            },
            "marker": {
             "line": {
              "color": "white",
              "width": 0.5
             },
             "pattern": {
              "fillmode": "overlay",
              "size": 10,
              "solidity": 0.2
             }
            },
            "type": "bar"
           }
          ],
          "barpolar": [
           {
            "marker": {
             "line": {
              "color": "white",
              "width": 0.5
             },
             "pattern": {
              "fillmode": "overlay",
              "size": 10,
              "solidity": 0.2
             }
            },
            "type": "barpolar"
           }
          ],
          "carpet": [
           {
            "aaxis": {
             "endlinecolor": "#2a3f5f",
             "gridcolor": "#C8D4E3",
             "linecolor": "#C8D4E3",
             "minorgridcolor": "#C8D4E3",
             "startlinecolor": "#2a3f5f"
            },
            "baxis": {
             "endlinecolor": "#2a3f5f",
             "gridcolor": "#C8D4E3",
             "linecolor": "#C8D4E3",
             "minorgridcolor": "#C8D4E3",
             "startlinecolor": "#2a3f5f"
            },
            "type": "carpet"
           }
          ],
          "choropleth": [
           {
            "colorbar": {
             "outlinewidth": 0,
             "ticks": ""
            },
            "type": "choropleth"
           }
          ],
          "contour": [
           {
            "colorbar": {
             "outlinewidth": 0,
             "ticks": ""
            },
            "colorscale": [
             [
              0,
              "#0d0887"
             ],
             [
              0.1111111111111111,
              "#46039f"
             ],
             [
              0.2222222222222222,
              "#7201a8"
             ],
             [
              0.3333333333333333,
              "#9c179e"
             ],
             [
              0.4444444444444444,
              "#bd3786"
             ],
             [
              0.5555555555555556,
              "#d8576b"
             ],
             [
              0.6666666666666666,
              "#ed7953"
             ],
             [
              0.7777777777777778,
              "#fb9f3a"
             ],
             [
              0.8888888888888888,
              "#fdca26"
             ],
             [
              1,
              "#f0f921"
             ]
            ],
            "type": "contour"
           }
          ],
          "contourcarpet": [
           {
            "colorbar": {
             "outlinewidth": 0,
             "ticks": ""
            },
            "type": "contourcarpet"
           }
          ],
          "heatmap": [
           {
            "colorbar": {
             "outlinewidth": 0,
             "ticks": ""
            },
            "colorscale": [
             [
              0,
              "#0d0887"
             ],
             [
              0.1111111111111111,
              "#46039f"
             ],
             [
              0.2222222222222222,
              "#7201a8"
             ],
             [
              0.3333333333333333,
              "#9c179e"
             ],
             [
              0.4444444444444444,
              "#bd3786"
             ],
             [
              0.5555555555555556,
              "#d8576b"
             ],
             [
              0.6666666666666666,
              "#ed7953"
             ],
             [
              0.7777777777777778,
              "#fb9f3a"
             ],
             [
              0.8888888888888888,
              "#fdca26"
             ],
             [
              1,
              "#f0f921"
             ]
            ],
            "type": "heatmap"
           }
          ],
          "heatmapgl": [
           {
            "colorbar": {
             "outlinewidth": 0,
             "ticks": ""
            },
            "colorscale": [
             [
              0,
              "#0d0887"
             ],
             [
              0.1111111111111111,
              "#46039f"
             ],
             [
              0.2222222222222222,
              "#7201a8"
             ],
             [
              0.3333333333333333,
              "#9c179e"
             ],
             [
              0.4444444444444444,
              "#bd3786"
             ],
             [
              0.5555555555555556,
              "#d8576b"
             ],
             [
              0.6666666666666666,
              "#ed7953"
             ],
             [
              0.7777777777777778,
              "#fb9f3a"
             ],
             [
              0.8888888888888888,
              "#fdca26"
             ],
             [
              1,
              "#f0f921"
             ]
            ],
            "type": "heatmapgl"
           }
          ],
          "histogram": [
           {
            "marker": {
             "pattern": {
              "fillmode": "overlay",
              "size": 10,
              "solidity": 0.2
             }
            },
            "type": "histogram"
           }
          ],
          "histogram2d": [
           {
            "colorbar": {
             "outlinewidth": 0,
             "ticks": ""
            },
            "colorscale": [
             [
              0,
              "#0d0887"
             ],
             [
              0.1111111111111111,
              "#46039f"
             ],
             [
              0.2222222222222222,
              "#7201a8"
             ],
             [
              0.3333333333333333,
              "#9c179e"
             ],
             [
              0.4444444444444444,
              "#bd3786"
             ],
             [
              0.5555555555555556,
              "#d8576b"
             ],
             [
              0.6666666666666666,
              "#ed7953"
             ],
             [
              0.7777777777777778,
              "#fb9f3a"
             ],
             [
              0.8888888888888888,
              "#fdca26"
             ],
             [
              1,
              "#f0f921"
             ]
            ],
            "type": "histogram2d"
           }
          ],
          "histogram2dcontour": [
           {
            "colorbar": {
             "outlinewidth": 0,
             "ticks": ""
            },
            "colorscale": [
             [
              0,
              "#0d0887"
             ],
             [
              0.1111111111111111,
              "#46039f"
             ],
             [
              0.2222222222222222,
              "#7201a8"
             ],
             [
              0.3333333333333333,
              "#9c179e"
             ],
             [
              0.4444444444444444,
              "#bd3786"
             ],
             [
              0.5555555555555556,
              "#d8576b"
             ],
             [
              0.6666666666666666,
              "#ed7953"
             ],
             [
              0.7777777777777778,
              "#fb9f3a"
             ],
             [
              0.8888888888888888,
              "#fdca26"
             ],
             [
              1,
              "#f0f921"
             ]
            ],
            "type": "histogram2dcontour"
           }
          ],
          "mesh3d": [
           {
            "colorbar": {
             "outlinewidth": 0,
             "ticks": ""
            },
            "type": "mesh3d"
           }
          ],
          "parcoords": [
           {
            "line": {
             "colorbar": {
              "outlinewidth": 0,
              "ticks": ""
             }
            },
            "type": "parcoords"
           }
          ],
          "pie": [
           {
            "automargin": true,
            "type": "pie"
           }
          ],
          "scatter": [
           {
            "fillpattern": {
             "fillmode": "overlay",
             "size": 10,
             "solidity": 0.2
            },
            "type": "scatter"
           }
          ],
          "scatter3d": [
           {
            "line": {
             "colorbar": {
              "outlinewidth": 0,
              "ticks": ""
             }
            },
            "marker": {
             "colorbar": {
              "outlinewidth": 0,
              "ticks": ""
             }
            },
            "type": "scatter3d"
           }
          ],
          "scattercarpet": [
           {
            "marker": {
             "colorbar": {
              "outlinewidth": 0,
              "ticks": ""
             }
            },
            "type": "scattercarpet"
           }
          ],
          "scattergeo": [
           {
            "marker": {
             "colorbar": {
              "outlinewidth": 0,
              "ticks": ""
             }
            },
            "type": "scattergeo"
           }
          ],
          "scattergl": [
           {
            "marker": {
             "colorbar": {
              "outlinewidth": 0,
              "ticks": ""
             }
            },
            "type": "scattergl"
           }
          ],
          "scattermapbox": [
           {
            "marker": {
             "colorbar": {
              "outlinewidth": 0,
              "ticks": ""
             }
            },
            "type": "scattermapbox"
           }
          ],
          "scatterpolar": [
           {
            "marker": {
             "colorbar": {
              "outlinewidth": 0,
              "ticks": ""
             }
            },
            "type": "scatterpolar"
           }
          ],
          "scatterpolargl": [
           {
            "marker": {
             "colorbar": {
              "outlinewidth": 0,
              "ticks": ""
             }
            },
            "type": "scatterpolargl"
           }
          ],
          "scatterternary": [
           {
            "marker": {
             "colorbar": {
              "outlinewidth": 0,
              "ticks": ""
             }
            },
            "type": "scatterternary"
           }
          ],
          "surface": [
           {
            "colorbar": {
             "outlinewidth": 0,
             "ticks": ""
            },
            "colorscale": [
             [
              0,
              "#0d0887"
             ],
             [
              0.1111111111111111,
              "#46039f"
             ],
             [
              0.2222222222222222,
              "#7201a8"
             ],
             [
              0.3333333333333333,
              "#9c179e"
             ],
             [
              0.4444444444444444,
              "#bd3786"
             ],
             [
              0.5555555555555556,
              "#d8576b"
             ],
             [
              0.6666666666666666,
              "#ed7953"
             ],
             [
              0.7777777777777778,
              "#fb9f3a"
             ],
             [
              0.8888888888888888,
              "#fdca26"
             ],
             [
              1,
              "#f0f921"
             ]
            ],
            "type": "surface"
           }
          ],
          "table": [
           {
            "cells": {
             "fill": {
              "color": "#EBF0F8"
             },
             "line": {
              "color": "white"
             }
            },
            "header": {
             "fill": {
              "color": "#C8D4E3"
             },
             "line": {
              "color": "white"
             }
            },
            "type": "table"
           }
          ]
         },
         "layout": {
          "annotationdefaults": {
           "arrowcolor": "#2a3f5f",
           "arrowhead": 0,
           "arrowwidth": 1
          },
          "autotypenumbers": "strict",
          "coloraxis": {
           "colorbar": {
            "outlinewidth": 0,
            "ticks": ""
           }
          },
          "colorscale": {
           "diverging": [
            [
             0,
             "#8e0152"
            ],
            [
             0.1,
             "#c51b7d"
            ],
            [
             0.2,
             "#de77ae"
            ],
            [
             0.3,
             "#f1b6da"
            ],
            [
             0.4,
             "#fde0ef"
            ],
            [
             0.5,
             "#f7f7f7"
            ],
            [
             0.6,
             "#e6f5d0"
            ],
            [
             0.7,
             "#b8e186"
            ],
            [
             0.8,
             "#7fbc41"
            ],
            [
             0.9,
             "#4d9221"
            ],
            [
             1,
             "#276419"
            ]
           ],
           "sequential": [
            [
             0,
             "#0d0887"
            ],
            [
             0.1111111111111111,
             "#46039f"
            ],
            [
             0.2222222222222222,
             "#7201a8"
            ],
            [
             0.3333333333333333,
             "#9c179e"
            ],
            [
             0.4444444444444444,
             "#bd3786"
            ],
            [
             0.5555555555555556,
             "#d8576b"
            ],
            [
             0.6666666666666666,
             "#ed7953"
            ],
            [
             0.7777777777777778,
             "#fb9f3a"
            ],
            [
             0.8888888888888888,
             "#fdca26"
            ],
            [
             1,
             "#f0f921"
            ]
           ],
           "sequentialminus": [
            [
             0,
             "#0d0887"
            ],
            [
             0.1111111111111111,
             "#46039f"
            ],
            [
             0.2222222222222222,
             "#7201a8"
            ],
            [
             0.3333333333333333,
             "#9c179e"
            ],
            [
             0.4444444444444444,
             "#bd3786"
            ],
            [
             0.5555555555555556,
             "#d8576b"
            ],
            [
             0.6666666666666666,
             "#ed7953"
            ],
            [
             0.7777777777777778,
             "#fb9f3a"
            ],
            [
             0.8888888888888888,
             "#fdca26"
            ],
            [
             1,
             "#f0f921"
            ]
           ]
          },
          "colorway": [
           "#636efa",
           "#EF553B",
           "#00cc96",
           "#ab63fa",
           "#FFA15A",
           "#19d3f3",
           "#FF6692",
           "#B6E880",
           "#FF97FF",
           "#FECB52"
          ],
          "font": {
           "color": "#2a3f5f"
          },
          "geo": {
           "bgcolor": "white",
           "lakecolor": "white",
           "landcolor": "white",
           "showlakes": true,
           "showland": true,
           "subunitcolor": "#C8D4E3"
          },
          "hoverlabel": {
           "align": "left"
          },
          "hovermode": "closest",
          "mapbox": {
           "style": "light"
          },
          "paper_bgcolor": "white",
          "plot_bgcolor": "white",
          "polar": {
           "angularaxis": {
            "gridcolor": "#EBF0F8",
            "linecolor": "#EBF0F8",
            "ticks": ""
           },
           "bgcolor": "white",
           "radialaxis": {
            "gridcolor": "#EBF0F8",
            "linecolor": "#EBF0F8",
            "ticks": ""
           }
          },
          "scene": {
           "xaxis": {
            "backgroundcolor": "white",
            "gridcolor": "#DFE8F3",
            "gridwidth": 2,
            "linecolor": "#EBF0F8",
            "showbackground": true,
            "ticks": "",
            "zerolinecolor": "#EBF0F8"
           },
           "yaxis": {
            "backgroundcolor": "white",
            "gridcolor": "#DFE8F3",
            "gridwidth": 2,
            "linecolor": "#EBF0F8",
            "showbackground": true,
            "ticks": "",
            "zerolinecolor": "#EBF0F8"
           },
           "zaxis": {
            "backgroundcolor": "white",
            "gridcolor": "#DFE8F3",
            "gridwidth": 2,
            "linecolor": "#EBF0F8",
            "showbackground": true,
            "ticks": "",
            "zerolinecolor": "#EBF0F8"
           }
          },
          "shapedefaults": {
           "line": {
            "color": "#2a3f5f"
           }
          },
          "ternary": {
           "aaxis": {
            "gridcolor": "#DFE8F3",
            "linecolor": "#A2B1C6",
            "ticks": ""
           },
           "baxis": {
            "gridcolor": "#DFE8F3",
            "linecolor": "#A2B1C6",
            "ticks": ""
           },
           "bgcolor": "white",
           "caxis": {
            "gridcolor": "#DFE8F3",
            "linecolor": "#A2B1C6",
            "ticks": ""
           }
          },
          "title": {
           "x": 0.05
          },
          "xaxis": {
           "automargin": true,
           "gridcolor": "#EBF0F8",
           "linecolor": "#EBF0F8",
           "ticks": "",
           "title": {
            "standoff": 15
           },
           "zerolinecolor": "#EBF0F8",
           "zerolinewidth": 2
          },
          "yaxis": {
           "automargin": true,
           "gridcolor": "#EBF0F8",
           "linecolor": "#EBF0F8",
           "ticks": "",
           "title": {
            "standoff": 15
           },
           "zerolinecolor": "#EBF0F8",
           "zerolinewidth": 2
          }
         }
        },
        "title": {
         "text": "Distribuzione delle Lezioni per Ora_cat e Mese"
        },
        "xaxis": {
         "anchor": "y",
         "domain": [
          0,
          1
         ],
         "title": {
          "text": "Mese e Anno"
         }
        },
        "yaxis": {
         "anchor": "x",
         "domain": [
          0,
          1
         ],
         "title": {
          "text": "Numero di Lezioni"
         }
        }
       }
      }
     },
     "metadata": {},
     "output_type": "display_data"
    }
   ],
   "source": [
    "def distribuzione_delle_categorie(colonna:str):\n",
    "    # Imposta l'ordine personalizzato per la colonna 'MESE_ANNO'\n",
    "    df['MESE_ANNO'] = pd.Categorical(df['MESE_ANNO'], categories=MESE_ANNO_ORDINE, ordered=True)\n",
    "\n",
    "    # Raggruppa i dati per livello e MESE_ANNO e conta il numero di lezioni\n",
    "    data_grouped = df.groupby(['MESE_ANNO', colonna]).size().reset_index(name='Numero di Lezioni')\n",
    "\n",
    "    # Crea il grafico a linee\n",
    "    fig = px.line(data_grouped, x='MESE_ANNO', y='Numero di Lezioni', color=colonna, \n",
    "                title=f'Distribuzione delle Lezioni per {colonna} e Mese',\n",
    "                labels={'MESE_ANNO': 'Mese e Anno', 'Numero di Lezioni': 'Numero di Lezioni'})\n",
    "\n",
    "    # Aggiungi titolo e etichette agli assi\n",
    "    fig.update_layout(\n",
    "        template='plotly_white'\n",
    "    )\n",
    "\n",
    "    # Mostra il grafico\n",
    "    fig.show()\n",
    "\n",
    "distribuzione_delle_categorie('Livello')\n",
    "df['Ora_cat'] = df['Ora'].astype('object')\n",
    "distribuzione_delle_categorie('Ora_cat')"
   ]
  },
  {
   "cell_type": "code",
   "execution_count": 57,
   "metadata": {},
   "outputs": [],
   "source": [
    "import pandas as pd\n",
    "from datetime import datetime\n",
    "import plotly.graph_objects as go\n",
    "from collections import Counter\n",
    "\n",
    "def differenza_giorni(dataframe):\n",
    "    # Conversione della colonna 'Data' in datetime\n",
    "    dataframe['Data'] = pd.to_datetime(dataframe['Data'])\n",
    "    \n",
    "    # Calcolo delle differenze in giorni tra le date consecutive\n",
    "    dataframe = dataframe.sort_values('Data')\n",
    "    dataframe['Differenza'] = dataframe['Data'].diff().dt.days\n",
    "    \n",
    "    # Calcolo della media e della differenza massima\n",
    "    differenze = dataframe['Differenza'].dropna()\n",
    "    media_differenza = round(differenze.mean(), 1)\n",
    "    max_differenza = differenze.max()\n",
    "    \n",
    "    # Restituzione dei risultati\n",
    "    testo = f'La media della differenza dei giorni tra le lezioni: {media_differenza} giorni. (Massimo: {max_differenza})'\n",
    "    maggiori_differenze = differenze.tolist()\n",
    "    maggiori_differenze.sort(reverse=True)\n",
    "    \n",
    "    return media_differenza, testo, maggiori_differenze"
   ]
  },
  {
   "cell_type": "code",
   "execution_count": 58,
   "metadata": {},
   "outputs": [
    {
     "name": "stderr",
     "output_type": "stream",
     "text": [
      "C:\\Users\\ES\\AppData\\Local\\Temp\\ipykernel_7300\\3369258073.py:8: SettingWithCopyWarning:\n",
      "\n",
      "\n",
      "A value is trying to be set on a copy of a slice from a DataFrame.\n",
      "Try using .loc[row_indexer,col_indexer] = value instead\n",
      "\n",
      "See the caveats in the documentation: https://pandas.pydata.org/pandas-docs/stable/user_guide/indexing.html#returning-a-view-versus-a-copy\n",
      "\n",
      "C:\\Users\\ES\\AppData\\Local\\Temp\\ipykernel_7300\\3369258073.py:8: SettingWithCopyWarning:\n",
      "\n",
      "\n",
      "A value is trying to be set on a copy of a slice from a DataFrame.\n",
      "Try using .loc[row_indexer,col_indexer] = value instead\n",
      "\n",
      "See the caveats in the documentation: https://pandas.pydata.org/pandas-docs/stable/user_guide/indexing.html#returning-a-view-versus-a-copy\n",
      "\n",
      "C:\\Users\\ES\\AppData\\Local\\Temp\\ipykernel_7300\\3369258073.py:8: SettingWithCopyWarning:\n",
      "\n",
      "\n",
      "A value is trying to be set on a copy of a slice from a DataFrame.\n",
      "Try using .loc[row_indexer,col_indexer] = value instead\n",
      "\n",
      "See the caveats in the documentation: https://pandas.pydata.org/pandas-docs/stable/user_guide/indexing.html#returning-a-view-versus-a-copy\n",
      "\n",
      "C:\\Users\\ES\\AppData\\Local\\Temp\\ipykernel_7300\\3369258073.py:8: SettingWithCopyWarning:\n",
      "\n",
      "\n",
      "A value is trying to be set on a copy of a slice from a DataFrame.\n",
      "Try using .loc[row_indexer,col_indexer] = value instead\n",
      "\n",
      "See the caveats in the documentation: https://pandas.pydata.org/pandas-docs/stable/user_guide/indexing.html#returning-a-view-versus-a-copy\n",
      "\n",
      "C:\\Users\\ES\\AppData\\Local\\Temp\\ipykernel_7300\\3369258073.py:8: SettingWithCopyWarning:\n",
      "\n",
      "\n",
      "A value is trying to be set on a copy of a slice from a DataFrame.\n",
      "Try using .loc[row_indexer,col_indexer] = value instead\n",
      "\n",
      "See the caveats in the documentation: https://pandas.pydata.org/pandas-docs/stable/user_guide/indexing.html#returning-a-view-versus-a-copy\n",
      "\n",
      "C:\\Users\\ES\\AppData\\Local\\Temp\\ipykernel_7300\\3369258073.py:8: SettingWithCopyWarning:\n",
      "\n",
      "\n",
      "A value is trying to be set on a copy of a slice from a DataFrame.\n",
      "Try using .loc[row_indexer,col_indexer] = value instead\n",
      "\n",
      "See the caveats in the documentation: https://pandas.pydata.org/pandas-docs/stable/user_guide/indexing.html#returning-a-view-versus-a-copy\n",
      "\n",
      "C:\\Users\\ES\\AppData\\Local\\Temp\\ipykernel_7300\\3369258073.py:8: SettingWithCopyWarning:\n",
      "\n",
      "\n",
      "A value is trying to be set on a copy of a slice from a DataFrame.\n",
      "Try using .loc[row_indexer,col_indexer] = value instead\n",
      "\n",
      "See the caveats in the documentation: https://pandas.pydata.org/pandas-docs/stable/user_guide/indexing.html#returning-a-view-versus-a-copy\n",
      "\n",
      "C:\\Users\\ES\\AppData\\Local\\Temp\\ipykernel_7300\\3369258073.py:8: SettingWithCopyWarning:\n",
      "\n",
      "\n",
      "A value is trying to be set on a copy of a slice from a DataFrame.\n",
      "Try using .loc[row_indexer,col_indexer] = value instead\n",
      "\n",
      "See the caveats in the documentation: https://pandas.pydata.org/pandas-docs/stable/user_guide/indexing.html#returning-a-view-versus-a-copy\n",
      "\n",
      "C:\\Users\\ES\\AppData\\Local\\Temp\\ipykernel_7300\\3369258073.py:8: SettingWithCopyWarning:\n",
      "\n",
      "\n",
      "A value is trying to be set on a copy of a slice from a DataFrame.\n",
      "Try using .loc[row_indexer,col_indexer] = value instead\n",
      "\n",
      "See the caveats in the documentation: https://pandas.pydata.org/pandas-docs/stable/user_guide/indexing.html#returning-a-view-versus-a-copy\n",
      "\n",
      "C:\\Users\\ES\\AppData\\Local\\Temp\\ipykernel_7300\\3369258073.py:8: SettingWithCopyWarning:\n",
      "\n",
      "\n",
      "A value is trying to be set on a copy of a slice from a DataFrame.\n",
      "Try using .loc[row_indexer,col_indexer] = value instead\n",
      "\n",
      "See the caveats in the documentation: https://pandas.pydata.org/pandas-docs/stable/user_guide/indexing.html#returning-a-view-versus-a-copy\n",
      "\n",
      "C:\\Users\\ES\\AppData\\Local\\Temp\\ipykernel_7300\\3369258073.py:8: SettingWithCopyWarning:\n",
      "\n",
      "\n",
      "A value is trying to be set on a copy of a slice from a DataFrame.\n",
      "Try using .loc[row_indexer,col_indexer] = value instead\n",
      "\n",
      "See the caveats in the documentation: https://pandas.pydata.org/pandas-docs/stable/user_guide/indexing.html#returning-a-view-versus-a-copy\n",
      "\n",
      "C:\\Users\\ES\\AppData\\Local\\Temp\\ipykernel_7300\\3369258073.py:8: SettingWithCopyWarning:\n",
      "\n",
      "\n",
      "A value is trying to be set on a copy of a slice from a DataFrame.\n",
      "Try using .loc[row_indexer,col_indexer] = value instead\n",
      "\n",
      "See the caveats in the documentation: https://pandas.pydata.org/pandas-docs/stable/user_guide/indexing.html#returning-a-view-versus-a-copy\n",
      "\n",
      "C:\\Users\\ES\\AppData\\Local\\Temp\\ipykernel_7300\\3369258073.py:8: SettingWithCopyWarning:\n",
      "\n",
      "\n",
      "A value is trying to be set on a copy of a slice from a DataFrame.\n",
      "Try using .loc[row_indexer,col_indexer] = value instead\n",
      "\n",
      "See the caveats in the documentation: https://pandas.pydata.org/pandas-docs/stable/user_guide/indexing.html#returning-a-view-versus-a-copy\n",
      "\n",
      "C:\\Users\\ES\\AppData\\Local\\Temp\\ipykernel_7300\\3369258073.py:8: SettingWithCopyWarning:\n",
      "\n",
      "\n",
      "A value is trying to be set on a copy of a slice from a DataFrame.\n",
      "Try using .loc[row_indexer,col_indexer] = value instead\n",
      "\n",
      "See the caveats in the documentation: https://pandas.pydata.org/pandas-docs/stable/user_guide/indexing.html#returning-a-view-versus-a-copy\n",
      "\n",
      "C:\\Users\\ES\\AppData\\Local\\Temp\\ipykernel_7300\\3369258073.py:8: SettingWithCopyWarning:\n",
      "\n",
      "\n",
      "A value is trying to be set on a copy of a slice from a DataFrame.\n",
      "Try using .loc[row_indexer,col_indexer] = value instead\n",
      "\n",
      "See the caveats in the documentation: https://pandas.pydata.org/pandas-docs/stable/user_guide/indexing.html#returning-a-view-versus-a-copy\n",
      "\n",
      "C:\\Users\\ES\\AppData\\Local\\Temp\\ipykernel_7300\\3369258073.py:8: SettingWithCopyWarning:\n",
      "\n",
      "\n",
      "A value is trying to be set on a copy of a slice from a DataFrame.\n",
      "Try using .loc[row_indexer,col_indexer] = value instead\n",
      "\n",
      "See the caveats in the documentation: https://pandas.pydata.org/pandas-docs/stable/user_guide/indexing.html#returning-a-view-versus-a-copy\n",
      "\n"
     ]
    },
    {
     "data": {
      "application/vnd.plotly.v1+json": {
       "config": {
        "plotlyServerURL": "https://plot.ly"
       },
       "data": [
        {
         "mode": "lines",
         "name": "Differenza",
         "type": "scatter",
         "x": [
          "Maggio_2023",
          "Giugno_2023",
          "Luglio_2023",
          "Agosto_2023",
          "Settembre_2023",
          "Ottobre_2023",
          "Novembre_2023",
          "Dicembre_2023",
          "Gennaio_2024",
          "Febbraio_2024",
          "Marzo_2024",
          null,
          "Maggio_2024",
          "Giugno_2024",
          "Luglio_2024",
          "Agosto_2024",
          "Settembre_2024"
         ],
         "y": [
          12,
          20,
          13,
          22,
          13,
          20,
          8,
          -7,
          1,
          -17,
          12,
          0,
          -6,
          15,
          17,
          8,
          4
         ]
        },
        {
         "mode": "lines",
         "name": "Giorni",
         "type": "scatter",
         "x": [
          "Maggio_2023",
          "Giugno_2023",
          "Luglio_2023",
          "Agosto_2023",
          "Settembre_2023",
          "Ottobre_2023",
          "Novembre_2023",
          "Dicembre_2023",
          "Gennaio_2024",
          "Febbraio_2024",
          "Marzo_2024",
          null,
          "Maggio_2024",
          "Giugno_2024",
          "Luglio_2024",
          "Agosto_2024",
          "Settembre_2024"
         ],
         "y": [
          3,
          11,
          10,
          10,
          10,
          9,
          10,
          17,
          12,
          24,
          10,
          0,
          20,
          10,
          6,
          10,
          5
         ]
        },
        {
         "mode": "lines",
         "name": "Ripetizione",
         "type": "scatter",
         "x": [
          "Maggio_2023",
          "Giugno_2023",
          "Luglio_2023",
          "Agosto_2023",
          "Settembre_2023",
          "Ottobre_2023",
          "Novembre_2023",
          "Dicembre_2023",
          "Gennaio_2024",
          "Febbraio_2024",
          "Marzo_2024",
          null,
          "Maggio_2024",
          "Giugno_2024",
          "Luglio_2024",
          "Agosto_2024",
          "Settembre_2024"
         ],
         "y": [
          15,
          31,
          23,
          32,
          23,
          29,
          18,
          10,
          13,
          7,
          22,
          0,
          14,
          25,
          23,
          18,
          9
         ]
        }
       ],
       "layout": {
        "template": {
         "data": {
          "bar": [
           {
            "error_x": {
             "color": "#2a3f5f"
            },
            "error_y": {
             "color": "#2a3f5f"
            },
            "marker": {
             "line": {
              "color": "white",
              "width": 0.5
             },
             "pattern": {
              "fillmode": "overlay",
              "size": 10,
              "solidity": 0.2
             }
            },
            "type": "bar"
           }
          ],
          "barpolar": [
           {
            "marker": {
             "line": {
              "color": "white",
              "width": 0.5
             },
             "pattern": {
              "fillmode": "overlay",
              "size": 10,
              "solidity": 0.2
             }
            },
            "type": "barpolar"
           }
          ],
          "carpet": [
           {
            "aaxis": {
             "endlinecolor": "#2a3f5f",
             "gridcolor": "#C8D4E3",
             "linecolor": "#C8D4E3",
             "minorgridcolor": "#C8D4E3",
             "startlinecolor": "#2a3f5f"
            },
            "baxis": {
             "endlinecolor": "#2a3f5f",
             "gridcolor": "#C8D4E3",
             "linecolor": "#C8D4E3",
             "minorgridcolor": "#C8D4E3",
             "startlinecolor": "#2a3f5f"
            },
            "type": "carpet"
           }
          ],
          "choropleth": [
           {
            "colorbar": {
             "outlinewidth": 0,
             "ticks": ""
            },
            "type": "choropleth"
           }
          ],
          "contour": [
           {
            "colorbar": {
             "outlinewidth": 0,
             "ticks": ""
            },
            "colorscale": [
             [
              0,
              "#0d0887"
             ],
             [
              0.1111111111111111,
              "#46039f"
             ],
             [
              0.2222222222222222,
              "#7201a8"
             ],
             [
              0.3333333333333333,
              "#9c179e"
             ],
             [
              0.4444444444444444,
              "#bd3786"
             ],
             [
              0.5555555555555556,
              "#d8576b"
             ],
             [
              0.6666666666666666,
              "#ed7953"
             ],
             [
              0.7777777777777778,
              "#fb9f3a"
             ],
             [
              0.8888888888888888,
              "#fdca26"
             ],
             [
              1,
              "#f0f921"
             ]
            ],
            "type": "contour"
           }
          ],
          "contourcarpet": [
           {
            "colorbar": {
             "outlinewidth": 0,
             "ticks": ""
            },
            "type": "contourcarpet"
           }
          ],
          "heatmap": [
           {
            "colorbar": {
             "outlinewidth": 0,
             "ticks": ""
            },
            "colorscale": [
             [
              0,
              "#0d0887"
             ],
             [
              0.1111111111111111,
              "#46039f"
             ],
             [
              0.2222222222222222,
              "#7201a8"
             ],
             [
              0.3333333333333333,
              "#9c179e"
             ],
             [
              0.4444444444444444,
              "#bd3786"
             ],
             [
              0.5555555555555556,
              "#d8576b"
             ],
             [
              0.6666666666666666,
              "#ed7953"
             ],
             [
              0.7777777777777778,
              "#fb9f3a"
             ],
             [
              0.8888888888888888,
              "#fdca26"
             ],
             [
              1,
              "#f0f921"
             ]
            ],
            "type": "heatmap"
           }
          ],
          "heatmapgl": [
           {
            "colorbar": {
             "outlinewidth": 0,
             "ticks": ""
            },
            "colorscale": [
             [
              0,
              "#0d0887"
             ],
             [
              0.1111111111111111,
              "#46039f"
             ],
             [
              0.2222222222222222,
              "#7201a8"
             ],
             [
              0.3333333333333333,
              "#9c179e"
             ],
             [
              0.4444444444444444,
              "#bd3786"
             ],
             [
              0.5555555555555556,
              "#d8576b"
             ],
             [
              0.6666666666666666,
              "#ed7953"
             ],
             [
              0.7777777777777778,
              "#fb9f3a"
             ],
             [
              0.8888888888888888,
              "#fdca26"
             ],
             [
              1,
              "#f0f921"
             ]
            ],
            "type": "heatmapgl"
           }
          ],
          "histogram": [
           {
            "marker": {
             "pattern": {
              "fillmode": "overlay",
              "size": 10,
              "solidity": 0.2
             }
            },
            "type": "histogram"
           }
          ],
          "histogram2d": [
           {
            "colorbar": {
             "outlinewidth": 0,
             "ticks": ""
            },
            "colorscale": [
             [
              0,
              "#0d0887"
             ],
             [
              0.1111111111111111,
              "#46039f"
             ],
             [
              0.2222222222222222,
              "#7201a8"
             ],
             [
              0.3333333333333333,
              "#9c179e"
             ],
             [
              0.4444444444444444,
              "#bd3786"
             ],
             [
              0.5555555555555556,
              "#d8576b"
             ],
             [
              0.6666666666666666,
              "#ed7953"
             ],
             [
              0.7777777777777778,
              "#fb9f3a"
             ],
             [
              0.8888888888888888,
              "#fdca26"
             ],
             [
              1,
              "#f0f921"
             ]
            ],
            "type": "histogram2d"
           }
          ],
          "histogram2dcontour": [
           {
            "colorbar": {
             "outlinewidth": 0,
             "ticks": ""
            },
            "colorscale": [
             [
              0,
              "#0d0887"
             ],
             [
              0.1111111111111111,
              "#46039f"
             ],
             [
              0.2222222222222222,
              "#7201a8"
             ],
             [
              0.3333333333333333,
              "#9c179e"
             ],
             [
              0.4444444444444444,
              "#bd3786"
             ],
             [
              0.5555555555555556,
              "#d8576b"
             ],
             [
              0.6666666666666666,
              "#ed7953"
             ],
             [
              0.7777777777777778,
              "#fb9f3a"
             ],
             [
              0.8888888888888888,
              "#fdca26"
             ],
             [
              1,
              "#f0f921"
             ]
            ],
            "type": "histogram2dcontour"
           }
          ],
          "mesh3d": [
           {
            "colorbar": {
             "outlinewidth": 0,
             "ticks": ""
            },
            "type": "mesh3d"
           }
          ],
          "parcoords": [
           {
            "line": {
             "colorbar": {
              "outlinewidth": 0,
              "ticks": ""
             }
            },
            "type": "parcoords"
           }
          ],
          "pie": [
           {
            "automargin": true,
            "type": "pie"
           }
          ],
          "scatter": [
           {
            "fillpattern": {
             "fillmode": "overlay",
             "size": 10,
             "solidity": 0.2
            },
            "type": "scatter"
           }
          ],
          "scatter3d": [
           {
            "line": {
             "colorbar": {
              "outlinewidth": 0,
              "ticks": ""
             }
            },
            "marker": {
             "colorbar": {
              "outlinewidth": 0,
              "ticks": ""
             }
            },
            "type": "scatter3d"
           }
          ],
          "scattercarpet": [
           {
            "marker": {
             "colorbar": {
              "outlinewidth": 0,
              "ticks": ""
             }
            },
            "type": "scattercarpet"
           }
          ],
          "scattergeo": [
           {
            "marker": {
             "colorbar": {
              "outlinewidth": 0,
              "ticks": ""
             }
            },
            "type": "scattergeo"
           }
          ],
          "scattergl": [
           {
            "marker": {
             "colorbar": {
              "outlinewidth": 0,
              "ticks": ""
             }
            },
            "type": "scattergl"
           }
          ],
          "scattermapbox": [
           {
            "marker": {
             "colorbar": {
              "outlinewidth": 0,
              "ticks": ""
             }
            },
            "type": "scattermapbox"
           }
          ],
          "scatterpolar": [
           {
            "marker": {
             "colorbar": {
              "outlinewidth": 0,
              "ticks": ""
             }
            },
            "type": "scatterpolar"
           }
          ],
          "scatterpolargl": [
           {
            "marker": {
             "colorbar": {
              "outlinewidth": 0,
              "ticks": ""
             }
            },
            "type": "scatterpolargl"
           }
          ],
          "scatterternary": [
           {
            "marker": {
             "colorbar": {
              "outlinewidth": 0,
              "ticks": ""
             }
            },
            "type": "scatterternary"
           }
          ],
          "surface": [
           {
            "colorbar": {
             "outlinewidth": 0,
             "ticks": ""
            },
            "colorscale": [
             [
              0,
              "#0d0887"
             ],
             [
              0.1111111111111111,
              "#46039f"
             ],
             [
              0.2222222222222222,
              "#7201a8"
             ],
             [
              0.3333333333333333,
              "#9c179e"
             ],
             [
              0.4444444444444444,
              "#bd3786"
             ],
             [
              0.5555555555555556,
              "#d8576b"
             ],
             [
              0.6666666666666666,
              "#ed7953"
             ],
             [
              0.7777777777777778,
              "#fb9f3a"
             ],
             [
              0.8888888888888888,
              "#fdca26"
             ],
             [
              1,
              "#f0f921"
             ]
            ],
            "type": "surface"
           }
          ],
          "table": [
           {
            "cells": {
             "fill": {
              "color": "#EBF0F8"
             },
             "line": {
              "color": "white"
             }
            },
            "header": {
             "fill": {
              "color": "#C8D4E3"
             },
             "line": {
              "color": "white"
             }
            },
            "type": "table"
           }
          ]
         },
         "layout": {
          "annotationdefaults": {
           "arrowcolor": "#2a3f5f",
           "arrowhead": 0,
           "arrowwidth": 1
          },
          "autotypenumbers": "strict",
          "coloraxis": {
           "colorbar": {
            "outlinewidth": 0,
            "ticks": ""
           }
          },
          "colorscale": {
           "diverging": [
            [
             0,
             "#8e0152"
            ],
            [
             0.1,
             "#c51b7d"
            ],
            [
             0.2,
             "#de77ae"
            ],
            [
             0.3,
             "#f1b6da"
            ],
            [
             0.4,
             "#fde0ef"
            ],
            [
             0.5,
             "#f7f7f7"
            ],
            [
             0.6,
             "#e6f5d0"
            ],
            [
             0.7,
             "#b8e186"
            ],
            [
             0.8,
             "#7fbc41"
            ],
            [
             0.9,
             "#4d9221"
            ],
            [
             1,
             "#276419"
            ]
           ],
           "sequential": [
            [
             0,
             "#0d0887"
            ],
            [
             0.1111111111111111,
             "#46039f"
            ],
            [
             0.2222222222222222,
             "#7201a8"
            ],
            [
             0.3333333333333333,
             "#9c179e"
            ],
            [
             0.4444444444444444,
             "#bd3786"
            ],
            [
             0.5555555555555556,
             "#d8576b"
            ],
            [
             0.6666666666666666,
             "#ed7953"
            ],
            [
             0.7777777777777778,
             "#fb9f3a"
            ],
            [
             0.8888888888888888,
             "#fdca26"
            ],
            [
             1,
             "#f0f921"
            ]
           ],
           "sequentialminus": [
            [
             0,
             "#0d0887"
            ],
            [
             0.1111111111111111,
             "#46039f"
            ],
            [
             0.2222222222222222,
             "#7201a8"
            ],
            [
             0.3333333333333333,
             "#9c179e"
            ],
            [
             0.4444444444444444,
             "#bd3786"
            ],
            [
             0.5555555555555556,
             "#d8576b"
            ],
            [
             0.6666666666666666,
             "#ed7953"
            ],
            [
             0.7777777777777778,
             "#fb9f3a"
            ],
            [
             0.8888888888888888,
             "#fdca26"
            ],
            [
             1,
             "#f0f921"
            ]
           ]
          },
          "colorway": [
           "#636efa",
           "#EF553B",
           "#00cc96",
           "#ab63fa",
           "#FFA15A",
           "#19d3f3",
           "#FF6692",
           "#B6E880",
           "#FF97FF",
           "#FECB52"
          ],
          "font": {
           "color": "#2a3f5f"
          },
          "geo": {
           "bgcolor": "white",
           "lakecolor": "white",
           "landcolor": "white",
           "showlakes": true,
           "showland": true,
           "subunitcolor": "#C8D4E3"
          },
          "hoverlabel": {
           "align": "left"
          },
          "hovermode": "closest",
          "mapbox": {
           "style": "light"
          },
          "paper_bgcolor": "white",
          "plot_bgcolor": "white",
          "polar": {
           "angularaxis": {
            "gridcolor": "#EBF0F8",
            "linecolor": "#EBF0F8",
            "ticks": ""
           },
           "bgcolor": "white",
           "radialaxis": {
            "gridcolor": "#EBF0F8",
            "linecolor": "#EBF0F8",
            "ticks": ""
           }
          },
          "scene": {
           "xaxis": {
            "backgroundcolor": "white",
            "gridcolor": "#DFE8F3",
            "gridwidth": 2,
            "linecolor": "#EBF0F8",
            "showbackground": true,
            "ticks": "",
            "zerolinecolor": "#EBF0F8"
           },
           "yaxis": {
            "backgroundcolor": "white",
            "gridcolor": "#DFE8F3",
            "gridwidth": 2,
            "linecolor": "#EBF0F8",
            "showbackground": true,
            "ticks": "",
            "zerolinecolor": "#EBF0F8"
           },
           "zaxis": {
            "backgroundcolor": "white",
            "gridcolor": "#DFE8F3",
            "gridwidth": 2,
            "linecolor": "#EBF0F8",
            "showbackground": true,
            "ticks": "",
            "zerolinecolor": "#EBF0F8"
           }
          },
          "shapedefaults": {
           "line": {
            "color": "#2a3f5f"
           }
          },
          "ternary": {
           "aaxis": {
            "gridcolor": "#DFE8F3",
            "linecolor": "#A2B1C6",
            "ticks": ""
           },
           "baxis": {
            "gridcolor": "#DFE8F3",
            "linecolor": "#A2B1C6",
            "ticks": ""
           },
           "bgcolor": "white",
           "caxis": {
            "gridcolor": "#DFE8F3",
            "linecolor": "#A2B1C6",
            "ticks": ""
           }
          },
          "title": {
           "x": 0.05
          },
          "xaxis": {
           "automargin": true,
           "gridcolor": "#EBF0F8",
           "linecolor": "#EBF0F8",
           "ticks": "",
           "title": {
            "standoff": 15
           },
           "zerolinecolor": "#EBF0F8",
           "zerolinewidth": 2
          },
          "yaxis": {
           "automargin": true,
           "gridcolor": "#EBF0F8",
           "linecolor": "#EBF0F8",
           "ticks": "",
           "title": {
            "standoff": 15
           },
           "zerolinecolor": "#EBF0F8",
           "zerolinewidth": 2
          }
         }
        },
        "title": {
         "text": "IntervalloCV"
        },
        "xaxis": {
         "title": {
          "text": "Mese e Anno"
         }
        },
        "yaxis": {
         "title": {
          "text": "Punteggi"
         }
        }
       }
      }
     },
     "metadata": {},
     "output_type": "display_data"
    }
   ],
   "source": [
    "def intervalloCV(dataframe, mese_anno):\n",
    "    # Filtraggio per MESE_ANNO e conteggio delle differenze\n",
    "    df_mese_anno = dataframe[dataframe['MESE_ANNO'] == mese_anno]\n",
    "    differenze = differenza_giorni(df_mese_anno)[2]\n",
    "    conteggio = Counter(differenze)\n",
    "    \n",
    "    chiave = sum(conteggio.keys())\n",
    "    valore = sum(conteggio.values())\n",
    "    \n",
    "    return f'{mese_anno} -> {chiave} -- {valore}', valore - chiave, chiave, valore\n",
    "\n",
    "# Filtraggio dei mesi e anni specifici\n",
    "mesi_anno = df['MESE_ANNO'].unique().tolist()\n",
    "intervalloCV_differenze = []\n",
    "intervalloCV_chiavi = []\n",
    "intervalloCV_valori = []\n",
    "\n",
    "for mese_anno in mesi_anno:\n",
    "    _, differenza, chiave, valore = intervalloCV(df, mese_anno)\n",
    "    intervalloCV_differenze.append(differenza)\n",
    "    intervalloCV_chiavi.append(chiave)\n",
    "    intervalloCV_valori.append(valore)\n",
    "\n",
    "# Creazione del grafico\n",
    "fig = go.Figure()\n",
    "fig.add_trace(go.Scatter(x=mesi_anno, y=intervalloCV_differenze, mode='lines', name='Differenza'))\n",
    "fig.add_trace(go.Scatter(x=mesi_anno, y=intervalloCV_chiavi, mode='lines', name='Giorni'))\n",
    "fig.add_trace(go.Scatter(x=mesi_anno, y=intervalloCV_valori, mode='lines', name='Ripetizione'))\n",
    "\n",
    "fig.update_layout(\n",
    "    title='IntervalloCV',\n",
    "    xaxis=dict(title='Mese e Anno'),\n",
    "    yaxis=dict(title='Punteggi'),\n",
    "    template='plotly_white'\n",
    ")\n",
    "\n",
    "fig.show()"
   ]
  },
  {
   "cell_type": "code",
   "execution_count": 59,
   "metadata": {},
   "outputs": [
    {
     "name": "stderr",
     "output_type": "stream",
     "text": [
      "C:\\Users\\ES\\AppData\\Local\\Temp\\ipykernel_7300\\44922033.py:15: FutureWarning:\n",
      "\n",
      "The default of observed=False is deprecated and will be changed to True in a future version of pandas. Pass observed=False to retain current behavior or observed=True to adopt the future default and silence this warning.\n",
      "\n",
      "C:\\Users\\ES\\AppData\\Local\\Temp\\ipykernel_7300\\44922033.py:17: FutureWarning:\n",
      "\n",
      "The default of observed=False is deprecated and will be changed to True in a future version of pandas. Pass observed=False to retain current behavior or observed=True to adopt the future default and silence this warning.\n",
      "\n",
      "C:\\Users\\ES\\AppData\\Local\\Temp\\ipykernel_7300\\44922033.py:22: FutureWarning:\n",
      "\n",
      "The default of observed=False is deprecated and will be changed to True in a future version of pandas. Pass observed=False to retain current behavior or observed=True to adopt the future default and silence this warning.\n",
      "\n",
      "C:\\Users\\ES\\AppData\\Local\\Temp\\ipykernel_7300\\44922033.py:24: FutureWarning:\n",
      "\n",
      "The default of observed=False is deprecated and will be changed to True in a future version of pandas. Pass observed=False to retain current behavior or observed=True to adopt the future default and silence this warning.\n",
      "\n"
     ]
    },
    {
     "data": {
      "application/vnd.plotly.v1+json": {
       "config": {
        "plotlyServerURL": "https://plot.ly"
       },
       "data": [
        {
         "mode": "lines+markers",
         "name": "Lezioni fatte",
         "type": "scatter",
         "x": [
          "Maggio_2023",
          "Giugno_2023",
          "Luglio_2023",
          "Agosto_2023",
          "Settembre_2023",
          "Ottobre_2023",
          "Novembre_2023",
          "Dicembre_2023",
          "Gennaio_2024",
          "Febbraio_2024",
          "Marzo_2024",
          "Aprile_2024",
          "Maggio_2024",
          "Giugno_2024",
          "Luglio_2024",
          "Agosto_2024",
          "Settembre_2024"
         ],
         "y": [
          16,
          32,
          24,
          33,
          24,
          30,
          19,
          11,
          14,
          8,
          23,
          0,
          15,
          26,
          24,
          19,
          10
         ]
        },
        {
         "mode": "lines+markers",
         "name": "Immersioni",
         "type": "scatter",
         "x": [
          "Maggio_2023",
          "Giugno_2023",
          "Luglio_2023",
          "Agosto_2023",
          "Settembre_2023",
          "Ottobre_2023",
          "Novembre_2023",
          "Dicembre_2023",
          "Gennaio_2024",
          "Febbraio_2024",
          "Marzo_2024",
          "Aprile_2024",
          "Maggio_2024",
          "Giugno_2024",
          "Luglio_2024",
          "Agosto_2024",
          "Settembre_2024"
         ],
         "y": [
          2,
          5,
          12,
          10,
          11,
          10,
          11,
          7,
          12,
          8,
          12,
          0,
          7,
          8,
          18,
          15,
          6
         ]
        },
        {
         "mode": "lines+markers",
         "name": "Lezioni fatte veramente",
         "type": "scatter",
         "x": [
          "Maggio_2023",
          "Giugno_2023",
          "Luglio_2023",
          "Agosto_2023",
          "Settembre_2023",
          "Ottobre_2023",
          "Novembre_2023",
          "Dicembre_2023",
          "Gennaio_2024",
          "Febbraio_2024",
          "Marzo_2024",
          "Aprile_2024",
          "Maggio_2024",
          "Giugno_2024",
          "Luglio_2024",
          "Agosto_2024",
          "Settembre_2024"
         ],
         "y": [
          2,
          5,
          12,
          10,
          11,
          10,
          11,
          7,
          12,
          8,
          12,
          0,
          7,
          8,
          18,
          15,
          6
         ]
        }
       ],
       "layout": {
        "template": {
         "data": {
          "bar": [
           {
            "error_x": {
             "color": "#2a3f5f"
            },
            "error_y": {
             "color": "#2a3f5f"
            },
            "marker": {
             "line": {
              "color": "white",
              "width": 0.5
             },
             "pattern": {
              "fillmode": "overlay",
              "size": 10,
              "solidity": 0.2
             }
            },
            "type": "bar"
           }
          ],
          "barpolar": [
           {
            "marker": {
             "line": {
              "color": "white",
              "width": 0.5
             },
             "pattern": {
              "fillmode": "overlay",
              "size": 10,
              "solidity": 0.2
             }
            },
            "type": "barpolar"
           }
          ],
          "carpet": [
           {
            "aaxis": {
             "endlinecolor": "#2a3f5f",
             "gridcolor": "#C8D4E3",
             "linecolor": "#C8D4E3",
             "minorgridcolor": "#C8D4E3",
             "startlinecolor": "#2a3f5f"
            },
            "baxis": {
             "endlinecolor": "#2a3f5f",
             "gridcolor": "#C8D4E3",
             "linecolor": "#C8D4E3",
             "minorgridcolor": "#C8D4E3",
             "startlinecolor": "#2a3f5f"
            },
            "type": "carpet"
           }
          ],
          "choropleth": [
           {
            "colorbar": {
             "outlinewidth": 0,
             "ticks": ""
            },
            "type": "choropleth"
           }
          ],
          "contour": [
           {
            "colorbar": {
             "outlinewidth": 0,
             "ticks": ""
            },
            "colorscale": [
             [
              0,
              "#0d0887"
             ],
             [
              0.1111111111111111,
              "#46039f"
             ],
             [
              0.2222222222222222,
              "#7201a8"
             ],
             [
              0.3333333333333333,
              "#9c179e"
             ],
             [
              0.4444444444444444,
              "#bd3786"
             ],
             [
              0.5555555555555556,
              "#d8576b"
             ],
             [
              0.6666666666666666,
              "#ed7953"
             ],
             [
              0.7777777777777778,
              "#fb9f3a"
             ],
             [
              0.8888888888888888,
              "#fdca26"
             ],
             [
              1,
              "#f0f921"
             ]
            ],
            "type": "contour"
           }
          ],
          "contourcarpet": [
           {
            "colorbar": {
             "outlinewidth": 0,
             "ticks": ""
            },
            "type": "contourcarpet"
           }
          ],
          "heatmap": [
           {
            "colorbar": {
             "outlinewidth": 0,
             "ticks": ""
            },
            "colorscale": [
             [
              0,
              "#0d0887"
             ],
             [
              0.1111111111111111,
              "#46039f"
             ],
             [
              0.2222222222222222,
              "#7201a8"
             ],
             [
              0.3333333333333333,
              "#9c179e"
             ],
             [
              0.4444444444444444,
              "#bd3786"
             ],
             [
              0.5555555555555556,
              "#d8576b"
             ],
             [
              0.6666666666666666,
              "#ed7953"
             ],
             [
              0.7777777777777778,
              "#fb9f3a"
             ],
             [
              0.8888888888888888,
              "#fdca26"
             ],
             [
              1,
              "#f0f921"
             ]
            ],
            "type": "heatmap"
           }
          ],
          "heatmapgl": [
           {
            "colorbar": {
             "outlinewidth": 0,
             "ticks": ""
            },
            "colorscale": [
             [
              0,
              "#0d0887"
             ],
             [
              0.1111111111111111,
              "#46039f"
             ],
             [
              0.2222222222222222,
              "#7201a8"
             ],
             [
              0.3333333333333333,
              "#9c179e"
             ],
             [
              0.4444444444444444,
              "#bd3786"
             ],
             [
              0.5555555555555556,
              "#d8576b"
             ],
             [
              0.6666666666666666,
              "#ed7953"
             ],
             [
              0.7777777777777778,
              "#fb9f3a"
             ],
             [
              0.8888888888888888,
              "#fdca26"
             ],
             [
              1,
              "#f0f921"
             ]
            ],
            "type": "heatmapgl"
           }
          ],
          "histogram": [
           {
            "marker": {
             "pattern": {
              "fillmode": "overlay",
              "size": 10,
              "solidity": 0.2
             }
            },
            "type": "histogram"
           }
          ],
          "histogram2d": [
           {
            "colorbar": {
             "outlinewidth": 0,
             "ticks": ""
            },
            "colorscale": [
             [
              0,
              "#0d0887"
             ],
             [
              0.1111111111111111,
              "#46039f"
             ],
             [
              0.2222222222222222,
              "#7201a8"
             ],
             [
              0.3333333333333333,
              "#9c179e"
             ],
             [
              0.4444444444444444,
              "#bd3786"
             ],
             [
              0.5555555555555556,
              "#d8576b"
             ],
             [
              0.6666666666666666,
              "#ed7953"
             ],
             [
              0.7777777777777778,
              "#fb9f3a"
             ],
             [
              0.8888888888888888,
              "#fdca26"
             ],
             [
              1,
              "#f0f921"
             ]
            ],
            "type": "histogram2d"
           }
          ],
          "histogram2dcontour": [
           {
            "colorbar": {
             "outlinewidth": 0,
             "ticks": ""
            },
            "colorscale": [
             [
              0,
              "#0d0887"
             ],
             [
              0.1111111111111111,
              "#46039f"
             ],
             [
              0.2222222222222222,
              "#7201a8"
             ],
             [
              0.3333333333333333,
              "#9c179e"
             ],
             [
              0.4444444444444444,
              "#bd3786"
             ],
             [
              0.5555555555555556,
              "#d8576b"
             ],
             [
              0.6666666666666666,
              "#ed7953"
             ],
             [
              0.7777777777777778,
              "#fb9f3a"
             ],
             [
              0.8888888888888888,
              "#fdca26"
             ],
             [
              1,
              "#f0f921"
             ]
            ],
            "type": "histogram2dcontour"
           }
          ],
          "mesh3d": [
           {
            "colorbar": {
             "outlinewidth": 0,
             "ticks": ""
            },
            "type": "mesh3d"
           }
          ],
          "parcoords": [
           {
            "line": {
             "colorbar": {
              "outlinewidth": 0,
              "ticks": ""
             }
            },
            "type": "parcoords"
           }
          ],
          "pie": [
           {
            "automargin": true,
            "type": "pie"
           }
          ],
          "scatter": [
           {
            "fillpattern": {
             "fillmode": "overlay",
             "size": 10,
             "solidity": 0.2
            },
            "type": "scatter"
           }
          ],
          "scatter3d": [
           {
            "line": {
             "colorbar": {
              "outlinewidth": 0,
              "ticks": ""
             }
            },
            "marker": {
             "colorbar": {
              "outlinewidth": 0,
              "ticks": ""
             }
            },
            "type": "scatter3d"
           }
          ],
          "scattercarpet": [
           {
            "marker": {
             "colorbar": {
              "outlinewidth": 0,
              "ticks": ""
             }
            },
            "type": "scattercarpet"
           }
          ],
          "scattergeo": [
           {
            "marker": {
             "colorbar": {
              "outlinewidth": 0,
              "ticks": ""
             }
            },
            "type": "scattergeo"
           }
          ],
          "scattergl": [
           {
            "marker": {
             "colorbar": {
              "outlinewidth": 0,
              "ticks": ""
             }
            },
            "type": "scattergl"
           }
          ],
          "scattermapbox": [
           {
            "marker": {
             "colorbar": {
              "outlinewidth": 0,
              "ticks": ""
             }
            },
            "type": "scattermapbox"
           }
          ],
          "scatterpolar": [
           {
            "marker": {
             "colorbar": {
              "outlinewidth": 0,
              "ticks": ""
             }
            },
            "type": "scatterpolar"
           }
          ],
          "scatterpolargl": [
           {
            "marker": {
             "colorbar": {
              "outlinewidth": 0,
              "ticks": ""
             }
            },
            "type": "scatterpolargl"
           }
          ],
          "scatterternary": [
           {
            "marker": {
             "colorbar": {
              "outlinewidth": 0,
              "ticks": ""
             }
            },
            "type": "scatterternary"
           }
          ],
          "surface": [
           {
            "colorbar": {
             "outlinewidth": 0,
             "ticks": ""
            },
            "colorscale": [
             [
              0,
              "#0d0887"
             ],
             [
              0.1111111111111111,
              "#46039f"
             ],
             [
              0.2222222222222222,
              "#7201a8"
             ],
             [
              0.3333333333333333,
              "#9c179e"
             ],
             [
              0.4444444444444444,
              "#bd3786"
             ],
             [
              0.5555555555555556,
              "#d8576b"
             ],
             [
              0.6666666666666666,
              "#ed7953"
             ],
             [
              0.7777777777777778,
              "#fb9f3a"
             ],
             [
              0.8888888888888888,
              "#fdca26"
             ],
             [
              1,
              "#f0f921"
             ]
            ],
            "type": "surface"
           }
          ],
          "table": [
           {
            "cells": {
             "fill": {
              "color": "#EBF0F8"
             },
             "line": {
              "color": "white"
             }
            },
            "header": {
             "fill": {
              "color": "#C8D4E3"
             },
             "line": {
              "color": "white"
             }
            },
            "type": "table"
           }
          ]
         },
         "layout": {
          "annotationdefaults": {
           "arrowcolor": "#2a3f5f",
           "arrowhead": 0,
           "arrowwidth": 1
          },
          "autotypenumbers": "strict",
          "coloraxis": {
           "colorbar": {
            "outlinewidth": 0,
            "ticks": ""
           }
          },
          "colorscale": {
           "diverging": [
            [
             0,
             "#8e0152"
            ],
            [
             0.1,
             "#c51b7d"
            ],
            [
             0.2,
             "#de77ae"
            ],
            [
             0.3,
             "#f1b6da"
            ],
            [
             0.4,
             "#fde0ef"
            ],
            [
             0.5,
             "#f7f7f7"
            ],
            [
             0.6,
             "#e6f5d0"
            ],
            [
             0.7,
             "#b8e186"
            ],
            [
             0.8,
             "#7fbc41"
            ],
            [
             0.9,
             "#4d9221"
            ],
            [
             1,
             "#276419"
            ]
           ],
           "sequential": [
            [
             0,
             "#0d0887"
            ],
            [
             0.1111111111111111,
             "#46039f"
            ],
            [
             0.2222222222222222,
             "#7201a8"
            ],
            [
             0.3333333333333333,
             "#9c179e"
            ],
            [
             0.4444444444444444,
             "#bd3786"
            ],
            [
             0.5555555555555556,
             "#d8576b"
            ],
            [
             0.6666666666666666,
             "#ed7953"
            ],
            [
             0.7777777777777778,
             "#fb9f3a"
            ],
            [
             0.8888888888888888,
             "#fdca26"
            ],
            [
             1,
             "#f0f921"
            ]
           ],
           "sequentialminus": [
            [
             0,
             "#0d0887"
            ],
            [
             0.1111111111111111,
             "#46039f"
            ],
            [
             0.2222222222222222,
             "#7201a8"
            ],
            [
             0.3333333333333333,
             "#9c179e"
            ],
            [
             0.4444444444444444,
             "#bd3786"
            ],
            [
             0.5555555555555556,
             "#d8576b"
            ],
            [
             0.6666666666666666,
             "#ed7953"
            ],
            [
             0.7777777777777778,
             "#fb9f3a"
            ],
            [
             0.8888888888888888,
             "#fdca26"
            ],
            [
             1,
             "#f0f921"
            ]
           ]
          },
          "colorway": [
           "#636efa",
           "#EF553B",
           "#00cc96",
           "#ab63fa",
           "#FFA15A",
           "#19d3f3",
           "#FF6692",
           "#B6E880",
           "#FF97FF",
           "#FECB52"
          ],
          "font": {
           "color": "#2a3f5f"
          },
          "geo": {
           "bgcolor": "white",
           "lakecolor": "white",
           "landcolor": "white",
           "showlakes": true,
           "showland": true,
           "subunitcolor": "#C8D4E3"
          },
          "hoverlabel": {
           "align": "left"
          },
          "hovermode": "closest",
          "mapbox": {
           "style": "light"
          },
          "paper_bgcolor": "white",
          "plot_bgcolor": "white",
          "polar": {
           "angularaxis": {
            "gridcolor": "#EBF0F8",
            "linecolor": "#EBF0F8",
            "ticks": ""
           },
           "bgcolor": "white",
           "radialaxis": {
            "gridcolor": "#EBF0F8",
            "linecolor": "#EBF0F8",
            "ticks": ""
           }
          },
          "scene": {
           "xaxis": {
            "backgroundcolor": "white",
            "gridcolor": "#DFE8F3",
            "gridwidth": 2,
            "linecolor": "#EBF0F8",
            "showbackground": true,
            "ticks": "",
            "zerolinecolor": "#EBF0F8"
           },
           "yaxis": {
            "backgroundcolor": "white",
            "gridcolor": "#DFE8F3",
            "gridwidth": 2,
            "linecolor": "#EBF0F8",
            "showbackground": true,
            "ticks": "",
            "zerolinecolor": "#EBF0F8"
           },
           "zaxis": {
            "backgroundcolor": "white",
            "gridcolor": "#DFE8F3",
            "gridwidth": 2,
            "linecolor": "#EBF0F8",
            "showbackground": true,
            "ticks": "",
            "zerolinecolor": "#EBF0F8"
           }
          },
          "shapedefaults": {
           "line": {
            "color": "#2a3f5f"
           }
          },
          "ternary": {
           "aaxis": {
            "gridcolor": "#DFE8F3",
            "linecolor": "#A2B1C6",
            "ticks": ""
           },
           "baxis": {
            "gridcolor": "#DFE8F3",
            "linecolor": "#A2B1C6",
            "ticks": ""
           },
           "bgcolor": "white",
           "caxis": {
            "gridcolor": "#DFE8F3",
            "linecolor": "#A2B1C6",
            "ticks": ""
           }
          },
          "title": {
           "x": 0.05
          },
          "xaxis": {
           "automargin": true,
           "gridcolor": "#EBF0F8",
           "linecolor": "#EBF0F8",
           "ticks": "",
           "title": {
            "standoff": 15
           },
           "zerolinecolor": "#EBF0F8",
           "zerolinewidth": 2
          },
          "yaxis": {
           "automargin": true,
           "gridcolor": "#EBF0F8",
           "linecolor": "#EBF0F8",
           "ticks": "",
           "title": {
            "standoff": 15
           },
           "zerolinecolor": "#EBF0F8",
           "zerolinewidth": 2
          }
         }
        },
        "title": {
         "text": "Numero di Lezioni nel Tempo"
        },
        "xaxis": {
         "ticktext": [
          "Maggio_2023",
          "Giugno_2023",
          "Luglio_2023",
          "Agosto_2023",
          "Settembre_2023",
          "Ottobre_2023",
          "Novembre_2023",
          "Dicembre_2023",
          "Gennaio_2024",
          "Febbraio_2024",
          "Marzo_2024",
          "Aprile_2024",
          "Maggio_2024",
          "Giugno_2024",
          "Luglio_2024",
          "Agosto_2024",
          "Settembre_2024"
         ],
         "tickvals": [
          "Maggio_2023",
          "Giugno_2023",
          "Luglio_2023",
          "Agosto_2023",
          "Settembre_2023",
          "Ottobre_2023",
          "Novembre_2023",
          "Dicembre_2023",
          "Gennaio_2024",
          "Febbraio_2024",
          "Marzo_2024",
          "Aprile_2024",
          "Maggio_2024",
          "Giugno_2024",
          "Luglio_2024",
          "Agosto_2024",
          "Settembre_2024"
         ],
         "title": {
          "text": "Mese e Anno"
         }
        },
        "yaxis": {
         "title": {
          "text": "Numero di Lezioni"
         }
        }
       }
      }
     },
     "metadata": {},
     "output_type": "display_data"
    }
   ],
   "source": [
    "import pandas as pd\n",
    "import plotly.graph_objects as go\n",
    "\n",
    "# Definisci l'ordine dei mesi e anni\n",
    "MESE_ANNO_ORDINE = ['Maggio_2023', 'Giugno_2023', 'Luglio_2023', 'Agosto_2023', 'Settembre_2023', 'Ottobre_2023',\n",
    "                    'Novembre_2023', 'Dicembre_2023', 'Gennaio_2024', 'Febbraio_2024', 'Marzo_2024',\n",
    "                    'Aprile_2024', 'Maggio_2024', 'Giugno_2024', 'Luglio_2024', 'Agosto_2024', 'Settembre_2024']\n",
    "\n",
    "def calcola_letture(df):\n",
    "    conteggio_lezioni = df['MESE_ANNO'].value_counts().reindex(MESE_ANNO_ORDINE, fill_value=0)\n",
    "    risultati_ordinati = conteggio_lezioni.sort_index(key=lambda x: x.map({v: i for i, v in enumerate(MESE_ANNO_ORDINE)}))\n",
    "    return risultati_ordinati\n",
    "\n",
    "def calcola_immersione(df):\n",
    "    conteggio_per_giorno = df.groupby(['MESE_ANNO', 'Data']).size()\n",
    "    giorni_senza_immersioni = conteggio_per_giorno[conteggio_per_giorno == 1]\n",
    "    immersione_per_mese_anno = giorni_senza_immersioni.groupby(level=0).sum().reindex(MESE_ANNO_ORDINE, fill_value=0)\n",
    "    risultati_ordinati = immersione_per_mese_anno.sort_index(key=lambda x: x.map({v: i for i, v in enumerate(MESE_ANNO_ORDINE)}))\n",
    "    return risultati_ordinati\n",
    "\n",
    "def calcola_lezioni_effettive(df):\n",
    "    conteggio_per_giorno = df.groupby(['MESE_ANNO', 'Data']).size()\n",
    "    giorni_senza_immersioni = conteggio_per_giorno[conteggio_per_giorno == 1]\n",
    "    lezioni_effettive_per_mese_anno = giorni_senza_immersioni.groupby(level=0).sum().reindex(MESE_ANNO_ORDINE, fill_value=0)\n",
    "    risultati_ordinati = lezioni_effettive_per_mese_anno.sort_index(key=lambda x: x.map({v: i for i, v in enumerate(MESE_ANNO_ORDINE)}))\n",
    "    return risultati_ordinati\n",
    "\n",
    "# Calcola le metriche\n",
    "lezioni_fatte = calcola_letture(df)\n",
    "immersioni = calcola_immersione(df)\n",
    "lezioni_effettive = calcola_lezioni_effettive(df)\n",
    "\n",
    "# Crea il grafico con Plotly\n",
    "fig = go.Figure()\n",
    "\n",
    "# Aggiungi le tracce\n",
    "fig.add_trace(go.Scatter(x=lezioni_fatte.index, y=lezioni_fatte.values, mode='lines+markers', name='Lezioni fatte'))\n",
    "fig.add_trace(go.Scatter(x=immersioni.index, y=immersioni.values, mode='lines+markers', name='Immersioni'))\n",
    "fig.add_trace(go.Scatter(x=lezioni_effettive.index, y=lezioni_effettive.values, mode='lines+markers', name='Lezioni fatte veramente'))\n",
    "\n",
    "# Aggiungi titoli e etichette\n",
    "fig.update_layout(\n",
    "    title='Numero di Lezioni nel Tempo',\n",
    "    xaxis_title='Mese e Anno',\n",
    "    yaxis_title='Numero di Lezioni',\n",
    "    xaxis=dict(tickvals=MESE_ANNO_ORDINE, ticktext=MESE_ANNO_ORDINE),\n",
    "    template='plotly_white'\n",
    ")\n",
    "\n",
    "# Mostra il grafico\n",
    "fig.show()"
   ]
  },
  {
   "cell_type": "code",
   "execution_count": 60,
   "metadata": {},
   "outputs": [],
   "source": [
    "#df.groupby(['MESE_ANNO', 'Livello']).size().unstack().fillna(0).reset_index()"
   ]
  },
  {
   "cell_type": "code",
   "execution_count": 61,
   "metadata": {},
   "outputs": [
    {
     "data": {
      "text/plain": [
       "\"#df = df.groupby(['MESE_ANNO', 'Livello']).size().unstack().fillna(0).reset_index()\\n\\n# Creazione del grafico\\nfig = go.Figure()\\n\\nfor column in df.columns[1:]:  # Ignora la colonna 'MESE_ANNO'\\n    fig.add_trace(go.Scatter(x=df['MESE_ANNO'], y=df[column], mode='lines+markers', name=column))\\n\\n# Impostazioni del layout\\nfig.update_layout(title='Quantità di Livelli per MESE_ANNO',\\n                  xaxis_title='MESE_ANNO',\\n                  yaxis_title='Quantità',\\n                  legend_title='Livelli',\\n                  template='plotly_white')\\n\\n# Mostra il grafico\\nfig.show()\""
      ]
     },
     "execution_count": 61,
     "metadata": {},
     "output_type": "execute_result"
    }
   ],
   "source": [
    "\"\"\"#df = df.groupby(['MESE_ANNO', 'Livello']).size().unstack().fillna(0).reset_index()\n",
    "\n",
    "# Creazione del grafico\n",
    "fig = go.Figure()\n",
    "\n",
    "for column in df.columns[1:]:  # Ignora la colonna 'MESE_ANNO'\n",
    "    fig.add_trace(go.Scatter(x=df['MESE_ANNO'], y=df[column], mode='lines+markers', name=column))\n",
    "\n",
    "# Impostazioni del layout\n",
    "fig.update_layout(title='Quantità di Livelli per MESE_ANNO',\n",
    "                  xaxis_title='MESE_ANNO',\n",
    "                  yaxis_title='Quantità',\n",
    "                  legend_title='Livelli',\n",
    "                  template='plotly_white')\n",
    "\n",
    "# Mostra il grafico\n",
    "fig.show()\"\"\""
   ]
  },
  {
   "cell_type": "code",
   "execution_count": 62,
   "metadata": {},
   "outputs": [
    {
     "data": {
      "text/plain": [
       "'def line_graphic(list_dic, eixo_X, eixo_y, colors, names_line):\\n    fig = go.Figure()\\n\\n    for dic, color, name_line in zip(list_dic, colors, names_line):\\n        fig.add_trace(go.Scatter(x=list(dic.keys()), y=list(dic.values()), mode=\\'lines\\', name=name_line, line=dict(color=color)))\\n        fig.update_layout(plot_bgcolor=\"white\", xaxis_title=eixo_y, yaxis_title=eixo_X)\\n\\n    fig.show() # lightgrey turquoise # deepskyblue violet lightseagreen lightpink'"
      ]
     },
     "execution_count": 62,
     "metadata": {},
     "output_type": "execute_result"
    }
   ],
   "source": [
    "\"\"\"def line_graphic(list_dic, eixo_X, eixo_y, colors, names_line):\n",
    "    fig = go.Figure()\n",
    "\n",
    "    for dic, color, name_line in zip(list_dic, colors, names_line):\n",
    "        fig.add_trace(go.Scatter(x=list(dic.keys()), y=list(dic.values()), mode='lines', name=name_line, line=dict(color=color)))\n",
    "        fig.update_layout(plot_bgcolor=\"white\", xaxis_title=eixo_y, yaxis_title=eixo_X)\n",
    "\n",
    "    fig.show() # lightgrey turquoise # deepskyblue violet lightseagreen lightpink\"\"\""
   ]
  },
  {
   "cell_type": "code",
   "execution_count": 63,
   "metadata": {},
   "outputs": [
    {
     "name": "stdout",
     "output_type": "stream",
     "text": [
      "['Maggio_2023', 'Maggio_2023', 'Maggio_2023', 'Maggio_2023', 'Maggio_2023', 'Maggio_2023', 'Maggio_2023', 'Maggio_2023', 'Maggio_2023', 'Maggio_2023', 'Maggio_2023', 'Maggio_2023', 'Maggio_2023', 'Maggio_2023', 'Maggio_2023', 'Maggio_2023', 'Giugno_2023', 'Giugno_2023', 'Giugno_2023', 'Giugno_2023', 'Giugno_2023', 'Giugno_2023', 'Giugno_2023', 'Giugno_2023', 'Giugno_2023', 'Giugno_2023', 'Giugno_2023', 'Giugno_2023', 'Giugno_2023', 'Giugno_2023', 'Giugno_2023', 'Giugno_2023', 'Giugno_2023', 'Giugno_2023', 'Giugno_2023', 'Giugno_2023', 'Giugno_2023', 'Giugno_2023', 'Giugno_2023', 'Giugno_2023', 'Giugno_2023', 'Giugno_2023', 'Giugno_2023', 'Giugno_2023', 'Giugno_2023', 'Giugno_2023', 'Giugno_2023', 'Giugno_2023', 'Luglio_2023', 'Luglio_2023', 'Luglio_2023', 'Luglio_2023', 'Luglio_2023', 'Luglio_2023', 'Luglio_2023', 'Luglio_2023', 'Luglio_2023', 'Luglio_2023', 'Luglio_2023', 'Luglio_2023', 'Luglio_2023', 'Luglio_2023', 'Luglio_2023', 'Luglio_2023', 'Luglio_2023', 'Luglio_2023', 'Luglio_2023', 'Luglio_2023', 'Luglio_2023', 'Luglio_2023', 'Luglio_2023', 'Luglio_2023', 'Agosto_2023', 'Agosto_2023', 'Agosto_2023', 'Agosto_2023', 'Agosto_2023', 'Agosto_2023', 'Agosto_2023', 'Agosto_2023', 'Agosto_2023', 'Agosto_2023', 'Agosto_2023', 'Agosto_2023', 'Agosto_2023', 'Agosto_2023', 'Agosto_2023', 'Agosto_2023', 'Agosto_2023', 'Agosto_2023', 'Agosto_2023', 'Agosto_2023', 'Agosto_2023', 'Agosto_2023', 'Agosto_2023', 'Agosto_2023', 'Agosto_2023', 'Agosto_2023', 'Agosto_2023', 'Agosto_2023', 'Agosto_2023', 'Agosto_2023', 'Agosto_2023', 'Agosto_2023', 'Agosto_2023', 'Settembre_2023', 'Settembre_2023', 'Settembre_2023', 'Settembre_2023', 'Settembre_2023', 'Settembre_2023', 'Settembre_2023', 'Settembre_2023', 'Settembre_2023', 'Settembre_2023', 'Settembre_2023', 'Settembre_2023', 'Settembre_2023', 'Settembre_2023', 'Settembre_2023', 'Settembre_2023', 'Settembre_2023', 'Settembre_2023', 'Settembre_2023', 'Settembre_2023', 'Settembre_2023', 'Settembre_2023', 'Settembre_2023', 'Settembre_2023', 'Ottobre_2023', 'Ottobre_2023', 'Ottobre_2023', 'Ottobre_2023', 'Ottobre_2023', 'Ottobre_2023', 'Ottobre_2023', 'Ottobre_2023', 'Ottobre_2023', 'Ottobre_2023', 'Ottobre_2023', 'Ottobre_2023', 'Ottobre_2023', 'Ottobre_2023', 'Ottobre_2023', 'Ottobre_2023', 'Ottobre_2023', 'Ottobre_2023', 'Ottobre_2023', 'Ottobre_2023', 'Ottobre_2023', 'Ottobre_2023', 'Ottobre_2023', 'Ottobre_2023', 'Ottobre_2023', 'Ottobre_2023', 'Ottobre_2023', 'Ottobre_2023', 'Ottobre_2023', 'Ottobre_2023', 'Novembre_2023', 'Novembre_2023', 'Novembre_2023', 'Novembre_2023', 'Novembre_2023', 'Novembre_2023', 'Novembre_2023', 'Novembre_2023', 'Novembre_2023', 'Novembre_2023', 'Novembre_2023', 'Novembre_2023', 'Novembre_2023', 'Novembre_2023', 'Novembre_2023', 'Novembre_2023', 'Novembre_2023', 'Novembre_2023', 'Novembre_2023', 'Dicembre_2023', 'Dicembre_2023', 'Dicembre_2023', 'Dicembre_2023', 'Dicembre_2023', 'Dicembre_2023', 'Dicembre_2023', 'Dicembre_2023', 'Dicembre_2023', 'Dicembre_2023', 'Dicembre_2023', 'Gennaio_2024', 'Gennaio_2024', 'Gennaio_2024', 'Gennaio_2024', 'Gennaio_2024', 'Gennaio_2024', 'Gennaio_2024', 'Gennaio_2024', 'Gennaio_2024', 'Gennaio_2024', 'Gennaio_2024', 'Gennaio_2024', 'Gennaio_2024', 'Gennaio_2024', 'Febbraio_2024', 'Febbraio_2024', 'Febbraio_2024', 'Febbraio_2024', 'Febbraio_2024', 'Febbraio_2024', 'Febbraio_2024', 'Febbraio_2024', 'Marzo_2024', 'Marzo_2024', 'Marzo_2024', 'Marzo_2024', 'Marzo_2024', 'Marzo_2024', 'Marzo_2024', 'Marzo_2024', 'Marzo_2024', 'Marzo_2024', 'Marzo_2024', 'Marzo_2024', 'Marzo_2024', 'Marzo_2024', 'Marzo_2024', 'Marzo_2024', 'Marzo_2024', 'Marzo_2024', 'Marzo_2024', 'Marzo_2024', 'Marzo_2024', 'Marzo_2024', 'Marzo_2024', nan, nan, nan, nan, nan, nan, nan, nan, nan, nan, nan, nan, nan, nan, nan, nan, nan, nan, nan, 'Maggio_2024', 'Maggio_2024', 'Maggio_2024', 'Maggio_2024', 'Maggio_2024', 'Maggio_2024', 'Maggio_2024', 'Maggio_2024', 'Maggio_2024', 'Maggio_2024', 'Maggio_2024', 'Maggio_2024', 'Maggio_2024', 'Maggio_2024', 'Maggio_2024', 'Giugno_2024', 'Giugno_2024', 'Giugno_2024', 'Giugno_2024', 'Giugno_2024', 'Giugno_2024', 'Giugno_2024', 'Giugno_2024', 'Giugno_2024', 'Giugno_2024', 'Giugno_2024', 'Giugno_2024', 'Giugno_2024', 'Giugno_2024', 'Giugno_2024', 'Giugno_2024', 'Giugno_2024', 'Giugno_2024', 'Giugno_2024', 'Giugno_2024', 'Giugno_2024', 'Giugno_2024', 'Giugno_2024', 'Giugno_2024', 'Giugno_2024', 'Giugno_2024', 'Luglio_2024', 'Luglio_2024', 'Luglio_2024', 'Luglio_2024', 'Luglio_2024', 'Luglio_2024', 'Luglio_2024', 'Luglio_2024', 'Luglio_2024', 'Luglio_2024', 'Luglio_2024', 'Luglio_2024', 'Luglio_2024', 'Luglio_2024', 'Luglio_2024', 'Luglio_2024', 'Luglio_2024', 'Luglio_2024', 'Luglio_2024', 'Luglio_2024', 'Luglio_2024', 'Luglio_2024', 'Luglio_2024', 'Luglio_2024', 'Agosto_2024', 'Agosto_2024', 'Agosto_2024', 'Agosto_2024', 'Agosto_2024', 'Agosto_2024', 'Agosto_2024', 'Agosto_2024', 'Agosto_2024', 'Agosto_2024', 'Agosto_2024', 'Agosto_2024', 'Agosto_2024', 'Agosto_2024', 'Agosto_2024', 'Agosto_2024', 'Agosto_2024', 'Agosto_2024', 'Agosto_2024', 'Settembre_2024', 'Settembre_2024', 'Settembre_2024', 'Settembre_2024', 'Settembre_2024', 'Settembre_2024', 'Settembre_2024', 'Settembre_2024', 'Settembre_2024', 'Settembre_2024']\n"
     ]
    }
   ],
   "source": [
    "ORDINE = df['MESE_ANNO'].to_list()\n",
    "print(ORDINE)"
   ]
  },
  {
   "cell_type": "code",
   "execution_count": 64,
   "metadata": {},
   "outputs": [
    {
     "name": "stderr",
     "output_type": "stream",
     "text": [
      "C:\\Users\\ES\\AppData\\Local\\Temp\\ipykernel_7300\\74625838.py:1: FutureWarning:\n",
      "\n",
      "The default of observed=False is deprecated and will be changed to True in a future version of pandas. Pass observed=False to retain current behavior or observed=True to adopt the future default and silence this warning.\n",
      "\n"
     ]
    },
    {
     "ename": "KeyError",
     "evalue": "nan",
     "output_type": "error",
     "traceback": [
      "\u001b[1;31m---------------------------------------------------------------------------\u001b[0m",
      "\u001b[1;31mKeyError\u001b[0m                                  Traceback (most recent call last)",
      "Cell \u001b[1;32mIn[64], line 1\u001b[0m\n\u001b[1;32m----> 1\u001b[0m TOTALE \u001b[38;5;241m=\u001b[39m {chiave: \u001b[43mdf\u001b[49m\u001b[38;5;241;43m.\u001b[39;49m\u001b[43mgroupby\u001b[49m\u001b[43m(\u001b[49m\u001b[38;5;124;43m'\u001b[39;49m\u001b[38;5;124;43mMESE_ANNO\u001b[39;49m\u001b[38;5;124;43m'\u001b[39;49m\u001b[43m)\u001b[49m\u001b[43m[\u001b[49m\u001b[38;5;124;43m'\u001b[39;49m\u001b[38;5;124;43mData\u001b[39;49m\u001b[38;5;124;43m'\u001b[39;49m\u001b[43m]\u001b[49m\u001b[38;5;241;43m.\u001b[39;49m\u001b[43mcount\u001b[49m\u001b[43m(\u001b[49m\u001b[43m)\u001b[49m\u001b[38;5;241;43m.\u001b[39;49m\u001b[43msort_values\u001b[49m\u001b[43m(\u001b[49m\u001b[43mascending\u001b[49m\u001b[38;5;241;43m=\u001b[39;49m\u001b[38;5;28;43;01mFalse\u001b[39;49;00m\u001b[43m)\u001b[49m\u001b[38;5;241;43m.\u001b[39;49m\u001b[43mto_dict\u001b[49m\u001b[43m(\u001b[49m\u001b[43m)\u001b[49m\u001b[43m[\u001b[49m\u001b[43mchiave\u001b[49m\u001b[43m]\u001b[49m \u001b[38;5;28;01mfor\u001b[39;00m chiave \u001b[38;5;129;01min\u001b[39;00m ORDINE}\n\u001b[0;32m      2\u001b[0m line_graphic([TOTALE], \u001b[38;5;124m'\u001b[39m\u001b[38;5;124m'\u001b[39m, \u001b[38;5;124m'\u001b[39m\u001b[38;5;124m'\u001b[39m, [\u001b[38;5;124m'\u001b[39m\u001b[38;5;124mturquoise\u001b[39m\u001b[38;5;124m'\u001b[39m], [\u001b[38;5;124m'\u001b[39m\u001b[38;5;124mC1\u001b[39m\u001b[38;5;124m'\u001b[39m])\n",
      "\u001b[1;31mKeyError\u001b[0m: nan"
     ]
    }
   ],
   "source": [
    "TOTALE = {chiave: df.groupby('MESE_ANNO')['Data'].count().sort_values(ascending=False).to_dict()[chiave] for chiave in ORDINE}\n",
    "line_graphic([TOTALE], '', '', ['turquoise'], ['C1'])"
   ]
  }
 ],
 "metadata": {
  "kernelspec": {
   "display_name": "base",
   "language": "python",
   "name": "python3"
  },
  "language_info": {
   "codemirror_mode": {
    "name": "ipython",
    "version": 3
   },
   "file_extension": ".py",
   "mimetype": "text/x-python",
   "name": "python",
   "nbconvert_exporter": "python",
   "pygments_lexer": "ipython3",
   "version": "3.12.1"
  }
 },
 "nbformat": 4,
 "nbformat_minor": 2
}

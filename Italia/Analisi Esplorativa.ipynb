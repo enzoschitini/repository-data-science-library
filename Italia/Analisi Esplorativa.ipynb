{
 "cells": [
  {
   "cell_type": "code",
   "execution_count": 361,
   "metadata": {},
   "outputs": [],
   "source": [
    "import pandas as pd\n",
    "import matplotlib.pyplot as plt\n",
    "import plotly.graph_objects as go\n",
    "import plotly.express as px"
   ]
  },
  {
   "cell_type": "code",
   "execution_count": 362,
   "metadata": {},
   "outputs": [],
   "source": [
    "df = pd.read_csv('Lezioni.csv').drop(columns='Unnamed: 0')"
   ]
  },
  {
   "cell_type": "code",
   "execution_count": 363,
   "metadata": {},
   "outputs": [
    {
     "data": {
      "text/html": [
       "<div>\n",
       "<style scoped>\n",
       "    .dataframe tbody tr th:only-of-type {\n",
       "        vertical-align: middle;\n",
       "    }\n",
       "\n",
       "    .dataframe tbody tr th {\n",
       "        vertical-align: top;\n",
       "    }\n",
       "\n",
       "    .dataframe thead th {\n",
       "        text-align: right;\n",
       "    }\n",
       "</style>\n",
       "<table border=\"1\" class=\"dataframe\">\n",
       "  <thead>\n",
       "    <tr style=\"text-align: right;\">\n",
       "      <th></th>\n",
       "      <th>count</th>\n",
       "    </tr>\n",
       "    <tr>\n",
       "      <th>Professoressa</th>\n",
       "      <th></th>\n",
       "    </tr>\n",
       "  </thead>\n",
       "  <tbody>\n",
       "    <tr>\n",
       "      <th>Giusy</th>\n",
       "      <td>3</td>\n",
       "    </tr>\n",
       "    <tr>\n",
       "      <th>Rita</th>\n",
       "      <td>3</td>\n",
       "    </tr>\n",
       "    <tr>\n",
       "      <th>Giada 2</th>\n",
       "      <td>2</td>\n",
       "    </tr>\n",
       "    <tr>\n",
       "      <th>Miriam</th>\n",
       "      <td>2</td>\n",
       "    </tr>\n",
       "    <tr>\n",
       "      <th>Mariacristina</th>\n",
       "      <td>2</td>\n",
       "    </tr>\n",
       "    <tr>\n",
       "      <th>Francesca 3</th>\n",
       "      <td>1</td>\n",
       "    </tr>\n",
       "    <tr>\n",
       "      <th>Ileana</th>\n",
       "      <td>1</td>\n",
       "    </tr>\n",
       "    <tr>\n",
       "      <th>Erika</th>\n",
       "      <td>1</td>\n",
       "    </tr>\n",
       "    <tr>\n",
       "      <th>Mirela</th>\n",
       "      <td>1</td>\n",
       "    </tr>\n",
       "    <tr>\n",
       "      <th>Federica 2</th>\n",
       "      <td>1</td>\n",
       "    </tr>\n",
       "    <tr>\n",
       "      <th>Martina</th>\n",
       "      <td>1</td>\n",
       "    </tr>\n",
       "    <tr>\n",
       "      <th>Giulia</th>\n",
       "      <td>1</td>\n",
       "    </tr>\n",
       "    <tr>\n",
       "      <th>Graziana</th>\n",
       "      <td>1</td>\n",
       "    </tr>\n",
       "    <tr>\n",
       "      <th>Federico</th>\n",
       "      <td>1</td>\n",
       "    </tr>\n",
       "    <tr>\n",
       "      <th>Giuliana</th>\n",
       "      <td>1</td>\n",
       "    </tr>\n",
       "    <tr>\n",
       "      <th>Anna 2</th>\n",
       "      <td>1</td>\n",
       "    </tr>\n",
       "    <tr>\n",
       "      <th>Anna</th>\n",
       "      <td>1</td>\n",
       "    </tr>\n",
       "    <tr>\n",
       "      <th>Antonella</th>\n",
       "      <td>1</td>\n",
       "    </tr>\n",
       "    <tr>\n",
       "      <th>Lorella</th>\n",
       "      <td>1</td>\n",
       "    </tr>\n",
       "  </tbody>\n",
       "</table>\n",
       "</div>"
      ],
      "text/plain": [
       "               count\n",
       "Professoressa       \n",
       "Giusy              3\n",
       "Rita               3\n",
       "Giada 2            2\n",
       "Miriam             2\n",
       "Mariacristina      2\n",
       "Francesca 3        1\n",
       "Ileana             1\n",
       "Erika              1\n",
       "Mirela             1\n",
       "Federica 2         1\n",
       "Martina            1\n",
       "Giulia             1\n",
       "Graziana           1\n",
       "Federico           1\n",
       "Giuliana           1\n",
       "Anna 2             1\n",
       "Anna               1\n",
       "Antonella          1\n",
       "Lorella            1"
      ]
     },
     "execution_count": 363,
     "metadata": {},
     "output_type": "execute_result"
    }
   ],
   "source": [
    "pd.DataFrame(df[(df['Index'] >= 269) & (df['Index'] <= 294)]['Professoressa'].value_counts().head(25))"
   ]
  },
  {
   "cell_type": "code",
   "execution_count": 364,
   "metadata": {},
   "outputs": [
    {
     "data": {
      "text/html": [
       "<div>\n",
       "<style scoped>\n",
       "    .dataframe tbody tr th:only-of-type {\n",
       "        vertical-align: middle;\n",
       "    }\n",
       "\n",
       "    .dataframe tbody tr th {\n",
       "        vertical-align: top;\n",
       "    }\n",
       "\n",
       "    .dataframe thead th {\n",
       "        text-align: right;\n",
       "    }\n",
       "</style>\n",
       "<table border=\"1\" class=\"dataframe\">\n",
       "  <thead>\n",
       "    <tr style=\"text-align: right;\">\n",
       "      <th></th>\n",
       "      <th>Index</th>\n",
       "      <th>Data</th>\n",
       "      <th>Ora</th>\n",
       "      <th>Professoressa</th>\n",
       "      <th>Livello</th>\n",
       "      <th>Lezione</th>\n",
       "      <th>Giorno della settimana</th>\n",
       "      <th>Mese</th>\n",
       "      <th>Anno</th>\n",
       "    </tr>\n",
       "  </thead>\n",
       "  <tbody>\n",
       "    <tr>\n",
       "      <th>44</th>\n",
       "      <td>45</td>\n",
       "      <td>2023-06-27</td>\n",
       "      <td>8</td>\n",
       "      <td>Rita</td>\n",
       "      <td>C1</td>\n",
       "      <td>C119</td>\n",
       "      <td>Martedì</td>\n",
       "      <td>Giugno</td>\n",
       "      <td>2023</td>\n",
       "    </tr>\n",
       "    <tr>\n",
       "      <th>125</th>\n",
       "      <td>126</td>\n",
       "      <td>2023-09-25</td>\n",
       "      <td>7</td>\n",
       "      <td>Rita</td>\n",
       "      <td>C1</td>\n",
       "      <td>C137</td>\n",
       "      <td>Lunedì</td>\n",
       "      <td>Settembre</td>\n",
       "      <td>2023</td>\n",
       "    </tr>\n",
       "    <tr>\n",
       "      <th>126</th>\n",
       "      <td>127</td>\n",
       "      <td>2023-09-26</td>\n",
       "      <td>7</td>\n",
       "      <td>Rita</td>\n",
       "      <td>B2</td>\n",
       "      <td>B221</td>\n",
       "      <td>Martedì</td>\n",
       "      <td>Settembre</td>\n",
       "      <td>2023</td>\n",
       "    </tr>\n",
       "    <tr>\n",
       "      <th>129</th>\n",
       "      <td>130</td>\n",
       "      <td>2023-10-02</td>\n",
       "      <td>7</td>\n",
       "      <td>Rita</td>\n",
       "      <td>B2</td>\n",
       "      <td>B235</td>\n",
       "      <td>Lunedì</td>\n",
       "      <td>Ottobre</td>\n",
       "      <td>2023</td>\n",
       "    </tr>\n",
       "    <tr>\n",
       "      <th>140</th>\n",
       "      <td>141</td>\n",
       "      <td>2023-10-10</td>\n",
       "      <td>7</td>\n",
       "      <td>Rita</td>\n",
       "      <td>C1</td>\n",
       "      <td>C136</td>\n",
       "      <td>Martedì</td>\n",
       "      <td>Ottobre</td>\n",
       "      <td>2023</td>\n",
       "    </tr>\n",
       "    <tr>\n",
       "      <th>156</th>\n",
       "      <td>157</td>\n",
       "      <td>2023-10-30</td>\n",
       "      <td>11</td>\n",
       "      <td>Rita</td>\n",
       "      <td>B2</td>\n",
       "      <td>B221</td>\n",
       "      <td>Lunedì</td>\n",
       "      <td>Ottobre</td>\n",
       "      <td>2023</td>\n",
       "    </tr>\n",
       "    <tr>\n",
       "      <th>160</th>\n",
       "      <td>161</td>\n",
       "      <td>2023-11-06</td>\n",
       "      <td>7</td>\n",
       "      <td>Rita</td>\n",
       "      <td>B2</td>\n",
       "      <td>B218</td>\n",
       "      <td>Lunedì</td>\n",
       "      <td>Novembre</td>\n",
       "      <td>2023</td>\n",
       "    </tr>\n",
       "    <tr>\n",
       "      <th>163</th>\n",
       "      <td>164</td>\n",
       "      <td>2023-11-08</td>\n",
       "      <td>7</td>\n",
       "      <td>Rita</td>\n",
       "      <td>B2</td>\n",
       "      <td>B240</td>\n",
       "      <td>Mercoledì</td>\n",
       "      <td>Novembre</td>\n",
       "      <td>2023</td>\n",
       "    </tr>\n",
       "    <tr>\n",
       "      <th>192</th>\n",
       "      <td>193</td>\n",
       "      <td>2024-01-09</td>\n",
       "      <td>7</td>\n",
       "      <td>Rita</td>\n",
       "      <td>B1</td>\n",
       "      <td>B118</td>\n",
       "      <td>Martedì</td>\n",
       "      <td>Gennaio</td>\n",
       "      <td>2024</td>\n",
       "    </tr>\n",
       "    <tr>\n",
       "      <th>207</th>\n",
       "      <td>208</td>\n",
       "      <td>2024-02-22</td>\n",
       "      <td>10</td>\n",
       "      <td>Rita</td>\n",
       "      <td>B1</td>\n",
       "      <td>B112</td>\n",
       "      <td>Giovedì</td>\n",
       "      <td>Febbraio</td>\n",
       "      <td>2024</td>\n",
       "    </tr>\n",
       "    <tr>\n",
       "      <th>249</th>\n",
       "      <td>250</td>\n",
       "      <td>2024-04-24</td>\n",
       "      <td>7</td>\n",
       "      <td>Rita</td>\n",
       "      <td>C1</td>\n",
       "      <td>C121</td>\n",
       "      <td>Mercoledì</td>\n",
       "      <td>Abrile</td>\n",
       "      <td>2024</td>\n",
       "    </tr>\n",
       "    <tr>\n",
       "      <th>258</th>\n",
       "      <td>259</td>\n",
       "      <td>2024-05-21</td>\n",
       "      <td>7</td>\n",
       "      <td>Rita</td>\n",
       "      <td>C1</td>\n",
       "      <td>C130</td>\n",
       "      <td>Martedì</td>\n",
       "      <td>Maggio</td>\n",
       "      <td>2024</td>\n",
       "    </tr>\n",
       "    <tr>\n",
       "      <th>270</th>\n",
       "      <td>271</td>\n",
       "      <td>2024-06-05</td>\n",
       "      <td>7</td>\n",
       "      <td>Rita</td>\n",
       "      <td>C1</td>\n",
       "      <td>C117</td>\n",
       "      <td>Mercoledì</td>\n",
       "      <td>Giugno</td>\n",
       "      <td>2024</td>\n",
       "    </tr>\n",
       "    <tr>\n",
       "      <th>288</th>\n",
       "      <td>289</td>\n",
       "      <td>2024-06-20</td>\n",
       "      <td>9</td>\n",
       "      <td>Rita</td>\n",
       "      <td>C1</td>\n",
       "      <td>C122</td>\n",
       "      <td>Giovedì</td>\n",
       "      <td>Giugno</td>\n",
       "      <td>2024</td>\n",
       "    </tr>\n",
       "    <tr>\n",
       "      <th>291</th>\n",
       "      <td>292</td>\n",
       "      <td>2024-06-26</td>\n",
       "      <td>9</td>\n",
       "      <td>Rita</td>\n",
       "      <td>B2</td>\n",
       "      <td>B216</td>\n",
       "      <td>Mercoledì</td>\n",
       "      <td>Giugno</td>\n",
       "      <td>2024</td>\n",
       "    </tr>\n",
       "    <tr>\n",
       "      <th>311</th>\n",
       "      <td>312</td>\n",
       "      <td>2024-07-24</td>\n",
       "      <td>9</td>\n",
       "      <td>Rita</td>\n",
       "      <td>C1</td>\n",
       "      <td>C111</td>\n",
       "      <td>Mercoledì</td>\n",
       "      <td>Luglio</td>\n",
       "      <td>2024</td>\n",
       "    </tr>\n",
       "  </tbody>\n",
       "</table>\n",
       "</div>"
      ],
      "text/plain": [
       "     Index        Data  Ora Professoressa Livello Lezione  \\\n",
       "44      45  2023-06-27    8          Rita      C1    C119   \n",
       "125    126  2023-09-25    7          Rita      C1    C137   \n",
       "126    127  2023-09-26    7          Rita      B2    B221   \n",
       "129    130  2023-10-02    7          Rita      B2    B235   \n",
       "140    141  2023-10-10    7          Rita      C1    C136   \n",
       "156    157  2023-10-30   11          Rita      B2    B221   \n",
       "160    161  2023-11-06    7          Rita      B2    B218   \n",
       "163    164  2023-11-08    7          Rita      B2    B240   \n",
       "192    193  2024-01-09    7          Rita      B1    B118   \n",
       "207    208  2024-02-22   10          Rita      B1    B112   \n",
       "249    250  2024-04-24    7          Rita      C1    C121   \n",
       "258    259  2024-05-21    7          Rita      C1    C130   \n",
       "270    271  2024-06-05    7          Rita      C1    C117   \n",
       "288    289  2024-06-20    9          Rita      C1    C122   \n",
       "291    292  2024-06-26    9          Rita      B2    B216   \n",
       "311    312  2024-07-24    9          Rita      C1    C111   \n",
       "\n",
       "    Giorno della settimana       Mese  Anno  \n",
       "44                 Martedì     Giugno  2023  \n",
       "125                 Lunedì  Settembre  2023  \n",
       "126                Martedì  Settembre  2023  \n",
       "129                 Lunedì    Ottobre  2023  \n",
       "140                Martedì    Ottobre  2023  \n",
       "156                 Lunedì    Ottobre  2023  \n",
       "160                 Lunedì   Novembre  2023  \n",
       "163              Mercoledì   Novembre  2023  \n",
       "192                Martedì    Gennaio  2024  \n",
       "207                Giovedì   Febbraio  2024  \n",
       "249              Mercoledì     Abrile  2024  \n",
       "258                Martedì     Maggio  2024  \n",
       "270              Mercoledì     Giugno  2024  \n",
       "288                Giovedì     Giugno  2024  \n",
       "291              Mercoledì     Giugno  2024  \n",
       "311              Mercoledì     Luglio  2024  "
      ]
     },
     "execution_count": 364,
     "metadata": {},
     "output_type": "execute_result"
    }
   ],
   "source": [
    "df[df['Professoressa'] == 'Rita']"
   ]
  },
  {
   "cell_type": "code",
   "execution_count": 365,
   "metadata": {},
   "outputs": [
    {
     "data": {
      "text/html": [
       "<div>\n",
       "<style scoped>\n",
       "    .dataframe tbody tr th:only-of-type {\n",
       "        vertical-align: middle;\n",
       "    }\n",
       "\n",
       "    .dataframe tbody tr th {\n",
       "        vertical-align: top;\n",
       "    }\n",
       "\n",
       "    .dataframe thead th {\n",
       "        text-align: right;\n",
       "    }\n",
       "</style>\n",
       "<table border=\"1\" class=\"dataframe\">\n",
       "  <thead>\n",
       "    <tr style=\"text-align: right;\">\n",
       "      <th></th>\n",
       "      <th>Index</th>\n",
       "      <th>Data</th>\n",
       "      <th>Ora</th>\n",
       "      <th>Professoressa</th>\n",
       "      <th>Livello</th>\n",
       "      <th>Lezione</th>\n",
       "      <th>Giorno della settimana</th>\n",
       "      <th>Mese</th>\n",
       "      <th>Anno</th>\n",
       "      <th>MESE_ANNO</th>\n",
       "    </tr>\n",
       "  </thead>\n",
       "  <tbody>\n",
       "    <tr>\n",
       "      <th>0</th>\n",
       "      <td>1</td>\n",
       "      <td>2023-05-22</td>\n",
       "      <td>8</td>\n",
       "      <td>Virginia</td>\n",
       "      <td>B1</td>\n",
       "      <td>B132</td>\n",
       "      <td>Lunedì</td>\n",
       "      <td>Maggio</td>\n",
       "      <td>2023</td>\n",
       "      <td>Maggio_2023</td>\n",
       "    </tr>\n",
       "    <tr>\n",
       "      <th>1</th>\n",
       "      <td>2</td>\n",
       "      <td>2023-05-22</td>\n",
       "      <td>11</td>\n",
       "      <td>Graziana</td>\n",
       "      <td>B1</td>\n",
       "      <td>B135</td>\n",
       "      <td>Lunedì</td>\n",
       "      <td>Maggio</td>\n",
       "      <td>2023</td>\n",
       "      <td>Maggio_2023</td>\n",
       "    </tr>\n",
       "    <tr>\n",
       "      <th>2</th>\n",
       "      <td>3</td>\n",
       "      <td>2023-05-23</td>\n",
       "      <td>10</td>\n",
       "      <td>Francesca</td>\n",
       "      <td>C1</td>\n",
       "      <td>C123</td>\n",
       "      <td>Martedì</td>\n",
       "      <td>Maggio</td>\n",
       "      <td>2023</td>\n",
       "      <td>Maggio_2023</td>\n",
       "    </tr>\n",
       "    <tr>\n",
       "      <th>3</th>\n",
       "      <td>4</td>\n",
       "      <td>2023-05-23</td>\n",
       "      <td>11</td>\n",
       "      <td>Sara</td>\n",
       "      <td>B1</td>\n",
       "      <td>B143</td>\n",
       "      <td>Martedì</td>\n",
       "      <td>Maggio</td>\n",
       "      <td>2023</td>\n",
       "      <td>Maggio_2023</td>\n",
       "    </tr>\n",
       "    <tr>\n",
       "      <th>4</th>\n",
       "      <td>5</td>\n",
       "      <td>2023-05-24</td>\n",
       "      <td>10</td>\n",
       "      <td>Alice</td>\n",
       "      <td>B1</td>\n",
       "      <td>B141</td>\n",
       "      <td>Mercoledì</td>\n",
       "      <td>Maggio</td>\n",
       "      <td>2023</td>\n",
       "      <td>Maggio_2023</td>\n",
       "    </tr>\n",
       "  </tbody>\n",
       "</table>\n",
       "</div>"
      ],
      "text/plain": [
       "   Index        Data  Ora Professoressa Livello Lezione  \\\n",
       "0      1  2023-05-22    8      Virginia      B1    B132   \n",
       "1      2  2023-05-22   11      Graziana      B1    B135   \n",
       "2      3  2023-05-23   10     Francesca      C1    C123   \n",
       "3      4  2023-05-23   11          Sara      B1    B143   \n",
       "4      5  2023-05-24   10         Alice      B1    B141   \n",
       "\n",
       "  Giorno della settimana    Mese  Anno    MESE_ANNO  \n",
       "0                 Lunedì  Maggio  2023  Maggio_2023  \n",
       "1                 Lunedì  Maggio  2023  Maggio_2023  \n",
       "2                Martedì  Maggio  2023  Maggio_2023  \n",
       "3                Martedì  Maggio  2023  Maggio_2023  \n",
       "4              Mercoledì  Maggio  2023  Maggio_2023  "
      ]
     },
     "execution_count": 365,
     "metadata": {},
     "output_type": "execute_result"
    }
   ],
   "source": [
    "df['MESE_ANNO'] = df['Mese'].astype(str) + '_' + df['Anno'].astype(str)\n",
    "df.head()"
   ]
  },
  {
   "cell_type": "code",
   "execution_count": 366,
   "metadata": {},
   "outputs": [
    {
     "data": {
      "text/html": [
       "<div>\n",
       "<style scoped>\n",
       "    .dataframe tbody tr th:only-of-type {\n",
       "        vertical-align: middle;\n",
       "    }\n",
       "\n",
       "    .dataframe tbody tr th {\n",
       "        vertical-align: top;\n",
       "    }\n",
       "\n",
       "    .dataframe thead th {\n",
       "        text-align: right;\n",
       "    }\n",
       "</style>\n",
       "<table border=\"1\" class=\"dataframe\">\n",
       "  <thead>\n",
       "    <tr style=\"text-align: right;\">\n",
       "      <th></th>\n",
       "      <th>Index</th>\n",
       "      <th>Data</th>\n",
       "      <th>Ora</th>\n",
       "      <th>Professoressa</th>\n",
       "      <th>Livello</th>\n",
       "      <th>Lezione</th>\n",
       "      <th>Giorno della settimana</th>\n",
       "      <th>Mese</th>\n",
       "      <th>Anno</th>\n",
       "      <th>MESE_ANNO</th>\n",
       "    </tr>\n",
       "  </thead>\n",
       "  <tbody>\n",
       "    <tr>\n",
       "      <th>332</th>\n",
       "      <td>333</td>\n",
       "      <td>2024-08-26</td>\n",
       "      <td>10</td>\n",
       "      <td>Miriam</td>\n",
       "      <td>C1</td>\n",
       "      <td>C124</td>\n",
       "      <td>Lunedì</td>\n",
       "      <td>Agosto</td>\n",
       "      <td>2024</td>\n",
       "      <td>Agosto_2024</td>\n",
       "    </tr>\n",
       "    <tr>\n",
       "      <th>331</th>\n",
       "      <td>332</td>\n",
       "      <td>2024-08-26</td>\n",
       "      <td>8</td>\n",
       "      <td>Alessandra</td>\n",
       "      <td>C1</td>\n",
       "      <td>C116</td>\n",
       "      <td>Lunedì</td>\n",
       "      <td>Agosto</td>\n",
       "      <td>2024</td>\n",
       "      <td>Agosto_2024</td>\n",
       "    </tr>\n",
       "    <tr>\n",
       "      <th>330</th>\n",
       "      <td>331</td>\n",
       "      <td>2024-08-23</td>\n",
       "      <td>9</td>\n",
       "      <td>Gaia</td>\n",
       "      <td>B2</td>\n",
       "      <td>B213</td>\n",
       "      <td>Venerdì</td>\n",
       "      <td>Agosto</td>\n",
       "      <td>2024</td>\n",
       "      <td>Agosto_2024</td>\n",
       "    </tr>\n",
       "    <tr>\n",
       "      <th>329</th>\n",
       "      <td>330</td>\n",
       "      <td>2024-08-21</td>\n",
       "      <td>7</td>\n",
       "      <td>Marta</td>\n",
       "      <td>B2</td>\n",
       "      <td>B221</td>\n",
       "      <td>Mercoledì</td>\n",
       "      <td>Agosto</td>\n",
       "      <td>2024</td>\n",
       "      <td>Agosto_2024</td>\n",
       "    </tr>\n",
       "    <tr>\n",
       "      <th>328</th>\n",
       "      <td>329</td>\n",
       "      <td>2024-08-20</td>\n",
       "      <td>11</td>\n",
       "      <td>Cecilia</td>\n",
       "      <td>C1</td>\n",
       "      <td>C132</td>\n",
       "      <td>Martedì</td>\n",
       "      <td>Agosto</td>\n",
       "      <td>2024</td>\n",
       "      <td>Agosto_2024</td>\n",
       "    </tr>\n",
       "  </tbody>\n",
       "</table>\n",
       "</div>"
      ],
      "text/plain": [
       "     Index        Data  Ora Professoressa Livello Lezione  \\\n",
       "332    333  2024-08-26   10        Miriam      C1    C124   \n",
       "331    332  2024-08-26    8    Alessandra      C1    C116   \n",
       "330    331  2024-08-23    9          Gaia      B2    B213   \n",
       "329    330  2024-08-21    7         Marta      B2    B221   \n",
       "328    329  2024-08-20   11       Cecilia      C1    C132   \n",
       "\n",
       "    Giorno della settimana    Mese  Anno    MESE_ANNO  \n",
       "332                 Lunedì  Agosto  2024  Agosto_2024  \n",
       "331                 Lunedì  Agosto  2024  Agosto_2024  \n",
       "330                Venerdì  Agosto  2024  Agosto_2024  \n",
       "329              Mercoledì  Agosto  2024  Agosto_2024  \n",
       "328                Martedì  Agosto  2024  Agosto_2024  "
      ]
     },
     "execution_count": 366,
     "metadata": {},
     "output_type": "execute_result"
    }
   ],
   "source": [
    "df_ascending_false = df.sort_values(by='Data', ascending=False)\n",
    "df_ascending_false.head()#.to_clipboard()"
   ]
  },
  {
   "cell_type": "code",
   "execution_count": 367,
   "metadata": {},
   "outputs": [],
   "source": [
    "MESE_ANNO_ORDINE =['Maggio_2023', 'Giugno_2023', 'Luglio_2023', 'Settembre_2023', 'Ottobre_2023',\n",
    "                   'Novembre_2023', 'Dicembre_2023', 'Gennaio_2024', 'Febbraio_2024', 'Marzo_2024',\n",
    "                   'Aprile_2024', 'Maggio_2024', 'Giugno_2024', 'Luglio_2024', 'Agosto_2024']"
   ]
  },
  {
   "cell_type": "code",
   "execution_count": 368,
   "metadata": {},
   "outputs": [],
   "source": [
    "dic = df_ascending_false.groupby('MESE_ANNO')['Index'].count()\n",
    "dizionario_ordinato = {chiave: dic[chiave] for chiave in MESE_ANNO_ORDINE if chiave in dic}"
   ]
  },
  {
   "cell_type": "code",
   "execution_count": 375,
   "metadata": {},
   "outputs": [
    {
     "data": {
      "text/html": [
       "<div>\n",
       "<style scoped>\n",
       "    .dataframe tbody tr th:only-of-type {\n",
       "        vertical-align: middle;\n",
       "    }\n",
       "\n",
       "    .dataframe tbody tr th {\n",
       "        vertical-align: top;\n",
       "    }\n",
       "\n",
       "    .dataframe thead th {\n",
       "        text-align: right;\n",
       "    }\n",
       "</style>\n",
       "<table border=\"1\" class=\"dataframe\">\n",
       "  <thead>\n",
       "    <tr style=\"text-align: right;\">\n",
       "      <th></th>\n",
       "      <th>Index</th>\n",
       "      <th>Data</th>\n",
       "      <th>Ora</th>\n",
       "      <th>Professoressa</th>\n",
       "      <th>Livello</th>\n",
       "      <th>Lezione</th>\n",
       "      <th>Giorno della settimana</th>\n",
       "      <th>Mese</th>\n",
       "      <th>Anno</th>\n",
       "      <th>MESE_ANNO</th>\n",
       "    </tr>\n",
       "  </thead>\n",
       "  <tbody>\n",
       "    <tr>\n",
       "      <th>0</th>\n",
       "      <td>1</td>\n",
       "      <td>2023-05-22</td>\n",
       "      <td>8</td>\n",
       "      <td>Virginia</td>\n",
       "      <td>B1</td>\n",
       "      <td>B132</td>\n",
       "      <td>Lunedì</td>\n",
       "      <td>Maggio</td>\n",
       "      <td>2023</td>\n",
       "      <td>Maggio_2023</td>\n",
       "    </tr>\n",
       "    <tr>\n",
       "      <th>1</th>\n",
       "      <td>2</td>\n",
       "      <td>2023-05-22</td>\n",
       "      <td>11</td>\n",
       "      <td>Graziana</td>\n",
       "      <td>B1</td>\n",
       "      <td>B135</td>\n",
       "      <td>Lunedì</td>\n",
       "      <td>Maggio</td>\n",
       "      <td>2023</td>\n",
       "      <td>Maggio_2023</td>\n",
       "    </tr>\n",
       "    <tr>\n",
       "      <th>2</th>\n",
       "      <td>3</td>\n",
       "      <td>2023-05-23</td>\n",
       "      <td>10</td>\n",
       "      <td>Francesca</td>\n",
       "      <td>C1</td>\n",
       "      <td>C123</td>\n",
       "      <td>Martedì</td>\n",
       "      <td>Maggio</td>\n",
       "      <td>2023</td>\n",
       "      <td>Maggio_2023</td>\n",
       "    </tr>\n",
       "    <tr>\n",
       "      <th>3</th>\n",
       "      <td>4</td>\n",
       "      <td>2023-05-23</td>\n",
       "      <td>11</td>\n",
       "      <td>Sara</td>\n",
       "      <td>B1</td>\n",
       "      <td>B143</td>\n",
       "      <td>Martedì</td>\n",
       "      <td>Maggio</td>\n",
       "      <td>2023</td>\n",
       "      <td>Maggio_2023</td>\n",
       "    </tr>\n",
       "    <tr>\n",
       "      <th>4</th>\n",
       "      <td>5</td>\n",
       "      <td>2023-05-24</td>\n",
       "      <td>10</td>\n",
       "      <td>Alice</td>\n",
       "      <td>B1</td>\n",
       "      <td>B141</td>\n",
       "      <td>Mercoledì</td>\n",
       "      <td>Maggio</td>\n",
       "      <td>2023</td>\n",
       "      <td>Maggio_2023</td>\n",
       "    </tr>\n",
       "  </tbody>\n",
       "</table>\n",
       "</div>"
      ],
      "text/plain": [
       "   Index        Data  Ora Professoressa Livello Lezione  \\\n",
       "0      1  2023-05-22    8      Virginia      B1    B132   \n",
       "1      2  2023-05-22   11      Graziana      B1    B135   \n",
       "2      3  2023-05-23   10     Francesca      C1    C123   \n",
       "3      4  2023-05-23   11          Sara      B1    B143   \n",
       "4      5  2023-05-24   10         Alice      B1    B141   \n",
       "\n",
       "  Giorno della settimana    Mese  Anno    MESE_ANNO  \n",
       "0                 Lunedì  Maggio  2023  Maggio_2023  \n",
       "1                 Lunedì  Maggio  2023  Maggio_2023  \n",
       "2                Martedì  Maggio  2023  Maggio_2023  \n",
       "3                Martedì  Maggio  2023  Maggio_2023  \n",
       "4              Mercoledì  Maggio  2023  Maggio_2023  "
      ]
     },
     "execution_count": 375,
     "metadata": {},
     "output_type": "execute_result"
    }
   ],
   "source": [
    "df.head()"
   ]
  },
  {
   "cell_type": "code",
   "execution_count": 369,
   "metadata": {},
   "outputs": [
    {
     "data": {
      "application/vnd.plotly.v1+json": {
       "config": {
        "plotlyServerURL": "https://plot.ly"
       },
       "data": [
        {
         "mode": "lines+markers",
         "name": "Linea",
         "type": "scatter",
         "x": [
          "Maggio_2023",
          "Giugno_2023",
          "Luglio_2023",
          "Settembre_2023",
          "Ottobre_2023",
          "Novembre_2023",
          "Dicembre_2023",
          "Gennaio_2024",
          "Febbraio_2024",
          "Marzo_2024",
          "Maggio_2024",
          "Giugno_2024",
          "Luglio_2024",
          "Agosto_2024"
         ],
         "y": [
          16,
          32,
          24,
          24,
          30,
          19,
          11,
          14,
          8,
          23,
          15,
          26,
          24,
          15
         ]
        }
       ],
       "layout": {
        "legend": {
         "title": {
          "text": "Livelli"
         }
        },
        "template": {
         "data": {
          "bar": [
           {
            "error_x": {
             "color": "#2a3f5f"
            },
            "error_y": {
             "color": "#2a3f5f"
            },
            "marker": {
             "line": {
              "color": "white",
              "width": 0.5
             },
             "pattern": {
              "fillmode": "overlay",
              "size": 10,
              "solidity": 0.2
             }
            },
            "type": "bar"
           }
          ],
          "barpolar": [
           {
            "marker": {
             "line": {
              "color": "white",
              "width": 0.5
             },
             "pattern": {
              "fillmode": "overlay",
              "size": 10,
              "solidity": 0.2
             }
            },
            "type": "barpolar"
           }
          ],
          "carpet": [
           {
            "aaxis": {
             "endlinecolor": "#2a3f5f",
             "gridcolor": "#C8D4E3",
             "linecolor": "#C8D4E3",
             "minorgridcolor": "#C8D4E3",
             "startlinecolor": "#2a3f5f"
            },
            "baxis": {
             "endlinecolor": "#2a3f5f",
             "gridcolor": "#C8D4E3",
             "linecolor": "#C8D4E3",
             "minorgridcolor": "#C8D4E3",
             "startlinecolor": "#2a3f5f"
            },
            "type": "carpet"
           }
          ],
          "choropleth": [
           {
            "colorbar": {
             "outlinewidth": 0,
             "ticks": ""
            },
            "type": "choropleth"
           }
          ],
          "contour": [
           {
            "colorbar": {
             "outlinewidth": 0,
             "ticks": ""
            },
            "colorscale": [
             [
              0,
              "#0d0887"
             ],
             [
              0.1111111111111111,
              "#46039f"
             ],
             [
              0.2222222222222222,
              "#7201a8"
             ],
             [
              0.3333333333333333,
              "#9c179e"
             ],
             [
              0.4444444444444444,
              "#bd3786"
             ],
             [
              0.5555555555555556,
              "#d8576b"
             ],
             [
              0.6666666666666666,
              "#ed7953"
             ],
             [
              0.7777777777777778,
              "#fb9f3a"
             ],
             [
              0.8888888888888888,
              "#fdca26"
             ],
             [
              1,
              "#f0f921"
             ]
            ],
            "type": "contour"
           }
          ],
          "contourcarpet": [
           {
            "colorbar": {
             "outlinewidth": 0,
             "ticks": ""
            },
            "type": "contourcarpet"
           }
          ],
          "heatmap": [
           {
            "colorbar": {
             "outlinewidth": 0,
             "ticks": ""
            },
            "colorscale": [
             [
              0,
              "#0d0887"
             ],
             [
              0.1111111111111111,
              "#46039f"
             ],
             [
              0.2222222222222222,
              "#7201a8"
             ],
             [
              0.3333333333333333,
              "#9c179e"
             ],
             [
              0.4444444444444444,
              "#bd3786"
             ],
             [
              0.5555555555555556,
              "#d8576b"
             ],
             [
              0.6666666666666666,
              "#ed7953"
             ],
             [
              0.7777777777777778,
              "#fb9f3a"
             ],
             [
              0.8888888888888888,
              "#fdca26"
             ],
             [
              1,
              "#f0f921"
             ]
            ],
            "type": "heatmap"
           }
          ],
          "heatmapgl": [
           {
            "colorbar": {
             "outlinewidth": 0,
             "ticks": ""
            },
            "colorscale": [
             [
              0,
              "#0d0887"
             ],
             [
              0.1111111111111111,
              "#46039f"
             ],
             [
              0.2222222222222222,
              "#7201a8"
             ],
             [
              0.3333333333333333,
              "#9c179e"
             ],
             [
              0.4444444444444444,
              "#bd3786"
             ],
             [
              0.5555555555555556,
              "#d8576b"
             ],
             [
              0.6666666666666666,
              "#ed7953"
             ],
             [
              0.7777777777777778,
              "#fb9f3a"
             ],
             [
              0.8888888888888888,
              "#fdca26"
             ],
             [
              1,
              "#f0f921"
             ]
            ],
            "type": "heatmapgl"
           }
          ],
          "histogram": [
           {
            "marker": {
             "pattern": {
              "fillmode": "overlay",
              "size": 10,
              "solidity": 0.2
             }
            },
            "type": "histogram"
           }
          ],
          "histogram2d": [
           {
            "colorbar": {
             "outlinewidth": 0,
             "ticks": ""
            },
            "colorscale": [
             [
              0,
              "#0d0887"
             ],
             [
              0.1111111111111111,
              "#46039f"
             ],
             [
              0.2222222222222222,
              "#7201a8"
             ],
             [
              0.3333333333333333,
              "#9c179e"
             ],
             [
              0.4444444444444444,
              "#bd3786"
             ],
             [
              0.5555555555555556,
              "#d8576b"
             ],
             [
              0.6666666666666666,
              "#ed7953"
             ],
             [
              0.7777777777777778,
              "#fb9f3a"
             ],
             [
              0.8888888888888888,
              "#fdca26"
             ],
             [
              1,
              "#f0f921"
             ]
            ],
            "type": "histogram2d"
           }
          ],
          "histogram2dcontour": [
           {
            "colorbar": {
             "outlinewidth": 0,
             "ticks": ""
            },
            "colorscale": [
             [
              0,
              "#0d0887"
             ],
             [
              0.1111111111111111,
              "#46039f"
             ],
             [
              0.2222222222222222,
              "#7201a8"
             ],
             [
              0.3333333333333333,
              "#9c179e"
             ],
             [
              0.4444444444444444,
              "#bd3786"
             ],
             [
              0.5555555555555556,
              "#d8576b"
             ],
             [
              0.6666666666666666,
              "#ed7953"
             ],
             [
              0.7777777777777778,
              "#fb9f3a"
             ],
             [
              0.8888888888888888,
              "#fdca26"
             ],
             [
              1,
              "#f0f921"
             ]
            ],
            "type": "histogram2dcontour"
           }
          ],
          "mesh3d": [
           {
            "colorbar": {
             "outlinewidth": 0,
             "ticks": ""
            },
            "type": "mesh3d"
           }
          ],
          "parcoords": [
           {
            "line": {
             "colorbar": {
              "outlinewidth": 0,
              "ticks": ""
             }
            },
            "type": "parcoords"
           }
          ],
          "pie": [
           {
            "automargin": true,
            "type": "pie"
           }
          ],
          "scatter": [
           {
            "fillpattern": {
             "fillmode": "overlay",
             "size": 10,
             "solidity": 0.2
            },
            "type": "scatter"
           }
          ],
          "scatter3d": [
           {
            "line": {
             "colorbar": {
              "outlinewidth": 0,
              "ticks": ""
             }
            },
            "marker": {
             "colorbar": {
              "outlinewidth": 0,
              "ticks": ""
             }
            },
            "type": "scatter3d"
           }
          ],
          "scattercarpet": [
           {
            "marker": {
             "colorbar": {
              "outlinewidth": 0,
              "ticks": ""
             }
            },
            "type": "scattercarpet"
           }
          ],
          "scattergeo": [
           {
            "marker": {
             "colorbar": {
              "outlinewidth": 0,
              "ticks": ""
             }
            },
            "type": "scattergeo"
           }
          ],
          "scattergl": [
           {
            "marker": {
             "colorbar": {
              "outlinewidth": 0,
              "ticks": ""
             }
            },
            "type": "scattergl"
           }
          ],
          "scattermapbox": [
           {
            "marker": {
             "colorbar": {
              "outlinewidth": 0,
              "ticks": ""
             }
            },
            "type": "scattermapbox"
           }
          ],
          "scatterpolar": [
           {
            "marker": {
             "colorbar": {
              "outlinewidth": 0,
              "ticks": ""
             }
            },
            "type": "scatterpolar"
           }
          ],
          "scatterpolargl": [
           {
            "marker": {
             "colorbar": {
              "outlinewidth": 0,
              "ticks": ""
             }
            },
            "type": "scatterpolargl"
           }
          ],
          "scatterternary": [
           {
            "marker": {
             "colorbar": {
              "outlinewidth": 0,
              "ticks": ""
             }
            },
            "type": "scatterternary"
           }
          ],
          "surface": [
           {
            "colorbar": {
             "outlinewidth": 0,
             "ticks": ""
            },
            "colorscale": [
             [
              0,
              "#0d0887"
             ],
             [
              0.1111111111111111,
              "#46039f"
             ],
             [
              0.2222222222222222,
              "#7201a8"
             ],
             [
              0.3333333333333333,
              "#9c179e"
             ],
             [
              0.4444444444444444,
              "#bd3786"
             ],
             [
              0.5555555555555556,
              "#d8576b"
             ],
             [
              0.6666666666666666,
              "#ed7953"
             ],
             [
              0.7777777777777778,
              "#fb9f3a"
             ],
             [
              0.8888888888888888,
              "#fdca26"
             ],
             [
              1,
              "#f0f921"
             ]
            ],
            "type": "surface"
           }
          ],
          "table": [
           {
            "cells": {
             "fill": {
              "color": "#EBF0F8"
             },
             "line": {
              "color": "white"
             }
            },
            "header": {
             "fill": {
              "color": "#C8D4E3"
             },
             "line": {
              "color": "white"
             }
            },
            "type": "table"
           }
          ]
         },
         "layout": {
          "annotationdefaults": {
           "arrowcolor": "#2a3f5f",
           "arrowhead": 0,
           "arrowwidth": 1
          },
          "autotypenumbers": "strict",
          "coloraxis": {
           "colorbar": {
            "outlinewidth": 0,
            "ticks": ""
           }
          },
          "colorscale": {
           "diverging": [
            [
             0,
             "#8e0152"
            ],
            [
             0.1,
             "#c51b7d"
            ],
            [
             0.2,
             "#de77ae"
            ],
            [
             0.3,
             "#f1b6da"
            ],
            [
             0.4,
             "#fde0ef"
            ],
            [
             0.5,
             "#f7f7f7"
            ],
            [
             0.6,
             "#e6f5d0"
            ],
            [
             0.7,
             "#b8e186"
            ],
            [
             0.8,
             "#7fbc41"
            ],
            [
             0.9,
             "#4d9221"
            ],
            [
             1,
             "#276419"
            ]
           ],
           "sequential": [
            [
             0,
             "#0d0887"
            ],
            [
             0.1111111111111111,
             "#46039f"
            ],
            [
             0.2222222222222222,
             "#7201a8"
            ],
            [
             0.3333333333333333,
             "#9c179e"
            ],
            [
             0.4444444444444444,
             "#bd3786"
            ],
            [
             0.5555555555555556,
             "#d8576b"
            ],
            [
             0.6666666666666666,
             "#ed7953"
            ],
            [
             0.7777777777777778,
             "#fb9f3a"
            ],
            [
             0.8888888888888888,
             "#fdca26"
            ],
            [
             1,
             "#f0f921"
            ]
           ],
           "sequentialminus": [
            [
             0,
             "#0d0887"
            ],
            [
             0.1111111111111111,
             "#46039f"
            ],
            [
             0.2222222222222222,
             "#7201a8"
            ],
            [
             0.3333333333333333,
             "#9c179e"
            ],
            [
             0.4444444444444444,
             "#bd3786"
            ],
            [
             0.5555555555555556,
             "#d8576b"
            ],
            [
             0.6666666666666666,
             "#ed7953"
            ],
            [
             0.7777777777777778,
             "#fb9f3a"
            ],
            [
             0.8888888888888888,
             "#fdca26"
            ],
            [
             1,
             "#f0f921"
            ]
           ]
          },
          "colorway": [
           "#636efa",
           "#EF553B",
           "#00cc96",
           "#ab63fa",
           "#FFA15A",
           "#19d3f3",
           "#FF6692",
           "#B6E880",
           "#FF97FF",
           "#FECB52"
          ],
          "font": {
           "color": "#2a3f5f"
          },
          "geo": {
           "bgcolor": "white",
           "lakecolor": "white",
           "landcolor": "white",
           "showlakes": true,
           "showland": true,
           "subunitcolor": "#C8D4E3"
          },
          "hoverlabel": {
           "align": "left"
          },
          "hovermode": "closest",
          "mapbox": {
           "style": "light"
          },
          "paper_bgcolor": "white",
          "plot_bgcolor": "white",
          "polar": {
           "angularaxis": {
            "gridcolor": "#EBF0F8",
            "linecolor": "#EBF0F8",
            "ticks": ""
           },
           "bgcolor": "white",
           "radialaxis": {
            "gridcolor": "#EBF0F8",
            "linecolor": "#EBF0F8",
            "ticks": ""
           }
          },
          "scene": {
           "xaxis": {
            "backgroundcolor": "white",
            "gridcolor": "#DFE8F3",
            "gridwidth": 2,
            "linecolor": "#EBF0F8",
            "showbackground": true,
            "ticks": "",
            "zerolinecolor": "#EBF0F8"
           },
           "yaxis": {
            "backgroundcolor": "white",
            "gridcolor": "#DFE8F3",
            "gridwidth": 2,
            "linecolor": "#EBF0F8",
            "showbackground": true,
            "ticks": "",
            "zerolinecolor": "#EBF0F8"
           },
           "zaxis": {
            "backgroundcolor": "white",
            "gridcolor": "#DFE8F3",
            "gridwidth": 2,
            "linecolor": "#EBF0F8",
            "showbackground": true,
            "ticks": "",
            "zerolinecolor": "#EBF0F8"
           }
          },
          "shapedefaults": {
           "line": {
            "color": "#2a3f5f"
           }
          },
          "ternary": {
           "aaxis": {
            "gridcolor": "#DFE8F3",
            "linecolor": "#A2B1C6",
            "ticks": ""
           },
           "baxis": {
            "gridcolor": "#DFE8F3",
            "linecolor": "#A2B1C6",
            "ticks": ""
           },
           "bgcolor": "white",
           "caxis": {
            "gridcolor": "#DFE8F3",
            "linecolor": "#A2B1C6",
            "ticks": ""
           }
          },
          "title": {
           "x": 0.05
          },
          "xaxis": {
           "automargin": true,
           "gridcolor": "#EBF0F8",
           "linecolor": "#EBF0F8",
           "ticks": "",
           "title": {
            "standoff": 15
           },
           "zerolinecolor": "#EBF0F8",
           "zerolinewidth": 2
          },
          "yaxis": {
           "automargin": true,
           "gridcolor": "#EBF0F8",
           "linecolor": "#EBF0F8",
           "ticks": "",
           "title": {
            "standoff": 15
           },
           "zerolinecolor": "#EBF0F8",
           "zerolinewidth": 2
          }
         }
        },
        "title": {
         "text": "Quantità di Livelli per MESE_ANNO"
        },
        "xaxis": {
         "title": {
          "text": "MESE_ANNO"
         }
        },
        "yaxis": {
         "title": {
          "text": "Quantità"
         }
        }
       }
      }
     },
     "metadata": {},
     "output_type": "display_data"
    }
   ],
   "source": [
    "# Crea il grafico a linee\n",
    "fig = go.Figure()\n",
    "\n",
    "fig.add_trace(go.Scatter(x=list(dizionario_ordinato.keys()), y=list(dizionario_ordinato.values()), mode='lines+markers', name='Linea'))\n",
    "\n",
    "# Aggiungi titolo e etichette agli assi\n",
    "fig.update_layout(\n",
    "    title='Quantità di Livelli per MESE_ANNO',\n",
    "    xaxis_title='MESE_ANNO',\n",
    "    yaxis_title='Quantità',\n",
    "    legend_title='Livelli',\n",
    "    template='plotly_white'\n",
    ")\n",
    "\n",
    "# Mostra il grafico\n",
    "fig.show()"
   ]
  },
  {
   "cell_type": "code",
   "execution_count": 370,
   "metadata": {},
   "outputs": [],
   "source": [
    "#df.groupby(['MESE_ANNO', 'Livello']).size().unstack().fillna(0).reset_index()"
   ]
  },
  {
   "cell_type": "code",
   "execution_count": 371,
   "metadata": {},
   "outputs": [
    {
     "data": {
      "text/plain": [
       "\"#df = df.groupby(['MESE_ANNO', 'Livello']).size().unstack().fillna(0).reset_index()\\n\\n# Creazione del grafico\\nfig = go.Figure()\\n\\nfor column in df.columns[1:]:  # Ignora la colonna 'MESE_ANNO'\\n    fig.add_trace(go.Scatter(x=df['MESE_ANNO'], y=df[column], mode='lines+markers', name=column))\\n\\n# Impostazioni del layout\\nfig.update_layout(title='Quantità di Livelli per MESE_ANNO',\\n                  xaxis_title='MESE_ANNO',\\n                  yaxis_title='Quantità',\\n                  legend_title='Livelli',\\n                  template='plotly_white')\\n\\n# Mostra il grafico\\nfig.show()\""
      ]
     },
     "execution_count": 371,
     "metadata": {},
     "output_type": "execute_result"
    }
   ],
   "source": [
    "\"\"\"#df = df.groupby(['MESE_ANNO', 'Livello']).size().unstack().fillna(0).reset_index()\n",
    "\n",
    "# Creazione del grafico\n",
    "fig = go.Figure()\n",
    "\n",
    "for column in df.columns[1:]:  # Ignora la colonna 'MESE_ANNO'\n",
    "    fig.add_trace(go.Scatter(x=df['MESE_ANNO'], y=df[column], mode='lines+markers', name=column))\n",
    "\n",
    "# Impostazioni del layout\n",
    "fig.update_layout(title='Quantità di Livelli per MESE_ANNO',\n",
    "                  xaxis_title='MESE_ANNO',\n",
    "                  yaxis_title='Quantità',\n",
    "                  legend_title='Livelli',\n",
    "                  template='plotly_white')\n",
    "\n",
    "# Mostra il grafico\n",
    "fig.show()\"\"\""
   ]
  },
  {
   "cell_type": "code",
   "execution_count": 372,
   "metadata": {},
   "outputs": [
    {
     "data": {
      "text/plain": [
       "'def line_graphic(list_dic, eixo_X, eixo_y, colors, names_line):\\n    fig = go.Figure()\\n\\n    for dic, color, name_line in zip(list_dic, colors, names_line):\\n        fig.add_trace(go.Scatter(x=list(dic.keys()), y=list(dic.values()), mode=\\'lines\\', name=name_line, line=dict(color=color)))\\n        fig.update_layout(plot_bgcolor=\"white\", xaxis_title=eixo_y, yaxis_title=eixo_X)\\n\\n    fig.show() # lightgrey turquoise # deepskyblue violet lightseagreen lightpink'"
      ]
     },
     "execution_count": 372,
     "metadata": {},
     "output_type": "execute_result"
    }
   ],
   "source": [
    "\"\"\"def line_graphic(list_dic, eixo_X, eixo_y, colors, names_line):\n",
    "    fig = go.Figure()\n",
    "\n",
    "    for dic, color, name_line in zip(list_dic, colors, names_line):\n",
    "        fig.add_trace(go.Scatter(x=list(dic.keys()), y=list(dic.values()), mode='lines', name=name_line, line=dict(color=color)))\n",
    "        fig.update_layout(plot_bgcolor=\"white\", xaxis_title=eixo_y, yaxis_title=eixo_X)\n",
    "\n",
    "    fig.show() # lightgrey turquoise # deepskyblue violet lightseagreen lightpink\"\"\""
   ]
  },
  {
   "cell_type": "code",
   "execution_count": 373,
   "metadata": {},
   "outputs": [
    {
     "name": "stdout",
     "output_type": "stream",
     "text": [
      "['Maggio_2023', 'Maggio_2023', 'Maggio_2023', 'Maggio_2023', 'Maggio_2023', 'Maggio_2023', 'Maggio_2023', 'Maggio_2023', 'Maggio_2023', 'Maggio_2023', 'Maggio_2023', 'Maggio_2023', 'Maggio_2023', 'Maggio_2023', 'Maggio_2023', 'Maggio_2023', 'Giugno_2023', 'Giugno_2023', 'Giugno_2023', 'Giugno_2023', 'Giugno_2023', 'Giugno_2023', 'Giugno_2023', 'Giugno_2023', 'Giugno_2023', 'Giugno_2023', 'Giugno_2023', 'Giugno_2023', 'Giugno_2023', 'Giugno_2023', 'Giugno_2023', 'Giugno_2023', 'Giugno_2023', 'Giugno_2023', 'Giugno_2023', 'Giugno_2023', 'Giugno_2023', 'Giugno_2023', 'Giugno_2023', 'Giugno_2023', 'Giugno_2023', 'Giugno_2023', 'Giugno_2023', 'Giugno_2023', 'Giugno_2023', 'Giugno_2023', 'Giugno_2023', 'Giugno_2023', 'Luglio_2023', 'Luglio_2023', 'Luglio_2023', 'Luglio_2023', 'Luglio_2023', 'Luglio_2023', 'Luglio_2023', 'Luglio_2023', 'Luglio_2023', 'Luglio_2023', 'Luglio_2023', 'Luglio_2023', 'Luglio_2023', 'Luglio_2023', 'Luglio_2023', 'Luglio_2023', 'Luglio_2023', 'Luglio_2023', 'Luglio_2023', 'Luglio_2023', 'Luglio_2023', 'Luglio_2023', 'Luglio_2023', 'Luglio_2023', 'Agosto_2023', 'Agosto_2023', 'Agosto_2023', 'Agosto_2023', 'Agosto_2023', 'Agosto_2023', 'Agosto_2023', 'Agosto_2023', 'Agosto_2023', 'Agosto_2023', 'Agosto_2023', 'Agosto_2023', 'Agosto_2023', 'Agosto_2023', 'Agosto_2023', 'Agosto_2023', 'Agosto_2023', 'Agosto_2023', 'Agosto_2023', 'Agosto_2023', 'Agosto_2023', 'Agosto_2023', 'Agosto_2023', 'Agosto_2023', 'Agosto_2023', 'Agosto_2023', 'Agosto_2023', 'Agosto_2023', 'Agosto_2023', 'Agosto_2023', 'Agosto_2023', 'Agosto_2023', 'Agosto_2023', 'Settembre_2023', 'Settembre_2023', 'Settembre_2023', 'Settembre_2023', 'Settembre_2023', 'Settembre_2023', 'Settembre_2023', 'Settembre_2023', 'Settembre_2023', 'Settembre_2023', 'Settembre_2023', 'Settembre_2023', 'Settembre_2023', 'Settembre_2023', 'Settembre_2023', 'Settembre_2023', 'Settembre_2023', 'Settembre_2023', 'Settembre_2023', 'Settembre_2023', 'Settembre_2023', 'Settembre_2023', 'Settembre_2023', 'Settembre_2023', 'Ottobre_2023', 'Ottobre_2023', 'Ottobre_2023', 'Ottobre_2023', 'Ottobre_2023', 'Ottobre_2023', 'Ottobre_2023', 'Ottobre_2023', 'Ottobre_2023', 'Ottobre_2023', 'Ottobre_2023', 'Ottobre_2023', 'Ottobre_2023', 'Ottobre_2023', 'Ottobre_2023', 'Ottobre_2023', 'Ottobre_2023', 'Ottobre_2023', 'Ottobre_2023', 'Ottobre_2023', 'Ottobre_2023', 'Ottobre_2023', 'Ottobre_2023', 'Ottobre_2023', 'Ottobre_2023', 'Ottobre_2023', 'Ottobre_2023', 'Ottobre_2023', 'Ottobre_2023', 'Ottobre_2023', 'Novembre_2023', 'Novembre_2023', 'Novembre_2023', 'Novembre_2023', 'Novembre_2023', 'Novembre_2023', 'Novembre_2023', 'Novembre_2023', 'Novembre_2023', 'Novembre_2023', 'Novembre_2023', 'Novembre_2023', 'Novembre_2023', 'Novembre_2023', 'Novembre_2023', 'Novembre_2023', 'Novembre_2023', 'Novembre_2023', 'Novembre_2023', 'Dicembre_2023', 'Dicembre_2023', 'Dicembre_2023', 'Dicembre_2023', 'Dicembre_2023', 'Dicembre_2023', 'Dicembre_2023', 'Dicembre_2023', 'Dicembre_2023', 'Dicembre_2023', 'Dicembre_2023', 'Gennaio_2024', 'Gennaio_2024', 'Gennaio_2024', 'Gennaio_2024', 'Gennaio_2024', 'Gennaio_2024', 'Gennaio_2024', 'Gennaio_2024', 'Gennaio_2024', 'Gennaio_2024', 'Gennaio_2024', 'Gennaio_2024', 'Gennaio_2024', 'Gennaio_2024', 'Febbraio_2024', 'Febbraio_2024', 'Febbraio_2024', 'Febbraio_2024', 'Febbraio_2024', 'Febbraio_2024', 'Febbraio_2024', 'Febbraio_2024', 'Marzo_2024', 'Marzo_2024', 'Marzo_2024', 'Marzo_2024', 'Marzo_2024', 'Marzo_2024', 'Marzo_2024', 'Marzo_2024', 'Marzo_2024', 'Marzo_2024', 'Marzo_2024', 'Marzo_2024', 'Marzo_2024', 'Marzo_2024', 'Marzo_2024', 'Marzo_2024', 'Marzo_2024', 'Marzo_2024', 'Marzo_2024', 'Marzo_2024', 'Marzo_2024', 'Marzo_2024', 'Marzo_2024', 'Abrile_2024', 'Abrile_2024', 'Abrile_2024', 'Abrile_2024', 'Abrile_2024', 'Abrile_2024', 'Abrile_2024', 'Abrile_2024', 'Abrile_2024', 'Abrile_2024', 'Abrile_2024', 'Abrile_2024', 'Abrile_2024', 'Abrile_2024', 'Abrile_2024', 'Abrile_2024', 'Abrile_2024', 'Abrile_2024', 'Abrile_2024', 'Maggio_2024', 'Maggio_2024', 'Maggio_2024', 'Maggio_2024', 'Maggio_2024', 'Maggio_2024', 'Maggio_2024', 'Maggio_2024', 'Maggio_2024', 'Maggio_2024', 'Maggio_2024', 'Maggio_2024', 'Maggio_2024', 'Maggio_2024', 'Maggio_2024', 'Giugno_2024', 'Giugno_2024', 'Giugno_2024', 'Giugno_2024', 'Giugno_2024', 'Giugno_2024', 'Giugno_2024', 'Giugno_2024', 'Giugno_2024', 'Giugno_2024', 'Giugno_2024', 'Giugno_2024', 'Giugno_2024', 'Giugno_2024', 'Giugno_2024', 'Giugno_2024', 'Giugno_2024', 'Giugno_2024', 'Giugno_2024', 'Giugno_2024', 'Giugno_2024', 'Giugno_2024', 'Giugno_2024', 'Giugno_2024', 'Giugno_2024', 'Giugno_2024', 'Luglio_2024', 'Luglio_2024', 'Luglio_2024', 'Luglio_2024', 'Luglio_2024', 'Luglio_2024', 'Luglio_2024', 'Luglio_2024', 'Luglio_2024', 'Luglio_2024', 'Luglio_2024', 'Luglio_2024', 'Luglio_2024', 'Luglio_2024', 'Luglio_2024', 'Luglio_2024', 'Luglio_2024', 'Luglio_2024', 'Luglio_2024', 'Luglio_2024', 'Luglio_2024', 'Luglio_2024', 'Luglio_2024', 'Luglio_2024', 'Agosto_2024', 'Agosto_2024', 'Agosto_2024', 'Agosto_2024', 'Agosto_2024', 'Agosto_2024', 'Agosto_2024', 'Agosto_2024', 'Agosto_2024', 'Agosto_2024', 'Agosto_2024', 'Agosto_2024', 'Agosto_2024', 'Agosto_2024', 'Agosto_2024']\n"
     ]
    }
   ],
   "source": [
    "ORDINE = df['MESE_ANNO'].to_list()\n",
    "print(ORDINE)"
   ]
  },
  {
   "cell_type": "code",
   "execution_count": 374,
   "metadata": {},
   "outputs": [
    {
     "data": {
      "application/vnd.plotly.v1+json": {
       "config": {
        "plotlyServerURL": "https://plot.ly"
       },
       "data": [
        {
         "line": {
          "color": "turquoise"
         },
         "mode": "lines",
         "name": "C1",
         "type": "scatter",
         "x": [
          "Maggio_2023",
          "Giugno_2023",
          "Luglio_2023",
          "Agosto_2023",
          "Settembre_2023",
          "Ottobre_2023",
          "Novembre_2023",
          "Dicembre_2023",
          "Gennaio_2024",
          "Febbraio_2024",
          "Marzo_2024",
          "Abrile_2024",
          "Maggio_2024",
          "Giugno_2024",
          "Luglio_2024",
          "Agosto_2024"
         ],
         "y": [
          16,
          32,
          24,
          33,
          24,
          30,
          19,
          11,
          14,
          8,
          23,
          19,
          15,
          26,
          24,
          15
         ]
        }
       ],
       "layout": {
        "plot_bgcolor": "white",
        "template": {
         "data": {
          "bar": [
           {
            "error_x": {
             "color": "#2a3f5f"
            },
            "error_y": {
             "color": "#2a3f5f"
            },
            "marker": {
             "line": {
              "color": "#E5ECF6",
              "width": 0.5
             },
             "pattern": {
              "fillmode": "overlay",
              "size": 10,
              "solidity": 0.2
             }
            },
            "type": "bar"
           }
          ],
          "barpolar": [
           {
            "marker": {
             "line": {
              "color": "#E5ECF6",
              "width": 0.5
             },
             "pattern": {
              "fillmode": "overlay",
              "size": 10,
              "solidity": 0.2
             }
            },
            "type": "barpolar"
           }
          ],
          "carpet": [
           {
            "aaxis": {
             "endlinecolor": "#2a3f5f",
             "gridcolor": "white",
             "linecolor": "white",
             "minorgridcolor": "white",
             "startlinecolor": "#2a3f5f"
            },
            "baxis": {
             "endlinecolor": "#2a3f5f",
             "gridcolor": "white",
             "linecolor": "white",
             "minorgridcolor": "white",
             "startlinecolor": "#2a3f5f"
            },
            "type": "carpet"
           }
          ],
          "choropleth": [
           {
            "colorbar": {
             "outlinewidth": 0,
             "ticks": ""
            },
            "type": "choropleth"
           }
          ],
          "contour": [
           {
            "colorbar": {
             "outlinewidth": 0,
             "ticks": ""
            },
            "colorscale": [
             [
              0,
              "#0d0887"
             ],
             [
              0.1111111111111111,
              "#46039f"
             ],
             [
              0.2222222222222222,
              "#7201a8"
             ],
             [
              0.3333333333333333,
              "#9c179e"
             ],
             [
              0.4444444444444444,
              "#bd3786"
             ],
             [
              0.5555555555555556,
              "#d8576b"
             ],
             [
              0.6666666666666666,
              "#ed7953"
             ],
             [
              0.7777777777777778,
              "#fb9f3a"
             ],
             [
              0.8888888888888888,
              "#fdca26"
             ],
             [
              1,
              "#f0f921"
             ]
            ],
            "type": "contour"
           }
          ],
          "contourcarpet": [
           {
            "colorbar": {
             "outlinewidth": 0,
             "ticks": ""
            },
            "type": "contourcarpet"
           }
          ],
          "heatmap": [
           {
            "colorbar": {
             "outlinewidth": 0,
             "ticks": ""
            },
            "colorscale": [
             [
              0,
              "#0d0887"
             ],
             [
              0.1111111111111111,
              "#46039f"
             ],
             [
              0.2222222222222222,
              "#7201a8"
             ],
             [
              0.3333333333333333,
              "#9c179e"
             ],
             [
              0.4444444444444444,
              "#bd3786"
             ],
             [
              0.5555555555555556,
              "#d8576b"
             ],
             [
              0.6666666666666666,
              "#ed7953"
             ],
             [
              0.7777777777777778,
              "#fb9f3a"
             ],
             [
              0.8888888888888888,
              "#fdca26"
             ],
             [
              1,
              "#f0f921"
             ]
            ],
            "type": "heatmap"
           }
          ],
          "heatmapgl": [
           {
            "colorbar": {
             "outlinewidth": 0,
             "ticks": ""
            },
            "colorscale": [
             [
              0,
              "#0d0887"
             ],
             [
              0.1111111111111111,
              "#46039f"
             ],
             [
              0.2222222222222222,
              "#7201a8"
             ],
             [
              0.3333333333333333,
              "#9c179e"
             ],
             [
              0.4444444444444444,
              "#bd3786"
             ],
             [
              0.5555555555555556,
              "#d8576b"
             ],
             [
              0.6666666666666666,
              "#ed7953"
             ],
             [
              0.7777777777777778,
              "#fb9f3a"
             ],
             [
              0.8888888888888888,
              "#fdca26"
             ],
             [
              1,
              "#f0f921"
             ]
            ],
            "type": "heatmapgl"
           }
          ],
          "histogram": [
           {
            "marker": {
             "pattern": {
              "fillmode": "overlay",
              "size": 10,
              "solidity": 0.2
             }
            },
            "type": "histogram"
           }
          ],
          "histogram2d": [
           {
            "colorbar": {
             "outlinewidth": 0,
             "ticks": ""
            },
            "colorscale": [
             [
              0,
              "#0d0887"
             ],
             [
              0.1111111111111111,
              "#46039f"
             ],
             [
              0.2222222222222222,
              "#7201a8"
             ],
             [
              0.3333333333333333,
              "#9c179e"
             ],
             [
              0.4444444444444444,
              "#bd3786"
             ],
             [
              0.5555555555555556,
              "#d8576b"
             ],
             [
              0.6666666666666666,
              "#ed7953"
             ],
             [
              0.7777777777777778,
              "#fb9f3a"
             ],
             [
              0.8888888888888888,
              "#fdca26"
             ],
             [
              1,
              "#f0f921"
             ]
            ],
            "type": "histogram2d"
           }
          ],
          "histogram2dcontour": [
           {
            "colorbar": {
             "outlinewidth": 0,
             "ticks": ""
            },
            "colorscale": [
             [
              0,
              "#0d0887"
             ],
             [
              0.1111111111111111,
              "#46039f"
             ],
             [
              0.2222222222222222,
              "#7201a8"
             ],
             [
              0.3333333333333333,
              "#9c179e"
             ],
             [
              0.4444444444444444,
              "#bd3786"
             ],
             [
              0.5555555555555556,
              "#d8576b"
             ],
             [
              0.6666666666666666,
              "#ed7953"
             ],
             [
              0.7777777777777778,
              "#fb9f3a"
             ],
             [
              0.8888888888888888,
              "#fdca26"
             ],
             [
              1,
              "#f0f921"
             ]
            ],
            "type": "histogram2dcontour"
           }
          ],
          "mesh3d": [
           {
            "colorbar": {
             "outlinewidth": 0,
             "ticks": ""
            },
            "type": "mesh3d"
           }
          ],
          "parcoords": [
           {
            "line": {
             "colorbar": {
              "outlinewidth": 0,
              "ticks": ""
             }
            },
            "type": "parcoords"
           }
          ],
          "pie": [
           {
            "automargin": true,
            "type": "pie"
           }
          ],
          "scatter": [
           {
            "fillpattern": {
             "fillmode": "overlay",
             "size": 10,
             "solidity": 0.2
            },
            "type": "scatter"
           }
          ],
          "scatter3d": [
           {
            "line": {
             "colorbar": {
              "outlinewidth": 0,
              "ticks": ""
             }
            },
            "marker": {
             "colorbar": {
              "outlinewidth": 0,
              "ticks": ""
             }
            },
            "type": "scatter3d"
           }
          ],
          "scattercarpet": [
           {
            "marker": {
             "colorbar": {
              "outlinewidth": 0,
              "ticks": ""
             }
            },
            "type": "scattercarpet"
           }
          ],
          "scattergeo": [
           {
            "marker": {
             "colorbar": {
              "outlinewidth": 0,
              "ticks": ""
             }
            },
            "type": "scattergeo"
           }
          ],
          "scattergl": [
           {
            "marker": {
             "colorbar": {
              "outlinewidth": 0,
              "ticks": ""
             }
            },
            "type": "scattergl"
           }
          ],
          "scattermapbox": [
           {
            "marker": {
             "colorbar": {
              "outlinewidth": 0,
              "ticks": ""
             }
            },
            "type": "scattermapbox"
           }
          ],
          "scatterpolar": [
           {
            "marker": {
             "colorbar": {
              "outlinewidth": 0,
              "ticks": ""
             }
            },
            "type": "scatterpolar"
           }
          ],
          "scatterpolargl": [
           {
            "marker": {
             "colorbar": {
              "outlinewidth": 0,
              "ticks": ""
             }
            },
            "type": "scatterpolargl"
           }
          ],
          "scatterternary": [
           {
            "marker": {
             "colorbar": {
              "outlinewidth": 0,
              "ticks": ""
             }
            },
            "type": "scatterternary"
           }
          ],
          "surface": [
           {
            "colorbar": {
             "outlinewidth": 0,
             "ticks": ""
            },
            "colorscale": [
             [
              0,
              "#0d0887"
             ],
             [
              0.1111111111111111,
              "#46039f"
             ],
             [
              0.2222222222222222,
              "#7201a8"
             ],
             [
              0.3333333333333333,
              "#9c179e"
             ],
             [
              0.4444444444444444,
              "#bd3786"
             ],
             [
              0.5555555555555556,
              "#d8576b"
             ],
             [
              0.6666666666666666,
              "#ed7953"
             ],
             [
              0.7777777777777778,
              "#fb9f3a"
             ],
             [
              0.8888888888888888,
              "#fdca26"
             ],
             [
              1,
              "#f0f921"
             ]
            ],
            "type": "surface"
           }
          ],
          "table": [
           {
            "cells": {
             "fill": {
              "color": "#EBF0F8"
             },
             "line": {
              "color": "white"
             }
            },
            "header": {
             "fill": {
              "color": "#C8D4E3"
             },
             "line": {
              "color": "white"
             }
            },
            "type": "table"
           }
          ]
         },
         "layout": {
          "annotationdefaults": {
           "arrowcolor": "#2a3f5f",
           "arrowhead": 0,
           "arrowwidth": 1
          },
          "autotypenumbers": "strict",
          "coloraxis": {
           "colorbar": {
            "outlinewidth": 0,
            "ticks": ""
           }
          },
          "colorscale": {
           "diverging": [
            [
             0,
             "#8e0152"
            ],
            [
             0.1,
             "#c51b7d"
            ],
            [
             0.2,
             "#de77ae"
            ],
            [
             0.3,
             "#f1b6da"
            ],
            [
             0.4,
             "#fde0ef"
            ],
            [
             0.5,
             "#f7f7f7"
            ],
            [
             0.6,
             "#e6f5d0"
            ],
            [
             0.7,
             "#b8e186"
            ],
            [
             0.8,
             "#7fbc41"
            ],
            [
             0.9,
             "#4d9221"
            ],
            [
             1,
             "#276419"
            ]
           ],
           "sequential": [
            [
             0,
             "#0d0887"
            ],
            [
             0.1111111111111111,
             "#46039f"
            ],
            [
             0.2222222222222222,
             "#7201a8"
            ],
            [
             0.3333333333333333,
             "#9c179e"
            ],
            [
             0.4444444444444444,
             "#bd3786"
            ],
            [
             0.5555555555555556,
             "#d8576b"
            ],
            [
             0.6666666666666666,
             "#ed7953"
            ],
            [
             0.7777777777777778,
             "#fb9f3a"
            ],
            [
             0.8888888888888888,
             "#fdca26"
            ],
            [
             1,
             "#f0f921"
            ]
           ],
           "sequentialminus": [
            [
             0,
             "#0d0887"
            ],
            [
             0.1111111111111111,
             "#46039f"
            ],
            [
             0.2222222222222222,
             "#7201a8"
            ],
            [
             0.3333333333333333,
             "#9c179e"
            ],
            [
             0.4444444444444444,
             "#bd3786"
            ],
            [
             0.5555555555555556,
             "#d8576b"
            ],
            [
             0.6666666666666666,
             "#ed7953"
            ],
            [
             0.7777777777777778,
             "#fb9f3a"
            ],
            [
             0.8888888888888888,
             "#fdca26"
            ],
            [
             1,
             "#f0f921"
            ]
           ]
          },
          "colorway": [
           "#636efa",
           "#EF553B",
           "#00cc96",
           "#ab63fa",
           "#FFA15A",
           "#19d3f3",
           "#FF6692",
           "#B6E880",
           "#FF97FF",
           "#FECB52"
          ],
          "font": {
           "color": "#2a3f5f"
          },
          "geo": {
           "bgcolor": "white",
           "lakecolor": "white",
           "landcolor": "#E5ECF6",
           "showlakes": true,
           "showland": true,
           "subunitcolor": "white"
          },
          "hoverlabel": {
           "align": "left"
          },
          "hovermode": "closest",
          "mapbox": {
           "style": "light"
          },
          "paper_bgcolor": "white",
          "plot_bgcolor": "#E5ECF6",
          "polar": {
           "angularaxis": {
            "gridcolor": "white",
            "linecolor": "white",
            "ticks": ""
           },
           "bgcolor": "#E5ECF6",
           "radialaxis": {
            "gridcolor": "white",
            "linecolor": "white",
            "ticks": ""
           }
          },
          "scene": {
           "xaxis": {
            "backgroundcolor": "#E5ECF6",
            "gridcolor": "white",
            "gridwidth": 2,
            "linecolor": "white",
            "showbackground": true,
            "ticks": "",
            "zerolinecolor": "white"
           },
           "yaxis": {
            "backgroundcolor": "#E5ECF6",
            "gridcolor": "white",
            "gridwidth": 2,
            "linecolor": "white",
            "showbackground": true,
            "ticks": "",
            "zerolinecolor": "white"
           },
           "zaxis": {
            "backgroundcolor": "#E5ECF6",
            "gridcolor": "white",
            "gridwidth": 2,
            "linecolor": "white",
            "showbackground": true,
            "ticks": "",
            "zerolinecolor": "white"
           }
          },
          "shapedefaults": {
           "line": {
            "color": "#2a3f5f"
           }
          },
          "ternary": {
           "aaxis": {
            "gridcolor": "white",
            "linecolor": "white",
            "ticks": ""
           },
           "baxis": {
            "gridcolor": "white",
            "linecolor": "white",
            "ticks": ""
           },
           "bgcolor": "#E5ECF6",
           "caxis": {
            "gridcolor": "white",
            "linecolor": "white",
            "ticks": ""
           }
          },
          "title": {
           "x": 0.05
          },
          "xaxis": {
           "automargin": true,
           "gridcolor": "white",
           "linecolor": "white",
           "ticks": "",
           "title": {
            "standoff": 15
           },
           "zerolinecolor": "white",
           "zerolinewidth": 2
          },
          "yaxis": {
           "automargin": true,
           "gridcolor": "white",
           "linecolor": "white",
           "ticks": "",
           "title": {
            "standoff": 15
           },
           "zerolinecolor": "white",
           "zerolinewidth": 2
          }
         }
        },
        "xaxis": {
         "title": {
          "text": ""
         }
        },
        "yaxis": {
         "title": {
          "text": ""
         }
        }
       }
      }
     },
     "metadata": {},
     "output_type": "display_data"
    }
   ],
   "source": [
    "TOTALE = {chiave: df.groupby('MESE_ANNO')['Data'].count().sort_values(ascending=False).to_dict()[chiave] for chiave in ORDINE}\n",
    "line_graphic([TOTALE], '', '', ['turquoise'], ['C1'])"
   ]
  }
 ],
 "metadata": {
  "kernelspec": {
   "display_name": "base",
   "language": "python",
   "name": "python3"
  },
  "language_info": {
   "codemirror_mode": {
    "name": "ipython",
    "version": 3
   },
   "file_extension": ".py",
   "mimetype": "text/x-python",
   "name": "python",
   "nbconvert_exporter": "python",
   "pygments_lexer": "ipython3",
   "version": "3.11.7"
  }
 },
 "nbformat": 4,
 "nbformat_minor": 2
}

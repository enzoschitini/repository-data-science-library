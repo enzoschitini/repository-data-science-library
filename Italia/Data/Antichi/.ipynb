{
 "cells": [
  {
   "cell_type": "markdown",
   "metadata": {},
   "source": [
    "## Preparazione dei dati per le metriche"
   ]
  },
  {
   "cell_type": "markdown",
   "metadata": {},
   "source": [
    "> Qui dobbiamo prendere i dati grezzi raccolti dalle lezioni che sono state fatte e renderli possibili da leggere. Inoltre abbiamo bisogno di una sistemazione per farlo più volte e adattarlo in base all'anno."
   ]
  },
  {
   "cell_type": "markdown",
   "metadata": {},
   "source": [
    "#### Sistemazione dell'algoritmo"
   ]
  },
  {
   "cell_type": "code",
   "execution_count": 26,
   "metadata": {},
   "outputs": [],
   "source": [
    "import pandas as pd\n",
    "import os\n",
    "ANNO = 2023\n",
    "OPERZIONE = 2\n",
    "NOME = 'Lezioni.csv'\n",
    "#DATI = 'Data\\Da_aggiungere.csv'\n",
    "DATI = 'Data\\Data.csv'"
   ]
  },
  {
   "cell_type": "code",
   "execution_count": 27,
   "metadata": {},
   "outputs": [
    {
     "data": {
      "text/html": [
       "<div>\n",
       "<style scoped>\n",
       "    .dataframe tbody tr th:only-of-type {\n",
       "        vertical-align: middle;\n",
       "    }\n",
       "\n",
       "    .dataframe tbody tr th {\n",
       "        vertical-align: top;\n",
       "    }\n",
       "\n",
       "    .dataframe thead th {\n",
       "        text-align: right;\n",
       "    }\n",
       "</style>\n",
       "<table border=\"1\" class=\"dataframe\">\n",
       "  <thead>\n",
       "    <tr style=\"text-align: right;\">\n",
       "      <th></th>\n",
       "      <th>Ora</th>\n",
       "      <th>Data</th>\n",
       "      <th>Slide</th>\n",
       "      <th>Professoressa</th>\n",
       "    </tr>\n",
       "  </thead>\n",
       "  <tbody>\n",
       "    <tr>\n",
       "      <th>0</th>\n",
       "      <td>8</td>\n",
       "      <td>2205</td>\n",
       "      <td>B132</td>\n",
       "      <td>Virginia</td>\n",
       "    </tr>\n",
       "    <tr>\n",
       "      <th>1</th>\n",
       "      <td>11</td>\n",
       "      <td>2205</td>\n",
       "      <td>B135</td>\n",
       "      <td>Graziana</td>\n",
       "    </tr>\n",
       "    <tr>\n",
       "      <th>2</th>\n",
       "      <td>10</td>\n",
       "      <td>2305</td>\n",
       "      <td>C123</td>\n",
       "      <td>Francesca</td>\n",
       "    </tr>\n",
       "    <tr>\n",
       "      <th>3</th>\n",
       "      <td>11</td>\n",
       "      <td>2305</td>\n",
       "      <td>B143</td>\n",
       "      <td>Sara</td>\n",
       "    </tr>\n",
       "    <tr>\n",
       "      <th>4</th>\n",
       "      <td>10</td>\n",
       "      <td>2405</td>\n",
       "      <td>B141</td>\n",
       "      <td>Alice</td>\n",
       "    </tr>\n",
       "  </tbody>\n",
       "</table>\n",
       "</div>"
      ],
      "text/plain": [
       "   Ora   Data  Slide  Professoressa\n",
       "0    8   2205   B132       Virginia\n",
       "1   11   2205   B135       Graziana\n",
       "2   10   2305   C123      Francesca\n",
       "3   11   2305   B143           Sara\n",
       "4   10   2405   B141          Alice"
      ]
     },
     "execution_count": 27,
     "metadata": {},
     "output_type": "execute_result"
    }
   ],
   "source": [
    "df = pd.read_csv(DATI) #Da_aggiungere\n",
    "df.head()"
   ]
  },
  {
   "cell_type": "markdown",
   "metadata": {},
   "source": [
    "## Riparando le colonne"
   ]
  },
  {
   "cell_type": "markdown",
   "metadata": {},
   "source": [
    "- Lezione"
   ]
  },
  {
   "cell_type": "code",
   "execution_count": 28,
   "metadata": {},
   "outputs": [],
   "source": [
    "def livello(valore):\n",
    "    valore = list(valore)\n",
    "    valore = f' {valore[1]}{valore[2]}'\n",
    "    return valore\n",
    "\n",
    "#livello(' C123')\n",
    "df[' Livello'] = df[' Slide'].apply(livello)"
   ]
  },
  {
   "cell_type": "markdown",
   "metadata": {},
   "source": [
    "### Le date"
   ]
  },
  {
   "cell_type": "markdown",
   "metadata": {},
   "source": [
    "> Qui provere oltre a corregere le date, si proverà ad aggiungere altre colonne per avere una comprensione più nel dettaglio"
   ]
  },
  {
   "cell_type": "code",
   "execution_count": 29,
   "metadata": {},
   "outputs": [],
   "source": [
    "mapping_day = {\"Monday\": \"Lunedì\", \n",
    "           \"Tuesday\": \"Martedì\", \n",
    "           \"Wednesday\": \"Mercoledì\",\n",
    "           \"Thursday\": \"Giovedì\",\n",
    "           \"Friday\": \"Venerdì\",\n",
    "           \"Saturday\": \"Sabato\",\n",
    "           \"Sunday\": \"Domenica\"}\n",
    "\n",
    "mapping_month = {\"January\": \"Gennaio\",\n",
    "                 \"February\": \"Febbraio\",\n",
    "                 \"March\": \"Marzo\",\n",
    "                 \"April\": \"Abrile\",\n",
    "                 \"May\": \"Maggio\", \n",
    "                 \"June\": \"Giugno\", \n",
    "                 \"July\": \"Luglio\",\n",
    "                 \"August\": \"Agosto\",\n",
    "                 \"September\": \"Settembre\",\n",
    "                 \"October\": \"Ottobre\",\n",
    "                 \"November\": \"Novembre\",\n",
    "                 \"December\": \"Dicembre\"}"
   ]
  },
  {
   "cell_type": "markdown",
   "metadata": {},
   "source": [
    "- Date"
   ]
  },
  {
   "cell_type": "code",
   "execution_count": 30,
   "metadata": {},
   "outputs": [],
   "source": [
    "df[' Data'] = df[' Data'].astype(str)\n",
    "df[' Data'] = df[' Data'].str.zfill(4).str.replace(r'^(\\d{2})(\\d{2})$', r'\\1-\\2', regex=True)\n",
    "\n",
    "def agg_anno(valore):\n",
    "    valore = str(valore)\n",
    "    valore = f'{valore}-{ANNO}'\n",
    "    return valore\n",
    "\n",
    "df[' Data'] = df[' Data'].apply(agg_anno)"
   ]
  },
  {
   "cell_type": "code",
   "execution_count": 31,
   "metadata": {},
   "outputs": [
    {
     "data": {
      "text/html": [
       "<div>\n",
       "<style scoped>\n",
       "    .dataframe tbody tr th:only-of-type {\n",
       "        vertical-align: middle;\n",
       "    }\n",
       "\n",
       "    .dataframe tbody tr th {\n",
       "        vertical-align: top;\n",
       "    }\n",
       "\n",
       "    .dataframe thead th {\n",
       "        text-align: right;\n",
       "    }\n",
       "</style>\n",
       "<table border=\"1\" class=\"dataframe\">\n",
       "  <thead>\n",
       "    <tr style=\"text-align: right;\">\n",
       "      <th></th>\n",
       "      <th>Ora</th>\n",
       "      <th>Data</th>\n",
       "      <th>Slide</th>\n",
       "      <th>Professoressa</th>\n",
       "      <th>Livello</th>\n",
       "    </tr>\n",
       "  </thead>\n",
       "  <tbody>\n",
       "    <tr>\n",
       "      <th>0</th>\n",
       "      <td>8</td>\n",
       "      <td>22-05-2023</td>\n",
       "      <td>B132</td>\n",
       "      <td>Virginia</td>\n",
       "      <td>B1</td>\n",
       "    </tr>\n",
       "    <tr>\n",
       "      <th>1</th>\n",
       "      <td>11</td>\n",
       "      <td>22-05-2023</td>\n",
       "      <td>B135</td>\n",
       "      <td>Graziana</td>\n",
       "      <td>B1</td>\n",
       "    </tr>\n",
       "    <tr>\n",
       "      <th>2</th>\n",
       "      <td>10</td>\n",
       "      <td>23-05-2023</td>\n",
       "      <td>C123</td>\n",
       "      <td>Francesca</td>\n",
       "      <td>C1</td>\n",
       "    </tr>\n",
       "    <tr>\n",
       "      <th>3</th>\n",
       "      <td>11</td>\n",
       "      <td>23-05-2023</td>\n",
       "      <td>B143</td>\n",
       "      <td>Sara</td>\n",
       "      <td>B1</td>\n",
       "    </tr>\n",
       "    <tr>\n",
       "      <th>4</th>\n",
       "      <td>10</td>\n",
       "      <td>24-05-2023</td>\n",
       "      <td>B141</td>\n",
       "      <td>Alice</td>\n",
       "      <td>B1</td>\n",
       "    </tr>\n",
       "  </tbody>\n",
       "</table>\n",
       "</div>"
      ],
      "text/plain": [
       "   Ora        Data  Slide  Professoressa  Livello\n",
       "0    8  22-05-2023   B132       Virginia       B1\n",
       "1   11  22-05-2023   B135       Graziana       B1\n",
       "2   10  23-05-2023   C123      Francesca       C1\n",
       "3   11  23-05-2023   B143           Sara       B1\n",
       "4   10  24-05-2023   B141          Alice       B1"
      ]
     },
     "execution_count": 31,
     "metadata": {},
     "output_type": "execute_result"
    }
   ],
   "source": [
    "df.head()"
   ]
  },
  {
   "cell_type": "code",
   "execution_count": 32,
   "metadata": {},
   "outputs": [],
   "source": [
    "df[' Data'] = pd.to_datetime(df[' Data'].astype(str), format='%d-%m-%Y').dt.strftime('%d-%m-%Y')\n",
    "df[' Data'] = pd.to_datetime(df[' Data'].astype(str), format='%d-%m-%Y')"
   ]
  },
  {
   "cell_type": "code",
   "execution_count": 33,
   "metadata": {},
   "outputs": [
    {
     "data": {
      "text/html": [
       "<div>\n",
       "<style scoped>\n",
       "    .dataframe tbody tr th:only-of-type {\n",
       "        vertical-align: middle;\n",
       "    }\n",
       "\n",
       "    .dataframe tbody tr th {\n",
       "        vertical-align: top;\n",
       "    }\n",
       "\n",
       "    .dataframe thead th {\n",
       "        text-align: right;\n",
       "    }\n",
       "</style>\n",
       "<table border=\"1\" class=\"dataframe\">\n",
       "  <thead>\n",
       "    <tr style=\"text-align: right;\">\n",
       "      <th></th>\n",
       "      <th>Ora</th>\n",
       "      <th>Data</th>\n",
       "      <th>Slide</th>\n",
       "      <th>Professoressa</th>\n",
       "      <th>Livello</th>\n",
       "    </tr>\n",
       "  </thead>\n",
       "  <tbody>\n",
       "    <tr>\n",
       "      <th>0</th>\n",
       "      <td>8</td>\n",
       "      <td>2023-05-22</td>\n",
       "      <td>B132</td>\n",
       "      <td>Virginia</td>\n",
       "      <td>B1</td>\n",
       "    </tr>\n",
       "    <tr>\n",
       "      <th>1</th>\n",
       "      <td>11</td>\n",
       "      <td>2023-05-22</td>\n",
       "      <td>B135</td>\n",
       "      <td>Graziana</td>\n",
       "      <td>B1</td>\n",
       "    </tr>\n",
       "    <tr>\n",
       "      <th>2</th>\n",
       "      <td>10</td>\n",
       "      <td>2023-05-23</td>\n",
       "      <td>C123</td>\n",
       "      <td>Francesca</td>\n",
       "      <td>C1</td>\n",
       "    </tr>\n",
       "    <tr>\n",
       "      <th>3</th>\n",
       "      <td>11</td>\n",
       "      <td>2023-05-23</td>\n",
       "      <td>B143</td>\n",
       "      <td>Sara</td>\n",
       "      <td>B1</td>\n",
       "    </tr>\n",
       "    <tr>\n",
       "      <th>4</th>\n",
       "      <td>10</td>\n",
       "      <td>2023-05-24</td>\n",
       "      <td>B141</td>\n",
       "      <td>Alice</td>\n",
       "      <td>B1</td>\n",
       "    </tr>\n",
       "  </tbody>\n",
       "</table>\n",
       "</div>"
      ],
      "text/plain": [
       "   Ora       Data  Slide  Professoressa  Livello\n",
       "0    8 2023-05-22   B132       Virginia       B1\n",
       "1   11 2023-05-22   B135       Graziana       B1\n",
       "2   10 2023-05-23   C123      Francesca       C1\n",
       "3   11 2023-05-23   B143           Sara       B1\n",
       "4   10 2023-05-24   B141          Alice       B1"
      ]
     },
     "execution_count": 33,
     "metadata": {},
     "output_type": "execute_result"
    }
   ],
   "source": [
    "df.head()"
   ]
  },
  {
   "cell_type": "code",
   "execution_count": 34,
   "metadata": {},
   "outputs": [],
   "source": [
    "df[' Giorno della settimana'] = pd.to_datetime(df[' Data']).dt.day_name()\n",
    "df[' Mese'] = pd.to_datetime(df[' Data']).dt.month_name()\n",
    "df[' Anno'] = ANNO\n",
    "\n",
    "df[\" Giorno della settimana\"] = df[\" Giorno della settimana\"].replace(mapping_day)\n",
    "df[\" Mese\"] = df[\" Mese\"].replace(mapping_month)"
   ]
  },
  {
   "cell_type": "code",
   "execution_count": 35,
   "metadata": {},
   "outputs": [
    {
     "data": {
      "text/html": [
       "<div>\n",
       "<style scoped>\n",
       "    .dataframe tbody tr th:only-of-type {\n",
       "        vertical-align: middle;\n",
       "    }\n",
       "\n",
       "    .dataframe tbody tr th {\n",
       "        vertical-align: top;\n",
       "    }\n",
       "\n",
       "    .dataframe thead th {\n",
       "        text-align: right;\n",
       "    }\n",
       "</style>\n",
       "<table border=\"1\" class=\"dataframe\">\n",
       "  <thead>\n",
       "    <tr style=\"text-align: right;\">\n",
       "      <th></th>\n",
       "      <th>Ora</th>\n",
       "      <th>Data</th>\n",
       "      <th>Slide</th>\n",
       "      <th>Professoressa</th>\n",
       "      <th>Livello</th>\n",
       "      <th>Giorno della settimana</th>\n",
       "      <th>Mese</th>\n",
       "      <th>Anno</th>\n",
       "    </tr>\n",
       "  </thead>\n",
       "  <tbody>\n",
       "    <tr>\n",
       "      <th>0</th>\n",
       "      <td>8</td>\n",
       "      <td>2023-05-22</td>\n",
       "      <td>B132</td>\n",
       "      <td>Virginia</td>\n",
       "      <td>B1</td>\n",
       "      <td>Lunedì</td>\n",
       "      <td>Maggio</td>\n",
       "      <td>2023</td>\n",
       "    </tr>\n",
       "    <tr>\n",
       "      <th>1</th>\n",
       "      <td>11</td>\n",
       "      <td>2023-05-22</td>\n",
       "      <td>B135</td>\n",
       "      <td>Graziana</td>\n",
       "      <td>B1</td>\n",
       "      <td>Lunedì</td>\n",
       "      <td>Maggio</td>\n",
       "      <td>2023</td>\n",
       "    </tr>\n",
       "    <tr>\n",
       "      <th>2</th>\n",
       "      <td>10</td>\n",
       "      <td>2023-05-23</td>\n",
       "      <td>C123</td>\n",
       "      <td>Francesca</td>\n",
       "      <td>C1</td>\n",
       "      <td>Martedì</td>\n",
       "      <td>Maggio</td>\n",
       "      <td>2023</td>\n",
       "    </tr>\n",
       "    <tr>\n",
       "      <th>3</th>\n",
       "      <td>11</td>\n",
       "      <td>2023-05-23</td>\n",
       "      <td>B143</td>\n",
       "      <td>Sara</td>\n",
       "      <td>B1</td>\n",
       "      <td>Martedì</td>\n",
       "      <td>Maggio</td>\n",
       "      <td>2023</td>\n",
       "    </tr>\n",
       "    <tr>\n",
       "      <th>4</th>\n",
       "      <td>10</td>\n",
       "      <td>2023-05-24</td>\n",
       "      <td>B141</td>\n",
       "      <td>Alice</td>\n",
       "      <td>B1</td>\n",
       "      <td>Mercoledì</td>\n",
       "      <td>Maggio</td>\n",
       "      <td>2023</td>\n",
       "    </tr>\n",
       "  </tbody>\n",
       "</table>\n",
       "</div>"
      ],
      "text/plain": [
       "   Ora       Data  Slide  Professoressa  Livello  Giorno della settimana  \\\n",
       "0    8 2023-05-22   B132       Virginia       B1                  Lunedì   \n",
       "1   11 2023-05-22   B135       Graziana       B1                  Lunedì   \n",
       "2   10 2023-05-23   C123      Francesca       C1                 Martedì   \n",
       "3   11 2023-05-23   B143           Sara       B1                 Martedì   \n",
       "4   10 2023-05-24   B141          Alice       B1               Mercoledì   \n",
       "\n",
       "     Mese   Anno  \n",
       "0  Maggio   2023  \n",
       "1  Maggio   2023  \n",
       "2  Maggio   2023  \n",
       "3  Maggio   2023  \n",
       "4  Maggio   2023  "
      ]
     },
     "execution_count": 35,
     "metadata": {},
     "output_type": "execute_result"
    }
   ],
   "source": [
    "df.head()"
   ]
  },
  {
   "cell_type": "code",
   "execution_count": 36,
   "metadata": {},
   "outputs": [],
   "source": [
    "df = df.rename(columns={' Slide':'Lezione', ' Data':'Data',\n",
    "                        ' Professoressa':'Professoressa', ' Livello':'Livello',\n",
    "                        ' Giorno della settimana':'Giorno della settimana',\n",
    "                        ' Mese':'Mese', ' Anno':'Anno'})"
   ]
  },
  {
   "cell_type": "code",
   "execution_count": 37,
   "metadata": {},
   "outputs": [],
   "source": [
    "df = df.reindex(columns=['Data', 'Ora', 'Professoressa',\n",
    "                         'Livello', 'Lezione', 'Giorno della settimana',\n",
    "                         'Mese', 'Anno']) # Riordinando le colonne"
   ]
  },
  {
   "cell_type": "code",
   "execution_count": 38,
   "metadata": {},
   "outputs": [
    {
     "data": {
      "text/html": [
       "<div>\n",
       "<style scoped>\n",
       "    .dataframe tbody tr th:only-of-type {\n",
       "        vertical-align: middle;\n",
       "    }\n",
       "\n",
       "    .dataframe tbody tr th {\n",
       "        vertical-align: top;\n",
       "    }\n",
       "\n",
       "    .dataframe thead th {\n",
       "        text-align: right;\n",
       "    }\n",
       "</style>\n",
       "<table border=\"1\" class=\"dataframe\">\n",
       "  <thead>\n",
       "    <tr style=\"text-align: right;\">\n",
       "      <th></th>\n",
       "      <th>Data</th>\n",
       "      <th>Ora</th>\n",
       "      <th>Professoressa</th>\n",
       "      <th>Livello</th>\n",
       "      <th>Lezione</th>\n",
       "      <th>Giorno della settimana</th>\n",
       "      <th>Mese</th>\n",
       "      <th>Anno</th>\n",
       "    </tr>\n",
       "  </thead>\n",
       "  <tbody>\n",
       "    <tr>\n",
       "      <th>0</th>\n",
       "      <td>2023-05-22</td>\n",
       "      <td>8</td>\n",
       "      <td>Virginia</td>\n",
       "      <td>B1</td>\n",
       "      <td>B132</td>\n",
       "      <td>Lunedì</td>\n",
       "      <td>Maggio</td>\n",
       "      <td>2023</td>\n",
       "    </tr>\n",
       "    <tr>\n",
       "      <th>1</th>\n",
       "      <td>2023-05-22</td>\n",
       "      <td>11</td>\n",
       "      <td>Graziana</td>\n",
       "      <td>B1</td>\n",
       "      <td>B135</td>\n",
       "      <td>Lunedì</td>\n",
       "      <td>Maggio</td>\n",
       "      <td>2023</td>\n",
       "    </tr>\n",
       "    <tr>\n",
       "      <th>2</th>\n",
       "      <td>2023-05-23</td>\n",
       "      <td>10</td>\n",
       "      <td>Francesca</td>\n",
       "      <td>C1</td>\n",
       "      <td>C123</td>\n",
       "      <td>Martedì</td>\n",
       "      <td>Maggio</td>\n",
       "      <td>2023</td>\n",
       "    </tr>\n",
       "    <tr>\n",
       "      <th>3</th>\n",
       "      <td>2023-05-23</td>\n",
       "      <td>11</td>\n",
       "      <td>Sara</td>\n",
       "      <td>B1</td>\n",
       "      <td>B143</td>\n",
       "      <td>Martedì</td>\n",
       "      <td>Maggio</td>\n",
       "      <td>2023</td>\n",
       "    </tr>\n",
       "    <tr>\n",
       "      <th>4</th>\n",
       "      <td>2023-05-24</td>\n",
       "      <td>10</td>\n",
       "      <td>Alice</td>\n",
       "      <td>B1</td>\n",
       "      <td>B141</td>\n",
       "      <td>Mercoledì</td>\n",
       "      <td>Maggio</td>\n",
       "      <td>2023</td>\n",
       "    </tr>\n",
       "  </tbody>\n",
       "</table>\n",
       "</div>"
      ],
      "text/plain": [
       "        Data  Ora Professoressa Livello Lezione Giorno della settimana  \\\n",
       "0 2023-05-22    8      Virginia      B1    B132                 Lunedì   \n",
       "1 2023-05-22   11      Graziana      B1    B135                 Lunedì   \n",
       "2 2023-05-23   10     Francesca      C1    C123                Martedì   \n",
       "3 2023-05-23   11          Sara      B1    B143                Martedì   \n",
       "4 2023-05-24   10         Alice      B1    B141              Mercoledì   \n",
       "\n",
       "     Mese  Anno  \n",
       "0  Maggio  2023  \n",
       "1  Maggio  2023  \n",
       "2  Maggio  2023  \n",
       "3  Maggio  2023  \n",
       "4  Maggio  2023  "
      ]
     },
     "execution_count": 38,
     "metadata": {},
     "output_type": "execute_result"
    }
   ],
   "source": [
    "df.head()"
   ]
  },
  {
   "cell_type": "markdown",
   "metadata": {},
   "source": [
    "#### Conclusione"
   ]
  },
  {
   "cell_type": "markdown",
   "metadata": {},
   "source": [
    "Fin qui è già tutto di cui avevamo bisogno. Ma ciò che si vuole fare dopo può cambiare in base all'anno, o se si vuole metterli dentro ai dati principali."
   ]
  },
  {
   "cell_type": "markdown",
   "metadata": {},
   "source": [
    "#### I dati da unire"
   ]
  },
  {
   "cell_type": "markdown",
   "metadata": {},
   "source": [
    "- Dati di pertenza"
   ]
  },
  {
   "cell_type": "markdown",
   "metadata": {},
   "source": [
    "- Dati nuovi"
   ]
  },
  {
   "cell_type": "code",
   "execution_count": 39,
   "metadata": {},
   "outputs": [
    {
     "data": {
      "text/html": [
       "<div>\n",
       "<style scoped>\n",
       "    .dataframe tbody tr th:only-of-type {\n",
       "        vertical-align: middle;\n",
       "    }\n",
       "\n",
       "    .dataframe tbody tr th {\n",
       "        vertical-align: top;\n",
       "    }\n",
       "\n",
       "    .dataframe thead th {\n",
       "        text-align: right;\n",
       "    }\n",
       "</style>\n",
       "<table border=\"1\" class=\"dataframe\">\n",
       "  <thead>\n",
       "    <tr style=\"text-align: right;\">\n",
       "      <th></th>\n",
       "      <th>Data</th>\n",
       "      <th>Ora</th>\n",
       "      <th>Professoressa</th>\n",
       "      <th>Livello</th>\n",
       "      <th>Lezione</th>\n",
       "      <th>Giorno della settimana</th>\n",
       "      <th>Mese</th>\n",
       "      <th>Anno</th>\n",
       "    </tr>\n",
       "  </thead>\n",
       "  <tbody>\n",
       "    <tr>\n",
       "      <th>0</th>\n",
       "      <td>2023-05-22</td>\n",
       "      <td>8</td>\n",
       "      <td>Virginia</td>\n",
       "      <td>B1</td>\n",
       "      <td>B132</td>\n",
       "      <td>Lunedì</td>\n",
       "      <td>Maggio</td>\n",
       "      <td>2023</td>\n",
       "    </tr>\n",
       "    <tr>\n",
       "      <th>1</th>\n",
       "      <td>2023-05-22</td>\n",
       "      <td>11</td>\n",
       "      <td>Graziana</td>\n",
       "      <td>B1</td>\n",
       "      <td>B135</td>\n",
       "      <td>Lunedì</td>\n",
       "      <td>Maggio</td>\n",
       "      <td>2023</td>\n",
       "    </tr>\n",
       "    <tr>\n",
       "      <th>2</th>\n",
       "      <td>2023-05-23</td>\n",
       "      <td>10</td>\n",
       "      <td>Francesca</td>\n",
       "      <td>C1</td>\n",
       "      <td>C123</td>\n",
       "      <td>Martedì</td>\n",
       "      <td>Maggio</td>\n",
       "      <td>2023</td>\n",
       "    </tr>\n",
       "    <tr>\n",
       "      <th>3</th>\n",
       "      <td>2023-05-23</td>\n",
       "      <td>11</td>\n",
       "      <td>Sara</td>\n",
       "      <td>B1</td>\n",
       "      <td>B143</td>\n",
       "      <td>Martedì</td>\n",
       "      <td>Maggio</td>\n",
       "      <td>2023</td>\n",
       "    </tr>\n",
       "    <tr>\n",
       "      <th>4</th>\n",
       "      <td>2023-05-24</td>\n",
       "      <td>10</td>\n",
       "      <td>Alice</td>\n",
       "      <td>B1</td>\n",
       "      <td>B141</td>\n",
       "      <td>Mercoledì</td>\n",
       "      <td>Maggio</td>\n",
       "      <td>2023</td>\n",
       "    </tr>\n",
       "  </tbody>\n",
       "</table>\n",
       "</div>"
      ],
      "text/plain": [
       "        Data  Ora Professoressa Livello Lezione Giorno della settimana  \\\n",
       "0 2023-05-22    8      Virginia      B1    B132                 Lunedì   \n",
       "1 2023-05-22   11      Graziana      B1    B135                 Lunedì   \n",
       "2 2023-05-23   10     Francesca      C1    C123                Martedì   \n",
       "3 2023-05-23   11          Sara      B1    B143                Martedì   \n",
       "4 2023-05-24   10         Alice      B1    B141              Mercoledì   \n",
       "\n",
       "     Mese  Anno  \n",
       "0  Maggio  2023  \n",
       "1  Maggio  2023  \n",
       "2  Maggio  2023  \n",
       "3  Maggio  2023  \n",
       "4  Maggio  2023  "
      ]
     },
     "execution_count": 39,
     "metadata": {},
     "output_type": "execute_result"
    }
   ],
   "source": [
    "df.head()"
   ]
  },
  {
   "cell_type": "code",
   "execution_count": 40,
   "metadata": {},
   "outputs": [],
   "source": [
    "def conclusione(operazione:int, csv:None):\n",
    "    op = operazione\n",
    "    if op == 1:\n",
    "        dataframe = pd.read_csv(csv)\n",
    "        dataframe = dataframe.drop('Unnamed: 0', axis=1)\n",
    "        df['Data'] = df['Data'].astype(str)\n",
    "\n",
    "        df_finale = pd.concat([dataframe, df])\n",
    "        os.remove('Lezioni.csv')\n",
    "        df_finale.to_csv('Lezioni.csv')\n",
    "        return df_finale\n",
    "    elif op == 2:\n",
    "        df.to_csv('Lezioni.csv')"
   ]
  },
  {
   "cell_type": "code",
   "execution_count": 41,
   "metadata": {},
   "outputs": [],
   "source": [
    "conclusione(OPERZIONE, NOME)"
   ]
  },
  {
   "cell_type": "code",
   "execution_count": 42,
   "metadata": {},
   "outputs": [],
   "source": [
    "#df['Data'] = df['Data'].astype(str)"
   ]
  },
  {
   "cell_type": "code",
   "execution_count": 43,
   "metadata": {},
   "outputs": [
    {
     "data": {
      "text/plain": [
       "Data                      datetime64[ns]\n",
       "Ora                                int64\n",
       "Professoressa                     object\n",
       "Livello                           object\n",
       "Lezione                           object\n",
       "Giorno della settimana            object\n",
       "Mese                              object\n",
       "Anno                               int64\n",
       "dtype: object"
      ]
     },
     "execution_count": 43,
     "metadata": {},
     "output_type": "execute_result"
    }
   ],
   "source": [
    "df.dtypes"
   ]
  },
  {
   "cell_type": "code",
   "execution_count": 44,
   "metadata": {},
   "outputs": [],
   "source": [
    "df = pd.read_csv('Lezioni.csv')"
   ]
  },
  {
   "cell_type": "code",
   "execution_count": 45,
   "metadata": {},
   "outputs": [],
   "source": [
    "# Correzione degli spazi\n",
    "\n",
    "def strip(valore):\n",
    "    tipo = str(type(valore))\n",
    "    valore = str(valore)\n",
    "    valore = valore.strip()\n",
    "\n",
    "    if tipo == \"<class 'int'>\":\n",
    "        valore = int(valore)\n",
    "    elif tipo == \"<class 'str'>\":\n",
    "        valore = str(valore)\n",
    "    else:\n",
    "        valore = float(valore)\n",
    "\n",
    "    return valore\n",
    "\n",
    "lista_colonne = df.columns.to_list()\n",
    "\n",
    "for x in lista_colonne:\n",
    "    df[x] = df[x].apply(strip)\n",
    "    df.to_csv('Lezioni.csv')"
   ]
  },
  {
   "cell_type": "markdown",
   "metadata": {},
   "source": [
    "df['Data'] = pd.to_datetime(df['Data'].astype(str), format='%Y-%m-%d')\n",
    "df.to_csv('Lezioni.csv')"
   ]
  },
  {
   "cell_type": "code",
   "execution_count": 46,
   "metadata": {},
   "outputs": [],
   "source": [
    "totale, _ = df.shape\n",
    "totale = totale + 1\n",
    "index = list(map(lambda x: x, range(1, totale)))\n",
    "\n",
    "df = df.assign(Index=index)"
   ]
  },
  {
   "cell_type": "code",
   "execution_count": 47,
   "metadata": {},
   "outputs": [],
   "source": [
    "df = df.reindex(columns=['Index', 'Data', 'Ora', 'Professoressa',\n",
    "                         'Livello', 'Lezione', 'Giorno della settimana',\n",
    "                         'Mese', 'Anno']) # Riordinando le colonne"
   ]
  },
  {
   "cell_type": "code",
   "execution_count": 48,
   "metadata": {},
   "outputs": [],
   "source": [
    "df.to_csv('Lezioni.csv')"
   ]
  },
  {
   "cell_type": "code",
   "execution_count": 49,
   "metadata": {},
   "outputs": [
    {
     "data": {
      "text/plain": [
       "Index                      int64\n",
       "Data                      object\n",
       "Ora                        int64\n",
       "Professoressa             object\n",
       "Livello                   object\n",
       "Lezione                   object\n",
       "Giorno della settimana    object\n",
       "Mese                      object\n",
       "Anno                       int64\n",
       "dtype: object"
      ]
     },
     "execution_count": 49,
     "metadata": {},
     "output_type": "execute_result"
    }
   ],
   "source": [
    "df.dtypes"
   ]
  },
  {
   "cell_type": "code",
   "execution_count": 50,
   "metadata": {},
   "outputs": [
    {
     "data": {
      "text/html": [
       "<div>\n",
       "<style scoped>\n",
       "    .dataframe tbody tr th:only-of-type {\n",
       "        vertical-align: middle;\n",
       "    }\n",
       "\n",
       "    .dataframe tbody tr th {\n",
       "        vertical-align: top;\n",
       "    }\n",
       "\n",
       "    .dataframe thead th {\n",
       "        text-align: right;\n",
       "    }\n",
       "</style>\n",
       "<table border=\"1\" class=\"dataframe\">\n",
       "  <thead>\n",
       "    <tr style=\"text-align: right;\">\n",
       "      <th></th>\n",
       "      <th>Index</th>\n",
       "      <th>Data</th>\n",
       "      <th>Ora</th>\n",
       "      <th>Professoressa</th>\n",
       "      <th>Livello</th>\n",
       "      <th>Lezione</th>\n",
       "      <th>Giorno della settimana</th>\n",
       "      <th>Mese</th>\n",
       "      <th>Anno</th>\n",
       "    </tr>\n",
       "  </thead>\n",
       "  <tbody>\n",
       "    <tr>\n",
       "      <th>0</th>\n",
       "      <td>1</td>\n",
       "      <td>2023-05-22</td>\n",
       "      <td>8</td>\n",
       "      <td>Virginia</td>\n",
       "      <td>B1</td>\n",
       "      <td>B132</td>\n",
       "      <td>Lunedì</td>\n",
       "      <td>Maggio</td>\n",
       "      <td>2023</td>\n",
       "    </tr>\n",
       "    <tr>\n",
       "      <th>1</th>\n",
       "      <td>2</td>\n",
       "      <td>2023-05-22</td>\n",
       "      <td>11</td>\n",
       "      <td>Graziana</td>\n",
       "      <td>B1</td>\n",
       "      <td>B135</td>\n",
       "      <td>Lunedì</td>\n",
       "      <td>Maggio</td>\n",
       "      <td>2023</td>\n",
       "    </tr>\n",
       "    <tr>\n",
       "      <th>2</th>\n",
       "      <td>3</td>\n",
       "      <td>2023-05-23</td>\n",
       "      <td>10</td>\n",
       "      <td>Francesca</td>\n",
       "      <td>C1</td>\n",
       "      <td>C123</td>\n",
       "      <td>Martedì</td>\n",
       "      <td>Maggio</td>\n",
       "      <td>2023</td>\n",
       "    </tr>\n",
       "    <tr>\n",
       "      <th>3</th>\n",
       "      <td>4</td>\n",
       "      <td>2023-05-23</td>\n",
       "      <td>11</td>\n",
       "      <td>Sara</td>\n",
       "      <td>B1</td>\n",
       "      <td>B143</td>\n",
       "      <td>Martedì</td>\n",
       "      <td>Maggio</td>\n",
       "      <td>2023</td>\n",
       "    </tr>\n",
       "    <tr>\n",
       "      <th>4</th>\n",
       "      <td>5</td>\n",
       "      <td>2023-05-24</td>\n",
       "      <td>10</td>\n",
       "      <td>Alice</td>\n",
       "      <td>B1</td>\n",
       "      <td>B141</td>\n",
       "      <td>Mercoledì</td>\n",
       "      <td>Maggio</td>\n",
       "      <td>2023</td>\n",
       "    </tr>\n",
       "  </tbody>\n",
       "</table>\n",
       "</div>"
      ],
      "text/plain": [
       "   Index        Data  Ora Professoressa Livello Lezione  \\\n",
       "0      1  2023-05-22    8      Virginia      B1    B132   \n",
       "1      2  2023-05-22   11      Graziana      B1    B135   \n",
       "2      3  2023-05-23   10     Francesca      C1    C123   \n",
       "3      4  2023-05-23   11          Sara      B1    B143   \n",
       "4      5  2023-05-24   10         Alice      B1    B141   \n",
       "\n",
       "  Giorno della settimana    Mese  Anno  \n",
       "0                 Lunedì  Maggio  2023  \n",
       "1                 Lunedì  Maggio  2023  \n",
       "2                Martedì  Maggio  2023  \n",
       "3                Martedì  Maggio  2023  \n",
       "4              Mercoledì  Maggio  2023  "
      ]
     },
     "execution_count": 50,
     "metadata": {},
     "output_type": "execute_result"
    }
   ],
   "source": [
    "df.head()"
   ]
  }
 ],
 "metadata": {
  "kernelspec": {
   "display_name": "Python 3",
   "language": "python",
   "name": "python3"
  },
  "language_info": {
   "codemirror_mode": {
    "name": "ipython",
    "version": 3
   },
   "file_extension": ".py",
   "mimetype": "text/x-python",
   "name": "python",
   "nbconvert_exporter": "python",
   "pygments_lexer": "ipython3",
   "version": "3.11.5"
  }
 },
 "nbformat": 4,
 "nbformat_minor": 2
}

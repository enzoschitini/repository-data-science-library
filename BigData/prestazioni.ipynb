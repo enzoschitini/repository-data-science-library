{
 "cells": [
  {
   "cell_type": "markdown",
   "metadata": {},
   "source": [
    "# Data Science\n",
    "Qui imparerai a migliorare i dati scaricati\n",
    "\n",
    "<img src=\"https://raw.githubusercontent.com/enzoschitini/Adige/main/image/Group.png\" alt=\"capa\">\n",
    "\n",
    "---\n",
    "\n",
    "# **Bem-Vindo(a)!** • Veja o que eu fiz de melhor com cientista de dados\n",
    "**+ 18** Projetos \n",
    "#### [Enzo Schitini](https://www.linkedin.com/in/enzoschitini/) - Data Scientist • Expert Bubble.io • UX & UI @ Nugus creator\n",
    "\n",
    "---\n"
   ]
  },
  {
   "cell_type": "code",
   "execution_count": 44,
   "metadata": {},
   "outputs": [],
   "source": [
    "import pandas as pd"
   ]
  },
  {
   "cell_type": "code",
   "execution_count": 45,
   "metadata": {},
   "outputs": [
    {
     "data": {
      "text/html": [
       "<div>\n",
       "<style scoped>\n",
       "    .dataframe tbody tr th:only-of-type {\n",
       "        vertical-align: middle;\n",
       "    }\n",
       "\n",
       "    .dataframe tbody tr th {\n",
       "        vertical-align: top;\n",
       "    }\n",
       "\n",
       "    .dataframe thead th {\n",
       "        text-align: right;\n",
       "    }\n",
       "</style>\n",
       "<table border=\"1\" class=\"dataframe\">\n",
       "  <thead>\n",
       "    <tr style=\"text-align: right;\">\n",
       "      <th></th>\n",
       "      <th>SOURCE_ID</th>\n",
       "      <th>HS_CODE</th>\n",
       "      <th>COMMODITY_DESC</th>\n",
       "      <th>GEOGRAPHY_CODE</th>\n",
       "      <th>GEOGRAPHY_DESC</th>\n",
       "      <th>ATTRIBUTE_DESC</th>\n",
       "      <th>UNIT_DESC</th>\n",
       "      <th>YEAR_ID</th>\n",
       "      <th>TIMEPERIOD_ID</th>\n",
       "      <th>AMOUNT</th>\n",
       "    </tr>\n",
       "  </thead>\n",
       "  <tbody>\n",
       "    <tr>\n",
       "      <th>0</th>\n",
       "      <td>58</td>\n",
       "      <td>102902011.0</td>\n",
       "      <td>Cows, live, imported for dairy purposes, weigh...</td>\n",
       "      <td>1220</td>\n",
       "      <td>Canada</td>\n",
       "      <td>US Import, QTY</td>\n",
       "      <td>NO</td>\n",
       "      <td>2001</td>\n",
       "      <td>4</td>\n",
       "      <td>36.0</td>\n",
       "    </tr>\n",
       "    <tr>\n",
       "      <th>1</th>\n",
       "      <td>58</td>\n",
       "      <td>102902011.0</td>\n",
       "      <td>Cows, live, imported for dairy purposes, weigh...</td>\n",
       "      <td>1220</td>\n",
       "      <td>Canada</td>\n",
       "      <td>US Import, QTY</td>\n",
       "      <td>NO</td>\n",
       "      <td>2001</td>\n",
       "      <td>11</td>\n",
       "      <td>20.0</td>\n",
       "    </tr>\n",
       "    <tr>\n",
       "      <th>2</th>\n",
       "      <td>58</td>\n",
       "      <td>102100050.0</td>\n",
       "      <td>Bovine animals, purebred breeding, except dair...</td>\n",
       "      <td>2010</td>\n",
       "      <td>Mexico</td>\n",
       "      <td>US Import, QTY</td>\n",
       "      <td>NO</td>\n",
       "      <td>1996</td>\n",
       "      <td>3</td>\n",
       "      <td>12.0</td>\n",
       "    </tr>\n",
       "    <tr>\n",
       "      <th>3</th>\n",
       "      <td>58</td>\n",
       "      <td>102100050.0</td>\n",
       "      <td>Bovine animals, purebred breeding, except dair...</td>\n",
       "      <td>2010</td>\n",
       "      <td>Mexico</td>\n",
       "      <td>US Import, QTY</td>\n",
       "      <td>NO</td>\n",
       "      <td>2000</td>\n",
       "      <td>5</td>\n",
       "      <td>77.0</td>\n",
       "    </tr>\n",
       "    <tr>\n",
       "      <th>4</th>\n",
       "      <td>58</td>\n",
       "      <td>102100050.0</td>\n",
       "      <td>Bovine animals, purebred breeding, except dair...</td>\n",
       "      <td>2010</td>\n",
       "      <td>Mexico</td>\n",
       "      <td>US Import, QTY</td>\n",
       "      <td>NO</td>\n",
       "      <td>2000</td>\n",
       "      <td>6</td>\n",
       "      <td>99.0</td>\n",
       "    </tr>\n",
       "  </tbody>\n",
       "</table>\n",
       "</div>"
      ],
      "text/plain": [
       "   SOURCE_ID      HS_CODE                                     COMMODITY_DESC  \\\n",
       "0         58  102902011.0  Cows, live, imported for dairy purposes, weigh...   \n",
       "1         58  102902011.0  Cows, live, imported for dairy purposes, weigh...   \n",
       "2         58  102100050.0  Bovine animals, purebred breeding, except dair...   \n",
       "3         58  102100050.0  Bovine animals, purebred breeding, except dair...   \n",
       "4         58  102100050.0  Bovine animals, purebred breeding, except dair...   \n",
       "\n",
       "   GEOGRAPHY_CODE GEOGRAPHY_DESC  ATTRIBUTE_DESC UNIT_DESC  YEAR_ID  \\\n",
       "0            1220         Canada  US Import, QTY        NO     2001   \n",
       "1            1220         Canada  US Import, QTY        NO     2001   \n",
       "2            2010         Mexico  US Import, QTY        NO     1996   \n",
       "3            2010         Mexico  US Import, QTY        NO     2000   \n",
       "4            2010         Mexico  US Import, QTY        NO     2000   \n",
       "\n",
       "   TIMEPERIOD_ID  AMOUNT  \n",
       "0              4    36.0  \n",
       "1             11    20.0  \n",
       "2              3    12.0  \n",
       "3              5    77.0  \n",
       "4              6    99.0  "
      ]
     },
     "execution_count": 45,
     "metadata": {},
     "output_type": "execute_result"
    }
   ],
   "source": [
    "df = pd.read_csv('LivestockMeat_Imports.csv')\n",
    "df.head(n=5)"
   ]
  },
  {
   "cell_type": "markdown",
   "metadata": {},
   "source": [
    "### Memoria"
   ]
  },
  {
   "cell_type": "code",
   "execution_count": 46,
   "metadata": {},
   "outputs": [
    {
     "name": "stdout",
     "output_type": "stream",
     "text": [
      "Teabella Esplorativa\n",
      "In questi dati abbiamo 294551 righe e 10 colonne.\n",
      "Consumassione di memoria: 97.94Mb.\n"
     ]
    },
    {
     "data": {
      "text/html": [
       "<div>\n",
       "<style scoped>\n",
       "    .dataframe tbody tr th:only-of-type {\n",
       "        vertical-align: middle;\n",
       "    }\n",
       "\n",
       "    .dataframe tbody tr th {\n",
       "        vertical-align: top;\n",
       "    }\n",
       "\n",
       "    .dataframe thead th {\n",
       "        text-align: right;\n",
       "    }\n",
       "</style>\n",
       "<table border=\"1\" class=\"dataframe\">\n",
       "  <thead>\n",
       "    <tr style=\"text-align: right;\">\n",
       "      <th></th>\n",
       "      <th>Nome</th>\n",
       "      <th>Tipo</th>\n",
       "      <th>qunt_categorie</th>\n",
       "      <th>Dati nulli</th>\n",
       "      <th>Dati nulli %</th>\n",
       "      <th>Memoria (Mb)</th>\n",
       "    </tr>\n",
       "  </thead>\n",
       "  <tbody>\n",
       "    <tr>\n",
       "      <th>1</th>\n",
       "      <td>SOURCE_ID</td>\n",
       "      <td>numpy.int64</td>\n",
       "      <td>1</td>\n",
       "      <td>0</td>\n",
       "      <td>0.0</td>\n",
       "      <td>2.0</td>\n",
       "    </tr>\n",
       "    <tr>\n",
       "      <th>2</th>\n",
       "      <td>HS_CODE</td>\n",
       "      <td>numpy.float64</td>\n",
       "      <td>209</td>\n",
       "      <td>57386</td>\n",
       "      <td>19.0</td>\n",
       "      <td>2.0</td>\n",
       "    </tr>\n",
       "    <tr>\n",
       "      <th>3</th>\n",
       "      <td>COMMODITY_DESC</td>\n",
       "      <td>str</td>\n",
       "      <td>221</td>\n",
       "      <td>0</td>\n",
       "      <td>0.0</td>\n",
       "      <td>30.0</td>\n",
       "    </tr>\n",
       "    <tr>\n",
       "      <th>4</th>\n",
       "      <td>GEOGRAPHY_CODE</td>\n",
       "      <td>numpy.int64</td>\n",
       "      <td>121</td>\n",
       "      <td>0</td>\n",
       "      <td>0.0</td>\n",
       "      <td>2.0</td>\n",
       "    </tr>\n",
       "    <tr>\n",
       "      <th>5</th>\n",
       "      <td>GEOGRAPHY_DESC</td>\n",
       "      <td>str</td>\n",
       "      <td>121</td>\n",
       "      <td>0</td>\n",
       "      <td>0.0</td>\n",
       "      <td>18.0</td>\n",
       "    </tr>\n",
       "    <tr>\n",
       "      <th>6</th>\n",
       "      <td>ATTRIBUTE_DESC</td>\n",
       "      <td>str</td>\n",
       "      <td>1</td>\n",
       "      <td>0</td>\n",
       "      <td>0.0</td>\n",
       "      <td>20.0</td>\n",
       "    </tr>\n",
       "    <tr>\n",
       "      <th>7</th>\n",
       "      <td>UNIT_DESC</td>\n",
       "      <td>str</td>\n",
       "      <td>4</td>\n",
       "      <td>0</td>\n",
       "      <td>0.0</td>\n",
       "      <td>17.0</td>\n",
       "    </tr>\n",
       "    <tr>\n",
       "      <th>8</th>\n",
       "      <td>YEAR_ID</td>\n",
       "      <td>numpy.int64</td>\n",
       "      <td>35</td>\n",
       "      <td>0</td>\n",
       "      <td>0.0</td>\n",
       "      <td>2.0</td>\n",
       "    </tr>\n",
       "    <tr>\n",
       "      <th>9</th>\n",
       "      <td>TIMEPERIOD_ID</td>\n",
       "      <td>numpy.int64</td>\n",
       "      <td>12</td>\n",
       "      <td>0</td>\n",
       "      <td>0.0</td>\n",
       "      <td>2.0</td>\n",
       "    </tr>\n",
       "    <tr>\n",
       "      <th>10</th>\n",
       "      <td>AMOUNT</td>\n",
       "      <td>numpy.float64</td>\n",
       "      <td>204930</td>\n",
       "      <td>0</td>\n",
       "      <td>0.0</td>\n",
       "      <td>2.0</td>\n",
       "    </tr>\n",
       "  </tbody>\n",
       "</table>\n",
       "</div>"
      ],
      "text/plain": [
       "              Nome           Tipo  qunt_categorie  Dati nulli  Dati nulli %  \\\n",
       "1        SOURCE_ID    numpy.int64               1           0           0.0   \n",
       "2          HS_CODE  numpy.float64             209       57386          19.0   \n",
       "3   COMMODITY_DESC            str             221           0           0.0   \n",
       "4   GEOGRAPHY_CODE    numpy.int64             121           0           0.0   \n",
       "5   GEOGRAPHY_DESC            str             121           0           0.0   \n",
       "6   ATTRIBUTE_DESC            str               1           0           0.0   \n",
       "7        UNIT_DESC            str               4           0           0.0   \n",
       "8          YEAR_ID    numpy.int64              35           0           0.0   \n",
       "9    TIMEPERIOD_ID    numpy.int64              12           0           0.0   \n",
       "10          AMOUNT  numpy.float64          204930           0           0.0   \n",
       "\n",
       "    Memoria (Mb)  \n",
       "1            2.0  \n",
       "2            2.0  \n",
       "3           30.0  \n",
       "4            2.0  \n",
       "5           18.0  \n",
       "6           20.0  \n",
       "7           17.0  \n",
       "8            2.0  \n",
       "9            2.0  \n",
       "10           2.0  "
      ]
     },
     "execution_count": 46,
     "metadata": {},
     "output_type": "execute_result"
    }
   ],
   "source": [
    "def guida(data_frame): \n",
    "    righe, qnt_colonne = data_frame.shape\n",
    "    sequenza = list(range(qnt_colonne + 1))\n",
    "    sequenza = sequenza[1:]\n",
    "\n",
    "    colonne = data_frame.columns.to_list()\n",
    "    types_list = [str(type(data_frame[col][0])).split(\"'\")[1] for col in data_frame.columns]\n",
    "    lista_categorie = [data_frame[col].nunique() for col in data_frame.columns]\n",
    "\n",
    "    elementi_nulli = data_frame.isnull().sum()\n",
    "    elementi_nulli = elementi_nulli.to_list()\n",
    "\n",
    "    memory = (data_frame.memory_usage(deep=True) / (1024 ** 2)).round() # Mb\n",
    "    memory_list = memory.to_list()\n",
    "    memory_list = memory_list[1:]\n",
    "\n",
    "    memory = data_frame.memory_usage(deep=True) # Totale Mb\n",
    "    memory_totale = round(memory.sum() / (1024 ** 2), 2)\n",
    "\n",
    "    percentuale_dati_nulli = round((data_frame.isnull().sum() / righe) * 100)\n",
    "    percentuale_dati_nulli = percentuale_dati_nulli.to_list()\n",
    "\n",
    "    data = pd.DataFrame({'Nome': colonne, \n",
    "                         'Tipo': types_list, \n",
    "                         'qunt_categorie': lista_categorie,\n",
    "                         'Dati nulli' : elementi_nulli,\n",
    "                         'Dati nulli %' : percentuale_dati_nulli,\n",
    "                         'Memoria (Mb)': memory_list}, index=sequenza)\n",
    "    \n",
    "    # Intestazioni\n",
    "    print('Teabella Esplorativa')\n",
    "    print(f'In questi dati abbiamo {righe} righe e {qnt_colonne} colonne.')\n",
    "    print(f'Consumassione di memoria: {memory_totale}Mb.')\n",
    "    \n",
    "    return data\n",
    "\n",
    "guida(df)"
   ]
  },
  {
   "cell_type": "code",
   "execution_count": 47,
   "metadata": {},
   "outputs": [
    {
     "data": {
      "text/plain": [
       "Index              0.000126\n",
       "SOURCE_ID          2.247246\n",
       "HS_CODE            2.247246\n",
       "COMMODITY_DESC    29.873706\n",
       "GEOGRAPHY_CODE     2.247246\n",
       "GEOGRAPHY_DESC    17.925550\n",
       "ATTRIBUTE_DESC    19.944306\n",
       "UNIT_DESC         16.708318\n",
       "YEAR_ID            2.247246\n",
       "TIMEPERIOD_ID      2.247246\n",
       "AMOUNT             2.247246\n",
       "dtype: float64"
      ]
     },
     "execution_count": 47,
     "metadata": {},
     "output_type": "execute_result"
    }
   ],
   "source": [
    "df.memory_usage(deep=True) / (1024 ** 2)"
   ]
  },
  {
   "cell_type": "code",
   "execution_count": 48,
   "metadata": {},
   "outputs": [
    {
     "name": "stdout",
     "output_type": "stream",
     "text": [
      "<class 'pandas.core.frame.DataFrame'>\n",
      "RangeIndex: 294551 entries, 0 to 294550\n",
      "Data columns (total 10 columns):\n",
      " #   Column          Non-Null Count   Dtype  \n",
      "---  ------          --------------   -----  \n",
      " 0   SOURCE_ID       294551 non-null  int64  \n",
      " 1   HS_CODE         237165 non-null  float64\n",
      " 2   COMMODITY_DESC  294551 non-null  object \n",
      " 3   GEOGRAPHY_CODE  294551 non-null  int64  \n",
      " 4   GEOGRAPHY_DESC  294551 non-null  object \n",
      " 5   ATTRIBUTE_DESC  294551 non-null  object \n",
      " 6   UNIT_DESC       294551 non-null  object \n",
      " 7   YEAR_ID         294551 non-null  int64  \n",
      " 8   TIMEPERIOD_ID   294551 non-null  int64  \n",
      " 9   AMOUNT          294551 non-null  float64\n",
      "dtypes: float64(2), int64(4), object(4)\n",
      "memory usage: 22.5+ MB\n"
     ]
    }
   ],
   "source": [
    "df.info()"
   ]
  },
  {
   "cell_type": "code",
   "execution_count": 49,
   "metadata": {},
   "outputs": [
    {
     "data": {
      "text/plain": [
       "[132,\n",
       " 2356408,\n",
       " 2356408,\n",
       " 31324851,\n",
       " 2356408,\n",
       " 18796301,\n",
       " 20913121,\n",
       " 17519941,\n",
       " 2356408,\n",
       " 2356408,\n",
       " 2356408]"
      ]
     },
     "execution_count": 49,
     "metadata": {},
     "output_type": "execute_result"
    }
   ],
   "source": [
    "memory = df.memory_usage(deep=True)\n",
    "memory_list = memory.to_list()\n",
    "memory_list"
   ]
  },
  {
   "cell_type": "code",
   "execution_count": 50,
   "metadata": {},
   "outputs": [
    {
     "data": {
      "text/plain": [
       "97.94"
      ]
     },
     "execution_count": 50,
     "metadata": {},
     "output_type": "execute_result"
    }
   ],
   "source": [
    "memory_totale = round(memory.sum() / (1024 ** 2), 2)\n",
    "memory_totale"
   ]
  },
  {
   "cell_type": "code",
   "execution_count": 51,
   "metadata": {},
   "outputs": [
    {
     "data": {
      "text/plain": [
       "Index              0.000129\n",
       "SOURCE_ID          2.294619\n",
       "HS_CODE            2.294619\n",
       "COMMODITY_DESC    30.503456\n",
       "GEOGRAPHY_CODE     2.294619\n",
       "GEOGRAPHY_DESC    18.303427\n",
       "ATTRIBUTE_DESC    20.364740\n",
       "UNIT_DESC         17.060536\n",
       "YEAR_ID            2.294619\n",
       "TIMEPERIOD_ID      2.294619\n",
       "AMOUNT             2.294619\n",
       "dtype: float64"
      ]
     },
     "execution_count": 51,
     "metadata": {},
     "output_type": "execute_result"
    }
   ],
   "source": [
    "memory / memory.sum() * 100"
   ]
  },
  {
   "cell_type": "code",
   "execution_count": 52,
   "metadata": {},
   "outputs": [
    {
     "data": {
      "text/plain": [
       "UNIT_DESC\n",
       "KG     136678\n",
       "CWE    124041\n",
       "DOZ     17391\n",
       "NO      16441\n",
       "Name: count, dtype: int64"
      ]
     },
     "execution_count": 52,
     "metadata": {},
     "output_type": "execute_result"
    }
   ],
   "source": [
    "df['UNIT_DESC'].value_counts()"
   ]
  },
  {
   "cell_type": "code",
   "execution_count": 53,
   "metadata": {},
   "outputs": [
    {
     "data": {
      "text/plain": [
       "CategoricalDtype(categories=['CWE', 'DOZ', 'KG', 'NO'], ordered=False, categories_dtype=object)"
      ]
     },
     "execution_count": 53,
     "metadata": {},
     "output_type": "execute_result"
    }
   ],
   "source": [
    "df['UNIT_DESC'] = df['UNIT_DESC'].astype('category')\n",
    "df['UNIT_DESC'].dtype"
   ]
  },
  {
   "cell_type": "code",
   "execution_count": 54,
   "metadata": {},
   "outputs": [
    {
     "data": {
      "text/plain": [
       "Index                  132\n",
       "SOURCE_ID          2356408\n",
       "HS_CODE            2356408\n",
       "COMMODITY_DESC    31324851\n",
       "GEOGRAPHY_CODE     2356408\n",
       "GEOGRAPHY_DESC    18796301\n",
       "ATTRIBUTE_DESC    20913121\n",
       "UNIT_DESC           294961\n",
       "YEAR_ID            2356408\n",
       "TIMEPERIOD_ID      2356408\n",
       "AMOUNT             2356408\n",
       "dtype: int64"
      ]
     },
     "execution_count": 54,
     "metadata": {},
     "output_type": "execute_result"
    }
   ],
   "source": [
    "memory = df.memory_usage(deep=True)\n",
    "memory"
   ]
  },
  {
   "cell_type": "code",
   "execution_count": 55,
   "metadata": {},
   "outputs": [
    {
     "data": {
      "text/plain": [
       "81.50845909118652"
      ]
     },
     "execution_count": 55,
     "metadata": {},
     "output_type": "execute_result"
    }
   ],
   "source": [
    "memory.sum() / (1024 ** 2)"
   ]
  },
  {
   "cell_type": "code",
   "execution_count": 56,
   "metadata": {},
   "outputs": [],
   "source": [
    "df.to_parquet('df.parquet')"
   ]
  },
  {
   "cell_type": "code",
   "execution_count": 57,
   "metadata": {},
   "outputs": [
    {
     "data": {
      "text/html": [
       "<div>\n",
       "<style scoped>\n",
       "    .dataframe tbody tr th:only-of-type {\n",
       "        vertical-align: middle;\n",
       "    }\n",
       "\n",
       "    .dataframe tbody tr th {\n",
       "        vertical-align: top;\n",
       "    }\n",
       "\n",
       "    .dataframe thead th {\n",
       "        text-align: right;\n",
       "    }\n",
       "</style>\n",
       "<table border=\"1\" class=\"dataframe\">\n",
       "  <thead>\n",
       "    <tr style=\"text-align: right;\">\n",
       "      <th></th>\n",
       "      <th>SOURCE_ID</th>\n",
       "      <th>HS_CODE</th>\n",
       "      <th>COMMODITY_DESC</th>\n",
       "      <th>GEOGRAPHY_CODE</th>\n",
       "      <th>GEOGRAPHY_DESC</th>\n",
       "      <th>ATTRIBUTE_DESC</th>\n",
       "      <th>UNIT_DESC</th>\n",
       "      <th>YEAR_ID</th>\n",
       "      <th>TIMEPERIOD_ID</th>\n",
       "      <th>AMOUNT</th>\n",
       "    </tr>\n",
       "  </thead>\n",
       "  <tbody>\n",
       "    <tr>\n",
       "      <th>0</th>\n",
       "      <td>58</td>\n",
       "      <td>102902011.0</td>\n",
       "      <td>Cows, live, imported for dairy purposes, weigh...</td>\n",
       "      <td>1220</td>\n",
       "      <td>Canada</td>\n",
       "      <td>US Import, QTY</td>\n",
       "      <td>NO</td>\n",
       "      <td>2001</td>\n",
       "      <td>4</td>\n",
       "      <td>36.0</td>\n",
       "    </tr>\n",
       "    <tr>\n",
       "      <th>1</th>\n",
       "      <td>58</td>\n",
       "      <td>102902011.0</td>\n",
       "      <td>Cows, live, imported for dairy purposes, weigh...</td>\n",
       "      <td>1220</td>\n",
       "      <td>Canada</td>\n",
       "      <td>US Import, QTY</td>\n",
       "      <td>NO</td>\n",
       "      <td>2001</td>\n",
       "      <td>11</td>\n",
       "      <td>20.0</td>\n",
       "    </tr>\n",
       "    <tr>\n",
       "      <th>2</th>\n",
       "      <td>58</td>\n",
       "      <td>102100050.0</td>\n",
       "      <td>Bovine animals, purebred breeding, except dair...</td>\n",
       "      <td>2010</td>\n",
       "      <td>Mexico</td>\n",
       "      <td>US Import, QTY</td>\n",
       "      <td>NO</td>\n",
       "      <td>1996</td>\n",
       "      <td>3</td>\n",
       "      <td>12.0</td>\n",
       "    </tr>\n",
       "    <tr>\n",
       "      <th>3</th>\n",
       "      <td>58</td>\n",
       "      <td>102100050.0</td>\n",
       "      <td>Bovine animals, purebred breeding, except dair...</td>\n",
       "      <td>2010</td>\n",
       "      <td>Mexico</td>\n",
       "      <td>US Import, QTY</td>\n",
       "      <td>NO</td>\n",
       "      <td>2000</td>\n",
       "      <td>5</td>\n",
       "      <td>77.0</td>\n",
       "    </tr>\n",
       "    <tr>\n",
       "      <th>4</th>\n",
       "      <td>58</td>\n",
       "      <td>102100050.0</td>\n",
       "      <td>Bovine animals, purebred breeding, except dair...</td>\n",
       "      <td>2010</td>\n",
       "      <td>Mexico</td>\n",
       "      <td>US Import, QTY</td>\n",
       "      <td>NO</td>\n",
       "      <td>2000</td>\n",
       "      <td>6</td>\n",
       "      <td>99.0</td>\n",
       "    </tr>\n",
       "  </tbody>\n",
       "</table>\n",
       "</div>"
      ],
      "text/plain": [
       "   SOURCE_ID      HS_CODE                                     COMMODITY_DESC  \\\n",
       "0         58  102902011.0  Cows, live, imported for dairy purposes, weigh...   \n",
       "1         58  102902011.0  Cows, live, imported for dairy purposes, weigh...   \n",
       "2         58  102100050.0  Bovine animals, purebred breeding, except dair...   \n",
       "3         58  102100050.0  Bovine animals, purebred breeding, except dair...   \n",
       "4         58  102100050.0  Bovine animals, purebred breeding, except dair...   \n",
       "\n",
       "   GEOGRAPHY_CODE GEOGRAPHY_DESC  ATTRIBUTE_DESC UNIT_DESC  YEAR_ID  \\\n",
       "0            1220         Canada  US Import, QTY        NO     2001   \n",
       "1            1220         Canada  US Import, QTY        NO     2001   \n",
       "2            2010         Mexico  US Import, QTY        NO     1996   \n",
       "3            2010         Mexico  US Import, QTY        NO     2000   \n",
       "4            2010         Mexico  US Import, QTY        NO     2000   \n",
       "\n",
       "   TIMEPERIOD_ID  AMOUNT  \n",
       "0              4    36.0  \n",
       "1             11    20.0  \n",
       "2              3    12.0  \n",
       "3              5    77.0  \n",
       "4              6    99.0  "
      ]
     },
     "execution_count": 57,
     "metadata": {},
     "output_type": "execute_result"
    }
   ],
   "source": [
    "data = pd.read_parquet('df.parquet')\n",
    "data.head()"
   ]
  }
 ],
 "metadata": {
  "kernelspec": {
   "display_name": "Python 3",
   "language": "python",
   "name": "python3"
  },
  "language_info": {
   "codemirror_mode": {
    "name": "ipython",
    "version": 3
   },
   "file_extension": ".py",
   "mimetype": "text/x-python",
   "name": "python",
   "nbconvert_exporter": "python",
   "pygments_lexer": "ipython3",
   "version": "3.11.5"
  }
 },
 "nbformat": 4,
 "nbformat_minor": 2
}

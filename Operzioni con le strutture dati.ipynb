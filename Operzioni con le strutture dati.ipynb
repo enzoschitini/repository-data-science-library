{
 "cells": [
  {
   "cell_type": "markdown",
   "metadata": {},
   "source": [
    "# **01** • Operações com estruturas de dados\n",
    "**Data Science** Learning - 05 Abril 2024\n",
    "\n",
    "---\n",
    "\n",
    "## 👋 Olá! Bem-Vindo(a)!\n",
    "\n",
    "> Na minha opinião, a análise exploratória é uma das fases mais importantes de qualquer projeto que lide com dados. Aqui o objetivo é entender o contexto em que trabalharemos e como são os dados que temos que explorar, para termos toda uma documentação que precisaremos para criar os próximos algoritmos, mesmo os de Machine Learning.\n",
    "\n",
    "[Enzo Schitini](https://www.linkedin.com/in/enzoschitini/) - Data Scientist • Expert Bubble.io • UX & UI @ Nugus creator"
   ]
  },
  {
   "cell_type": "markdown",
   "metadata": {},
   "source": [
    "---"
   ]
  },
  {
   "cell_type": "markdown",
   "metadata": {},
   "source": [
    "## Listas em Python"
   ]
  },
  {
   "cell_type": "markdown",
   "metadata": {},
   "source": [
    "<img src=\"https://i.pinimg.com/564x/52/4c/4b/524c4b946f419bcc136c3737c5f84ca4.jpg\" alt=\"copertina\">"
   ]
  },
  {
   "cell_type": "markdown",
   "metadata": {},
   "source": [
    "### Como classificar uma lista python com base na ordem de outra?"
   ]
  },
  {
   "cell_type": "code",
   "execution_count": 69,
   "metadata": {},
   "outputs": [
    {
     "name": "stdout",
     "output_type": "stream",
     "text": [
      "['bello', 'aondo', 'ciao']\n"
     ]
    }
   ],
   "source": [
    "lista_de_referência = ['b', 'a', 'c']\n",
    "lista_a_ordenar = ['ciao', 'aondo', 'bello']\n",
    "\n",
    "# Ordena a lista_a_ordenar com base na ordem da lista_de_referência\n",
    "lista_ordenada = sorted(lista_a_ordenar, key=lambda x: lista_de_referência.index(x[0]))\n",
    "\n",
    "print(lista_ordenada)"
   ]
  },
  {
   "cell_type": "code",
   "execution_count": 70,
   "metadata": {},
   "outputs": [
    {
     "name": "stdout",
     "output_type": "stream",
     "text": [
      "[1, 2, 3]\n"
     ]
    }
   ],
   "source": [
    "lista_de_referência = [1, 2, 3, 4, 5]\n",
    "lista_a_ordenar = [3, 1, 2]\n",
    "\n",
    "# Ordena a lista_a_ordenar com base na ordem da lista_de_referência\n",
    "lista_ordenada = sorted(lista_a_ordenar, key=lambda x: lista_de_referência.index(x))\n",
    "\n",
    "print(lista_ordenada)"
   ]
  },
  {
   "cell_type": "code",
   "execution_count": 71,
   "metadata": {},
   "outputs": [
    {
     "name": "stdout",
     "output_type": "stream",
     "text": [
      "Lista ordenada com base na lista de referência: [1, 3, 4, 2]\n"
     ]
    }
   ],
   "source": [
    "lista_a_ordenar = [3, 1, 4, 2]\n",
    "lista_de_referência = [2, 1, 3, 4]\n",
    "\n",
    "# Usa a função zip() para unir as duas listas e depois ordena com base na lista_de_referência\n",
    "lista_ordinata = [x for _, x in sorted(zip(lista_de_referência, lista_a_ordenar))]\n",
    "\n",
    "print(\"Lista ordenada com base na lista de referência:\", lista_ordinata)"
   ]
  },
  {
   "cell_type": "markdown",
   "metadata": {},
   "source": [
    "### Repetição de elementos"
   ]
  },
  {
   "cell_type": "code",
   "execution_count": 72,
   "metadata": {},
   "outputs": [
    {
     "name": "stdout",
     "output_type": "stream",
     "text": [
      "O número de vezes que o elemento 2 se repetiu na lista é: 4\n"
     ]
    }
   ],
   "source": [
    "lista = [1, 2, 3, 4, 2, 2, 3, 1, 2]\n",
    "\n",
    "# Conta o número de vezes que o elemento 2 se repetiu na lista\n",
    "contegio = lista.count(2)\n",
    "\n",
    "print(\"O número de vezes que o elemento 2 se repetiu na lista é:\", contegio)"
   ]
  },
  {
   "cell_type": "code",
   "execution_count": 73,
   "metadata": {},
   "outputs": [
    {
     "name": "stdout",
     "output_type": "stream",
     "text": [
      "Contagem dos elementos na lista: Counter({2: 4, 1: 2, 3: 2, 4: 1})\n"
     ]
    }
   ],
   "source": [
    "from collections import Counter\n",
    "\n",
    "lista = [1, 2, 3, 4, 2, 2, 3, 1, 2]\n",
    "\n",
    "# Conta o número de repetições de cada elemento na lista\n",
    "conteggio_elementi = Counter(lista)\n",
    "\n",
    "print(\"Contagem dos elementos na lista:\", conteggio_elementi)"
   ]
  },
  {
   "cell_type": "markdown",
   "metadata": {},
   "source": [
    "### Agrupamento"
   ]
  },
  {
   "cell_type": "code",
   "execution_count": 74,
   "metadata": {},
   "outputs": [
    {
     "name": "stdout",
     "output_type": "stream",
     "text": [
      "Elementos que são a interseção entre as duas listas: [4, 5]\n"
     ]
    }
   ],
   "source": [
    "lista1 = [1, 2, 3, 4, 5]\n",
    "lista2 = [4, 5, 6, 7, 8]\n",
    "\n",
    "intersecao = list(set(lista1) & set(lista2))\n",
    "\n",
    "print(\"Elementos que são a interseção entre as duas listas:\", intersecao)"
   ]
  },
  {
   "cell_type": "code",
   "execution_count": 75,
   "metadata": {},
   "outputs": [
    {
     "name": "stdout",
     "output_type": "stream",
     "text": [
      "Elementos que são a interseção entre as duas listas: [4, 5]\n"
     ]
    }
   ],
   "source": [
    "lista1 = [1, 2, 3, 4, 5]\n",
    "lista2 = [4, 5, 6, 7, 8]\n",
    "\n",
    "intersecao = list(set(lista1).intersection(lista2))\n",
    "\n",
    "print(\"Elementos que são a interseção entre as duas listas:\", intersecao)"
   ]
  },
  {
   "cell_type": "code",
   "execution_count": 76,
   "metadata": {},
   "outputs": [
    {
     "name": "stdout",
     "output_type": "stream",
     "text": [
      "Nova lista após remover os elementos de lista2: [1, 3, 5]\n"
     ]
    }
   ],
   "source": [
    "lista1 = [1, 2, 3, 4, 5]\n",
    "lista2 = [2, 4, 6]\n",
    "\n",
    "nova_lista = [x for x in lista1 if x not in lista2]\n",
    "\n",
    "print(\"Nova lista após remover os elementos de lista2:\", nova_lista)"
   ]
  },
  {
   "cell_type": "code",
   "execution_count": 77,
   "metadata": {},
   "outputs": [
    {
     "name": "stdout",
     "output_type": "stream",
     "text": [
      "Elementos diferentes em lista1: [1, 2, 3]\n",
      "Elementos diferentes em lista2: [8, 6, 7]\n"
     ]
    }
   ],
   "source": [
    "lista1 = [1, 2, 3, 4, 5]\n",
    "lista2 = [4, 5, 6, 7, 8]\n",
    "\n",
    "diferenca_lista1 = list(set(lista1) - set(lista2))\n",
    "diferenca_lista2 = list(set(lista2) - set(lista1))\n",
    "\n",
    "print(\"Elementos diferentes em lista1:\", diferenca_lista1)\n",
    "print(\"Elementos diferentes em lista2:\", diferenca_lista2)"
   ]
  },
  {
   "cell_type": "markdown",
   "metadata": {},
   "source": [
    "### `For` dentro de uma lista"
   ]
  },
  {
   "cell_type": "code",
   "execution_count": 78,
   "metadata": {},
   "outputs": [
    {
     "name": "stdout",
     "output_type": "stream",
     "text": [
      "[2, 4, 6, 8, 10]\n"
     ]
    }
   ],
   "source": [
    "lista_original = [1, 2, 3, 4, 5]\n",
    "\n",
    "# Usando uma compreensão de lista para dobrar cada elemento\n",
    "lista_dobrada = [x * 2 for x in lista_original]\n",
    "\n",
    "print(lista_dobrada)  # Saída: [2, 4, 6, 8, 10]"
   ]
  },
  {
   "cell_type": "markdown",
   "metadata": {},
   "source": [
    "---"
   ]
  },
  {
   "cell_type": "markdown",
   "metadata": {},
   "source": [
    "## Dicionários"
   ]
  },
  {
   "cell_type": "markdown",
   "metadata": {},
   "source": [
    "### Como criar:"
   ]
  },
  {
   "cell_type": "code",
   "execution_count": 79,
   "metadata": {},
   "outputs": [
    {
     "name": "stdout",
     "output_type": "stream",
     "text": [
      "{'chave1': 'valor1', 'chave2': 'valor2', 'chave3': 'valor3'}\n",
      "{'a': 1, 'b': 2, 'c': 3}\n"
     ]
    }
   ],
   "source": [
    "# Criando um dicionário vazio\n",
    "meu_dicionario = {}\n",
    "\n",
    "# Adicionando elementos ao dicionário\n",
    "meu_dicionario['chave1'] = 'valor1'\n",
    "meu_dicionario['chave2'] = 'valor2'\n",
    "meu_dicionario['chave3'] = 'valor3'\n",
    "\n",
    "# Outra forma de criar um dicionário\n",
    "outro_dicionario = {'a': 1, 'b': 2, 'c': 3}\n",
    "\n",
    "print(meu_dicionario)\n",
    "print(outro_dicionario)"
   ]
  },
  {
   "cell_type": "code",
   "execution_count": 80,
   "metadata": {},
   "outputs": [
    {
     "name": "stdout",
     "output_type": "stream",
     "text": [
      "{'chave1': 'valor1', 'chave2': 'valor2', 'chave3': 'valor3'}\n"
     ]
    }
   ],
   "source": [
    "meu_dicionario = dict([('chave1', 'valor1'), ('chave2', 'valor2'), ('chave3', 'valor3')])\n",
    "print(meu_dicionario)"
   ]
  },
  {
   "cell_type": "markdown",
   "metadata": {},
   "source": [
    "### Apagar um elemento de um dicionário"
   ]
  },
  {
   "cell_type": "code",
   "execution_count": 81,
   "metadata": {},
   "outputs": [
    {
     "name": "stdout",
     "output_type": "stream",
     "text": [
      "{'a': 1, 'c': 3}\n"
     ]
    }
   ],
   "source": [
    "# Utilizando del:\n",
    "meu_dicionario = {'a': 1, 'b': 2, 'c': 3}\n",
    "\n",
    "# Apagando o elemento com chave 'b'\n",
    "del meu_dicionario['b']\n",
    "\n",
    "print(meu_dicionario)  # Saída: {'a': 1, 'c': 3}"
   ]
  },
  {
   "cell_type": "code",
   "execution_count": 82,
   "metadata": {},
   "outputs": [
    {
     "name": "stdout",
     "output_type": "stream",
     "text": [
      "{'a': 1, 'c': 3}\n",
      "2\n"
     ]
    }
   ],
   "source": [
    "# Utilizando pop():\n",
    "meu_dicionario = {'a': 1, 'b': 2, 'c': 3}\n",
    "\n",
    "# Removendo e retornando o valor associado à chave 'b'\n",
    "valor_removido = meu_dicionario.pop('b')\n",
    "\n",
    "print(meu_dicionario)  # Saída: {'a': 1, 'c': 3}\n",
    "print(valor_removido)  # Saída: 2"
   ]
  },
  {
   "cell_type": "code",
   "execution_count": 83,
   "metadata": {},
   "outputs": [
    {
     "name": "stdout",
     "output_type": "stream",
     "text": [
      "{'a': 1, 'b': 2, 'c': 3}\n",
      "Chave não encontrada\n"
     ]
    }
   ],
   "source": [
    "meu_dicionario = {'a': 1, 'b': 2, 'c': 3}\n",
    "\n",
    "# Removendo e retornando o valor associado à chave 'd' (que não existe)\n",
    "valor_removido = meu_dicionario.pop('d', 'Chave não encontrada')\n",
    "\n",
    "print(meu_dicionario)    # Saída: {'a': 1, 'b': 2, 'c': 3}\n",
    "print(valor_removido)    # Saída: Chave não encontrada"
   ]
  },
  {
   "cell_type": "markdown",
   "metadata": {},
   "source": [
    "### Pegue os valores e as chaves"
   ]
  },
  {
   "cell_type": "code",
   "execution_count": 84,
   "metadata": {},
   "outputs": [
    {
     "name": "stdout",
     "output_type": "stream",
     "text": [
      "Chaves: dict_keys(['a', 'b', 'c'])\n",
      "Valores: dict_values([1, 2, 3])\n"
     ]
    }
   ],
   "source": [
    "meu_dicionario = {\"a\": 1, \"b\": 2, \"c\": 3}\n",
    "\n",
    "# Obter as chaves\n",
    "chaves = meu_dicionario.keys()\n",
    "print(\"Chaves:\", chaves)\n",
    "\n",
    "# Obter os valores\n",
    "valores = meu_dicionario.values()\n",
    "print(\"Valores:\", valores)"
   ]
  },
  {
   "cell_type": "code",
   "execution_count": 85,
   "metadata": {},
   "outputs": [
    {
     "name": "stdout",
     "output_type": "stream",
     "text": [
      "Chave: a | Valor: 1\n",
      "Chave: b | Valor: 2\n",
      "Chave: c | Valor: 3\n"
     ]
    }
   ],
   "source": [
    "meu_dicionario = {\"a\": 1, \"b\": 2, \"c\": 3}\n",
    "\n",
    "# Iterar sobre chaves e valores simultaneamente\n",
    "for chave, valor in meu_dicionario.items():\n",
    "    print(\"Chave:\", chave, \"| Valor:\", valor)"
   ]
  },
  {
   "cell_type": "code",
   "execution_count": 86,
   "metadata": {},
   "outputs": [
    {
     "name": "stdout",
     "output_type": "stream",
     "text": [
      "1\n",
      "Key not found\n"
     ]
    }
   ],
   "source": [
    "my_dict = {'a': 1, 'b': 2}\n",
    "print(my_dict.get('a'))  # Output: 1\n",
    "print(my_dict.get('c', 'Key not found'))  # Output: Key not found"
   ]
  },
  {
   "cell_type": "code",
   "execution_count": 87,
   "metadata": {},
   "outputs": [
    {
     "name": "stdout",
     "output_type": "stream",
     "text": [
      "1\n"
     ]
    }
   ],
   "source": [
    "my_dict = {'a': 1, 'b': 2}\n",
    "print(my_dict.pop('a'))  # Output: 1"
   ]
  },
  {
   "cell_type": "code",
   "execution_count": 88,
   "metadata": {},
   "outputs": [
    {
     "name": "stdout",
     "output_type": "stream",
     "text": [
      "('b', 2)\n"
     ]
    }
   ],
   "source": [
    "my_dict = {'a': 1, 'b': 2}\n",
    "print(my_dict.popitem())  # Output: ('b', 2)"
   ]
  },
  {
   "cell_type": "code",
   "execution_count": 89,
   "metadata": {},
   "outputs": [
    {
     "name": "stdout",
     "output_type": "stream",
     "text": [
      "{'a': 1, 'b': 2, 'c': 3}\n"
     ]
    }
   ],
   "source": [
    "my_dict = {'a': 1, 'b': 2}\n",
    "my_dict.update({'c': 3})\n",
    "print(my_dict)  # Output: {'a': 1, 'b': 2, 'c': 3}"
   ]
  },
  {
   "cell_type": "markdown",
   "metadata": {},
   "source": [
    "### Modificar um elemento em um dicionário"
   ]
  },
  {
   "cell_type": "code",
   "execution_count": 90,
   "metadata": {},
   "outputs": [
    {
     "name": "stdout",
     "output_type": "stream",
     "text": [
      "{'a': 1, 'b': 42, 'c': 3}\n"
     ]
    }
   ],
   "source": [
    "meu_dicionario = {'a': 1, 'b': 2, 'c': 3}\n",
    "\n",
    "# Modificando o valor associado à chave 'b'\n",
    "meu_dicionario['b'] = 42\n",
    "\n",
    "print(meu_dicionario)  # Saída: {'a': 1, 'b': 42, 'c': 3}"
   ]
  },
  {
   "cell_type": "markdown",
   "metadata": {},
   "source": [
    "### Posição de um elemento"
   ]
  },
  {
   "cell_type": "markdown",
   "metadata": {},
   "source": [
    "Em um dicionário Python, não há uma noção direta de \"posição\" de um elemento, porque os dicionários são estruturas de dados sem ordem definida. Em outras palavras, os elementos em um dicionário não têm uma posição fixa como em uma lista ou tupla, onde você pode se referir a um elemento pelo seu índice.\n",
    "\n",
    "No entanto, você pode encontrar a chave associada a um determinado valor em um dicionário. Aqui está como você pode fazer isso:"
   ]
  },
  {
   "cell_type": "code",
   "execution_count": 91,
   "metadata": {},
   "outputs": [
    {
     "name": "stdout",
     "output_type": "stream",
     "text": [
      "['b', 'd']\n"
     ]
    }
   ],
   "source": [
    "meu_dicionario = {'a': 1, 'b': 2, 'c': 3, 'd': 2}\n",
    "\n",
    "# Encontrar a chave(s) associada(s) ao valor 2\n",
    "chaves = [chave for chave, valor in meu_dicionario.items() if valor == 2]\n",
    "\n",
    "print(chaves)  # Saída: ['b', 'd']"
   ]
  },
  {
   "cell_type": "markdown",
   "metadata": {},
   "source": [
    "### Como ordenar um dicionário "
   ]
  },
  {
   "cell_type": "code",
   "execution_count": 92,
   "metadata": {},
   "outputs": [
    {
     "name": "stdout",
     "output_type": "stream",
     "text": [
      "{'x': 1, 'y': 2, 'z': 3}\n"
     ]
    }
   ],
   "source": [
    "# Ordenar com base nas chaves:\n",
    "meu_dicionario = {'z': 3, 'x': 1, 'y': 2}\n",
    "\n",
    "# Ordenar o dicionário pelas chaves\n",
    "dicionario_ordenado_chaves = dict(sorted(meu_dicionario.items()))\n",
    "\n",
    "print(dicionario_ordenado_chaves)  # Saída: {'x': 1, 'y': 2, 'z': 3}"
   ]
  },
  {
   "cell_type": "code",
   "execution_count": 93,
   "metadata": {},
   "outputs": [
    {
     "name": "stdout",
     "output_type": "stream",
     "text": [
      "{'x': 1, 'y': 2, 'z': 3}\n"
     ]
    }
   ],
   "source": [
    "# Ordenar com base nos valores:\n",
    "meu_dicionario = {'z': 3, 'x': 1, 'y': 2}\n",
    "\n",
    "# Ordenar o dicionário pelos valores\n",
    "dicionario_ordenado_valores = dict(sorted(meu_dicionario.items(), key=lambda item: item[1]))\n",
    "\n",
    "print(dicionario_ordenado_valores)  # Saída: {'x': 1, 'y': 2, 'z': 3}"
   ]
  },
  {
   "cell_type": "code",
   "execution_count": 94,
   "metadata": {},
   "outputs": [
    {
     "name": "stdout",
     "output_type": "stream",
     "text": [
      "OrderedDict([('x', 1), ('y', 2), ('z', 3)])\n"
     ]
    }
   ],
   "source": [
    "import collections\n",
    "\n",
    "meu_dicionario = {'z': 3, 'x': 1, 'y': 2}\n",
    "\n",
    "# Criar um OrderedDict ordenado pelas chaves\n",
    "dicionario_ordenado_chaves = collections.OrderedDict(sorted(meu_dicionario.items()))\n",
    "\n",
    "print(dicionario_ordenado_chaves)  # Saída: OrderedDict([('x', 1), ('y', 2), ('z', 3)])"
   ]
  },
  {
   "cell_type": "code",
   "execution_count": 95,
   "metadata": {},
   "outputs": [
    {
     "name": "stdout",
     "output_type": "stream",
     "text": [
      "{'laranja': 2, 'banana': 3, 'maçã': 1}\n",
      "OrderedDict([('laranja', 2), ('banana', 3), ('maçã', 1)])\n"
     ]
    }
   ],
   "source": [
    "# Para ordenar um dicionário com base em uma lista\n",
    "\n",
    "meu_dicionario = {'banana': 3, 'maçã': 1, 'laranja': 2}\n",
    "ordem_chaves = ['laranja', 'banana', 'maçã']\n",
    "\n",
    "dicionario_ordenado = {chave: meu_dicionario[chave] for chave in ordem_chaves}\n",
    "print(dicionario_ordenado)\n",
    "\n",
    "import collections\n",
    "dicionario_ordenado = collections.OrderedDict((chave, meu_dicionario[chave]) for chave in ordem_chaves)\n",
    "print(dicionario_ordenado)"
   ]
  },
  {
   "cell_type": "code",
   "execution_count": 96,
   "metadata": {},
   "outputs": [
    {
     "name": "stdout",
     "output_type": "stream",
     "text": [
      "{'maçã': 1, 'laranja': 2, 'banana': 3}\n"
     ]
    }
   ],
   "source": [
    "meu_dicionario = {'banana': 3, 'maçã': 1, 'laranja': 2}\n",
    "\n",
    "# Ordenando o dicionário pelas chaves\n",
    "dicionario_ordenado = dict(sorted(meu_dicionario.items(), key=lambda item: item[1]))\n",
    "\n",
    "print(dicionario_ordenado)"
   ]
  },
  {
   "cell_type": "code",
   "execution_count": 97,
   "metadata": {},
   "outputs": [
    {
     "name": "stdout",
     "output_type": "stream",
     "text": [
      "{'laranja': 2, 'banana': 3, 'maçã': 1}\n"
     ]
    }
   ],
   "source": [
    "meu_dicionario = {'banana': 3, 'maçã': 1, 'laranja': 2}\n",
    "ordem_chaves = ['laranja', 'banana', 'maçã']\n",
    "\n",
    "# Ordenando o dicionário com base na lista de chaves usando sorted() e lambda\n",
    "dicionario_ordenado = dict(sorted(meu_dicionario.items(), key=lambda item: ordem_chaves.index(item[0])))\n",
    "\n",
    "print(dicionario_ordenado)"
   ]
  },
  {
   "cell_type": "markdown",
   "metadata": {},
   "source": [
    "### Interseção de dois ou mais dicionários com base nas chaves "
   ]
  },
  {
   "cell_type": "code",
   "execution_count": 98,
   "metadata": {},
   "outputs": [
    {
     "name": "stdout",
     "output_type": "stream",
     "text": [
      "{'c': 3}\n"
     ]
    }
   ],
   "source": [
    "dicionario1 = {'a': 1, 'b': 2, 'c': 3}\n",
    "dicionario2 = {'b': 4, 'c': 5, 'd': 6}\n",
    "dicionario3 = {'c': 7, 'd': 8, 'e': 9}\n",
    "\n",
    "# Encontrando a interseção das chaves dos dicionários\n",
    "intersecao_chaves = set(dicionario1.keys()) & set(dicionario2.keys()) & set(dicionario3.keys())\n",
    "\n",
    "# Criando um novo dicionário contendo apenas as chaves em comum e seus valores correspondentes\n",
    "dicionario_intersecao = {chave: dicionario1[chave] for chave in intersecao_chaves}\n",
    "\n",
    "print(dicionario_intersecao)"
   ]
  },
  {
   "cell_type": "code",
   "execution_count": 99,
   "metadata": {},
   "outputs": [
    {
     "name": "stdout",
     "output_type": "stream",
     "text": [
      "{'c'}\n"
     ]
    }
   ],
   "source": [
    "intersecao_chaves = set(dicionario1.keys()) & set(dicionario2.keys()) & set(dicionario3.keys())\n",
    "print(intersecao_chaves)"
   ]
  },
  {
   "cell_type": "markdown",
   "metadata": {},
   "source": [
    "### Interseção de dois ou mais dicionários com base nos valores"
   ]
  },
  {
   "cell_type": "code",
   "execution_count": 100,
   "metadata": {},
   "outputs": [
    {
     "name": "stdout",
     "output_type": "stream",
     "text": [
      "{3}\n",
      "{'c': 3}\n"
     ]
    }
   ],
   "source": [
    "from collections import Counter\n",
    "\n",
    "# Definindo os dicionários\n",
    "dicionario1 = {'a': 1, 'b': 2, 'c': 3}\n",
    "dicionario2 = {'b': 2, 'c': 3, 'd': 4}\n",
    "dicionario3 = {'c': 3, 'd': 4, 'e': 5}\n",
    "\n",
    "# Convertendo os valores dos dicionários em conjuntos para encontrar a interseção\n",
    "valores1 = set(dicionario1.values())\n",
    "valores2 = set(dicionario2.values())\n",
    "valores3 = set(dicionario3.values())\n",
    "\n",
    "# Encontrando a interseção dos valores dos dicionários\n",
    "intersecao_valores = valores1 & valores2 & valores3\n",
    "print(intersecao_valores)\n",
    "\n",
    "# Criando um novo dicionário contendo apenas os pares chave-valor com valores em comum\n",
    "dicionario_intersecao = {chave: valor for chave, valor in dicionario1.items() if valor in intersecao_valores}\n",
    "\n",
    "print(dicionario_intersecao)"
   ]
  },
  {
   "cell_type": "markdown",
   "metadata": {},
   "source": [
    "### Difediferença entre dois ou mais dicionários com base nas chaves"
   ]
  },
  {
   "cell_type": "code",
   "execution_count": 101,
   "metadata": {},
   "outputs": [
    {
     "name": "stdout",
     "output_type": "stream",
     "text": [
      "{'a'}\n"
     ]
    }
   ],
   "source": [
    "dicionario1 = {'a': 1, 'b': 2, 'c': 3}\n",
    "dicionario2 = {'b': 4, 'c': 5, 'd': 6}\n",
    "\n",
    "# Encontrando a diferença das chaves dos dicionários\n",
    "diferenca_chaves = set(dicionario1.keys()) - set(dicionario2.keys())\n",
    "\n",
    "print(diferenca_chaves)  # Saída: {'a'}"
   ]
  },
  {
   "cell_type": "code",
   "execution_count": 102,
   "metadata": {},
   "outputs": [
    {
     "name": "stdout",
     "output_type": "stream",
     "text": [
      "{'a'}\n"
     ]
    }
   ],
   "source": [
    "diferenca_chaves = set(dicionario1.keys()) - set(dicionario2.keys()) - set(dicionario3.keys())\n",
    "print(diferenca_chaves)"
   ]
  },
  {
   "cell_type": "markdown",
   "metadata": {},
   "source": [
    "### Difediferença entre dois ou mais dicionários com base nos valores"
   ]
  },
  {
   "cell_type": "code",
   "execution_count": 103,
   "metadata": {},
   "outputs": [
    {
     "name": "stdout",
     "output_type": "stream",
     "text": [
      "{('c', 3), ('a', 1)}\n"
     ]
    }
   ],
   "source": [
    "dicionario1 = {'a': 1, 'b': 2, 'c': 3}\n",
    "dicionario2 = {'b': 2, 'c': 4, 'd': 5}\n",
    "\n",
    "# Encontrando a diferença dos valores dos dicionários\n",
    "diferenca_valores = set(dicionario1.items()) - set(dicionario2.items())\n",
    "\n",
    "print(diferenca_valores)  # Saída: {('a', 1), ('c', 3)}"
   ]
  },
  {
   "cell_type": "code",
   "execution_count": 104,
   "metadata": {},
   "outputs": [
    {
     "name": "stdout",
     "output_type": "stream",
     "text": [
      "{('a', 1)}\n"
     ]
    }
   ],
   "source": [
    "diferenca_valores = set(dicionario1.items()) - set(dicionario2.items()) - set(dicionario3.items())\n",
    "print(diferenca_valores)"
   ]
  },
  {
   "cell_type": "markdown",
   "metadata": {},
   "source": [
    "---"
   ]
  },
  {
   "cell_type": "markdown",
   "metadata": {},
   "source": [
    "## String methods"
   ]
  },
  {
   "cell_type": "markdown",
   "metadata": {},
   "source": [
    "<img src=\"https://raw.githubusercontent.com/enzoschitini/repository-data-science-library/main/image/Python%20String%20Methods.jpeg\" alt=\"copertina\">"
   ]
  },
  {
   "cell_type": "markdown",
   "metadata": {},
   "source": [
    "---"
   ]
  },
  {
   "cell_type": "markdown",
   "metadata": {},
   "source": [
    "## Funções"
   ]
  },
  {
   "cell_type": "code",
   "execution_count": 105,
   "metadata": {},
   "outputs": [
    {
     "name": "stdout",
     "output_type": "stream",
     "text": [
      "[1, 2, 3, 4, 5]\n"
     ]
    }
   ],
   "source": [
    "# Creazione dell'indice\n",
    "totale = 100#df.shape\n",
    "totale = totale + 1\n",
    "index = list(map(lambda x: x, range(1, totale)))\n",
    "index = [x for x in range(1, 6)]\n",
    "print(index)"
   ]
  },
  {
   "cell_type": "code",
   "execution_count": 106,
   "metadata": {},
   "outputs": [
    {
     "name": "stdout",
     "output_type": "stream",
     "text": [
      "enzo\n"
     ]
    }
   ],
   "source": [
    "ex_email = lambda email, oredem: email.split(sep='@')[oredem]\n",
    "\n",
    "em = 'enzo@gmail.com'\n",
    "vl = ex_email(em, 0)\n",
    "print(vl)"
   ]
  },
  {
   "cell_type": "code",
   "execution_count": 107,
   "metadata": {},
   "outputs": [
    {
     "name": "stdout",
     "output_type": "stream",
     "text": [
      "True\n"
     ]
    }
   ],
   "source": [
    "provedores = lambda data: True if '@' in data else False\n",
    "print(bool(provedores('dd@d')))"
   ]
  },
  {
   "cell_type": "code",
   "execution_count": 108,
   "metadata": {},
   "outputs": [
    {
     "name": "stdout",
     "output_type": "stream",
     "text": [
      "True\n"
     ]
    }
   ],
   "source": [
    "som = lambda v1, v2: True if (v1 + v2) / 2 == 2 else False\n",
    "v = 2\n",
    "vv = 2\n",
    "\n",
    "valor = som(v,vv)\n",
    "print(valor)"
   ]
  },
  {
   "cell_type": "code",
   "execution_count": 109,
   "metadata": {},
   "outputs": [
    {
     "name": "stdout",
     "output_type": "stream",
     "text": [
      "<map object at 0x00000231663DFB20>\n",
      "['gmail.com', 'gamail.com']\n"
     ]
    }
   ],
   "source": [
    "emails = ['enzo@gmail.com', 'gew@gamail.com']\n",
    "\n",
    "provedores = map(lambda email: email.split(sep='@')[1], emails)\n",
    "print(provedores)\n",
    "print(list(provedores))"
   ]
  },
  {
   "cell_type": "code",
   "execution_count": 110,
   "metadata": {},
   "outputs": [
    {
     "name": "stdout",
     "output_type": "stream",
     "text": [
      "['@']\n"
     ]
    }
   ],
   "source": [
    "provedores = filter(lambda email: '@' in email, 'gew@gamail.com')\n",
    "print(list(provedores))"
   ]
  },
  {
   "cell_type": "code",
   "execution_count": 111,
   "metadata": {},
   "outputs": [
    {
     "name": "stdout",
     "output_type": "stream",
     "text": [
      "['enzo@gmail.com', 'gew@gamail.com']\n"
     ]
    }
   ],
   "source": [
    "provedores = filter(lambda email: '@' in email, emails)\n",
    "print(list(provedores))"
   ]
  },
  {
   "cell_type": "code",
   "execution_count": 112,
   "metadata": {},
   "outputs": [
    {
     "name": "stdout",
     "output_type": "stream",
     "text": [
      "[448.0, 826.7, 313.6, -8008.0, 2212.0, 2771.3, 2240.0, -4151.0]\n"
     ]
    }
   ],
   "source": [
    "emprestimos = [\n",
    "    {'id_vendedor': '104271', 'valor_emprestimos': '448.0', 'quantidade_emprestimos': '1', 'data': '20161208'},\n",
    "    {'id_vendedor': '21476', 'valor_emprestimos': '826.7', 'quantidade_emprestimos': '3', 'data': '20161208'},\n",
    "    {'id_vendedor': '87440', 'valor_emprestimos': '313.6', 'quantidade_emprestimos': '3', 'data': '20161208'},\n",
    "    {'id_vendedor': '15980', 'valor_emprestimos': '-8008.0', 'quantidade_emprestimos': '6', 'data': '20161208'},\n",
    "    {'id_vendedor': '215906', 'valor_emprestimos': '2212.0', 'quantidade_emprestimos': '5', 'data': '20161208'},\n",
    "    {'id_vendedor': '33696', 'valor_emprestimos': '2771.3', 'quantidade_emprestimos': '2', 'data': '20161208'},\n",
    "    {'id_vendedor': '33893', 'valor_emprestimos': '2240.0', 'quantidade_emprestimos': '3', 'data': '20161208'},\n",
    "    {'id_vendedor': '214946', 'valor_emprestimos': '-4151.0', 'quantidade_emprestimos': '18', 'data': '20161208'},]\n",
    "\n",
    "valor_emprestimos_lista = list(map(lambda x: float(x['valor_emprestimos']), emprestimos))\n",
    "#valor_emprestimos_lista = list(map(lambda x: int(x['quantidade_emprestimos']), emprestimos))\n",
    "\n",
    "print(valor_emprestimos_lista)"
   ]
  },
  {
   "cell_type": "code",
   "execution_count": 113,
   "metadata": {},
   "outputs": [
    {
     "name": "stdout",
     "output_type": "stream",
     "text": [
      "[1, 4, 3, 16, 5, 36, 7, 64, 9, 100]\n"
     ]
    }
   ],
   "source": [
    "# Lista di numeri\n",
    "numeri = [1, 2, 3, 4, 5, 6, 7, 8, 9, 10]\n",
    "    \n",
    "# Applicazione della funzione map con un comando if\n",
    "risultati = list(map(lambda x: x ** 2 if x % 2 == 0 else x, numeri))\n",
    "\n",
    "print(risultati)"
   ]
  },
  {
   "cell_type": "markdown",
   "metadata": {},
   "source": [
    "---"
   ]
  },
  {
   "cell_type": "markdown",
   "metadata": {},
   "source": [
    "## How to Merge Pandas DataFrames"
   ]
  },
  {
   "cell_type": "code",
   "execution_count": 114,
   "metadata": {},
   "outputs": [],
   "source": [
    "import pandas as pd\n",
    "\n",
    "# Create two sample DataFrames\n",
    "df1 = pd.DataFrame({'A': [1, 2, 3],\n",
    "                    'B': ['a', 'b', 'c']})\n",
    "\n",
    "df2 = pd.DataFrame({'A': [1, 2, 4],\n",
    "                    'C': ['x', 'y', 'z']})"
   ]
  },
  {
   "cell_type": "code",
   "execution_count": 115,
   "metadata": {},
   "outputs": [
    {
     "data": {
      "text/html": [
       "<div>\n",
       "<style scoped>\n",
       "    .dataframe tbody tr th:only-of-type {\n",
       "        vertical-align: middle;\n",
       "    }\n",
       "\n",
       "    .dataframe tbody tr th {\n",
       "        vertical-align: top;\n",
       "    }\n",
       "\n",
       "    .dataframe thead th {\n",
       "        text-align: right;\n",
       "    }\n",
       "</style>\n",
       "<table border=\"1\" class=\"dataframe\">\n",
       "  <thead>\n",
       "    <tr style=\"text-align: right;\">\n",
       "      <th></th>\n",
       "      <th>A</th>\n",
       "      <th>B</th>\n",
       "    </tr>\n",
       "  </thead>\n",
       "  <tbody>\n",
       "    <tr>\n",
       "      <th>0</th>\n",
       "      <td>1</td>\n",
       "      <td>a</td>\n",
       "    </tr>\n",
       "    <tr>\n",
       "      <th>1</th>\n",
       "      <td>2</td>\n",
       "      <td>b</td>\n",
       "    </tr>\n",
       "    <tr>\n",
       "      <th>2</th>\n",
       "      <td>3</td>\n",
       "      <td>c</td>\n",
       "    </tr>\n",
       "  </tbody>\n",
       "</table>\n",
       "</div>"
      ],
      "text/plain": [
       "   A  B\n",
       "0  1  a\n",
       "1  2  b\n",
       "2  3  c"
      ]
     },
     "execution_count": 115,
     "metadata": {},
     "output_type": "execute_result"
    }
   ],
   "source": [
    "df1.head()"
   ]
  },
  {
   "cell_type": "code",
   "execution_count": 116,
   "metadata": {},
   "outputs": [
    {
     "data": {
      "text/html": [
       "<div>\n",
       "<style scoped>\n",
       "    .dataframe tbody tr th:only-of-type {\n",
       "        vertical-align: middle;\n",
       "    }\n",
       "\n",
       "    .dataframe tbody tr th {\n",
       "        vertical-align: top;\n",
       "    }\n",
       "\n",
       "    .dataframe thead th {\n",
       "        text-align: right;\n",
       "    }\n",
       "</style>\n",
       "<table border=\"1\" class=\"dataframe\">\n",
       "  <thead>\n",
       "    <tr style=\"text-align: right;\">\n",
       "      <th></th>\n",
       "      <th>A</th>\n",
       "      <th>C</th>\n",
       "    </tr>\n",
       "  </thead>\n",
       "  <tbody>\n",
       "    <tr>\n",
       "      <th>0</th>\n",
       "      <td>1</td>\n",
       "      <td>x</td>\n",
       "    </tr>\n",
       "    <tr>\n",
       "      <th>1</th>\n",
       "      <td>2</td>\n",
       "      <td>y</td>\n",
       "    </tr>\n",
       "    <tr>\n",
       "      <th>2</th>\n",
       "      <td>4</td>\n",
       "      <td>z</td>\n",
       "    </tr>\n",
       "  </tbody>\n",
       "</table>\n",
       "</div>"
      ],
      "text/plain": [
       "   A  C\n",
       "0  1  x\n",
       "1  2  y\n",
       "2  4  z"
      ]
     },
     "execution_count": 116,
     "metadata": {},
     "output_type": "execute_result"
    }
   ],
   "source": [
    "df2.head()"
   ]
  },
  {
   "cell_type": "markdown",
   "metadata": {},
   "source": [
    "### Merge the DataFrames on the 'A' column"
   ]
  },
  {
   "cell_type": "code",
   "execution_count": 117,
   "metadata": {},
   "outputs": [
    {
     "data": {
      "text/html": [
       "<div>\n",
       "<style scoped>\n",
       "    .dataframe tbody tr th:only-of-type {\n",
       "        vertical-align: middle;\n",
       "    }\n",
       "\n",
       "    .dataframe tbody tr th {\n",
       "        vertical-align: top;\n",
       "    }\n",
       "\n",
       "    .dataframe thead th {\n",
       "        text-align: right;\n",
       "    }\n",
       "</style>\n",
       "<table border=\"1\" class=\"dataframe\">\n",
       "  <thead>\n",
       "    <tr style=\"text-align: right;\">\n",
       "      <th></th>\n",
       "      <th>A</th>\n",
       "      <th>B</th>\n",
       "      <th>C</th>\n",
       "    </tr>\n",
       "  </thead>\n",
       "  <tbody>\n",
       "    <tr>\n",
       "      <th>0</th>\n",
       "      <td>1</td>\n",
       "      <td>a</td>\n",
       "      <td>x</td>\n",
       "    </tr>\n",
       "    <tr>\n",
       "      <th>1</th>\n",
       "      <td>2</td>\n",
       "      <td>b</td>\n",
       "      <td>y</td>\n",
       "    </tr>\n",
       "  </tbody>\n",
       "</table>\n",
       "</div>"
      ],
      "text/plain": [
       "   A  B  C\n",
       "0  1  a  x\n",
       "1  2  b  y"
      ]
     },
     "execution_count": 117,
     "metadata": {},
     "output_type": "execute_result"
    }
   ],
   "source": [
    "merged_df = pd.merge(df1, df2, on='A')\n",
    "merged_df.head()"
   ]
  },
  {
   "cell_type": "markdown",
   "metadata": {},
   "source": [
    "### Left join"
   ]
  },
  {
   "cell_type": "code",
   "execution_count": 118,
   "metadata": {},
   "outputs": [
    {
     "data": {
      "text/html": [
       "<div>\n",
       "<style scoped>\n",
       "    .dataframe tbody tr th:only-of-type {\n",
       "        vertical-align: middle;\n",
       "    }\n",
       "\n",
       "    .dataframe tbody tr th {\n",
       "        vertical-align: top;\n",
       "    }\n",
       "\n",
       "    .dataframe thead th {\n",
       "        text-align: right;\n",
       "    }\n",
       "</style>\n",
       "<table border=\"1\" class=\"dataframe\">\n",
       "  <thead>\n",
       "    <tr style=\"text-align: right;\">\n",
       "      <th></th>\n",
       "      <th>A</th>\n",
       "      <th>B</th>\n",
       "      <th>C</th>\n",
       "    </tr>\n",
       "  </thead>\n",
       "  <tbody>\n",
       "    <tr>\n",
       "      <th>0</th>\n",
       "      <td>1</td>\n",
       "      <td>a</td>\n",
       "      <td>x</td>\n",
       "    </tr>\n",
       "    <tr>\n",
       "      <th>1</th>\n",
       "      <td>2</td>\n",
       "      <td>b</td>\n",
       "      <td>y</td>\n",
       "    </tr>\n",
       "    <tr>\n",
       "      <th>2</th>\n",
       "      <td>3</td>\n",
       "      <td>c</td>\n",
       "      <td>NaN</td>\n",
       "    </tr>\n",
       "  </tbody>\n",
       "</table>\n",
       "</div>"
      ],
      "text/plain": [
       "   A  B    C\n",
       "0  1  a    x\n",
       "1  2  b    y\n",
       "2  3  c  NaN"
      ]
     },
     "execution_count": 118,
     "metadata": {},
     "output_type": "execute_result"
    }
   ],
   "source": [
    "pd.merge(df1, df2, on='A', how='left')"
   ]
  },
  {
   "cell_type": "markdown",
   "metadata": {},
   "source": [
    "### Right join"
   ]
  },
  {
   "cell_type": "code",
   "execution_count": 119,
   "metadata": {},
   "outputs": [
    {
     "data": {
      "text/html": [
       "<div>\n",
       "<style scoped>\n",
       "    .dataframe tbody tr th:only-of-type {\n",
       "        vertical-align: middle;\n",
       "    }\n",
       "\n",
       "    .dataframe tbody tr th {\n",
       "        vertical-align: top;\n",
       "    }\n",
       "\n",
       "    .dataframe thead th {\n",
       "        text-align: right;\n",
       "    }\n",
       "</style>\n",
       "<table border=\"1\" class=\"dataframe\">\n",
       "  <thead>\n",
       "    <tr style=\"text-align: right;\">\n",
       "      <th></th>\n",
       "      <th>A</th>\n",
       "      <th>B</th>\n",
       "      <th>C</th>\n",
       "    </tr>\n",
       "  </thead>\n",
       "  <tbody>\n",
       "    <tr>\n",
       "      <th>0</th>\n",
       "      <td>1</td>\n",
       "      <td>a</td>\n",
       "      <td>x</td>\n",
       "    </tr>\n",
       "    <tr>\n",
       "      <th>1</th>\n",
       "      <td>2</td>\n",
       "      <td>b</td>\n",
       "      <td>y</td>\n",
       "    </tr>\n",
       "    <tr>\n",
       "      <th>2</th>\n",
       "      <td>4</td>\n",
       "      <td>NaN</td>\n",
       "      <td>z</td>\n",
       "    </tr>\n",
       "  </tbody>\n",
       "</table>\n",
       "</div>"
      ],
      "text/plain": [
       "   A    B  C\n",
       "0  1    a  x\n",
       "1  2    b  y\n",
       "2  4  NaN  z"
      ]
     },
     "execution_count": 119,
     "metadata": {},
     "output_type": "execute_result"
    }
   ],
   "source": [
    "pd.merge(df1, df2, on='A', how='right')"
   ]
  },
  {
   "cell_type": "markdown",
   "metadata": {},
   "source": [
    "---"
   ]
  },
  {
   "cell_type": "markdown",
   "metadata": {},
   "source": [
    "## Try e Except"
   ]
  },
  {
   "cell_type": "markdown",
   "metadata": {},
   "source": [
    "### Filtrando o nome do erro"
   ]
  },
  {
   "cell_type": "code",
   "execution_count": 120,
   "metadata": {},
   "outputs": [
    {
     "name": "stdout",
     "output_type": "stream",
     "text": [
      "2024\n"
     ]
    }
   ],
   "source": [
    "# Filtrando il nome dell'errore\n",
    "\n",
    "anni = [2022, 2023, 2024]\n",
    "\n",
    "try:\n",
    "  anno_atuale = anni[2]\n",
    "  print(anno_atuale)\n",
    "except Exception as exc:\n",
    "  # Encontrando a posição\n",
    "  pisizione_rischio = str(type(exc)).find(\"'\") + 1\n",
    "  posizione_fine = str(type(exc)).find(\">\") - 1\n",
    "  risposta = str(type(exc))[pisizione_rischio:posizione_fine]\n",
    "  # Imprimindo resposta\n",
    "  print(\"L'operazione non può essese eseguita dall'algoritmo!\")\n",
    "  print(\"Errore:\", risposta, \"--> descrizione:\", str(exc))"
   ]
  },
  {
   "cell_type": "markdown",
   "metadata": {},
   "source": [
    "### Tentativa de executar uma operação que pode gerar uma exceção"
   ]
  },
  {
   "cell_type": "code",
   "execution_count": 121,
   "metadata": {},
   "outputs": [
    {
     "name": "stdout",
     "output_type": "stream",
     "text": [
      "Errore: divisione per zero!\n"
     ]
    }
   ],
   "source": [
    "try:\n",
    "    # Tentativo di eseguire un'operazione che potrebbe generare un'eccezione\n",
    "    x = 1 / 0\n",
    "except ZeroDivisionError:\n",
    "    # Cosa fare se si verifica l'eccezione ZeroDivisionError\n",
    "    print(\"Errore: divisione per zero!\")"
   ]
  },
  {
   "cell_type": "code",
   "execution_count": 122,
   "metadata": {},
   "outputs": [
    {
     "name": "stdout",
     "output_type": "stream",
     "text": [
      "4.0\n",
      "Errore: divisione per zero!\n"
     ]
    }
   ],
   "source": [
    "try:\n",
    "    # Tentativo di eseguire un'operazione che potrebbe generare un'eccezione\n",
    "    lista = [1, 0, 2]\n",
    "    for x in lista:\n",
    "        divisione = 4 / x\n",
    "        print(divisione)\n",
    "except ZeroDivisionError:\n",
    "    # Cosa fare se si verifica l'eccezione ZeroDivisionError\n",
    "    print(\"Errore: divisione per zero!\")"
   ]
  },
  {
   "cell_type": "code",
   "execution_count": 123,
   "metadata": {},
   "outputs": [
    {
     "name": "stdout",
     "output_type": "stream",
     "text": [
      "4.0\n",
      "Errore: 4/0 divisione per zero!\n",
      "2.0\n"
     ]
    }
   ],
   "source": [
    "lista = [1, 0, 2]\n",
    "for x in lista:\n",
    "    try:\n",
    "        divisione = 4 / x\n",
    "        print(divisione)\n",
    "    except ZeroDivisionError:\n",
    "        print(f\"Errore: 4/{x} divisione per zero!\")\n",
    "        continue"
   ]
  },
  {
   "cell_type": "markdown",
   "metadata": {},
   "source": [
    "##\n",
    "\n",
    "<p align=\"center\">\n",
    "  Enzo Schitini\n",
    "</p>\n",
    "\n",
    "<p align=\"center\">\n",
    "  Data Scientist • Expert Bubble.io • UX & UI @ Nugus creator\n",
    "</p>"
   ]
  }
 ],
 "metadata": {
  "kernelspec": {
   "display_name": "Python 3",
   "language": "python",
   "name": "python3"
  },
  "language_info": {
   "codemirror_mode": {
    "name": "ipython",
    "version": 3
   },
   "file_extension": ".py",
   "mimetype": "text/x-python",
   "name": "python",
   "nbconvert_exporter": "python",
   "pygments_lexer": "ipython3",
   "version": "3.11.5"
  }
 },
 "nbformat": 4,
 "nbformat_minor": 2
}

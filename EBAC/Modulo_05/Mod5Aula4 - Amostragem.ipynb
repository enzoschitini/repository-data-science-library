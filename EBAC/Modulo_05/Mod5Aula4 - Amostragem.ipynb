{
 "cells": [
  {
   "cell_type": "markdown",
   "metadata": {},
   "source": [
    "# Índice <a name=\"Contents\"></a>\n",
    "1. [Importando bibliotecas](#import)\n",
    "2. [Construindo um dataframe ](#read)\n",
    "3. [Amostragem (sample)](#amostragem)\n",
    "3. [Intro sobre métodos de string](#strings)\n",
    "\n"
   ]
  },
  {
   "cell_type": "markdown",
   "metadata": {},
   "source": [
    "# 1. Importando bibliotecas <a name=\"import\"></a>\n",
    "\n",
    "<div style=\"text-align: right\"\n",
    "     \n",
    "[Voltar ao índice](#Contents)"
   ]
  },
  {
   "cell_type": "code",
   "execution_count": 1,
   "metadata": {
    "ExecuteTime": {
     "end_time": "2021-05-31T09:48:00.524786Z",
     "start_time": "2021-05-31T09:47:57.714385Z"
    }
   },
   "outputs": [],
   "source": [
    "import numpy  as np\n",
    "import pandas as pd"
   ]
  },
  {
   "cell_type": "markdown",
   "metadata": {},
   "source": [
    "# 2. Construindo um dataframe  <a name=\"read\"></a>\n",
    "<div style=\"text-align: right\"\n",
    "     \n",
    "[Voltar ao índice](#Contents)"
   ]
  },
  {
   "cell_type": "code",
   "execution_count": 2,
   "metadata": {
    "ExecuteTime": {
     "end_time": "2021-05-31T09:50:48.945129Z",
     "start_time": "2021-05-31T09:50:48.840662Z"
    }
   },
   "outputs": [],
   "source": [
    "df = pd.DataFrame(np.random.randint(100000, size=(1000000, 10)),\n",
    "             columns=['A', 'B', 'C', 'D', 'E', 'F', 'G', 'H', 'I', 'J'])"
   ]
  },
  {
   "cell_type": "markdown",
   "metadata": {},
   "source": [
    "# 3. Amostragem <a name=\"amostragem\"></a>\n",
    "<div style=\"text-align: right\"\n",
    "     \n",
    "[Voltar ao índice](#Contents)"
   ]
  },
  {
   "cell_type": "code",
   "execution_count": 3,
   "metadata": {
    "ExecuteTime": {
     "end_time": "2021-05-31T09:53:30.287377Z",
     "start_time": "2021-05-31T09:53:30.273391Z"
    }
   },
   "outputs": [
    {
     "data": {
      "text/plain": [
       "(1000000, 10)"
      ]
     },
     "execution_count": 3,
     "metadata": {},
     "output_type": "execute_result"
    }
   ],
   "source": [
    "df.shape"
   ]
  },
  {
   "cell_type": "code",
   "execution_count": 25,
   "metadata": {
    "ExecuteTime": {
     "end_time": "2021-05-31T09:52:47.422509Z",
     "start_time": "2021-05-31T09:52:47.363477Z"
    }
   },
   "outputs": [
    {
     "data": {
      "text/html": [
       "<div>\n",
       "<style scoped>\n",
       "    .dataframe tbody tr th:only-of-type {\n",
       "        vertical-align: middle;\n",
       "    }\n",
       "\n",
       "    .dataframe tbody tr th {\n",
       "        vertical-align: top;\n",
       "    }\n",
       "\n",
       "    .dataframe thead th {\n",
       "        text-align: right;\n",
       "    }\n",
       "</style>\n",
       "<table border=\"1\" class=\"dataframe\">\n",
       "  <thead>\n",
       "    <tr style=\"text-align: right;\">\n",
       "      <th></th>\n",
       "      <th>A</th>\n",
       "      <th>B</th>\n",
       "      <th>C</th>\n",
       "      <th>D</th>\n",
       "      <th>E</th>\n",
       "      <th>F</th>\n",
       "      <th>G</th>\n",
       "      <th>H</th>\n",
       "      <th>I</th>\n",
       "      <th>J</th>\n",
       "    </tr>\n",
       "  </thead>\n",
       "  <tbody>\n",
       "    <tr>\n",
       "      <th>887124</th>\n",
       "      <td>57142</td>\n",
       "      <td>47171</td>\n",
       "      <td>69821</td>\n",
       "      <td>20111</td>\n",
       "      <td>88814</td>\n",
       "      <td>39773</td>\n",
       "      <td>52545</td>\n",
       "      <td>19257</td>\n",
       "      <td>85067</td>\n",
       "      <td>48393</td>\n",
       "    </tr>\n",
       "    <tr>\n",
       "      <th>594876</th>\n",
       "      <td>870</td>\n",
       "      <td>72950</td>\n",
       "      <td>96110</td>\n",
       "      <td>65961</td>\n",
       "      <td>86145</td>\n",
       "      <td>8348</td>\n",
       "      <td>31207</td>\n",
       "      <td>81700</td>\n",
       "      <td>52822</td>\n",
       "      <td>66674</td>\n",
       "    </tr>\n",
       "    <tr>\n",
       "      <th>486871</th>\n",
       "      <td>71302</td>\n",
       "      <td>63187</td>\n",
       "      <td>32093</td>\n",
       "      <td>91527</td>\n",
       "      <td>86221</td>\n",
       "      <td>62194</td>\n",
       "      <td>94309</td>\n",
       "      <td>1689</td>\n",
       "      <td>74095</td>\n",
       "      <td>65360</td>\n",
       "    </tr>\n",
       "    <tr>\n",
       "      <th>637973</th>\n",
       "      <td>38463</td>\n",
       "      <td>66821</td>\n",
       "      <td>48038</td>\n",
       "      <td>78437</td>\n",
       "      <td>4649</td>\n",
       "      <td>70971</td>\n",
       "      <td>45378</td>\n",
       "      <td>81858</td>\n",
       "      <td>50997</td>\n",
       "      <td>11934</td>\n",
       "    </tr>\n",
       "    <tr>\n",
       "      <th>279547</th>\n",
       "      <td>9191</td>\n",
       "      <td>50682</td>\n",
       "      <td>42013</td>\n",
       "      <td>76870</td>\n",
       "      <td>85122</td>\n",
       "      <td>97669</td>\n",
       "      <td>65954</td>\n",
       "      <td>2906</td>\n",
       "      <td>6090</td>\n",
       "      <td>44600</td>\n",
       "    </tr>\n",
       "    <tr>\n",
       "      <th>37835</th>\n",
       "      <td>71057</td>\n",
       "      <td>65328</td>\n",
       "      <td>82735</td>\n",
       "      <td>57841</td>\n",
       "      <td>78468</td>\n",
       "      <td>44270</td>\n",
       "      <td>50624</td>\n",
       "      <td>70216</td>\n",
       "      <td>38714</td>\n",
       "      <td>44921</td>\n",
       "    </tr>\n",
       "    <tr>\n",
       "      <th>397742</th>\n",
       "      <td>83523</td>\n",
       "      <td>80737</td>\n",
       "      <td>65610</td>\n",
       "      <td>91905</td>\n",
       "      <td>55306</td>\n",
       "      <td>47125</td>\n",
       "      <td>41570</td>\n",
       "      <td>87781</td>\n",
       "      <td>67276</td>\n",
       "      <td>45285</td>\n",
       "    </tr>\n",
       "    <tr>\n",
       "      <th>184640</th>\n",
       "      <td>6967</td>\n",
       "      <td>88889</td>\n",
       "      <td>59302</td>\n",
       "      <td>19780</td>\n",
       "      <td>29914</td>\n",
       "      <td>44541</td>\n",
       "      <td>82363</td>\n",
       "      <td>11760</td>\n",
       "      <td>20137</td>\n",
       "      <td>96851</td>\n",
       "    </tr>\n",
       "    <tr>\n",
       "      <th>92939</th>\n",
       "      <td>54940</td>\n",
       "      <td>61978</td>\n",
       "      <td>88704</td>\n",
       "      <td>13306</td>\n",
       "      <td>32934</td>\n",
       "      <td>23470</td>\n",
       "      <td>59415</td>\n",
       "      <td>46256</td>\n",
       "      <td>38043</td>\n",
       "      <td>65909</td>\n",
       "    </tr>\n",
       "    <tr>\n",
       "      <th>139964</th>\n",
       "      <td>75780</td>\n",
       "      <td>13161</td>\n",
       "      <td>648</td>\n",
       "      <td>34936</td>\n",
       "      <td>52492</td>\n",
       "      <td>11162</td>\n",
       "      <td>57389</td>\n",
       "      <td>56898</td>\n",
       "      <td>51187</td>\n",
       "      <td>54083</td>\n",
       "    </tr>\n",
       "  </tbody>\n",
       "</table>\n",
       "</div>"
      ],
      "text/plain": [
       "            A      B      C      D      E      F      G      H      I      J\n",
       "887124  57142  47171  69821  20111  88814  39773  52545  19257  85067  48393\n",
       "594876    870  72950  96110  65961  86145   8348  31207  81700  52822  66674\n",
       "486871  71302  63187  32093  91527  86221  62194  94309   1689  74095  65360\n",
       "637973  38463  66821  48038  78437   4649  70971  45378  81858  50997  11934\n",
       "279547   9191  50682  42013  76870  85122  97669  65954   2906   6090  44600\n",
       "37835   71057  65328  82735  57841  78468  44270  50624  70216  38714  44921\n",
       "397742  83523  80737  65610  91905  55306  47125  41570  87781  67276  45285\n",
       "184640   6967  88889  59302  19780  29914  44541  82363  11760  20137  96851\n",
       "92939   54940  61978  88704  13306  32934  23470  59415  46256  38043  65909\n",
       "139964  75780  13161    648  34936  52492  11162  57389  56898  51187  54083"
      ]
     },
     "execution_count": 25,
     "metadata": {},
     "output_type": "execute_result"
    }
   ],
   "source": [
    "df.sample(10)"
   ]
  },
  {
   "cell_type": "code",
   "execution_count": 28,
   "metadata": {
    "ExecuteTime": {
     "end_time": "2021-05-31T09:52:50.016696Z",
     "start_time": "2021-05-31T09:52:49.955731Z"
    },
    "scrolled": true
   },
   "outputs": [
    {
     "data": {
      "text/html": [
       "<div>\n",
       "<style scoped>\n",
       "    .dataframe tbody tr th:only-of-type {\n",
       "        vertical-align: middle;\n",
       "    }\n",
       "\n",
       "    .dataframe tbody tr th {\n",
       "        vertical-align: top;\n",
       "    }\n",
       "\n",
       "    .dataframe thead th {\n",
       "        text-align: right;\n",
       "    }\n",
       "</style>\n",
       "<table border=\"1\" class=\"dataframe\">\n",
       "  <thead>\n",
       "    <tr style=\"text-align: right;\">\n",
       "      <th></th>\n",
       "      <th>A</th>\n",
       "      <th>B</th>\n",
       "      <th>C</th>\n",
       "      <th>D</th>\n",
       "      <th>E</th>\n",
       "      <th>F</th>\n",
       "      <th>G</th>\n",
       "      <th>H</th>\n",
       "      <th>I</th>\n",
       "      <th>J</th>\n",
       "    </tr>\n",
       "  </thead>\n",
       "  <tbody>\n",
       "    <tr>\n",
       "      <th>617759</th>\n",
       "      <td>93185</td>\n",
       "      <td>71280</td>\n",
       "      <td>70946</td>\n",
       "      <td>16123</td>\n",
       "      <td>76160</td>\n",
       "      <td>44741</td>\n",
       "      <td>70421</td>\n",
       "      <td>50161</td>\n",
       "      <td>35383</td>\n",
       "      <td>52904</td>\n",
       "    </tr>\n",
       "    <tr>\n",
       "      <th>693227</th>\n",
       "      <td>98399</td>\n",
       "      <td>30223</td>\n",
       "      <td>97019</td>\n",
       "      <td>47666</td>\n",
       "      <td>86657</td>\n",
       "      <td>43194</td>\n",
       "      <td>66083</td>\n",
       "      <td>66825</td>\n",
       "      <td>8069</td>\n",
       "      <td>86874</td>\n",
       "    </tr>\n",
       "    <tr>\n",
       "      <th>906065</th>\n",
       "      <td>29037</td>\n",
       "      <td>1460</td>\n",
       "      <td>57363</td>\n",
       "      <td>52024</td>\n",
       "      <td>44913</td>\n",
       "      <td>26418</td>\n",
       "      <td>61461</td>\n",
       "      <td>12201</td>\n",
       "      <td>26399</td>\n",
       "      <td>48603</td>\n",
       "    </tr>\n",
       "    <tr>\n",
       "      <th>828507</th>\n",
       "      <td>40509</td>\n",
       "      <td>79866</td>\n",
       "      <td>98457</td>\n",
       "      <td>52340</td>\n",
       "      <td>55861</td>\n",
       "      <td>86532</td>\n",
       "      <td>86643</td>\n",
       "      <td>17923</td>\n",
       "      <td>41197</td>\n",
       "      <td>88984</td>\n",
       "    </tr>\n",
       "    <tr>\n",
       "      <th>869730</th>\n",
       "      <td>12584</td>\n",
       "      <td>56116</td>\n",
       "      <td>61182</td>\n",
       "      <td>30264</td>\n",
       "      <td>92039</td>\n",
       "      <td>71759</td>\n",
       "      <td>88813</td>\n",
       "      <td>48319</td>\n",
       "      <td>64001</td>\n",
       "      <td>23663</td>\n",
       "    </tr>\n",
       "    <tr>\n",
       "      <th>147081</th>\n",
       "      <td>79344</td>\n",
       "      <td>88113</td>\n",
       "      <td>53268</td>\n",
       "      <td>83223</td>\n",
       "      <td>11140</td>\n",
       "      <td>14075</td>\n",
       "      <td>10030</td>\n",
       "      <td>22431</td>\n",
       "      <td>46898</td>\n",
       "      <td>46446</td>\n",
       "    </tr>\n",
       "    <tr>\n",
       "      <th>779428</th>\n",
       "      <td>56959</td>\n",
       "      <td>23756</td>\n",
       "      <td>61814</td>\n",
       "      <td>3180</td>\n",
       "      <td>71897</td>\n",
       "      <td>90030</td>\n",
       "      <td>19077</td>\n",
       "      <td>22206</td>\n",
       "      <td>45127</td>\n",
       "      <td>51213</td>\n",
       "    </tr>\n",
       "    <tr>\n",
       "      <th>485973</th>\n",
       "      <td>87996</td>\n",
       "      <td>90644</td>\n",
       "      <td>19430</td>\n",
       "      <td>59246</td>\n",
       "      <td>1201</td>\n",
       "      <td>61830</td>\n",
       "      <td>65312</td>\n",
       "      <td>53912</td>\n",
       "      <td>94875</td>\n",
       "      <td>65627</td>\n",
       "    </tr>\n",
       "    <tr>\n",
       "      <th>30697</th>\n",
       "      <td>73852</td>\n",
       "      <td>39505</td>\n",
       "      <td>50628</td>\n",
       "      <td>49554</td>\n",
       "      <td>88747</td>\n",
       "      <td>51736</td>\n",
       "      <td>28397</td>\n",
       "      <td>78714</td>\n",
       "      <td>21351</td>\n",
       "      <td>51338</td>\n",
       "    </tr>\n",
       "    <tr>\n",
       "      <th>306669</th>\n",
       "      <td>30776</td>\n",
       "      <td>71796</td>\n",
       "      <td>2896</td>\n",
       "      <td>72447</td>\n",
       "      <td>24173</td>\n",
       "      <td>3478</td>\n",
       "      <td>20362</td>\n",
       "      <td>5547</td>\n",
       "      <td>29283</td>\n",
       "      <td>50442</td>\n",
       "    </tr>\n",
       "  </tbody>\n",
       "</table>\n",
       "</div>"
      ],
      "text/plain": [
       "            A      B      C      D      E      F      G      H      I      J\n",
       "617759  93185  71280  70946  16123  76160  44741  70421  50161  35383  52904\n",
       "693227  98399  30223  97019  47666  86657  43194  66083  66825   8069  86874\n",
       "906065  29037   1460  57363  52024  44913  26418  61461  12201  26399  48603\n",
       "828507  40509  79866  98457  52340  55861  86532  86643  17923  41197  88984\n",
       "869730  12584  56116  61182  30264  92039  71759  88813  48319  64001  23663\n",
       "147081  79344  88113  53268  83223  11140  14075  10030  22431  46898  46446\n",
       "779428  56959  23756  61814   3180  71897  90030  19077  22206  45127  51213\n",
       "485973  87996  90644  19430  59246   1201  61830  65312  53912  94875  65627\n",
       "30697   73852  39505  50628  49554  88747  51736  28397  78714  21351  51338\n",
       "306669  30776  71796   2896  72447  24173   3478  20362   5547  29283  50442"
      ]
     },
     "execution_count": 28,
     "metadata": {},
     "output_type": "execute_result"
    }
   ],
   "source": [
    "df.sample(10, random_state=100)"
   ]
  },
  {
   "cell_type": "code",
   "execution_count": 6,
   "metadata": {
    "ExecuteTime": {
     "end_time": "2021-05-31T09:53:12.039004Z",
     "start_time": "2021-05-31T09:53:11.970040Z"
    },
    "scrolled": false
   },
   "outputs": [
    {
     "data": {
      "text/html": [
       "<div>\n",
       "<style scoped>\n",
       "    .dataframe tbody tr th:only-of-type {\n",
       "        vertical-align: middle;\n",
       "    }\n",
       "\n",
       "    .dataframe tbody tr th {\n",
       "        vertical-align: top;\n",
       "    }\n",
       "\n",
       "    .dataframe thead th {\n",
       "        text-align: right;\n",
       "    }\n",
       "</style>\n",
       "<table border=\"1\" class=\"dataframe\">\n",
       "  <thead>\n",
       "    <tr style=\"text-align: right;\">\n",
       "      <th></th>\n",
       "      <th>A</th>\n",
       "      <th>B</th>\n",
       "      <th>C</th>\n",
       "      <th>D</th>\n",
       "      <th>E</th>\n",
       "      <th>F</th>\n",
       "      <th>G</th>\n",
       "      <th>H</th>\n",
       "      <th>I</th>\n",
       "      <th>J</th>\n",
       "    </tr>\n",
       "  </thead>\n",
       "  <tbody>\n",
       "    <tr>\n",
       "      <th>617759</th>\n",
       "      <td>93185</td>\n",
       "      <td>71280</td>\n",
       "      <td>70946</td>\n",
       "      <td>16123</td>\n",
       "      <td>76160</td>\n",
       "      <td>44741</td>\n",
       "      <td>70421</td>\n",
       "      <td>50161</td>\n",
       "      <td>35383</td>\n",
       "      <td>52904</td>\n",
       "    </tr>\n",
       "    <tr>\n",
       "      <th>693227</th>\n",
       "      <td>98399</td>\n",
       "      <td>30223</td>\n",
       "      <td>97019</td>\n",
       "      <td>47666</td>\n",
       "      <td>86657</td>\n",
       "      <td>43194</td>\n",
       "      <td>66083</td>\n",
       "      <td>66825</td>\n",
       "      <td>8069</td>\n",
       "      <td>86874</td>\n",
       "    </tr>\n",
       "    <tr>\n",
       "      <th>906065</th>\n",
       "      <td>29037</td>\n",
       "      <td>1460</td>\n",
       "      <td>57363</td>\n",
       "      <td>52024</td>\n",
       "      <td>44913</td>\n",
       "      <td>26418</td>\n",
       "      <td>61461</td>\n",
       "      <td>12201</td>\n",
       "      <td>26399</td>\n",
       "      <td>48603</td>\n",
       "    </tr>\n",
       "    <tr>\n",
       "      <th>828507</th>\n",
       "      <td>40509</td>\n",
       "      <td>79866</td>\n",
       "      <td>98457</td>\n",
       "      <td>52340</td>\n",
       "      <td>55861</td>\n",
       "      <td>86532</td>\n",
       "      <td>86643</td>\n",
       "      <td>17923</td>\n",
       "      <td>41197</td>\n",
       "      <td>88984</td>\n",
       "    </tr>\n",
       "    <tr>\n",
       "      <th>869730</th>\n",
       "      <td>12584</td>\n",
       "      <td>56116</td>\n",
       "      <td>61182</td>\n",
       "      <td>30264</td>\n",
       "      <td>92039</td>\n",
       "      <td>71759</td>\n",
       "      <td>88813</td>\n",
       "      <td>48319</td>\n",
       "      <td>64001</td>\n",
       "      <td>23663</td>\n",
       "    </tr>\n",
       "    <tr>\n",
       "      <th>...</th>\n",
       "      <td>...</td>\n",
       "      <td>...</td>\n",
       "      <td>...</td>\n",
       "      <td>...</td>\n",
       "      <td>...</td>\n",
       "      <td>...</td>\n",
       "      <td>...</td>\n",
       "      <td>...</td>\n",
       "      <td>...</td>\n",
       "      <td>...</td>\n",
       "    </tr>\n",
       "    <tr>\n",
       "      <th>599633</th>\n",
       "      <td>99254</td>\n",
       "      <td>63384</td>\n",
       "      <td>36241</td>\n",
       "      <td>48163</td>\n",
       "      <td>61651</td>\n",
       "      <td>91166</td>\n",
       "      <td>33123</td>\n",
       "      <td>41440</td>\n",
       "      <td>66392</td>\n",
       "      <td>20699</td>\n",
       "    </tr>\n",
       "    <tr>\n",
       "      <th>103907</th>\n",
       "      <td>23762</td>\n",
       "      <td>37936</td>\n",
       "      <td>81953</td>\n",
       "      <td>47063</td>\n",
       "      <td>95845</td>\n",
       "      <td>44798</td>\n",
       "      <td>10258</td>\n",
       "      <td>39240</td>\n",
       "      <td>16017</td>\n",
       "      <td>80673</td>\n",
       "    </tr>\n",
       "    <tr>\n",
       "      <th>536846</th>\n",
       "      <td>67269</td>\n",
       "      <td>25978</td>\n",
       "      <td>14138</td>\n",
       "      <td>80126</td>\n",
       "      <td>28454</td>\n",
       "      <td>70549</td>\n",
       "      <td>7670</td>\n",
       "      <td>65642</td>\n",
       "      <td>76385</td>\n",
       "      <td>61520</td>\n",
       "    </tr>\n",
       "    <tr>\n",
       "      <th>68354</th>\n",
       "      <td>57666</td>\n",
       "      <td>65505</td>\n",
       "      <td>74547</td>\n",
       "      <td>36577</td>\n",
       "      <td>42488</td>\n",
       "      <td>49482</td>\n",
       "      <td>27068</td>\n",
       "      <td>85722</td>\n",
       "      <td>76398</td>\n",
       "      <td>40037</td>\n",
       "    </tr>\n",
       "    <tr>\n",
       "      <th>762302</th>\n",
       "      <td>96256</td>\n",
       "      <td>14073</td>\n",
       "      <td>22123</td>\n",
       "      <td>55009</td>\n",
       "      <td>55786</td>\n",
       "      <td>40800</td>\n",
       "      <td>84692</td>\n",
       "      <td>13252</td>\n",
       "      <td>40606</td>\n",
       "      <td>4794</td>\n",
       "    </tr>\n",
       "  </tbody>\n",
       "</table>\n",
       "<p>100000 rows × 10 columns</p>\n",
       "</div>"
      ],
      "text/plain": [
       "            A      B      C      D      E      F      G      H      I      J\n",
       "617759  93185  71280  70946  16123  76160  44741  70421  50161  35383  52904\n",
       "693227  98399  30223  97019  47666  86657  43194  66083  66825   8069  86874\n",
       "906065  29037   1460  57363  52024  44913  26418  61461  12201  26399  48603\n",
       "828507  40509  79866  98457  52340  55861  86532  86643  17923  41197  88984\n",
       "869730  12584  56116  61182  30264  92039  71759  88813  48319  64001  23663\n",
       "...       ...    ...    ...    ...    ...    ...    ...    ...    ...    ...\n",
       "599633  99254  63384  36241  48163  61651  91166  33123  41440  66392  20699\n",
       "103907  23762  37936  81953  47063  95845  44798  10258  39240  16017  80673\n",
       "536846  67269  25978  14138  80126  28454  70549   7670  65642  76385  61520\n",
       "68354   57666  65505  74547  36577  42488  49482  27068  85722  76398  40037\n",
       "762302  96256  14073  22123  55009  55786  40800  84692  13252  40606   4794\n",
       "\n",
       "[100000 rows x 10 columns]"
      ]
     },
     "execution_count": 6,
     "metadata": {},
     "output_type": "execute_result"
    }
   ],
   "source": [
    "df.sample(frac=0.1, random_state=100)"
   ]
  },
  {
   "cell_type": "markdown",
   "metadata": {},
   "source": [
    "# 4. Manipulação de strings - métodos <a name=\"strings\"></a>\n",
    "<div style=\"text-align: right\"\n",
    "     \n",
    "[Voltar ao índice](#Contents)"
   ]
  },
  {
   "cell_type": "code",
   "execution_count": 7,
   "metadata": {
    "ExecuteTime": {
     "end_time": "2021-05-31T10:15:36.733921Z",
     "start_time": "2021-05-31T10:15:36.725926Z"
    }
   },
   "outputs": [],
   "source": [
    "texto = 'texto'"
   ]
  },
  {
   "cell_type": "code",
   "execution_count": 8,
   "metadata": {
    "ExecuteTime": {
     "end_time": "2021-05-31T10:15:41.550985Z",
     "start_time": "2021-05-31T10:15:41.536019Z"
    }
   },
   "outputs": [
    {
     "data": {
      "text/plain": [
       "'otxet'"
      ]
     },
     "execution_count": 8,
     "metadata": {},
     "output_type": "execute_result"
    }
   ],
   "source": [
    "texto[::-1]"
   ]
  },
  {
   "cell_type": "code",
   "execution_count": 9,
   "metadata": {
    "ExecuteTime": {
     "end_time": "2021-05-31T10:19:25.536743Z",
     "start_time": "2021-05-31T10:19:25.522752Z"
    }
   },
   "outputs": [],
   "source": [
    "palindromo = 'apos a sopa'"
   ]
  },
  {
   "cell_type": "code",
   "execution_count": 10,
   "metadata": {
    "ExecuteTime": {
     "end_time": "2021-05-31T10:19:26.240953Z",
     "start_time": "2021-05-31T10:19:26.225962Z"
    }
   },
   "outputs": [
    {
     "data": {
      "text/plain": [
       "'apos a sopa'"
      ]
     },
     "execution_count": 10,
     "metadata": {},
     "output_type": "execute_result"
    }
   ],
   "source": [
    "palindromo[::-1]"
   ]
  },
  {
   "cell_type": "code",
   "execution_count": 11,
   "metadata": {
    "ExecuteTime": {
     "end_time": "2021-06-01T09:56:36.677981Z",
     "start_time": "2021-06-01T09:56:36.662980Z"
    }
   },
   "outputs": [
    {
     "data": {
      "text/plain": [
       "'Texto'"
      ]
     },
     "execution_count": 11,
     "metadata": {},
     "output_type": "execute_result"
    }
   ],
   "source": [
    "texto = 'teXTO'\n",
    "texto.capitalize()"
   ]
  },
  {
   "cell_type": "code",
   "execution_count": 12,
   "metadata": {
    "ExecuteTime": {
     "end_time": "2021-06-01T09:56:49.873292Z",
     "start_time": "2021-06-01T09:56:49.864296Z"
    }
   },
   "outputs": [
    {
     "data": {
      "text/plain": [
       "'texto'"
      ]
     },
     "execution_count": 12,
     "metadata": {},
     "output_type": "execute_result"
    }
   ],
   "source": [
    "texto.lower()"
   ]
  },
  {
   "cell_type": "code",
   "execution_count": 13,
   "metadata": {
    "ExecuteTime": {
     "end_time": "2021-06-01T09:59:28.909681Z",
     "start_time": "2021-06-01T09:59:28.895687Z"
    }
   },
   "outputs": [
    {
     "data": {
      "text/plain": [
       "'TEXTO'"
      ]
     },
     "execution_count": 13,
     "metadata": {},
     "output_type": "execute_result"
    }
   ],
   "source": [
    "texto.upper()"
   ]
  },
  {
   "cell_type": "code",
   "execution_count": 14,
   "metadata": {
    "ExecuteTime": {
     "end_time": "2021-06-01T10:02:02.244478Z",
     "start_time": "2021-06-01T10:02:02.231486Z"
    }
   },
   "outputs": [
    {
     "data": {
      "text/plain": [
       "2"
      ]
     },
     "execution_count": 14,
     "metadata": {},
     "output_type": "execute_result"
    }
   ],
   "source": [
    "# S.find(sub[, start[, end]]) -> int\n",
    "texto.find('X')"
   ]
  },
  {
   "cell_type": "code",
   "execution_count": 15,
   "metadata": {
    "ExecuteTime": {
     "end_time": "2021-06-01T10:16:22.092756Z",
     "start_time": "2021-06-01T10:16:22.076776Z"
    }
   },
   "outputs": [
    {
     "data": {
      "text/plain": [
       "'X'"
      ]
     },
     "execution_count": 15,
     "metadata": {},
     "output_type": "execute_result"
    }
   ],
   "source": [
    "texto[2]"
   ]
  },
  {
   "cell_type": "code",
   "execution_count": 16,
   "metadata": {
    "ExecuteTime": {
     "end_time": "2021-06-01T10:02:03.055975Z",
     "start_time": "2021-06-01T10:02:03.038984Z"
    }
   },
   "outputs": [
    {
     "data": {
      "text/plain": [
       "-1"
      ]
     },
     "execution_count": 16,
     "metadata": {},
     "output_type": "execute_result"
    }
   ],
   "source": [
    "#S.find(sub[, start[, end]]) -> int\n",
    "texto.find('x')"
   ]
  },
  {
   "cell_type": "code",
   "execution_count": 17,
   "metadata": {
    "ExecuteTime": {
     "end_time": "2021-06-01T10:07:22.993769Z",
     "start_time": "2021-06-01T10:07:22.976796Z"
    }
   },
   "outputs": [
    {
     "data": {
      "text/plain": [
       "'testa'"
      ]
     },
     "execution_count": 17,
     "metadata": {},
     "output_type": "execute_result"
    }
   ],
   "source": [
    "#texto.replace(antigo, novo)\n",
    "texto.replace('XTO','sta')"
   ]
  },
  {
   "cell_type": "code",
   "execution_count": null,
   "metadata": {},
   "outputs": [],
   "source": []
  },
  {
   "cell_type": "code",
   "execution_count": null,
   "metadata": {},
   "outputs": [],
   "source": []
  }
 ],
 "metadata": {
  "kernelspec": {
   "display_name": "Python 3",
   "language": "python",
   "name": "python3"
  },
  "language_info": {
   "codemirror_mode": {
    "name": "ipython",
    "version": 3
   },
   "file_extension": ".py",
   "mimetype": "text/x-python",
   "name": "python",
   "nbconvert_exporter": "python",
   "pygments_lexer": "ipython3",
   "version": "3.11.5"
  },
  "varInspector": {
   "cols": {
    "lenName": 16,
    "lenType": 16,
    "lenVar": 40
   },
   "kernels_config": {
    "python": {
     "delete_cmd_postfix": "",
     "delete_cmd_prefix": "del ",
     "library": "var_list.py",
     "varRefreshCmd": "print(var_dic_list())"
    },
    "r": {
     "delete_cmd_postfix": ") ",
     "delete_cmd_prefix": "rm(",
     "library": "var_list.r",
     "varRefreshCmd": "cat(var_dic_list()) "
    }
   },
   "types_to_exclude": [
    "module",
    "function",
    "builtin_function_or_method",
    "instance",
    "_Feature"
   ],
   "window_display": false
  }
 },
 "nbformat": 4,
 "nbformat_minor": 4
}

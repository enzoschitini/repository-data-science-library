{
 "cells": [
  {
   "cell_type": "markdown",
   "metadata": {},
   "source": [
    "# EBAC - Regressão II - regressão múltipla\n",
    "\n",
    "## Tarefa I"
   ]
  },
  {
   "cell_type": "markdown",
   "metadata": {},
   "source": [
    "#### Previsão de renda II\n",
    "\n",
    "Vamos continuar trabalhando com a base 'previsao_de_renda.csv', que é a base do seu próximo projeto. Vamos usar os recursos que vimos até aqui nesta base.\n",
    "\n",
    "|variavel|descrição|\n",
    "|-|-|\n",
    "|data_ref                | Data de referência de coleta das variáveis |\n",
    "|index                   | Código de identificação do cliente|\n",
    "|sexo                    | Sexo do cliente|\n",
    "|posse_de_veiculo        | Indica se o cliente possui veículo|\n",
    "|posse_de_imovel         | Indica se o cliente possui imóvel|\n",
    "|qtd_filhos              | Quantidade de filhos do cliente|\n",
    "|tipo_renda              | Tipo de renda do cliente|\n",
    "|educacao                | Grau de instrução do cliente|\n",
    "|estado_civil            | Estado civil do cliente|\n",
    "|tipo_residencia         | Tipo de residência do cliente (própria, alugada etc)|\n",
    "|idade                   | Idade do cliente|\n",
    "|tempo_emprego           | Tempo no emprego atual|\n",
    "|qt_pessoas_residencia   | Quantidade de pessoas que moram na residência|\n",
    "|renda                   | Renda em reais|"
   ]
  },
  {
   "cell_type": "code",
   "execution_count": 99,
   "metadata": {},
   "outputs": [],
   "source": [
    "from sklearn.model_selection import train_test_split\n",
    "from sklearn.linear_model import LinearRegression\n",
    "import pandas as pd\n",
    "\n",
    "from sklearn.linear_model import Ridge\n",
    "from sklearn.linear_model import Lasso"
   ]
  },
  {
   "cell_type": "code",
   "execution_count": 100,
   "metadata": {},
   "outputs": [],
   "source": [
    "df = pd.read_csv('previsao_de_renda.csv')\n",
    "df = df.dropna()"
   ]
  },
  {
   "cell_type": "code",
   "execution_count": 101,
   "metadata": {},
   "outputs": [
    {
     "name": "stdout",
     "output_type": "stream",
     "text": [
      "<class 'pandas.core.frame.DataFrame'>\n",
      "Index: 12427 entries, 0 to 14999\n",
      "Data columns (total 15 columns):\n",
      " #   Column                 Non-Null Count  Dtype  \n",
      "---  ------                 --------------  -----  \n",
      " 0   Unnamed: 0             12427 non-null  int64  \n",
      " 1   data_ref               12427 non-null  object \n",
      " 2   id_cliente             12427 non-null  int64  \n",
      " 3   sexo                   12427 non-null  object \n",
      " 4   posse_de_veiculo       12427 non-null  bool   \n",
      " 5   posse_de_imovel        12427 non-null  bool   \n",
      " 6   qtd_filhos             12427 non-null  int64  \n",
      " 7   tipo_renda             12427 non-null  object \n",
      " 8   educacao               12427 non-null  object \n",
      " 9   estado_civil           12427 non-null  object \n",
      " 10  tipo_residencia        12427 non-null  object \n",
      " 11  idade                  12427 non-null  int64  \n",
      " 12  tempo_emprego          12427 non-null  float64\n",
      " 13  qt_pessoas_residencia  12427 non-null  float64\n",
      " 14  renda                  12427 non-null  float64\n",
      "dtypes: bool(2), float64(3), int64(4), object(6)\n",
      "memory usage: 1.4+ MB\n"
     ]
    }
   ],
   "source": [
    "df.info()"
   ]
  },
  {
   "cell_type": "code",
   "execution_count": 102,
   "metadata": {},
   "outputs": [],
   "source": [
    "data = df"
   ]
  },
  {
   "cell_type": "markdown",
   "metadata": {},
   "source": [
    "1. Separe a base em treinamento e teste (25% para teste, 75% para treinamento).\n",
    "2. Rode uma regularização *ridge* com alpha = [0, 0.001, 0.005, 0.01, 0.05, 0.1] e avalie o $R^2$ na base de testes. Qual o melhor modelo?\n",
    "3. Faça o mesmo que no passo 2, com uma regressão *LASSO*. Qual método chega a um melhor resultado?\n",
    "4. Rode um modelo *stepwise*. Avalie o $R^2$ na vase de testes. Qual o melhor resultado?\n",
    "5. Compare os parâmetros e avalie eventuais diferenças. Qual modelo você acha o melhor de todos?\n",
    "6. Partindo dos modelos que você ajustou, tente melhorar o $R^2$ na base de testes. Use a criatividade, veja se consegue inserir alguma transformação ou combinação de variáveis.\n",
    "7. Ajuste uma árvore de regressão e veja se consegue um $R^2$ melhor com ela."
   ]
  },
  {
   "cell_type": "code",
   "execution_count": 103,
   "metadata": {},
   "outputs": [
    {
     "name": "stdout",
     "output_type": "stream",
     "text": [
      "Score do modelo: 0.29809139230903403\n"
     ]
    }
   ],
   "source": [
    "# Separar as features (X) e o target (y)\n",
    "X = data.drop(columns=[\"renda\", \"Unnamed: 0\", \"data_ref\"])  # Remover a coluna alvo \"renda\"\n",
    "y = data[\"renda\"]\n",
    "\n",
    "# Converter variáveis categóricas em variáveis dummy\n",
    "X = pd.get_dummies(X)\n",
    "\n",
    "# Dividir os dados codificados em conjuntos de treinamento e teste\n",
    "X_train, X_test, y_train, y_test = train_test_split(X, y, test_size=0.25, random_state=42)\n",
    "\n",
    "# Criar e treinar o modelo de regressão linear com os dados codificados\n",
    "modelo = LinearRegression()\n",
    "modelo.fit(X_train, y_train)\n",
    "\n",
    "# Avaliar o desempenho do modelo usando os dados de teste\n",
    "score = modelo.score(X_test, y_test)\n",
    "print(\"Score do modelo:\", score)"
   ]
  },
  {
   "cell_type": "code",
   "execution_count": 104,
   "metadata": {},
   "outputs": [
    {
     "name": "stdout",
     "output_type": "stream",
     "text": [
      "Resultados do R-quadrado:\n",
      "Alpha=0: R-quadrado=0.29817407886728664\n",
      "Alpha=0.001: R-quadrado=0.29809143137814753\n",
      "Alpha=0.005: R-quadrado=0.2980915875861735\n",
      "Alpha=0.01: R-quadrado=0.29809178269240133\n",
      "Alpha=0.05: R-quadrado=0.29809333743004673\n",
      "Alpha=0.1: R-quadrado=0.2980952657629824\n",
      "\n",
      "Melhor modelo:\n",
      "Alpha=0: R-quadrado=0.29817407886728664\n"
     ]
    }
   ],
   "source": [
    "# Definir os valores de alpha\n",
    "alphas = [0, 0.001, 0.005, 0.01, 0.05, 0.1]\n",
    "\n",
    "# Armazenar os resultados do R-quadrado para cada valor de alpha\n",
    "resultados_r_quadrado = {}\n",
    "\n",
    "for alpha in alphas:\n",
    "    # Criar e treinar o modelo Ridge com o valor de alpha atual\n",
    "    modelo = Ridge(alpha=alpha)\n",
    "    modelo.fit(X_train, y_train)\n",
    "    \n",
    "    # Avaliar o desempenho do modelo usando os dados de teste e calcular o R-quadrado\n",
    "    score = modelo.score(X_test, y_test)\n",
    "    \n",
    "    # Armazenar o R-quadrado para o valor de alpha atual\n",
    "    resultados_r_quadrado[alpha] = score\n",
    "\n",
    "# Encontrar o melhor modelo (aquele com o maior R-quadrado)\n",
    "melhor_alpha = max(resultados_r_quadrado, key=resultados_r_quadrado.get)\n",
    "melhor_score = resultados_r_quadrado[melhor_alpha]\n",
    "\n",
    "print(\"Resultados do R-quadrado:\")\n",
    "for alpha, score in resultados_r_quadrado.items():\n",
    "    print(f\"Alpha={alpha}: R-quadrado={score}\")\n",
    "\n",
    "print(\"\\nMelhor modelo:\")\n",
    "print(f\"Alpha={melhor_alpha}: R-quadrado={melhor_score}\")"
   ]
  },
  {
   "cell_type": "code",
   "execution_count": 105,
   "metadata": {},
   "outputs": [
    {
     "name": "stderr",
     "output_type": "stream",
     "text": [
      "c:\\Users\\Soldado\\AppData\\Local\\Programs\\Python\\Python311\\Lib\\site-packages\\sklearn\\base.py:1152: UserWarning: With alpha=0, this algorithm does not converge well. You are advised to use the LinearRegression estimator\n",
      "  return fit_method(estimator, *args, **kwargs)\n",
      "c:\\Users\\Soldado\\AppData\\Local\\Programs\\Python\\Python311\\Lib\\site-packages\\sklearn\\linear_model\\_coordinate_descent.py:628: UserWarning: Coordinate descent with no regularization may lead to unexpected results and is discouraged.\n",
      "  model = cd_fast.enet_coordinate_descent(\n",
      "c:\\Users\\Soldado\\AppData\\Local\\Programs\\Python\\Python311\\Lib\\site-packages\\sklearn\\linear_model\\_coordinate_descent.py:628: ConvergenceWarning: Objective did not converge. You might want to increase the number of iterations, check the scale of the features or consider increasing regularisation. Duality gap: 3.036e+11, tolerance: 8.060e+07 Linear regression models with null weight for the l1 regularization term are more efficiently fitted using one of the solvers implemented in sklearn.linear_model.Ridge/RidgeCV instead.\n",
      "  model = cd_fast.enet_coordinate_descent(\n",
      "c:\\Users\\Soldado\\AppData\\Local\\Programs\\Python\\Python311\\Lib\\site-packages\\sklearn\\linear_model\\_coordinate_descent.py:628: ConvergenceWarning: Objective did not converge. You might want to increase the number of iterations, check the scale of the features or consider increasing regularisation. Duality gap: 2.938e+11, tolerance: 8.060e+07\n",
      "  model = cd_fast.enet_coordinate_descent(\n",
      "c:\\Users\\Soldado\\AppData\\Local\\Programs\\Python\\Python311\\Lib\\site-packages\\sklearn\\linear_model\\_coordinate_descent.py:628: ConvergenceWarning: Objective did not converge. You might want to increase the number of iterations, check the scale of the features or consider increasing regularisation. Duality gap: 2.527e+11, tolerance: 8.060e+07\n",
      "  model = cd_fast.enet_coordinate_descent(\n",
      "c:\\Users\\Soldado\\AppData\\Local\\Programs\\Python\\Python311\\Lib\\site-packages\\sklearn\\linear_model\\_coordinate_descent.py:628: ConvergenceWarning: Objective did not converge. You might want to increase the number of iterations, check the scale of the features or consider increasing regularisation. Duality gap: 1.974e+11, tolerance: 8.060e+07\n",
      "  model = cd_fast.enet_coordinate_descent(\n",
      "c:\\Users\\Soldado\\AppData\\Local\\Programs\\Python\\Python311\\Lib\\site-packages\\sklearn\\linear_model\\_coordinate_descent.py:628: ConvergenceWarning: Objective did not converge. You might want to increase the number of iterations, check the scale of the features or consider increasing regularisation. Duality gap: 6.818e+10, tolerance: 8.060e+07\n",
      "  model = cd_fast.enet_coordinate_descent(\n"
     ]
    },
    {
     "name": "stdout",
     "output_type": "stream",
     "text": [
      "Resultados do R-quadrado:\n",
      "Alpha=0: R-quadrado=0.2980917229505162\n",
      "Alpha=0.001: R-quadrado=0.29809220945004633\n",
      "Alpha=0.005: R-quadrado=0.29809410744564524\n",
      "Alpha=0.01: R-quadrado=0.2980964885799522\n",
      "Alpha=0.05: R-quadrado=0.29811545665976436\n",
      "Alpha=0.1: R-quadrado=0.29812715582240956\n",
      "\n",
      "Melhor modelo:\n",
      "Alpha=0.1: R-quadrado=0.29812715582240956\n"
     ]
    },
    {
     "name": "stderr",
     "output_type": "stream",
     "text": [
      "c:\\Users\\Soldado\\AppData\\Local\\Programs\\Python\\Python311\\Lib\\site-packages\\sklearn\\linear_model\\_coordinate_descent.py:628: ConvergenceWarning: Objective did not converge. You might want to increase the number of iterations, check the scale of the features or consider increasing regularisation. Duality gap: 8.623e+10, tolerance: 8.060e+07\n",
      "  model = cd_fast.enet_coordinate_descent(\n"
     ]
    }
   ],
   "source": [
    "# Definir os valores de alpha\n",
    "alphas = [0, 0.001, 0.005, 0.01, 0.05, 0.1]\n",
    "\n",
    "# Armazenar os resultados do R-quadrado para cada valor de alpha\n",
    "resultados_r_quadrado = {}\n",
    "\n",
    "for alpha in alphas:\n",
    "    # Criar e treinar o modelo Lasso com o valor de alpha atual\n",
    "    modelo = Lasso(alpha=alpha)\n",
    "    modelo.fit(X_train, y_train)\n",
    "    \n",
    "    # Avaliar o desempenho do modelo usando os dados de teste e calcular o R-quadrado\n",
    "    score = modelo.score(X_test, y_test)\n",
    "    \n",
    "    # Armazenar o R-quadrado para o valor de alpha atual\n",
    "    resultados_r_quadrado[alpha] = score\n",
    "\n",
    "# Encontrar o melhor modelo (aquele com o maior R-quadrado)\n",
    "melhor_alpha = max(resultados_r_quadrado, key=resultados_r_quadrado.get)\n",
    "melhor_score = resultados_r_quadrado[melhor_alpha]\n",
    "\n",
    "print(\"Resultados do R-quadrado:\")\n",
    "for alpha, score in resultados_r_quadrado.items():\n",
    "    print(f\"Alpha={alpha}: R-quadrado={score}\")\n",
    "\n",
    "print(\"\\nMelhor modelo:\")\n",
    "print(f\"Alpha={melhor_alpha}: R-quadrado={melhor_score}\")"
   ]
  }
 ],
 "metadata": {
  "kernelspec": {
   "display_name": "Python 3",
   "language": "python",
   "name": "python3"
  },
  "language_info": {
   "codemirror_mode": {
    "name": "ipython",
    "version": 3
   },
   "file_extension": ".py",
   "mimetype": "text/x-python",
   "name": "python",
   "nbconvert_exporter": "python",
   "pygments_lexer": "ipython3",
   "version": "3.11.5"
  }
 },
 "nbformat": 4,
 "nbformat_minor": 4
}

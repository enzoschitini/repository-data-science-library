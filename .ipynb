{
 "cells": [
  {
   "cell_type": "markdown",
   "metadata": {},
   "source": [
    "# Copertina"
   ]
  },
  {
   "cell_type": "markdown",
   "metadata": {},
   "source": [
    "# Repository • Data Science\n",
    "Within this collection you will find materials that concern the methods and operations that are often done in Data Science projects\n",
    "\n",
    "<img src=\"https://github.com/enzoschitini/repository-data-science-library/blob/main/image/Repository.png?raw=true\" alt=\"capa\">\n",
    "\n",
    "---\n",
    "\n",
    "# **Library** • This repository contains a wide range of scripts, templates, datasets and documentation useful for those working in the field of data science.\n",
    "**+ 18** Projetos \n",
    "#### [Enzo Schitini](https://www.linkedin.com/in/enzoschitini/) - Data Scientist • Expert Bubble.io • UX & UI @ Nugus creator\n",
    "\n",
    "---\n",
    "\n",
    "<p align=\"center\">\n",
    "<img src=\"https://raw.githubusercontent.com/andresz1/size-limit-action/master/assets/pr.png\"\n",
    "  alt=\"Size Limit comment in pull request about bundle size changes\"\n",
    "  width=\"686\" height=\"289\">\n",
    "</p>\n",
    "\n",
    "### JS Applications\n",
    "\n",
    "Suitable for applications that have their own bundler and send the JS bundle\n",
    "directly to a client (without publishing it to npm). Think of a user-facing app\n",
    "or website, like an email client, a CRM, a landing page or a blog with\n",
    "interactive elements, using React/Vue/Svelte lib or vanilla JS.\n",
    "\n",
    "<details><summary><b>Show instructions</b></summary>\n",
    "\n",
    "1. Add the `size-limit` section and the `size` script to your `package.json`:\n",
    "\n",
    "</details>\n",
    "\n",
    "##\n",
    "\n",
    "<p align=\"center\">\n",
    "  Enzo Schitini\n",
    "</p>\n",
    "\n",
    "<p align=\"center\">\n",
    "  Data Scientist • Expert Bubble.io • UX & UI @ Nugus creator\n",
    "</p>"
   ]
  },
  {
   "cell_type": "markdown",
   "metadata": {},
   "source": [
    "<body>\n",
    "    <h1>Lista di Compiti</h1>\n",
    "    <ul class=\"task-list\">\n",
    "        <li class=\"task-item\">\n",
    "            <input type=\"checkbox\" id=\"task1\">\n",
    "            <label for=\"task1\"></label>\n",
    "        </li>\n",
    "    </ul>\n",
    "</body>"
   ]
  },
  {
   "cell_type": "markdown",
   "metadata": {},
   "source": [
    "# Data Science Portfolio\n",
    "Aqui você verá todos os meus projetos de Data Science divididos em grupos com as habilidades necessárias para obter os melhores Insights.\n",
    "\n",
    "<img src=\"https://raw.githubusercontent.com/enzoschitini/Adige/main/image/Group.png\" alt=\"capa\">\n",
    "\n",
    "---\n",
    "\n",
    "# **Bem-Vindo(a)!** • Veja o que eu fiz de melhor com cientista de dados\n",
    "**+ 18** Projetos \n",
    "#### [Enzo Schitini](https://www.linkedin.com/in/enzoschitini/) - Data Scientist • Expert Bubble.io • UX & UI @ Nugus creator\n",
    "\n",
    "---\n",
    "\n",
    "# O que você vai encontrar nesta página? 👋\n",
    "\n",
    "### **Minha relação com os dados:**\n",
    "A ciência sempre me fascinou pelo fato de podermos descobrir coisas novas. E foi por essa vontade de fazer descobertas que me tornei Data Scientist, para resolver problemas reais e fazer as tais descobertas.\n",
    "### `Para mim, todo Dataset esconde uma história e só temos que encontrá-la e saber contá-la`\n",
    "\n",
    "### - **As análises** \n",
    "Os projetos que desenvolvi dizem respeito a `análises descritivas`, `diagnósticas`, `preditivas` `e até prescritivas`\n",
    "\n",
    "### - **Machine learning** \n",
    "Enquanto os modelos de machine learning lidam com conceitos como `Classificação`, `Regressão` e `Clusterização`\n",
    "\n",
    "## 📁 Projetos criados:\n",
    "\n",
    "Aqui você verá todos os meus projetos de Data Science divididos em grupos com as habilidades necessárias para obter `os melhores Insights`. Dividi os projetos com os temas que `abrangem as fases que qualquer projeto deve ter` `+ a minha trajetória`\n",
    "\n",
    "### 1° - Análise exploratória e limpeza de dados \n",
    "###  \n",
    "\n",
    "> ### Análise avançada\n",
    "> O programa Trevi foi projetado para coletar e analisar uma vasta quantidade de dados sobre temperaturas do solo, mais de 230 mil linhas de dados. Com estes dados, que abrangem um período de 250 anos. [Ver](https://github.com/enzoschitini/Data-Science-Portfolio)\n",
    "##"
   ]
  },
  {
   "cell_type": "markdown",
   "metadata": {},
   "source": [
    "<p align=\"center\">\n",
    "<img src=\"https://raw.githubusercontent.com/andresz1/size-limit-action/master/assets/pr.png\"\n",
    "  alt=\"Size Limit comment in pull request about bundle size changes\"\n",
    "  width=\"686\" height=\"289\">\n",
    "</p>"
   ]
  },
  {
   "cell_type": "markdown",
   "metadata": {},
   "source": [
    "<details><summary><b>Lista di compiti</b></summary>\n",
    "\n",
    "1. Add the `size-limit` section and the `size` script to your `package.json`:\n",
    "\n",
    "</details>\n",
    "\n",
    "##\n",
    "\n",
    "<p align=\"center\">\n",
    "  Enzo Schitini\n",
    "</p>\n",
    "\n",
    "<p align=\"center\">\n",
    "  Data Scientist • Expert Bubble.io • UX & UI @ Nugus creator\n",
    "</p>"
   ]
  }
 ],
 "metadata": {
  "language_info": {
   "name": "python"
  }
 },
 "nbformat": 4,
 "nbformat_minor": 2
}

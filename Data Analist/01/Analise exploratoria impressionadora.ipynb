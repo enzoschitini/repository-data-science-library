{
 "cells": [
  {
   "cell_type": "markdown",
   "id": "036457d2",
   "metadata": {},
   "source": [
    "# Análise Exploratória IMPRESSIONADORA!\n",
    "\n",
    "Usamos os dados do dataset obtido do Kaggle:\n",
    "https://www.kaggle.com/datasets/prasertk/netflix-daily-top-10-in-us?select=netflix+daily+top+10.csv\n",
    "\n",
    "Que usou como base:\n",
    "https://www.the-numbers.com/netflix-top-10"
   ]
  },
  {
   "cell_type": "code",
   "execution_count": 43,
   "id": "cebc14c5",
   "metadata": {},
   "outputs": [],
   "source": [
    "import pandas as pd\n",
    "import datetime as dt\n",
    "\n",
    "import matplotlib.pyplot as plt"
   ]
  },
  {
   "cell_type": "code",
   "execution_count": 44,
   "id": "ccd579cc",
   "metadata": {},
   "outputs": [],
   "source": [
    "base = pd.read_csv(\"netflix daily top 10.csv\")"
   ]
  },
  {
   "cell_type": "code",
   "execution_count": 45,
   "id": "9eae1f44",
   "metadata": {},
   "outputs": [
    {
     "name": "stdout",
     "output_type": "stream",
     "text": [
      "Teabella Esplorativa\n",
      "In questi dati abbiamo 7.100 righe e 10 colonne.\n"
     ]
    },
    {
     "data": {
      "text/html": [
       "<div>\n",
       "<style scoped>\n",
       "    .dataframe tbody tr th:only-of-type {\n",
       "        vertical-align: middle;\n",
       "    }\n",
       "\n",
       "    .dataframe tbody tr th {\n",
       "        vertical-align: top;\n",
       "    }\n",
       "\n",
       "    .dataframe thead th {\n",
       "        text-align: right;\n",
       "    }\n",
       "</style>\n",
       "<table border=\"1\" class=\"dataframe\">\n",
       "  <thead>\n",
       "    <tr style=\"text-align: right;\">\n",
       "      <th></th>\n",
       "      <th>Nome</th>\n",
       "      <th>Tipo</th>\n",
       "      <th>qunt_categorie</th>\n",
       "      <th>Dati nulli</th>\n",
       "      <th>Dati nulli %</th>\n",
       "      <th>IA</th>\n",
       "    </tr>\n",
       "  </thead>\n",
       "  <tbody>\n",
       "    <tr>\n",
       "      <th>1</th>\n",
       "      <td>As of</td>\n",
       "      <td>str</td>\n",
       "      <td>710</td>\n",
       "      <td>0</td>\n",
       "      <td>0.0</td>\n",
       "      <td>N</td>\n",
       "    </tr>\n",
       "    <tr>\n",
       "      <th>2</th>\n",
       "      <td>Rank</td>\n",
       "      <td>numpy.int64</td>\n",
       "      <td>10</td>\n",
       "      <td>0</td>\n",
       "      <td>0.0</td>\n",
       "      <td>N</td>\n",
       "    </tr>\n",
       "    <tr>\n",
       "      <th>3</th>\n",
       "      <td>Year to Date Rank</td>\n",
       "      <td>str</td>\n",
       "      <td>11</td>\n",
       "      <td>0</td>\n",
       "      <td>0.0</td>\n",
       "      <td>N</td>\n",
       "    </tr>\n",
       "    <tr>\n",
       "      <th>4</th>\n",
       "      <td>Last Week Rank</td>\n",
       "      <td>str</td>\n",
       "      <td>11</td>\n",
       "      <td>0</td>\n",
       "      <td>0.0</td>\n",
       "      <td>N</td>\n",
       "    </tr>\n",
       "    <tr>\n",
       "      <th>5</th>\n",
       "      <td>Title</td>\n",
       "      <td>str</td>\n",
       "      <td>645</td>\n",
       "      <td>0</td>\n",
       "      <td>0.0</td>\n",
       "      <td>N</td>\n",
       "    </tr>\n",
       "    <tr>\n",
       "      <th>6</th>\n",
       "      <td>Type</td>\n",
       "      <td>str</td>\n",
       "      <td>4</td>\n",
       "      <td>0</td>\n",
       "      <td>0.0</td>\n",
       "      <td>N</td>\n",
       "    </tr>\n",
       "    <tr>\n",
       "      <th>7</th>\n",
       "      <td>Netflix Exclusive</td>\n",
       "      <td>str</td>\n",
       "      <td>1</td>\n",
       "      <td>2501</td>\n",
       "      <td>35.0</td>\n",
       "      <td>N</td>\n",
       "    </tr>\n",
       "    <tr>\n",
       "      <th>8</th>\n",
       "      <td>Netflix Release Date</td>\n",
       "      <td>str</td>\n",
       "      <td>414</td>\n",
       "      <td>0</td>\n",
       "      <td>0.0</td>\n",
       "      <td>N</td>\n",
       "    </tr>\n",
       "    <tr>\n",
       "      <th>9</th>\n",
       "      <td>Days In Top 10</td>\n",
       "      <td>numpy.int64</td>\n",
       "      <td>428</td>\n",
       "      <td>0</td>\n",
       "      <td>0.0</td>\n",
       "      <td>N</td>\n",
       "    </tr>\n",
       "    <tr>\n",
       "      <th>10</th>\n",
       "      <td>Viewership Score</td>\n",
       "      <td>numpy.int64</td>\n",
       "      <td>779</td>\n",
       "      <td>0</td>\n",
       "      <td>0.0</td>\n",
       "      <td>N</td>\n",
       "    </tr>\n",
       "  </tbody>\n",
       "</table>\n",
       "</div>"
      ],
      "text/plain": [
       "                    Nome         Tipo qunt_categorie  Dati nulli  \\\n",
       "1                  As of          str            710           0   \n",
       "2                   Rank  numpy.int64             10           0   \n",
       "3      Year to Date Rank          str             11           0   \n",
       "4         Last Week Rank          str             11           0   \n",
       "5                  Title          str            645           0   \n",
       "6                   Type          str              4           0   \n",
       "7      Netflix Exclusive          str              1        2501   \n",
       "8   Netflix Release Date          str            414           0   \n",
       "9         Days In Top 10  numpy.int64            428           0   \n",
       "10      Viewership Score  numpy.int64            779           0   \n",
       "\n",
       "    Dati nulli % IA  \n",
       "1            0.0  N  \n",
       "2            0.0  N  \n",
       "3            0.0  N  \n",
       "4            0.0  N  \n",
       "5            0.0  N  \n",
       "6            0.0  N  \n",
       "7           35.0  N  \n",
       "8            0.0  N  \n",
       "9            0.0  N  \n",
       "10           0.0  N  "
      ]
     },
     "execution_count": 45,
     "metadata": {},
     "output_type": "execute_result"
    }
   ],
   "source": [
    "class DataFrameProcessor:\n",
    "    def __init__(self, df):\n",
    "        self.df = df\n",
    "\n",
    "    def cambiare_tipo(self, lista:list, valore:str):\n",
    "        for x in lista:\n",
    "            self.df[x] = self.df[x].astype(valore)\n",
    "        return self.df\n",
    "\n",
    "    def valore_abbreviato(self, valore:str) -> str:\n",
    "        alg_valore = list(valore)\n",
    "        num_punt = sum(map(lambda x: x == '.', valore))\n",
    "        for x in range(num_punt):\n",
    "            alg_valore.remove('.')\n",
    "        numero = int(\"\".join(alg_valore))\n",
    "        numero_format = \"{:,}\".format(numero).replace(\",\", \".\")\n",
    "\n",
    "        return numero_format\n",
    "\n",
    "    def guida(self):\n",
    "        righe, qnt_colonne = self.df.shape\n",
    "        sequenza = list(range(qnt_colonne + 1))\n",
    "        sequenza = sequenza[1:]\n",
    "\n",
    "        colonne = self.df.columns.to_list()\n",
    "        types_list = [str(type(self.df[col][0])).split(\"'\")[1] for col in self.df.columns]\n",
    "        lista_categorie = [self.valore_abbreviato(str(self.df[col].nunique())) for col in self.df.columns]\n",
    "\n",
    "        elementi_nulli = self.df.isnull().sum()\n",
    "        elementi_nulli = elementi_nulli.to_list()\n",
    "\n",
    "        percentuale_dati_nulli = round((self.df.isnull().sum() / righe) * 100)\n",
    "        percentuale_dati_nulli = percentuale_dati_nulli.to_list()\n",
    "\n",
    "        data = pd.DataFrame({'Nome': colonne, \n",
    "                             'Tipo': types_list, \n",
    "                             'qunt_categorie': lista_categorie,\n",
    "                             'Dati nulli' : elementi_nulli,\n",
    "                             'Dati nulli %' : percentuale_dati_nulli}, index=sequenza)\n",
    "        \n",
    "        data['IA'] = data['qunt_categorie'].apply(lambda x: 'S' if x == 2 else 'N')\n",
    "\n",
    "        # Intestazioni\n",
    "        print('Teabella Esplorativa')\n",
    "        print(f'In questi dati abbiamo {self.valore_abbreviato(str(righe))} righe e {qnt_colonne} colonne.')\n",
    "\n",
    "        return data\n",
    "\n",
    "# Uso:\n",
    "dfp = DataFrameProcessor(base)\n",
    "dfp = dfp.guida()\n",
    "dfp"
   ]
  },
  {
   "cell_type": "markdown",
   "id": "01587733",
   "metadata": {},
   "source": [
    "#### Visualizar a base que importamos"
   ]
  },
  {
   "cell_type": "code",
   "execution_count": 46,
   "id": "aa915f72",
   "metadata": {},
   "outputs": [
    {
     "data": {
      "text/html": [
       "<div>\n",
       "<style scoped>\n",
       "    .dataframe tbody tr th:only-of-type {\n",
       "        vertical-align: middle;\n",
       "    }\n",
       "\n",
       "    .dataframe tbody tr th {\n",
       "        vertical-align: top;\n",
       "    }\n",
       "\n",
       "    .dataframe thead th {\n",
       "        text-align: right;\n",
       "    }\n",
       "</style>\n",
       "<table border=\"1\" class=\"dataframe\">\n",
       "  <thead>\n",
       "    <tr style=\"text-align: right;\">\n",
       "      <th></th>\n",
       "      <th>As of</th>\n",
       "      <th>Rank</th>\n",
       "      <th>Year to Date Rank</th>\n",
       "      <th>Last Week Rank</th>\n",
       "      <th>Title</th>\n",
       "      <th>Type</th>\n",
       "      <th>Netflix Exclusive</th>\n",
       "      <th>Netflix Release Date</th>\n",
       "      <th>Days In Top 10</th>\n",
       "      <th>Viewership Score</th>\n",
       "    </tr>\n",
       "  </thead>\n",
       "  <tbody>\n",
       "    <tr>\n",
       "      <th>0</th>\n",
       "      <td>2020-04-01</td>\n",
       "      <td>1</td>\n",
       "      <td>1</td>\n",
       "      <td>1</td>\n",
       "      <td>Tiger King: Murder, Mayhem …</td>\n",
       "      <td>TV Show</td>\n",
       "      <td>Yes</td>\n",
       "      <td>Mar 20, 2020</td>\n",
       "      <td>9</td>\n",
       "      <td>90</td>\n",
       "    </tr>\n",
       "    <tr>\n",
       "      <th>1</th>\n",
       "      <td>2020-04-01</td>\n",
       "      <td>2</td>\n",
       "      <td>2</td>\n",
       "      <td>-</td>\n",
       "      <td>Ozark</td>\n",
       "      <td>TV Show</td>\n",
       "      <td>Yes</td>\n",
       "      <td>Jul 21, 2017</td>\n",
       "      <td>5</td>\n",
       "      <td>45</td>\n",
       "    </tr>\n",
       "    <tr>\n",
       "      <th>2</th>\n",
       "      <td>2020-04-01</td>\n",
       "      <td>3</td>\n",
       "      <td>3</td>\n",
       "      <td>2</td>\n",
       "      <td>All American</td>\n",
       "      <td>TV Show</td>\n",
       "      <td>NaN</td>\n",
       "      <td>Mar 28, 2019</td>\n",
       "      <td>9</td>\n",
       "      <td>76</td>\n",
       "    </tr>\n",
       "    <tr>\n",
       "      <th>3</th>\n",
       "      <td>2020-04-01</td>\n",
       "      <td>4</td>\n",
       "      <td>4</td>\n",
       "      <td>-</td>\n",
       "      <td>Blood Father</td>\n",
       "      <td>Movie</td>\n",
       "      <td>NaN</td>\n",
       "      <td>Mar 26, 2020</td>\n",
       "      <td>5</td>\n",
       "      <td>30</td>\n",
       "    </tr>\n",
       "    <tr>\n",
       "      <th>4</th>\n",
       "      <td>2020-04-01</td>\n",
       "      <td>5</td>\n",
       "      <td>5</td>\n",
       "      <td>4</td>\n",
       "      <td>The Platform</td>\n",
       "      <td>Movie</td>\n",
       "      <td>Yes</td>\n",
       "      <td>Mar 20, 2020</td>\n",
       "      <td>9</td>\n",
       "      <td>55</td>\n",
       "    </tr>\n",
       "  </tbody>\n",
       "</table>\n",
       "</div>"
      ],
      "text/plain": [
       "        As of  Rank Year to Date Rank Last Week Rank  \\\n",
       "0  2020-04-01     1                 1              1   \n",
       "1  2020-04-01     2                 2              -   \n",
       "2  2020-04-01     3                 3              2   \n",
       "3  2020-04-01     4                 4              -   \n",
       "4  2020-04-01     5                 5              4   \n",
       "\n",
       "                          Title     Type Netflix Exclusive  \\\n",
       "0  Tiger King: Murder, Mayhem …  TV Show               Yes   \n",
       "1                         Ozark  TV Show               Yes   \n",
       "2                  All American  TV Show               NaN   \n",
       "3                  Blood Father    Movie               NaN   \n",
       "4                  The Platform    Movie               Yes   \n",
       "\n",
       "  Netflix Release Date  Days In Top 10  Viewership Score  \n",
       "0         Mar 20, 2020               9                90  \n",
       "1         Jul 21, 2017               5                45  \n",
       "2         Mar 28, 2019               9                76  \n",
       "3         Mar 26, 2020               5                30  \n",
       "4         Mar 20, 2020               9                55  "
      ]
     },
     "execution_count": 46,
     "metadata": {},
     "output_type": "execute_result"
    }
   ],
   "source": [
    "base.head()"
   ]
  },
  {
   "cell_type": "code",
   "execution_count": 47,
   "id": "77c55c02",
   "metadata": {},
   "outputs": [
    {
     "data": {
      "text/html": [
       "<div>\n",
       "<style scoped>\n",
       "    .dataframe tbody tr th:only-of-type {\n",
       "        vertical-align: middle;\n",
       "    }\n",
       "\n",
       "    .dataframe tbody tr th {\n",
       "        vertical-align: top;\n",
       "    }\n",
       "\n",
       "    .dataframe thead th {\n",
       "        text-align: right;\n",
       "    }\n",
       "</style>\n",
       "<table border=\"1\" class=\"dataframe\">\n",
       "  <thead>\n",
       "    <tr style=\"text-align: right;\">\n",
       "      <th></th>\n",
       "      <th>As of</th>\n",
       "      <th>Rank</th>\n",
       "      <th>Year to Date Rank</th>\n",
       "      <th>Last Week Rank</th>\n",
       "      <th>Title</th>\n",
       "      <th>Type</th>\n",
       "      <th>Netflix Exclusive</th>\n",
       "      <th>Netflix Release Date</th>\n",
       "      <th>Days In Top 10</th>\n",
       "      <th>Viewership Score</th>\n",
       "    </tr>\n",
       "  </thead>\n",
       "  <tbody>\n",
       "    <tr>\n",
       "      <th>7095</th>\n",
       "      <td>2022-03-11</td>\n",
       "      <td>6</td>\n",
       "      <td>5</td>\n",
       "      <td>1</td>\n",
       "      <td>Worst Roommate Ever</td>\n",
       "      <td>TV Show</td>\n",
       "      <td>Yes</td>\n",
       "      <td>Mar 1, 2022</td>\n",
       "      <td>10</td>\n",
       "      <td>81</td>\n",
       "    </tr>\n",
       "    <tr>\n",
       "      <th>7096</th>\n",
       "      <td>2022-03-11</td>\n",
       "      <td>7</td>\n",
       "      <td>7</td>\n",
       "      <td>2</td>\n",
       "      <td>Vikings: Valhalla</td>\n",
       "      <td>TV Show</td>\n",
       "      <td>Yes</td>\n",
       "      <td>Feb 25, 2022</td>\n",
       "      <td>14</td>\n",
       "      <td>100</td>\n",
       "    </tr>\n",
       "    <tr>\n",
       "      <th>7097</th>\n",
       "      <td>2022-03-11</td>\n",
       "      <td>8</td>\n",
       "      <td>8</td>\n",
       "      <td>-</td>\n",
       "      <td>Shooter</td>\n",
       "      <td>Movie</td>\n",
       "      <td>NaN</td>\n",
       "      <td>Aug 1, 2014</td>\n",
       "      <td>3</td>\n",
       "      <td>7</td>\n",
       "    </tr>\n",
       "    <tr>\n",
       "      <th>7098</th>\n",
       "      <td>2022-03-11</td>\n",
       "      <td>9</td>\n",
       "      <td>9</td>\n",
       "      <td>7</td>\n",
       "      <td>Shrek 2</td>\n",
       "      <td>Movie</td>\n",
       "      <td>NaN</td>\n",
       "      <td>Mar 1, 2022</td>\n",
       "      <td>10</td>\n",
       "      <td>33</td>\n",
       "    </tr>\n",
       "    <tr>\n",
       "      <th>7099</th>\n",
       "      <td>2022-03-11</td>\n",
       "      <td>10</td>\n",
       "      <td>10</td>\n",
       "      <td>-</td>\n",
       "      <td>Shrek</td>\n",
       "      <td>Movie</td>\n",
       "      <td>NaN</td>\n",
       "      <td>May 1, 2018</td>\n",
       "      <td>7</td>\n",
       "      <td>12</td>\n",
       "    </tr>\n",
       "  </tbody>\n",
       "</table>\n",
       "</div>"
      ],
      "text/plain": [
       "           As of  Rank Year to Date Rank Last Week Rank                Title  \\\n",
       "7095  2022-03-11     6                 5              1  Worst Roommate Ever   \n",
       "7096  2022-03-11     7                 7              2    Vikings: Valhalla   \n",
       "7097  2022-03-11     8                 8              -              Shooter   \n",
       "7098  2022-03-11     9                 9              7              Shrek 2   \n",
       "7099  2022-03-11    10                10              -                Shrek   \n",
       "\n",
       "         Type Netflix Exclusive Netflix Release Date  Days In Top 10  \\\n",
       "7095  TV Show               Yes          Mar 1, 2022              10   \n",
       "7096  TV Show               Yes         Feb 25, 2022              14   \n",
       "7097    Movie               NaN          Aug 1, 2014               3   \n",
       "7098    Movie               NaN          Mar 1, 2022              10   \n",
       "7099    Movie               NaN          May 1, 2018               7   \n",
       "\n",
       "      Viewership Score  \n",
       "7095                81  \n",
       "7096               100  \n",
       "7097                 7  \n",
       "7098                33  \n",
       "7099                12  "
      ]
     },
     "execution_count": 47,
     "metadata": {},
     "output_type": "execute_result"
    }
   ],
   "source": [
    "base.tail()"
   ]
  },
  {
   "cell_type": "markdown",
   "id": "d37786b4",
   "metadata": {},
   "source": [
    "#### Saber o tamanho da base"
   ]
  },
  {
   "cell_type": "code",
   "execution_count": 48,
   "id": "f62e3018",
   "metadata": {},
   "outputs": [
    {
     "data": {
      "text/plain": [
       "(7100, 10)"
      ]
     },
     "execution_count": 48,
     "metadata": {},
     "output_type": "execute_result"
    }
   ],
   "source": [
    "base.shape"
   ]
  },
  {
   "cell_type": "markdown",
   "id": "8b21c7c6",
   "metadata": {},
   "source": [
    "#### Visualizar a base que importamos e o tamanho da base"
   ]
  },
  {
   "cell_type": "code",
   "execution_count": 49,
   "id": "51a5470e",
   "metadata": {},
   "outputs": [
    {
     "data": {
      "text/html": [
       "<div>\n",
       "<style scoped>\n",
       "    .dataframe tbody tr th:only-of-type {\n",
       "        vertical-align: middle;\n",
       "    }\n",
       "\n",
       "    .dataframe tbody tr th {\n",
       "        vertical-align: top;\n",
       "    }\n",
       "\n",
       "    .dataframe thead th {\n",
       "        text-align: right;\n",
       "    }\n",
       "</style>\n",
       "<table border=\"1\" class=\"dataframe\">\n",
       "  <thead>\n",
       "    <tr style=\"text-align: right;\">\n",
       "      <th></th>\n",
       "      <th>As of</th>\n",
       "      <th>Rank</th>\n",
       "      <th>Year to Date Rank</th>\n",
       "      <th>Last Week Rank</th>\n",
       "      <th>Title</th>\n",
       "      <th>Type</th>\n",
       "      <th>Netflix Exclusive</th>\n",
       "      <th>Netflix Release Date</th>\n",
       "      <th>Days In Top 10</th>\n",
       "      <th>Viewership Score</th>\n",
       "    </tr>\n",
       "  </thead>\n",
       "  <tbody>\n",
       "    <tr>\n",
       "      <th>0</th>\n",
       "      <td>2020-04-01</td>\n",
       "      <td>1</td>\n",
       "      <td>1</td>\n",
       "      <td>1</td>\n",
       "      <td>Tiger King: Murder, Mayhem …</td>\n",
       "      <td>TV Show</td>\n",
       "      <td>Yes</td>\n",
       "      <td>Mar 20, 2020</td>\n",
       "      <td>9</td>\n",
       "      <td>90</td>\n",
       "    </tr>\n",
       "    <tr>\n",
       "      <th>1</th>\n",
       "      <td>2020-04-01</td>\n",
       "      <td>2</td>\n",
       "      <td>2</td>\n",
       "      <td>-</td>\n",
       "      <td>Ozark</td>\n",
       "      <td>TV Show</td>\n",
       "      <td>Yes</td>\n",
       "      <td>Jul 21, 2017</td>\n",
       "      <td>5</td>\n",
       "      <td>45</td>\n",
       "    </tr>\n",
       "    <tr>\n",
       "      <th>2</th>\n",
       "      <td>2020-04-01</td>\n",
       "      <td>3</td>\n",
       "      <td>3</td>\n",
       "      <td>2</td>\n",
       "      <td>All American</td>\n",
       "      <td>TV Show</td>\n",
       "      <td>NaN</td>\n",
       "      <td>Mar 28, 2019</td>\n",
       "      <td>9</td>\n",
       "      <td>76</td>\n",
       "    </tr>\n",
       "    <tr>\n",
       "      <th>3</th>\n",
       "      <td>2020-04-01</td>\n",
       "      <td>4</td>\n",
       "      <td>4</td>\n",
       "      <td>-</td>\n",
       "      <td>Blood Father</td>\n",
       "      <td>Movie</td>\n",
       "      <td>NaN</td>\n",
       "      <td>Mar 26, 2020</td>\n",
       "      <td>5</td>\n",
       "      <td>30</td>\n",
       "    </tr>\n",
       "    <tr>\n",
       "      <th>4</th>\n",
       "      <td>2020-04-01</td>\n",
       "      <td>5</td>\n",
       "      <td>5</td>\n",
       "      <td>4</td>\n",
       "      <td>The Platform</td>\n",
       "      <td>Movie</td>\n",
       "      <td>Yes</td>\n",
       "      <td>Mar 20, 2020</td>\n",
       "      <td>9</td>\n",
       "      <td>55</td>\n",
       "    </tr>\n",
       "    <tr>\n",
       "      <th>...</th>\n",
       "      <td>...</td>\n",
       "      <td>...</td>\n",
       "      <td>...</td>\n",
       "      <td>...</td>\n",
       "      <td>...</td>\n",
       "      <td>...</td>\n",
       "      <td>...</td>\n",
       "      <td>...</td>\n",
       "      <td>...</td>\n",
       "      <td>...</td>\n",
       "    </tr>\n",
       "    <tr>\n",
       "      <th>7095</th>\n",
       "      <td>2022-03-11</td>\n",
       "      <td>6</td>\n",
       "      <td>5</td>\n",
       "      <td>1</td>\n",
       "      <td>Worst Roommate Ever</td>\n",
       "      <td>TV Show</td>\n",
       "      <td>Yes</td>\n",
       "      <td>Mar 1, 2022</td>\n",
       "      <td>10</td>\n",
       "      <td>81</td>\n",
       "    </tr>\n",
       "    <tr>\n",
       "      <th>7096</th>\n",
       "      <td>2022-03-11</td>\n",
       "      <td>7</td>\n",
       "      <td>7</td>\n",
       "      <td>2</td>\n",
       "      <td>Vikings: Valhalla</td>\n",
       "      <td>TV Show</td>\n",
       "      <td>Yes</td>\n",
       "      <td>Feb 25, 2022</td>\n",
       "      <td>14</td>\n",
       "      <td>100</td>\n",
       "    </tr>\n",
       "    <tr>\n",
       "      <th>7097</th>\n",
       "      <td>2022-03-11</td>\n",
       "      <td>8</td>\n",
       "      <td>8</td>\n",
       "      <td>-</td>\n",
       "      <td>Shooter</td>\n",
       "      <td>Movie</td>\n",
       "      <td>NaN</td>\n",
       "      <td>Aug 1, 2014</td>\n",
       "      <td>3</td>\n",
       "      <td>7</td>\n",
       "    </tr>\n",
       "    <tr>\n",
       "      <th>7098</th>\n",
       "      <td>2022-03-11</td>\n",
       "      <td>9</td>\n",
       "      <td>9</td>\n",
       "      <td>7</td>\n",
       "      <td>Shrek 2</td>\n",
       "      <td>Movie</td>\n",
       "      <td>NaN</td>\n",
       "      <td>Mar 1, 2022</td>\n",
       "      <td>10</td>\n",
       "      <td>33</td>\n",
       "    </tr>\n",
       "    <tr>\n",
       "      <th>7099</th>\n",
       "      <td>2022-03-11</td>\n",
       "      <td>10</td>\n",
       "      <td>10</td>\n",
       "      <td>-</td>\n",
       "      <td>Shrek</td>\n",
       "      <td>Movie</td>\n",
       "      <td>NaN</td>\n",
       "      <td>May 1, 2018</td>\n",
       "      <td>7</td>\n",
       "      <td>12</td>\n",
       "    </tr>\n",
       "  </tbody>\n",
       "</table>\n",
       "<p>7100 rows × 10 columns</p>\n",
       "</div>"
      ],
      "text/plain": [
       "           As of  Rank Year to Date Rank Last Week Rank  \\\n",
       "0     2020-04-01     1                 1              1   \n",
       "1     2020-04-01     2                 2              -   \n",
       "2     2020-04-01     3                 3              2   \n",
       "3     2020-04-01     4                 4              -   \n",
       "4     2020-04-01     5                 5              4   \n",
       "...          ...   ...               ...            ...   \n",
       "7095  2022-03-11     6                 5              1   \n",
       "7096  2022-03-11     7                 7              2   \n",
       "7097  2022-03-11     8                 8              -   \n",
       "7098  2022-03-11     9                 9              7   \n",
       "7099  2022-03-11    10                10              -   \n",
       "\n",
       "                             Title     Type Netflix Exclusive  \\\n",
       "0     Tiger King: Murder, Mayhem …  TV Show               Yes   \n",
       "1                            Ozark  TV Show               Yes   \n",
       "2                     All American  TV Show               NaN   \n",
       "3                     Blood Father    Movie               NaN   \n",
       "4                     The Platform    Movie               Yes   \n",
       "...                            ...      ...               ...   \n",
       "7095           Worst Roommate Ever  TV Show               Yes   \n",
       "7096             Vikings: Valhalla  TV Show               Yes   \n",
       "7097                       Shooter    Movie               NaN   \n",
       "7098                       Shrek 2    Movie               NaN   \n",
       "7099                         Shrek    Movie               NaN   \n",
       "\n",
       "     Netflix Release Date  Days In Top 10  Viewership Score  \n",
       "0            Mar 20, 2020               9                90  \n",
       "1            Jul 21, 2017               5                45  \n",
       "2            Mar 28, 2019               9                76  \n",
       "3            Mar 26, 2020               5                30  \n",
       "4            Mar 20, 2020               9                55  \n",
       "...                   ...             ...               ...  \n",
       "7095          Mar 1, 2022              10                81  \n",
       "7096         Feb 25, 2022              14               100  \n",
       "7097          Aug 1, 2014               3                 7  \n",
       "7098          Mar 1, 2022              10                33  \n",
       "7099          May 1, 2018               7                12  \n",
       "\n",
       "[7100 rows x 10 columns]"
      ]
     },
     "metadata": {},
     "output_type": "display_data"
    }
   ],
   "source": [
    "display(base)"
   ]
  },
  {
   "cell_type": "markdown",
   "id": "28731258",
   "metadata": {},
   "source": [
    "#### Descobrindo o período da análise"
   ]
  },
  {
   "cell_type": "code",
   "execution_count": 50,
   "id": "2624d352",
   "metadata": {},
   "outputs": [
    {
     "name": "stdout",
     "output_type": "stream",
     "text": [
      "2020-04-01\n"
     ]
    }
   ],
   "source": [
    "inicio = pd.to_datetime(base['As of']).dt.date.min()\n",
    "print(inicio)"
   ]
  },
  {
   "cell_type": "code",
   "execution_count": 51,
   "id": "9344543b",
   "metadata": {},
   "outputs": [
    {
     "name": "stdout",
     "output_type": "stream",
     "text": [
      "2022-03-11\n"
     ]
    }
   ],
   "source": [
    "fim = pd.to_datetime(base['As of']).dt.date.max()\n",
    "print(fim)"
   ]
  },
  {
   "cell_type": "markdown",
   "id": "51150d44",
   "metadata": {},
   "source": [
    "#### Verificar valores nulos e tipo de dados"
   ]
  },
  {
   "cell_type": "code",
   "execution_count": 52,
   "id": "53d1f3ce",
   "metadata": {},
   "outputs": [
    {
     "name": "stdout",
     "output_type": "stream",
     "text": [
      "<class 'pandas.core.frame.DataFrame'>\n",
      "RangeIndex: 7100 entries, 0 to 7099\n",
      "Data columns (total 10 columns):\n",
      " #   Column                Non-Null Count  Dtype \n",
      "---  ------                --------------  ----- \n",
      " 0   As of                 7100 non-null   object\n",
      " 1   Rank                  7100 non-null   int64 \n",
      " 2   Year to Date Rank     7100 non-null   object\n",
      " 3   Last Week Rank        7100 non-null   object\n",
      " 4   Title                 7100 non-null   object\n",
      " 5   Type                  7100 non-null   object\n",
      " 6   Netflix Exclusive     4599 non-null   object\n",
      " 7   Netflix Release Date  7100 non-null   object\n",
      " 8   Days In Top 10        7100 non-null   int64 \n",
      " 9   Viewership Score      7100 non-null   int64 \n",
      "dtypes: int64(3), object(7)\n",
      "memory usage: 554.8+ KB\n"
     ]
    }
   ],
   "source": [
    "base.info()"
   ]
  },
  {
   "cell_type": "markdown",
   "id": "ffc9c87e",
   "metadata": {},
   "source": [
    "#### Verificando o tipo dos dados"
   ]
  },
  {
   "cell_type": "code",
   "execution_count": 53,
   "id": "020ab262",
   "metadata": {},
   "outputs": [
    {
     "data": {
      "text/plain": [
       "As of                   object\n",
       "Rank                     int64\n",
       "Year to Date Rank       object\n",
       "Last Week Rank          object\n",
       "Title                   object\n",
       "Type                    object\n",
       "Netflix Exclusive       object\n",
       "Netflix Release Date    object\n",
       "Days In Top 10           int64\n",
       "Viewership Score         int64\n",
       "dtype: object"
      ]
     },
     "execution_count": 53,
     "metadata": {},
     "output_type": "execute_result"
    }
   ],
   "source": [
    "base.dtypes"
   ]
  },
  {
   "cell_type": "markdown",
   "id": "4c3b6f41",
   "metadata": {},
   "source": [
    "#### Verificando a existência de valores nulos"
   ]
  },
  {
   "cell_type": "code",
   "execution_count": 54,
   "id": "23e2d89d",
   "metadata": {},
   "outputs": [
    {
     "data": {
      "text/plain": [
       "As of                      0\n",
       "Rank                       0\n",
       "Year to Date Rank          0\n",
       "Last Week Rank             0\n",
       "Title                      0\n",
       "Type                       0\n",
       "Netflix Exclusive       2501\n",
       "Netflix Release Date       0\n",
       "Days In Top 10             0\n",
       "Viewership Score           0\n",
       "dtype: int64"
      ]
     },
     "execution_count": 54,
     "metadata": {},
     "output_type": "execute_result"
    }
   ],
   "source": [
    "base.isnull().sum()"
   ]
  },
  {
   "cell_type": "markdown",
   "id": "57ab7b89",
   "metadata": {},
   "source": [
    "#### Entendendo melhor os valores nulos"
   ]
  },
  {
   "cell_type": "code",
   "execution_count": 55,
   "id": "054a40a7",
   "metadata": {},
   "outputs": [
    {
     "data": {
      "text/plain": [
       "Netflix Exclusive\n",
       "Yes    4599\n",
       "Name: count, dtype: int64"
      ]
     },
     "execution_count": 55,
     "metadata": {},
     "output_type": "execute_result"
    }
   ],
   "source": [
    "base['Netflix Exclusive'].value_counts()"
   ]
  },
  {
   "cell_type": "markdown",
   "id": "4c8e17ed",
   "metadata": {},
   "source": [
    "#### Analisando as informações estatísticas"
   ]
  },
  {
   "cell_type": "code",
   "execution_count": 56,
   "id": "7659edfd",
   "metadata": {},
   "outputs": [
    {
     "data": {
      "text/html": [
       "<div>\n",
       "<style scoped>\n",
       "    .dataframe tbody tr th:only-of-type {\n",
       "        vertical-align: middle;\n",
       "    }\n",
       "\n",
       "    .dataframe tbody tr th {\n",
       "        vertical-align: top;\n",
       "    }\n",
       "\n",
       "    .dataframe thead th {\n",
       "        text-align: right;\n",
       "    }\n",
       "</style>\n",
       "<table border=\"1\" class=\"dataframe\">\n",
       "  <thead>\n",
       "    <tr style=\"text-align: right;\">\n",
       "      <th></th>\n",
       "      <th>Rank</th>\n",
       "      <th>Days In Top 10</th>\n",
       "      <th>Viewership Score</th>\n",
       "    </tr>\n",
       "  </thead>\n",
       "  <tbody>\n",
       "    <tr>\n",
       "      <th>count</th>\n",
       "      <td>7100.000000</td>\n",
       "      <td>7100.000000</td>\n",
       "      <td>7100.000000</td>\n",
       "    </tr>\n",
       "    <tr>\n",
       "      <th>mean</th>\n",
       "      <td>5.500000</td>\n",
       "      <td>24.123662</td>\n",
       "      <td>122.790141</td>\n",
       "    </tr>\n",
       "    <tr>\n",
       "      <th>std</th>\n",
       "      <td>2.872484</td>\n",
       "      <td>58.473789</td>\n",
       "      <td>213.861642</td>\n",
       "    </tr>\n",
       "    <tr>\n",
       "      <th>min</th>\n",
       "      <td>1.000000</td>\n",
       "      <td>1.000000</td>\n",
       "      <td>1.000000</td>\n",
       "    </tr>\n",
       "    <tr>\n",
       "      <th>25%</th>\n",
       "      <td>3.000000</td>\n",
       "      <td>3.000000</td>\n",
       "      <td>19.000000</td>\n",
       "    </tr>\n",
       "    <tr>\n",
       "      <th>50%</th>\n",
       "      <td>5.500000</td>\n",
       "      <td>7.000000</td>\n",
       "      <td>50.000000</td>\n",
       "    </tr>\n",
       "    <tr>\n",
       "      <th>75%</th>\n",
       "      <td>8.000000</td>\n",
       "      <td>18.000000</td>\n",
       "      <td>128.000000</td>\n",
       "    </tr>\n",
       "    <tr>\n",
       "      <th>max</th>\n",
       "      <td>10.000000</td>\n",
       "      <td>428.000000</td>\n",
       "      <td>1474.000000</td>\n",
       "    </tr>\n",
       "  </tbody>\n",
       "</table>\n",
       "</div>"
      ],
      "text/plain": [
       "              Rank  Days In Top 10  Viewership Score\n",
       "count  7100.000000     7100.000000       7100.000000\n",
       "mean      5.500000       24.123662        122.790141\n",
       "std       2.872484       58.473789        213.861642\n",
       "min       1.000000        1.000000          1.000000\n",
       "25%       3.000000        3.000000         19.000000\n",
       "50%       5.500000        7.000000         50.000000\n",
       "75%       8.000000       18.000000        128.000000\n",
       "max      10.000000      428.000000       1474.000000"
      ]
     },
     "execution_count": 56,
     "metadata": {},
     "output_type": "execute_result"
    }
   ],
   "source": [
    "base.describe()"
   ]
  },
  {
   "cell_type": "markdown",
   "id": "211ec900",
   "metadata": {},
   "source": [
    "#### Entendendo melhor essas informações"
   ]
  },
  {
   "cell_type": "code",
   "execution_count": 57,
   "id": "f46a08ad",
   "metadata": {},
   "outputs": [
    {
     "data": {
      "image/png": "[encoded data removed]",
      "text/plain": [
       "<Figure size 1000x600 with 3 Axes>"
      ]
     },
     "metadata": {},
     "output_type": "display_data"
    }
   ],
   "source": [
    "base.plot(kind='box',figsize=(10,6),subplots=True); "
   ]
  },
  {
   "cell_type": "markdown",
   "id": "217e1c56",
   "metadata": {},
   "source": [
    "##### O que seriam esses outliers?"
   ]
  },
  {
   "cell_type": "code",
   "execution_count": 58,
   "id": "83358434",
   "metadata": {},
   "outputs": [
    {
     "data": {
      "text/html": [
       "<div>\n",
       "<style scoped>\n",
       "    .dataframe tbody tr th:only-of-type {\n",
       "        vertical-align: middle;\n",
       "    }\n",
       "\n",
       "    .dataframe tbody tr th {\n",
       "        vertical-align: top;\n",
       "    }\n",
       "\n",
       "    .dataframe thead th {\n",
       "        text-align: right;\n",
       "    }\n",
       "</style>\n",
       "<table border=\"1\" class=\"dataframe\">\n",
       "  <thead>\n",
       "    <tr style=\"text-align: right;\">\n",
       "      <th></th>\n",
       "      <th>As of</th>\n",
       "      <th>Rank</th>\n",
       "      <th>Year to Date Rank</th>\n",
       "      <th>Last Week Rank</th>\n",
       "      <th>Title</th>\n",
       "      <th>Type</th>\n",
       "      <th>Netflix Exclusive</th>\n",
       "      <th>Netflix Release Date</th>\n",
       "      <th>Days In Top 10</th>\n",
       "      <th>Viewership Score</th>\n",
       "    </tr>\n",
       "  </thead>\n",
       "  <tbody>\n",
       "    <tr>\n",
       "      <th>2886</th>\n",
       "      <td>2021-01-14</td>\n",
       "      <td>7</td>\n",
       "      <td>6</td>\n",
       "      <td>8</td>\n",
       "      <td>Cocomelon</td>\n",
       "      <td>TV Show</td>\n",
       "      <td>NaN</td>\n",
       "      <td>Jun 1, 2020</td>\n",
       "      <td>100</td>\n",
       "      <td>287</td>\n",
       "    </tr>\n",
       "    <tr>\n",
       "      <th>2896</th>\n",
       "      <td>2021-01-15</td>\n",
       "      <td>7</td>\n",
       "      <td>7</td>\n",
       "      <td>10</td>\n",
       "      <td>Cocomelon</td>\n",
       "      <td>TV Show</td>\n",
       "      <td>NaN</td>\n",
       "      <td>Jun 1, 2020</td>\n",
       "      <td>101</td>\n",
       "      <td>291</td>\n",
       "    </tr>\n",
       "    <tr>\n",
       "      <th>2909</th>\n",
       "      <td>2021-01-16</td>\n",
       "      <td>10</td>\n",
       "      <td>7</td>\n",
       "      <td>9</td>\n",
       "      <td>Cocomelon</td>\n",
       "      <td>TV Show</td>\n",
       "      <td>NaN</td>\n",
       "      <td>Jun 1, 2020</td>\n",
       "      <td>102</td>\n",
       "      <td>292</td>\n",
       "    </tr>\n",
       "    <tr>\n",
       "      <th>2919</th>\n",
       "      <td>2021-01-17</td>\n",
       "      <td>10</td>\n",
       "      <td>10</td>\n",
       "      <td>9</td>\n",
       "      <td>Cocomelon</td>\n",
       "      <td>TV Show</td>\n",
       "      <td>NaN</td>\n",
       "      <td>Jun 1, 2020</td>\n",
       "      <td>103</td>\n",
       "      <td>293</td>\n",
       "    </tr>\n",
       "    <tr>\n",
       "      <th>3019</th>\n",
       "      <td>2021-01-27</td>\n",
       "      <td>10</td>\n",
       "      <td>-</td>\n",
       "      <td>-</td>\n",
       "      <td>Cocomelon</td>\n",
       "      <td>TV Show</td>\n",
       "      <td>NaN</td>\n",
       "      <td>Jun 1, 2020</td>\n",
       "      <td>104</td>\n",
       "      <td>294</td>\n",
       "    </tr>\n",
       "    <tr>\n",
       "      <th>...</th>\n",
       "      <td>...</td>\n",
       "      <td>...</td>\n",
       "      <td>...</td>\n",
       "      <td>...</td>\n",
       "      <td>...</td>\n",
       "      <td>...</td>\n",
       "      <td>...</td>\n",
       "      <td>...</td>\n",
       "      <td>...</td>\n",
       "      <td>...</td>\n",
       "    </tr>\n",
       "    <tr>\n",
       "      <th>6674</th>\n",
       "      <td>2022-01-28</td>\n",
       "      <td>5</td>\n",
       "      <td>6</td>\n",
       "      <td>-</td>\n",
       "      <td>Cocomelon</td>\n",
       "      <td>TV Show</td>\n",
       "      <td>NaN</td>\n",
       "      <td>Jun 1, 2020</td>\n",
       "      <td>424</td>\n",
       "      <td>1466</td>\n",
       "    </tr>\n",
       "    <tr>\n",
       "      <th>6687</th>\n",
       "      <td>2022-01-29</td>\n",
       "      <td>8</td>\n",
       "      <td>5</td>\n",
       "      <td>8</td>\n",
       "      <td>Cocomelon</td>\n",
       "      <td>TV Show</td>\n",
       "      <td>NaN</td>\n",
       "      <td>Jun 1, 2020</td>\n",
       "      <td>425</td>\n",
       "      <td>1469</td>\n",
       "    </tr>\n",
       "    <tr>\n",
       "      <th>6718</th>\n",
       "      <td>2022-02-01</td>\n",
       "      <td>9</td>\n",
       "      <td>-</td>\n",
       "      <td>7</td>\n",
       "      <td>Cocomelon</td>\n",
       "      <td>TV Show</td>\n",
       "      <td>NaN</td>\n",
       "      <td>Jun 1, 2020</td>\n",
       "      <td>426</td>\n",
       "      <td>1471</td>\n",
       "    </tr>\n",
       "    <tr>\n",
       "      <th>6959</th>\n",
       "      <td>2022-02-25</td>\n",
       "      <td>10</td>\n",
       "      <td>-</td>\n",
       "      <td>-</td>\n",
       "      <td>Cocomelon</td>\n",
       "      <td>TV Show</td>\n",
       "      <td>NaN</td>\n",
       "      <td>Jun 1, 2020</td>\n",
       "      <td>427</td>\n",
       "      <td>1472</td>\n",
       "    </tr>\n",
       "    <tr>\n",
       "      <th>6998</th>\n",
       "      <td>2022-03-01</td>\n",
       "      <td>9</td>\n",
       "      <td>-</td>\n",
       "      <td>-</td>\n",
       "      <td>Cocomelon</td>\n",
       "      <td>TV Show</td>\n",
       "      <td>NaN</td>\n",
       "      <td>Jun 1, 2020</td>\n",
       "      <td>428</td>\n",
       "      <td>1474</td>\n",
       "    </tr>\n",
       "  </tbody>\n",
       "</table>\n",
       "<p>329 rows × 10 columns</p>\n",
       "</div>"
      ],
      "text/plain": [
       "           As of  Rank Year to Date Rank Last Week Rank      Title     Type  \\\n",
       "2886  2021-01-14     7                 6              8  Cocomelon  TV Show   \n",
       "2896  2021-01-15     7                 7             10  Cocomelon  TV Show   \n",
       "2909  2021-01-16    10                 7              9  Cocomelon  TV Show   \n",
       "2919  2021-01-17    10                10              9  Cocomelon  TV Show   \n",
       "3019  2021-01-27    10                 -              -  Cocomelon  TV Show   \n",
       "...          ...   ...               ...            ...        ...      ...   \n",
       "6674  2022-01-28     5                 6              -  Cocomelon  TV Show   \n",
       "6687  2022-01-29     8                 5              8  Cocomelon  TV Show   \n",
       "6718  2022-02-01     9                 -              7  Cocomelon  TV Show   \n",
       "6959  2022-02-25    10                 -              -  Cocomelon  TV Show   \n",
       "6998  2022-03-01     9                 -              -  Cocomelon  TV Show   \n",
       "\n",
       "     Netflix Exclusive Netflix Release Date  Days In Top 10  Viewership Score  \n",
       "2886               NaN          Jun 1, 2020             100               287  \n",
       "2896               NaN          Jun 1, 2020             101               291  \n",
       "2909               NaN          Jun 1, 2020             102               292  \n",
       "2919               NaN          Jun 1, 2020             103               293  \n",
       "3019               NaN          Jun 1, 2020             104               294  \n",
       "...                ...                  ...             ...               ...  \n",
       "6674               NaN          Jun 1, 2020             424              1466  \n",
       "6687               NaN          Jun 1, 2020             425              1469  \n",
       "6718               NaN          Jun 1, 2020             426              1471  \n",
       "6959               NaN          Jun 1, 2020             427              1472  \n",
       "6998               NaN          Jun 1, 2020             428              1474  \n",
       "\n",
       "[329 rows x 10 columns]"
      ]
     },
     "execution_count": 58,
     "metadata": {},
     "output_type": "execute_result"
    }
   ],
   "source": [
    "base[base['Days In Top 10'] >= 100]"
   ]
  },
  {
   "cell_type": "code",
   "execution_count": 59,
   "id": "a7bcc5cb",
   "metadata": {},
   "outputs": [],
   "source": [
    "base_excel = base[base['Days In Top 10'] >= 100]\n",
    "base_excel.to_excel('Verificar.xlsx')"
   ]
  },
  {
   "cell_type": "markdown",
   "id": "635bfa12",
   "metadata": {},
   "source": [
    "#### Entendendo melhor essas informações (continuando)"
   ]
  },
  {
   "cell_type": "code",
   "execution_count": 60,
   "id": "81be8f19",
   "metadata": {},
   "outputs": [
    {
     "data": {
      "text/plain": [
       "<Axes: >"
      ]
     },
     "execution_count": 60,
     "metadata": {},
     "output_type": "execute_result"
    },
    {
     "data": {
      "image/png": "[encoded data removed]",
      "text/plain": [
       "<Figure size 640x480 with 1 Axes>"
      ]
     },
     "metadata": {},
     "output_type": "display_data"
    }
   ],
   "source": [
    "base[['Rank']].boxplot()"
   ]
  },
  {
   "cell_type": "code",
   "execution_count": 61,
   "id": "8f865d8b",
   "metadata": {},
   "outputs": [
    {
     "data": {
      "text/plain": [
       "Title\n",
       "Cocomelon                       428\n",
       "Ozark                            85\n",
       "Cobra Kai                        81\n",
       "Manifest                         80\n",
       "The Queenâs Gambit             73\n",
       "                               ... \n",
       "The Office                        1\n",
       "Animals on the Loose: A You…      1\n",
       "Dark                              1\n",
       "The Secret Life of Pets 2         1\n",
       "Step Up Revolution                1\n",
       "Name: count, Length: 645, dtype: int64"
      ]
     },
     "execution_count": 61,
     "metadata": {},
     "output_type": "execute_result"
    }
   ],
   "source": [
    "base.Title.value_counts()"
   ]
  },
  {
   "cell_type": "code",
   "execution_count": 62,
   "id": "c1d379b4",
   "metadata": {},
   "outputs": [
    {
     "data": {
      "image/png": "[encoded data removed]",
      "text/plain": [
       "<Figure size 640x480 with 1 Axes>"
      ]
     },
     "metadata": {},
     "output_type": "display_data"
    }
   ],
   "source": [
    "base.Type.value_counts().plot(kind='bar');"
   ]
  },
  {
   "cell_type": "code",
   "execution_count": 63,
   "id": "eac1b29c",
   "metadata": {},
   "outputs": [
    {
     "data": {
      "text/plain": [
       "array([[<Axes: title={'center': 'Rank'}>,\n",
       "        <Axes: title={'center': 'Days In Top 10'}>],\n",
       "       [<Axes: title={'center': 'Viewership Score'}>, <Axes: >]],\n",
       "      dtype=object)"
      ]
     },
     "execution_count": 63,
     "metadata": {},
     "output_type": "execute_result"
    },
    {
     "data": {
      "image/png": "[encoded data removed]",
      "text/plain": [
       "<Figure size 640x480 with 4 Axes>"
      ]
     },
     "metadata": {},
     "output_type": "display_data"
    }
   ],
   "source": [
    "base.hist()"
   ]
  },
  {
   "cell_type": "code",
   "execution_count": 64,
   "id": "fa5b3fa9",
   "metadata": {},
   "outputs": [
    {
     "data": {
      "image/png": "[encoded data removed]",
      "text/plain": [
       "<Figure size 640x480 with 1 Axes>"
      ]
     },
     "metadata": {},
     "output_type": "display_data"
    }
   ],
   "source": [
    "base['Viewership Score'].hist();"
   ]
  },
  {
   "cell_type": "code",
   "execution_count": 65,
   "id": "57c62c65",
   "metadata": {},
   "outputs": [
    {
     "data": {
      "text/html": [
       "<div>\n",
       "<style scoped>\n",
       "    .dataframe tbody tr th:only-of-type {\n",
       "        vertical-align: middle;\n",
       "    }\n",
       "\n",
       "    .dataframe tbody tr th {\n",
       "        vertical-align: top;\n",
       "    }\n",
       "\n",
       "    .dataframe thead th {\n",
       "        text-align: right;\n",
       "    }\n",
       "</style>\n",
       "<table border=\"1\" class=\"dataframe\">\n",
       "  <thead>\n",
       "    <tr style=\"text-align: right;\">\n",
       "      <th></th>\n",
       "      <th>As of</th>\n",
       "      <th>Rank</th>\n",
       "      <th>Year to Date Rank</th>\n",
       "      <th>Last Week Rank</th>\n",
       "      <th>Title</th>\n",
       "      <th>Type</th>\n",
       "      <th>Netflix Exclusive</th>\n",
       "      <th>Netflix Release Date</th>\n",
       "      <th>Days In Top 10</th>\n",
       "      <th>Viewership Score</th>\n",
       "    </tr>\n",
       "  </thead>\n",
       "  <tbody>\n",
       "    <tr>\n",
       "      <th>6998</th>\n",
       "      <td>2022-03-01</td>\n",
       "      <td>9</td>\n",
       "      <td>-</td>\n",
       "      <td>-</td>\n",
       "      <td>Cocomelon</td>\n",
       "      <td>TV Show</td>\n",
       "      <td>NaN</td>\n",
       "      <td>Jun 1, 2020</td>\n",
       "      <td>428</td>\n",
       "      <td>1474</td>\n",
       "    </tr>\n",
       "  </tbody>\n",
       "</table>\n",
       "</div>"
      ],
      "text/plain": [
       "           As of  Rank Year to Date Rank Last Week Rank      Title     Type  \\\n",
       "6998  2022-03-01     9                 -              -  Cocomelon  TV Show   \n",
       "\n",
       "     Netflix Exclusive Netflix Release Date  Days In Top 10  Viewership Score  \n",
       "6998               NaN          Jun 1, 2020             428              1474  "
      ]
     },
     "execution_count": 65,
     "metadata": {},
     "output_type": "execute_result"
    }
   ],
   "source": [
    "base[base['Viewership Score'] == base['Viewership Score'].max()]"
   ]
  }
 ],
 "metadata": {
  "kernelspec": {
   "display_name": "Python 3 (ipykernel)",
   "language": "python",
   "name": "python3"
  },
  "language_info": {
   "codemirror_mode": {
    "name": "ipython",
    "version": 3
   },
   "file_extension": ".py",
   "mimetype": "text/x-python",
   "name": "python",
   "nbconvert_exporter": "python",
   "pygments_lexer": "ipython3",
   "version": "3.11.5"
  }
 },
 "nbformat": 4,
 "nbformat_minor": 5
}

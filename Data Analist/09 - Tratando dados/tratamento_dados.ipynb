{
 "cells": [
  {
   "cell_type": "markdown",
   "metadata": {},
   "source": [
    "# Tratamento de Dados\n",
    "\n",
    "<p>Neste exemplo estaremos realizando uma analise dos dados e realizando um tratamento de dados em algumas variávels que necessitam de tratamento. <br>\n",
    "<p>Realizaremos um tratamento dos dados visando a preparação para uma futura criação de um modelo preditivo de machine learning."
   ]
  },
  {
   "cell_type": "code",
   "execution_count": 1,
   "metadata": {},
   "outputs": [],
   "source": [
    "# A primeira coisa que temos que fazer é importar os pacotes que iremos utilizar.\n",
    "# Obs.: Pacotes do Python são conjuntos de funcionalidades disponíveis da ferramenta.\n",
    "\n",
    "#Pandas: Possui inúmeras funções e comandos para importar arquivos, analisar dados, tratar dados, etc.\n",
    "import pandas as pd\n",
    "\n",
    "#Matplotlib: Possui uma série de funções e comandos para exibição de gráficos\n",
    "import matplotlib.pyplot as plt\n",
    "\n",
    "#Seaborn: Possui uma série de funções e comandos para exibição de gráficos (Visualizações mais robustas do que o Matplotlib)\n",
    "import seaborn as sns\n",
    "\n",
    "#Numpy: Possui uma série de funções e comandos para trabalharmos com números de forma em geral(formatação, calculos, etc)\n",
    "import numpy as np\n",
    "\n",
    "#Warnings: Possui detalhes sobre os avisos e alertas que aparecem, porém podemos utiliza-lo também para que os alertas de\n",
    "#futuras atualizações e metodos depreciados não sejam exibidos\n",
    "import warnings\n",
    "warnings.filterwarnings(\"ignore\") \n",
    "\n",
    "# Locale: Utilizado para formatação de datas, valores, dias de acordo com a região que queremos.\n",
    "import locale"
   ]
  },
  {
   "cell_type": "code",
   "execution_count": 2,
   "metadata": {},
   "outputs": [],
   "source": [
    "#Comando para exibir todas colunas do arquivo\n",
    "pd.set_option('display.max_columns', None)\n",
    "pd.set_option('display.max_rows', None)"
   ]
  },
  {
   "cell_type": "code",
   "execution_count": 3,
   "metadata": {},
   "outputs": [],
   "source": [
    "#Comando utilizado para carregar o arquivo e armazena-lo como um DataFrame do Pandas\n",
    "#Um DataFrame do Pandas é como se fosse uma planilha do Excel, onde podemos tratar linhas e colunas.\n",
    "df_dados = pd.read_excel(\"dados.xlsx\")"
   ]
  },
  {
   "cell_type": "code",
   "execution_count": 4,
   "metadata": {},
   "outputs": [
    {
     "data": {
      "text/plain": [
       "(986, 10)"
      ]
     },
     "execution_count": 4,
     "metadata": {},
     "output_type": "execute_result"
    }
   ],
   "source": [
    "#Comando utilizado para verificar a quantidade de linhas e colunas do arquivo\n",
    "#Colunas também são chamadas de variáveis.\n",
    "df_dados.shape"
   ]
  },
  {
   "cell_type": "code",
   "execution_count": 5,
   "metadata": {},
   "outputs": [
    {
     "data": {
      "text/html": [
       "<div>\n",
       "<style scoped>\n",
       "    .dataframe tbody tr th:only-of-type {\n",
       "        vertical-align: middle;\n",
       "    }\n",
       "\n",
       "    .dataframe tbody tr th {\n",
       "        vertical-align: top;\n",
       "    }\n",
       "\n",
       "    .dataframe thead th {\n",
       "        text-align: right;\n",
       "    }\n",
       "</style>\n",
       "<table border=\"1\" class=\"dataframe\">\n",
       "  <thead>\n",
       "    <tr style=\"text-align: right;\">\n",
       "      <th></th>\n",
       "      <th>DATA_VENDA</th>\n",
       "      <th>MODELO</th>\n",
       "      <th>KM-LITRO</th>\n",
       "      <th>CILINDROS</th>\n",
       "      <th>PESO(KG)</th>\n",
       "      <th>VELOCIDADE_MAXIMA(KM/H)</th>\n",
       "      <th>CAVALOS</th>\n",
       "      <th>TRANSMISSAO</th>\n",
       "      <th>VALOR</th>\n",
       "      <th>CATEGORIA</th>\n",
       "    </tr>\n",
       "  </thead>\n",
       "  <tbody>\n",
       "    <tr>\n",
       "      <th>0</th>\n",
       "      <td>10/1/2020</td>\n",
       "      <td>LABORGUINI</td>\n",
       "      <td>3.0</td>\n",
       "      <td>12</td>\n",
       "      <td>1200</td>\n",
       "      <td>360</td>\n",
       "      <td>700</td>\n",
       "      <td>AUTOMATICO</td>\n",
       "      <td>50000000</td>\n",
       "      <td>IMPORTADO</td>\n",
       "    </tr>\n",
       "    <tr>\n",
       "      <th>1</th>\n",
       "      <td>10/1/2020</td>\n",
       "      <td>LABORGUINI</td>\n",
       "      <td>3.0</td>\n",
       "      <td>12</td>\n",
       "      <td>1200</td>\n",
       "      <td>360</td>\n",
       "      <td>700</td>\n",
       "      <td>AUTOMATICO</td>\n",
       "      <td>50000000</td>\n",
       "      <td>IMPORTADO</td>\n",
       "    </tr>\n",
       "    <tr>\n",
       "      <th>2</th>\n",
       "      <td>10/1/2020</td>\n",
       "      <td>LABORGUINI</td>\n",
       "      <td>3.0</td>\n",
       "      <td>12</td>\n",
       "      <td>1200</td>\n",
       "      <td>360</td>\n",
       "      <td>700</td>\n",
       "      <td>AUTOMATICO</td>\n",
       "      <td>900000</td>\n",
       "      <td>IMPORTADO</td>\n",
       "    </tr>\n",
       "    <tr>\n",
       "      <th>3</th>\n",
       "      <td>10/1/2020</td>\n",
       "      <td>FERRARI</td>\n",
       "      <td>3.0</td>\n",
       "      <td>12</td>\n",
       "      <td>1400</td>\n",
       "      <td>360</td>\n",
       "      <td>640</td>\n",
       "      <td>AUTOMATICO</td>\n",
       "      <td>900000</td>\n",
       "      <td>IMPORTADO</td>\n",
       "    </tr>\n",
       "    <tr>\n",
       "      <th>4</th>\n",
       "      <td>10/1/2020</td>\n",
       "      <td>ASTON MARTIN</td>\n",
       "      <td>3.5</td>\n",
       "      <td>10</td>\n",
       "      <td>1600</td>\n",
       "      <td>360</td>\n",
       "      <td>620</td>\n",
       "      <td>AUTOMATICO</td>\n",
       "      <td>900000</td>\n",
       "      <td>IMPORTADO</td>\n",
       "    </tr>\n",
       "  </tbody>\n",
       "</table>\n",
       "</div>"
      ],
      "text/plain": [
       "  DATA_VENDA        MODELO  KM-LITRO  CILINDROS  PESO(KG)  \\\n",
       "0  10/1/2020    LABORGUINI       3.0         12      1200   \n",
       "1  10/1/2020    LABORGUINI       3.0         12      1200   \n",
       "2  10/1/2020    LABORGUINI       3.0         12      1200   \n",
       "3  10/1/2020       FERRARI       3.0         12      1400   \n",
       "4  10/1/2020  ASTON MARTIN       3.5         10      1600   \n",
       "\n",
       "   VELOCIDADE_MAXIMA(KM/H)  CAVALOS TRANSMISSAO     VALOR  CATEGORIA  \n",
       "0                      360      700  AUTOMATICO  50000000  IMPORTADO  \n",
       "1                      360      700  AUTOMATICO  50000000  IMPORTADO  \n",
       "2                      360      700  AUTOMATICO    900000  IMPORTADO  \n",
       "3                      360      640  AUTOMATICO    900000  IMPORTADO  \n",
       "4                      360      620  AUTOMATICO    900000  IMPORTADO  "
      ]
     },
     "execution_count": 5,
     "metadata": {},
     "output_type": "execute_result"
    }
   ],
   "source": [
    "#Comando utilizado para verificar as linhas iniciais do DataFrame\n",
    "df_dados.head()"
   ]
  },
  {
   "cell_type": "code",
   "execution_count": 6,
   "metadata": {},
   "outputs": [
    {
     "data": {
      "text/html": [
       "<div>\n",
       "<style scoped>\n",
       "    .dataframe tbody tr th:only-of-type {\n",
       "        vertical-align: middle;\n",
       "    }\n",
       "\n",
       "    .dataframe tbody tr th {\n",
       "        vertical-align: top;\n",
       "    }\n",
       "\n",
       "    .dataframe thead th {\n",
       "        text-align: right;\n",
       "    }\n",
       "</style>\n",
       "<table border=\"1\" class=\"dataframe\">\n",
       "  <thead>\n",
       "    <tr style=\"text-align: right;\">\n",
       "      <th></th>\n",
       "      <th>DATA_VENDA</th>\n",
       "      <th>MODELO</th>\n",
       "      <th>KM-LITRO</th>\n",
       "      <th>CILINDROS</th>\n",
       "      <th>PESO(KG)</th>\n",
       "      <th>VELOCIDADE_MAXIMA(KM/H)</th>\n",
       "      <th>CAVALOS</th>\n",
       "      <th>TRANSMISSAO</th>\n",
       "      <th>VALOR</th>\n",
       "      <th>CATEGORIA</th>\n",
       "    </tr>\n",
       "  </thead>\n",
       "  <tbody>\n",
       "    <tr>\n",
       "      <th>981</th>\n",
       "      <td>10/12/2021</td>\n",
       "      <td>HONDA FIT</td>\n",
       "      <td>12.0</td>\n",
       "      <td>4</td>\n",
       "      <td>1700</td>\n",
       "      <td>200</td>\n",
       "      <td>116</td>\n",
       "      <td>AUTOMATICO</td>\n",
       "      <td>120000</td>\n",
       "      <td>NACIONAL</td>\n",
       "    </tr>\n",
       "    <tr>\n",
       "      <th>982</th>\n",
       "      <td>10/12/2021</td>\n",
       "      <td>PALIO</td>\n",
       "      <td>11.0</td>\n",
       "      <td>4</td>\n",
       "      <td>1700</td>\n",
       "      <td>200</td>\n",
       "      <td>118</td>\n",
       "      <td>MANUAL</td>\n",
       "      <td>60000</td>\n",
       "      <td>NACIONAL</td>\n",
       "    </tr>\n",
       "    <tr>\n",
       "      <th>983</th>\n",
       "      <td>10/12/2021</td>\n",
       "      <td>UNO</td>\n",
       "      <td>13.5</td>\n",
       "      <td>4</td>\n",
       "      <td>1700</td>\n",
       "      <td>200</td>\n",
       "      <td>118</td>\n",
       "      <td>MANUAL</td>\n",
       "      <td>48000</td>\n",
       "      <td>NACIONAL</td>\n",
       "    </tr>\n",
       "    <tr>\n",
       "      <th>984</th>\n",
       "      <td>10/12/2021</td>\n",
       "      <td>MOBI</td>\n",
       "      <td>14.0</td>\n",
       "      <td>4</td>\n",
       "      <td>1700</td>\n",
       "      <td>200</td>\n",
       "      <td>118</td>\n",
       "      <td>MANUAL</td>\n",
       "      <td>42000</td>\n",
       "      <td>NACIONAL</td>\n",
       "    </tr>\n",
       "    <tr>\n",
       "      <th>985</th>\n",
       "      <td>10/12/2021</td>\n",
       "      <td>PASSAT</td>\n",
       "      <td>8.0</td>\n",
       "      <td>6</td>\n",
       "      <td>1800</td>\n",
       "      <td>200</td>\n",
       "      <td>118</td>\n",
       "      <td>MANUAL</td>\n",
       "      <td>200000</td>\n",
       "      <td>IMPORTADO</td>\n",
       "    </tr>\n",
       "  </tbody>\n",
       "</table>\n",
       "</div>"
      ],
      "text/plain": [
       "     DATA_VENDA     MODELO  KM-LITRO  CILINDROS  PESO(KG)  \\\n",
       "981  10/12/2021  HONDA FIT      12.0          4      1700   \n",
       "982  10/12/2021      PALIO      11.0          4      1700   \n",
       "983  10/12/2021        UNO      13.5          4      1700   \n",
       "984  10/12/2021       MOBI      14.0          4      1700   \n",
       "985  10/12/2021     PASSAT       8.0          6      1800   \n",
       "\n",
       "     VELOCIDADE_MAXIMA(KM/H)  CAVALOS TRANSMISSAO   VALOR  CATEGORIA  \n",
       "981                      200      116  AUTOMATICO  120000   NACIONAL  \n",
       "982                      200      118      MANUAL   60000   NACIONAL  \n",
       "983                      200      118      MANUAL   48000   NACIONAL  \n",
       "984                      200      118      MANUAL   42000   NACIONAL  \n",
       "985                      200      118      MANUAL  200000  IMPORTADO  "
      ]
     },
     "execution_count": 6,
     "metadata": {},
     "output_type": "execute_result"
    }
   ],
   "source": [
    "#Comando utilizado para verificar as linhas finais do DataFrame\n",
    "df_dados.tail()"
   ]
  },
  {
   "cell_type": "code",
   "execution_count": 7,
   "metadata": {},
   "outputs": [
    {
     "name": "stdout",
     "output_type": "stream",
     "text": [
      "Período dos dados - De: 2020-10-01 Até: 2021-10-12\n"
     ]
    }
   ],
   "source": [
    "#Avaliar o período dos dados coletados\n",
    "inicio = pd.to_datetime(df_dados['DATA_VENDA']).dt.date.min()\n",
    "fim = pd.to_datetime(df_dados['DATA_VENDA']).dt.date.max()\n",
    "print('Período dos dados - De:', inicio, 'Até:',fim)"
   ]
  },
  {
   "cell_type": "code",
   "execution_count": 8,
   "metadata": {},
   "outputs": [
    {
     "name": "stdout",
     "output_type": "stream",
     "text": [
      "<class 'pandas.core.frame.DataFrame'>\n",
      "RangeIndex: 986 entries, 0 to 985\n",
      "Data columns (total 10 columns):\n",
      " #   Column                   Non-Null Count  Dtype  \n",
      "---  ------                   --------------  -----  \n",
      " 0   DATA_VENDA               986 non-null    object \n",
      " 1   MODELO                   986 non-null    object \n",
      " 2   KM-LITRO                 984 non-null    float64\n",
      " 3   CILINDROS                986 non-null    int64  \n",
      " 4   PESO(KG)                 986 non-null    int64  \n",
      " 5   VELOCIDADE_MAXIMA(KM/H)  986 non-null    int64  \n",
      " 6   CAVALOS                  986 non-null    int64  \n",
      " 7   TRANSMISSAO              986 non-null    object \n",
      " 8   VALOR                    986 non-null    object \n",
      " 9   CATEGORIA                986 non-null    object \n",
      "dtypes: float64(1), int64(4), object(5)\n",
      "memory usage: 77.2+ KB\n"
     ]
    }
   ],
   "source": [
    "#Comando utilizado para verificar informações sobre os dados(Tipo de variáveis, Variáveis, Quantidade de registros, etc)\n",
    "\n",
    "#Neste caso a variavel DATA_VENDA deve ser do tipo Date e a variavel VALOR do tipo Float. Precisamos tratar essas variáveis.\n",
    "\n",
    "df_dados.info()"
   ]
  },
  {
   "cell_type": "code",
   "execution_count": 9,
   "metadata": {},
   "outputs": [
    {
     "data": {
      "text/plain": [
       "VALOR\n",
       "18000         48\n",
       "28000         42\n",
       "30000         24\n",
       "35000         42\n",
       "40000         30\n",
       "42000         66\n",
       "48000         66\n",
       "60000         66\n",
       "85000         36\n",
       "110000        24\n",
       "120000        66\n",
       "150000        36\n",
       "200000        65\n",
       "220000        36\n",
       "280000        66\n",
       "400000        36\n",
       "800000        66\n",
       "900000       168\n",
       "50000000       2\n",
       "SEM VALOR      1\n",
       "dtype: int64"
      ]
     },
     "execution_count": 9,
     "metadata": {},
     "output_type": "execute_result"
    }
   ],
   "source": [
    "# Dessa forma podemos agrupar os valores e identificar se há algum valor discrepante.\n",
    "# Observe que há um valor que foi inserido como \"SEM VALOR\"\n",
    "df_dados.groupby(['VALOR']).size()"
   ]
  },
  {
   "cell_type": "code",
   "execution_count": 10,
   "metadata": {},
   "outputs": [
    {
     "data": {
      "text/html": [
       "<div>\n",
       "<style scoped>\n",
       "    .dataframe tbody tr th:only-of-type {\n",
       "        vertical-align: middle;\n",
       "    }\n",
       "\n",
       "    .dataframe tbody tr th {\n",
       "        vertical-align: top;\n",
       "    }\n",
       "\n",
       "    .dataframe thead th {\n",
       "        text-align: right;\n",
       "    }\n",
       "</style>\n",
       "<table border=\"1\" class=\"dataframe\">\n",
       "  <thead>\n",
       "    <tr style=\"text-align: right;\">\n",
       "      <th></th>\n",
       "      <th>DATA_VENDA</th>\n",
       "      <th>MODELO</th>\n",
       "      <th>KM-LITRO</th>\n",
       "      <th>CILINDROS</th>\n",
       "      <th>PESO(KG)</th>\n",
       "      <th>VELOCIDADE_MAXIMA(KM/H)</th>\n",
       "      <th>CAVALOS</th>\n",
       "      <th>TRANSMISSAO</th>\n",
       "      <th>VALOR</th>\n",
       "      <th>CATEGORIA</th>\n",
       "    </tr>\n",
       "  </thead>\n",
       "  <tbody>\n",
       "    <tr>\n",
       "      <th>45</th>\n",
       "      <td>10/3/2020</td>\n",
       "      <td>PASSAT</td>\n",
       "      <td>8.0</td>\n",
       "      <td>6</td>\n",
       "      <td>1800</td>\n",
       "      <td>200</td>\n",
       "      <td>118</td>\n",
       "      <td>MANUAL</td>\n",
       "      <td>SEM VALOR</td>\n",
       "      <td>IMPORTADO</td>\n",
       "    </tr>\n",
       "  </tbody>\n",
       "</table>\n",
       "</div>"
      ],
      "text/plain": [
       "   DATA_VENDA  MODELO  KM-LITRO  CILINDROS  PESO(KG)  VELOCIDADE_MAXIMA(KM/H)  \\\n",
       "45  10/3/2020  PASSAT       8.0          6      1800                      200   \n",
       "\n",
       "    CAVALOS TRANSMISSAO      VALOR  CATEGORIA  \n",
       "45      118      MANUAL  SEM VALOR  IMPORTADO  "
      ]
     },
     "execution_count": 10,
     "metadata": {},
     "output_type": "execute_result"
    }
   ],
   "source": [
    "# Aqui poderíamos resolver de duas formas.\n",
    "\n",
    "# A primeira forma seria excluir todo o registro, mas estariamos perdendo dados.\n",
    "#df_dados.drop(df_dados.loc[df_dados['VALOR']=='SEM VALOR'].index, inplace=True)\n",
    "\n",
    "\n",
    "# A segunda forma seria verificar o valor médio ou da mediana deste modelo e substituir a palavra SEM VALOR para um valor médio.\n",
    "df_dados.loc[df_dados['VALOR'] == 'SEM VALOR']\n"
   ]
  },
  {
   "cell_type": "code",
   "execution_count": 11,
   "metadata": {},
   "outputs": [],
   "source": [
    "# Agora substituimos a palavra SEM VALOR pelo valor ZERO\n",
    "df_dados.loc[(df_dados['VALOR'] == 'SEM VALOR'), 'VALOR'] = 0"
   ]
  },
  {
   "cell_type": "code",
   "execution_count": 12,
   "metadata": {},
   "outputs": [],
   "source": [
    "# Em seguida convertemos o campo em float\n",
    "df_dados['VALOR'] = df_dados['VALOR'].astype(np.float64)"
   ]
  },
  {
   "cell_type": "code",
   "execution_count": 13,
   "metadata": {},
   "outputs": [
    {
     "ename": "TypeError",
     "evalue": "Cannot convert [['10/1/2020' '10/3/2020' '10/3/2020' '10/4/2020' '10/5/2020' '10/5/2020'\n  '10/6/2020' '10/6/2020' '10/6/2020' '10/7/2020' '10/7/2020' '10/8/2020'\n  '10/8/2020' '10/8/2020' '10/8/2020' '10/9/2020' '10/9/2020' '10/9/2020'\n  '10/9/2020' '10/10/2020' '10/10/2020' '10/10/2020' '10/10/2020'\n  '10/10/2020' '10/11/2020' '10/11/2020' '10/12/2020' '10/12/2020'\n  '10/12/2020' '10/12/2020' '10/2/2021' '10/3/2021' '10/3/2021'\n  '10/3/2021' '10/4/2021' '10/5/2021' '10/5/2021' '10/6/2021' '10/6/2021'\n  '10/7/2021' '10/7/2021' '10/8/2021' '10/8/2021' '10/8/2021' '10/8/2021'\n  '10/8/2021' '10/8/2021' '10/9/2021' '10/10/2021' '10/10/2021'\n  '10/10/2021' '10/10/2021' '10/10/2021' '10/10/2021' '10/10/2021'\n  '10/11/2021' '10/11/2021' '10/11/2021' '10/12/2021' '10/12/2021'\n  '10/12/2021' '10/12/2021' '10/12/2021' '10/12/2021' '10/12/2021'\n  '10/12/2021']\n ['PASSAT' 'PASSAT' 'PASSAT' 'PASSAT' 'PASSAT' 'PASSAT' 'PASSAT' 'PASSAT'\n  'PASSAT' 'PASSAT' 'PASSAT' 'PASSAT' 'PASSAT' 'PASSAT' 'PASSAT' 'PASSAT'\n  'PASSAT' 'PASSAT' 'PASSAT' 'PASSAT' 'PASSAT' 'PASSAT' 'PASSAT' 'PASSAT'\n  'PASSAT' 'PASSAT' 'PASSAT' 'PASSAT' 'PASSAT' 'PASSAT' 'PASSAT' 'PASSAT'\n  'PASSAT' 'PASSAT' 'PASSAT' 'PASSAT' 'PASSAT' 'PASSAT' 'PASSAT' 'PASSAT'\n  'PASSAT' 'PASSAT' 'PASSAT' 'PASSAT' 'PASSAT' 'PASSAT' 'PASSAT' 'PASSAT'\n  'PASSAT' 'PASSAT' 'PASSAT' 'PASSAT' 'PASSAT' 'PASSAT' 'PASSAT' 'PASSAT'\n  'PASSAT' 'PASSAT' 'PASSAT' 'PASSAT' 'PASSAT' 'PASSAT' 'PASSAT' 'PASSAT'\n  'PASSAT' 'PASSAT']\n ['MANUAL' 'MANUAL' 'MANUAL' 'MANUAL' 'MANUAL' 'MANUAL' 'MANUAL' 'MANUAL'\n  'MANUAL' 'MANUAL' 'MANUAL' 'MANUAL' 'MANUAL' 'MANUAL' 'MANUAL' 'MANUAL'\n  'MANUAL' 'MANUAL' 'MANUAL' 'MANUAL' 'MANUAL' 'MANUAL' 'MANUAL' 'MANUAL'\n  'MANUAL' 'MANUAL' 'MANUAL' 'MANUAL' 'MANUAL' 'MANUAL' 'MANUAL' 'MANUAL'\n  'MANUAL' 'MANUAL' 'MANUAL' 'MANUAL' 'MANUAL' 'MANUAL' 'MANUAL' 'MANUAL'\n  'MANUAL' 'MANUAL' 'MANUAL' 'MANUAL' 'MANUAL' 'MANUAL' 'MANUAL' 'MANUAL'\n  'MANUAL' 'MANUAL' 'MANUAL' 'MANUAL' 'MANUAL' 'MANUAL' 'MANUAL' 'MANUAL'\n  'MANUAL' 'MANUAL' 'MANUAL' 'MANUAL' 'MANUAL' 'MANUAL' 'MANUAL' 'MANUAL'\n  'MANUAL' 'MANUAL']] to numeric",
     "output_type": "error",
     "traceback": [
      "\u001b[1;31m---------------------------------------------------------------------------\u001b[0m",
      "\u001b[1;31mTypeError\u001b[0m                                 Traceback (most recent call last)",
      "Cell \u001b[1;32mIn[13], line 2\u001b[0m\n\u001b[0;32m      1\u001b[0m \u001b[38;5;66;03m# Verificamos os valores medianos da coluna modelo para substituir o valor ZERO\u001b[39;00m\n\u001b[1;32m----> 2\u001b[0m \u001b[43mdf_dados\u001b[49m\u001b[38;5;241;43m.\u001b[39;49m\u001b[43mloc\u001b[49m\u001b[43m[\u001b[49m\u001b[43mdf_dados\u001b[49m\u001b[43m[\u001b[49m\u001b[38;5;124;43m'\u001b[39;49m\u001b[38;5;124;43mMODELO\u001b[39;49m\u001b[38;5;124;43m'\u001b[39;49m\u001b[43m]\u001b[49m\u001b[43m \u001b[49m\u001b[38;5;241;43m==\u001b[39;49m\u001b[43m \u001b[49m\u001b[38;5;124;43m'\u001b[39;49m\u001b[38;5;124;43mPASSAT\u001b[39;49m\u001b[38;5;124;43m'\u001b[39;49m\u001b[43m]\u001b[49m\u001b[38;5;241;43m.\u001b[39;49m\u001b[43mmedian\u001b[49m\u001b[43m(\u001b[49m\u001b[43m)\u001b[49m\n",
      "File \u001b[1;32mc:\\Users\\Soldado\\AppData\\Local\\Programs\\Python\\Python311\\Lib\\site-packages\\pandas\\core\\frame.py:11351\u001b[0m, in \u001b[0;36mDataFrame.median\u001b[1;34m(self, axis, skipna, numeric_only, **kwargs)\u001b[0m\n\u001b[0;32m  11343\u001b[0m \u001b[38;5;129m@doc\u001b[39m(make_doc(\u001b[38;5;124m\"\u001b[39m\u001b[38;5;124mmedian\u001b[39m\u001b[38;5;124m\"\u001b[39m, ndim\u001b[38;5;241m=\u001b[39m\u001b[38;5;241m2\u001b[39m))\n\u001b[0;32m  11344\u001b[0m \u001b[38;5;28;01mdef\u001b[39;00m \u001b[38;5;21mmedian\u001b[39m(\n\u001b[0;32m  11345\u001b[0m     \u001b[38;5;28mself\u001b[39m,\n\u001b[1;32m   (...)\u001b[0m\n\u001b[0;32m  11349\u001b[0m     \u001b[38;5;241m*\u001b[39m\u001b[38;5;241m*\u001b[39mkwargs,\n\u001b[0;32m  11350\u001b[0m ):\n\u001b[1;32m> 11351\u001b[0m     result \u001b[38;5;241m=\u001b[39m \u001b[38;5;28;43msuper\u001b[39;49m\u001b[43m(\u001b[49m\u001b[43m)\u001b[49m\u001b[38;5;241;43m.\u001b[39;49m\u001b[43mmedian\u001b[49m\u001b[43m(\u001b[49m\u001b[43maxis\u001b[49m\u001b[43m,\u001b[49m\u001b[43m \u001b[49m\u001b[43mskipna\u001b[49m\u001b[43m,\u001b[49m\u001b[43m \u001b[49m\u001b[43mnumeric_only\u001b[49m\u001b[43m,\u001b[49m\u001b[43m \u001b[49m\u001b[38;5;241;43m*\u001b[39;49m\u001b[38;5;241;43m*\u001b[39;49m\u001b[43mkwargs\u001b[49m\u001b[43m)\u001b[49m\n\u001b[0;32m  11352\u001b[0m     \u001b[38;5;28;01mif\u001b[39;00m \u001b[38;5;28misinstance\u001b[39m(result, Series):\n\u001b[0;32m  11353\u001b[0m         result \u001b[38;5;241m=\u001b[39m result\u001b[38;5;241m.\u001b[39m__finalize__(\u001b[38;5;28mself\u001b[39m, method\u001b[38;5;241m=\u001b[39m\u001b[38;5;124m\"\u001b[39m\u001b[38;5;124mmedian\u001b[39m\u001b[38;5;124m\"\u001b[39m)\n",
      "File \u001b[1;32mc:\\Users\\Soldado\\AppData\\Local\\Programs\\Python\\Python311\\Lib\\site-packages\\pandas\\core\\generic.py:11989\u001b[0m, in \u001b[0;36mNDFrame.median\u001b[1;34m(self, axis, skipna, numeric_only, **kwargs)\u001b[0m\n\u001b[0;32m  11982\u001b[0m \u001b[38;5;28;01mdef\u001b[39;00m \u001b[38;5;21mmedian\u001b[39m(\n\u001b[0;32m  11983\u001b[0m     \u001b[38;5;28mself\u001b[39m,\n\u001b[0;32m  11984\u001b[0m     axis: Axis \u001b[38;5;241m|\u001b[39m \u001b[38;5;28;01mNone\u001b[39;00m \u001b[38;5;241m=\u001b[39m \u001b[38;5;241m0\u001b[39m,\n\u001b[1;32m   (...)\u001b[0m\n\u001b[0;32m  11987\u001b[0m     \u001b[38;5;241m*\u001b[39m\u001b[38;5;241m*\u001b[39mkwargs,\n\u001b[0;32m  11988\u001b[0m ) \u001b[38;5;241m-\u001b[39m\u001b[38;5;241m>\u001b[39m Series \u001b[38;5;241m|\u001b[39m \u001b[38;5;28mfloat\u001b[39m:\n\u001b[1;32m> 11989\u001b[0m     \u001b[38;5;28;01mreturn\u001b[39;00m \u001b[38;5;28;43mself\u001b[39;49m\u001b[38;5;241;43m.\u001b[39;49m\u001b[43m_stat_function\u001b[49m\u001b[43m(\u001b[49m\n\u001b[0;32m  11990\u001b[0m \u001b[43m        \u001b[49m\u001b[38;5;124;43m\"\u001b[39;49m\u001b[38;5;124;43mmedian\u001b[39;49m\u001b[38;5;124;43m\"\u001b[39;49m\u001b[43m,\u001b[49m\u001b[43m \u001b[49m\u001b[43mnanops\u001b[49m\u001b[38;5;241;43m.\u001b[39;49m\u001b[43mnanmedian\u001b[49m\u001b[43m,\u001b[49m\u001b[43m \u001b[49m\u001b[43maxis\u001b[49m\u001b[43m,\u001b[49m\u001b[43m \u001b[49m\u001b[43mskipna\u001b[49m\u001b[43m,\u001b[49m\u001b[43m \u001b[49m\u001b[43mnumeric_only\u001b[49m\u001b[43m,\u001b[49m\u001b[43m \u001b[49m\u001b[38;5;241;43m*\u001b[39;49m\u001b[38;5;241;43m*\u001b[39;49m\u001b[43mkwargs\u001b[49m\n\u001b[0;32m  11991\u001b[0m \u001b[43m    \u001b[49m\u001b[43m)\u001b[49m\n",
      "File \u001b[1;32mc:\\Users\\Soldado\\AppData\\Local\\Programs\\Python\\Python311\\Lib\\site-packages\\pandas\\core\\generic.py:11935\u001b[0m, in \u001b[0;36mNDFrame._stat_function\u001b[1;34m(self, name, func, axis, skipna, numeric_only, **kwargs)\u001b[0m\n\u001b[0;32m  11931\u001b[0m nv\u001b[38;5;241m.\u001b[39mvalidate_func(name, (), kwargs)\n\u001b[0;32m  11933\u001b[0m validate_bool_kwarg(skipna, \u001b[38;5;124m\"\u001b[39m\u001b[38;5;124mskipna\u001b[39m\u001b[38;5;124m\"\u001b[39m, none_allowed\u001b[38;5;241m=\u001b[39m\u001b[38;5;28;01mFalse\u001b[39;00m)\n\u001b[1;32m> 11935\u001b[0m \u001b[38;5;28;01mreturn\u001b[39;00m \u001b[38;5;28;43mself\u001b[39;49m\u001b[38;5;241;43m.\u001b[39;49m\u001b[43m_reduce\u001b[49m\u001b[43m(\u001b[49m\n\u001b[0;32m  11936\u001b[0m \u001b[43m    \u001b[49m\u001b[43mfunc\u001b[49m\u001b[43m,\u001b[49m\u001b[43m \u001b[49m\u001b[43mname\u001b[49m\u001b[38;5;241;43m=\u001b[39;49m\u001b[43mname\u001b[49m\u001b[43m,\u001b[49m\u001b[43m \u001b[49m\u001b[43maxis\u001b[49m\u001b[38;5;241;43m=\u001b[39;49m\u001b[43maxis\u001b[49m\u001b[43m,\u001b[49m\u001b[43m \u001b[49m\u001b[43mskipna\u001b[49m\u001b[38;5;241;43m=\u001b[39;49m\u001b[43mskipna\u001b[49m\u001b[43m,\u001b[49m\u001b[43m \u001b[49m\u001b[43mnumeric_only\u001b[49m\u001b[38;5;241;43m=\u001b[39;49m\u001b[43mnumeric_only\u001b[49m\n\u001b[0;32m  11937\u001b[0m \u001b[43m\u001b[49m\u001b[43m)\u001b[49m\n",
      "File \u001b[1;32mc:\\Users\\Soldado\\AppData\\Local\\Programs\\Python\\Python311\\Lib\\site-packages\\pandas\\core\\frame.py:11207\u001b[0m, in \u001b[0;36mDataFrame._reduce\u001b[1;34m(self, op, name, axis, skipna, numeric_only, filter_type, **kwds)\u001b[0m\n\u001b[0;32m  11203\u001b[0m     df \u001b[38;5;241m=\u001b[39m df\u001b[38;5;241m.\u001b[39mT\n\u001b[0;32m  11205\u001b[0m \u001b[38;5;66;03m# After possibly _get_data and transposing, we are now in the\u001b[39;00m\n\u001b[0;32m  11206\u001b[0m \u001b[38;5;66;03m#  simple case where we can use BlockManager.reduce\u001b[39;00m\n\u001b[1;32m> 11207\u001b[0m res \u001b[38;5;241m=\u001b[39m \u001b[43mdf\u001b[49m\u001b[38;5;241;43m.\u001b[39;49m\u001b[43m_mgr\u001b[49m\u001b[38;5;241;43m.\u001b[39;49m\u001b[43mreduce\u001b[49m\u001b[43m(\u001b[49m\u001b[43mblk_func\u001b[49m\u001b[43m)\u001b[49m\n\u001b[0;32m  11208\u001b[0m out \u001b[38;5;241m=\u001b[39m df\u001b[38;5;241m.\u001b[39m_constructor_from_mgr(res, axes\u001b[38;5;241m=\u001b[39mres\u001b[38;5;241m.\u001b[39maxes)\u001b[38;5;241m.\u001b[39miloc[\u001b[38;5;241m0\u001b[39m]\n\u001b[0;32m  11209\u001b[0m \u001b[38;5;28;01mif\u001b[39;00m out_dtype \u001b[38;5;129;01mis\u001b[39;00m \u001b[38;5;129;01mnot\u001b[39;00m \u001b[38;5;28;01mNone\u001b[39;00m \u001b[38;5;129;01mand\u001b[39;00m out\u001b[38;5;241m.\u001b[39mdtype \u001b[38;5;241m!=\u001b[39m \u001b[38;5;124m\"\u001b[39m\u001b[38;5;124mboolean\u001b[39m\u001b[38;5;124m\"\u001b[39m:\n",
      "File \u001b[1;32mc:\\Users\\Soldado\\AppData\\Local\\Programs\\Python\\Python311\\Lib\\site-packages\\pandas\\core\\internals\\managers.py:1459\u001b[0m, in \u001b[0;36mBlockManager.reduce\u001b[1;34m(self, func)\u001b[0m\n\u001b[0;32m   1457\u001b[0m res_blocks: \u001b[38;5;28mlist\u001b[39m[Block] \u001b[38;5;241m=\u001b[39m []\n\u001b[0;32m   1458\u001b[0m \u001b[38;5;28;01mfor\u001b[39;00m blk \u001b[38;5;129;01min\u001b[39;00m \u001b[38;5;28mself\u001b[39m\u001b[38;5;241m.\u001b[39mblocks:\n\u001b[1;32m-> 1459\u001b[0m     nbs \u001b[38;5;241m=\u001b[39m \u001b[43mblk\u001b[49m\u001b[38;5;241;43m.\u001b[39;49m\u001b[43mreduce\u001b[49m\u001b[43m(\u001b[49m\u001b[43mfunc\u001b[49m\u001b[43m)\u001b[49m\n\u001b[0;32m   1460\u001b[0m     res_blocks\u001b[38;5;241m.\u001b[39mextend(nbs)\n\u001b[0;32m   1462\u001b[0m index \u001b[38;5;241m=\u001b[39m Index([\u001b[38;5;28;01mNone\u001b[39;00m])  \u001b[38;5;66;03m# placeholder\u001b[39;00m\n",
      "File \u001b[1;32mc:\\Users\\Soldado\\AppData\\Local\\Programs\\Python\\Python311\\Lib\\site-packages\\pandas\\core\\internals\\blocks.py:377\u001b[0m, in \u001b[0;36mBlock.reduce\u001b[1;34m(self, func)\u001b[0m\n\u001b[0;32m    371\u001b[0m \u001b[38;5;129m@final\u001b[39m\n\u001b[0;32m    372\u001b[0m \u001b[38;5;28;01mdef\u001b[39;00m \u001b[38;5;21mreduce\u001b[39m(\u001b[38;5;28mself\u001b[39m, func) \u001b[38;5;241m-\u001b[39m\u001b[38;5;241m>\u001b[39m \u001b[38;5;28mlist\u001b[39m[Block]:\n\u001b[0;32m    373\u001b[0m     \u001b[38;5;66;03m# We will apply the function and reshape the result into a single-row\u001b[39;00m\n\u001b[0;32m    374\u001b[0m     \u001b[38;5;66;03m#  Block with the same mgr_locs; squeezing will be done at a higher level\u001b[39;00m\n\u001b[0;32m    375\u001b[0m     \u001b[38;5;28;01massert\u001b[39;00m \u001b[38;5;28mself\u001b[39m\u001b[38;5;241m.\u001b[39mndim \u001b[38;5;241m==\u001b[39m \u001b[38;5;241m2\u001b[39m\n\u001b[1;32m--> 377\u001b[0m     result \u001b[38;5;241m=\u001b[39m \u001b[43mfunc\u001b[49m\u001b[43m(\u001b[49m\u001b[38;5;28;43mself\u001b[39;49m\u001b[38;5;241;43m.\u001b[39;49m\u001b[43mvalues\u001b[49m\u001b[43m)\u001b[49m\n\u001b[0;32m    379\u001b[0m     \u001b[38;5;28;01mif\u001b[39;00m \u001b[38;5;28mself\u001b[39m\u001b[38;5;241m.\u001b[39mvalues\u001b[38;5;241m.\u001b[39mndim \u001b[38;5;241m==\u001b[39m \u001b[38;5;241m1\u001b[39m:\n\u001b[0;32m    380\u001b[0m         res_values \u001b[38;5;241m=\u001b[39m result\n",
      "File \u001b[1;32mc:\\Users\\Soldado\\AppData\\Local\\Programs\\Python\\Python311\\Lib\\site-packages\\pandas\\core\\frame.py:11139\u001b[0m, in \u001b[0;36mDataFrame._reduce.<locals>.blk_func\u001b[1;34m(values, axis)\u001b[0m\n\u001b[0;32m  11137\u001b[0m         \u001b[38;5;28;01mreturn\u001b[39;00m np\u001b[38;5;241m.\u001b[39marray([result])\n\u001b[0;32m  11138\u001b[0m \u001b[38;5;28;01melse\u001b[39;00m:\n\u001b[1;32m> 11139\u001b[0m     \u001b[38;5;28;01mreturn\u001b[39;00m \u001b[43mop\u001b[49m\u001b[43m(\u001b[49m\u001b[43mvalues\u001b[49m\u001b[43m,\u001b[49m\u001b[43m \u001b[49m\u001b[43maxis\u001b[49m\u001b[38;5;241;43m=\u001b[39;49m\u001b[43maxis\u001b[49m\u001b[43m,\u001b[49m\u001b[43m \u001b[49m\u001b[43mskipna\u001b[49m\u001b[38;5;241;43m=\u001b[39;49m\u001b[43mskipna\u001b[49m\u001b[43m,\u001b[49m\u001b[43m \u001b[49m\u001b[38;5;241;43m*\u001b[39;49m\u001b[38;5;241;43m*\u001b[39;49m\u001b[43mkwds\u001b[49m\u001b[43m)\u001b[49m\n",
      "File \u001b[1;32mc:\\Users\\Soldado\\AppData\\Local\\Programs\\Python\\Python311\\Lib\\site-packages\\pandas\\core\\nanops.py:147\u001b[0m, in \u001b[0;36mbottleneck_switch.__call__.<locals>.f\u001b[1;34m(values, axis, skipna, **kwds)\u001b[0m\n\u001b[0;32m    145\u001b[0m         result \u001b[38;5;241m=\u001b[39m alt(values, axis\u001b[38;5;241m=\u001b[39maxis, skipna\u001b[38;5;241m=\u001b[39mskipna, \u001b[38;5;241m*\u001b[39m\u001b[38;5;241m*\u001b[39mkwds)\n\u001b[0;32m    146\u001b[0m \u001b[38;5;28;01melse\u001b[39;00m:\n\u001b[1;32m--> 147\u001b[0m     result \u001b[38;5;241m=\u001b[39m \u001b[43malt\u001b[49m\u001b[43m(\u001b[49m\u001b[43mvalues\u001b[49m\u001b[43m,\u001b[49m\u001b[43m \u001b[49m\u001b[43maxis\u001b[49m\u001b[38;5;241;43m=\u001b[39;49m\u001b[43maxis\u001b[49m\u001b[43m,\u001b[49m\u001b[43m \u001b[49m\u001b[43mskipna\u001b[49m\u001b[38;5;241;43m=\u001b[39;49m\u001b[43mskipna\u001b[49m\u001b[43m,\u001b[49m\u001b[43m \u001b[49m\u001b[38;5;241;43m*\u001b[39;49m\u001b[38;5;241;43m*\u001b[39;49m\u001b[43mkwds\u001b[49m\u001b[43m)\u001b[49m\n\u001b[0;32m    149\u001b[0m \u001b[38;5;28;01mreturn\u001b[39;00m result\n",
      "File \u001b[1;32mc:\\Users\\Soldado\\AppData\\Local\\Programs\\Python\\Python311\\Lib\\site-packages\\pandas\\core\\nanops.py:783\u001b[0m, in \u001b[0;36mnanmedian\u001b[1;34m(values, axis, skipna, mask)\u001b[0m\n\u001b[0;32m    781\u001b[0m     inferred \u001b[38;5;241m=\u001b[39m lib\u001b[38;5;241m.\u001b[39minfer_dtype(values)\n\u001b[0;32m    782\u001b[0m     \u001b[38;5;28;01mif\u001b[39;00m inferred \u001b[38;5;129;01min\u001b[39;00m [\u001b[38;5;124m\"\u001b[39m\u001b[38;5;124mstring\u001b[39m\u001b[38;5;124m\"\u001b[39m, \u001b[38;5;124m\"\u001b[39m\u001b[38;5;124mmixed\u001b[39m\u001b[38;5;124m\"\u001b[39m]:\n\u001b[1;32m--> 783\u001b[0m         \u001b[38;5;28;01mraise\u001b[39;00m \u001b[38;5;167;01mTypeError\u001b[39;00m(\u001b[38;5;124mf\u001b[39m\u001b[38;5;124m\"\u001b[39m\u001b[38;5;124mCannot convert \u001b[39m\u001b[38;5;132;01m{\u001b[39;00mvalues\u001b[38;5;132;01m}\u001b[39;00m\u001b[38;5;124m to numeric\u001b[39m\u001b[38;5;124m\"\u001b[39m)\n\u001b[0;32m    784\u001b[0m \u001b[38;5;28;01mtry\u001b[39;00m:\n\u001b[0;32m    785\u001b[0m     values \u001b[38;5;241m=\u001b[39m values\u001b[38;5;241m.\u001b[39mastype(\u001b[38;5;124m\"\u001b[39m\u001b[38;5;124mf8\u001b[39m\u001b[38;5;124m\"\u001b[39m)\n",
      "\u001b[1;31mTypeError\u001b[0m: Cannot convert [['10/1/2020' '10/3/2020' '10/3/2020' '10/4/2020' '10/5/2020' '10/5/2020'\n  '10/6/2020' '10/6/2020' '10/6/2020' '10/7/2020' '10/7/2020' '10/8/2020'\n  '10/8/2020' '10/8/2020' '10/8/2020' '10/9/2020' '10/9/2020' '10/9/2020'\n  '10/9/2020' '10/10/2020' '10/10/2020' '10/10/2020' '10/10/2020'\n  '10/10/2020' '10/11/2020' '10/11/2020' '10/12/2020' '10/12/2020'\n  '10/12/2020' '10/12/2020' '10/2/2021' '10/3/2021' '10/3/2021'\n  '10/3/2021' '10/4/2021' '10/5/2021' '10/5/2021' '10/6/2021' '10/6/2021'\n  '10/7/2021' '10/7/2021' '10/8/2021' '10/8/2021' '10/8/2021' '10/8/2021'\n  '10/8/2021' '10/8/2021' '10/9/2021' '10/10/2021' '10/10/2021'\n  '10/10/2021' '10/10/2021' '10/10/2021' '10/10/2021' '10/10/2021'\n  '10/11/2021' '10/11/2021' '10/11/2021' '10/12/2021' '10/12/2021'\n  '10/12/2021' '10/12/2021' '10/12/2021' '10/12/2021' '10/12/2021'\n  '10/12/2021']\n ['PASSAT' 'PASSAT' 'PASSAT' 'PASSAT' 'PASSAT' 'PASSAT' 'PASSAT' 'PASSAT'\n  'PASSAT' 'PASSAT' 'PASSAT' 'PASSAT' 'PASSAT' 'PASSAT' 'PASSAT' 'PASSAT'\n  'PASSAT' 'PASSAT' 'PASSAT' 'PASSAT' 'PASSAT' 'PASSAT' 'PASSAT' 'PASSAT'\n  'PASSAT' 'PASSAT' 'PASSAT' 'PASSAT' 'PASSAT' 'PASSAT' 'PASSAT' 'PASSAT'\n  'PASSAT' 'PASSAT' 'PASSAT' 'PASSAT' 'PASSAT' 'PASSAT' 'PASSAT' 'PASSAT'\n  'PASSAT' 'PASSAT' 'PASSAT' 'PASSAT' 'PASSAT' 'PASSAT' 'PASSAT' 'PASSAT'\n  'PASSAT' 'PASSAT' 'PASSAT' 'PASSAT' 'PASSAT' 'PASSAT' 'PASSAT' 'PASSAT'\n  'PASSAT' 'PASSAT' 'PASSAT' 'PASSAT' 'PASSAT' 'PASSAT' 'PASSAT' 'PASSAT'\n  'PASSAT' 'PASSAT']\n ['MANUAL' 'MANUAL' 'MANUAL' 'MANUAL' 'MANUAL' 'MANUAL' 'MANUAL' 'MANUAL'\n  'MANUAL' 'MANUAL' 'MANUAL' 'MANUAL' 'MANUAL' 'MANUAL' 'MANUAL' 'MANUAL'\n  'MANUAL' 'MANUAL' 'MANUAL' 'MANUAL' 'MANUAL' 'MANUAL' 'MANUAL' 'MANUAL'\n  'MANUAL' 'MANUAL' 'MANUAL' 'MANUAL' 'MANUAL' 'MANUAL' 'MANUAL' 'MANUAL'\n  'MANUAL' 'MANUAL' 'MANUAL' 'MANUAL' 'MANUAL' 'MANUAL' 'MANUAL' 'MANUAL'\n  'MANUAL' 'MANUAL' 'MANUAL' 'MANUAL' 'MANUAL' 'MANUAL' 'MANUAL' 'MANUAL'\n  'MANUAL' 'MANUAL' 'MANUAL' 'MANUAL' 'MANUAL' 'MANUAL' 'MANUAL' 'MANUAL'\n  'MANUAL' 'MANUAL' 'MANUAL' 'MANUAL' 'MANUAL' 'MANUAL' 'MANUAL' 'MANUAL'\n  'MANUAL' 'MANUAL']] to numeric"
     ]
    }
   ],
   "source": [
    "# Verificamos os valores medianos da coluna modelo para substituir o valor ZERO\n",
    "df_dados.loc[df_dados['MODELO'] == 'PASSAT'].median()"
   ]
  },
  {
   "cell_type": "code",
   "execution_count": null,
   "metadata": {},
   "outputs": [],
   "source": [
    "# Aqui atualizamos o valor conforme a mediana daquele modelo\n",
    "df_dados.loc[(df_dados['VALOR'] == 200000), 'VALOR'] = 0"
   ]
  },
  {
   "cell_type": "code",
   "execution_count": null,
   "metadata": {},
   "outputs": [],
   "source": [
    "# Comando utilizado para avaliar se alguma variável possui valor nulo ou chamado de valores missing ou NAN (Not Available)\n",
    "df_dados.isnull().sum()"
   ]
  },
  {
   "cell_type": "code",
   "execution_count": null,
   "metadata": {},
   "outputs": [],
   "source": [
    "# Agora iremos tratar os valores missing, ou seja, os registros que não possuem valores.\n",
    "# Uma forma bem mais simples de tratarmos o dado é utilizar direto a função FILLNA preenchendo os valores em branco \n",
    "# com a mediana\n",
    "df_dados['KM-LITRO'] = df_dados['KM-LITRO'].fillna((df_dados['KM-LITRO'].median()))"
   ]
  },
  {
   "cell_type": "code",
   "execution_count": null,
   "metadata": {},
   "outputs": [],
   "source": [
    "# Observe agora que não temos mais nenhum valor em branco\n",
    "df_dados.isnull().sum()"
   ]
  },
  {
   "cell_type": "code",
   "execution_count": null,
   "metadata": {},
   "outputs": [],
   "source": [
    "# Vamos avaliar novamente os tipos das variaveis\n",
    "df_dados.info()"
   ]
  },
  {
   "cell_type": "code",
   "execution_count": null,
   "metadata": {},
   "outputs": [],
   "source": [
    "# Agora iremos avaliar os outliers das colunas que são númericas\n",
    "# OUTLIERS são valores discrepantes que estão bem acima ou bem abaixo dos outros valores\n",
    "\n",
    "# Vamos carregar em uma lista as variaveis que são do tipo INT64 E FLOAT64\n",
    "variaveis_numericas = []\n",
    "for i in df_dados.columns[0:48].tolist():\n",
    "        if df_dados.dtypes[i] == 'int64' or df_dados.dtypes[i] == 'float64':            \n",
    "            print(i, ':' , df_dados.dtypes[i]) \n",
    "            variaveis_numericas.append(i)"
   ]
  },
  {
   "cell_type": "code",
   "execution_count": null,
   "metadata": {},
   "outputs": [],
   "source": [
    "# Vamos observar a lista de variáveis e avaliar se nestas variáveis temos outliers através de um boxplot\n",
    "variaveis_numericas"
   ]
  },
  {
   "cell_type": "code",
   "execution_count": null,
   "metadata": {},
   "outputs": [],
   "source": [
    "# Com este comando iremos exibir todos gráficos de todas colunas de uma vez só para facilitar nossa analise.\n",
    "\n",
    "# Aqui definimos o tamanho da tela para exibição dos gráficos\n",
    "plt.rcParams[\"figure.figsize\"] = [12.00, 14.00]\n",
    "plt.rcParams[\"figure.autolayout\"] = True\n",
    "\n",
    "# Aqui definimos em quantas linhas e colunas queremos exibir os gráficos\n",
    "f, axes = plt.subplots(3, 2) #3 linhas e 2 colunas\n",
    "\n",
    "linha = 0\n",
    "coluna = 0\n",
    "\n",
    "for i in variaveis_numericas:\n",
    "    sns.boxplot(data = df_dados, y=i, ax=axes[linha][coluna])\n",
    "    coluna += 1\n",
    "    if coluna == 2:\n",
    "        linha += 1\n",
    "        coluna = 0            \n",
    "\n",
    "plt.show()\n",
    "\n",
    "\n",
    "# Boxplots\n",
    "# Boxplot é utilizado para avaliar e comparar o formato, tendência central e variabilidade de distribuições de amostra, \n",
    "# e para procurar por outliers. Por padrão, um boxplot demonstra a mediana, os quartis, \n",
    "# o intervalo interquartil(IQR) e outliers para cada variável. \n",
    "\n",
    "# Outlier são valores que estão bem discrepantes dentro do conjunto de dados, podem ser para mais ou para menos. \n",
    "# Observe nos DOIS ULTIMOS boxplot que há os pontinhos acima das linhas. Esses valores são outliers"
   ]
  },
  {
   "cell_type": "code",
   "execution_count": null,
   "metadata": {},
   "outputs": [],
   "source": [
    "# Agora já sabemos que temos OUTLIERS nas variáveis CAVALOS e VALOR. Vamos olhar quais são esses outliers para avaliar\n",
    "# como iremos trata-los.\n",
    "\n",
    "# Como no boxplot acima mostra que o maior número de cavalos está em torno de 700, então iremos listar os casos acima de 700\n",
    "# Observe que após listarmos só temos um registro com OUTLIER.\n",
    "\n",
    "df_dados.loc[df_dados['CAVALOS'] > 700]"
   ]
  },
  {
   "cell_type": "code",
   "execution_count": null,
   "metadata": {},
   "outputs": [],
   "source": [
    "# Nesse exemplo vamos excluir o registro todo.\n",
    "df_dados.drop(df_dados.loc[df_dados['CAVALOS'] == 1800].index, inplace=True)"
   ]
  },
  {
   "cell_type": "code",
   "execution_count": null,
   "metadata": {},
   "outputs": [],
   "source": [
    "# Agora para a variavel VALOR vamos listar os valores maiores que 900.000\n",
    "# Observe que temos dois registros considerados outlier, ou seja, o valor está muito acima do normal.\n",
    "\n",
    "# Neste caso vamos substituir os valores pelo valor médio do modelo LAMBORGUINI.\n",
    "\n",
    "df_dados.loc[df_dados['VALOR'] > 900000]"
   ]
  },
  {
   "cell_type": "code",
   "execution_count": null,
   "metadata": {},
   "outputs": [],
   "source": [
    "# Vamos identificar o valor mediana do modelo LAMBORGUINI\n",
    "\n",
    "df_dados.loc[df_dados['MODELO'] == 'LABORGUINI'].median()"
   ]
  },
  {
   "cell_type": "code",
   "execution_count": null,
   "metadata": {},
   "outputs": [],
   "source": [
    "# Aqui atualizamos o valor conforme a mediana daquele modelo\n",
    "df_dados.loc[(df_dados['VALOR'] > 900000), 'VALOR'] = 900000"
   ]
  },
  {
   "cell_type": "code",
   "execution_count": null,
   "metadata": {},
   "outputs": [],
   "source": [
    "# Vamos avaliar novamente os boxplot e verificar se ficou algum OUTLIER\n",
    "# Observe que na coluna cavalos de potencia ainda possuem alguns OUTLIERS porém nesse caso, olhando para o modelos dos carros\n",
    "# podemos observar que realmente é a potencia deles. Nesse caso podemos mante-los.\n",
    "\n",
    "# Aqui definimos o tamanho da tela para exibição dos gráficos\n",
    "plt.rcParams[\"figure.figsize\"] = [12.00, 14.00]\n",
    "plt.rcParams[\"figure.autolayout\"] = True\n",
    "\n",
    "# Aqui definimos em quantas linhas e colunas queremos exibir os gráficos\n",
    "f, axes = plt.subplots(3, 2) #3 linhas e 2 colunas\n",
    "\n",
    "linha = 0\n",
    "coluna = 0\n",
    "\n",
    "for i in variaveis_numericas:\n",
    "    sns.boxplot(data = df_dados, y=i, ax=axes[linha][coluna])\n",
    "    coluna += 1\n",
    "    if coluna == 2:\n",
    "        linha += 1\n",
    "        coluna = 0            \n",
    "\n",
    "plt.show()"
   ]
  },
  {
   "cell_type": "code",
   "execution_count": null,
   "metadata": {},
   "outputs": [],
   "source": []
  },
  {
   "cell_type": "markdown",
   "metadata": {},
   "source": [
    "# Engenharia de Atributos\n",
    "<p> A engenharia de atributos em resumo utilizarmos uma variavel existente e extrairmos mais informações dessa variável, podendo gerar novas variáveis para analise a partir desta variável existente.<br>\n",
    "<p> No exemplo abaixo iremos utilizar a variavel DATA_VENDA e criar variaveis como Ano, Mês e Dia    "
   ]
  },
  {
   "cell_type": "code",
   "execution_count": null,
   "metadata": {},
   "outputs": [],
   "source": [
    "# Agora vamos tratar a variavel DATA_VENDA\n",
    "# Aqui iremos fazer um tratamento para transformar o campo para o tipo DATE e também incluirmos novas variáveis a partir da data\n",
    "# Vamos incluir as variaveis separadas, ANO, MES e DIA\n",
    "# Vamos também incluir a variavel DIA_SEMANA e avaliarmos qual dia da semana temos mais vendas.\n",
    "\n",
    "locale.setlocale(locale.LC_ALL, 'pt_BR.utf8')\n",
    "\n",
    "df_dados['DATA_VENDA'] =  pd.to_datetime(df_dados['DATA_VENDA'], format='%d/%m/%Y')\n",
    "df_dados['DATA_VENDA'] = df_dados['DATA_VENDA'].dt.date\n",
    "df_dados['ANO_VENDA'] = pd.DatetimeIndex(df_dados['DATA_VENDA']).year\n",
    "df_dados['MES_VENDA'] = pd.DatetimeIndex(df_dados['DATA_VENDA']).month\n",
    "df_dados['DIA_VENDA'] = pd.DatetimeIndex(df_dados['DATA_VENDA']).day\n",
    "df_dados['DIA_SEMANA_VENDA'] = pd.DatetimeIndex(df_dados['DATA_VENDA']).day_name(locale = 'pt_BR.utf8')\n",
    "\n",
    "\n",
    "plt.rcParams[\"figure.figsize\"] = [8.00, 8.00]\n",
    "plt.rcParams[\"figure.autolayout\"] = True\n",
    "df_dados.DIA_SEMANA_VENDA.value_counts().plot(kind='bar', title='Vendas Por Dia da Semana',color = ['#1F77B4', '#FF7F0E']);\n"
   ]
  },
  {
   "cell_type": "code",
   "execution_count": null,
   "metadata": {},
   "outputs": [],
   "source": [
    "# Também podemos observar as vendas por ano\n",
    "df_dados.ANO_VENDA.value_counts().plot(kind='bar', title='Vendas Por Ano',color = ['#1F77B4', '#FF7F0E']);"
   ]
  },
  {
   "cell_type": "code",
   "execution_count": null,
   "metadata": {},
   "outputs": [],
   "source": []
  },
  {
   "cell_type": "markdown",
   "metadata": {},
   "source": [
    "# Variaveis Dummys ou One Hot Encoding\n",
    "<p> Quando estamos fazendo o tratamento dos dados para criação de um modelo de Machine Learning ou IA precisamos deixar todos os dados como números.\n",
    "<p> Para este processo utilizamos variaveis Dummys ou também as conhecidas como One Hot Encoding"
   ]
  },
  {
   "cell_type": "code",
   "execution_count": null,
   "metadata": {},
   "outputs": [],
   "source": [
    "# Agora vou importar uma imagem para explicar o tratamento que iremos fazer das variaveis Dummys/One Hot Encoding\n",
    "from IPython.display import Image\n",
    "Image('exemplo.png')"
   ]
  },
  {
   "cell_type": "code",
   "execution_count": null,
   "metadata": {},
   "outputs": [],
   "source": [
    "# Antes de gerar as variaveis dummys/one hot encoding vamos excluir as variaveis que não precisaremos mais.\n",
    "# Neste caso vamos excluir a variavel DATA_VENDA, pois já geramos as variaveis separadas de ANO, MES e DIA\n",
    "df_dados.drop('DATA_VENDA', axis=1, inplace=True)"
   ]
  },
  {
   "cell_type": "code",
   "execution_count": null,
   "metadata": {},
   "outputs": [],
   "source": [
    "# Convert os campos categoricos para ONE HOT ENCODING\n",
    "# A imagem abaixo explica de forma simples esse tratamento\n",
    "\n",
    "df_dados = pd.get_dummies(df_dados)"
   ]
  },
  {
   "cell_type": "code",
   "execution_count": null,
   "metadata": {},
   "outputs": [],
   "source": [
    "df_dados.head()"
   ]
  },
  {
   "cell_type": "code",
   "execution_count": null,
   "metadata": {},
   "outputs": [],
   "source": [
    "# Pronto, agora já temos nosso conjunto de dados tratados.\n",
    "# Vamos salvar esse conjunto de dados com todos tratamentos.\n",
    "df_dados.to_excel('dados_com_tratamento.xlsx', index = False)"
   ]
  },
  {
   "cell_type": "code",
   "execution_count": null,
   "metadata": {},
   "outputs": [],
   "source": []
  },
  {
   "cell_type": "code",
   "execution_count": null,
   "metadata": {},
   "outputs": [],
   "source": []
  }
 ],
 "metadata": {
  "kernelspec": {
   "display_name": "Python 3 (ipykernel)",
   "language": "python",
   "name": "python3"
  },
  "language_info": {
   "codemirror_mode": {
    "name": "ipython",
    "version": 3
   },
   "file_extension": ".py",
   "mimetype": "text/x-python",
   "name": "python",
   "nbconvert_exporter": "python",
   "pygments_lexer": "ipython3",
   "version": "3.11.5"
  }
 },
 "nbformat": 4,
 "nbformat_minor": 4
}
